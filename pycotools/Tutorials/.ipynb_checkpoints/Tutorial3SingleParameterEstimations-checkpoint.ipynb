{
 "cells": [
  {
   "cell_type": "markdown",
   "metadata": {},
   "source": [
    "# Parameter Estimation\n",
    "\n",
    "Users can:\n",
    "    \n",
    "    - Set which parameters to estimate\n",
    "    - Set boundaries of optimization problem\n",
    "    - Choose algorithm and set algorithm specific parameters\n",
    "    - Configure report options (which parameters to include, name, append etc.)\n",
    "    - Map arbitrary number of data files to fit at once\n",
    "    - Choose between time course or steady state\n",
    "      \n",
    "\n",
    "To do:\n",
    "\n",
    "    - Support for affected experiments section\n",
    "    - Support for validation experiments\n",
    "\n",
    "\n",
    "\n",
    "## Imports and Getting Test Model"
   ]
  },
  {
   "cell_type": "code",
   "execution_count": 1,
   "metadata": {
    "ExecuteTime": {
     "end_time": "2017-09-30T21:02:32.076547Z",
     "start_time": "2017-09-30T21:02:31.425757Z"
    },
    "run_control": {
     "marked": true
    }
   },
   "outputs": [
    {
     "name": "stdout",
     "output_type": "stream",
     "text": [
      "root:INFO:27:    Initializing pycotools\n",
      "root:INFO:28:    Initializing logging System\n",
      "root:INFO:29:    logging config file at: //home/b3053674/Documents/pycotools/pycotools/logging_config.conf\n"
     ]
    }
   ],
   "source": [
    "%matplotlib inline\n",
    "import site\n",
    "site.addsitedir('//home/b3053674/Documents/pycotools')\n",
    "from pycotools import model, tasks, viz, misc\n",
    "from pycotools.Tests import test_models\n",
    "import os\n",
    "import pandas\n",
    "from lxml import etree\n",
    "\n",
    "\n",
    "import logging\n",
    "logging.basicConfig(format = '%(levelname)s:%(message)s')\n",
    "LOG=logging.getLogger()\n",
    "\n",
    "## get string model from test_models\n",
    "zi_model_string = test_models.TestModels().zi_model()\n",
    "\n",
    "## get a working directory. Change this to change this to wherever you like\n",
    "directory = r'/home/b3053674/Documents/pycotools/ZiModel'\n",
    "\n",
    "## choose path to zi model\n",
    "zi_path = os.path.join(directory, 'zi2012.cps')\n",
    "\n",
    "##write model to file\n",
    "with open(zi_path, 'w') as f:\n",
    "    f.write(zi_model_string)\n",
    "    \n",
    "## check file exists\n",
    "if not os.path.isfile(zi_path):\n",
    "    raise Exception\n",
    "\n",
    "zi = model.Model(zi_path)"
   ]
  },
  {
   "cell_type": "markdown",
   "metadata": {},
   "source": [
    "## Simulate Synthetic Data for Demonstration"
   ]
  },
  {
   "cell_type": "code",
   "execution_count": 2,
   "metadata": {
    "ExecuteTime": {
     "end_time": "2017-09-30T21:02:32.415178Z",
     "start_time": "2017-09-30T21:02:32.078472Z"
    },
    "scrolled": false
   },
   "outputs": [
    {
     "data": {
      "text/html": [
       "<div>\n",
       "<table border=\"1\" class=\"dataframe\">\n",
       "  <thead>\n",
       "    <tr style=\"text-align: right;\">\n",
       "      <th></th>\n",
       "      <th>Time</th>\n",
       "      <th>[Smad3n]</th>\n",
       "      <th>[Smad3c]</th>\n",
       "      <th>[Smad4n]</th>\n",
       "      <th>[Smad4c]</th>\n",
       "      <th>[T1R_Surf]</th>\n",
       "      <th>[T2R_Cave]</th>\n",
       "      <th>[T2R_Surf]</th>\n",
       "      <th>[Smads_Complex_n]</th>\n",
       "      <th>[T1R_EE]</th>\n",
       "      <th>...</th>\n",
       "      <th>Values[Kcd]</th>\n",
       "      <th>Values[kr_Cave]</th>\n",
       "      <th>Values[ki_Cave]</th>\n",
       "      <th>Values[Kexp_Smad4n]</th>\n",
       "      <th>Values[Kdiss_Smads_Complex_n]</th>\n",
       "      <th>Values[Kimp_Smad2c]</th>\n",
       "      <th>Values[Kimp_Smads_Complex_c]</th>\n",
       "      <th>Values[Kimp_Smad4c]</th>\n",
       "      <th>Values[Kdeg_T2R_EE]</th>\n",
       "      <th>Values[k_Smads_Complex_c]</th>\n",
       "    </tr>\n",
       "  </thead>\n",
       "  <tbody>\n",
       "    <tr>\n",
       "      <th>0</th>\n",
       "      <td>0</td>\n",
       "      <td>236.450</td>\n",
       "      <td>492.610</td>\n",
       "      <td>551.720</td>\n",
       "      <td>1149.40</td>\n",
       "      <td>0.237000</td>\n",
       "      <td>1.77800</td>\n",
       "      <td>0.202000</td>\n",
       "      <td>0.000000</td>\n",
       "      <td>2.06000</td>\n",
       "      <td>...</td>\n",
       "      <td>0.005</td>\n",
       "      <td>0.03742</td>\n",
       "      <td>0.33</td>\n",
       "      <td>0.5</td>\n",
       "      <td>0.1174</td>\n",
       "      <td>0.16</td>\n",
       "      <td>0.16</td>\n",
       "      <td>0.08</td>\n",
       "      <td>0.025</td>\n",
       "      <td>0.000069</td>\n",
       "    </tr>\n",
       "    <tr>\n",
       "      <th>1</th>\n",
       "      <td>1</td>\n",
       "      <td>236.324</td>\n",
       "      <td>491.559</td>\n",
       "      <td>551.647</td>\n",
       "      <td>1148.33</td>\n",
       "      <td>0.049448</td>\n",
       "      <td>1.71974</td>\n",
       "      <td>0.014197</td>\n",
       "      <td>0.158774</td>\n",
       "      <td>2.00160</td>\n",
       "      <td>...</td>\n",
       "      <td>0.005</td>\n",
       "      <td>0.03742</td>\n",
       "      <td>0.33</td>\n",
       "      <td>0.5</td>\n",
       "      <td>0.1174</td>\n",
       "      <td>0.16</td>\n",
       "      <td>0.16</td>\n",
       "      <td>0.08</td>\n",
       "      <td>0.025</td>\n",
       "      <td>0.000069</td>\n",
       "    </tr>\n",
       "    <tr>\n",
       "      <th>2</th>\n",
       "      <td>2</td>\n",
       "      <td>235.634</td>\n",
       "      <td>488.437</td>\n",
       "      <td>551.232</td>\n",
       "      <td>1145.12</td>\n",
       "      <td>0.049259</td>\n",
       "      <td>1.66112</td>\n",
       "      <td>0.013911</td>\n",
       "      <td>1.237870</td>\n",
       "      <td>1.94295</td>\n",
       "      <td>...</td>\n",
       "      <td>0.005</td>\n",
       "      <td>0.03742</td>\n",
       "      <td>0.33</td>\n",
       "      <td>0.5</td>\n",
       "      <td>0.1174</td>\n",
       "      <td>0.16</td>\n",
       "      <td>0.16</td>\n",
       "      <td>0.08</td>\n",
       "      <td>0.025</td>\n",
       "      <td>0.000069</td>\n",
       "    </tr>\n",
       "    <tr>\n",
       "      <th>3</th>\n",
       "      <td>3</td>\n",
       "      <td>234.251</td>\n",
       "      <td>483.497</td>\n",
       "      <td>550.352</td>\n",
       "      <td>1140.01</td>\n",
       "      <td>0.049080</td>\n",
       "      <td>1.60458</td>\n",
       "      <td>0.013739</td>\n",
       "      <td>3.918690</td>\n",
       "      <td>1.88642</td>\n",
       "      <td>...</td>\n",
       "      <td>0.005</td>\n",
       "      <td>0.03742</td>\n",
       "      <td>0.33</td>\n",
       "      <td>0.5</td>\n",
       "      <td>0.1174</td>\n",
       "      <td>0.16</td>\n",
       "      <td>0.16</td>\n",
       "      <td>0.08</td>\n",
       "      <td>0.025</td>\n",
       "      <td>0.000069</td>\n",
       "    </tr>\n",
       "    <tr>\n",
       "      <th>4</th>\n",
       "      <td>4</td>\n",
       "      <td>232.245</td>\n",
       "      <td>476.990</td>\n",
       "      <td>549.029</td>\n",
       "      <td>1133.28</td>\n",
       "      <td>0.048849</td>\n",
       "      <td>1.55008</td>\n",
       "      <td>0.013592</td>\n",
       "      <td>8.613160</td>\n",
       "      <td>1.83194</td>\n",
       "      <td>...</td>\n",
       "      <td>0.005</td>\n",
       "      <td>0.03742</td>\n",
       "      <td>0.33</td>\n",
       "      <td>0.5</td>\n",
       "      <td>0.1174</td>\n",
       "      <td>0.16</td>\n",
       "      <td>0.16</td>\n",
       "      <td>0.08</td>\n",
       "      <td>0.025</td>\n",
       "      <td>0.000069</td>\n",
       "    </tr>\n",
       "  </tbody>\n",
       "</table>\n",
       "<p>5 rows × 37 columns</p>\n",
       "</div>"
      ],
      "text/plain": [
       "   Time  [Smad3n]  [Smad3c]  [Smad4n]  [Smad4c]  [T1R_Surf]  [T2R_Cave]  \\\n",
       "0     0   236.450   492.610   551.720   1149.40    0.237000     1.77800   \n",
       "1     1   236.324   491.559   551.647   1148.33    0.049448     1.71974   \n",
       "2     2   235.634   488.437   551.232   1145.12    0.049259     1.66112   \n",
       "3     3   234.251   483.497   550.352   1140.01    0.049080     1.60458   \n",
       "4     4   232.245   476.990   549.029   1133.28    0.048849     1.55008   \n",
       "\n",
       "   [T2R_Surf]  [Smads_Complex_n]  [T1R_EE]            ...              \\\n",
       "0    0.202000           0.000000   2.06000            ...               \n",
       "1    0.014197           0.158774   2.00160            ...               \n",
       "2    0.013911           1.237870   1.94295            ...               \n",
       "3    0.013739           3.918690   1.88642            ...               \n",
       "4    0.013592           8.613160   1.83194            ...               \n",
       "\n",
       "   Values[Kcd]  Values[kr_Cave]  Values[ki_Cave]  Values[Kexp_Smad4n]  \\\n",
       "0        0.005          0.03742             0.33                  0.5   \n",
       "1        0.005          0.03742             0.33                  0.5   \n",
       "2        0.005          0.03742             0.33                  0.5   \n",
       "3        0.005          0.03742             0.33                  0.5   \n",
       "4        0.005          0.03742             0.33                  0.5   \n",
       "\n",
       "   Values[Kdiss_Smads_Complex_n]  Values[Kimp_Smad2c]  \\\n",
       "0                         0.1174                 0.16   \n",
       "1                         0.1174                 0.16   \n",
       "2                         0.1174                 0.16   \n",
       "3                         0.1174                 0.16   \n",
       "4                         0.1174                 0.16   \n",
       "\n",
       "   Values[Kimp_Smads_Complex_c]  Values[Kimp_Smad4c]  Values[Kdeg_T2R_EE]  \\\n",
       "0                          0.16                 0.08                0.025   \n",
       "1                          0.16                 0.08                0.025   \n",
       "2                          0.16                 0.08                0.025   \n",
       "3                          0.16                 0.08                0.025   \n",
       "4                          0.16                 0.08                0.025   \n",
       "\n",
       "   Values[k_Smads_Complex_c]  \n",
       "0                   0.000069  \n",
       "1                   0.000069  \n",
       "2                   0.000069  \n",
       "3                   0.000069  \n",
       "4                   0.000069  \n",
       "\n",
       "[5 rows x 37 columns]"
      ]
     },
     "execution_count": 2,
     "metadata": {},
     "output_type": "execute_result"
    }
   ],
   "source": [
    "report= 'parameter_estimation_synthetic_data.txt'\n",
    "TC=tasks.TimeCourse(\n",
    "    zi, start=0, end=1000, intervals=1000, step_size=1, report_name=report\n",
    ")\n",
    "\n",
    "## validate that its worked\n",
    "pandas.read_csv(TC.report_name,sep='\\t').head()"
   ]
  },
  {
   "cell_type": "markdown",
   "metadata": {},
   "source": [
    "## Formate Synthetic Data\n",
    "Give fake data a meaningful name"
   ]
  },
  {
   "cell_type": "code",
   "execution_count": 3,
   "metadata": {
    "ExecuteTime": {
     "end_time": "2017-09-30T21:02:32.419741Z",
     "start_time": "2017-09-30T21:02:32.417134Z"
    },
    "collapsed": true
   },
   "outputs": [],
   "source": [
    "data1 = TC.report_name"
   ]
  },
  {
   "cell_type": "code",
   "execution_count": null,
   "metadata": {
    "collapsed": true
   },
   "outputs": [],
   "source": []
  },
  {
   "cell_type": "code",
   "execution_count": null,
   "metadata": {
    "collapsed": true
   },
   "outputs": [],
   "source": [
    "misc.correct_copasi_timecourse_headers(data1)"
   ]
  },
  {
   "cell_type": "markdown",
   "metadata": {},
   "source": [
    "## Parameter Estimation Data Files\n",
    "Rules to follow:\n",
    "\n",
    "    - Column headings must match model variables exactly in order to be mapped. \n",
    "    - Independant variables can be mapped by appending the suffix `_indep` to the variable.\n",
    "        - For example, if you vary the concentration of A between 0 and 10ng/mL in an experiment:\n",
    "        \n",
    "                Time A_indep  B   C\n",
    "                t=1   0       -   - \n",
    "                t=2   0           -\n",
    "                t=3  10           -\n",
    "                t=4  10       -   -\n",
    "    - Do not use non-asci strings (i.e. greek alpha or beta) in parameter definitions. They are minimally supported but this is unstable. \n",
    "    \n",
    " "
   ]
  },
  {
   "cell_type": "markdown",
   "metadata": {},
   "source": [
    "# Setup and run single parameter estimation \n",
    "\n",
    "Method outline:\n",
    "\n",
    "    1) Instantiate ParameterEstimation instance with model and data filenames\n",
    "        - Ensure optional arguments are specified to the ParameterEstimation class\n",
    "    2) Use `write_config_template()` method to write and configure a parameter estimation config file.\n",
    "    2) Use `setup()` method\n",
    "    3) Use `run()` method\n",
    "    4) Use `format_results()` method (to give output results meaningful headers)"
   ]
  },
  {
   "cell_type": "markdown",
   "metadata": {},
   "source": [
    "## Use HookeJeeves algorithm"
   ]
  },
  {
   "cell_type": "code",
   "execution_count": 4,
   "metadata": {
    "ExecuteTime": {
     "end_time": "2017-09-30T21:02:32.499080Z",
     "start_time": "2017-09-30T21:02:32.421774Z"
    }
   },
   "outputs": [],
   "source": [
    "PE=tasks.ParameterEstimation(zi, data1, method='hooke_jeeves')"
   ]
  },
  {
   "cell_type": "markdown",
   "metadata": {
    "ExecuteTime": {
     "end_time": "2017-09-30T14:56:57.686029Z",
     "start_time": "2017-09-30T14:56:57.682376Z"
    }
   },
   "source": [
    "## Use particle swarm algorithm"
   ]
  },
  {
   "cell_type": "code",
   "execution_count": 5,
   "metadata": {
    "ExecuteTime": {
     "end_time": "2017-09-30T21:02:32.640792Z",
     "start_time": "2017-09-30T21:02:32.501109Z"
    }
   },
   "outputs": [],
   "source": [
    "PE=tasks.ParameterEstimation(zi,data1, method='particle_swarm')"
   ]
  },
  {
   "cell_type": "markdown",
   "metadata": {},
   "source": [
    "## Use genetic algorithm"
   ]
  },
  {
   "cell_type": "code",
   "execution_count": 6,
   "metadata": {
    "ExecuteTime": {
     "end_time": "2017-09-30T21:02:36.981521Z",
     "start_time": "2017-09-30T21:02:36.975610Z"
    }
   },
   "outputs": [],
   "source": [
    "## Set getetic algorithm parameters to low for speed of demonstration\n",
    "PE=tasks.ParameterEstimation(zi, data1, method='genetic_algorithm', \n",
    "                             population_size=15, number_of_generations=10)"
   ]
  },
  {
   "cell_type": "markdown",
   "metadata": {},
   "source": [
    "## Write and configure item template"
   ]
  },
  {
   "cell_type": "code",
   "execution_count": 7,
   "metadata": {
    "ExecuteTime": {
     "end_time": "2017-09-30T21:02:40.872535Z",
     "start_time": "2017-09-30T21:02:40.671198Z"
    },
    "scrolled": true
   },
   "outputs": [
    {
     "data": {
      "text/plain": [
       "True"
      ]
     },
     "execution_count": 7,
     "metadata": {},
     "output_type": "execute_result"
    }
   ],
   "source": [
    "PE.write_config_file()\n",
    "os.path.isfile(PE.config_filename)"
   ]
  },
  {
   "cell_type": "markdown",
   "metadata": {},
   "source": [
    "### Configure manually\n",
    "Now you can go to where the file was saved and modify it how you like.\n",
    "\n",
    "    - Delete rows with parameters you want not to be included in estimation\n",
    "    - Change starting values, lower bounds and upper bounds\n",
    "        - If you set start values, remember to set the randomize_start_values variable to False as it defaults to True\n",
    "\n",
    "This is a useful way of running parameter estimations as it provides a record of how you've configured parameter estimations. \n",
    "\n",
    "### Configure with API\n",
    "The `metabolites`, `global_parameters` and `local_parameters` arguments tell Pycotools which parameters to include in the config file. By default all model parameters are included but these can be overridden by giving our own lists. \n",
    "\n",
    "For example, here we set `metabolites` and `globl_quantities` to empty lists to specify that we do not want to include them in the estimation process. We can also use the `upper_bound` and `lower_bound` arguments to constrain the estimation problem. An argument can also be given to `start_value` but parameter estimation is usually better performed multiple times with randomized start values (or with latin hypercube sampling but this is not supported here)."
   ]
  },
  {
   "cell_type": "code",
   "execution_count": 9,
   "metadata": {
    "ExecuteTime": {
     "end_time": "2017-09-30T21:06:19.874705Z",
     "start_time": "2017-09-30T21:06:19.866368Z"
    }
   },
   "outputs": [],
   "source": [
    "config_file = os.path.join(os.path.dirname(zi_path), 'Zi2002PEConfig.csv')\n",
    "PE = tasks.ParameterEstimation(\n",
    "    zi, data1, method='genetic_algorithm', population_size=15,\n",
    "    number_of_generations=10, metabolites=[], global_quantities=[],\n",
    "    lower_bound = 0.1, upper_bound = 100, config_filename = config_file)"
   ]
  },
  {
   "cell_type": "markdown",
   "metadata": {},
   "source": [
    "Here we've defined a config file with only kinetic parameters estimated between the boundaries of 0.1 and 100. "
   ]
  },
  {
   "cell_type": "code",
   "execution_count": 12,
   "metadata": {
    "ExecuteTime": {
     "end_time": "2017-09-30T21:08:37.073946Z",
     "start_time": "2017-09-30T21:08:37.061908Z"
    }
   },
   "outputs": [
    {
     "name": "stdout",
     "output_type": "stream",
     "text": [
      "True\n"
     ]
    },
    {
     "data": {
      "text/plain": [
       "'/home/b3053674/Documents/pycotools/ZiModel/Zi2002PEConfig.csv'"
      ]
     },
     "execution_count": 12,
     "metadata": {},
     "output_type": "execute_result"
    }
   ],
   "source": [
    "PE.write_config_file()\n",
    "\n",
    "## check that the config filename exists\n",
    "print (os.path.isfile(PE.config_filename))\n",
    "PE.config_filename"
   ]
  },
  {
   "cell_type": "markdown",
   "metadata": {},
   "source": [
    "## Setup and run parameter estimation"
   ]
  },
  {
   "cell_type": "code",
   "execution_count": 13,
   "metadata": {
    "ExecuteTime": {
     "end_time": "2017-09-30T21:08:45.394704Z",
     "start_time": "2017-09-30T21:08:45.267908Z"
    }
   },
   "outputs": [
    {
     "name": "stdout",
     "output_type": "stream",
     "text": [
      "pycotools.tasks:WARNING:2429:    [Smad3n] not found. Set to ignore\n",
      "pycotools.tasks:WARNING:2429:    [Smad3c] not found. Set to ignore\n",
      "pycotools.tasks:WARNING:2429:    [Smad4n] not found. Set to ignore\n",
      "pycotools.tasks:WARNING:2429:    [Smad4c] not found. Set to ignore\n",
      "pycotools.tasks:WARNING:2429:    [T1R_Surf] not found. Set to ignore\n",
      "pycotools.tasks:WARNING:2429:    [T2R_Cave] not found. Set to ignore\n",
      "pycotools.tasks:WARNING:2429:    [T2R_Surf] not found. Set to ignore\n",
      "pycotools.tasks:WARNING:2429:    [Smads_Complex_n] not found. Set to ignore\n",
      "pycotools.tasks:WARNING:2429:    [T1R_EE] not found. Set to ignore\n",
      "pycotools.tasks:WARNING:2429:    [T1R_Cave] not found. Set to ignore\n",
      "pycotools.tasks:WARNING:2429:    [TGF_beta] not found. Set to ignore\n",
      "pycotools.tasks:WARNING:2429:    [LRC_Cave] not found. Set to ignore\n",
      "pycotools.tasks:WARNING:2429:    [LRC_Surf] not found. Set to ignore\n",
      "pycotools.tasks:WARNING:2429:    [Smads_Complex_c] not found. Set to ignore\n",
      "pycotools.tasks:WARNING:2429:    [T2R_EE] not found. Set to ignore\n",
      "pycotools.tasks:WARNING:2429:    [LRC_EE] not found. Set to ignore\n",
      "pycotools.tasks:WARNING:2429:    Values[Kexp_Smad2n] not found. Set to ignore\n",
      "pycotools.tasks:WARNING:2429:    Values[Kdeg_T1R_EE] not found. Set to ignore\n",
      "pycotools.tasks:WARNING:2429:    Values[Klid] not found. Set to ignore\n",
      "pycotools.tasks:WARNING:2429:    Values[Total_Smad2c] not found. Set to ignore\n",
      "pycotools.tasks:WARNING:2429:    Values[Total_Smad2n] not found. Set to ignore\n",
      "pycotools.tasks:WARNING:2429:    Values[kr_EE] not found. Set to ignore\n",
      "pycotools.tasks:WARNING:2429:    Values[ki_EE] not found. Set to ignore\n",
      "pycotools.tasks:WARNING:2429:    Values[v_T2R] not found. Set to ignore\n",
      "pycotools.tasks:WARNING:2429:    Values[v_T1R] not found. Set to ignore\n",
      "pycotools.tasks:WARNING:2429:    Values[k_LRC] not found. Set to ignore\n",
      "pycotools.tasks:WARNING:2429:    Values[Kcd] not found. Set to ignore\n",
      "pycotools.tasks:WARNING:2429:    Values[kr_Cave] not found. Set to ignore\n",
      "pycotools.tasks:WARNING:2429:    Values[ki_Cave] not found. Set to ignore\n",
      "pycotools.tasks:WARNING:2429:    Values[Kexp_Smad4n] not found. Set to ignore\n",
      "pycotools.tasks:WARNING:2429:    Values[Kdiss_Smads_Complex_n] not found. Set to ignore\n",
      "pycotools.tasks:WARNING:2429:    Values[Kimp_Smad2c] not found. Set to ignore\n",
      "pycotools.tasks:WARNING:2429:    Values[Kimp_Smads_Complex_c] not found. Set to ignore\n",
      "pycotools.tasks:WARNING:2429:    Values[Kimp_Smad4c] not found. Set to ignore\n",
      "pycotools.tasks:WARNING:2429:    Values[Kdeg_T2R_EE] not found. Set to ignore\n",
      "pycotools.tasks:WARNING:2429:    Values[k_Smads_Complex_c] not found. Set to ignore\n"
     ]
    },
    {
     "ename": "SomethingWentHorriblyWrongError",
     "evalue": "Kdeg_T1R_EE not a metabolite, local_parameter or global_quantity",
     "output_type": "error",
     "traceback": [
      "\u001b[0;31m---------------------------------------------------------------------------\u001b[0m",
      "\u001b[0;31mSomethingWentHorriblyWrongError\u001b[0m           Traceback (most recent call last)",
      "\u001b[0;32m<ipython-input-13-10a119bd4c2b>\u001b[0m in \u001b[0;36m<module>\u001b[0;34m()\u001b[0m\n\u001b[0;32m----> 1\u001b[0;31m \u001b[0mPE\u001b[0m\u001b[0;34m.\u001b[0m\u001b[0msetup\u001b[0m\u001b[0;34m(\u001b[0m\u001b[0;34m)\u001b[0m\u001b[0;34m\u001b[0m\u001b[0m\n\u001b[0m",
      "\u001b[0;32m//home/b3053674/Documents/pycotools/pycotools/tasks.pyc\u001b[0m in \u001b[0;36msetup\u001b[0;34m(self)\u001b[0m\n\u001b[1;32m   3157\u001b[0m         \u001b[0mself\u001b[0m\u001b[0;34m.\u001b[0m\u001b[0mmodel\u001b[0m\u001b[0;34m=\u001b[0m\u001b[0mself\u001b[0m\u001b[0;34m.\u001b[0m\u001b[0mset_PE_method\u001b[0m\u001b[0;34m(\u001b[0m\u001b[0;34m)\u001b[0m\u001b[0;34m\u001b[0m\u001b[0m\n\u001b[1;32m   3158\u001b[0m         \u001b[0mself\u001b[0m\u001b[0;34m.\u001b[0m\u001b[0mmodel\u001b[0m\u001b[0;34m=\u001b[0m\u001b[0mself\u001b[0m\u001b[0;34m.\u001b[0m\u001b[0mset_PE_options\u001b[0m\u001b[0;34m(\u001b[0m\u001b[0;34m)\u001b[0m\u001b[0;34m\u001b[0m\u001b[0m\n\u001b[0;32m-> 3159\u001b[0;31m         \u001b[0mself\u001b[0m\u001b[0;34m.\u001b[0m\u001b[0mmodel\u001b[0m\u001b[0;34m=\u001b[0m\u001b[0mself\u001b[0m\u001b[0;34m.\u001b[0m\u001b[0minsert_all_fit_items\u001b[0m\u001b[0;34m(\u001b[0m\u001b[0;34m)\u001b[0m\u001b[0;34m\u001b[0m\u001b[0m\n\u001b[0m\u001b[1;32m   3160\u001b[0m         \u001b[0;32massert\u001b[0m \u001b[0mself\u001b[0m\u001b[0;34m.\u001b[0m\u001b[0mmodel\u001b[0m \u001b[0;34m!=\u001b[0m \u001b[0mNone\u001b[0m\u001b[0;34m\u001b[0m\u001b[0m\n\u001b[1;32m   3161\u001b[0m         \u001b[0;32massert\u001b[0m \u001b[0misinstance\u001b[0m\u001b[0;34m(\u001b[0m\u001b[0mself\u001b[0m\u001b[0;34m.\u001b[0m\u001b[0mmodel\u001b[0m\u001b[0;34m,\u001b[0m \u001b[0mmodel\u001b[0m\u001b[0;34m.\u001b[0m\u001b[0mModel\u001b[0m\u001b[0;34m)\u001b[0m\u001b[0;34m\u001b[0m\u001b[0m\n",
      "\u001b[0;32m//home/b3053674/Documents/pycotools/pycotools/tasks.pyc\u001b[0m in \u001b[0;36minsert_all_fit_items\u001b[0;34m(self)\u001b[0m\n\u001b[1;32m   3615\u001b[0m             \u001b[0;32massert\u001b[0m \u001b[0mrow\u001b[0m \u001b[0;34m!=\u001b[0m \u001b[0;34m'nan'\u001b[0m\u001b[0;34m\u001b[0m\u001b[0m\n\u001b[1;32m   3616\u001b[0m             \u001b[0;31m## feed each item from the config file into add_fit_item\u001b[0m\u001b[0;34m\u001b[0m\u001b[0;34m\u001b[0m\u001b[0m\n\u001b[0;32m-> 3617\u001b[0;31m             \u001b[0mself\u001b[0m\u001b[0;34m.\u001b[0m\u001b[0mmodel\u001b[0m \u001b[0;34m=\u001b[0m \u001b[0mself\u001b[0m\u001b[0;34m.\u001b[0m\u001b[0madd_fit_item\u001b[0m\u001b[0;34m(\u001b[0m\u001b[0mself\u001b[0m\u001b[0;34m.\u001b[0m\u001b[0mread_config_file\u001b[0m\u001b[0;34m(\u001b[0m\u001b[0;34m)\u001b[0m\u001b[0;34m.\u001b[0m\u001b[0miloc\u001b[0m\u001b[0;34m[\u001b[0m\u001b[0mrow\u001b[0m\u001b[0;34m]\u001b[0m\u001b[0;34m)\u001b[0m\u001b[0;34m\u001b[0m\u001b[0m\n\u001b[0m\u001b[1;32m   3618\u001b[0m         \u001b[0;32mreturn\u001b[0m \u001b[0mself\u001b[0m\u001b[0;34m.\u001b[0m\u001b[0mmodel\u001b[0m\u001b[0;34m\u001b[0m\u001b[0m\n\u001b[1;32m   3619\u001b[0m \u001b[0;34m\u001b[0m\u001b[0m\n",
      "\u001b[0;32m//home/b3053674/Documents/pycotools/pycotools/tasks.pyc\u001b[0m in \u001b[0;36madd_fit_item\u001b[0;34m(self, item)\u001b[0m\n\u001b[1;32m   3534\u001b[0m             \u001b[0mcomponent\u001b[0m \u001b[0;34m=\u001b[0m \u001b[0;34m[\u001b[0m\u001b[0mi\u001b[0m \u001b[0;32mfor\u001b[0m \u001b[0mi\u001b[0m \u001b[0;32min\u001b[0m \u001b[0mself\u001b[0m\u001b[0;34m.\u001b[0m\u001b[0mglobal_quantities\u001b[0m \u001b[0;32mif\u001b[0m \u001b[0mi\u001b[0m\u001b[0;34m.\u001b[0m\u001b[0mname\u001b[0m \u001b[0;34m==\u001b[0m \u001b[0mitem\u001b[0m\u001b[0;34m[\u001b[0m\u001b[0;34m'name'\u001b[0m\u001b[0;34m]\u001b[0m\u001b[0;34m]\u001b[0m\u001b[0;34m[\u001b[0m\u001b[0;36m0\u001b[0m\u001b[0;34m]\u001b[0m\u001b[0;34m\u001b[0m\u001b[0m\n\u001b[1;32m   3535\u001b[0m         \u001b[0;32melse\u001b[0m\u001b[0;34m:\u001b[0m\u001b[0;34m\u001b[0m\u001b[0m\n\u001b[0;32m-> 3536\u001b[0;31m             \u001b[0;32mraise\u001b[0m \u001b[0merrors\u001b[0m\u001b[0;34m.\u001b[0m\u001b[0mSomethingWentHorriblyWrongError\u001b[0m\u001b[0;34m(\u001b[0m\u001b[0;34m'{} not a metabolite, local_parameter or global_quantity'\u001b[0m\u001b[0;34m.\u001b[0m\u001b[0mformat\u001b[0m\u001b[0;34m(\u001b[0m\u001b[0mitem\u001b[0m\u001b[0;34m[\u001b[0m\u001b[0;34m'name'\u001b[0m\u001b[0;34m]\u001b[0m\u001b[0;34m)\u001b[0m\u001b[0;34m)\u001b[0m\u001b[0;34m\u001b[0m\u001b[0m\n\u001b[0m\u001b[1;32m   3537\u001b[0m \u001b[0;34m\u001b[0m\u001b[0m\n\u001b[1;32m   3538\u001b[0m         \u001b[0;31m#initialize new element\u001b[0m\u001b[0;34m\u001b[0m\u001b[0;34m\u001b[0m\u001b[0m\n",
      "\u001b[0;31mSomethingWentHorriblyWrongError\u001b[0m: Kdeg_T1R_EE not a metabolite, local_parameter or global_quantity"
     ]
    }
   ],
   "source": [
    "PE.setup()"
   ]
  },
  {
   "cell_type": "markdown",
   "metadata": {},
   "source": [
    "It can sometime be helpful to open the GUI and manually check that you' set all the options currectly. Run the next cell to open the model:"
   ]
  },
  {
   "cell_type": "code",
   "execution_count": null,
   "metadata": {},
   "outputs": [],
   "source": [
    "import os\n",
    "os.system('CopasiUI {}'.format(kholodenko_model))\n",
    "##  remember to close the model before continuing"
   ]
  },
  {
   "cell_type": "markdown",
   "metadata": {},
   "source": [
    "## Run with CopasiSE"
   ]
  },
  {
   "cell_type": "code",
   "execution_count": null,
   "metadata": {
    "ExecuteTime": {
     "end_time": "2017-07-30T20:30:06.049865Z",
     "start_time": "2017-07-30T20:30:04.530317Z"
    }
   },
   "outputs": [],
   "source": [
    "PE.run() # will take some time depending on arguments to ParameterEstimation"
   ]
  },
  {
   "cell_type": "code",
   "execution_count": null,
   "metadata": {
    "ExecuteTime": {
     "end_time": "2017-07-30T20:39:47.481356Z",
     "start_time": "2017-07-30T20:39:47.462737Z"
    }
   },
   "outputs": [],
   "source": [
    "## lets take a look at the parameter estimation results\n",
    "pe_data= pandas.read_csv(PE.kwargs['report_name'],sep='\\t') \n",
    "\n",
    "LOG.info( 'These are your estimated parameters:\\n\\n{}'.format(pe_data.transpose())  )"
   ]
  },
  {
   "cell_type": "markdown",
   "metadata": {},
   "source": [
    "## Multiple Data Files\n",
    "\n",
    "### Change a parameter value  \n",
    "PyCoTools can easily handle multiple data files by giving `ParameterEsimation` a list of data file paths. Lets simulate some more data.\n",
    "\n",
    "Lets first change a model parameter so both sets of simulated data are not identical:"
   ]
  },
  {
   "cell_type": "code",
   "execution_count": null,
   "metadata": {
    "ExecuteTime": {
     "end_time": "2017-07-30T20:52:35.354006Z",
     "start_time": "2017-07-30T20:52:34.773789Z"
    }
   },
   "outputs": [],
   "source": [
    "## Original value of Mek1-PP at time 0 is 10 \n",
    "# #Use InsertParameters to change it to 20\n",
    "I=PyCoTools.pycopi.InsertParameters(kholodenko_model,parameter_dict={'(MAPKKK activation).V1':45})\n",
    "\n",
    "## Set to True for manual check\n",
    "manual_check = False\n",
    "if manual_check:\n",
    "    os.system('CopasiUI {}'.format(kholodenko_model))"
   ]
  },
  {
   "cell_type": "markdown",
   "metadata": {},
   "source": [
    "### Simulate second time course"
   ]
  },
  {
   "cell_type": "code",
   "execution_count": null,
   "metadata": {
    "ExecuteTime": {
     "end_time": "2017-07-30T20:52:51.932480Z",
     "start_time": "2017-07-30T20:52:44.749590Z"
    },
    "scrolled": true
   },
   "outputs": [],
   "source": [
    "report= 'parameter_estimation_synthetic_data2.txt'\n",
    "TC=PyCoTools.pycopi.TimeCourse(kholodenko_model,\n",
    "                               end=1000,\n",
    "                               intervals=10,\n",
    "                               step_size=100,\n",
    "                               report_name = report,\n",
    "                               plot=True)\n",
    "\n",
    "\n",
    "## Give fake data a meaningful name\n",
    "data2 = TC['report_name']"
   ]
  },
  {
   "cell_type": "markdown",
   "metadata": {},
   "source": [
    "## Setup parameter estimation with two data files\n",
    "Pass a list of properly configured COPASI data files rather than a single string. "
   ]
  },
  {
   "cell_type": "code",
   "execution_count": null,
   "metadata": {
    "ExecuteTime": {
     "end_time": "2017-07-30T21:06:35.302149Z",
     "start_time": "2017-07-30T21:03:21.084Z"
    }
   },
   "outputs": [],
   "source": [
    "report = 'parameter_estimation_data2.txt'\n",
    "config_file = os.path.join(os.path.dirname(kholodenko_model), 'kholodenko_config_file2.xlsx')\n",
    "PE=PyCoTools.pycopi.ParameterEstimation(kholodenko_model,[data1,data2],method='GeneticAlgorithm',\n",
    "                       population_size = 5,number_of_generations= 20,report_name = report,\n",
    "                       metabolites=[], global_quantities=[], lower_bound=0.1, \n",
    "                      upper_bound=100, config_filename=config_file)\n",
    "PE.write_config_template()\n",
    "PE.setup()\n",
    "PE.run()\n",
    "PE.format_results()"
   ]
  },
  {
   "cell_type": "markdown",
   "metadata": {},
   "source": [
    "### Check the parameter estimation data:"
   ]
  },
  {
   "cell_type": "code",
   "execution_count": null,
   "metadata": {
    "ExecuteTime": {
     "end_time": "2017-07-30T21:06:35.310519Z",
     "start_time": "2017-07-30T21:03:34.360Z"
    }
   },
   "outputs": [],
   "source": [
    "df = pandas.read_csv(PE['report_name'],sep='\\t').transpose()\n",
    "LOG.info('Estimated parameters are:\\n{}'.format(df)) "
   ]
  },
  {
   "cell_type": "markdown",
   "metadata": {},
   "source": [
    "# Visualization \n",
    "Use the `Plot` keyword to visualize the data"
   ]
  },
  {
   "cell_type": "code",
   "execution_count": null,
   "metadata": {
    "ExecuteTime": {
     "end_time": "2017-07-30T21:01:34.841493Z",
     "start_time": "2017-07-30T21:01:34.828546Z"
    }
   },
   "outputs": [],
   "source": [
    "from PyCoTools.pycopi import ParameterEstimation \n",
    "\n",
    "report = 'parameter_estimation_data2.txt'\n",
    "config_file = os.path.join(os.path.dirname(kholodenko_model), 'kholodenko_config_file3.xlsx')\n",
    "PE=ParameterEstimation(kholodenko_model,[data1,data2],method='GeneticAlgorithm',\n",
    "                       population_size = 50,number_of_generations= 300,report_name = report,\n",
    "                       metabolites=[], global_quantities=[], lower_bound=0.1, \n",
    "                       upper_bound=100, config_filename=config_file, plot=True)\n",
    "PE.write_config_template()\n",
    "PE.setup()\n",
    "PE.run()\n",
    "PE.format_results()"
   ]
  },
  {
   "cell_type": "markdown",
   "metadata": {},
   "source": [
    "## Insert the parameters and simulate\n",
    "Insert the estimated parameters into the model for further analysis"
   ]
  },
  {
   "cell_type": "code",
   "execution_count": null,
   "metadata": {
    "scrolled": true
   },
   "outputs": [],
   "source": [
    "pe_data = pandas.read_csv(report,sep='\\t')\n",
    "\n",
    "PyCoTools.pycopi.InsertParameters(kholodenko_model,parameter_path = pe_data['report_name'],\n",
    "                                  index = 0)\n",
    "\n",
    "os.system('CopasiUI {}'.format(kholodenko_model))\n",
    "\n"
   ]
  }
 ],
 "metadata": {
  "hide_input": false,
  "kernelspec": {
   "display_name": "Python [default]",
   "language": "python",
   "name": "python2"
  },
  "language_info": {
   "codemirror_mode": {
    "name": "ipython",
    "version": 2
   },
   "file_extension": ".py",
   "mimetype": "text/x-python",
   "name": "python",
   "nbconvert_exporter": "python",
   "pygments_lexer": "ipython2",
   "version": "2.7.13"
  },
  "latex_envs": {
   "LaTeX_envs_menu_present": true,
   "autocomplete": true,
   "bibliofile": "biblio.bib",
   "cite_by": "apalike",
   "current_citInitial": 1,
   "eqLabelWithNumbers": true,
   "eqNumInitial": 1,
   "hotkeys": {
    "equation": "Ctrl-E",
    "itemize": "Ctrl-I"
   },
   "labels_anchors": false,
   "latex_user_defs": false,
   "report_style_numbering": false,
   "user_envs_cfg": false
  },
  "toc": {
   "colors": {
    "hover_highlight": "#DAA520",
    "navigate_num": "#000000",
    "navigate_text": "#333333",
    "running_highlight": "#FF0000",
    "selected_highlight": "#FFD700",
    "sidebar_border": "#EEEEEE",
    "wrapper_background": "#FFFFFF"
   },
   "moveMenuLeft": true,
   "nav_menu": {
    "height": "94px",
    "width": "252px"
   },
   "navigate_menu": true,
   "number_sections": true,
   "sideBar": true,
   "threshold": 4,
   "toc_cell": false,
   "toc_section_display": "block",
   "toc_window_display": true,
   "widenNotebook": false
  },
  "varInspector": {
   "cols": {
    "lenName": 16,
    "lenType": 16,
    "lenVar": 40
   },
   "kernels_config": {
    "python": {
     "delete_cmd_postfix": "",
     "delete_cmd_prefix": "del ",
     "library": "var_list.py",
     "varRefreshCmd": "print(var_dic_list())"
    },
    "r": {
     "delete_cmd_postfix": ") ",
     "delete_cmd_prefix": "rm(",
     "library": "var_list.r",
     "varRefreshCmd": "cat(var_dic_list()) "
    }
   },
   "types_to_exclude": [
    "module",
    "function",
    "builtin_function_or_method",
    "instance",
    "_Feature"
   ],
   "window_display": false
  }
 },
 "nbformat": 4,
 "nbformat_minor": 2
}
