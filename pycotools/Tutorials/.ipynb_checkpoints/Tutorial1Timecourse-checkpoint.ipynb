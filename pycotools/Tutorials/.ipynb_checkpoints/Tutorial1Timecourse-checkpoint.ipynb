{
 "cells": [
  {
   "cell_type": "markdown",
   "metadata": {},
   "source": [
    "# TimeCourse\n",
    "\n",
    " \n",
    "\n",
    "## Imports and Getting the Test Model"
   ]
  },
  {
   "cell_type": "code",
   "execution_count": 1,
   "metadata": {
    "ExecuteTime": {
     "end_time": "2017-09-30T14:25:57.817305Z",
     "start_time": "2017-09-30T14:25:57.151398Z"
    }
   },
   "outputs": [
    {
     "name": "stdout",
     "output_type": "stream",
     "text": [
      "root:INFO:27:    Initializing pycotools\n",
      "root:INFO:28:    Initializing logging System\n",
      "root:INFO:29:    logging config file at: //home/b3053674/Documents/pycotools/pycotools/logging_config.conf\n"
     ]
    }
   ],
   "source": [
    "%matplotlib inline\n",
    "import site\n",
    "site.addsitedir('//home/b3053674/Documents/pycotools')\n",
    "from pycotools import model, tasks, viz\n",
    "from pycotools.Tests import test_models\n",
    "import os\n",
    "import pandas\n",
    "from lxml import etree\n",
    "\n",
    "\n",
    "import logging\n",
    "logging.basicConfig(format = '%(levelname)s:%(message)s')\n",
    "LOG=logging.getLogger()\n",
    "\n",
    "## get string model from test_models\n",
    "zi_model_string = test_models.TestModels().zi_model()\n",
    "\n",
    "## get a working directory. Change this to change this to wherever you like\n",
    "directory = r'/home/b3053674/Documents/pycotools/ZiModel'\n",
    "\n",
    "## choose path to zi model\n",
    "zi_path = os.path.join(directory, 'zi2012.cps')\n",
    "\n",
    "##write model to file\n",
    "with open(zi_path, 'w') as f:\n",
    "    f.write(zi_model_string)\n",
    "    \n",
    "## check file exists\n",
    "if not os.path.isfile(zi_path):\n",
    "    raise Exception\n",
    "\n",
    "zi = model.Model(zi_path)"
   ]
  },
  {
   "cell_type": "markdown",
   "metadata": {},
   "source": [
    "## Deterministic Time Course\n",
    "### Run a deterministic time course"
   ]
  },
  {
   "cell_type": "code",
   "execution_count": 6,
   "metadata": {
    "ExecuteTime": {
     "end_time": "2017-09-30T14:32:07.681092Z",
     "start_time": "2017-09-30T14:32:07.458050Z"
    },
    "scrolled": true
   },
   "outputs": [
    {
     "data": {
      "text/html": [
       "<div>\n",
       "<table border=\"1\" class=\"dataframe\">\n",
       "  <thead>\n",
       "    <tr style=\"text-align: right;\">\n",
       "      <th></th>\n",
       "      <th>Time</th>\n",
       "      <th>[Smad3n]</th>\n",
       "      <th>[Smad3c]</th>\n",
       "      <th>[Smad4n]</th>\n",
       "      <th>[Smad4c]</th>\n",
       "      <th>[T1R_Surf]</th>\n",
       "      <th>[T2R_Cave]</th>\n",
       "      <th>[T2R_Surf]</th>\n",
       "      <th>[Smads_Complex_n]</th>\n",
       "      <th>[T1R_EE]</th>\n",
       "      <th>...</th>\n",
       "      <th>Values[Kcd]</th>\n",
       "      <th>Values[kr_Cave]</th>\n",
       "      <th>Values[ki_Cave]</th>\n",
       "      <th>Values[Kexp_Smad4n]</th>\n",
       "      <th>Values[Kdiss_Smads_Complex_n]</th>\n",
       "      <th>Values[Kimp_Smad2c]</th>\n",
       "      <th>Values[Kimp_Smads_Complex_c]</th>\n",
       "      <th>Values[Kimp_Smad4c]</th>\n",
       "      <th>Values[Kdeg_T2R_EE]</th>\n",
       "      <th>Values[k_Smads_Complex_c]</th>\n",
       "    </tr>\n",
       "  </thead>\n",
       "  <tbody>\n",
       "    <tr>\n",
       "      <th>0</th>\n",
       "      <td>0</td>\n",
       "      <td>236.450</td>\n",
       "      <td>492.610</td>\n",
       "      <td>551.720</td>\n",
       "      <td>1149.400</td>\n",
       "      <td>0.237000</td>\n",
       "      <td>1.778000</td>\n",
       "      <td>0.202000</td>\n",
       "      <td>0.000</td>\n",
       "      <td>2.060000</td>\n",
       "      <td>...</td>\n",
       "      <td>0.005</td>\n",
       "      <td>0.03742</td>\n",
       "      <td>0.33</td>\n",
       "      <td>0.5</td>\n",
       "      <td>0.1174</td>\n",
       "      <td>0.16</td>\n",
       "      <td>0.16</td>\n",
       "      <td>0.08</td>\n",
       "      <td>0.025</td>\n",
       "      <td>0.000069</td>\n",
       "    </tr>\n",
       "    <tr>\n",
       "      <th>1</th>\n",
       "      <td>20</td>\n",
       "      <td>190.086</td>\n",
       "      <td>331.218</td>\n",
       "      <td>529.637</td>\n",
       "      <td>979.915</td>\n",
       "      <td>0.041292</td>\n",
       "      <td>0.903526</td>\n",
       "      <td>0.012959</td>\n",
       "      <td>252.781</td>\n",
       "      <td>1.175980</td>\n",
       "      <td>...</td>\n",
       "      <td>0.005</td>\n",
       "      <td>0.03742</td>\n",
       "      <td>0.33</td>\n",
       "      <td>0.5</td>\n",
       "      <td>0.1174</td>\n",
       "      <td>0.16</td>\n",
       "      <td>0.16</td>\n",
       "      <td>0.08</td>\n",
       "      <td>0.025</td>\n",
       "      <td>0.000069</td>\n",
       "    </tr>\n",
       "    <tr>\n",
       "      <th>2</th>\n",
       "      <td>40</td>\n",
       "      <td>179.937</td>\n",
       "      <td>277.648</td>\n",
       "      <td>534.984</td>\n",
       "      <td>921.179</td>\n",
       "      <td>0.028182</td>\n",
       "      <td>0.492606</td>\n",
       "      <td>0.015320</td>\n",
       "      <td>396.765</td>\n",
       "      <td>0.706949</td>\n",
       "      <td>...</td>\n",
       "      <td>0.005</td>\n",
       "      <td>0.03742</td>\n",
       "      <td>0.33</td>\n",
       "      <td>0.5</td>\n",
       "      <td>0.1174</td>\n",
       "      <td>0.16</td>\n",
       "      <td>0.16</td>\n",
       "      <td>0.08</td>\n",
       "      <td>0.025</td>\n",
       "      <td>0.000069</td>\n",
       "    </tr>\n",
       "    <tr>\n",
       "      <th>3</th>\n",
       "      <td>60</td>\n",
       "      <td>180.350</td>\n",
       "      <td>276.037</td>\n",
       "      <td>536.916</td>\n",
       "      <td>919.062</td>\n",
       "      <td>0.016803</td>\n",
       "      <td>0.318202</td>\n",
       "      <td>0.021237</td>\n",
       "      <td>408.415</td>\n",
       "      <td>0.429919</td>\n",
       "      <td>...</td>\n",
       "      <td>0.005</td>\n",
       "      <td>0.03742</td>\n",
       "      <td>0.33</td>\n",
       "      <td>0.5</td>\n",
       "      <td>0.1174</td>\n",
       "      <td>0.16</td>\n",
       "      <td>0.16</td>\n",
       "      <td>0.08</td>\n",
       "      <td>0.025</td>\n",
       "      <td>0.000069</td>\n",
       "    </tr>\n",
       "    <tr>\n",
       "      <th>4</th>\n",
       "      <td>80</td>\n",
       "      <td>183.149</td>\n",
       "      <td>285.947</td>\n",
       "      <td>538.168</td>\n",
       "      <td>929.488</td>\n",
       "      <td>0.009548</td>\n",
       "      <td>0.273063</td>\n",
       "      <td>0.030828</td>\n",
       "      <td>392.415</td>\n",
       "      <td>0.258271</td>\n",
       "      <td>...</td>\n",
       "      <td>0.005</td>\n",
       "      <td>0.03742</td>\n",
       "      <td>0.33</td>\n",
       "      <td>0.5</td>\n",
       "      <td>0.1174</td>\n",
       "      <td>0.16</td>\n",
       "      <td>0.16</td>\n",
       "      <td>0.08</td>\n",
       "      <td>0.025</td>\n",
       "      <td>0.000069</td>\n",
       "    </tr>\n",
       "  </tbody>\n",
       "</table>\n",
       "<p>5 rows × 37 columns</p>\n",
       "</div>"
      ],
      "text/plain": [
       "   Time  [Smad3n]  [Smad3c]  [Smad4n]  [Smad4c]  [T1R_Surf]  [T2R_Cave]  \\\n",
       "0     0   236.450   492.610   551.720  1149.400    0.237000    1.778000   \n",
       "1    20   190.086   331.218   529.637   979.915    0.041292    0.903526   \n",
       "2    40   179.937   277.648   534.984   921.179    0.028182    0.492606   \n",
       "3    60   180.350   276.037   536.916   919.062    0.016803    0.318202   \n",
       "4    80   183.149   285.947   538.168   929.488    0.009548    0.273063   \n",
       "\n",
       "   [T2R_Surf]  [Smads_Complex_n]  [T1R_EE]            ...              \\\n",
       "0    0.202000              0.000  2.060000            ...               \n",
       "1    0.012959            252.781  1.175980            ...               \n",
       "2    0.015320            396.765  0.706949            ...               \n",
       "3    0.021237            408.415  0.429919            ...               \n",
       "4    0.030828            392.415  0.258271            ...               \n",
       "\n",
       "   Values[Kcd]  Values[kr_Cave]  Values[ki_Cave]  Values[Kexp_Smad4n]  \\\n",
       "0        0.005          0.03742             0.33                  0.5   \n",
       "1        0.005          0.03742             0.33                  0.5   \n",
       "2        0.005          0.03742             0.33                  0.5   \n",
       "3        0.005          0.03742             0.33                  0.5   \n",
       "4        0.005          0.03742             0.33                  0.5   \n",
       "\n",
       "   Values[Kdiss_Smads_Complex_n]  Values[Kimp_Smad2c]  \\\n",
       "0                         0.1174                 0.16   \n",
       "1                         0.1174                 0.16   \n",
       "2                         0.1174                 0.16   \n",
       "3                         0.1174                 0.16   \n",
       "4                         0.1174                 0.16   \n",
       "\n",
       "   Values[Kimp_Smads_Complex_c]  Values[Kimp_Smad4c]  Values[Kdeg_T2R_EE]  \\\n",
       "0                          0.16                 0.08                0.025   \n",
       "1                          0.16                 0.08                0.025   \n",
       "2                          0.16                 0.08                0.025   \n",
       "3                          0.16                 0.08                0.025   \n",
       "4                          0.16                 0.08                0.025   \n",
       "\n",
       "   Values[k_Smads_Complex_c]  \n",
       "0                   0.000069  \n",
       "1                   0.000069  \n",
       "2                   0.000069  \n",
       "3                   0.000069  \n",
       "4                   0.000069  \n",
       "\n",
       "[5 rows x 37 columns]"
      ]
     },
     "execution_count": 6,
     "metadata": {},
     "output_type": "execute_result"
    }
   ],
   "source": [
    "TC = tasks.TimeCourse(\n",
    "    zi, report_name='zi_timecourse_report.txt',\n",
    "    end=1000, intervals=50, step_size=20\n",
    ")\n",
    "\n",
    "## check its worked\n",
    "os.path.isfile(TC.kwargs['report_name'])\n",
    "\n",
    "\n",
    "df = pandas.read_csv(TC.kwargs['report_name'], sep='\\t')\n",
    "df.head()"
   ]
  },
  {
   "cell_type": "markdown",
   "metadata": {},
   "source": [
    "### Save time course configured model"
   ]
  },
  {
   "cell_type": "code",
   "execution_count": 3,
   "metadata": {
    "ExecuteTime": {
     "end_time": "2017-09-30T14:25:58.139351Z",
     "start_time": "2017-09-30T14:25:58.121039Z"
    }
   },
   "outputs": [
    {
     "data": {
      "text/plain": [
       "Model(name=Zi2007_TGFbeta_signaling, time_unit=min, volume_unit=l, quantity_unit=nmol)"
      ]
     },
     "execution_count": 3,
     "metadata": {},
     "output_type": "execute_result"
    }
   ],
   "source": [
    "zi = TC.model\n",
    "zi.save()"
   ]
  },
  {
   "cell_type": "markdown",
   "metadata": {},
   "source": [
    "The following equation must hold true: $intervals \\cdot step\\_size = end$. Alternatively, the model can be saved by setting the `save` keyword to True. \n",
    "\n",
    "## Being selective about which output variables to select"
   ]
  },
  {
   "cell_type": "code",
   "execution_count": 4,
   "metadata": {
    "ExecuteTime": {
     "end_time": "2017-09-30T14:25:58.419062Z",
     "start_time": "2017-09-30T14:25:58.141517Z"
    },
    "scrolled": true
   },
   "outputs": [
    {
     "data": {
      "text/html": [
       "<div>\n",
       "<table border=\"1\" class=\"dataframe\">\n",
       "  <thead>\n",
       "    <tr style=\"text-align: right;\">\n",
       "      <th></th>\n",
       "      <th>Time</th>\n",
       "      <th>[Smad3c]</th>\n",
       "      <th>[Smad3n]</th>\n",
       "    </tr>\n",
       "  </thead>\n",
       "  <tbody>\n",
       "    <tr>\n",
       "      <th>0</th>\n",
       "      <td>0</td>\n",
       "      <td>492.610</td>\n",
       "      <td>236.450</td>\n",
       "    </tr>\n",
       "    <tr>\n",
       "      <th>1</th>\n",
       "      <td>20</td>\n",
       "      <td>331.218</td>\n",
       "      <td>190.086</td>\n",
       "    </tr>\n",
       "    <tr>\n",
       "      <th>2</th>\n",
       "      <td>40</td>\n",
       "      <td>277.648</td>\n",
       "      <td>179.937</td>\n",
       "    </tr>\n",
       "    <tr>\n",
       "      <th>3</th>\n",
       "      <td>60</td>\n",
       "      <td>276.037</td>\n",
       "      <td>180.350</td>\n",
       "    </tr>\n",
       "    <tr>\n",
       "      <th>4</th>\n",
       "      <td>80</td>\n",
       "      <td>285.947</td>\n",
       "      <td>183.149</td>\n",
       "    </tr>\n",
       "  </tbody>\n",
       "</table>\n",
       "</div>"
      ],
      "text/plain": [
       "   Time  [Smad3c]  [Smad3n]\n",
       "0     0   492.610   236.450\n",
       "1    20   331.218   190.086\n",
       "2    40   277.648   179.937\n",
       "3    60   276.037   180.350\n",
       "4    80   285.947   183.149"
      ]
     },
     "execution_count": 4,
     "metadata": {},
     "output_type": "execute_result"
    }
   ],
   "source": [
    "TC=tasks.TimeCourse(\n",
    "    zi,\n",
    "    report_name='kholodenko_timecourse_report.txt',\n",
    "    end=1000,\n",
    "    intervals=50,\n",
    "    step_size=20,\n",
    "    metabolites=['Smad3c','Smad3n'],\n",
    "    global_quantities = [],\n",
    "    save=True\n",
    ")\n",
    "\n",
    "##check that we only have two variables\n",
    "pandas.read_csv(TC.kwargs['report_name'],sep='\\t').head()"
   ]
  },
  {
   "cell_type": "markdown",
   "metadata": {},
   "source": [
    "Here we have used the `save=True` argument to save the model inplace, rather reassigning the zi model manually. "
   ]
  },
  {
   "cell_type": "markdown",
   "metadata": {},
   "source": [
    "## Plot the results"
   ]
  },
  {
   "cell_type": "code",
   "execution_count": 5,
   "metadata": {
    "ExecuteTime": {
     "end_time": "2017-09-30T14:25:58.641367Z",
     "start_time": "2017-09-30T14:25:58.423314Z"
    }
   },
   "outputs": [
    {
     "ename": "ImportError",
     "evalue": "No module named PyCoTools",
     "output_type": "error",
     "traceback": [
      "\u001b[0;31m---------------------------------------------------------------------------\u001b[0m",
      "\u001b[0;31mImportError\u001b[0m                               Traceback (most recent call last)",
      "\u001b[0;32m<ipython-input-5-939a7428de5c>\u001b[0m in \u001b[0;36m<module>\u001b[0;34m()\u001b[0m\n\u001b[0;32m----> 1\u001b[0;31m \u001b[0;32mimport\u001b[0m \u001b[0mPyCoTools\u001b[0m\u001b[0;34m,\u001b[0m\u001b[0mglob\u001b[0m\u001b[0;34m,\u001b[0m\u001b[0mos\u001b[0m\u001b[0;34m\u001b[0m\u001b[0m\n\u001b[0m\u001b[1;32m      2\u001b[0m \u001b[0;34m\u001b[0m\u001b[0m\n\u001b[1;32m      3\u001b[0m TC = PyCoTools.pycopi.TimeCourse(kholodenko_model,\n\u001b[1;32m      4\u001b[0m                             \u001b[0mreport_name\u001b[0m\u001b[0;34m=\u001b[0m\u001b[0;34m'kholodenko_timecourse_report.txt'\u001b[0m\u001b[0;34m,\u001b[0m\u001b[0;34m\u001b[0m\u001b[0m\n\u001b[1;32m      5\u001b[0m                             \u001b[0mend\u001b[0m\u001b[0;34m=\u001b[0m\u001b[0;36m1000\u001b[0m\u001b[0;34m,\u001b[0m\u001b[0;34m\u001b[0m\u001b[0m\n",
      "\u001b[0;31mImportError\u001b[0m: No module named PyCoTools"
     ]
    }
   ],
   "source": [
    "TC = PyCoTools.pycopi.TimeCourse(kholodenko_model,\n",
    "                            report_name='kholodenko_timecourse_report.txt',\n",
    "                            end=1000,\n",
    "                            intervals=50,\n",
    "                            step_size=20,\n",
    "                            plot=True,\n",
    "                            savefig=True)\n",
    "\n",
    "## check png files exist\n",
    "for i in glob.glob('./TimeCourseGraphs/*'):\n",
    "    LOG.info('File {} exists: \\t {}'.format(i,os.path.isfile(i)) )\n",
    "    "
   ]
  },
  {
   "cell_type": "markdown",
   "metadata": {},
   "source": [
    "## Play around with graphics"
   ]
  },
  {
   "cell_type": "code",
   "execution_count": null,
   "metadata": {
    "ExecuteTime": {
     "end_time": "2017-09-30T14:25:58.643062Z",
     "start_time": "2017-09-30T14:25:57.326Z"
    },
    "scrolled": false
   },
   "outputs": [],
   "source": [
    "import os,PyCoTools\n",
    "PyCoTools.pycopi.TimeCourse(kholodenko_model,\n",
    "                            report_name='kholodenko_timecourse_report.txt',\n",
    "                            end=1000,\n",
    "                            intervals=50,\n",
    "                            step_size=20,\n",
    "                            plot=True,\n",
    "                            savefig=True,\n",
    "                            line_width=8,\n",
    "                            marker_size=5,\n",
    "                            line_color='g',\n",
    "                            axis_size=20,\n",
    "                            font_size=25,\n",
    "                            line_style='-',\n",
    "                            xtick_rotation=45)"
   ]
  }
 ],
 "metadata": {
  "hide_input": false,
  "kernelspec": {
   "display_name": "Python [default]",
   "language": "python",
   "name": "python2"
  },
  "language_info": {
   "codemirror_mode": {
    "name": "ipython",
    "version": 2
   },
   "file_extension": ".py",
   "mimetype": "text/x-python",
   "name": "python",
   "nbconvert_exporter": "python",
   "pygments_lexer": "ipython2",
   "version": "2.7.13"
  },
  "latex_envs": {
   "LaTeX_envs_menu_present": true,
   "autocomplete": true,
   "bibliofile": "biblio.bib",
   "cite_by": "apalike",
   "current_citInitial": 1,
   "eqLabelWithNumbers": true,
   "eqNumInitial": 1,
   "hotkeys": {
    "equation": "Ctrl-E",
    "itemize": "Ctrl-I"
   },
   "labels_anchors": false,
   "latex_user_defs": false,
   "report_style_numbering": false,
   "user_envs_cfg": false
  },
  "toc": {
   "colors": {
    "hover_highlight": "#DAA520",
    "navigate_num": "#000000",
    "navigate_text": "#333333",
    "running_highlight": "#FF0000",
    "selected_highlight": "#FFD700",
    "sidebar_border": "#EEEEEE",
    "wrapper_background": "#FFFFFF"
   },
   "moveMenuLeft": true,
   "nav_menu": {
    "height": "48px",
    "width": "252px"
   },
   "navigate_menu": true,
   "number_sections": true,
   "sideBar": true,
   "threshold": 4,
   "toc_cell": false,
   "toc_section_display": "block",
   "toc_window_display": true,
   "widenNotebook": false
  },
  "varInspector": {
   "cols": {
    "lenName": 16,
    "lenType": 16,
    "lenVar": 40
   },
   "kernels_config": {
    "python": {
     "delete_cmd_postfix": "",
     "delete_cmd_prefix": "del ",
     "library": "var_list.py",
     "varRefreshCmd": "print(var_dic_list())"
    },
    "r": {
     "delete_cmd_postfix": ") ",
     "delete_cmd_prefix": "rm(",
     "library": "var_list.r",
     "varRefreshCmd": "cat(var_dic_list()) "
    }
   },
   "types_to_exclude": [
    "module",
    "function",
    "builtin_function_or_method",
    "instance",
    "_Feature"
   ],
   "window_display": false
  }
 },
 "nbformat": 4,
 "nbformat_minor": 2
}
