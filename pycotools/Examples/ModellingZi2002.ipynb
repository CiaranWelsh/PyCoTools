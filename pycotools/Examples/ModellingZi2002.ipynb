{
 "cells": [
  {
   "cell_type": "markdown",
   "metadata": {},
   "source": [
    "# Modelling Zi\n",
    "## Objectives\n",
    "\n",
    "### Model Alternatives\n",
    "\n",
    "\n",
    "### Imports"
   ]
  },
  {
   "cell_type": "code",
   "execution_count": 1,
   "metadata": {
    "ExecuteTime": {
     "end_time": "2017-10-19T13:40:17.346816Z",
     "start_time": "2017-10-19T13:40:16.751593Z"
    },
    "scrolled": true
   },
   "outputs": [
    {
     "name": "stdout",
     "output_type": "stream",
     "text": [
      "root:INFO:27:    Initializing pycotools\n",
      "root:INFO:28:    Initializing logging System\n",
      "root:INFO:29:    logging config file at: /home/b3053674/Documents/pycotools/pycotools/logging_config.conf\n"
     ]
    },
    {
     "name": "stderr",
     "output_type": "stream",
     "text": [
      "/home/b3053674/Documents/pycotools/pycotools/viz.py:116: FutureWarning: The pandas.parser module is deprecated and will be removed in a future version. Please import from the pandas.io.parser instead\n",
      "  from pandas.parser import CParserError\n"
     ]
    }
   ],
   "source": [
    "%matplotlib inline\n",
    "import site\n",
    "site.addsitedir('/home/b3053674/Documents/pycotools')\n",
    "from pycotools.Examples.zi_model_varients_competitive_inhibition import Models\n",
    "from pycotools import model, tasks, viz, misc\n",
    "import os\n",
    "from lxml import etree"
   ]
  },
  {
   "cell_type": "markdown",
   "metadata": {},
   "source": [
    "## Get Modified Zi Models\n",
    "9 Model varients have been prebuilt using the copasi GUI. The models were opened with a text editor and the xml strings were copied and pasted into a python class called `Models` in the `zi_model_varients` module. The `Model` class has a single property for each model which just returns the model string. This system of handling many copasi models has the advantage of being highly organized and minimizes mistakes by human error. \n",
    "\n",
    "### A function to get models as strings"
   ]
  },
  {
   "cell_type": "code",
   "execution_count": 2,
   "metadata": {
    "ExecuteTime": {
     "end_time": "2017-10-19T13:40:20.678704Z",
     "start_time": "2017-10-19T13:40:20.638037Z"
    }
   },
   "outputs": [],
   "source": [
    "import zi_model_varients \n",
    "\n",
    "\n",
    "def get_models(directory):\n",
    "    \"\"\"\n",
    "    Get models from Models class and save as cps\n",
    "    files in a directory of users choosing. \n",
    "    \n",
    "    :param directory: where to save the model varients\n",
    "    :return: dict[model_id] = FullPathToModel\n",
    "    \"\"\"\n",
    "    ## if directory not exists create it\n",
    "    if not os.path.isdir(directory):\n",
    "        os.makedirs(directory)\n",
    "    \n",
    "    ## get all methods of the Models class\n",
    "    all_methods = dir(Models)\n",
    "    \n",
    "    ## remove magic methods\n",
    "    all_model_methods = [i for i in all_methods if i[:2]!='__']\n",
    "    all_model_methods = [i for i in all_methods if i != 'published_zi']\n",
    "    \n",
    "    M = zi_model_varients.Models()\n",
    "    dct = {}\n",
    "    for model_id in all_model_methods:\n",
    "        m = getattr(zi_model_varients.Models, model_id)\n",
    "        if type(m) == property:\n",
    "            model_str = m.fget(M)\n",
    "            cps_file = os.path.join(directory, '{}.cps'.format(model_id))\n",
    "            dct[model_id] = cps_file\n",
    "\n",
    "            ## if already exists remove\n",
    "            if os.path.isfile(cps_file):\n",
    "                os.remove(cps_file)\n",
    "\n",
    "            ## write file\n",
    "            with open(cps_file, 'w') as f:\n",
    "                f.write(model_str)\n",
    "\n",
    "            ## raise error if not exists\n",
    "            if not os.path.isfile(cps_file):\n",
    "                raise Exception\n",
    "\n",
    "    return dct\n",
    "\n",
    "   \n",
    "directory = r'/home/b3053674/Documents/Models/2017/10_Oct/Smad7Fit2'\n",
    "    \n",
    "fit_dir = os.path.join(directory, 'Fit1Dir')\n",
    "\n",
    "model_paths = get_models(fit_dir)"
   ]
  },
  {
   "cell_type": "markdown",
   "metadata": {},
   "source": [
    "## Read models into pycotools"
   ]
  },
  {
   "cell_type": "code",
   "execution_count": 3,
   "metadata": {
    "ExecuteTime": {
     "end_time": "2017-10-19T13:40:44.469756Z",
     "start_time": "2017-10-19T13:40:22.951002Z"
    },
    "scrolled": true
   },
   "outputs": [
    {
     "name": "stdout",
     "output_type": "stream",
     "text": [
      "None\n",
      "None\n",
      "None\n"
     ]
    }
   ],
   "source": [
    "def read_models_into_pycotools(files_dct):\n",
    "    dct = {}\n",
    "    for v in files_dct.values():\n",
    "        dct[v] = model.Model(v)\n",
    "    return dct\n",
    "\n",
    "models = read_models_into_pycotools(model_paths)\n",
    "for k, v in models.items():\n",
    "    print (v.open())"
   ]
  },
  {
   "cell_type": "markdown",
   "metadata": {},
   "source": [
    "# Experimental Data\n",
    "## Parse into pandas"
   ]
  },
  {
   "cell_type": "code",
   "execution_count": null,
   "metadata": {
    "ExecuteTime": {
     "end_time": "2017-10-16T23:01:51.956404Z",
     "start_time": "2017-10-16T23:01:51.463711Z"
    },
    "scrolled": true
   },
   "outputs": [],
   "source": [
    "import pandas\n",
    "\n",
    "def read_data_file(fle):\n",
    "    \"\"\"\n",
    "    read data into pandas dataframe for each \n",
    "    data set\n",
    "    \"\"\"\n",
    "    data = pandas.read_csv(fle)\n",
    "    data = data.set_index(['Cell Type', 'Repeat'])\n",
    "    time = [int(i)*60 for i in data.columns]\n",
    "    data.columns = time\n",
    "    return data\n",
    "    \n",
    "smad7_mRNA_data_file = os.path.join(directory, 'smad7_pcr_data.csv')\n",
    "ski_data_file = os.path.join(directory, 'ski_pcr_data.csv')\n",
    "\n",
    "smad7_mRNA_data = read_data_file(smad7_mRNA_data_file)\n",
    "ski_data = read_data_file(ski_data_file)\n"
   ]
  },
  {
   "cell_type": "markdown",
   "metadata": {},
   "source": [
    "## Derive Smad7 data from Smad7 mRNA data\n",
    "A (rather bold) assumption being made here is that Smad7 translation is delayed by 30 minutes compared to transcription and is 100 times the magnitude. \n",
    "\n",
    "Here we computer this data from the Smad7 mRNA data"
   ]
  },
  {
   "cell_type": "code",
   "execution_count": null,
   "metadata": {
    "ExecuteTime": {
     "end_time": "2017-10-16T23:02:07.140897Z",
     "start_time": "2017-10-16T23:02:07.103436Z"
    }
   },
   "outputs": [],
   "source": [
    "import copy\n",
    "def make_smad_protein_data(df):\n",
    "    ## deep copy for reproducability\n",
    "    data = copy.deepcopy(df)\n",
    "    time = [i+30 for i in data.columns]\n",
    "    data.columns = time\n",
    "    \n",
    "    ## add 0 time point = 75% of time 30\n",
    "    data[0] = 0.75 * data[30]\n",
    "    data = data[sorted(data.columns)]\n",
    "    return data*100\n",
    "\n",
    "smad7_protein_data = make_smad_protein_data(smad7_mRNA_data)\n"
   ]
  },
  {
   "cell_type": "markdown",
   "metadata": {},
   "source": [
    "## Visualize the data"
   ]
  },
  {
   "cell_type": "code",
   "execution_count": null,
   "metadata": {
    "ExecuteTime": {
     "end_time": "2017-10-16T23:13:01.359979Z",
     "start_time": "2017-10-16T23:12:59.521534Z"
    }
   },
   "outputs": [],
   "source": [
    "import matplotlib.pyplot as plt\n",
    "import seaborn\n",
    "seaborn.set_context(context='poster')\n",
    "\n",
    "def plot_experimental(data, title):\n",
    "    for label, df in data.groupby(level=0):\n",
    "        \n",
    "        \n",
    "        if label == 'Neonatal':\n",
    "            plt.figure()\n",
    "#             print(df.head())\n",
    "            df.columns = [i/60 for i in df.columns]\n",
    "            ax = df.transpose().plot(legend=False)\n",
    "    #         ax.legend(loc=(1, 0.1))\n",
    "            plt.title('{}'.format(title))\n",
    "            plt.ylabel('Signal (AU)')\n",
    "            plt.xlabel('Time (hours)')\n",
    "            f = os.path.join('/home/b3053674/Documents/Models/2017/10_Oct', \"{}_{}.pdf\".format(title, label))\n",
    "            from matplotlib import rcParams\n",
    "            rcParams.update({'figure.autolayout': True})\n",
    "            plt.savefig(\"{}\".format(f), bbox_inches='tight', dpi=400)\n",
    "            print ('saved to {}'.format(f))\n",
    "        \n",
    "        \n",
    "plot_experimental(smad7_mRNA_data, 'Smad7 mRNA')\n",
    "plot_experimental(ski_data, 'ski mRNA')\n",
    "plot_experimental(smad7_protein_data, 'Smad7')\n"
   ]
  },
  {
   "cell_type": "markdown",
   "metadata": {},
   "source": [
    "## Create Copasi Style data files\n",
    "-  Format data files for use in copasi.\n",
    "-  Organize into folders\n",
    "-  Make sure data has labels that correspond exactly to model quantities \n",
    "    -  (i.e. here its the global quantities: Smad7Obs, SkiObs and Smad7mRNAObs)\n",
    "-  The interesting dynamic in this data seems to be over by 12h. Truncate the data at 12h\n",
    "-  Ensure data is in the same time units as the model (minutes)"
   ]
  },
  {
   "cell_type": "code",
   "execution_count": null,
   "metadata": {
    "ExecuteTime": {
     "end_time": "2017-10-10T21:26:16.256989Z",
     "start_time": "2017-10-10T21:26:16.115889Z"
    },
    "scrolled": false
   },
   "outputs": [],
   "source": [
    "def format_copasi(data, data_directory, data_name, truncate_number):\n",
    "    file_dct = {}\n",
    "    ## iterate over cell types\n",
    "    for label, df in data.groupby(level=0):\n",
    "        ## nested dict for resutls collection\n",
    "        \n",
    "        file_dct[label] = {}\n",
    "        ## reset index, transpose and rename index\n",
    "        df = df.reset_index(drop='True')\n",
    "        df = df.transpose()\n",
    "        df.index.name = 'Time'\n",
    "        \n",
    "        ##iterate over each column\n",
    "        for i in df.columns:\n",
    "            ##create subdirectory for each cell type\n",
    "            dir2 = os.path.join(data_directory, label)\n",
    "            if not os.path.isdir(dir2):\n",
    "                os.makedirs(dir2)\n",
    "                \n",
    "            ## get experimental repeat\n",
    "            smad7 = pandas.DataFrame(df[i])\n",
    "            smad7 = smad7.astype(float)\n",
    "            smad7 = smad7.reset_index()\n",
    "            \n",
    "            ## relabel to match model variable\n",
    "            smad7.columns=['Time', data_name]\n",
    "            \n",
    "            ## ensure consistent time units\n",
    "            smad7['Time'] = (smad7['Time'].astype(float)*60)\n",
    "            smad7 = smad7.iloc[:truncate_number]\n",
    "            \n",
    "            ## write to file\n",
    "            fle = os.path.join(dir2, '{}_{}_data.csv'.format(i, data_name))\n",
    "            file_dct[label][i] = fle\n",
    "            smad7.to_csv(fle, index=False, sep='\\t')\n",
    "    return file_dct\n",
    "\n",
    "\n",
    "# ## Directories for data\n",
    "smad7_protein_data_directory = os.path.join(directory, 'Smad7ProteinDataDirectory')\n",
    "ski_data_directory = os.path.join(directory, 'SkiDataDirectory')\n",
    "smad7_mRNA_directory = os.path.join(directory, 'Smad7mRNADataDirectory')\n",
    "\n",
    "## format and write the data files\n",
    "smad7_protein_data_files = format_copasi(smad7_protein_data, smad7_protein_data_directory, 'Smad7Obs', truncate_number=6)\n",
    "ski_data_files = format_copasi(ski_data, ski_data_directory, 'SkiObs', truncate_number=6)\n",
    "smad7_mRNA_data_files = format_copasi(smad7_mRNA_data, smad7_mRNA_directory, 'Smad7mRNAObs', truncate_number=6)\n"
   ]
  },
  {
   "cell_type": "markdown",
   "metadata": {},
   "source": [
    "## Move data into fit folder\n"
   ]
  },
  {
   "cell_type": "code",
   "execution_count": null,
   "metadata": {
    "ExecuteTime": {
     "end_time": "2017-10-10T21:26:16.359067Z",
     "start_time": "2017-10-10T21:26:16.258900Z"
    }
   },
   "outputs": [],
   "source": [
    "import shutil\n",
    "\n",
    "def move_data_into_fit_folder(folder):\n",
    "    for i in smad7_protein_data_files['Neonatal'].values() + ski_data_files['Neonatal'].values() + smad7_mRNA_data_files['Neonatal'].values():\n",
    "        shutil.copy(i, fit_dir)\n",
    "    \n",
    "move_data_into_fit_folder(fit_dir)"
   ]
  },
  {
   "cell_type": "markdown",
   "metadata": {},
   "source": [
    "## Set Initial Conditions of New Components\n",
    "Compute averages of the 6 repeats and set as initial concentrations \n",
    "### Compute averages of repeat experiments"
   ]
  },
  {
   "cell_type": "code",
   "execution_count": null,
   "metadata": {
    "ExecuteTime": {
     "end_time": "2017-10-10T21:26:16.502901Z",
     "start_time": "2017-10-10T21:26:16.360733Z"
    },
    "scrolled": false
   },
   "outputs": [],
   "source": [
    "import numpy\n",
    "smad7_mRNA_starting_values = pandas.DataFrame(smad7_mRNA_data[0].groupby(level=0).agg(numpy.mean))\n",
    "ski_starting_values = pandas.DataFrame(ski_data[0].groupby(level=0).agg(numpy.mean))\n",
    "smad7_protein_starting_values = pandas.DataFrame(smad7_protein_data[0].groupby(level=0).agg(numpy.mean))"
   ]
  },
  {
   "cell_type": "markdown",
   "metadata": {},
   "source": [
    "## Set initial conditions of new species "
   ]
  },
  {
   "cell_type": "code",
   "execution_count": null,
   "metadata": {
    "ExecuteTime": {
     "end_time": "2017-10-10T21:26:16.713529Z",
     "start_time": "2017-10-10T21:26:16.504599Z"
    },
    "scrolled": true
   },
   "outputs": [],
   "source": [
    "def set_initial_values(all_models, cell_type):\n",
    "    new_models = []\n",
    "    for mod in all_models.values():\n",
    "        mod = mod.set('global_quantity', 'Smad7mRNAInitial', \n",
    "                      float(smad7_mRNA_starting_values.loc[cell_type]), match_field='name', change_field='initial_value')\n",
    "        \n",
    "        mod = mod.set('global_quantity', 'SkiInitial', \n",
    "                      float(ski_starting_values.loc[cell_type]), match_field='name', change_field='initial_value') \n",
    "                      \n",
    "        mod = mod.set('global_quantity', 'Smad7ProteinInitial', \n",
    "                      float(smad7_protein_starting_values.loc[cell_type]), match_field='name', change_field='initial_value')\n",
    "        \n",
    "        new_models.append(mod)\n",
    "    return new_models\n",
    "\n",
    "models = set_initial_values(models, 'Neonatal')\n",
    "models"
   ]
  },
  {
   "cell_type": "markdown",
   "metadata": {},
   "source": [
    "## Save the model to file\n",
    "Thus far our changes have been in held in memory. To write to file use the `save` method. "
   ]
  },
  {
   "cell_type": "code",
   "execution_count": null,
   "metadata": {
    "ExecuteTime": {
     "end_time": "2017-10-10T21:26:16.747860Z",
     "start_time": "2017-10-10T21:26:16.715169Z"
    }
   },
   "outputs": [],
   "source": [
    "[i.save() for i in models]"
   ]
  },
  {
   "cell_type": "markdown",
   "metadata": {},
   "source": [
    "# Run Parameter Estimation"
   ]
  },
  {
   "cell_type": "code",
   "execution_count": null,
   "metadata": {
    "ExecuteTime": {
     "end_time": "2017-10-10T21:26:18.496329Z",
     "start_time": "2017-10-10T21:26:16.749456Z"
    },
    "scrolled": true
   },
   "outputs": [],
   "source": [
    "PE = tasks.MultiModelFit(\n",
    "    fit_dir,\n",
    "    # smad7_mRNA_data_files['Neonatal'].values() + smad7_protein_data_files['Neonatal'].values() + ski_data_files['Neonatal'].values(),\n",
    "    metabolites=['Ski'], global_quantities=['Smad7SF', 'SkiSF'],\n",
    "    overwrite_config_file=True,\n",
    "    method='genetic_algorithm', population_size=150, number_of_generations=300,\n",
    "    upper_bound=1e4, run_mode='multiprocess', copy_number=2, pe_number=1,\n",
    ")\n",
    "PE.write_config_file()\n",
    "PE.setup()\n",
    "# PE.run()"
   ]
  },
  {
   "cell_type": "markdown",
   "metadata": {},
   "source": [
    "# Visualize Results\n",
    "## Compare Model Selection Criteria"
   ]
  },
  {
   "cell_type": "code",
   "execution_count": null,
   "metadata": {
    "ExecuteTime": {
     "end_time": "2017-10-10T21:26:18.504083Z",
     "start_time": "2017-10-10T21:26:18.500213Z"
    }
   },
   "outputs": [],
   "source": [
    "seaborn.set_context(context='notebook')"
   ]
  },
  {
   "cell_type": "code",
   "execution_count": null,
   "metadata": {
    "ExecuteTime": {
     "end_time": "2017-10-10T21:26:20.415733Z",
     "start_time": "2017-10-10T21:26:18.506520Z"
    }
   },
   "outputs": [],
   "source": [
    "MS = viz.ModelSelection(PE, log10=True)"
   ]
  },
  {
   "cell_type": "markdown",
   "metadata": {},
   "source": [
    "## Visualize Rss Vs Iterations"
   ]
  },
  {
   "cell_type": "code",
   "execution_count": null,
   "metadata": {
    "ExecuteTime": {
     "end_time": "2017-10-10T21:26:24.445631Z",
     "start_time": "2017-10-10T21:26:20.418586Z"
    },
    "scrolled": false
   },
   "outputs": [],
   "source": [
    "for m in MS:\n",
    "    viz.RssVsIterations(m, savefig=True)"
   ]
  },
  {
   "cell_type": "markdown",
   "metadata": {},
   "source": [
    "## Ensemble Time Courses"
   ]
  },
  {
   "cell_type": "code",
   "execution_count": null,
   "metadata": {
    "ExecuteTime": {
     "end_time": "2017-10-10T21:26:36.829749Z",
     "start_time": "2017-10-10T21:26:36.325124Z"
    }
   },
   "outputs": [],
   "source": [
    "for m in MS:\n",
    "    viz.PlotTimeCourseEnsemble(m)"
   ]
  },
  {
   "cell_type": "markdown",
   "metadata": {},
   "source": [
    "## Plot parameter distributions as box plots"
   ]
  },
  {
   "cell_type": "code",
   "execution_count": null,
   "metadata": {
    "ExecuteTime": {
     "end_time": "2017-10-10T21:22:09.590007Z",
     "start_time": "2017-10-10T21:22:01.444881Z"
    }
   },
   "outputs": [],
   "source": [
    "for m in MS:\n",
    "    viz.Boxplots(m, savefig=True, log10=True)"
   ]
  },
  {
   "cell_type": "markdown",
   "metadata": {},
   "source": []
  },
  {
   "cell_type": "markdown",
   "metadata": {},
   "source": []
  },
  {
   "cell_type": "code",
   "execution_count": null,
   "metadata": {},
   "outputs": [],
   "source": []
  },
  {
   "cell_type": "markdown",
   "metadata": {},
   "source": []
  },
  {
   "cell_type": "code",
   "execution_count": null,
   "metadata": {},
   "outputs": [],
   "source": []
  }
 ],
 "metadata": {
  "hide_input": false,
  "kernelspec": {
   "display_name": "Python [conda env:py27]",
   "language": "python",
   "name": "conda-env-py27-py"
  },
  "language_info": {
   "codemirror_mode": {
    "name": "ipython",
    "version": 2
   },
   "file_extension": ".py",
   "mimetype": "text/x-python",
   "name": "python",
   "nbconvert_exporter": "python",
   "pygments_lexer": "ipython2",
   "version": "2.7.13"
  },
  "latex_envs": {
   "LaTeX_envs_menu_present": true,
   "autocomplete": true,
   "bibliofile": "biblio.bib",
   "cite_by": "apalike",
   "current_citInitial": 1,
   "eqLabelWithNumbers": true,
   "eqNumInitial": 1,
   "hotkeys": {
    "equation": "Ctrl-E",
    "itemize": "Ctrl-I"
   },
   "labels_anchors": false,
   "latex_user_defs": false,
   "report_style_numbering": false,
   "user_envs_cfg": false
  },
  "toc": {
   "colors": {
    "hover_highlight": "#DAA520",
    "navigate_num": "#000000",
    "navigate_text": "#333333",
    "running_highlight": "#FF0000",
    "selected_highlight": "#FFD700",
    "sidebar_border": "#EEEEEE",
    "wrapper_background": "#FFFFFF"
   },
   "moveMenuLeft": true,
   "nav_menu": {
    "height": "436px",
    "width": "252px"
   },
   "navigate_menu": true,
   "number_sections": true,
   "sideBar": true,
   "threshold": 4,
   "toc_cell": false,
   "toc_position": {
    "height": "762px",
    "left": "0px",
    "right": "1024.67px",
    "top": "133px",
    "width": "212px"
   },
   "toc_section_display": "block",
   "toc_window_display": true,
   "widenNotebook": false
  },
  "varInspector": {
   "cols": {
    "lenName": 16,
    "lenType": 16,
    "lenVar": 40
   },
   "kernels_config": {
    "python": {
     "delete_cmd_postfix": "",
     "delete_cmd_prefix": "del ",
     "library": "var_list.py",
     "varRefreshCmd": "print(var_dic_list())"
    },
    "r": {
     "delete_cmd_postfix": ") ",
     "delete_cmd_prefix": "rm(",
     "library": "var_list.r",
     "varRefreshCmd": "cat(var_dic_list()) "
    }
   },
   "types_to_exclude": [
    "module",
    "function",
    "builtin_function_or_method",
    "instance",
    "_Feature"
   ],
   "window_display": false
  }
 },
 "nbformat": 4,
 "nbformat_minor": 2
}
