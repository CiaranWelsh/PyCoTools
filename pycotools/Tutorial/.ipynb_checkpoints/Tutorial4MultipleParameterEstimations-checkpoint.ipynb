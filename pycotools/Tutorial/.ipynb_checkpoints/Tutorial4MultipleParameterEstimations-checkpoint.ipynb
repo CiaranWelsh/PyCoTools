{
 "cells": [
  {
   "cell_type": "markdown",
   "metadata": {
    "collapsed": true
   },
   "source": [
    "# Multiple Parameter Estimations\n",
    "\n",
    "Features:\n",
    "\n",
    "    1) Configure a single parameter estimation using ParameterEstimation class. \n",
    "    2) Configure repeat scan item using Scan to run m parameter estimations. \n",
    "    3) Copy model n times and run n model instances simultaneously \n",
    "    \n",
    "Final number of parameter estimations = $n \\cdot m$\n",
    "\n",
    "\n",
    "## Imports and Getting Model File"
   ]
  },
  {
   "cell_type": "code",
   "execution_count": 1,
   "metadata": {
    "ExecuteTime": {
     "end_time": "2017-07-30T21:58:17.083815Z",
     "start_time": "2017-07-30T21:58:16.484330Z"
    }
   },
   "outputs": [
    {
     "name": "stdout",
     "output_type": "stream",
     "text": [
      "INFO:root:__init__:<module>:26:Initializing PyCoTools\n",
      "INFO:root:__init__:<module>:27:Initializing logging System\n",
      "INFO:root:__init__:<module>:28:logging config file at: /home/b3053674/Documents/PyCoTools/PyCoTools/logging_config.conf\n",
      "INFO:root:<ipython-input-1-f58b6052b3b5>:<module>:23:written kholodenko model to /home/b3053674/Documents/PyCoTools/PyCoTools/PyCoToolsTutorial/kholodenko_model.cps\n",
      "INFO:root:<ipython-input-1-f58b6052b3b5>:<module>:24:Checking that kholodenko file exists: ... True\n"
     ]
    }
   ],
   "source": [
    "%matplotlib inline\n",
    "import os,glob\n",
    "import site\n",
    "site.addsitedir('/home/b3053674/Documents/PyCoTools')\n",
    "import PyCoTools\n",
    "from PyCoTools.PyCoToolsTutorial import test_models\n",
    "import os\n",
    "import pandas\n",
    "import logging\n",
    "logging.basicConfig(format = '%(levelname)s:%(message)s')\n",
    "LOG=logging.getLogger()\n",
    "\n",
    "##this can be anywhere you like\n",
    "tutorial_directory = '/home/b3053674/Documents/PyCoTools/PyCoTools/PyCoToolsTutorial'\n",
    "## module containing copasi models in string format\n",
    "TM = test_models.TestModels()\n",
    "kholodenko_model_string = TM.get_kholodenko_variant1() ## published kholodenko model\n",
    "kholodenko_model = os.path.join(tutorial_directory, 'kholodenko_model.cps')\n",
    "\n",
    "with open(kholodenko_model, 'w') as f:\n",
    "    f.write(kholodenko_model_string)\n",
    "\n",
    "LOG.info('written kholodenko model to {}'.format(kholodenko_model))\n",
    "LOG.info('Checking that kholodenko file exists: ... {}'.format(os.path.isfile(kholodenko_model)))"
   ]
  },
  {
   "cell_type": "markdown",
   "metadata": {},
   "source": [
    "## Generate Synthetic Data"
   ]
  },
  {
   "cell_type": "code",
   "execution_count": 2,
   "metadata": {
    "ExecuteTime": {
     "end_time": "2017-07-30T21:58:27.589747Z",
     "start_time": "2017-07-30T21:58:27.167682Z"
    },
    "scrolled": true
   },
   "outputs": [],
   "source": [
    "data_report='MultipleParameterEstimationData.txt'\n",
    "##Simulate some synthetic data\n",
    "TC=PyCoTools.pycopi.TimeCourse(kholodenko_model,end=1000,step_size=100,\n",
    "                               intervals=10,\n",
    "                               report_name=data_report)"
   ]
  },
  {
   "cell_type": "markdown",
   "metadata": {},
   "source": [
    "# The RunMultiplePEs Class\n",
    "The RunMultiplePEs class is an interface to the ParameterEstimation class and accepts all of the same keyword parameters with a few extra:\n",
    "\n",
    "    1. `copy_number`          --> Number of times to copy a copasi file. All of these will be run simultaneously. \n",
    "    2. `pe_number`            --> How many parameter estimations to conduct **per model**\n",
    "    3. `results_directory`    --> Name of the directory to put the results (created if not exists)\n",
    "\n",
    "The total number of estimations that can be carried out simultaneously is $copy\\_number\\cdot pe\\_number$.  "
   ]
  },
  {
   "cell_type": "code",
   "execution_count": 4,
   "metadata": {
    "ExecuteTime": {
     "end_time": "2017-07-30T21:13:42.693489Z",
     "start_time": "2017-07-30T21:13:41.192715Z"
    }
   },
   "outputs": [
    {
     "name": "stdout",
     "output_type": "stream",
     "text": [
      "INFO:PyCoTools.pycopi:pycopi:write_config_template:4479:writing PE config template for model: /home/b3053674/Documents/PyCoTools/PyCoTools/PyCoToolsTutorial/kholodenko_model.cps\n",
      "WARNING:PyCoTools.pycopi:pycopi:set_up:4431:set_up method is deprecated. Use setup() method instead\n",
      "WARNING:PyCoTools.pycopi:pycopi:set_up:3443:The set_up method is deprecated. Use setup() method instead\n",
      "INFO:PyCoTools.pycopi:pycopi:run:4450:running model: 0\n",
      "INFO:PyCoTools.pycopi:pycopi:run:4450:running model: 1\n",
      "INFO:PyCoTools.pycopi:pycopi:run:4450:running model: 2\n",
      "INFO:PyCoTools.pycopi:pycopi:run:4450:running model: 3\n"
     ]
    }
   ],
   "source": [
    "RMPE=PyCoTools.pycopi.RunMultiplePEs(kholodenko_model,data_report,\n",
    "                                     copy_number=4,\n",
    "                                     pe_number=2) #--> 8 total\n",
    "RMPE.write_config_template()\n",
    "RMPE.set_up()\n",
    "RMPE.run()"
   ]
  },
  {
   "cell_type": "markdown",
   "metadata": {},
   "source": [
    "All models are executed using CopasiSE at the same time. For this reason, if you have too many models running at once on a single machine, the machine will slow and be unusable until the estimations have finished. My own machine (i7, 16GB RAM) can comfortably run around 6 or 7 models at once before things start to slow. If using a SunGridEngine based job scheduler you can use `run = SGE` to submit the jobs automatically. If your using a different job scheduler, a new method will have to be added to the PyCoTools.pycopi.Run class. Feel free to contact me for advice.   \n",
    "\n",
    "### Custom Results Directory\n",
    "The results_directory argument:\n",
    "\n",
    "    -> Defaults to 'MultipleParameterEstimation' in model directory \n",
    "    -> Takes a directory, creates it if it doesn't exist"
   ]
  },
  {
   "cell_type": "code",
   "execution_count": 3,
   "metadata": {
    "ExecuteTime": {
     "end_time": "2017-07-30T21:58:40.433404Z",
     "start_time": "2017-07-30T21:58:39.387588Z"
    },
    "scrolled": false
   },
   "outputs": [
    {
     "name": "stdout",
     "output_type": "stream",
     "text": [
      "INFO:PyCoTools.pycopi:pycopi:write_config_template:4479:writing PE config template for model: /home/b3053674/Documents/PyCoTools/PyCoTools/PyCoToolsTutorial/kholodenko_model.cps\n",
      "WARNING:PyCoTools.pycopi:pycopi:set_up:4431:set_up method is deprecated. Use setup() method instead\n",
      "WARNING:PyCoTools.pycopi:pycopi:set_up:3443:The set_up method is deprecated. Use setup() method instead\n",
      "INFO:PyCoTools.pycopi:pycopi:run:4450:running model: 0\n",
      "INFO:PyCoTools.pycopi:pycopi:run:4450:running model: 1\n",
      "INFO:PyCoTools.pycopi:pycopi:run:4450:running model: 2\n",
      "INFO:PyCoTools.pycopi:pycopi:run:4450:running model: 3\n"
     ]
    }
   ],
   "source": [
    "results_directory = 'Fit1Results'\n",
    "RMPE=PyCoTools.pycopi.RunMultiplePEs(kholodenko_model,data_report,\n",
    "                                     copy_number=4,\n",
    "                                     pe_number=2,\n",
    "                                     number_of_generations=15,\n",
    "                                     population_size=15,\n",
    "                                     results_directory = results_directory)\n",
    "RMPE.write_config_template()\n",
    "RMPE.set_up()\n",
    "RMPE.run()"
   ]
  },
  {
   "cell_type": "markdown",
   "metadata": {},
   "source": [
    "## Formatting Results\n",
    "\n",
    "Output from COPASI does not include headers. This information needs to be extracted from the configured parameter estimation task. The format_results() method will do this, but you must wait until all the parameter estimations are complete.To monitor progress, look either at the task manager or for when the size of the output files changes from 0kb. "
   ]
  },
  {
   "cell_type": "code",
   "execution_count": 6,
   "metadata": {
    "ExecuteTime": {
     "end_time": "2017-07-30T22:00:58.637173Z",
     "start_time": "2017-07-30T22:00:58.570418Z"
    },
    "scrolled": false
   },
   "outputs": [
    {
     "data": {
      "text/plain": [
       "{0: '/home/b3053674/Documents/PyCoTools/PyCoTools/PyCoToolsTutorial/Fit1Results/ParameterFit0.txt',\n",
       " 1: '/home/b3053674/Documents/PyCoTools/PyCoTools/PyCoToolsTutorial/Fit1Results/ParameterFit1.txt',\n",
       " 2: '/home/b3053674/Documents/PyCoTools/PyCoTools/PyCoToolsTutorial/Fit1Results/ParameterFit2.txt',\n",
       " 3: '/home/b3053674/Documents/PyCoTools/PyCoTools/PyCoToolsTutorial/Fit1Results/ParameterFit3.txt'}"
      ]
     },
     "execution_count": 6,
     "metadata": {},
     "output_type": "execute_result"
    }
   ],
   "source": [
    "RMPE.format_results()"
   ]
  },
  {
   "cell_type": "markdown",
   "metadata": {},
   "source": [
    "We can now parse the data in the results folder into python directly using the PEAnalysis module. "
   ]
  },
  {
   "cell_type": "code",
   "execution_count": 7,
   "metadata": {
    "ExecuteTime": {
     "end_time": "2017-07-30T22:01:14.433514Z",
     "start_time": "2017-07-30T22:01:14.384876Z"
    },
    "scrolled": false
   },
   "outputs": [
    {
     "name": "stdout",
     "output_type": "stream",
     "text": [
      "                                             0          1           2  \\\n",
      "(phosphorylation of MAPKK).KK3        0.100000   0.128567    3.423420   \n",
      "(MAPKKK activation).K1                0.108075   0.535059    3.284190   \n",
      "(dephosphorylation of MAPK-PP).V9     0.100000   0.108979   49.439800   \n",
      "(phosphorylation of MAPK).k7          0.100000   0.266751    0.146047   \n",
      "(phosphorylation of MAPK-P).k8        0.424947   0.709554   33.435700   \n",
      "(MAPKKK inactivation).KK2             0.364120   3.192370    0.587789   \n",
      "(MAPKKK inactivation).V2              3.020410   0.456617    0.652291   \n",
      "(phosphorylation of MAPKK).k3        37.916600   2.015760    4.856910   \n",
      "(phosphorylation of MAPKK-P).k4      82.470500   2.019790   69.813400   \n",
      "(dephosphorylation of MAPKK-PP).KK5  35.936500   0.225217    0.543689   \n",
      "(dephosphorylation of MAPK-PP).KK9    0.448235   0.124432   29.065300   \n",
      "(dephosphorylation of MAPKK-P).KK6   29.597700   0.104403    7.543760   \n",
      "(phosphorylation of MAPKK-P).KK4      0.914922  16.035800  100.000000   \n",
      "(MAPKKK activation).V1                1.012460   0.728980    0.469090   \n",
      "(MAPKKK activation).Ki               27.613700   0.762073    0.308793   \n",
      "(phosphorylation of MAPK).KK7         5.979720   1.515130    0.327849   \n",
      "(dephosphorylation of MAPK-P).KK10    0.100000   2.839670   37.287900   \n",
      "(phosphorylation of MAPK-P).KK8      40.273600  43.944200    0.256797   \n",
      "(dephosphorylation of MAPKK-PP).V5    0.255194   0.198703    0.207390   \n",
      "(dephosphorylation of MAPK-P).V10    32.453400   0.171147    0.262855   \n",
      "(dephosphorylation of MAPKK-P).V6     0.245776   0.148284    0.174294   \n",
      "(MAPKKK activation).n                22.033300  77.429200   82.182900   \n",
      "RSS                                   0.000002   0.000002    0.000002   \n",
      "\n",
      "                                             3          4          5  \\\n",
      "(phosphorylation of MAPKK).KK3        2.295770   8.938310  25.069500   \n",
      "(MAPKKK activation).K1               28.771000  21.006500   4.149550   \n",
      "(dephosphorylation of MAPK-PP).V9     2.667910   6.081330   0.512609   \n",
      "(phosphorylation of MAPK).k7          0.583261   4.036640   0.661785   \n",
      "(phosphorylation of MAPK-P).k8        4.375310   0.425528   0.442394   \n",
      "(MAPKKK inactivation).KK2             0.528043   0.132471   0.311865   \n",
      "(MAPKKK inactivation).V2              0.574177   0.681698   2.075330   \n",
      "(phosphorylation of MAPKK).k3         4.149840   0.103057  33.794000   \n",
      "(phosphorylation of MAPKK-P).k4      28.414200   2.062530  78.765900   \n",
      "(dephosphorylation of MAPKK-PP).KK5  41.984400   0.859834  45.019300   \n",
      "(dephosphorylation of MAPK-PP).KK9    0.602957  26.693100   0.371350   \n",
      "(dephosphorylation of MAPKK-P).KK6    6.314590   0.499129  27.144000   \n",
      "(phosphorylation of MAPKK-P).KK4     21.867000   0.253545   0.968918   \n",
      "(MAPKKK activation).V1                0.658505  43.883400   0.858275   \n",
      "(MAPKKK activation).Ki                0.284679  82.191400  21.864400   \n",
      "(phosphorylation of MAPK).KK7         8.248110   0.225839   9.773790   \n",
      "(dephosphorylation of MAPK-P).KK10    0.189252  23.817400   0.162587   \n",
      "(phosphorylation of MAPK-P).KK8       0.356793  55.706500  55.441800   \n",
      "(dephosphorylation of MAPKK-PP).V5    0.224788   0.164021   0.279253   \n",
      "(dephosphorylation of MAPK-P).V10     0.208925  19.370000  31.917600   \n",
      "(dephosphorylation of MAPKK-P).V6     0.153769   0.102022   0.344230   \n",
      "(MAPKKK activation).n                28.967900   9.038650  28.683800   \n",
      "RSS                                   0.000002   0.000002   0.000002   \n",
      "\n",
      "                                             6          7  \n",
      "(phosphorylation of MAPKK).KK3        4.858400   3.533160  \n",
      "(MAPKKK activation).K1               22.542400   1.659210  \n",
      "(dephosphorylation of MAPK-PP).V9    30.033600   6.921470  \n",
      "(phosphorylation of MAPK).k7          0.198146   0.256707  \n",
      "(phosphorylation of MAPK-P).k8        0.360212   2.896180  \n",
      "(MAPKKK inactivation).KK2             0.325973  25.807000  \n",
      "(MAPKKK inactivation).V2              1.456410   0.239976  \n",
      "(phosphorylation of MAPKK).k3        97.701300  37.236500  \n",
      "(phosphorylation of MAPKK-P).k4      49.922500   3.113470  \n",
      "(dephosphorylation of MAPKK-PP).KK5   0.706993  18.396300  \n",
      "(dephosphorylation of MAPK-PP).KK9    0.172520   0.527072  \n",
      "(dephosphorylation of MAPKK-P).KK6   34.152600   0.100000  \n",
      "(phosphorylation of MAPKK-P).KK4      5.104750   2.959220  \n",
      "(MAPKKK activation).V1                4.202710   6.695780  \n",
      "(MAPKKK activation).Ki                1.564990  55.698200  \n",
      "(phosphorylation of MAPK).KK7         0.875797   0.195910  \n",
      "(dephosphorylation of MAPK-P).KK10    3.691260   0.102009  \n",
      "(phosphorylation of MAPK-P).KK8       3.611410   0.867384  \n",
      "(dephosphorylation of MAPKK-PP).V5    0.124214   0.654071  \n",
      "(dephosphorylation of MAPK-P).V10     3.843540   4.047130  \n",
      "(dephosphorylation of MAPKK-P).V6     0.144337   1.070640  \n",
      "(MAPKKK activation).n                 4.428770  69.925000  \n",
      "RSS                                   0.000002   0.000002  \n"
     ]
    }
   ],
   "source": [
    "print (PyCoTools.PEAnalysis.ParsePEData(RMPE.kwargs['results_directory']).data.transpose()  )"
   ]
  }
 ],
 "metadata": {
  "hide_input": false,
  "kernelspec": {
   "display_name": "Python [default]",
   "language": "python",
   "name": "python2"
  },
  "language_info": {
   "codemirror_mode": {
    "name": "ipython",
    "version": 2
   },
   "file_extension": ".py",
   "mimetype": "text/x-python",
   "name": "python",
   "nbconvert_exporter": "python",
   "pygments_lexer": "ipython2",
   "version": "2.7.13"
  },
  "toc": {
   "colors": {
    "hover_highlight": "#DAA520",
    "navigate_num": "#000000",
    "navigate_text": "#333333",
    "running_highlight": "#FF0000",
    "selected_highlight": "#FFD700",
    "sidebar_border": "#EEEEEE",
    "wrapper_background": "#FFFFFF"
   },
   "moveMenuLeft": true,
   "nav_menu": {
    "height": "120px",
    "width": "252px"
   },
   "navigate_menu": true,
   "number_sections": true,
   "sideBar": true,
   "threshold": 4,
   "toc_cell": false,
   "toc_section_display": "block",
   "toc_window_display": false,
   "widenNotebook": false
  },
  "varInspector": {
   "cols": {
    "lenName": 16,
    "lenType": 16,
    "lenVar": 40
   },
   "kernels_config": {
    "python": {
     "delete_cmd_postfix": "",
     "delete_cmd_prefix": "del ",
     "library": "var_list.py",
     "varRefreshCmd": "print(var_dic_list())"
    },
    "r": {
     "delete_cmd_postfix": ") ",
     "delete_cmd_prefix": "rm(",
     "library": "var_list.r",
     "varRefreshCmd": "cat(var_dic_list()) "
    }
   },
   "types_to_exclude": [
    "module",
    "function",
    "builtin_function_or_method",
    "instance",
    "_Feature"
   ],
   "window_display": false
  }
 },
 "nbformat": 4,
 "nbformat_minor": 1
}
