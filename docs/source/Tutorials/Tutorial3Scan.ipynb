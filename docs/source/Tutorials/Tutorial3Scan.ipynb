{
 "cells": [
  {
   "cell_type": "markdown",
   "metadata": {
    "deletable": true,
    "editable": true
   },
   "source": [
    "## Parameter Scan"
   ]
  },
  {
   "cell_type": "code",
   "execution_count": 1,
   "metadata": {
    "ExecuteTime": {
     "end_time": "2017-11-10T12:04:00.228000Z",
     "start_time": "2017-11-10T12:03:56.476000Z"
    },
    "collapsed": false,
    "deletable": true,
    "editable": true,
    "scrolled": false
   },
   "outputs": [
    {
     "name": "stderr",
     "output_type": "stream",
     "text": [
      "C:\\Anaconda2\\lib\\site-packages\\pycotools\\viz.py:117: FutureWarning: The pandas.parser module is deprecated and will be removed in a future version. Please import from the pandas.io.parser instead\n",
      "  from pandas.parser import CParserError\n"
     ]
    },
    {
     "name": "stdout",
     "output_type": "stream",
     "text": [
      "root:INFO:25:    Initializing pycotools\n",
      "root:INFO:26:    Initializing logging System\n",
      "root:INFO:27:    logging config file at: C:\\Anaconda2\\lib\\site-packages\\pycotools\\logging_config.conf\n"
     ]
    },
    {
     "ename": "ImportError",
     "evalue": "No module named Models.zi_model_variants",
     "output_type": "error",
     "traceback": [
      "\u001b[1;31m---------------------------------------------------------------------------\u001b[0m",
      "\u001b[1;31mImportError\u001b[0m                               Traceback (most recent call last)",
      "\u001b[1;32m<ipython-input-1-a9ac59711968>\u001b[0m in \u001b[0;36m<module>\u001b[1;34m()\u001b[0m\n\u001b[0;32m      2\u001b[0m \u001b[0msite\u001b[0m\u001b[1;33m.\u001b[0m\u001b[0maddsitedir\u001b[0m\u001b[1;33m(\u001b[0m\u001b[1;34m'//home/b3053674/Documents/pycotools'\u001b[0m\u001b[1;33m)\u001b[0m\u001b[1;33m\u001b[0m\u001b[0m\n\u001b[0;32m      3\u001b[0m \u001b[1;32mfrom\u001b[0m \u001b[0mpycotools\u001b[0m \u001b[1;32mimport\u001b[0m \u001b[1;33m*\u001b[0m\u001b[1;33m\u001b[0m\u001b[0m\n\u001b[1;32m----> 4\u001b[1;33m \u001b[1;32mfrom\u001b[0m \u001b[0mpycotools\u001b[0m\u001b[1;33m.\u001b[0m\u001b[0mModels\u001b[0m\u001b[1;33m.\u001b[0m\u001b[0mzi_model_variants\u001b[0m \u001b[1;32mimport\u001b[0m \u001b[0mModels\u001b[0m\u001b[1;33m\u001b[0m\u001b[0m\n\u001b[0m\u001b[0;32m      5\u001b[0m \u001b[1;32mimport\u001b[0m \u001b[0mos\u001b[0m\u001b[1;33m\u001b[0m\u001b[0m\n\u001b[0;32m      6\u001b[0m \u001b[1;32mfrom\u001b[0m \u001b[0mlxml\u001b[0m \u001b[1;32mimport\u001b[0m \u001b[0metree\u001b[0m\u001b[1;33m\u001b[0m\u001b[0m\n",
      "\u001b[1;31mImportError\u001b[0m: No module named Models.zi_model_variants"
     ]
    }
   ],
   "source": [
    "import site\n",
    "site.addsitedir('//home/b3053674/Documents/pycotools')\n",
    "from pycotools import *\n",
    "from pycotools.Models.zi_model_variants import Models\n",
    "import os\n",
    "from lxml import etree"
   ]
  },
  {
   "cell_type": "markdown",
   "metadata": {
    "deletable": true,
    "editable": true
   },
   "source": [
    "## Get Model String"
   ]
  },
  {
   "cell_type": "code",
   "execution_count": null,
   "metadata": {
    "ExecuteTime": {
     "end_time": "2017-11-10T12:04:00.233000Z",
     "start_time": "2017-11-10T12:03:56.465Z"
    },
    "collapsed": true,
    "deletable": true,
    "editable": true
   },
   "outputs": [],
   "source": [
    "## Get model string from Pycotools Models folder\n",
    "model_string = Models().published_zi\n",
    "\n",
    "## specify directory for workspace\n",
    "dire = r'/home/b3053674/Documents/Models/2017/10_Oct/TutorialWorkspace'\n",
    "\n",
    "## name our copasi file\n",
    "copasi_file = os.path.join(dire, 'zi_model.cps')\n",
    "\n",
    "# write model to file\n",
    "with open(copasi_file, 'w') as f:\n",
    "    f.write(model_string)\n",
    "    \n",
    "## make sure it exists\n",
    "assert os.path.isfile(copasi_file)"
   ]
  },
  {
   "cell_type": "markdown",
   "metadata": {
    "deletable": true,
    "editable": true
   },
   "source": [
    "## Parse Model "
   ]
  },
  {
   "cell_type": "code",
   "execution_count": null,
   "metadata": {
    "ExecuteTime": {
     "end_time": "2017-11-10T12:04:00.237000Z",
     "start_time": "2017-11-10T12:03:56.490Z"
    },
    "collapsed": false,
    "deletable": true,
    "editable": true
   },
   "outputs": [],
   "source": [
    "zi = model.Model(copasi_file)\n",
    "zi"
   ]
  },
  {
   "cell_type": "markdown",
   "metadata": {
    "deletable": true,
    "editable": true
   },
   "source": [
    "Copasi supports three types of scan: \n",
    "\n",
    "## Parameter Scan\n",
    "Set up a scan subtask with a single parameter being systematically varied. Run the scan via CopasiSE."
   ]
  },
  {
   "cell_type": "code",
   "execution_count": null,
   "metadata": {
    "ExecuteTime": {
     "end_time": "2017-11-10T12:04:00.240000Z",
     "start_time": "2017-11-10T12:03:56.513Z"
    },
    "collapsed": false,
    "deletable": true,
    "editable": true,
    "scrolled": true
   },
   "outputs": [],
   "source": [
    "S = tasks.Scan(\n",
    "    zi, scan_type='scan', subtask='time_course', report_type='time_course',\n",
    "    report_name = 'ParameterScanOfTimeCourse.txt', variable='Smad4n',\n",
    "    minimum=1, maximum=20, number_of_steps=8, run=True,\n",
    ")\n",
    "\n",
    "## Now check parameter scan data exists\n",
    "os.path.isfile(S.report_name)"
   ]
  },
  {
   "cell_type": "markdown",
   "metadata": {
    "deletable": true,
    "editable": true
   },
   "source": [
    "## 2 Way Parameter Scan\n",
    "By default, scan tasks are removed before setting up a new scan. To set up dual scans, set  clear_scans to False in a  second call to `Scan`."
   ]
  },
  {
   "cell_type": "code",
   "execution_count": null,
   "metadata": {
    "ExecuteTime": {
     "end_time": "2017-11-10T12:04:00.243000Z",
     "start_time": "2017-11-10T12:03:56.533Z"
    },
    "collapsed": false,
    "deletable": true,
    "editable": true
   },
   "outputs": [],
   "source": [
    "## Clear scans for setting up first scan\n",
    "tasks.Scan(\n",
    "    zi, scan_type='scan', subtask='time_course', report_type='time_course',\n",
    "    variable='Smad4n', minimum=1, maximum=20, number_of_steps=8, run=False, clear_scan=True,\n",
    ")\n",
    "\n",
    "## do not clear tasks when setting up the second\n",
    "S = tasks.Scan(\n",
    "    zi, scan_type='scan', subtask='time_course', report_type='time_course',\n",
    "    report_name = 'TwoWayParameterScanOfTimeCourse.csv', variable='Smad4c',\n",
    "    minimum=1, maximum=20, number_of_steps=8, run=True, clear_scan=False,\n",
    ")\n",
    "\n",
    "## check the output exists\n",
    "os.path.isfile(S.report_name)"
   ]
  },
  {
   "cell_type": "markdown",
   "metadata": {
    "deletable": true,
    "editable": true
   },
   "source": [
    "An arbitrary number of scans can be setup this way. Further, its possible to chain together scans with repeat or random distribution scans."
   ]
  },
  {
   "cell_type": "markdown",
   "metadata": {
    "deletable": true,
    "editable": true
   },
   "source": [
    "## Repeat Scan Items\n",
    "Repeat scans are very useful for running multiple parameter estimations and for running stochastic time courses."
   ]
  },
  {
   "cell_type": "code",
   "execution_count": null,
   "metadata": {
    "ExecuteTime": {
     "end_time": "2017-11-10T12:04:00.246000Z",
     "start_time": "2017-11-10T12:03:56.574Z"
    },
    "collapsed": false,
    "deletable": true,
    "editable": true
   },
   "outputs": [],
   "source": [
    "## Assume Parameter Estimation task already configured\n",
    "tasks.Scan(\n",
    "    zi, scan_type='repeat', subtask='parameter_estimation', report_type='parameter_estimation',\n",
    "    number_of_steps=6, run=False, ##set run to True to run via CopasiSE\n",
    ")\n",
    "\n",
    "\n",
    "## Assume model runs stochastically and time course settings are already configured\n",
    "tasks.Scan(\n",
    "    zi, scan_type='repeat', subtask='time_course', report_type='time_course',\n",
    "    number_of_steps=100, run=False,  ##set run to True to run via CopasiSE\n",
    ")"
   ]
  }
 ],
 "metadata": {
  "hide_input": false,
  "kernelspec": {
   "display_name": "Python 2",
   "language": "python",
   "name": "python2"
  },
  "language_info": {
   "codemirror_mode": {
    "name": "ipython",
    "version": 2
   },
   "file_extension": ".py",
   "mimetype": "text/x-python",
   "name": "python",
   "nbconvert_exporter": "python",
   "pygments_lexer": "ipython2",
   "version": "2.7.11"
  },
  "latex_envs": {
   "LaTeX_envs_menu_present": true,
   "autocomplete": true,
   "bibliofile": "biblio.bib",
   "cite_by": "apalike",
   "current_citInitial": 1,
   "eqLabelWithNumbers": true,
   "eqNumInitial": 1,
   "hotkeys": {
    "equation": "Ctrl-E",
    "itemize": "Ctrl-I"
   },
   "labels_anchors": false,
   "latex_user_defs": false,
   "report_style_numbering": false,
   "user_envs_cfg": false
  },
  "toc": {
   "colors": {
    "hover_highlight": "#DAA520",
    "navigate_num": "#000000",
    "navigate_text": "#333333",
    "running_highlight": "#FF0000",
    "selected_highlight": "#FFD700",
    "sidebar_border": "#EEEEEE",
    "wrapper_background": "#FFFFFF"
   },
   "moveMenuLeft": true,
   "nav_menu": {
    "height": "102px",
    "width": "252px"
   },
   "navigate_menu": true,
   "number_sections": true,
   "sideBar": true,
   "threshold": 4,
   "toc_cell": false,
   "toc_section_display": "block",
   "toc_window_display": true,
   "widenNotebook": false
  },
  "varInspector": {
   "cols": {
    "lenName": 16,
    "lenType": 16,
    "lenVar": 40
   },
   "kernels_config": {
    "python": {
     "delete_cmd_postfix": "",
     "delete_cmd_prefix": "del ",
     "library": "var_list.py",
     "varRefreshCmd": "print(var_dic_list())"
    },
    "r": {
     "delete_cmd_postfix": ") ",
     "delete_cmd_prefix": "rm(",
     "library": "var_list.r",
     "varRefreshCmd": "cat(var_dic_list()) "
    }
   },
   "types_to_exclude": [
    "module",
    "function",
    "builtin_function_or_method",
    "instance",
    "_Feature"
   ],
   "window_display": false
  }
 },
 "nbformat": 4,
 "nbformat_minor": 2
}
