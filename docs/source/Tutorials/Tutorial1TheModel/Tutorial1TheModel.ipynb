{
 "cells": [
  {
   "cell_type": "markdown",
   "metadata": {},
   "source": [
    "# Tutorial 1: The Model\n",
    "The `pycotools.model.Model` class is of central importance in pycotools. Copasi models are parsed from the copasi xml into custom python classes for storing model components such as metabolites, global quantities or reactions.  \n",
    "\n",
    "### Imports"
   ]
  },
  {
   "cell_type": "code",
   "execution_count": 1,
   "metadata": {
    "ExecuteTime": {
     "end_time": "2017-10-15T22:52:31.045437Z",
     "start_time": "2017-10-15T22:52:30.452617Z"
    }
   },
   "outputs": [
    {
     "name": "stderr",
     "output_type": "stream",
     "text": [
      "//home/b3053674/Documents/pycotools/pycotools/viz.py:116: FutureWarning: The pandas.parser module is deprecated and will be removed in a future version. Please import from the pandas.io.parser instead\n",
      "  from pandas.parser import CParserError\n"
     ]
    },
    {
     "name": "stdout",
     "output_type": "stream",
     "text": [
      "root:INFO:27:    Initializing pycotools\n",
      "root:INFO:28:    Initializing logging System\n",
      "root:INFO:29:    logging config file at: //home/b3053674/Documents/pycotools/pycotools/logging_config.conf\n"
     ]
    }
   ],
   "source": [
    "import site\n",
    "site.addsitedir('//home/b3053674/Documents/pycotools')\n",
    "from pycotools import *\n",
    "from pycotools.Tests import test_models\n",
    "import os\n",
    "from lxml import etree"
   ]
  },
  {
   "cell_type": "markdown",
   "metadata": {},
   "source": [
    "## Get Example Model\n",
    "The Tests folder of the pycotools distribution is a mini python package containing a single importable file called test_models. The test_models.py module is simply a container for a collection of copasi models in xml format. These models are used throughout the tutorials. \n",
    "\n",
    "### Test models\n",
    "-  Zi et al 2012\n",
    "-  Kholodenko 2000"
   ]
  },
  {
   "cell_type": "code",
   "execution_count": 2,
   "metadata": {
    "ExecuteTime": {
     "end_time": "2017-10-15T22:52:31.053691Z",
     "start_time": "2017-10-15T22:52:31.047207Z"
    }
   },
   "outputs": [],
   "source": [
    "## get string model from test_models\n",
    "zi_model_string = test_models.TestModels().zi_model()\n",
    "\n",
    "## get a working directory. Change this to change this to wherever you like\n",
    "directory = r'/home/b3053674/Documents/pycotools/pycotools/Examples'\n",
    "\n",
    "## choose path to zi model\n",
    "zi_path = os.path.join(directory, 'zi2012.cps')\n",
    "\n",
    "##write model to file\n",
    "with open(zi_path, 'w') as f:\n",
    "    f.write(zi_model_string)\n",
    "    \n",
    "## check file exists\n",
    "if not os.path.isfile(zi_path):\n",
    "    raise Exception\n",
    "\n"
   ]
  },
  {
   "cell_type": "markdown",
   "metadata": {},
   "source": [
    "# Parse a Model into Pycotools\n",
    "The model.Model class accepts a path to a existing copasi file"
   ]
  },
  {
   "cell_type": "code",
   "execution_count": 3,
   "metadata": {
    "ExecuteTime": {
     "end_time": "2017-10-15T22:52:31.165287Z",
     "start_time": "2017-10-15T22:52:31.056632Z"
    }
   },
   "outputs": [
    {
     "data": {
      "text/plain": [
       "Model(name=Zi2007_TGFbeta_signaling, time_unit=min, volume_unit=l, quantity_unit=nmol)"
      ]
     },
     "execution_count": 3,
     "metadata": {},
     "output_type": "execute_result"
    }
   ],
   "source": [
    "zi = model.Model(zi_path)\n",
    "zi"
   ]
  },
  {
   "cell_type": "markdown",
   "metadata": {},
   "source": [
    "# Open and Save\n",
    "It is sometimes desirable to `open` a copasi model that you're working with to manually perform sanity checks. The Model class has the open method for convenience: "
   ]
  },
  {
   "cell_type": "code",
   "execution_count": null,
   "metadata": {
    "ExecuteTime": {
     "start_time": "2017-10-15T22:52:30.605Z"
    }
   },
   "outputs": [],
   "source": [
    "zi.open()"
   ]
  },
  {
   "cell_type": "markdown",
   "metadata": {},
   "source": [
    "The `Model.open()` method implicitly saves to file before calling CopasiUI form the command line. This means that the environment variable CopasiUI must be set and pointing to the location of the CopasiUI.exe (this is usually done when copasi installs). By default, the model is overwritten but this behaviour can be modified by passing a new filename to the `copasi_file` argument:"
   ]
  },
  {
   "cell_type": "code",
   "execution_count": null,
   "metadata": {
    "ExecuteTime": {
     "start_time": "2017-10-15T22:52:30.648Z"
    }
   },
   "outputs": [],
   "source": [
    "## modify the zi path\n",
    "new_path = zi_path[:-4]+'2.cps'\n",
    "\n",
    "## saves model to new_path then opens\n",
    "zi.open(copasi_file=new_path)"
   ]
  },
  {
   "cell_type": "markdown",
   "metadata": {},
   "source": [
    "The `Model.save()` behaves similarly to `Model.open`. By default it overwrites but takes an optional `copasi_file` as an argument."
   ]
  },
  {
   "cell_type": "code",
   "execution_count": null,
   "metadata": {
    "ExecuteTime": {
     "start_time": "2017-10-15T22:52:30.697Z"
    }
   },
   "outputs": [],
   "source": [
    "zi.save()\n",
    "\n",
    "##equivalent\n",
    "zi.save(copasi_file=zi_path)"
   ]
  },
  {
   "cell_type": "markdown",
   "metadata": {},
   "source": [
    "# Get Model Information \n",
    "## Model attributes\n",
    "Global model information such as model units or components are available as python attributes. "
   ]
  },
  {
   "cell_type": "code",
   "execution_count": null,
   "metadata": {
    "ExecuteTime": {
     "start_time": "2017-10-15T22:52:30.743Z"
    }
   },
   "outputs": [],
   "source": [
    "attributes = ['time_unit', 'name', 'volume_unit', 'quantity_unit', 'area_unit', \n",
    "        'length_unit']\n",
    "for attr in attributes:\n",
    "    print ('is {} in zi model attributes? --> {}'.format(attr, attr in dir(zi)))\n"
   ]
  },
  {
   "cell_type": "markdown",
   "metadata": {},
   "source": [
    "## Access Model Attributes\n",
    "Lists of `metabolites`, `global_quantities`, `functions`, `reactions`, `local_parameters` and `compartments` are all available as `model.Model` attributes. For example"
   ]
  },
  {
   "cell_type": "code",
   "execution_count": null,
   "metadata": {
    "ExecuteTime": {
     "start_time": "2017-10-15T22:52:30.797Z"
    }
   },
   "outputs": [],
   "source": [
    "## metabolites\n",
    "print (type(zi.metabolites), len(zi.metabolites))"
   ]
  },
  {
   "cell_type": "code",
   "execution_count": null,
   "metadata": {
    "ExecuteTime": {
     "start_time": "2017-10-15T22:52:30.802Z"
    }
   },
   "outputs": [],
   "source": [
    "## reactions\n",
    "print (type(zi.reactions), len(zi.reactions))"
   ]
  },
  {
   "cell_type": "markdown",
   "metadata": {},
   "source": [
    "Each element of the list returned from an attribute is a pycotools object."
   ]
  },
  {
   "cell_type": "code",
   "execution_count": null,
   "metadata": {
    "ExecuteTime": {
     "start_time": "2017-10-15T22:52:30.855Z"
    }
   },
   "outputs": [],
   "source": [
    "print(type(zi.metabolites[0]))\n",
    "zi.metabolites[0]"
   ]
  },
  {
   "cell_type": "markdown",
   "metadata": {},
   "source": [
    "There are objects for `GlobalQuantity`, `Function`, `Reaction`, `LocalParameter` and `Compartment`. classes. These classes are storage classes and relevant information about that class is available as a python attribute."
   ]
  },
  {
   "cell_type": "code",
   "execution_count": null,
   "metadata": {
    "ExecuteTime": {
     "start_time": "2017-10-15T22:52:30.905Z"
    }
   },
   "outputs": [],
   "source": [
    "##get global quantities list\n",
    "list_of_global_quantities = zi.global_quantities\n",
    "print ('type list_of_global_quantities --> {}'.format(type(list_of_global_quantities)))\n",
    "\n",
    "##get first GlobalQuantity in list\n",
    "global_quantity = list_of_global_quantities[0]\n",
    "print ('type global_quantity --> {}'.format(type(global_quantity)))\n",
    "\n",
    "## name of first GlobalQuantity\n",
    "print ('First global quantity in the list is --> {}'.format(global_quantity.name))\n",
    "\n",
    "## starting value of first GlobalQuantity\n",
    "print ('First global quantity in the list has initial value of --> {}'.format(global_quantity.initial_value))"
   ]
  },
  {
   "cell_type": "markdown",
   "metadata": {},
   "source": [
    "# Get, Set, Add and Remove\n",
    "## How to get model objects\n",
    "The `Model.get` method is a high level interface into pycotools model components. All types of pycotools component and their attributes are supported. Refer to the documentation for which model components contain which attributes. \n",
    "\n",
    "Here are some examples:\n",
    "\n",
    "### Get the Smad3c metabolite"
   ]
  },
  {
   "cell_type": "code",
   "execution_count": null,
   "metadata": {
    "ExecuteTime": {
     "start_time": "2017-10-15T22:52:30.960Z"
    }
   },
   "outputs": [],
   "source": [
    "## get smad3 metabolite by name\n",
    "print (zi.get('metabolite', 'Smad3c', by='name'))"
   ]
  },
  {
   "cell_type": "markdown",
   "metadata": {},
   "source": [
    "### Get any global quantity with a fixed simulation_type attribute "
   ]
  },
  {
   "cell_type": "code",
   "execution_count": null,
   "metadata": {
    "ExecuteTime": {
     "start_time": "2017-10-15T22:52:31.026Z"
    },
    "scrolled": false
   },
   "outputs": [],
   "source": [
    "## get qlobal quantities with fixed simulation type\n",
    "print (zi.get('global_quantity', 'fixed', by='simulation_type'))"
   ]
  },
  {
   "cell_type": "markdown",
   "metadata": {},
   "source": [
    "### Get a function by its expression"
   ]
  },
  {
   "cell_type": "code",
   "execution_count": null,
   "metadata": {
    "ExecuteTime": {
     "start_time": "2017-10-15T22:52:31.095Z"
    }
   },
   "outputs": [],
   "source": [
    "print (zi.get('function', 'v', by='expression'))"
   ]
  },
  {
   "cell_type": "markdown",
   "metadata": {},
   "source": [
    "### Get all local parameters in the R17_LRC_formation reaction"
   ]
  },
  {
   "cell_type": "code",
   "execution_count": null,
   "metadata": {
    "ExecuteTime": {
     "start_time": "2017-10-15T22:52:31.183Z"
    }
   },
   "outputs": [],
   "source": [
    "print (zi.get('local_parameter', 'R17_LRC_formation', by='reaction_name'))"
   ]
  },
  {
   "cell_type": "markdown",
   "metadata": {},
   "source": [
    "## How to change existing model attributes\n",
    "Like `get` the `Model.set` method is a high level interface that takes a model component as first argument. The `set` method first searches the model for a component using the `get` method and then changes an attribute of the returned object. Often the attribute you want to change is the same as the attribute you've used to locate the object of interest (i.e. changing the name of a component). This does not need to be the case however. Here are some examples:\n",
    "\n",
    "### Change the name of a metabolite"
   ]
  },
  {
   "cell_type": "code",
   "execution_count": null,
   "metadata": {
    "ExecuteTime": {
     "start_time": "2017-10-15T22:52:31.301Z"
    }
   },
   "outputs": [],
   "source": [
    "## before the change\n",
    "print(zi.get('metabolite', 'Smad3c', by='name'))\n",
    "\n",
    "## Set the name of the metabolite with name 'Smad3c to 'NewSmad3c  \n",
    "zi.set('metabolite', 'Smad3c', 'NewSmad3c', match_field='name', change_field='name')\n",
    "\n",
    "## get Smad3c after the change\n",
    "print( zi.get('metabolite', 'Smad3c', by='name')) ## returns [] since it now doesn't exist\n",
    "\n",
    "## get NewSmad3c after the change\n",
    "print(zi.get('metabolite', 'NewSmad3c', by='name')) ##default value for by arg is 'name'\n",
    "\n",
    "## Change the name back\n",
    "zi.set('metabolite', 'NewSmad3c', 'Smad3c', match_field='name', change_field='name')\n",
    "## get Smad3c again after the change back\n",
    "print(zi.get('metabolite', 'Smad3c', by='name'))"
   ]
  },
  {
   "cell_type": "markdown",
   "metadata": {},
   "source": [
    "### Change initial_value of a global_quantity"
   ]
  },
  {
   "cell_type": "code",
   "execution_count": null,
   "metadata": {
    "ExecuteTime": {
     "start_time": "2017-10-15T22:52:31.463Z"
    }
   },
   "outputs": [],
   "source": [
    "## get Kexp_Smad2n global before a change\n",
    "kexp_smad2n = zi.get('global_quantity', 'Kexp_Smad2n', by='name')\n",
    "print(kexp_smad2n)\n",
    "\n",
    "## keep the initial value for later\n",
    "original_initial_value = kexp_smad2n.initial_value\n",
    "\n",
    "## change initial_value\n",
    "print (zi.set('global_quantity', 'Kexp_Smad2n', 35, match_field='name', change_field='initial_value'))\n",
    "zi.open()\n",
    "## get Kexp_Smad2n after the change\n",
    "print (zi.get('global_quantity', 'Kexp_Smad2n', by='name'))\n",
    "\n",
    "## change back to original value\n",
    "zi.set('global_quantity', 'Kexp_Smad2n', original_initial_value, match_field='name', change_field='initial_value')"
   ]
  },
  {
   "cell_type": "markdown",
   "metadata": {},
   "source": [
    "## How to add a model component\n",
    "It is possible to add components to a copasi model directly from pycotools. However, the best way to add components is still to use the copasi GUI (easily accessable using the `Model.open` method). \n",
    "\n",
    "To add a component to the model directly from python, first create an instance of the class for the component you want to add. The possibilities are `model.Compartment`, `model.Metabolite`, `model.GlobalQuantity`, `model.Reaction`, `model.Function`. \n",
    "\n",
    "Note that support has not been built for assigning global_quantities to rate parameters for reactions. This is on the TODO list. \n",
    "\n",
    "### Add a metabolite"
   ]
  },
  {
   "cell_type": "code",
   "execution_count": null,
   "metadata": {
    "ExecuteTime": {
     "start_time": "2017-10-15T22:52:31.563Z"
    }
   },
   "outputs": [],
   "source": [
    "## create a model.Metabolite object with desired attributes\n",
    "metab = model.Metabolite(zi, 'metab', concentration=10, compartment=zi.compartments[1])\n",
    "\n",
    "## add metabolite to model \n",
    "zi = zi.add('metabolite', metab)\n",
    "\n",
    "## Check the metabolite exists\n",
    "zi.get('metabolite', 'metab', by='name')"
   ]
  },
  {
   "cell_type": "markdown",
   "metadata": {},
   "source": [
    "Alternatively create a metabolite with default attribute values"
   ]
  },
  {
   "cell_type": "code",
   "execution_count": null,
   "metadata": {
    "ExecuteTime": {
     "start_time": "2017-10-15T22:52:31.654Z"
    }
   },
   "outputs": [],
   "source": [
    "zi = zi.add('metabolite', 'this_is_a_new_metabolite')\n",
    "\n",
    "zi.get('metabolite', 'this_is_a_new_metabolite')"
   ]
  },
  {
   "cell_type": "markdown",
   "metadata": {},
   "source": [
    "### Add a global quantity to the model"
   ]
  },
  {
   "cell_type": "code",
   "execution_count": null,
   "metadata": {
    "ExecuteTime": {
     "start_time": "2017-10-15T22:52:31.769Z"
    }
   },
   "outputs": [],
   "source": [
    "## Create GlobalQuantity instance\n",
    "x_global = model.GlobalQuantity(zi, 'X', initial_value=25)\n",
    "\n",
    "## add to the model\n",
    "zi.add('global_quantity', x_global)\n",
    "\n",
    "## Get the global quantity\n",
    "zi.get('global_quantity', 'X')"
   ]
  },
  {
   "cell_type": "markdown",
   "metadata": {},
   "source": [
    "### Add a reaction\n",
    "A reaction takes a name, expression and rate law as minimum input requriments. The expression follows the same syntax as COPASI including the spaces. The rate law supports copasi syntax as well. If you want to us, wrap them in a '<>' delimiterse any.  of the other functions that copasi provides (such as `if`, `floor` or `ceil`), wrap them in a '<>' delimiters. "
   ]
  },
  {
   "cell_type": "code",
   "execution_count": null,
   "metadata": {
    "ExecuteTime": {
     "start_time": "2017-10-15T22:52:31.892Z"
    }
   },
   "outputs": [],
   "source": [
    "## create reaction\n",
    "r = model.Reaction(zi, name='new_reaction', expression='A -> B ;C', rate_law='k*A^h-C')\n",
    "\n",
    "\n",
    "## add the reaction\n",
    "zi.add('reaction', r)\n",
    "\n",
    "## check the reaction exists\n",
    "print(zi.get('reaction', 'new_reaction', by='name'))"
   ]
  },
  {
   "cell_type": "markdown",
   "metadata": {},
   "source": [
    "## Remove model components\n",
    "We've just added a metabolite called `metab` and `this_is_a_new_metabolite`, a global quantity called `X` and a reaction called `new_reaction`. We can remove these components again with the model.Remove method"
   ]
  },
  {
   "cell_type": "code",
   "execution_count": null,
   "metadata": {
    "ExecuteTime": {
     "start_time": "2017-10-15T22:52:32.031Z"
    }
   },
   "outputs": [],
   "source": [
    "## Use simple list comprehension to remove both metabolites at the same time\n",
    "[zi.remove('metabolite', i) for i in ['metab', 'this_is_a_new_metabolite']]\n",
    "\n",
    "## remove global_quantity called 'X'\n",
    "zi.remove('global_quantity', 'X')\n",
    "\n",
    "## remove reaction called new_reaction\n",
    "zi.remove('reaction', 'new_reaction')"
   ]
  }
 ],
 "metadata": {
  "hide_input": false,
  "kernelspec": {
   "display_name": "Python [conda env:py27]",
   "language": "python",
   "name": "conda-env-py27-py"
  },
  "language_info": {
   "codemirror_mode": {
    "name": "ipython",
    "version": 2
   },
   "file_extension": ".py",
   "mimetype": "text/x-python",
   "name": "python",
   "nbconvert_exporter": "python",
   "pygments_lexer": "ipython2",
   "version": "2.7.13"
  },
  "latex_envs": {
   "LaTeX_envs_menu_present": true,
   "autocomplete": true,
   "bibliofile": "biblio.bib",
   "cite_by": "apalike",
   "current_citInitial": 1,
   "eqLabelWithNumbers": true,
   "eqNumInitial": 1,
   "hotkeys": {
    "equation": "Ctrl-E",
    "itemize": "Ctrl-I"
   },
   "labels_anchors": false,
   "latex_user_defs": false,
   "report_style_numbering": false,
   "user_envs_cfg": false
  },
  "toc": {
   "colors": {
    "hover_highlight": "#DAA520",
    "navigate_num": "#000000",
    "navigate_text": "#333333",
    "running_highlight": "#FF0000",
    "selected_highlight": "#FFD700",
    "sidebar_border": "#EEEEEE",
    "wrapper_background": "#FFFFFF"
   },
   "moveMenuLeft": true,
   "nav_menu": {
    "height": "238px",
    "width": "252px"
   },
   "navigate_menu": true,
   "number_sections": true,
   "sideBar": true,
   "threshold": 4,
   "toc_cell": false,
   "toc_section_display": "block",
   "toc_window_display": true,
   "widenNotebook": false
  },
  "varInspector": {
   "cols": {
    "lenName": 16,
    "lenType": 16,
    "lenVar": 40
   },
   "kernels_config": {
    "python": {
     "delete_cmd_postfix": "",
     "delete_cmd_prefix": "del ",
     "library": "var_list.py",
     "varRefreshCmd": "print(var_dic_list())"
    },
    "r": {
     "delete_cmd_postfix": ") ",
     "delete_cmd_prefix": "rm(",
     "library": "var_list.r",
     "varRefreshCmd": "cat(var_dic_list()) "
    }
   },
   "types_to_exclude": [
    "module",
    "function",
    "builtin_function_or_method",
    "instance",
    "_Feature"
   ],
   "window_display": false
  }
 },
 "nbformat": 4,
 "nbformat_minor": 2
}
