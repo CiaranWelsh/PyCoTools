{
 "cells": [
  {
   "cell_type": "markdown",
   "metadata": {},
   "source": [
    "## TimeCourse\n",
    "\n",
    " \n",
    "\n",
    "### Imports and Getting the Test Model"
   ]
  },
  {
   "cell_type": "code",
   "execution_count": 19,
   "metadata": {
    "ExecuteTime": {
     "end_time": "2018-02-03T21:12:40.792510Z",
     "start_time": "2018-02-03T21:12:40.515378Z"
    },
    "scrolled": true
   },
   "outputs": [],
   "source": [
    "%matplotlib inline\n",
    "from pycotools import model, tasks, viz, misc, models\n",
    "import os\n",
    "import pandas\n",
    "from lxml import etree"
   ]
  },
  {
   "cell_type": "markdown",
   "metadata": {},
   "source": [
    "### Get Model Object "
   ]
  },
  {
   "cell_type": "code",
   "execution_count": 7,
   "metadata": {
    "ExecuteTime": {
     "end_time": "2018-02-03T13:39:19.723932Z",
     "start_time": "2018-02-03T13:39:19.710847Z"
    }
   },
   "outputs": [],
   "source": [
    "## get string model from `models`\n",
    "zi_model_string = models.ZiModels().published_zi\n",
    "\n",
    "## get a working directory. Change this to change this to wherever you like\n",
    "directory = r'/home/b3053674/Documents/Models/2017/10_Oct/TutorialWorkspace'\n",
    "\n",
    "## choose path to zi model\n",
    "zi_path = os.path.join(directory, 'zi2012.cps')\n",
    "\n",
    "##write model to file\n",
    "with open(zi_path, 'w') as f:\n",
    "    f.write(zi_model_string)\n",
    "    \n",
    "## check file exists\n",
    "if not os.path.isfile(zi_path):\n",
    "    raise Exception\n",
    "    \n",
    "zi = model.Model(zi_path)"
   ]
  },
  {
   "cell_type": "markdown",
   "metadata": {},
   "source": [
    "### Deterministic Time Course\n",
    "#### Run a deterministic time course"
   ]
  },
  {
   "cell_type": "code",
   "execution_count": null,
   "metadata": {
    "ExecuteTime": {
     "end_time": "2018-02-03T13:34:55.382160Z",
     "start_time": "2018-02-03T13:34:54.968181Z"
    },
    "scrolled": true
   },
   "outputs": [],
   "source": [
    "TC = tasks.TimeCourse(\n",
    "    zi, report_name='zi_timecourse_report.txt',\n",
    "    end=1000, intervals=50, step_size=20\n",
    ")\n",
    "\n",
    "## check its worked\n",
    "os.path.isfile(TC.report_name)\n",
    "\n",
    "\n",
    "df = pandas.read_csv(TC.report_name, sep='\\t')\n",
    "df.head()"
   ]
  },
  {
   "cell_type": "markdown",
   "metadata": {},
   "source": [
    "##### Save time course configured model"
   ]
  },
  {
   "cell_type": "code",
   "execution_count": null,
   "metadata": {
    "ExecuteTime": {
     "end_time": "2018-02-03T13:34:56.683615Z",
     "start_time": "2018-02-03T13:34:56.669135Z"
    }
   },
   "outputs": [],
   "source": [
    "zi = TC.model\n",
    "zi.save()"
   ]
  },
  {
   "cell_type": "markdown",
   "metadata": {},
   "source": [
    "The following equation must hold true: $intervals \\cdot step\\_size = end$. Alternatively, the model can be saved by setting the `save` keyword to True. \n",
    "\n",
    "#### Being selective about which output variables to select\n",
    "Use the `metabolites`, `global_quantities` and `local_parameters` arguments"
   ]
  },
  {
   "cell_type": "code",
   "execution_count": null,
   "metadata": {
    "ExecuteTime": {
     "end_time": "2018-02-03T13:34:58.585973Z",
     "start_time": "2018-02-03T13:34:58.215498Z"
    },
    "scrolled": false
   },
   "outputs": [],
   "source": [
    "TC=tasks.TimeCourse(\n",
    "    zi,\n",
    "    report_name='zi_timecourse_report.txt',\n",
    "    end=1000,\n",
    "    intervals=50,\n",
    "    step_size=20,\n",
    "    metabolites=['Smad3c','Smad3n', 'Smad4n', 'Smad4c'],\n",
    "    global_quantities = [],\n",
    "    save=True\n",
    ")\n",
    "\n",
    "##check that we only have two variables\n",
    "pandas.read_csv(TC.report_name,sep='\\t').head()"
   ]
  },
  {
   "cell_type": "markdown",
   "metadata": {},
   "source": [
    "Note that this model is specifically a deterministic model and will not simulate with the stochastic or hybrid solvers. "
   ]
  },
  {
   "cell_type": "markdown",
   "metadata": {},
   "source": [
    "### Visualization"
   ]
  },
  {
   "cell_type": "markdown",
   "metadata": {},
   "source": [
    "#### Plot the results\n",
    "By default all species are plotted separetly"
   ]
  },
  {
   "cell_type": "code",
   "execution_count": null,
   "metadata": {
    "ExecuteTime": {
     "end_time": "2018-02-03T13:35:01.356908Z",
     "start_time": "2018-02-03T13:35:00.388672Z"
    }
   },
   "outputs": [],
   "source": [
    "viz.PlotTimeCourse(TC)"
   ]
  },
  {
   "cell_type": "markdown",
   "metadata": {},
   "source": [
    "#### Plot on the same axis\n",
    "We can plot on the same axis"
   ]
  },
  {
   "cell_type": "code",
   "execution_count": null,
   "metadata": {
    "ExecuteTime": {
     "end_time": "2018-02-03T13:35:03.644932Z",
     "start_time": "2018-02-03T13:35:03.428538Z"
    },
    "scrolled": true
   },
   "outputs": [],
   "source": [
    "viz.PlotTimeCourse(TC, separate=False)"
   ]
  },
  {
   "cell_type": "markdown",
   "metadata": {},
   "source": [
    "#### Choose Y variables"
   ]
  },
  {
   "cell_type": "code",
   "execution_count": null,
   "metadata": {
    "ExecuteTime": {
     "end_time": "2018-02-03T13:35:05.747871Z",
     "start_time": "2018-02-03T13:35:05.332691Z"
    }
   },
   "outputs": [],
   "source": [
    "viz.PlotTimeCourse(TC, y=['Smad3c', 'Smad3n'], separate=False)\n",
    "viz.PlotTimeCourse(TC, y=['Smad4c', 'Smad4n'], separate=False)"
   ]
  },
  {
   "cell_type": "markdown",
   "metadata": {},
   "source": [
    "#### Plot in Phase Space\n",
    "Choose the x variable to plot phase space. Same arguments apply as above. "
   ]
  },
  {
   "cell_type": "code",
   "execution_count": null,
   "metadata": {
    "ExecuteTime": {
     "end_time": "2018-02-03T13:35:09.129295Z",
     "start_time": "2018-02-03T13:35:08.357921Z"
    }
   },
   "outputs": [],
   "source": [
    "viz.PlotTimeCourse(TC, x='Smad3c', separate=True)"
   ]
  },
  {
   "cell_type": "markdown",
   "metadata": {},
   "source": []
  },
  {
   "cell_type": "markdown",
   "metadata": {},
   "source": [
    "#### Save to file"
   ]
  },
  {
   "cell_type": "code",
   "execution_count": null,
   "metadata": {
    "ExecuteTime": {
     "end_time": "2018-02-03T13:35:10.958029Z",
     "start_time": "2018-02-03T13:35:10.485128Z"
    }
   },
   "outputs": [],
   "source": [
    "viz.PlotTimeCourse(TC, y=['Smad3c', 'Smad3n'], separate=False, savefig=True, filename='MyTimeCourse.eps')"
   ]
  },
  {
   "cell_type": "markdown",
   "metadata": {},
   "source": [
    "### Alternative Solvers\n",
    "Valid arguments for the `method` argument of `TimeCourse` are:\n",
    "-  deterministic\n",
    "-  direct\n",
    "-  gibson_bruck\n",
    "-  tau_leap\n",
    "-  adaptive_tau_leap\n",
    "-  hybrid_runge_kutta\n",
    "-  hybrid_lsoda\n",
    "\n",
    "Copasi also includes a `hybrid_rk45` solver but this is not yet supported by Pycotools. To use an alternative solver, pass the name of the solver to the `method` argument. \n",
    "\n",
    "#### Stochastic MM\n",
    "For demonstrating simulation of stochastic time courses we load another model from the `models` storage module: The stochastic michaelis menten schema. "
   ]
  },
  {
   "cell_type": "code",
   "execution_count": 11,
   "metadata": {
    "ExecuteTime": {
     "end_time": "2018-02-03T13:41:50.577623Z",
     "start_time": "2018-02-03T13:41:50.565928Z"
    }
   },
   "outputs": [
    {
     "data": {
      "text/plain": [
       "Model(name=New Model, time_unit=s, volume_unit=ml, quantity_unit=mmol)"
      ]
     },
     "execution_count": 11,
     "metadata": {},
     "output_type": "execute_result"
    }
   ],
   "source": [
    "## create filename for stochastic model\n",
    "stochastic_mm = os.path.join(directory, 'stochasticMM.cps')\n",
    "\n",
    "## if already exists, remove so that we can write it again\n",
    "if os.path.isfile(stochastic_mm):\n",
    "    os.remove(stochastic_mm)\n",
    "\n",
    "## Get stochastic mm model from storage class under `models`\n",
    "MM = models.MichaelisMenten()\n",
    "MM.to_file(MM.stochastic, stochastic_mm)\n",
    "\n",
    "if not os.path.isfile(stochastic_mm):\n",
    "    raise Exception('File was not written!')\n",
    "    \n",
    "mm = model.Model(stochastic_mm)\n",
    "mm"
   ]
  },
  {
   "cell_type": "markdown",
   "metadata": {},
   "source": [
    "### Run a Time Course Using Direct Method"
   ]
  },
  {
   "cell_type": "code",
   "execution_count": 20,
   "metadata": {
    "ExecuteTime": {
     "end_time": "2018-02-03T21:12:48.314063Z",
     "start_time": "2018-02-03T21:12:47.283141Z"
    }
   },
   "outputs": [],
   "source": [
    "TC = tasks.TimeCourse(mm, end=1000, intervals=1000, step_size=1, method='direct')"
   ]
  },
  {
   "cell_type": "markdown",
   "metadata": {
    "collapsed": true
   },
   "source": [
    "### Plot stochastic time course"
   ]
  },
  {
   "cell_type": "code",
   "execution_count": 18,
   "metadata": {
    "ExecuteTime": {
     "end_time": "2018-02-03T13:43:29.697559Z",
     "start_time": "2018-02-03T13:43:29.473266Z"
    },
    "scrolled": false
   },
   "outputs": [
    {
     "data": {
      "text/plain": [
       "<pycotools.viz.PlotTimeCourse at 0x7f56314f2410>"
      ]
     },
     "execution_count": 18,
     "metadata": {},
     "output_type": "execute_result"
    },
    {
     "data": {
      "image/png": "[encoded data removed]",
      "text/plain": [
       "<matplotlib.figure.Figure at 0x7f56314f23d0>"
      ]
     },
     "metadata": {},
     "output_type": "display_data"
    }
   ],
   "source": [
    "viz.PlotTimeCourse(TC, separate=False)"
   ]
  }
 ],
 "metadata": {
  "hide_input": false,
  "kernelspec": {
   "display_name": "Python [default]",
   "language": "python",
   "name": "python2"
  },
  "language_info": {
   "codemirror_mode": {
    "name": "ipython",
    "version": 2
   },
   "file_extension": ".py",
   "mimetype": "text/x-python",
   "name": "python",
   "nbconvert_exporter": "python",
   "pygments_lexer": "ipython2",
   "version": "2.7.13"
  },
  "latex_envs": {
   "LaTeX_envs_menu_present": true,
   "autocomplete": true,
   "bibliofile": "biblio.bib",
   "cite_by": "apalike",
   "current_citInitial": 1,
   "eqLabelWithNumbers": true,
   "eqNumInitial": 1,
   "hotkeys": {
    "equation": "Ctrl-E",
    "itemize": "Ctrl-I"
   },
   "labels_anchors": false,
   "latex_user_defs": false,
   "report_style_numbering": false,
   "user_envs_cfg": false
  },
  "toc": {
   "colors": {
    "hover_highlight": "#DAA520",
    "navigate_num": "#000000",
    "navigate_text": "#333333",
    "running_highlight": "#FF0000",
    "selected_highlight": "#FFD700",
    "sidebar_border": "#EEEEEE",
    "wrapper_background": "#FFFFFF"
   },
   "moveMenuLeft": true,
   "nav_menu": {
    "height": "48px",
    "width": "252px"
   },
   "navigate_menu": true,
   "number_sections": true,
   "sideBar": true,
   "threshold": 4,
   "toc_cell": false,
   "toc_position": {
    "height": "813px",
    "left": "0px",
    "right": "1024.67px",
    "top": "131px",
    "width": "212px"
   },
   "toc_section_display": "block",
   "toc_window_display": true,
   "widenNotebook": false
  },
  "varInspector": {
   "cols": {
    "lenName": 16,
    "lenType": 16,
    "lenVar": 40
   },
   "kernels_config": {
    "python": {
     "delete_cmd_postfix": "",
     "delete_cmd_prefix": "del ",
     "library": "var_list.py",
     "varRefreshCmd": "print(var_dic_list())"
    },
    "r": {
     "delete_cmd_postfix": ") ",
     "delete_cmd_prefix": "rm(",
     "library": "var_list.r",
     "varRefreshCmd": "cat(var_dic_list()) "
    }
   },
   "types_to_exclude": [
    "module",
    "function",
    "builtin_function_or_method",
    "instance",
    "_Feature"
   ],
   "window_display": false
  }
 },
 "nbformat": 4,
 "nbformat_minor": 2
}
