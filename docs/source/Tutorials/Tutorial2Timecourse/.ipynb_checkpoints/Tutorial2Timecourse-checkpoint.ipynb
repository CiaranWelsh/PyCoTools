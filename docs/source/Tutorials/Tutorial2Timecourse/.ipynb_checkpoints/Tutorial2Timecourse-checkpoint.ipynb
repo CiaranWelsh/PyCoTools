{
 "cells": [
  {
   "cell_type": "markdown",
   "metadata": {},
   "source": [
    "# TimeCourse\n",
    "\n",
    " \n",
    "\n",
    "## Imports and Getting the Test Model"
   ]
  },
  {
   "cell_type": "code",
   "execution_count": 3,
   "metadata": {
    "ExecuteTime": {
     "end_time": "2017-10-15T22:54:02.190490Z",
     "start_time": "2017-10-15T22:54:02.169529Z"
    }
   },
   "outputs": [],
   "source": [
    "%matplotlib inline\n",
    "import site\n",
    "site.addsitedir('//home/b3053674/Documents/pycotools')\n",
    "from pycotools import model, tasks, viz\n",
    "from pycotools.Tests import test_models\n",
    "import os\n",
    "import pandas\n",
    "from lxml import etree\n",
    "\n",
    "\n",
    "import logging\n",
    "logging.basicConfig(format = '%(levelname)s:%(message)s')\n",
    "LOG=logging.getLogger()\n",
    "\n",
    "## get string model from test_models\n",
    "zi_model_string = test_models.TestModels().zi_model()\n",
    "\n",
    "## get a working directory. Change this to change this to wherever you like\n",
    "directory = r'/home/b3053674/Documents/pycotools/pycotools/Examples'\n",
    "\n",
    "## choose path to zi model\n",
    "zi_path = os.path.join(directory, 'zi2012.cps')\n",
    "\n",
    "##write model to file\n",
    "with open(zi_path, 'w') as f:\n",
    "    f.write(zi_model_string)\n",
    "    \n",
    "## check file exists\n",
    "if not os.path.isfile(zi_path):\n",
    "    raise Exception\n",
    "\n",
    "zi = model.Model(zi_path)"
   ]
  },
  {
   "cell_type": "markdown",
   "metadata": {},
   "source": [
    "# Deterministic Time Course\n",
    "## Run a deterministic time course"
   ]
  },
  {
   "cell_type": "code",
   "execution_count": 2,
   "metadata": {
    "ExecuteTime": {
     "end_time": "2017-10-15T22:53:48.440625Z",
     "start_time": "2017-10-15T22:53:47.864996Z"
    },
    "scrolled": true
   },
   "outputs": [
    {
     "ename": "AttributeError",
     "evalue": "'TimeCourse' object has no attribute 'kwargs'",
     "output_type": "error",
     "traceback": [
      "\u001b[0;31m---------------------------------------------------------------------------\u001b[0m",
      "\u001b[0;31mAttributeError\u001b[0m                            Traceback (most recent call last)",
      "\u001b[0;32m<ipython-input-2-94bc912cf390>\u001b[0m in \u001b[0;36m<module>\u001b[0;34m()\u001b[0m\n\u001b[1;32m      5\u001b[0m \u001b[0;34m\u001b[0m\u001b[0m\n\u001b[1;32m      6\u001b[0m \u001b[0;31m## check its worked\u001b[0m\u001b[0;34m\u001b[0m\u001b[0;34m\u001b[0m\u001b[0m\n\u001b[0;32m----> 7\u001b[0;31m \u001b[0mos\u001b[0m\u001b[0;34m.\u001b[0m\u001b[0mpath\u001b[0m\u001b[0;34m.\u001b[0m\u001b[0misfile\u001b[0m\u001b[0;34m(\u001b[0m\u001b[0mTC\u001b[0m\u001b[0;34m.\u001b[0m\u001b[0mkwargs\u001b[0m\u001b[0;34m[\u001b[0m\u001b[0;34m'report_name'\u001b[0m\u001b[0;34m]\u001b[0m\u001b[0;34m)\u001b[0m\u001b[0;34m\u001b[0m\u001b[0m\n\u001b[0m\u001b[1;32m      8\u001b[0m \u001b[0;34m\u001b[0m\u001b[0m\n\u001b[1;32m      9\u001b[0m \u001b[0;34m\u001b[0m\u001b[0m\n",
      "\u001b[0;31mAttributeError\u001b[0m: 'TimeCourse' object has no attribute 'kwargs'"
     ]
    }
   ],
   "source": [
    "TC = tasks.TimeCourse(\n",
    "    zi, report_name='zi_timecourse_report.txt',\n",
    "    end=1000, intervals=50, step_size=20\n",
    ")\n",
    "\n",
    "## check its worked\n",
    "os.path.isfile(TC.report_name)\n",
    "\n",
    "\n",
    "df = pandas.read_csv(TC.kwargs['report_name'], sep='\\t')\n",
    "df.head()"
   ]
  },
  {
   "cell_type": "markdown",
   "metadata": {},
   "source": [
    "### Save time course configured model"
   ]
  },
  {
   "cell_type": "code",
   "execution_count": null,
   "metadata": {
    "ExecuteTime": {
     "end_time": "2017-10-15T22:53:48.443007Z",
     "start_time": "2017-10-15T22:53:47.053Z"
    }
   },
   "outputs": [],
   "source": [
    "zi = TC.model\n",
    "zi.save()"
   ]
  },
  {
   "cell_type": "markdown",
   "metadata": {},
   "source": [
    "The following equation must hold true: $intervals \\cdot step\\_size = end$. Alternatively, the model can be saved by setting the `save` keyword to True. \n",
    "\n",
    "## Being selective about which output variables to select\n",
    "Use the `metabolites`, `global_quantities` and `local_parameters` arguments"
   ]
  },
  {
   "cell_type": "code",
   "execution_count": null,
   "metadata": {
    "ExecuteTime": {
     "end_time": "2017-10-15T22:53:48.445435Z",
     "start_time": "2017-10-15T22:53:47.108Z"
    },
    "scrolled": false
   },
   "outputs": [],
   "source": [
    "TC=tasks.TimeCourse(\n",
    "    zi,\n",
    "    report_name='kholodenko_timecourse_report.txt',\n",
    "    end=1000,\n",
    "    intervals=50,\n",
    "    step_size=20,\n",
    "    metabolites=['Smad3c','Smad3n', 'Smad4n', 'Smad4c'],\n",
    "    global_quantities = [],\n",
    "    save=True\n",
    ")\n",
    "\n",
    "##check that we only have two variables\n",
    "pandas.read_csv(TC.kwargs['report_name'],sep='\\t').head()"
   ]
  },
  {
   "cell_type": "markdown",
   "metadata": {},
   "source": [
    "# Alternative Solvers\n",
    "Valid arguments for the `method` argument of `TimeCourse` are:\n",
    "-  deterministic\n",
    "-  direct\n",
    "-  gibson_bruck\n",
    "-  tau_leap\n",
    "-  adaptive_tau_leap\n",
    "-  hybrid_runge_kutta\n",
    "-  hybrid_lsoda\n",
    "\n",
    "Copasi also includes a `hybrid_rk45` solver but this is not yet supported by Pycotools. To use an alternative solver, pass the name of the solver to the `method` argument. "
   ]
  },
  {
   "cell_type": "code",
   "execution_count": null,
   "metadata": {
    "ExecuteTime": {
     "end_time": "2017-10-15T22:53:48.447689Z",
     "start_time": "2017-10-15T22:53:47.140Z"
    }
   },
   "outputs": [],
   "source": [
    "## This will fail\n",
    "TC = tasks.TimeCourse(\n",
    "    zi, report_name='zi_timecourse_report.txt', method='direct',\n",
    "    end=1000, intervals=50, step_size=20\n",
    ")"
   ]
  },
  {
   "cell_type": "markdown",
   "metadata": {},
   "source": [
    "Note that this model is specifically a deterministic model and will not simulate with the stochastic or hybrid solvers. "
   ]
  },
  {
   "cell_type": "markdown",
   "metadata": {},
   "source": [
    "# Visualization"
   ]
  },
  {
   "cell_type": "code",
   "execution_count": null,
   "metadata": {
    "ExecuteTime": {
     "end_time": "2017-10-15T22:53:48.449803Z",
     "start_time": "2017-10-15T22:53:47.206Z"
    },
    "scrolled": false
   },
   "outputs": [],
   "source": [
    "viz.PlotTimeCourse(TC)"
   ]
  },
  {
   "cell_type": "code",
   "execution_count": null,
   "metadata": {
    "ExecuteTime": {
     "end_time": "2017-10-15T22:53:48.451815Z",
     "start_time": "2017-10-15T22:53:47.209Z"
    },
    "scrolled": true
   },
   "outputs": [],
   "source": [
    "viz.PlotTimeCourse(TC)"
   ]
  },
  {
   "cell_type": "markdown",
   "metadata": {},
   "source": [
    "Here we have used the `save=True` argument to save the model inplace, rather reassigning the zi model manually. "
   ]
  },
  {
   "cell_type": "markdown",
   "metadata": {},
   "source": [
    "## Plot the results\n",
    "By default all species are plotted separetly"
   ]
  },
  {
   "cell_type": "code",
   "execution_count": null,
   "metadata": {
    "ExecuteTime": {
     "end_time": "2017-10-15T22:53:48.453804Z",
     "start_time": "2017-10-15T22:53:47.275Z"
    },
    "scrolled": true
   },
   "outputs": [],
   "source": [
    "viz.PlotTimeCourse(TC)"
   ]
  },
  {
   "cell_type": "markdown",
   "metadata": {},
   "source": [
    "## Plot on the same axis\n",
    "We can plot on the same axis"
   ]
  },
  {
   "cell_type": "code",
   "execution_count": null,
   "metadata": {
    "ExecuteTime": {
     "end_time": "2017-10-15T22:53:48.456063Z",
     "start_time": "2017-10-15T22:53:47.311Z"
    },
    "scrolled": true
   },
   "outputs": [],
   "source": [
    "viz.PlotTimeCourse(TC, separate=False)"
   ]
  },
  {
   "cell_type": "markdown",
   "metadata": {},
   "source": [
    "## Choose Y variables"
   ]
  },
  {
   "cell_type": "code",
   "execution_count": null,
   "metadata": {
    "ExecuteTime": {
     "end_time": "2017-10-15T22:53:48.461229Z",
     "start_time": "2017-10-15T22:53:47.353Z"
    }
   },
   "outputs": [],
   "source": [
    "viz.PlotTimeCourse(TC, y=['Smad3c', 'Smad3n'], separate=False)\n",
    "viz.PlotTimeCourse(TC, y=['Smad4c', 'Smad4n'], separate=False)"
   ]
  },
  {
   "cell_type": "markdown",
   "metadata": {},
   "source": [
    "## Plot as Phase Space\n",
    "Choose the x variable to plot phase space. Same arguments apply as above. "
   ]
  },
  {
   "cell_type": "code",
   "execution_count": null,
   "metadata": {
    "ExecuteTime": {
     "end_time": "2017-10-15T22:53:48.463778Z",
     "start_time": "2017-10-15T22:53:47.391Z"
    }
   },
   "outputs": [],
   "source": [
    "viz.PlotTimeCourse(TC, x='Smad3c', separate=True)"
   ]
  },
  {
   "cell_type": "markdown",
   "metadata": {},
   "source": []
  },
  {
   "cell_type": "markdown",
   "metadata": {},
   "source": [
    "## Save to file"
   ]
  },
  {
   "cell_type": "code",
   "execution_count": null,
   "metadata": {
    "ExecuteTime": {
     "end_time": "2017-10-15T22:53:48.467344Z",
     "start_time": "2017-10-15T22:53:47.470Z"
    }
   },
   "outputs": [],
   "source": [
    "viz.PlotTimeCourse(TC, y=['Smad3c', 'Smad3n'], separate=False, savefig=True, filename='MyTimeCourse.eps')"
   ]
  },
  {
   "cell_type": "code",
   "execution_count": null,
   "metadata": {},
   "outputs": [],
   "source": []
  }
 ],
 "metadata": {
  "hide_input": false,
  "kernelspec": {
   "display_name": "Python [default]",
   "language": "python",
   "name": "python2"
  },
  "language_info": {
   "codemirror_mode": {
    "name": "ipython",
    "version": 2
   },
   "file_extension": ".py",
   "mimetype": "text/x-python",
   "name": "python",
   "nbconvert_exporter": "python",
   "pygments_lexer": "ipython2",
   "version": "2.7.13"
  },
  "latex_envs": {
   "LaTeX_envs_menu_present": true,
   "autocomplete": true,
   "bibliofile": "biblio.bib",
   "cite_by": "apalike",
   "current_citInitial": 1,
   "eqLabelWithNumbers": true,
   "eqNumInitial": 1,
   "hotkeys": {
    "equation": "Ctrl-E",
    "itemize": "Ctrl-I"
   },
   "labels_anchors": false,
   "latex_user_defs": false,
   "report_style_numbering": false,
   "user_envs_cfg": false
  },
  "toc": {
   "colors": {
    "hover_highlight": "#DAA520",
    "navigate_num": "#000000",
    "navigate_text": "#333333",
    "running_highlight": "#FF0000",
    "selected_highlight": "#FFD700",
    "sidebar_border": "#EEEEEE",
    "wrapper_background": "#FFFFFF"
   },
   "moveMenuLeft": true,
   "nav_menu": {
    "height": "48px",
    "width": "252px"
   },
   "navigate_menu": true,
   "number_sections": true,
   "sideBar": true,
   "threshold": 4,
   "toc_cell": false,
   "toc_position": {
    "height": "681px",
    "left": "0px",
    "right": "1024.67px",
    "top": "130px",
    "width": "212px"
   },
   "toc_section_display": "block",
   "toc_window_display": true,
   "widenNotebook": false
  },
  "varInspector": {
   "cols": {
    "lenName": 16,
    "lenType": 16,
    "lenVar": 40
   },
   "kernels_config": {
    "python": {
     "delete_cmd_postfix": "",
     "delete_cmd_prefix": "del ",
     "library": "var_list.py",
     "varRefreshCmd": "print(var_dic_list())"
    },
    "r": {
     "delete_cmd_postfix": ") ",
     "delete_cmd_prefix": "rm(",
     "library": "var_list.r",
     "varRefreshCmd": "cat(var_dic_list()) "
    }
   },
   "types_to_exclude": [
    "module",
    "function",
    "builtin_function_or_method",
    "instance",
    "_Feature"
   ],
   "window_display": false
  }
 },
 "nbformat": 4,
 "nbformat_minor": 2
}
