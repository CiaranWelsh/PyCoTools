{
 "cells": [
  {
   "cell_type": "markdown",
   "metadata": {
    "collapsed": true
   },
   "source": [
    "# Multiple Parameter Estimations\n",
    "It is often desirable to run a single optimization problem many times. In copasi this is fairly easy using the `repeat` scan item. In Pycotools we can use the `MultipleParameterEstimation` class to the same end.   \n",
    "\n",
    "## Pre-requisites\n",
    "### Get the Demonstration model\n",
    "-  Zi et al 2012"
   ]
  },
  {
   "cell_type": "code",
   "execution_count": 9,
   "metadata": {
    "ExecuteTime": {
     "end_time": "2017-10-27T14:26:53.156022Z",
     "start_time": "2017-10-27T14:26:53.135523Z"
    },
    "scrolled": true
   },
   "outputs": [],
   "source": [
    "%matplotlib inline\n",
    "import site\n",
    "site.addsitedir('/home/b3053674/Documents/pycotools')\n",
    "from pycotools import model, tasks, viz, misc\n",
    "from pycotools.Models.zi_model_variants import Models\n",
    "import os\n",
    "import pandas\n",
    "from lxml import etree\n",
    "\n",
    "## get string model from test_models\n",
    "zi_model_string = Models().published_zi\n",
    "\n",
    "## get a working directory. Change this to change this to wherever you like\n",
    "directory = r'/home/b3053674/Documents/Models/2017/10_Oct/TutorialWorkspace'\n",
    "\n",
    "## choose path to zi model\n",
    "zi_path = os.path.join(directory, 'zi2012.cps')\n",
    "\n",
    "##write model to file\n",
    "with open(zi_path, 'w') as f:\n",
    "    f.write(zi_model_string)\n",
    "    \n",
    "## check file exists\n",
    "if not os.path.isfile(zi_path):\n",
    "    raise Exception\n",
    "    \n",
    "zi = model.Model(zi_path)"
   ]
  },
  {
   "cell_type": "markdown",
   "metadata": {},
   "source": [
    "### Generate Synthetic Data"
   ]
  },
  {
   "cell_type": "code",
   "execution_count": 10,
   "metadata": {
    "ExecuteTime": {
     "end_time": "2017-10-27T14:26:53.699293Z",
     "start_time": "2017-10-27T14:26:53.165519Z"
    },
    "scrolled": true
   },
   "outputs": [],
   "source": [
    "report= 'parameter_estimation_synthetic_data.txt'\n",
    "TC=tasks.TimeCourse(\n",
    "    zi, start=0, end=1000, intervals=10, step_size=100, report_name=report\n",
    ")\n",
    "\n",
    "## validate that its worked\n",
    "pandas.read_csv(TC.report_name,sep='\\t').head()\n",
    "\n",
    "## informative name\n",
    "zi_data_file = TC.report_name"
   ]
  },
  {
   "cell_type": "markdown",
   "metadata": {},
   "source": [
    "### Format synthetic data "
   ]
  },
  {
   "cell_type": "code",
   "execution_count": 11,
   "metadata": {
    "ExecuteTime": {
     "end_time": "2017-10-27T14:26:53.747447Z",
     "start_time": "2017-10-27T14:26:53.701402Z"
    },
    "scrolled": true
   },
   "outputs": [
    {
     "data": {
      "text/html": [
       "<div>\n",
       "<style>\n",
       "    .dataframe thead tr:only-child th {\n",
       "        text-align: right;\n",
       "    }\n",
       "\n",
       "    .dataframe thead th {\n",
       "        text-align: left;\n",
       "    }\n",
       "\n",
       "    .dataframe tbody tr th {\n",
       "        vertical-align: top;\n",
       "    }\n",
       "</style>\n",
       "<table border=\"1\" class=\"dataframe\">\n",
       "  <thead>\n",
       "    <tr style=\"text-align: right;\">\n",
       "      <th></th>\n",
       "      <th>Time</th>\n",
       "      <th>Smad4n</th>\n",
       "      <th>Smad4c</th>\n",
       "      <th>Smad3n</th>\n",
       "      <th>Smad3c</th>\n",
       "      <th>T2R_Surf</th>\n",
       "      <th>T1R_EE</th>\n",
       "      <th>T1R_Cave</th>\n",
       "      <th>T1R_Surf</th>\n",
       "      <th>T2R_EE</th>\n",
       "      <th>...</th>\n",
       "      <th>Kcd</th>\n",
       "      <th>kr_Cave</th>\n",
       "      <th>ki_Cave</th>\n",
       "      <th>Kexp_Smad4n</th>\n",
       "      <th>Kdiss_Smads_Complex_n</th>\n",
       "      <th>Kimp_Smad2c</th>\n",
       "      <th>Kimp_Smads_Complex_c</th>\n",
       "      <th>Kimp_Smad4c</th>\n",
       "      <th>Kdeg_T2R_EE</th>\n",
       "      <th>k_Smads_Complex_c</th>\n",
       "    </tr>\n",
       "  </thead>\n",
       "  <tbody>\n",
       "    <tr>\n",
       "      <th>0</th>\n",
       "      <td>0</td>\n",
       "      <td>551.720</td>\n",
       "      <td>1149.40</td>\n",
       "      <td>236.450</td>\n",
       "      <td>492.610</td>\n",
       "      <td>0.202000</td>\n",
       "      <td>2.060000</td>\n",
       "      <td>2.092000</td>\n",
       "      <td>0.237000</td>\n",
       "      <td>1.148000</td>\n",
       "      <td>...</td>\n",
       "      <td>0.005</td>\n",
       "      <td>0.03742</td>\n",
       "      <td>0.33</td>\n",
       "      <td>0.5</td>\n",
       "      <td>0.1174</td>\n",
       "      <td>0.16</td>\n",
       "      <td>0.16</td>\n",
       "      <td>0.08</td>\n",
       "      <td>0.025</td>\n",
       "      <td>0.000069</td>\n",
       "    </tr>\n",
       "    <tr>\n",
       "      <th>1</th>\n",
       "      <td>100</td>\n",
       "      <td>539.437</td>\n",
       "      <td>945.10</td>\n",
       "      <td>187.070</td>\n",
       "      <td>300.676</td>\n",
       "      <td>0.042480</td>\n",
       "      <td>0.153971</td>\n",
       "      <td>0.159964</td>\n",
       "      <td>0.005712</td>\n",
       "      <td>0.192643</td>\n",
       "      <td>...</td>\n",
       "      <td>0.005</td>\n",
       "      <td>0.03742</td>\n",
       "      <td>0.33</td>\n",
       "      <td>0.5</td>\n",
       "      <td>0.1174</td>\n",
       "      <td>0.16</td>\n",
       "      <td>0.16</td>\n",
       "      <td>0.08</td>\n",
       "      <td>0.025</td>\n",
       "      <td>0.000069</td>\n",
       "    </tr>\n",
       "    <tr>\n",
       "      <th>2</th>\n",
       "      <td>200</td>\n",
       "      <td>543.973</td>\n",
       "      <td>1020.66</td>\n",
       "      <td>205.334</td>\n",
       "      <td>371.659</td>\n",
       "      <td>0.090375</td>\n",
       "      <td>0.019241</td>\n",
       "      <td>0.019872</td>\n",
       "      <td>0.001432</td>\n",
       "      <td>0.476866</td>\n",
       "      <td>...</td>\n",
       "      <td>0.005</td>\n",
       "      <td>0.03742</td>\n",
       "      <td>0.33</td>\n",
       "      <td>0.5</td>\n",
       "      <td>0.1174</td>\n",
       "      <td>0.16</td>\n",
       "      <td>0.16</td>\n",
       "      <td>0.08</td>\n",
       "      <td>0.025</td>\n",
       "      <td>0.000069</td>\n",
       "    </tr>\n",
       "    <tr>\n",
       "      <th>3</th>\n",
       "      <td>300</td>\n",
       "      <td>545.077</td>\n",
       "      <td>1045.27</td>\n",
       "      <td>211.116</td>\n",
       "      <td>394.709</td>\n",
       "      <td>0.112896</td>\n",
       "      <td>0.009298</td>\n",
       "      <td>0.009471</td>\n",
       "      <td>0.000980</td>\n",
       "      <td>0.625865</td>\n",
       "      <td>...</td>\n",
       "      <td>0.005</td>\n",
       "      <td>0.03742</td>\n",
       "      <td>0.33</td>\n",
       "      <td>0.5</td>\n",
       "      <td>0.1174</td>\n",
       "      <td>0.16</td>\n",
       "      <td>0.16</td>\n",
       "      <td>0.08</td>\n",
       "      <td>0.025</td>\n",
       "      <td>0.000069</td>\n",
       "    </tr>\n",
       "    <tr>\n",
       "      <th>4</th>\n",
       "      <td>400</td>\n",
       "      <td>545.245</td>\n",
       "      <td>1049.48</td>\n",
       "      <td>212.097</td>\n",
       "      <td>398.651</td>\n",
       "      <td>0.122516</td>\n",
       "      <td>0.007748</td>\n",
       "      <td>0.007873</td>\n",
       "      <td>0.000869</td>\n",
       "      <td>0.690089</td>\n",
       "      <td>...</td>\n",
       "      <td>0.005</td>\n",
       "      <td>0.03742</td>\n",
       "      <td>0.33</td>\n",
       "      <td>0.5</td>\n",
       "      <td>0.1174</td>\n",
       "      <td>0.16</td>\n",
       "      <td>0.16</td>\n",
       "      <td>0.08</td>\n",
       "      <td>0.025</td>\n",
       "      <td>0.000069</td>\n",
       "    </tr>\n",
       "    <tr>\n",
       "      <th>5</th>\n",
       "      <td>500</td>\n",
       "      <td>545.270</td>\n",
       "      <td>1050.11</td>\n",
       "      <td>212.243</td>\n",
       "      <td>399.238</td>\n",
       "      <td>0.126573</td>\n",
       "      <td>0.007242</td>\n",
       "      <td>0.007356</td>\n",
       "      <td>0.000824</td>\n",
       "      <td>0.717217</td>\n",
       "      <td>...</td>\n",
       "      <td>0.005</td>\n",
       "      <td>0.03742</td>\n",
       "      <td>0.33</td>\n",
       "      <td>0.5</td>\n",
       "      <td>0.1174</td>\n",
       "      <td>0.16</td>\n",
       "      <td>0.16</td>\n",
       "      <td>0.08</td>\n",
       "      <td>0.025</td>\n",
       "      <td>0.000069</td>\n",
       "    </tr>\n",
       "    <tr>\n",
       "      <th>6</th>\n",
       "      <td>600</td>\n",
       "      <td>545.274</td>\n",
       "      <td>1050.21</td>\n",
       "      <td>212.265</td>\n",
       "      <td>399.329</td>\n",
       "      <td>0.128277</td>\n",
       "      <td>0.006983</td>\n",
       "      <td>0.007092</td>\n",
       "      <td>0.000798</td>\n",
       "      <td>0.728619</td>\n",
       "      <td>...</td>\n",
       "      <td>0.005</td>\n",
       "      <td>0.03742</td>\n",
       "      <td>0.33</td>\n",
       "      <td>0.5</td>\n",
       "      <td>0.1174</td>\n",
       "      <td>0.16</td>\n",
       "      <td>0.16</td>\n",
       "      <td>0.08</td>\n",
       "      <td>0.025</td>\n",
       "      <td>0.000069</td>\n",
       "    </tr>\n",
       "    <tr>\n",
       "      <th>7</th>\n",
       "      <td>700</td>\n",
       "      <td>545.274</td>\n",
       "      <td>1050.22</td>\n",
       "      <td>212.269</td>\n",
       "      <td>399.344</td>\n",
       "      <td>0.128991</td>\n",
       "      <td>0.006808</td>\n",
       "      <td>0.006915</td>\n",
       "      <td>0.000779</td>\n",
       "      <td>0.733399</td>\n",
       "      <td>...</td>\n",
       "      <td>0.005</td>\n",
       "      <td>0.03742</td>\n",
       "      <td>0.33</td>\n",
       "      <td>0.5</td>\n",
       "      <td>0.1174</td>\n",
       "      <td>0.16</td>\n",
       "      <td>0.16</td>\n",
       "      <td>0.08</td>\n",
       "      <td>0.025</td>\n",
       "      <td>0.000069</td>\n",
       "    </tr>\n",
       "    <tr>\n",
       "      <th>8</th>\n",
       "      <td>800</td>\n",
       "      <td>545.274</td>\n",
       "      <td>1050.22</td>\n",
       "      <td>212.269</td>\n",
       "      <td>399.345</td>\n",
       "      <td>0.129289</td>\n",
       "      <td>0.006669</td>\n",
       "      <td>0.006772</td>\n",
       "      <td>0.000764</td>\n",
       "      <td>0.735394</td>\n",
       "      <td>...</td>\n",
       "      <td>0.005</td>\n",
       "      <td>0.03742</td>\n",
       "      <td>0.33</td>\n",
       "      <td>0.5</td>\n",
       "      <td>0.1174</td>\n",
       "      <td>0.16</td>\n",
       "      <td>0.16</td>\n",
       "      <td>0.08</td>\n",
       "      <td>0.025</td>\n",
       "      <td>0.000069</td>\n",
       "    </tr>\n",
       "    <tr>\n",
       "      <th>9</th>\n",
       "      <td>900</td>\n",
       "      <td>545.274</td>\n",
       "      <td>1050.22</td>\n",
       "      <td>212.269</td>\n",
       "      <td>399.344</td>\n",
       "      <td>0.129412</td>\n",
       "      <td>0.006545</td>\n",
       "      <td>0.006647</td>\n",
       "      <td>0.000750</td>\n",
       "      <td>0.736221</td>\n",
       "      <td>...</td>\n",
       "      <td>0.005</td>\n",
       "      <td>0.03742</td>\n",
       "      <td>0.33</td>\n",
       "      <td>0.5</td>\n",
       "      <td>0.1174</td>\n",
       "      <td>0.16</td>\n",
       "      <td>0.16</td>\n",
       "      <td>0.08</td>\n",
       "      <td>0.025</td>\n",
       "      <td>0.000069</td>\n",
       "    </tr>\n",
       "    <tr>\n",
       "      <th>10</th>\n",
       "      <td>1000</td>\n",
       "      <td>545.274</td>\n",
       "      <td>1050.22</td>\n",
       "      <td>212.268</td>\n",
       "      <td>399.341</td>\n",
       "      <td>0.129462</td>\n",
       "      <td>0.006430</td>\n",
       "      <td>0.006530</td>\n",
       "      <td>0.000737</td>\n",
       "      <td>0.736556</td>\n",
       "      <td>...</td>\n",
       "      <td>0.005</td>\n",
       "      <td>0.03742</td>\n",
       "      <td>0.33</td>\n",
       "      <td>0.5</td>\n",
       "      <td>0.1174</td>\n",
       "      <td>0.16</td>\n",
       "      <td>0.16</td>\n",
       "      <td>0.08</td>\n",
       "      <td>0.025</td>\n",
       "      <td>0.000069</td>\n",
       "    </tr>\n",
       "  </tbody>\n",
       "</table>\n",
       "<p>11 rows × 37 columns</p>\n",
       "</div>"
      ],
      "text/plain": [
       "    Time   Smad4n   Smad4c   Smad3n   Smad3c  T2R_Surf    T1R_EE  T1R_Cave  \\\n",
       "0      0  551.720  1149.40  236.450  492.610  0.202000  2.060000  2.092000   \n",
       "1    100  539.437   945.10  187.070  300.676  0.042480  0.153971  0.159964   \n",
       "2    200  543.973  1020.66  205.334  371.659  0.090375  0.019241  0.019872   \n",
       "3    300  545.077  1045.27  211.116  394.709  0.112896  0.009298  0.009471   \n",
       "4    400  545.245  1049.48  212.097  398.651  0.122516  0.007748  0.007873   \n",
       "5    500  545.270  1050.11  212.243  399.238  0.126573  0.007242  0.007356   \n",
       "6    600  545.274  1050.21  212.265  399.329  0.128277  0.006983  0.007092   \n",
       "7    700  545.274  1050.22  212.269  399.344  0.128991  0.006808  0.006915   \n",
       "8    800  545.274  1050.22  212.269  399.345  0.129289  0.006669  0.006772   \n",
       "9    900  545.274  1050.22  212.269  399.344  0.129412  0.006545  0.006647   \n",
       "10  1000  545.274  1050.22  212.268  399.341  0.129462  0.006430  0.006530   \n",
       "\n",
       "    T1R_Surf    T2R_EE        ...            Kcd  kr_Cave  ki_Cave  \\\n",
       "0   0.237000  1.148000        ...          0.005  0.03742     0.33   \n",
       "1   0.005712  0.192643        ...          0.005  0.03742     0.33   \n",
       "2   0.001432  0.476866        ...          0.005  0.03742     0.33   \n",
       "3   0.000980  0.625865        ...          0.005  0.03742     0.33   \n",
       "4   0.000869  0.690089        ...          0.005  0.03742     0.33   \n",
       "5   0.000824  0.717217        ...          0.005  0.03742     0.33   \n",
       "6   0.000798  0.728619        ...          0.005  0.03742     0.33   \n",
       "7   0.000779  0.733399        ...          0.005  0.03742     0.33   \n",
       "8   0.000764  0.735394        ...          0.005  0.03742     0.33   \n",
       "9   0.000750  0.736221        ...          0.005  0.03742     0.33   \n",
       "10  0.000737  0.736556        ...          0.005  0.03742     0.33   \n",
       "\n",
       "    Kexp_Smad4n  Kdiss_Smads_Complex_n  Kimp_Smad2c  Kimp_Smads_Complex_c  \\\n",
       "0           0.5                 0.1174         0.16                  0.16   \n",
       "1           0.5                 0.1174         0.16                  0.16   \n",
       "2           0.5                 0.1174         0.16                  0.16   \n",
       "3           0.5                 0.1174         0.16                  0.16   \n",
       "4           0.5                 0.1174         0.16                  0.16   \n",
       "5           0.5                 0.1174         0.16                  0.16   \n",
       "6           0.5                 0.1174         0.16                  0.16   \n",
       "7           0.5                 0.1174         0.16                  0.16   \n",
       "8           0.5                 0.1174         0.16                  0.16   \n",
       "9           0.5                 0.1174         0.16                  0.16   \n",
       "10          0.5                 0.1174         0.16                  0.16   \n",
       "\n",
       "    Kimp_Smad4c  Kdeg_T2R_EE  k_Smads_Complex_c  \n",
       "0          0.08        0.025           0.000069  \n",
       "1          0.08        0.025           0.000069  \n",
       "2          0.08        0.025           0.000069  \n",
       "3          0.08        0.025           0.000069  \n",
       "4          0.08        0.025           0.000069  \n",
       "5          0.08        0.025           0.000069  \n",
       "6          0.08        0.025           0.000069  \n",
       "7          0.08        0.025           0.000069  \n",
       "8          0.08        0.025           0.000069  \n",
       "9          0.08        0.025           0.000069  \n",
       "10         0.08        0.025           0.000069  \n",
       "\n",
       "[11 rows x 37 columns]"
      ]
     },
     "execution_count": 11,
     "metadata": {},
     "output_type": "execute_result"
    }
   ],
   "source": [
    "misc.correct_copasi_timecourse_headers(zi_data_file)"
   ]
  },
  {
   "cell_type": "markdown",
   "metadata": {},
   "source": [
    "# The MultipleParameterEstimation Class\n",
    "The MultipleParameterEstimation class is an interface to the ParameterEstimation class and accepts all of the same keyword parameters with a few extra:\n",
    "\n",
    "    1. `copy_number`          --> Number of times to copy a copasi file. All of these will be run simultaneously. \n",
    "    2. `pe_number`            --> How many parameter estimations to conduct **per model**\n",
    "    3. `results_directory`    --> Name of the directory to put the results (created if not exists)\n",
    "    4. `max_active`           --> How many models to run simultaneously\n",
    "\n",
    "The total number of estimations that can be carried out simultaneously is $copy\\_number\\cdot pe\\_number$. "
   ]
  },
  {
   "cell_type": "code",
   "execution_count": 14,
   "metadata": {
    "ExecuteTime": {
     "end_time": "2017-10-27T14:27:41.762992Z",
     "start_time": "2017-10-27T14:27:39.904271Z"
    },
    "scrolled": true
   },
   "outputs": [
    {
     "name": "stdout",
     "output_type": "stream",
     "text": [
      "pycotools.tasks:DEBUG:3812:    run mode --> multiprocess\n",
      "pycotools.tasks:DEBUG:3813:    models --> [Model(name=Zi2007_TGFbeta_signaling, time_unit=min, volume_unit=l, quantity_unit=nmol), Model(name=Zi2007_TGFbeta_signaling, time_unit=min, volume_unit=l, quantity_unit=nmol), Model(name=Zi2007_TGFbeta_signaling, time_unit=min, volume_unit=l, quantity_unit=nmol), Model(name=Zi2007_TGFbeta_signaling, time_unit=min, volume_unit=l, quantity_unit=nmol), Model(name=Zi2007_TGFbeta_signaling, time_unit=min, volume_unit=l, quantity_unit=nmol), Model(name=Zi2007_TGFbeta_signaling, time_unit=min, volume_unit=l, quantity_unit=nmol), Model(name=Zi2007_TGFbeta_signaling, time_unit=min, volume_unit=l, quantity_unit=nmol), Model(name=Zi2007_TGFbeta_signaling, time_unit=min, volume_unit=l, quantity_unit=nmol), Model(name=Zi2007_TGFbeta_signaling, time_unit=min, volume_unit=l, quantity_unit=nmol), Model(name=Zi2007_TGFbeta_signaling, time_unit=min, volume_unit=l, quantity_unit=nmol)]\n",
      "pycotools.tasks:DEBUG:3814:    len models --> 10\n",
      "pycotools.tasks:DEBUG:495:    i be models --> [Model(name=Zi2007_TGFbeta_signaling, time_unit=min, volume_unit=l, quantity_unit=nmol), Model(name=Zi2007_TGFbeta_signaling, time_unit=min, volume_unit=l, quantity_unit=nmol), Model(name=Zi2007_TGFbeta_signaling, time_unit=min, volume_unit=l, quantity_unit=nmol), Model(name=Zi2007_TGFbeta_signaling, time_unit=min, volume_unit=l, quantity_unit=nmol), Model(name=Zi2007_TGFbeta_signaling, time_unit=min, volume_unit=l, quantity_unit=nmol), Model(name=Zi2007_TGFbeta_signaling, time_unit=min, volume_unit=l, quantity_unit=nmol), Model(name=Zi2007_TGFbeta_signaling, time_unit=min, volume_unit=l, quantity_unit=nmol), Model(name=Zi2007_TGFbeta_signaling, time_unit=min, volume_unit=l, quantity_unit=nmol), Model(name=Zi2007_TGFbeta_signaling, time_unit=min, volume_unit=l, quantity_unit=nmol), Model(name=Zi2007_TGFbeta_signaling, time_unit=min, volume_unit=l, quantity_unit=nmol)]\n",
      "pycotools.tasks:DEBUG:505:    self.models from run --> [Model(name=Zi2007_TGFbeta_signaling, time_unit=min, volume_unit=l, quantity_unit=nmol), Model(name=Zi2007_TGFbeta_signaling, time_unit=min, volume_unit=l, quantity_unit=nmol), Model(name=Zi2007_TGFbeta_signaling, time_unit=min, volume_unit=l, quantity_unit=nmol), Model(name=Zi2007_TGFbeta_signaling, time_unit=min, volume_unit=l, quantity_unit=nmol), Model(name=Zi2007_TGFbeta_signaling, time_unit=min, volume_unit=l, quantity_unit=nmol), Model(name=Zi2007_TGFbeta_signaling, time_unit=min, volume_unit=l, quantity_unit=nmol), Model(name=Zi2007_TGFbeta_signaling, time_unit=min, volume_unit=l, quantity_unit=nmol), Model(name=Zi2007_TGFbeta_signaling, time_unit=min, volume_unit=l, quantity_unit=nmol), Model(name=Zi2007_TGFbeta_signaling, time_unit=min, volume_unit=l, quantity_unit=nmol), Model(name=Zi2007_TGFbeta_signaling, time_unit=min, volume_unit=l, quantity_unit=nmol)]\n",
      "pycotools.tasks:DEBUG:580:    num left to process --> 9\n",
      "pycotools.tasks:DEBUG:580:    num left to process --> 8\n",
      "pycotools.tasks:DEBUG:580:    num left to process --> 7\n",
      "pycotools.tasks:DEBUG:580:    num left to process --> 6\n",
      "pycotools.tasks:DEBUG:580:    num left to process --> 5\n",
      "pycotools.tasks:DEBUG:580:    num left to process --> 4\n",
      "pycotools.tasks:DEBUG:580:    num left to process --> 3\n",
      "pycotools.tasks:DEBUG:580:    num left to process --> 2\n",
      "pycotools.tasks:DEBUG:580:    num left to process --> 1\n",
      "pycotools.tasks:DEBUG:580:    num left to process --> 0\n"
     ]
    }
   ],
   "source": [
    "MPE=tasks.MultiParameterEstimation(\n",
    "    zi, zi_data_file, copy_number=10, pe_number=50, \n",
    "    metabolites=[], local_parameters=[], lower_bound=1e-3, upper_bound=5e3, \n",
    "    method='genetic_algorithm', population_size=10, number_of_generations=10,\n",
    "    overwrite_config_file=True, run_mode='multiprocess'\n",
    ")\n",
    "    \n",
    "MPE.write_config_file()\n",
    "MPE.setup()\n",
    "MPE.run()"
   ]
  },
  {
   "cell_type": "code",
   "execution_count": 13,
   "metadata": {
    "ExecuteTime": {
     "end_time": "2017-10-27T14:27:10.529544Z",
     "start_time": "2017-10-27T14:26:55.594545Z"
    }
   },
   "outputs": [],
   "source": [
    "zi.open()"
   ]
  },
  {
   "cell_type": "markdown",
   "metadata": {},
   "source": [
    "All models are executed using CopasiSE at the same time. For this reason, if you have too many models running at once on a single machine, the machine will slow and be unusable until the estimations have finished. My Windows machine (i7, 16GB RAM) can comfortably run around 6 or 7 models at once before things start to slow. My Ubuntu machine can run more but the estimations are significantly slower. If using a SunGridEngine based job scheduler you can use `run = SGE` to submit the jobs automatically. If your using a different job scheduler it is straight forward to write another function within the `pycopi.Run` class to support your scheduler. Feel free to contact me for advice.   \n",
    "\n",
    "## Custom Results Directory"
   ]
  },
  {
   "cell_type": "code",
   "execution_count": 5,
   "metadata": {
    "ExecuteTime": {
     "end_time": "2017-10-26T16:14:29.651301Z",
     "start_time": "2017-10-26T16:14:28.498251Z"
    },
    "scrolled": true
   },
   "outputs": [
    {
     "name": "stdout",
     "output_type": "stream",
     "text": [
      "pycotools.tasks:DEBUG:3813:    run mode --> multiprocess\n",
      "pycotools.tasks:DEBUG:3814:    models --> [Model(name=Zi2007_TGFbeta_signaling, time_unit=min, volume_unit=l, quantity_unit=nmol), Model(name=Zi2007_TGFbeta_signaling, time_unit=min, volume_unit=l, quantity_unit=nmol), Model(name=Zi2007_TGFbeta_signaling, time_unit=min, volume_unit=l, quantity_unit=nmol), Model(name=Zi2007_TGFbeta_signaling, time_unit=min, volume_unit=l, quantity_unit=nmol)]\n",
      "pycotools.tasks:DEBUG:3815:    len models --> 4\n",
      "pycotools.tasks:DEBUG:495:    i be models --> [Model(name=Zi2007_TGFbeta_signaling, time_unit=min, volume_unit=l, quantity_unit=nmol), Model(name=Zi2007_TGFbeta_signaling, time_unit=min, volume_unit=l, quantity_unit=nmol), Model(name=Zi2007_TGFbeta_signaling, time_unit=min, volume_unit=l, quantity_unit=nmol), Model(name=Zi2007_TGFbeta_signaling, time_unit=min, volume_unit=l, quantity_unit=nmol)]\n",
      "pycotools.tasks:DEBUG:505:    self.models from run --> [Model(name=Zi2007_TGFbeta_signaling, time_unit=min, volume_unit=l, quantity_unit=nmol), Model(name=Zi2007_TGFbeta_signaling, time_unit=min, volume_unit=l, quantity_unit=nmol), Model(name=Zi2007_TGFbeta_signaling, time_unit=min, volume_unit=l, quantity_unit=nmol), Model(name=Zi2007_TGFbeta_signaling, time_unit=min, volume_unit=l, quantity_unit=nmol)]\n",
      "Model(name=Zi2007_TGFbeta_signaling, time_unit=min, volume_unit=l, quantity_unit=nmol)\n",
      "Model(name=Zi2007_TGFbeta_signaling, time_unit=min, volume_unit=l, quantity_unit=nmol)\n",
      "Model(name=Zi2007_TGFbeta_signaling, time_unit=min, volume_unit=l, quantity_unit=nmol)\n",
      "Model(name=Zi2007_TGFbeta_signaling, time_unit=min, volume_unit=l, quantity_unit=nmol)\n",
      "4\n"
     ]
    }
   ],
   "source": [
    "MPE = tasks.MultiParameterEstimation(\n",
    "    zi, zi_data_file, copy_number=4, pe_number=2)\n",
    "MPE.write_config_file()\n",
    "MPE.setup()\n",
    "#MPE.run()"
   ]
  },
  {
   "cell_type": "markdown",
   "metadata": {},
   "source": [
    "# Visualization\n",
    "All visualization tools share a similar set of keyword arguments for saving figures or controlling where they get saved to. See the [documentation](http://pycotools.readthedocs.io/en/latest/APIDoc/viz/viz_index.html) for a table of these."
   ]
  },
  {
   "cell_type": "markdown",
   "metadata": {},
   "source": [
    "## Time course ensembles\n",
    "These are useful for identifying model strengths and weaknesses. Time courses are calculated using parameter sets from parameter estimation data and averaged. Confidence intervals are calculated"
   ]
  },
  {
   "cell_type": "code",
   "execution_count": null,
   "metadata": {
    "ExecuteTime": {
     "start_time": "2017-10-27T14:38:01.824Z"
    },
    "scrolled": true
   },
   "outputs": [
    {
     "name": "stdout",
     "output_type": "stream",
     "text": [
      "pycotools.viz:INFO:1350:    Plotting \"LRC_Cave\"\n",
      "pycotools.viz:INFO:1350:    Plotting \"LRC_EE\"\n",
      "pycotools.viz:INFO:1350:    Plotting \"LRC_Surf\"\n",
      "pycotools.viz:INFO:1350:    Plotting \"Smad3c\"\n",
      "pycotools.viz:INFO:1350:    Plotting \"Smad3n\"\n",
      "pycotools.viz:INFO:1350:    Plotting \"Smad4c\"\n",
      "pycotools.viz:INFO:1350:    Plotting \"Smad4n\"\n",
      "pycotools.viz:INFO:1350:    Plotting \"Smads_Complex_c\"\n",
      "pycotools.viz:INFO:1350:    Plotting \"Smads_Complex_n\"\n",
      "pycotools.viz:INFO:1350:    Plotting \"T1R_Cave\"\n",
      "pycotools.viz:INFO:1350:    Plotting \"T1R_EE\"\n",
      "pycotools.viz:INFO:1350:    Plotting \"T1R_Surf\"\n",
      "pycotools.viz:INFO:1350:    Plotting \"T2R_Cave\"\n"
     ]
    }
   ],
   "source": [
    "profiles = ['LRC_Cave', 'LRC_EE', 'LRC_Surf', \n",
    "            'Smad3c', 'Smad3n', 'Smad4c', 'Smad4n', \n",
    "            'Smads_Complex_c', 'Smads_Complex_n', \n",
    "            'T1R_Cave', 'T1R_EE', 'T1R_Surf', \n",
    "            'T2R_Cave', 'T2R_EE', 'T2R_Surf', 'TGF_beta']\n",
    "viz.PlotTimeCourseEnsemble(\n",
    "    ## take a MultiParameterEstimation class as arg\n",
    "    MPE, \n",
    "    \n",
    "    ## Here we choose top 10 ranking parameter sets to visualize\n",
    "    truncate_mode='ranks', \n",
    "    theta=range(10), \n",
    "    \n",
    "    ## choose our profiles. Defaults to all if no arg given\n",
    "    y=profiles, \n",
    "    \n",
    "    # choose confidence level. Defaults to 95 but can also be a list\n",
    "    ci=[50, 60, 70, 80, 90, 95, 99, 100], \n",
    "    \n",
    "    #Larger number of resamples --> More accurate estimates\n",
    "    n_boot=10000, \n",
    "          \n",
    ")"
   ]
  },
  {
   "cell_type": "markdown",
   "metadata": {},
   "source": [
    "## Boxplots"
   ]
  },
  {
   "cell_type": "code",
   "execution_count": null,
   "metadata": {
    "ExecuteTime": {
     "end_time": "2017-10-26T16:14:30.120836Z",
     "start_time": "2017-10-26T16:14:25.907Z"
    },
    "scrolled": false
   },
   "outputs": [],
   "source": [
    "viz.Boxplot(MPE)"
   ]
  },
  {
   "cell_type": "markdown",
   "metadata": {},
   "source": [
    "## Histograms"
   ]
  },
  {
   "cell_type": "code",
   "execution_count": null,
   "metadata": {
    "ExecuteTime": {
     "end_time": "2017-10-26T16:14:30.127481Z",
     "start_time": "2017-10-26T16:14:25.941Z"
    }
   },
   "outputs": [],
   "source": [
    "viz.Histograms(MPE)"
   ]
  },
  {
   "cell_type": "code",
   "execution_count": null,
   "metadata": {},
   "outputs": [],
   "source": []
  },
  {
   "cell_type": "code",
   "execution_count": null,
   "metadata": {},
   "outputs": [],
   "source": []
  },
  {
   "cell_type": "code",
   "execution_count": null,
   "metadata": {
    "ExecuteTime": {
     "end_time": "2017-10-26T16:14:30.134181Z",
     "start_time": "2017-10-26T16:14:25.946Z"
    }
   },
   "outputs": [],
   "source": [
    "f = '/home/b3053674/Documents/pycotools/ZiModel/data.csv'\n",
    "f2 = '/home/b3053674/Documents/pycotools/ZiModel/data2.csv'\n",
    "\n",
    "df = pandas.read_csv(f)\n",
    "# df = df.drop(u'Unnamed: 0')\n",
    "df = df.sort_values(by=['Time', 'ParameterFitIndex'])\n",
    "# import seaborn\n",
    "df.to_csv(f2)\n",
    "# seaborn.tsplot(df, time='Time',value='Smad3c', unit='ParameterFitIndex')"
   ]
  },
  {
   "cell_type": "code",
   "execution_count": null,
   "metadata": {},
   "outputs": [],
   "source": []
  },
  {
   "cell_type": "code",
   "execution_count": null,
   "metadata": {
    "ExecuteTime": {
     "end_time": "2017-10-26T16:14:30.140751Z",
     "start_time": "2017-10-26T16:14:25.950Z"
    }
   },
   "outputs": [],
   "source": [
    "gammas = seaborn.load_dataset(\"gammas\").head()"
   ]
  },
  {
   "cell_type": "code",
   "execution_count": null,
   "metadata": {
    "ExecuteTime": {
     "end_time": "2017-10-26T16:14:30.147676Z",
     "start_time": "2017-10-26T16:14:25.954Z"
    }
   },
   "outputs": [],
   "source": [
    "ax = sns.tsplot(time=\"timepoint\", value=\"BOLD signal\",\n",
    "                unit=\"subject\", condition=\"ROI\",\n",
    "                data=gammas)"
   ]
  },
  {
   "cell_type": "code",
   "execution_count": null,
   "metadata": {},
   "outputs": [],
   "source": []
  },
  {
   "cell_type": "markdown",
   "metadata": {},
   "source": [
    "To monitor progress, look either at the task manager or system monitor. "
   ]
  }
 ],
 "metadata": {
  "hide_input": false,
  "kernelspec": {
   "display_name": "Python [default]",
   "language": "python",
   "name": "python2"
  },
  "language_info": {
   "codemirror_mode": {
    "name": "ipython",
    "version": 2
   },
   "file_extension": ".py",
   "mimetype": "text/x-python",
   "name": "python",
   "nbconvert_exporter": "python",
   "pygments_lexer": "ipython2",
   "version": "2.7.13"
  },
  "latex_envs": {
   "LaTeX_envs_menu_present": true,
   "autocomplete": true,
   "bibliofile": "biblio.bib",
   "cite_by": "apalike",
   "current_citInitial": 1,
   "eqLabelWithNumbers": true,
   "eqNumInitial": 1,
   "hotkeys": {
    "equation": "Ctrl-E",
    "itemize": "Ctrl-I"
   },
   "labels_anchors": false,
   "latex_user_defs": false,
   "report_style_numbering": false,
   "user_envs_cfg": false
  },
  "toc": {
   "colors": {
    "hover_highlight": "#DAA520",
    "navigate_num": "#000000",
    "navigate_text": "#333333",
    "running_highlight": "#FF0000",
    "selected_highlight": "#FFD700",
    "sidebar_border": "#EEEEEE",
    "wrapper_background": "#FFFFFF"
   },
   "moveMenuLeft": true,
   "nav_menu": {
    "height": "220px",
    "width": "252px"
   },
   "navigate_menu": true,
   "number_sections": true,
   "sideBar": true,
   "threshold": 4,
   "toc_cell": false,
   "toc_position": {
    "height": "565px",
    "left": "0px",
    "right": "1062.67px",
    "top": "130px",
    "width": "174px"
   },
   "toc_section_display": "block",
   "toc_window_display": true,
   "widenNotebook": false
  },
  "varInspector": {
   "cols": {
    "lenName": 16,
    "lenType": 16,
    "lenVar": 40
   },
   "kernels_config": {
    "python": {
     "delete_cmd_postfix": "",
     "delete_cmd_prefix": "del ",
     "library": "var_list.py",
     "varRefreshCmd": "print(var_dic_list())"
    },
    "r": {
     "delete_cmd_postfix": ") ",
     "delete_cmd_prefix": "rm(",
     "library": "var_list.r",
     "varRefreshCmd": "cat(var_dic_list()) "
    }
   },
   "types_to_exclude": [
    "module",
    "function",
    "builtin_function_or_method",
    "instance",
    "_Feature"
   ],
   "window_display": false
  }
 },
 "nbformat": 4,
 "nbformat_minor": 1
}
