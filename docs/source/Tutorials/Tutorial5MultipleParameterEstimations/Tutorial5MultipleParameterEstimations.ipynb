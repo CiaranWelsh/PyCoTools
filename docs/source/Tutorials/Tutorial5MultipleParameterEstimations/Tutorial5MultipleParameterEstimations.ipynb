{
 "cells": [
  {
   "cell_type": "markdown",
   "metadata": {
    "collapsed": true
   },
   "source": [
    "# Multiple Parameter Estimations\n",
    "It is often desirable to run a single optimization problem many times. In copasi this is fairly easy using the `repeat` scan item. In Pycotools we can use the `MultipleParameterEstimation` class to the same end.   \n",
    "\n",
    "## Pre-requisites\n",
    "### Get the Demonstration model\n",
    "-  Zi et al 2012"
   ]
  },
  {
   "cell_type": "code",
   "execution_count": 2,
   "metadata": {
    "ExecuteTime": {
     "end_time": "2017-10-14T22:44:40.065874Z",
     "start_time": "2017-10-14T22:44:36.780719Z"
    },
    "scrolled": true
   },
   "outputs": [
    {
     "name": "stderr",
     "output_type": "stream",
     "text": [
      "//home/b3053674/Documents/pycotools/pycotools/viz.py:116: FutureWarning: The pandas.parser module is deprecated and will be removed in a future version. Please import from the pandas.io.parser instead\n",
      "  from pandas.parser import CParserError\n"
     ]
    },
    {
     "name": "stdout",
     "output_type": "stream",
     "text": [
      "root:INFO:27:    Initializing pycotools\n",
      "root:INFO:28:    Initializing logging System\n",
      "root:INFO:29:    logging config file at: //home/b3053674/Documents/pycotools/pycotools/logging_config.conf\n"
     ]
    },
    {
     "ename": "IOError",
     "evalue": "[Errno 2] No such file or directory: '/home/b3053674/Documents/pycotools/ZiModel/zi2012.cps'",
     "output_type": "error",
     "traceback": [
      "\u001b[0;31m---------------------------------------------------------------------------\u001b[0m",
      "\u001b[0;31mIOError\u001b[0m                                   Traceback (most recent call last)",
      "\u001b[0;32m<ipython-input-2-7cb6ff374e46>\u001b[0m in \u001b[0;36m<module>\u001b[0;34m()\u001b[0m\n\u001b[1;32m     23\u001b[0m \u001b[0;34m\u001b[0m\u001b[0m\n\u001b[1;32m     24\u001b[0m \u001b[0;31m##write model to file\u001b[0m\u001b[0;34m\u001b[0m\u001b[0;34m\u001b[0m\u001b[0m\n\u001b[0;32m---> 25\u001b[0;31m \u001b[0;32mwith\u001b[0m \u001b[0mopen\u001b[0m\u001b[0;34m(\u001b[0m\u001b[0mzi_path\u001b[0m\u001b[0;34m,\u001b[0m \u001b[0;34m'w'\u001b[0m\u001b[0;34m)\u001b[0m \u001b[0;32mas\u001b[0m \u001b[0mf\u001b[0m\u001b[0;34m:\u001b[0m\u001b[0;34m\u001b[0m\u001b[0m\n\u001b[0m\u001b[1;32m     26\u001b[0m     \u001b[0mf\u001b[0m\u001b[0;34m.\u001b[0m\u001b[0mwrite\u001b[0m\u001b[0;34m(\u001b[0m\u001b[0mzi_model_string\u001b[0m\u001b[0;34m)\u001b[0m\u001b[0;34m\u001b[0m\u001b[0m\n\u001b[1;32m     27\u001b[0m \u001b[0;34m\u001b[0m\u001b[0m\n",
      "\u001b[0;31mIOError\u001b[0m: [Errno 2] No such file or directory: '/home/b3053674/Documents/pycotools/ZiModel/zi2012.cps'"
     ]
    }
   ],
   "source": [
    "%matplotlib inline\n",
    "import site\n",
    "site.addsitedir('//home/b3053674/Documents/pycotools')\n",
    "from pycotools import model, tasks, viz, misc\n",
    "from pycotools.Tests import test_models\n",
    "import os\n",
    "import pandas\n",
    "from lxml import etree\n",
    "\n",
    "\n",
    "import logging\n",
    "logging.basicConfig(format = '%(levelname)s:%(message)s')\n",
    "LOG=logging.getLogger()\n",
    "\n",
    "## get string model from test_models\n",
    "zi_model_string = test_models.TestModels().zi_model()\n",
    "\n",
    "## get a working directory. Change this to change this to wherever you like\n",
    "directory = r'/home/b3053674/Documents/pycotools/ZiModel'\n",
    "\n",
    "## choose path to zi model\n",
    "zi_path = os.path.join(directory, 'zi2012.cps')\n",
    "\n",
    "##write model to file\n",
    "with open(zi_path, 'w') as f:\n",
    "    f.write(zi_model_string)\n",
    "    \n",
    "## check file exists\n",
    "if not os.path.isfile(zi_path):\n",
    "    raise Exception\n",
    "\n",
    "zi = model.Model(zi_path)"
   ]
  },
  {
   "cell_type": "markdown",
   "metadata": {},
   "source": [
    "### Generate Synthetic Data"
   ]
  },
  {
   "cell_type": "code",
   "execution_count": null,
   "metadata": {
    "ExecuteTime": {
     "end_time": "2017-10-06T01:04:35.177243Z",
     "start_time": "2017-10-06T01:04:33.962713Z"
    },
    "scrolled": true
   },
   "outputs": [],
   "source": [
    "report= 'parameter_estimation_synthetic_data.txt'\n",
    "TC=tasks.TimeCourse(\n",
    "    zi, start=0, end=1000, intervals=100, step_size=10, report_name=report\n",
    ")\n",
    "\n",
    "## validate that its worked\n",
    "pandas.read_csv(TC.report_name,sep='\\t').head()\n",
    "\n",
    "## informative name\n",
    "zi_data_file = TC.report_name"
   ]
  },
  {
   "cell_type": "markdown",
   "metadata": {},
   "source": [
    "### Format synthetic data "
   ]
  },
  {
   "cell_type": "code",
   "execution_count": null,
   "metadata": {
    "ExecuteTime": {
     "end_time": "2017-10-06T01:04:35.391005Z",
     "start_time": "2017-10-06T01:04:35.179226Z"
    },
    "scrolled": true
   },
   "outputs": [],
   "source": [
    "misc.correct_copasi_timecourse_headers(zi_data_file)"
   ]
  },
  {
   "cell_type": "markdown",
   "metadata": {},
   "source": [
    "# The MultipleParameterEstimation Class\n",
    "The MultipleParameterEstimation class is an interface to the ParameterEstimation class and accepts all of the same keyword parameters with a few extra:\n",
    "\n",
    "    1. `copy_number`          --> Number of times to copy a copasi file. All of these will be run simultaneously. \n",
    "    2. `pe_number`            --> How many parameter estimations to conduct **per model**\n",
    "    3. `results_directory`    --> Name of the directory to put the results (created if not exists)\n",
    "\n",
    "The total number of estimations that can be carried out simultaneously is $copy\\_number\\cdot pe\\_number$. "
   ]
  },
  {
   "cell_type": "code",
   "execution_count": null,
   "metadata": {
    "ExecuteTime": {
     "end_time": "2017-10-06T01:04:36.743036Z",
     "start_time": "2017-10-06T01:04:35.392998Z"
    },
    "scrolled": true
   },
   "outputs": [],
   "source": [
    "MPE=tasks.MultiParameterEstimation(\n",
    "    zi, zi_data_file, copy_number=8, pe_number=20, #--> 8 total\n",
    "    metabolites=[], local_parameters=[], lower_bound=1e-3, upper_bound=5e3, \n",
    "    method='genetic_algorithm', population_size=10, number_of_generations=20)\n",
    "    \n",
    "MPE.write_config_file()\n",
    "MPE.setup()\n",
    "# MPE.run()"
   ]
  },
  {
   "cell_type": "markdown",
   "metadata": {},
   "source": [
    "All models are executed using CopasiSE at the same time. For this reason, if you have too many models running at once on a single machine, the machine will slow and be unusable until the estimations have finished. My Windows machine (i7, 16GB RAM) can comfortably run around 6 or 7 models at once before things start to slow. My Ubuntu machine can run more but the estimations are significantly slower. If using a SunGridEngine based job scheduler you can use `run = SGE` to submit the jobs automatically. If your using a different job scheduler it is straight forward to write another function within the `pycopi.Run` class to support your scheduler. Feel free to contact me for advice.   \n",
    "\n",
    "## Custom Results Directory"
   ]
  },
  {
   "cell_type": "code",
   "execution_count": null,
   "metadata": {
    "ExecuteTime": {
     "end_time": "2017-10-06T01:12:52.581674Z",
     "start_time": "2017-10-06T01:12:51.661222Z"
    },
    "scrolled": false
   },
   "outputs": [],
   "source": [
    "results_directory = 'Fit1Results' #defaults to same directory as model\n",
    "MPE = tasks.MultiParameterEstimation(\n",
    "    zi, zi_data_file, copy_number=4, pe_number=2,\n",
    "    results_directory=results_directory)\n",
    "MPE.write_config_file()\n",
    "MPE.setup()\n",
    "MPE.run()"
   ]
  },
  {
   "cell_type": "markdown",
   "metadata": {},
   "source": [
    "# Visualization\n",
    "Exploring parameter estimation data is one of pycotools strengths. "
   ]
  },
  {
   "cell_type": "markdown",
   "metadata": {},
   "source": [
    "## Time course ensembles"
   ]
  },
  {
   "cell_type": "code",
   "execution_count": null,
   "metadata": {
    "ExecuteTime": {
     "end_time": "2017-10-06T01:13:35.380562Z",
     "start_time": "2017-10-06T01:13:35.277905Z"
    },
    "scrolled": true
   },
   "outputs": [],
   "source": [
    "viz.EnsembleTimeCourse(MPE)"
   ]
  },
  {
   "cell_type": "markdown",
   "metadata": {},
   "source": [
    "## Boxplots"
   ]
  },
  {
   "cell_type": "code",
   "execution_count": null,
   "metadata": {
    "ExecuteTime": {
     "end_time": "2017-10-06T01:13:42.021551Z",
     "start_time": "2017-10-06T01:13:41.907823Z"
    },
    "scrolled": false
   },
   "outputs": [],
   "source": [
    "viz.Boxplot(MPE)"
   ]
  },
  {
   "cell_type": "markdown",
   "metadata": {},
   "source": [
    "## Histograms"
   ]
  },
  {
   "cell_type": "code",
   "execution_count": null,
   "metadata": {
    "ExecuteTime": {
     "end_time": "2017-10-06T01:04:38.170196Z",
     "start_time": "2017-10-06T01:04:25.042Z"
    }
   },
   "outputs": [],
   "source": [
    "viz.Histograms(MPE)"
   ]
  },
  {
   "cell_type": "code",
   "execution_count": null,
   "metadata": {},
   "outputs": [],
   "source": []
  },
  {
   "cell_type": "code",
   "execution_count": null,
   "metadata": {},
   "outputs": [],
   "source": []
  },
  {
   "cell_type": "code",
   "execution_count": null,
   "metadata": {
    "ExecuteTime": {
     "end_time": "2017-10-06T01:06:24.302424Z",
     "start_time": "2017-10-06T01:06:24.169199Z"
    }
   },
   "outputs": [],
   "source": [
    "f = '/home/b3053674/Documents/pycotools/ZiModel/data.csv'\n",
    "f2 = '/home/b3053674/Documents/pycotools/ZiModel/data2.csv'\n",
    "\n",
    "df = pandas.read_csv(f)\n",
    "# df = df.drop(u'Unnamed: 0')\n",
    "df = df.sort_values(by=['Time', 'ParameterFitIndex'])\n",
    "# import seaborn\n",
    "df.to_csv(f2)\n",
    "# seaborn.tsplot(df, time='Time',value='Smad3c', unit='ParameterFitIndex')"
   ]
  },
  {
   "cell_type": "code",
   "execution_count": null,
   "metadata": {},
   "outputs": [],
   "source": []
  },
  {
   "cell_type": "code",
   "execution_count": null,
   "metadata": {
    "ExecuteTime": {
     "end_time": "2017-10-06T01:04:38.174465Z",
     "start_time": "2017-10-06T01:04:25.054Z"
    }
   },
   "outputs": [],
   "source": [
    "gammas = seaborn.load_dataset(\"gammas\").head()"
   ]
  },
  {
   "cell_type": "code",
   "execution_count": null,
   "metadata": {
    "ExecuteTime": {
     "end_time": "2017-10-06T01:04:38.177387Z",
     "start_time": "2017-10-06T01:04:25.058Z"
    }
   },
   "outputs": [],
   "source": [
    "ax = sns.tsplot(time=\"timepoint\", value=\"BOLD signal\",\n",
    "                unit=\"subject\", condition=\"ROI\",\n",
    "                data=gammas)"
   ]
  },
  {
   "cell_type": "code",
   "execution_count": null,
   "metadata": {},
   "outputs": [],
   "source": []
  },
  {
   "cell_type": "markdown",
   "metadata": {},
   "source": [
    "To monitor progress, look either at the task manager or system monitor. "
   ]
  }
 ],
 "metadata": {
  "hide_input": false,
  "kernelspec": {
   "display_name": "Python [default]",
   "language": "python",
   "name": "python2"
  },
  "language_info": {
   "codemirror_mode": {
    "name": "ipython",
    "version": 2
   },
   "file_extension": ".py",
   "mimetype": "text/x-python",
   "name": "python",
   "nbconvert_exporter": "python",
   "pygments_lexer": "ipython2",
   "version": "2.7.13"
  },
  "latex_envs": {
   "LaTeX_envs_menu_present": true,
   "autocomplete": true,
   "bibliofile": "biblio.bib",
   "cite_by": "apalike",
   "current_citInitial": 1,
   "eqLabelWithNumbers": true,
   "eqNumInitial": 1,
   "hotkeys": {
    "equation": "Ctrl-E",
    "itemize": "Ctrl-I"
   },
   "labels_anchors": false,
   "latex_user_defs": false,
   "report_style_numbering": false,
   "user_envs_cfg": false
  },
  "toc": {
   "colors": {
    "hover_highlight": "#DAA520",
    "navigate_num": "#000000",
    "navigate_text": "#333333",
    "running_highlight": "#FF0000",
    "selected_highlight": "#FFD700",
    "sidebar_border": "#EEEEEE",
    "wrapper_background": "#FFFFFF"
   },
   "moveMenuLeft": true,
   "nav_menu": {
    "height": "220px",
    "width": "252px"
   },
   "navigate_menu": true,
   "number_sections": true,
   "sideBar": true,
   "threshold": 4,
   "toc_cell": false,
   "toc_position": {
    "height": "565px",
    "left": "0px",
    "right": "1062.67px",
    "top": "130px",
    "width": "174px"
   },
   "toc_section_display": "block",
   "toc_window_display": true,
   "widenNotebook": false
  },
  "varInspector": {
   "cols": {
    "lenName": 16,
    "lenType": 16,
    "lenVar": 40
   },
   "kernels_config": {
    "python": {
     "delete_cmd_postfix": "",
     "delete_cmd_prefix": "del ",
     "library": "var_list.py",
     "varRefreshCmd": "print(var_dic_list())"
    },
    "r": {
     "delete_cmd_postfix": ") ",
     "delete_cmd_prefix": "rm(",
     "library": "var_list.r",
     "varRefreshCmd": "cat(var_dic_list()) "
    }
   },
   "types_to_exclude": [
    "module",
    "function",
    "builtin_function_or_method",
    "instance",
    "_Feature"
   ],
   "window_display": false
  }
 },
 "nbformat": 4,
 "nbformat_minor": 1
}
