{
 "cells": [
  {
   "cell_type": "markdown",
   "metadata": {},
   "source": [
    "## Insert Parameters"
   ]
  },
  {
   "cell_type": "code",
   "execution_count": 2,
   "metadata": {
    "ExecuteTime": {
     "end_time": "2017-12-12T15:40:14.288215Z",
     "start_time": "2017-12-12T15:40:08.303409Z"
    }
   },
   "outputs": [
    {
     "name": "stderr",
     "output_type": "stream",
     "text": [
      "/home/b3053674/Documents/pycotools/pycotools/viz.py:117: FutureWarning: The pandas.parser module is deprecated and will be removed in a future version. Please import from the pandas.io.parser instead\n",
      "  from pandas.parser import CParserError\n"
     ]
    }
   ],
   "source": [
    "%matplotlib inline\n",
    "import site, os, glob, pandas\n",
    "site.addsitedir(r'C:/Users/Ciaran/Documents/pycotools')\n",
    "site.addsitedir(r'/home/b3053674/Documents/pycotools')\n",
    "from pycotools import model, tasks, viz, misc"
   ]
  },
  {
   "cell_type": "markdown",
   "metadata": {},
   "source": [
    "### Build Example Model\n",
    "Here we use the same model as in the QuickStart tutorial."
   ]
  },
  {
   "cell_type": "code",
   "execution_count": 3,
   "metadata": {
    "ExecuteTime": {
     "end_time": "2017-12-12T15:40:14.468088Z",
     "start_time": "2017-12-12T15:40:14.297019Z"
    }
   },
   "outputs": [
    {
     "data": {
      "text/plain": [
       "Model(name=Michaelis-Menten, time_unit=s, volume_unit=ml, quantity_unit=mmol)"
      ]
     },
     "execution_count": 3,
     "metadata": {},
     "output_type": "execute_result"
    }
   ],
   "source": [
    "working_directory = r'C:\\Users\\Ciaran\\Documents\\PycotoolsQuickStart'\n",
    "working_directory = r'/home/b3053674/Documents/Models/2017/12_Dec/PycotoolsWorkflowDir'\n",
    "copasi_file = os.path.join(working_directory, 'MichaelisMenten.cps')\n",
    "\n",
    "if os.path.isfile(copasi_file):\n",
    "    os.remove(copasi_file)\n",
    "\n",
    "    \n",
    "kf = 0.01\n",
    "kb = 0.1\n",
    "kcat = 0.05\n",
    "with model.Build(copasi_file) as m:\n",
    "    m.name = 'Michaelis-Menten'\n",
    "    m.add('compartment', name='Cell')\n",
    "    \n",
    "    m.add('metabolite', name='P', concentration=0)\n",
    "    m.add('metabolite', name='S', concentration=30)\n",
    "    m.add('metabolite', name='E', concentration=10)\n",
    "    m.add('metabolite', name='ES', concentration=0)\n",
    "    \n",
    "    m.add('reaction', name='S bind E', expression='S + E -> ES', rate_law='kf*S*E',\n",
    "          parameter_values={'kf': kf})\n",
    "    \n",
    "    m.add('reaction', name='S unbind E', expression='ES -> S + E', rate_law='kb*ES',\n",
    "         parameter_values={'kb': kb})\n",
    "\n",
    "    m.add('reaction', name='ES produce P', expression='ES -> P + E', rate_law='kcat*ES', \n",
    "          parameter_values={'kcat': kcat})\n",
    "    \n",
    "michaelis_menten = model.Model(copasi_file)\n",
    "michaelis_menten"
   ]
  },
  {
   "cell_type": "markdown",
   "metadata": {},
   "source": [
    "### Insert Parameters from Python Dictionary"
   ]
  },
  {
   "cell_type": "code",
   "execution_count": 8,
   "metadata": {
    "ExecuteTime": {
     "end_time": "2017-12-12T15:48:52.416086Z",
     "start_time": "2017-12-12T15:48:52.388363Z"
    }
   },
   "outputs": [
    {
     "name": "stdout",
     "output_type": "stream",
     "text": [
      "     0\n",
      "E  100\n",
      "P  150\n"
     ]
    },
    {
     "data": {
      "text/plain": [
       "Model(name=Michaelis-Menten, time_unit=s, volume_unit=ml, quantity_unit=mmol)"
      ]
     },
     "execution_count": 8,
     "metadata": {},
     "output_type": "execute_result"
    }
   ],
   "source": [
    "params = {'E': 100,\n",
    "          'P': 150}\n",
    "\n",
    "## Insert into model \n",
    "I = model.InsertParameters(michaelis_menten, parameter_dict=params)\n",
    "print(I.parameters.transpose())\n",
    "\n",
    "## Save the model\n",
    "I.model.save()"
   ]
  },
  {
   "cell_type": "markdown",
   "metadata": {
    "ExecuteTime": {
     "end_time": "2017-12-12T15:45:52.771887Z",
     "start_time": "2017-12-12T15:45:52.767122Z"
    }
   },
   "source": [
    "Alternatively use `inplace=True` argument to save automatically"
   ]
  },
  {
   "cell_type": "code",
   "execution_count": null,
   "metadata": {
    "collapsed": true
   },
   "outputs": [],
   "source": [
    "I = model.InsertParameters(michaelis_menten, parameter_dict=param, inplace=True)"
   ]
  },
  {
   "cell_type": "markdown",
   "metadata": {},
   "source": [
    "### Insert Parameters from Pandas DataFrame"
   ]
  },
  {
   "cell_type": "code",
   "execution_count": 10,
   "metadata": {
    "ExecuteTime": {
     "end_time": "2017-12-12T15:50:21.196702Z",
     "start_time": "2017-12-12T15:50:21.183910Z"
    }
   },
   "outputs": [
    {
     "data": {
      "text/plain": [
       "<pycotools.model.InsertParameters at 0x7f25440f0290>"
      ]
     },
     "execution_count": 10,
     "metadata": {},
     "output_type": "execute_result"
    }
   ],
   "source": [
    "params = {'(S bind E).kf': 50,\n",
    "          '(S unbind E).kb': 96}\n",
    "df = pandas.DataFrame(params, index=[0])\n",
    "\n",
    "model.InsertParameters(michaelis_menten, df=df, inplace=True)"
   ]
  },
  {
   "cell_type": "markdown",
   "metadata": {},
   "source": [
    "### Insert Parameters from Parameter Estimation Output\n",
    "Get some parameter estimation data"
   ]
  },
  {
   "cell_type": "code",
   "execution_count": 12,
   "metadata": {
    "ExecuteTime": {
     "end_time": "2017-12-12T15:55:20.961214Z",
     "start_time": "2017-12-12T15:55:16.205378Z"
    }
   },
   "outputs": [
    {
     "name": "stdout",
     "output_type": "stream",
     "text": [
      "pycotools.tasks:INFO:3661:    running model: 0\n",
      "pycotools.tasks:INFO:3661:    running model: 1\n",
      "/home/b3053674/Documents/Models/2017/12_Dec/PycotoolsWorkflowDir/MultipleParameterEstimationResults\n"
     ]
    }
   ],
   "source": [
    "## simulate data \n",
    "TC = tasks.TimeCourse(michaelis_menten, end=100, step_size=1, intervals=100)\n",
    "\n",
    "## format copasi report headers\n",
    "misc.format_timecourse_data(TC.report_name)\n",
    "\n",
    "## run PEs\n",
    "PE = tasks.MultiParameterEstimation(michaelis_menten, TC.report_name, \n",
    "                                   method='genetic_algorithm', \n",
    "                                   population_size=10, \n",
    "                                   number_of_generations=10, \n",
    "                                   copy_number=2, \n",
    "                                   pe_number=2, \n",
    "                                   run_mode=True)\n",
    "PE.write_config_file()\n",
    "PE.setup()\n",
    "PE.run()\n",
    "print (PE.results_directory)"
   ]
  },
  {
   "cell_type": "code",
   "execution_count": 13,
   "metadata": {
    "ExecuteTime": {
     "end_time": "2017-12-12T15:55:49.416821Z",
     "start_time": "2017-12-12T15:55:49.357427Z"
    }
   },
   "outputs": [
    {
     "data": {
      "text/plain": [
       "<pycotools.model.InsertParameters at 0x7f24fba67990>"
      ]
     },
     "execution_count": 13,
     "metadata": {},
     "output_type": "execute_result"
    }
   ],
   "source": [
    "##index=0 for best parameter set (i.e. lowest RSS)\n",
    "model.InsertParameters(michaelis_menten, parameter_path=PE.results_directory, index=0, inplace=True) "
   ]
  },
  {
   "cell_type": "markdown",
   "metadata": {},
   "source": [
    "### Insert Parameters using the `model.Model().insert_parameters` method\n",
    "The same means of inserting parameters can be used from the model object itself"
   ]
  },
  {
   "cell_type": "code",
   "execution_count": null,
   "metadata": {
    "collapsed": true
   },
   "outputs": [],
   "source": [
    "michaelis_menten.insert_parameters(parameter_dict=params, inplace=True)"
   ]
  },
  {
   "cell_type": "markdown",
   "metadata": {},
   "source": [
    "### Change parameters using `model.Model().set`\n",
    "Individual parameters can also be changed using the `set` method. For example, we could set the `metabolite` with name `S` `concentration` or `particle numbers` to `55`"
   ]
  },
  {
   "cell_type": "code",
   "execution_count": null,
   "metadata": {
    "collapsed": true
   },
   "outputs": [],
   "source": [
    "michaelis_menten.set('metabolite', 'S', 55, 'name', 'concentration')\n",
    "\n",
    "## or \n",
    "\n",
    "michaelis_menten.set('metabolite', 'S', 55, 'name', 'particle_numbers')"
   ]
  }
 ],
 "metadata": {
  "hide_input": false,
  "kernelspec": {
   "display_name": "Python [default]",
   "language": "python",
   "name": "python2"
  },
  "language_info": {
   "codemirror_mode": {
    "name": "ipython",
    "version": 2
   },
   "file_extension": ".py",
   "mimetype": "text/x-python",
   "name": "python",
   "nbconvert_exporter": "python",
   "pygments_lexer": "ipython2",
   "version": "2.7.13"
  },
  "latex_envs": {
   "LaTeX_envs_menu_present": true,
   "autocomplete": true,
   "bibliofile": "biblio.bib",
   "cite_by": "apalike",
   "current_citInitial": 1,
   "eqLabelWithNumbers": true,
   "eqNumInitial": 1,
   "hotkeys": {
    "equation": "Ctrl-E",
    "itemize": "Ctrl-I"
   },
   "labels_anchors": false,
   "latex_user_defs": false,
   "report_style_numbering": false,
   "user_envs_cfg": false
  },
  "toc": {
   "colors": {
    "hover_highlight": "#DAA520",
    "navigate_num": "#000000",
    "navigate_text": "#333333",
    "running_highlight": "#FF0000",
    "selected_highlight": "#FFD700",
    "sidebar_border": "#EEEEEE",
    "wrapper_background": "#FFFFFF"
   },
   "moveMenuLeft": true,
   "nav_menu": {
    "height": "94px",
    "width": "252px"
   },
   "navigate_menu": true,
   "number_sections": true,
   "sideBar": true,
   "threshold": 4,
   "toc_cell": false,
   "toc_section_display": "block",
   "toc_window_display": false,
   "widenNotebook": false
  },
  "varInspector": {
   "cols": {
    "lenName": 16,
    "lenType": 16,
    "lenVar": 40
   },
   "kernels_config": {
    "python": {
     "delete_cmd_postfix": "",
     "delete_cmd_prefix": "del ",
     "library": "var_list.py",
     "varRefreshCmd": "print(var_dic_list())"
    },
    "r": {
     "delete_cmd_postfix": ") ",
     "delete_cmd_prefix": "rm(",
     "library": "var_list.r",
     "varRefreshCmd": "cat(var_dic_list()) "
    }
   },
   "types_to_exclude": [
    "module",
    "function",
    "builtin_function_or_method",
    "instance",
    "_Feature"
   ],
   "window_display": false
  }
 },
 "nbformat": 4,
 "nbformat_minor": 2
}
