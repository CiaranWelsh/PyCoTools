{
 "cells": [
  {
   "cell_type": "markdown",
   "metadata": {},
   "source": [
    "# PyCoTools Installation"
   ]
  },
  {
   "cell_type": "markdown",
   "metadata": {},
   "source": [
    "### COPASI \n",
    "PyCoTools was written on **COPASI version 16**. Since writing PyCoTools, COPASI have changed a few things internally which affect the way the XML is read. For this reason **PyCoTools is not yet functional with the newest version of COPASI**. Efforts are being made to update PyCoTools to support COPASI version 19. PyCoTools uses the COPASI simulation engine (CopasiSE). On install COPASI creates an environment variable 'CopasiSE' which we can use to run COPASI files via the command line. Two versions of COPASI can co-exist on a system but for PyCoTools to work you'll need to make sure that 'CopasiSE' points towards CopasiSE version 16.   \n",
    "\n",
    "\n",
    "### Python\n",
    "PyCoTools was written on the [Anaconda2](https://www.continuum.io/downloads) distribution of Python 2.7 and has several dependencies (see below). Users are recommended to also install the Anaconda distribution of python as it comes with a number of useful python packages. \n",
    "\n",
    "#### Python3 Users \n",
    "For Python3 users (latest=version 3.6 at the date of writing this) you can easily setup a python2.7 environment using conda. [Here](https://uoa-eresearch.github.io/eresearch-cookbook/recipe/2014/11/20/conda/) are some detailed instructions on how to properly manage and use multiple Python versions on one machine. Briefly though\n",
    "        \n",
    "            1. Install conda (use `pip install conda` at the command prompt or terminal)\n",
    "            2. Use the command `conda create --name py27 python=2.7`\n",
    "            3. To use Python 2.7, use the command `activate py27` \n",
    "            4. You can then proceed to open spyder with the command `spyder` or jupyter notebook with `jupyter notebook' \n",
    "            \n",
    "### IDE\n",
    "            \n",
    "I'd recommend using either `spyder` or `jupyter notebook`, both of which can be installed using: \n",
    "        \n",
    "    1. `pip install spyder`\n",
    "        a. or `pip install spyder --upgrade` to get the newest version\n",
    "    2. `pip install jupyter notebook`\n",
    "\n",
    "\n",
    "### Pip \n",
    "\n",
    "If you don't have [pip](https://docs.python.org/3/installing/) it can be [downloaded](https://bootstrap.pypa.io/) and installed by running:\n",
    "        \n",
    "        > python get-pip.py \n",
    "\n",
    "from wherever to was downloaded it to (with administrative privalleges). Dependencies usually install with PyCoTools but if they don't, run:\n",
    "        \n",
    "        > pip install matplotlib pandas numpy scipy argparse lxml\n",
    "\n",
    "(again with admin rights)\n",
    "\n",
    "\n",
    "### PyCoTools\n",
    "\n",
    "To install PyCoTools, from a command line or terminal (not from Python) with administrative privalleges, use:\n",
    "\n",
    "        > pip install PyCoTools\n",
    "\n",
    "The PyCoTools source code is also available on [GitHub](https://github.com/CiaranWelsh/PyCoTools) along with several example scripts. \n",
    "\n",
    "\n",
    "### Linux Users\n",
    "So far my tests on Linux are restricted to using PyCoTools on a linux cluster. Everything I've tested on linux has worked so far but my main environment is Windows and there may still be issues. \n",
    "\n",
    "### Mac Users\n",
    "I have never used PyCoTools on a Mac. However, all operating system tasks in PyCoTools have been handled with the `os` module so theoretically PyCoTools should be completly cross platform. \n",
    "\n",
    "\n",
    "\n"
   ]
  },
  {
   "cell_type": "markdown",
   "metadata": {},
   "source": [
    "# Setting up a Workspace"
   ]
  },
  {
   "cell_type": "markdown",
   "metadata": {},
   "source": [
    "PyCoTools uses a lot of Python strings to store input and output file paths which can build up and be unwieldy. \n",
    "\n",
    "One way to deal with this is simply to have informative names for your strings:\n",
    "    i.e. `>>>copasi_filepath=r'/path/to/copasi/file'`\n",
    "    \n",
    "Which is the preferred method if what you are doing with PyCoTools is very small. For example, I often use the following to quickly produce pretty simulation output graphs plots to present: \n",
    "    \n",
    "    `>>>import PyCoTools`\n",
    "    `>>>copasi_filepath=r'/path/to/copasi/file'`\n",
    "    `>>>PyCoTools.pycopi.TimeCourse(copasi_filepath,Start=0,\n",
    "                                    Intervals=1000,StepSize=1,End=1000,Plot='true',SaveFig='true')\n",
    "\n",
    "\n",
    "When conducting more substantial work with PyCoTools I prefer to setup an importable Python class which contains all file paths that I need as attributes. Whenever I need a new path I just added it to the class. This helps keep files and folders in one place resulting in a much nicer workspace than coping and pasting or commenting and uncommenting strings. To create such a class is easy: \n",
    "\n",
    "            1. Create new folder for your analysis.\n",
    "            2. Create a blank `__init__.py' file in this folder (this makes modules and classes visible for importing)\n",
    "            3. Create a module called (for instance) `FilePaths.py` (To import into other scripts)\n",
    "            4) Place a class inside `FilePaths` containing paths relevant to your analysis. \n",
    "            \n",
    "What we are essentially doing here is creating a mini Python package. [Here](http://pythoncentral.io/how-to-create-a-python-package/) is a link to another tutorial on Python packages if you require more explanation\n",
    "\n",
    "Here is an example if a directory structure where `ModellingDirectory` is the name of the directory you created above to work from: \n",
    "    \n",
    "    --ModellingDirectory\n",
    "        --Model.cps\n",
    "        --__init__.py #note the double underscore\n",
    "        --FilePaths.py \n",
    "        --Analysis.py #Conduct PyCoTools analyses in Python files in this directory\n",
    "        \n",
    "`FilePaths` is now importable. Here is an example of the class we'll use in these tutorials:"
   ]
  },
  {
   "cell_type": "code",
   "execution_count": null,
   "metadata": {
    "collapsed": true
   },
   "outputs": [],
   "source": [
    "#FilePaths.py\n",
    "import os\n",
    "import sys\n",
    "\n",
    "class KholodenkoExample():\n",
    "    def __init__(self):\n",
    "        ## path to folder containing kholodenko example\n",
    "        if sys.platform=='win32':\n",
    "            self.current_directory='D:\\MPhil\\Python\\My_Python_Modules\\Modelling_Tools\\PyCoTools\\PyCoTools\\Examples\\KholodenkoExample'\n",
    "        else:\n",
    "            ## workspace on cluster. Only used if you move analyses between local (windows) and cluster envs. \n",
    "            self.current_directory=r'/sharedlustre/users/b3053674/2017/Jan/Kholod/KholodenkoExample'\n",
    "        ## Kholodenko filename\n",
    "        self.copasi_filename=r'Kholodenko.cps'\n",
    "        ## full path to kholodenko model\n",
    "        self.kholodenko_model=os.path.join(self.current_directory,self.copasi_filename)\n",
    "        ## full path to the time course output\n",
    "        self.timecourse_report=os.path.join(self.current_directory,'KholodenkoTimeCourseOutput.txt')\n",
    "        ## full path to the noisy time course output\n",
    "        self.noisy_timecourse_report=os.path.join(self.current_directory,'NoisyKholodenkoTimeCourseOutput.txt')\n",
    "        ## Full path to parameter estimation results file\n",
    "        self.PEData_file=os.path.join(self.current_directory,'PEResultsFile.txt')\n",
    "        ## Full path to a folder containing all data from initial multiple global parameter estimations\n",
    "        self.PEData_dir=os.path.join(self.current_directory,'PEResults')\n",
    "        ## Full path to file containing secondary local parameter estimation (starting with best values from self.PEData_dir)\n",
    "        self.local_PEData_dir=os.path.join(self.current_directory,'LocalPEDataResults')\n",
    "        ## Pre-run parameter estimation data pickle file. \n",
    "        self.GlobalPEData=os.path.join(self.current_directory,'1GlobalPEData.pickle')\n",
    "        self.LocalPEData=os.path.join(self.current_directory,'1LocalPEData.pickle') "
   ]
  }
 ],
 "metadata": {
  "hide_input": false,
  "kernelspec": {
   "display_name": "Python 2",
   "language": "python",
   "name": "python2"
  },
  "language_info": {
   "codemirror_mode": {
    "name": "ipython",
    "version": 2
   },
   "file_extension": ".py",
   "mimetype": "text/x-python",
   "name": "python",
   "nbconvert_exporter": "python",
   "pygments_lexer": "ipython2",
   "version": "2.7.12"
  },
  "toc": {
   "colors": {
    "hover_highlight": "#DAA520",
    "running_highlight": "#FF0000",
    "selected_highlight": "#FFD700"
   },
   "moveMenuLeft": true,
   "nav_menu": {
    "height": "193px",
    "width": "252px"
   },
   "navigate_menu": true,
   "number_sections": true,
   "sideBar": true,
   "threshold": 4,
   "toc_cell": false,
   "toc_section_display": "block",
   "toc_window_display": true
  }
 },
 "nbformat": 4,
 "nbformat_minor": 2
}
