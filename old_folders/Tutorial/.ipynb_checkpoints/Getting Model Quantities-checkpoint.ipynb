{
 "cells": [
  {
   "cell_type": "markdown",
   "metadata": {
    "collapsed": true
   },
   "source": [
    "# Getting Model Quantities\n",
    "A class for retrieving model information "
   ]
  },
  {
   "cell_type": "code",
   "execution_count": 22,
   "metadata": {
    "ExecuteTime": {
     "end_time": "2017-07-23T15:26:45.108006Z",
     "start_time": "2017-07-23T15:26:45.092861Z"
    }
   },
   "outputs": [
    {
     "name": "stdout",
     "output_type": "stream",
     "text": [
      "INFO:root:<ipython-input-22-9f5569c20c3b>:<module>:11:kholodenko model is here: /home/b3053674/Documents/PyCoTools/PyCoTools/PyCoToolsTutorial/Kholodenko.cps\n",
      "INFO:root:<ipython-input-22-9f5569c20c3b>:<module>:12:checking kholodenko model exists:... True\n"
     ]
    }
   ],
   "source": [
    "%matplotlib inline\n",
    "import os,glob\n",
    "import logging\n",
    "logging.basicConfig(format='%(message)s')\n",
    "LOG=logging.getLogger()\n",
    "LOG.level=logging.DEBUG\n",
    "\n",
    "for i in glob.glob('*.cps'):\n",
    "    kholodenko_model= os.path.abspath(i)\n",
    "    \n",
    "LOG.info('kholodenko model is here: {}'.format(kholodenko_model))\n",
    "LOG.info('checking kholodenko model exists:... {}'.format(os.path.isfile(kholodenko_model)))"
   ]
  },
  {
   "cell_type": "code",
   "execution_count": 21,
   "metadata": {
    "ExecuteTime": {
     "end_time": "2017-07-23T15:26:24.610356Z",
     "start_time": "2017-07-23T15:26:24.563949Z"
    }
   },
   "outputs": [
    {
     "name": "stdout",
     "output_type": "stream",
     "text": [
      "INFO:root:<ipython-input-21-dfb33e4e58ac>:<module>:8:<PyCoTools.pycopi.GetModelQuantities instance at 0x7f3bd54db7e8>\n",
      "INFO:root:<ipython-input-21-dfb33e4e58ac>:<module>:11:nmol\n",
      "INFO:root:<ipython-input-21-dfb33e4e58ac>:<module>:14:s\n",
      "INFO:root:<ipython-input-21-dfb33e4e58ac>:<module>:17:Kholodenko2000 - Ultrasensitivity and negative feedback bring oscillations in MAPK cascade\n",
      "INFO:root:<ipython-input-21-dfb33e4e58ac>:<module>:20:Metabolites:\n"
     ]
    },
    {
     "ename": "AttributeError",
     "evalue": "GetModelQuantities instance has no attribute 'get_metabolites_cns'",
     "output_type": "error",
     "traceback": [
      "\u001b[0;31m---------------------------------------------------------------------------\u001b[0m",
      "\u001b[0;31mAttributeError\u001b[0m                            Traceback (most recent call last)",
      "\u001b[0;32m<ipython-input-21-dfb33e4e58ac>\u001b[0m in \u001b[0;36m<module>\u001b[0;34m()\u001b[0m\n\u001b[1;32m     19\u001b[0m \u001b[0;31m## get model metabolites\u001b[0m\u001b[0;34m\u001b[0m\u001b[0;34m\u001b[0m\u001b[0m\n\u001b[1;32m     20\u001b[0m \u001b[0mLOG\u001b[0m\u001b[0;34m.\u001b[0m\u001b[0minfo\u001b[0m\u001b[0;34m(\u001b[0m\u001b[0;34m'Metabolites:'\u001b[0m\u001b[0;34m)\u001b[0m\u001b[0;34m\u001b[0m\u001b[0m\n\u001b[0;32m---> 21\u001b[0;31m \u001b[0;32mfor\u001b[0m \u001b[0mmetab\u001b[0m \u001b[0;32min\u001b[0m \u001b[0mGMQ\u001b[0m\u001b[0;34m.\u001b[0m\u001b[0mget_metabolites_cns\u001b[0m\u001b[0;34m(\u001b[0m\u001b[0;34m)\u001b[0m\u001b[0;34m:\u001b[0m\u001b[0;34m\u001b[0m\u001b[0m\n\u001b[0m\u001b[1;32m     22\u001b[0m     \u001b[0mLOG\u001b[0m\u001b[0;34m.\u001b[0m\u001b[0minfo\u001b[0m\u001b[0;34m(\u001b[0m\u001b[0;34m'\\t {}'\u001b[0m\u001b[0;34m.\u001b[0m\u001b[0mformat\u001b[0m\u001b[0;34m(\u001b[0m\u001b[0mmetab\u001b[0m\u001b[0;34m)\u001b[0m\u001b[0;34m)\u001b[0m\u001b[0;34m\u001b[0m\u001b[0m\n\u001b[1;32m     23\u001b[0m \u001b[0;34m\u001b[0m\u001b[0m\n",
      "\u001b[0;31mAttributeError\u001b[0m: GetModelQuantities instance has no attribute 'get_metabolites_cns'"
     ]
    }
   ],
   "source": [
    "import site\n",
    "site.addsitedir('/home/b3053674/Documents/PyCoTools/')\n",
    "import PyCoTools\n",
    "import os\n",
    "\n",
    "\n",
    "GMQ = PyCoTools.pycopi.GetModelQuantities(kholodenko_model)\n",
    "LOG.info( GMQ)\n",
    "\n",
    "## get quantity units\n",
    "LOG.info(GMQ.get_quantity_units())\n",
    "\n",
    "## get time units\n",
    "LOG.info( GMQ.get_time_unit())\n",
    "\n",
    "## get model name \n",
    "LOG.info(GMQ.get_model_name())\n",
    "\n",
    "## get model metabolites\n",
    "LOG.info('Metabolites:')\n",
    "for metab in GMQ.get_metabolites_cns():\n",
    "    LOG.info('\\t {}'.format(metab))\n",
    "\n",
    "## get global parameters:  \n",
    "LOG.info( 'Global Parameters:' )\n",
    "for parameter in GMQ.get_global_quantities():\n",
    "    LOG.info('\\t{}'.format(parameter))  #Note: Empty list in the kholodenko model. \n",
    "    \n",
    "## get local parameters\n",
    "LOG.info('Local parameters:')\n",
    "for parameter in GMQ.get_local_parameters():\n",
    "    LOG.info( '\\t {}'.format(parameter)) ## all kinetic parameters are locally defined in this model\n",
    "    \n",
    "## get compartments \n",
    "LOG.info('Compartments')\n",
    "for compartment in GMQ.get_compartments():\n",
    "    LOG.info('\\t{}'.format(compartment))\n",
    "    \n"
   ]
  }
 ],
 "metadata": {
  "hide_input": false,
  "kernelspec": {
   "display_name": "Python [default]",
   "language": "python",
   "name": "python2"
  },
  "language_info": {
   "codemirror_mode": {
    "name": "ipython",
    "version": 2
   },
   "file_extension": ".py",
   "mimetype": "text/x-python",
   "name": "python",
   "nbconvert_exporter": "python",
   "pygments_lexer": "ipython2",
   "version": "2.7.13"
  },
  "toc": {
   "colors": {
    "hover_highlight": "#DAA520",
    "navigate_num": "#000000",
    "navigate_text": "#333333",
    "running_highlight": "#FF0000",
    "selected_highlight": "#FFD700",
    "sidebar_border": "#EEEEEE",
    "wrapper_background": "#FFFFFF"
   },
   "moveMenuLeft": true,
   "nav_menu": {
    "height": "30px",
    "width": "252px"
   },
   "navigate_menu": true,
   "number_sections": true,
   "sideBar": true,
   "threshold": 4,
   "toc_cell": false,
   "toc_section_display": "block",
   "toc_window_display": false,
   "widenNotebook": false
  },
  "varInspector": {
   "cols": {
    "lenName": 16,
    "lenType": 16,
    "lenVar": 40
   },
   "kernels_config": {
    "python": {
     "delete_cmd_postfix": "",
     "delete_cmd_prefix": "del ",
     "library": "var_list.py",
     "varRefreshCmd": "print(var_dic_list())"
    },
    "r": {
     "delete_cmd_postfix": ") ",
     "delete_cmd_prefix": "rm(",
     "library": "var_list.r",
     "varRefreshCmd": "cat(var_dic_list()) "
    }
   },
   "types_to_exclude": [
    "module",
    "function",
    "builtin_function_or_method",
    "instance",
    "_Feature"
   ],
   "window_display": false
  }
 },
 "nbformat": 4,
 "nbformat_minor": 2
}
