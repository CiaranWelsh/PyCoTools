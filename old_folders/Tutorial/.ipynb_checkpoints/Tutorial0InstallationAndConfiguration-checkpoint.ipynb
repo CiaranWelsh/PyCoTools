{
 "cells": [
  {
   "cell_type": "markdown",
   "metadata": {},
   "source": [
    "# PyCoTools Installation"
   ]
  },
  {
   "cell_type": "markdown",
   "metadata": {},
   "source": [
    "### COPASI \n",
    "PyCoTools was written on **COPASI version 16 and 19**. Since writing PyCoTools, COPASI has changed the way the XML is read and for this reason **PyCoTools version 19 is not compatible with the COPASI version 16**. If you would like to use PyCoTools on Copasi version 16 you can but you'll have to download the `CopasiVersion16` branch of the code from github.\n",
    "\n",
    "PyCoTools uses the COPASI simulation engine (CopasiSE). On install COPASI creates an environment variable 'CopasiSE' which can be used to run COPASI simulations via the command line. If the command 'CopasiSE' (in terminal or command prompt) doesn't give the CopasiSE help output then you need to reconfigure your environment variables. \n",
    "\n",
    "### Python\n",
    "PyCoTools was written with the [Anaconda2](https://www.continuum.io/downloads) distribution of Python 2.7 and has several dependencies (see below). Users are recommended to also install the Anaconda distribution of python as it comes with a number of useful python packages. \n",
    "\n",
    "#### Python3 Users \n",
    "PyCoTools has not been tested on Python3. Python has excellent tools for managing virtual environments. Python3 users (latest=version 3.6 at the date of writing) can  setup a python2.7 environment using conda. [Here](https://uoa-eresearch.github.io/eresearch-cookbook/recipe/2014/11/20/conda/) are some detailed instructions on how to properly manage and use multiple Python versions on one machine. Briefly\n",
    "        \n",
    "            1. Install conda (use `pip install conda` at the command prompt or terminal)\n",
    "            2. Use the command `conda create --name py27 python=2.7`\n",
    "            3. To use Python 2.7, use the command `activate py27` \n",
    "            4. You can then proceed to open spyder with the command `spyder` or jupyter notebook with `jupyter notebook' which will use python 2.7\n",
    "            \n",
    "### IDE\n",
    "            \n",
    "I'd recommend using `jupyter notebook` but other IDEs such as  `spyder` and `PyCharm` are also good. Install with  \n",
    "        \n",
    "    1. `pip install spyder`\n",
    "        a. or `pip install spyder --upgrade` to get the newest version\n",
    "    2. `pip install jupyter notebook`\n",
    "    \n",
    "and from the [yCharm Website](https://www.jetbrains.com/pycharm/download/)\n",
    "\n",
    "\n",
    "### Pip \n",
    "\n",
    "If you don't have [pip](https://docs.python.org/3/installing/) it can be [downloaded](https://bootstrap.pypa.io/) and installed by running:\n",
    "        \n",
    "        > python get-pip.py \n",
    "\n",
    "from wherever to was downloaded it to (with administrative privalleges). Dependencies usually install with PyCoTools but if they don't, run:\n",
    "        \n",
    "        > pip install matplotlib pandas numpy scipy argparse lxml seaborn\n",
    "\n",
    "(again with admin rights)\n",
    "\n",
    "\n",
    "### PyCoTools\n",
    "\n",
    "To install PyCoTools, from a command line or terminal (not from Python) with administrative privalleges, use:\n",
    "\n",
    "        > pip install PyCoTools\n",
    "\n",
    "The PyCoTools source code is also available on [GitHub](https://github.com/CiaranWelsh/PyCoTools) along with tutorials. \n",
    "\n",
    "### Platform\n",
    "PyCoTools was partially written on Windows 7 and partially on Ubuntu 16.04.02 and is fully functional on both. PyCoTools is untested on Mac platforms but since Python is cross-platform, I'd imagine it works just fine. "
   ]
  }
 ],
 "metadata": {
  "hide_input": false,
  "kernelspec": {
   "display_name": "Python [default]",
   "language": "python",
   "name": "python2"
  },
  "language_info": {
   "codemirror_mode": {
    "name": "ipython",
    "version": 2
   },
   "file_extension": ".py",
   "mimetype": "text/x-python",
   "name": "python",
   "nbconvert_exporter": "python",
   "pygments_lexer": "ipython2",
   "version": "2.7.13"
  },
  "toc": {
   "colors": {
    "hover_highlight": "#DAA520",
    "navigate_num": "#000000",
    "navigate_text": "#333333",
    "running_highlight": "#FF0000",
    "selected_highlight": "#FFD700",
    "sidebar_border": "#EEEEEE",
    "wrapper_background": "#FFFFFF"
   },
   "moveMenuLeft": true,
   "nav_menu": {
    "height": "193px",
    "width": "252px"
   },
   "navigate_menu": true,
   "number_sections": true,
   "sideBar": true,
   "threshold": 4,
   "toc_cell": false,
   "toc_section_display": "block",
   "toc_window_display": true,
   "widenNotebook": false
  },
  "varInspector": {
   "cols": {
    "lenName": 16,
    "lenType": 16,
    "lenVar": 40
   },
   "kernels_config": {
    "python": {
     "delete_cmd_postfix": "",
     "delete_cmd_prefix": "del ",
     "library": "var_list.py",
     "varRefreshCmd": "print(var_dic_list())"
    },
    "r": {
     "delete_cmd_postfix": ") ",
     "delete_cmd_prefix": "rm(",
     "library": "var_list.r",
     "varRefreshCmd": "cat(var_dic_list()) "
    }
   },
   "types_to_exclude": [
    "module",
    "function",
    "builtin_function_or_method",
    "instance",
    "_Feature"
   ],
   "window_display": false
  }
 },
 "nbformat": 4,
 "nbformat_minor": 2
}
