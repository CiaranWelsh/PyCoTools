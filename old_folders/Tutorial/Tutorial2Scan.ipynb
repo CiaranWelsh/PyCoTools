{
 "cells": [
  {
   "cell_type": "markdown",
   "metadata": {},
   "source": [
    "# Parameter Scan\n",
    "\n",
    "## Imports and Get Example model\n",
    "Here we use the Zi 2012 model of TGF$\\beta$ dynamics"
   ]
  },
  {
   "cell_type": "code",
   "execution_count": 10,
   "metadata": {
    "ExecuteTime": {
     "end_time": "2017-09-30T11:39:52.461331Z",
     "start_time": "2017-09-30T11:39:52.446111Z"
    },
    "scrolled": false
   },
   "outputs": [],
   "source": [
    "import site\n",
    "site.addsitedir('//home/b3053674/Documents/pycotools')\n",
    "from pycotools import model, tasks\n",
    "from pycotools.Tests import test_models\n",
    "import os\n",
    "\n",
    "\n",
    "## get string model from test_models\n",
    "zi_model_string = test_models.TestModels().zi_model()\n",
    "\n",
    "## get a working directory. Change this to change this to wherever you like\n",
    "directory = r'/home/b3053674/Documents/pycotools/ZiModel'\n",
    "\n",
    "## choose path to zi model\n",
    "zi_path = os.path.join(directory, 'zi2012.cps')\n",
    "\n",
    "##write model to file\n",
    "with open(zi_path, 'w') as f:\n",
    "    f.write(zi_model_string)\n",
    "    \n",
    "## check file exists\n",
    "if not os.path.isfile(zi_path):\n",
    "    raise Exception\n",
    "    \n",
    "zi = model.Model(zi_path)"
   ]
  },
  {
   "cell_type": "markdown",
   "metadata": {},
   "source": [
    "Copasi supports three types of scan: \n",
    "\n",
    "## Parameter Scan\n",
    "Set up a scan subtask with a single parameter being systematically varied. Run the scan via CopasiSE and have the output sqved to file."
   ]
  },
  {
   "cell_type": "code",
   "execution_count": 7,
   "metadata": {
    "ExecuteTime": {
     "end_time": "2017-09-30T11:33:36.935485Z",
     "start_time": "2017-09-30T11:33:20.698872Z"
    },
    "scrolled": true
   },
   "outputs": [
    {
     "name": "stdout",
     "output_type": "stream",
     "text": [
      "pycotools.tasks:WARNING:1775:    output_in_subtask is False. Setting to True in order to have data from all scans output to file\n"
     ]
    }
   ],
   "source": [
    "zi = tasks.Scan(\n",
    "    zi,scan_type = 'scan',\n",
    "    subtask = 'time_course',\n",
    "    report_type = 'time_course',\n",
    "    report_name = 'ParameterScanOfTimeCourse.txt',\n",
    "    variable = 'Smad3c',\n",
    "    minimum = 1,\n",
    "    maximum = 20,\n",
    "    number_of_steps = 8,\n",
    "    run=True\n",
    ").model"
   ]
  },
  {
   "cell_type": "markdown",
   "metadata": {},
   "source": [
    "Note that the zi model is reassigned to the version of the model within the Scan instance. We can then `save`, `open` or carry the configured model forward to more analyses.\n",
    "\n",
    "## 2 Way Parameter Scan\n",
    "By default, scan tasks are removed before setting up a new scan. To set up multiple scans, set  `clear_scans` to `False` in all but the first scan. "
   ]
  },
  {
   "cell_type": "code",
   "execution_count": 11,
   "metadata": {
    "ExecuteTime": {
     "end_time": "2017-09-30T11:40:32.438789Z",
     "start_time": "2017-09-30T11:39:58.382071Z"
    }
   },
   "outputs": [
    {
     "name": "stdout",
     "output_type": "stream",
     "text": [
      "pycotools.tasks:WARNING:1775:    output_in_subtask is False. Setting to True in order to have data from all scans output to file\n",
      "pycotools.tasks:WARNING:1775:    output_in_subtask is False. Setting to True in order to have data from all scans output to file\n"
     ]
    }
   ],
   "source": [
    "## setup first parameter scan\n",
    "zi = tasks.Scan(\n",
    "    zi, scan_type='scan', subtask='time_course',\n",
    "    report_type='time_course', report_name='ParameterScanOfTimeCourse.txt',\n",
    "    variable='Smad3c', minimum=1, maximum=10, number_of_steps=10\n",
    ").model\n",
    "\n",
    "## setup second parameter scan. Note clear_scans = False. \n",
    "tasks.Scan(\n",
    "    zi, scan_type='scan', variable='Smad3n', minimum=1,\n",
    "    maximum=100, number_of_steps=10, clear_scans=False, run=True, save=True\n",
    ").model\n",
    "zi.open()"
   ]
  },
  {
   "cell_type": "markdown",
   "metadata": {},
   "source": [
    "An arbitrary number of scans can be setup this way. Note that this time we used the `save=True` argument to save the model inplace. "
   ]
  },
  {
   "cell_type": "markdown",
   "metadata": {},
   "source": [
    "## Repeat Scan Items\n",
    "Repeat scans are useful for running multiple parameter estimations and for running stochastic time courses. \n",
    "\n",
    "### Setup repeat parameter estimation task"
   ]
  },
  {
   "cell_type": "code",
   "execution_count": 12,
   "metadata": {
    "ExecuteTime": {
     "end_time": "2017-09-30T14:30:38.444482Z",
     "start_time": "2017-09-30T14:30:38.350897Z"
    }
   },
   "outputs": [
    {
     "name": "stdout",
     "output_type": "stream",
     "text": [
      "pycotools.tasks:DEBUG:1734:    {'1': 'scan', '0': 'repeat', '2': 'random_sampling'}\n"
     ]
    },
    {
     "data": {
      "text/plain": [
       "Scan(scan_type='repeat', subtask='parameter_estimation', variable='Smad3n', report_type='parameter_estimation', report_name='estimations.txt', number_of_steps='10', minimum=0.01, maximum=100)"
      ]
     },
     "execution_count": 12,
     "metadata": {},
     "output_type": "execute_result"
    }
   ],
   "source": [
    "## Assume Parameter Estimation task already configured\n",
    "tasks.Scan(\n",
    "    zi, scan_type='repeat', subtask='parameter_estimation',\n",
    "    report_type='parameter_estimation', report_name='estimations.txt',\n",
    "    number_of_steps = 10, run=False, save=True \n",
    ")"
   ]
  },
  {
   "cell_type": "markdown",
   "metadata": {},
   "source": [
    "Notes:\n",
    "-  Subtask is configured to parameter_estimation. The parameter estimation must already be appropriately configured\n",
    "-  Here we setup 10 estimations and save the outut to a text file in the current directory called estimations.txt\n",
    "-  run is set to False. Set to True to run the scan task\n",
    "-  Zi model gets replaced with the version from within Scan\n",
    "\n",
    "### Setup repeat stochastic time courses"
   ]
  },
  {
   "cell_type": "code",
   "execution_count": null,
   "metadata": {
    "collapsed": true
   },
   "outputs": [],
   "source": [
    "## Assume Time course task already configured to run a with stochastic solver\n",
    "tasks.Scan(\n",
    "    zi, scan_type='repeat', subtask='time_course',\n",
    "    report_type='time_course', report_name='stochastic_timecourse.txt',\n",
    "    number_of_steps = 100, run=False, save=True\n",
    ")"
   ]
  },
  {
   "cell_type": "markdown",
   "metadata": {},
   "source": [
    "Notes\n",
    "-  A stochastic time course must already be configured for the multiple scans to run. "
   ]
  }
 ],
 "metadata": {
  "hide_input": false,
  "kernelspec": {
   "display_name": "Python [default]",
   "language": "python",
   "name": "python2"
  },
  "language_info": {
   "codemirror_mode": {
    "name": "ipython",
    "version": 2
   },
   "file_extension": ".py",
   "mimetype": "text/x-python",
   "name": "python",
   "nbconvert_exporter": "python",
   "pygments_lexer": "ipython2",
   "version": "2.7.13"
  },
  "latex_envs": {
   "LaTeX_envs_menu_present": true,
   "autocomplete": true,
   "bibliofile": "biblio.bib",
   "cite_by": "apalike",
   "current_citInitial": 1,
   "eqLabelWithNumbers": true,
   "eqNumInitial": 1,
   "hotkeys": {
    "equation": "Ctrl-E",
    "itemize": "Ctrl-I"
   },
   "labels_anchors": false,
   "latex_user_defs": false,
   "report_style_numbering": false,
   "user_envs_cfg": false
  },
  "toc": {
   "colors": {
    "hover_highlight": "#DAA520",
    "navigate_num": "#000000",
    "navigate_text": "#333333",
    "running_highlight": "#FF0000",
    "selected_highlight": "#FFD700",
    "sidebar_border": "#EEEEEE",
    "wrapper_background": "#FFFFFF"
   },
   "moveMenuLeft": true,
   "nav_menu": {
    "height": "102px",
    "width": "252px"
   },
   "navigate_menu": true,
   "number_sections": true,
   "sideBar": true,
   "threshold": 4,
   "toc_cell": false,
   "toc_section_display": "block",
   "toc_window_display": true,
   "widenNotebook": false
  },
  "varInspector": {
   "cols": {
    "lenName": 16,
    "lenType": 16,
    "lenVar": 40
   },
   "kernels_config": {
    "python": {
     "delete_cmd_postfix": "",
     "delete_cmd_prefix": "del ",
     "library": "var_list.py",
     "varRefreshCmd": "print(var_dic_list())"
    },
    "r": {
     "delete_cmd_postfix": ") ",
     "delete_cmd_prefix": "rm(",
     "library": "var_list.r",
     "varRefreshCmd": "cat(var_dic_list()) "
    }
   },
   "types_to_exclude": [
    "module",
    "function",
    "builtin_function_or_method",
    "instance",
    "_Feature"
   ],
   "window_display": false
  }
 },
 "nbformat": 4,
 "nbformat_minor": 2
}
