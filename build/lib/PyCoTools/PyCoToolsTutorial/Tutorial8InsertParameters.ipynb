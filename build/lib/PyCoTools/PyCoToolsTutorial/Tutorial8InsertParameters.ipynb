{
 "cells": [
  {
   "cell_type": "markdown",
   "metadata": {
    "deletable": true,
    "editable": true
   },
   "source": [
    "# InsertParameters\n",
    "This class enables parameters to be inserted into a model from a coapsi output file, pandas dataframe or a python dictionary. "
   ]
  },
  {
   "cell_type": "code",
   "execution_count": 3,
   "metadata": {
    "collapsed": false,
    "deletable": true,
    "editable": true
   },
   "outputs": [
    {
     "name": "stdout",
     "output_type": "stream",
     "text": [
      "/home/b3053674/Documents/PyCoTools/PyCoTools/PyCoToolsTutorial/Kholodenko.cps\n",
      "True\n"
     ]
    }
   ],
   "source": [
    "%matplotlib inline\n",
    "import os,glob\n",
    "\n",
    "for i in glob.glob('*.cps'):\n",
    "    kholodenko_model= os.path.abspath(i)\n",
    "    \n",
    "print kholodenko_model\n",
    "print os.path.isfile(kholodenko_model)"
   ]
  },
  {
   "cell_type": "code",
<<<<<<< HEAD
   "execution_count": 7,
=======
   "execution_count": 8,
>>>>>>> b5251ac39e0e966dfceb851ff97bd2f79e887bd0
   "metadata": {
    "collapsed": false,
    "deletable": true,
    "editable": true,
    "scrolled": false
   },
   "outputs": [
    {
     "name": "stdout",
     "output_type": "stream",
     "text": [
<<<<<<< HEAD
      "DEBUG:PyCoTools.pycopi:pycopi:108:copasi file Kholodenko.cps has been parsed into Python\n",
      "(MAPKKK activation).K1 --> 10.0\n",
      "(MAPKKK activation).Ki --> 0.00127978\n",
      "(MAPKKK activation).V1 --> 19.8726\n",
      "(MAPKKK activation).n --> 4.25568\n",
      "(MAPKKK inactivation).KK2 --> 770669.0\n",
      "(MAPKKK inactivation).V2 --> 1.8982e-05\n",
      "(dephosphorylation of MAPK-P).KK10 --> 6535.37\n",
      "(dephosphorylation of MAPK-P).V10 --> 0.018027\n",
      "(dephosphorylation of MAPK-PP).KK9 --> 688.833\n",
      "(dephosphorylation of MAPK-PP).V9 --> 5.22054e-06\n",
      "(dephosphorylation of MAPKK-P).KK6 --> 0.199851\n",
      "(dephosphorylation of MAPKK-P).V6 --> 306.398\n",
      "(dephosphorylation of MAPKK-PP).KK5 --> 2083.18\n",
      "(dephosphorylation of MAPKK-PP).V5 --> 0.000648891\n",
      "(phosphorylation of MAPK).KK7 --> 0.00080569\n",
      "(phosphorylation of MAPK).k7 --> 118926.0\n",
      "(phosphorylation of MAPK-P).KK8 --> 1.96775e-05\n",
      "(phosphorylation of MAPK-P).k8 --> 46722.9\n",
      "(phosphorylation of MAPKK).KK3 --> 29224.0\n",
      "(phosphorylation of MAPKK).k3 --> 0.0171707\n",
      "(phosphorylation of MAPKK-P).KK4 --> 1693.46\n",
      "(phosphorylation of MAPKK-P).k4 --> 0.00738712\n",
      "Erk2 --> 4.79694306497e+11\n",
      "Erk2-P --> 7.9078550487e+15\n",
      "Erk2-PP --> 9.14263500132e+11\n",
      "Mek1 --> 3.00118253818e+12\n",
      "Mek1-P --> 2812394415.21\n",
      "Mek1-PP --> 1.52987694462e+11\n",
      "Mos --> 83649356105.6\n",
      "Mos-P --> 6031596552.61\n",
      "uVol --> 1\n",
      "DEBUG:PyCoTools.pycopi:pycopi:108:copasi file Kholodenko.cps has been parsed into Python\n",
      "DEBUG:PyCoTools.pycopi:pycopi:108:copasi file Kholodenko.cps has been parsed into Python\n",
      "DEBUG:PyCoTools.pycopi:pycopi:4969:Local parameters being inserted into mode: ['(MAPKKK activation).K1']\n",
      "DEBUG:PyCoTools.pycopi:pycopi:4977:Constructing a dict of reaction:parameter for local parameters: {'MAPKKK activation': 'K1'}\n",
      "DEBUG:PyCoTools.pycopi:pycopi:5001:States:\t ['Model_3', 'Metabolite_7', 'Metabolite_13', 'Metabolite_1', 'Metabolite_5', 'Metabolite_11', 'Metabolite_9', 'Metabolite_3', 'Metabolite_15', 'Compartment_1']\n",
      "DEBUG:PyCoTools.pycopi:pycopi:5005:assembling parameter 0 out of 10\n",
      "DEBUG:PyCoTools.pycopi:pycopi:5012:State Model_3 is model\n",
      "DEBUG:PyCoTools.pycopi:pycopi:5017:Added 0 for first parameter in sequence\n",
      "DEBUG:PyCoTools.pycopi:pycopi:5005:assembling parameter 1 out of 10\n",
      "DEBUG:PyCoTools.pycopi:pycopi:5019:State Metabolite_7 is metab\n",
      "DEBUG:PyCoTools.pycopi:pycopi:5029:Metab dict for Metabolite_7, \n",
      "\n",
      "{'cn': 'CN=Root,Model=Kholodenko2000 - Ultrasensitivity and negative feedback bring oscillations in MAPK cascade,Vector=Compartments[uVol],Vector=Metabolites[Mek1-P]', 'value': '2812394415.21', 'compartment_volume': '1.0', 'simulationType': 'reactions', 'concentration': '4.67009000001e-06', 'compartment': 'uVol', 'type': 'Species'}\n",
      "DEBUG:PyCoTools.pycopi:pycopi:5005:assembling parameter 2 out of 10\n",
      "DEBUG:PyCoTools.pycopi:pycopi:5019:State Metabolite_13 is metab\n",
      "DEBUG:PyCoTools.pycopi:pycopi:5029:Metab dict for Metabolite_13, \n",
      "\n",
      "{'cn': 'CN=Root,Model=Kholodenko2000 - Ultrasensitivity and negative feedback bring oscillations in MAPK cascade,Vector=Compartments[uVol],Vector=Metabolites[Erk2-P]', 'value': '7.9078550487e+15', 'compartment_volume': '1.0', 'simulationType': 'reactions', 'concentration': '13.1313', 'compartment': 'uVol', 'type': 'Species'}\n",
      "DEBUG:PyCoTools.pycopi:pycopi:5005:assembling parameter 3 out of 10\n",
      "DEBUG:PyCoTools.pycopi:pycopi:5019:State Metabolite_1 is metab\n",
      "DEBUG:PyCoTools.pycopi:pycopi:5029:Metab dict for Metabolite_1, \n",
      "\n",
      "{'cn': 'CN=Root,Model=Kholodenko2000 - Ultrasensitivity and negative feedback bring oscillations in MAPK cascade,Vector=Compartments[uVol],Vector=Metabolites[Mos]', 'value': '83649356105.6', 'compartment_volume': '1.0', 'simulationType': 'reactions', 'concentration': '0.000138903', 'compartment': 'uVol', 'type': 'Species'}\n",
      "DEBUG:PyCoTools.pycopi:pycopi:5005:assembling parameter 4 out of 10\n",
      "DEBUG:PyCoTools.pycopi:pycopi:5019:State Metabolite_5 is metab\n",
      "DEBUG:PyCoTools.pycopi:pycopi:5029:Metab dict for Metabolite_5, \n",
      "\n",
      "{'cn': 'CN=Root,Model=Kholodenko2000 - Ultrasensitivity and negative feedback bring oscillations in MAPK cascade,Vector=Compartments[uVol],Vector=Metabolites[Mek1]', 'value': '3.00118253818e+12', 'compartment_volume': '1.0', 'simulationType': 'reactions', 'concentration': '0.00498358', 'compartment': 'uVol', 'type': 'Species'}\n",
      "DEBUG:PyCoTools.pycopi:pycopi:5005:assembling parameter 5 out of 10\n",
      "DEBUG:PyCoTools.pycopi:pycopi:5019:State Metabolite_11 is metab\n",
      "DEBUG:PyCoTools.pycopi:pycopi:5029:Metab dict for Metabolite_11, \n",
      "\n",
      "{'cn': 'CN=Root,Model=Kholodenko2000 - Ultrasensitivity and negative feedback bring oscillations in MAPK cascade,Vector=Compartments[uVol],Vector=Metabolites[Erk2]', 'value': '4.79694306497e+11', 'compartment_volume': '1.0', 'simulationType': 'reactions', 'concentration': '0.000796551000001', 'compartment': 'uVol', 'type': 'Species'}\n",
      "DEBUG:PyCoTools.pycopi:pycopi:5005:assembling parameter 6 out of 10\n",
      "DEBUG:PyCoTools.pycopi:pycopi:5019:State Metabolite_9 is metab\n",
      "DEBUG:PyCoTools.pycopi:pycopi:5029:Metab dict for Metabolite_9, \n",
      "\n",
      "{'cn': 'CN=Root,Model=Kholodenko2000 - Ultrasensitivity and negative feedback bring oscillations in MAPK cascade,Vector=Compartments[uVol],Vector=Metabolites[Mek1-PP]', 'value': '1.52987694462e+11', 'compartment_volume': '1.0', 'simulationType': 'reactions', 'concentration': '0.000254042000001', 'compartment': 'uVol', 'type': 'Species'}\n",
      "DEBUG:PyCoTools.pycopi:pycopi:5005:assembling parameter 7 out of 10\n",
      "DEBUG:PyCoTools.pycopi:pycopi:5019:State Metabolite_3 is metab\n",
      "DEBUG:PyCoTools.pycopi:pycopi:5029:Metab dict for Metabolite_3, \n",
      "\n",
      "{'cn': 'CN=Root,Model=Kholodenko2000 - Ultrasensitivity and negative feedback bring oscillations in MAPK cascade,Vector=Compartments[uVol],Vector=Metabolites[Mos-P]', 'value': '6031596552.61', 'compartment_volume': '1.0', 'simulationType': 'reactions', 'concentration': '1.00157e-05', 'compartment': 'uVol', 'type': 'Species'}\n",
      "DEBUG:PyCoTools.pycopi:pycopi:5005:assembling parameter 8 out of 10\n",
      "DEBUG:PyCoTools.pycopi:pycopi:5019:State Metabolite_15 is metab\n",
      "DEBUG:PyCoTools.pycopi:pycopi:5029:Metab dict for Metabolite_15, \n",
      "\n",
      "{'cn': 'CN=Root,Model=Kholodenko2000 - Ultrasensitivity and negative feedback bring oscillations in MAPK cascade,Vector=Compartments[uVol],Vector=Metabolites[Erk2-PP]', 'value': '9.14263500132e+11', 'compartment_volume': '1.0', 'simulationType': 'reactions', 'concentration': '0.00151817', 'compartment': 'uVol', 'type': 'Species'}\n",
      "DEBUG:PyCoTools.pycopi:pycopi:5005:assembling parameter 9 out of 10\n",
      "DEBUG:PyCoTools.pycopi:pycopi:120:Model written to /home/b3053674/Documents/PyCoTools/PyCoTools/PyCoToolsTutorial/Kholodenko.cps\n",
      "\n",
      "\n",
      "\n",
      "\n",
      "DEBUG:PyCoTools.pycopi:pycopi:108:copasi file Kholodenko.cps has been parsed into Python\n",
      "(MAPKKK activation).K1 --> 10.0\n",
      "(MAPKKK activation).Ki --> 0.00127978\n",
      "(MAPKKK activation).V1 --> 19.8726\n",
      "(MAPKKK activation).n --> 4.25568\n",
      "(MAPKKK inactivation).KK2 --> 770669.0\n",
      "(MAPKKK inactivation).V2 --> 1.8982e-05\n",
      "(dephosphorylation of MAPK-P).KK10 --> 6535.37\n",
      "(dephosphorylation of MAPK-P).V10 --> 0.018027\n",
      "(dephosphorylation of MAPK-PP).KK9 --> 688.833\n",
      "(dephosphorylation of MAPK-PP).V9 --> 5.22054e-06\n",
      "(dephosphorylation of MAPKK-P).KK6 --> 0.199851\n",
      "(dephosphorylation of MAPKK-P).V6 --> 306.398\n",
      "(dephosphorylation of MAPKK-PP).KK5 --> 2083.18\n",
      "(dephosphorylation of MAPKK-PP).V5 --> 0.000648891\n",
      "(phosphorylation of MAPK).KK7 --> 0.00080569\n",
      "(phosphorylation of MAPK).k7 --> 118926.0\n",
      "(phosphorylation of MAPK-P).KK8 --> 1.96775e-05\n",
      "(phosphorylation of MAPK-P).k8 --> 46722.9\n",
      "(phosphorylation of MAPKK).KK3 --> 29224.0\n",
      "(phosphorylation of MAPKK).k3 --> 0.0171707\n",
      "(phosphorylation of MAPKK-P).KK4 --> 1693.46\n",
      "(phosphorylation of MAPKK-P).k4 --> 0.00738712\n",
      "Erk2 --> 4.79694306497e+11\n",
      "Erk2-P --> 7.9078550487e+15\n",
      "Erk2-PP --> 9.14263500132e+11\n",
      "Mek1 --> 3.00118253818e+12\n",
      "Mek1-P --> 2812394415.21\n",
      "Mek1-PP --> 1.52987694462e+11\n",
      "Mos --> 83649356105.6\n",
      "Mos-P --> 6031596552.61\n",
      "uVol --> 1\n"
     ]
    },
    {
     "data": {
      "text/plain": [
       "0"
      ]
     },
     "execution_count": 7,
     "metadata": {},
     "output_type": "execute_result"
=======
      "DEBUG:PyCoTools.pycopi:pycopi:108:copasi file Kholodenko.cps has been parsed into Python\n"
     ]
    },
    {
     "ename": "IndexError",
     "evalue": "list index out of range",
     "output_type": "error",
     "traceback": [
      "\u001b[0;31m---------------------------------------------------------------------------\u001b[0m",
      "\u001b[0;31mIndexError\u001b[0m                                Traceback (most recent call last)",
      "\u001b[0;32m<ipython-input-8-0def2c59257f>\u001b[0m in \u001b[0;36m<module>\u001b[0;34m()\u001b[0m\n\u001b[1;32m      7\u001b[0m \u001b[0;34m\u001b[0m\u001b[0m\n\u001b[1;32m      8\u001b[0m \u001b[0;31m## Here are our model quantities\u001b[0m\u001b[0;34m\u001b[0m\u001b[0;34m\u001b[0m\u001b[0m\n\u001b[0;32m----> 9\u001b[0;31m \u001b[0;32mprint\u001b[0m \u001b[0mGMQ_before\u001b[0m\u001b[0;34m.\u001b[0m\u001b[0mget_all_model_variables\u001b[0m\u001b[0;34m(\u001b[0m\u001b[0;34m)\u001b[0m\u001b[0;34m\u001b[0m\u001b[0m\n\u001b[0m\u001b[1;32m     10\u001b[0m \u001b[0;31m# for param,values in sorted(GMQ_before.get_all_model_variables().items()):\u001b[0m\u001b[0;34m\u001b[0m\u001b[0;34m\u001b[0m\u001b[0m\n\u001b[1;32m     11\u001b[0m \u001b[0;31m#     print param,'-->',values['value']\u001b[0m\u001b[0;34m\u001b[0m\u001b[0;34m\u001b[0m\u001b[0m\n",
      "\u001b[0;32m/home/b3053674/Documents/PyCoTools/PyCoTools/pycopi.pyc\u001b[0m in \u001b[0;36mget_all_model_variables\u001b[0;34m(self)\u001b[0m\n\u001b[1;32m    537\u001b[0m         \u001b[0ml\u001b[0m\u001b[0;34m=\u001b[0m\u001b[0mself\u001b[0m\u001b[0;34m.\u001b[0m\u001b[0mget_local_kinetic_parameters_cns\u001b[0m\u001b[0;34m(\u001b[0m\u001b[0;34m)\u001b[0m\u001b[0;34m\u001b[0m\u001b[0m\n\u001b[1;32m    538\u001b[0m         \u001b[0mp\u001b[0m\u001b[0;34m=\u001b[0m \u001b[0mdict\u001b[0m\u001b[0;34m(\u001b[0m\u001b[0ml\u001b[0m\u001b[0;34m,\u001b[0m\u001b[0;34m**\u001b[0m\u001b[0mg\u001b[0m\u001b[0;34m)\u001b[0m\u001b[0;34m\u001b[0m\u001b[0m\n\u001b[0;32m--> 539\u001b[0;31m         \u001b[0mp\u001b[0m\u001b[0;34m=\u001b[0m\u001b[0mdict\u001b[0m\u001b[0;34m(\u001b[0m\u001b[0mp\u001b[0m\u001b[0;34m,\u001b[0m\u001b[0;34m**\u001b[0m\u001b[0mself\u001b[0m\u001b[0;34m.\u001b[0m\u001b[0mget_IC_cns\u001b[0m\u001b[0;34m(\u001b[0m\u001b[0;34m)\u001b[0m\u001b[0;34m)\u001b[0m\u001b[0;34m\u001b[0m\u001b[0m\n\u001b[0m\u001b[1;32m    540\u001b[0m         \u001b[0mp\u001b[0m\u001b[0;34m=\u001b[0m\u001b[0mdict\u001b[0m\u001b[0;34m(\u001b[0m\u001b[0mp\u001b[0m\u001b[0;34m,\u001b[0m\u001b[0;34m**\u001b[0m\u001b[0mself\u001b[0m\u001b[0;34m.\u001b[0m\u001b[0mget_compartments\u001b[0m\u001b[0;34m(\u001b[0m\u001b[0;34m)\u001b[0m\u001b[0;34m)\u001b[0m\u001b[0;34m\u001b[0m\u001b[0m\n\u001b[1;32m    541\u001b[0m         \u001b[0;32mreturn\u001b[0m \u001b[0mp\u001b[0m\u001b[0;34m\u001b[0m\u001b[0m\n",
      "\u001b[0;32m/home/b3053674/Documents/PyCoTools/PyCoTools/pycopi.pyc\u001b[0m in \u001b[0;36mget_IC_cns\u001b[0;34m(self)\u001b[0m\n\u001b[1;32m    432\u001b[0m         \u001b[0;32mfor\u001b[0m \u001b[0mi\u001b[0m \u001b[0;32min\u001b[0m \u001b[0mself\u001b[0m\u001b[0;34m.\u001b[0m\u001b[0mcopasiML\u001b[0m\u001b[0;34m.\u001b[0m\u001b[0mxpath\u001b[0m\u001b[0;34m(\u001b[0m\u001b[0mquery\u001b[0m\u001b[0;34m)\u001b[0m\u001b[0;34m:\u001b[0m\u001b[0;34m\u001b[0m\u001b[0m\n\u001b[1;32m    433\u001b[0m             \u001b[0;32mfor\u001b[0m \u001b[0mj\u001b[0m \u001b[0;32min\u001b[0m \u001b[0mlist\u001b[0m\u001b[0;34m(\u001b[0m\u001b[0mi\u001b[0m\u001b[0;34m)\u001b[0m\u001b[0;34m:\u001b[0m\u001b[0;34m\u001b[0m\u001b[0m\n\u001b[0;32m--> 434\u001b[0;31m                 \u001b[0mmatch\u001b[0m\u001b[0;34m=\u001b[0m \u001b[0mre\u001b[0m\u001b[0;34m.\u001b[0m\u001b[0mfindall\u001b[0m\u001b[0;34m(\u001b[0m\u001b[0;34m'metabolites\\[(.*)\\]'\u001b[0m\u001b[0;34m,\u001b[0m \u001b[0mj\u001b[0m\u001b[0;34m.\u001b[0m\u001b[0mattrib\u001b[0m\u001b[0;34m[\u001b[0m\u001b[0;34m'cn'\u001b[0m\u001b[0;34m]\u001b[0m\u001b[0;34m)\u001b[0m\u001b[0;34m[\u001b[0m\u001b[0;36m0\u001b[0m\u001b[0;34m]\u001b[0m\u001b[0;34m\u001b[0m\u001b[0m\n\u001b[0m\u001b[1;32m    435\u001b[0m                 \u001b[0;32massert\u001b[0m \u001b[0misinstance\u001b[0m\u001b[0;34m(\u001b[0m\u001b[0mmatch\u001b[0m\u001b[0;34m.\u001b[0m\u001b[0mencode\u001b[0m\u001b[0;34m(\u001b[0m\u001b[0;34m'utf8'\u001b[0m\u001b[0;34m)\u001b[0m\u001b[0;34m,\u001b[0m\u001b[0mstr\u001b[0m\u001b[0;34m)\u001b[0m\u001b[0;34m,\u001b[0m\u001b[0;34m'{} is not a string but a {}'\u001b[0m\u001b[0;34m.\u001b[0m\u001b[0mformat\u001b[0m\u001b[0;34m(\u001b[0m\u001b[0mmatch\u001b[0m\u001b[0;34m,\u001b[0m\u001b[0mtype\u001b[0m\u001b[0;34m(\u001b[0m\u001b[0mmatch\u001b[0m\u001b[0;34m)\u001b[0m\u001b[0;34m)\u001b[0m\u001b[0;34m\u001b[0m\u001b[0m\n\u001b[1;32m    436\u001b[0m                 \u001b[0;32massert\u001b[0m \u001b[0mmatch\u001b[0m \u001b[0;34m!=\u001b[0m\u001b[0mNone\u001b[0m\u001b[0;34m\u001b[0m\u001b[0m\n",
      "\u001b[0;31mIndexError\u001b[0m: list index out of range"
     ]
>>>>>>> b5251ac39e0e966dfceb851ff97bd2f79e887bd0
    }
   ],
   "source": [
    "import site\n",
    "site.addsitedir('/home/b3053674/Documents/PyCoTools')\n",
    "import PyCoTools\n",
    "import os\n",
    "\n",
    "GMQ_before=PyCoTools.pycopi.GetModelQuantities(kholodenko_model)\n",
    "\n",
    "## Here are our model quantities\n",
    "print GMQ_before.get_all_model_variables()\n",
    "# for param,values in sorted(GMQ_before.get_all_model_variables().items()):\n",
    "#     print param,'-->',values['value']\n",
    "    \n",
    "    \n",
    "# ##create a python dictionary dict[parameter_name]=value\n",
    "# parameter_dct={'(MAPKKK activation).K1':10}\n",
    "# PyCoTools.pycopi.InsertParameters(kholodenko_model,parameter_dict = parameter_dct)\n",
    "\n",
    "\n",
    "# print '\\n\\n\\n'\n",
    "# GMQ_after=PyCoTools.pycopi.GetModelQuantities(kholodenko_model)\n",
    "# ## Here are our model quantities\n",
    "# for param,values in sorted(GMQ_after.get_all_model_variables().items()):\n",
    "#     print param,'-->',values['value']\n",
    "    \n",
    "    \n",
    "# os.system('CopasiUI {}'.format(kholodenko_model))\n",
    "    "
   ]
  },
  {
   "cell_type": "markdown",
   "metadata": {
    "deletable": true,
    "editable": true
   },
   "source": [
    "Default behaviour when inserting metabolite values is to convert between particle numbers and concentrations automatically and insert both into the CopasiML. Change `CHECK_MODEL` variable to `True` to open the model and confirm for yourself."
   ]
  },
  {
   "cell_type": "code",
   "execution_count": 8,
   "metadata": {
    "collapsed": false,
    "deletable": true,
    "editable": true,
    "scrolled": true
   },
   "outputs": [
    {
     "name": "stdout",
     "output_type": "stream",
     "text": [
      "DEBUG:PyCoTools.pycopi:pycopi:108:copasi file Kholodenko.cps has been parsed into Python\n",
      "Mek1-PP {'concentration': 0.00025404200000080036, 'compartment': 'uVol', 'particle_numbers': '1.52987694462e+11'}\n",
      "Erk2 {'concentration': 0.0007965510000006161, 'compartment': 'uVol', 'particle_numbers': '4.79694306497e+11'}\n",
      "Mos {'concentration': 0.00013890299999993856, 'compartment': 'uVol', 'particle_numbers': '83649356105.6'}\n",
      "Erk2-P {'concentration': 13.131299999995516, 'compartment': 'uVol', 'particle_numbers': '7.9078550487e+15'}\n",
      "Erk2-PP {'concentration': 0.001518169999999286, 'compartment': 'uVol', 'particle_numbers': '9.14263500132e+11'}\n",
      "Mos-P {'concentration': 1.0015699999999502e-05, 'compartment': 'uVol', 'particle_numbers': '6031596552.61'}\n",
      "Mek1 {'concentration': 0.004983579999998639, 'compartment': 'uVol', 'particle_numbers': '3.00118253818e+12'}\n",
      "Mek1-P {'concentration': 4.670090000006459e-06, 'compartment': 'uVol', 'particle_numbers': '2812394415.21'}\n",
      "DEBUG:PyCoTools.pycopi:pycopi:108:copasi file Kholodenko.cps has been parsed into Python\n",
      "DEBUG:PyCoTools.pycopi:pycopi:108:copasi file Kholodenko.cps has been parsed into Python\n",
      "DEBUG:PyCoTools.pycopi:pycopi:4969:Local parameters being inserted into mode: []\n",
      "DEBUG:PyCoTools.pycopi:pycopi:4977:Constructing a dict of reaction:parameter for local parameters: {}\n",
      "DEBUG:PyCoTools.pycopi:pycopi:5001:States:\t ['Model_3', 'Metabolite_7', 'Metabolite_13', 'Metabolite_1', 'Metabolite_5', 'Metabolite_11', 'Metabolite_9', 'Metabolite_3', 'Metabolite_15', 'Compartment_1']\n",
      "DEBUG:PyCoTools.pycopi:pycopi:5005:assembling parameter 0 out of 10\n",
      "DEBUG:PyCoTools.pycopi:pycopi:5012:State Model_3 is model\n",
      "DEBUG:PyCoTools.pycopi:pycopi:5017:Added 0 for first parameter in sequence\n",
      "DEBUG:PyCoTools.pycopi:pycopi:5005:assembling parameter 1 out of 10\n",
      "DEBUG:PyCoTools.pycopi:pycopi:5019:State Metabolite_7 is metab\n",
      "DEBUG:PyCoTools.pycopi:pycopi:5029:Metab dict for Metabolite_7, \n",
      "\n",
      "{'cn': 'CN=Root,Model=Kholodenko2000 - Ultrasensitivity and negative feedback bring oscillations in MAPK cascade,Vector=Compartments[uVol],Vector=Metabolites[Mek1-P]', 'value': '2812394415.21', 'compartment_volume': '1.0', 'simulationType': 'reactions', 'concentration': '4.67009000001e-06', 'compartment': 'uVol', 'type': 'Species'}\n",
      "DEBUG:PyCoTools.pycopi:pycopi:5005:assembling parameter 2 out of 10\n",
      "DEBUG:PyCoTools.pycopi:pycopi:5019:State Metabolite_13 is metab\n",
      "DEBUG:PyCoTools.pycopi:pycopi:5029:Metab dict for Metabolite_13, \n",
      "\n",
      "{'cn': 'CN=Root,Model=Kholodenko2000 - Ultrasensitivity and negative feedback bring oscillations in MAPK cascade,Vector=Compartments[uVol],Vector=Metabolites[Erk2-P]', 'value': '7.9078550487e+15', 'compartment_volume': '1.0', 'simulationType': 'reactions', 'concentration': '13.1313', 'compartment': 'uVol', 'type': 'Species'}\n",
      "DEBUG:PyCoTools.pycopi:pycopi:5005:assembling parameter 3 out of 10\n",
      "DEBUG:PyCoTools.pycopi:pycopi:5019:State Metabolite_1 is metab\n",
      "DEBUG:PyCoTools.pycopi:pycopi:5029:Metab dict for Metabolite_1, \n",
      "\n",
      "{'cn': 'CN=Root,Model=Kholodenko2000 - Ultrasensitivity and negative feedback bring oscillations in MAPK cascade,Vector=Compartments[uVol],Vector=Metabolites[Mos]', 'value': '83649356105.6', 'compartment_volume': '1.0', 'simulationType': 'reactions', 'concentration': '0.000138903', 'compartment': 'uVol', 'type': 'Species'}\n",
      "DEBUG:PyCoTools.pycopi:pycopi:5005:assembling parameter 4 out of 10\n",
      "DEBUG:PyCoTools.pycopi:pycopi:5019:State Metabolite_5 is metab\n",
      "DEBUG:PyCoTools.pycopi:pycopi:5029:Metab dict for Metabolite_5, \n",
      "\n",
      "{'cn': 'CN=Root,Model=Kholodenko2000 - Ultrasensitivity and negative feedback bring oscillations in MAPK cascade,Vector=Compartments[uVol],Vector=Metabolites[Mek1]', 'value': '3.00118253818e+12', 'compartment_volume': '1.0', 'simulationType': 'reactions', 'concentration': '0.00498358', 'compartment': 'uVol', 'type': 'Species'}\n",
      "DEBUG:PyCoTools.pycopi:pycopi:5005:assembling parameter 5 out of 10\n",
      "DEBUG:PyCoTools.pycopi:pycopi:5019:State Metabolite_11 is metab\n",
      "DEBUG:PyCoTools.pycopi:pycopi:5029:Metab dict for Metabolite_11, \n",
      "\n",
      "{'cn': 'CN=Root,Model=Kholodenko2000 - Ultrasensitivity and negative feedback bring oscillations in MAPK cascade,Vector=Compartments[uVol],Vector=Metabolites[Erk2]', 'value': '4.79694306497e+11', 'compartment_volume': '1.0', 'simulationType': 'reactions', 'concentration': '0.000796551000001', 'compartment': 'uVol', 'type': 'Species'}\n",
      "DEBUG:PyCoTools.pycopi:pycopi:5005:assembling parameter 6 out of 10\n",
      "DEBUG:PyCoTools.pycopi:pycopi:5019:State Metabolite_9 is metab\n",
      "DEBUG:PyCoTools.pycopi:pycopi:5029:Metab dict for Metabolite_9, \n",
      "\n",
      "{'cn': 'CN=Root,Model=Kholodenko2000 - Ultrasensitivity and negative feedback bring oscillations in MAPK cascade,Vector=Compartments[uVol],Vector=Metabolites[Mek1-PP]', 'value': '1.52987694462e+11', 'compartment_volume': '1.0', 'simulationType': 'reactions', 'concentration': '0.000254042000001', 'compartment': 'uVol', 'type': 'Species'}\n",
      "DEBUG:PyCoTools.pycopi:pycopi:5005:assembling parameter 7 out of 10\n",
      "DEBUG:PyCoTools.pycopi:pycopi:5019:State Metabolite_3 is metab\n",
      "DEBUG:PyCoTools.pycopi:pycopi:5029:Metab dict for Metabolite_3, \n",
      "\n",
      "{'cn': 'CN=Root,Model=Kholodenko2000 - Ultrasensitivity and negative feedback bring oscillations in MAPK cascade,Vector=Compartments[uVol],Vector=Metabolites[Mos-P]', 'value': '6031596552.61', 'compartment_volume': '1.0', 'simulationType': 'reactions', 'concentration': '1.00157e-05', 'compartment': 'uVol', 'type': 'Species'}\n",
      "DEBUG:PyCoTools.pycopi:pycopi:5005:assembling parameter 8 out of 10\n",
      "DEBUG:PyCoTools.pycopi:pycopi:5019:State Metabolite_15 is metab\n",
      "DEBUG:PyCoTools.pycopi:pycopi:5029:Metab dict for Metabolite_15, \n",
      "\n",
      "{'cn': 'CN=Root,Model=Kholodenko2000 - Ultrasensitivity and negative feedback bring oscillations in MAPK cascade,Vector=Compartments[uVol],Vector=Metabolites[Erk2-PP]', 'value': '9.14263500132e+11', 'compartment_volume': '1.0', 'simulationType': 'reactions', 'concentration': '0.00151817', 'compartment': 'uVol', 'type': 'Species'}\n",
      "DEBUG:PyCoTools.pycopi:pycopi:5005:assembling parameter 9 out of 10\n",
      "DEBUG:PyCoTools.pycopi:pycopi:120:Model written to /home/b3053674/Documents/PyCoTools/PyCoTools/PyCoToolsTutorial/Kholodenko.cps\n",
      "\n",
      "\n",
      "\n",
      "\n",
      "DEBUG:PyCoTools.pycopi:pycopi:108:copasi file Kholodenko.cps has been parsed into Python\n",
      "Mek1-PP {'concentration': 0.00025404200000080036, 'compartment': 'uVol', 'particle_numbers': '1.52987694462e+11'}\n"
     ]
    }
   ],
   "source": [
    "import PyCoTools,os\n",
    "GMQ_before=PyCoTools.pycopi.GetModelQuantities(kholodenko_model)\n",
    "for key,val in  GMQ_before.get_metabolites().items():\n",
    "    print key,val\n",
    "\n",
    "    \n",
    "metab_dct={'Mek1-PP':1000}\n",
    "PyCoTools.pycopi.InsertParameters(kholodenko_model,parameter_dict=metab_dct)\n",
    "print '\\n\\n\\n'\n",
    "GMQ_after=PyCoTools.pycopi.GetModelQuantities(kholodenko_model)\n",
    "for key,val in  GMQ_after.get_metabolites().items():\n",
    "    if key == metab_dct.keys()[0]:\n",
    "        print key,val\n",
    "        \n",
    "CHECK_MODEL=False\n",
    "if CHECK_MODEL:\n",
    "    os.system('CopasiUI {}'.format(kholodenko_model))\n"
   ]
  },
  {
   "cell_type": "markdown",
   "metadata": {
    "deletable": true,
    "editable": true
   },
   "source": [
    "## From Pandas\n",
    "A `pandas.DataFrame` is a very useful python structure. Parameters are be imported directly from a DataFrame. "
   ]
  },
  {
   "cell_type": "code",
   "execution_count": null,
   "metadata": {
    "collapsed": false,
    "deletable": true,
    "editable": true
   },
   "outputs": [],
   "source": [
    "import PyCoTools,os\n",
    "import pandas\n",
    "GMQ_before=PyCoTools.pycopi.GetModelQuantities(kholodenko_model)\n",
    "for key,val in  GMQ_before.get_all_model_variables().items():\n",
    "    print key,val['value']\n",
    "\n",
    "print '\\n\\n'\n",
    "param_dct={'Mek1-P':1000,\n",
    "           'Mek1-PP':0.001,\n",
    "           '(phosphorylation of MAPKK).KK3':97}\n",
    "df=pandas.DataFrame(param_dct,index=[0])\n",
    "print df\n",
    "PyCoTools.pycopi.InsertParameters(kholodenko_model,df=df)\n",
    "print '\\n\\n\\n'\n",
    "GMQ_after=PyCoTools.pycopi.GetModelQuantities(kholodenko_model)\n",
    "for key,val in  GMQ_before.get_all_model_variables().items():\n",
    "    print key,val['value']\n",
    "\n",
    "        \n",
    "CHECK_MODEL=False\n",
    "if CHECK_MODEL:\n",
    "    os.system('CopasiUI {}'.format(kholodenko_model))\n"
   ]
  },
  {
   "cell_type": "markdown",
   "metadata": {
    "deletable": true,
    "editable": true
   },
   "source": [
    "# From File\n",
    "To demonstrate InsertParameters from file, lets do a parameter estimation to some synthetic data and insert those parameters directly from file. "
   ]
  },
  {
   "cell_type": "code",
   "execution_count": null,
   "metadata": {
    "collapsed": false,
    "deletable": true,
    "editable": true,
    "scrolled": true
   },
<<<<<<< HEAD
   "outputs": [],
=======
   "outputs": [
    {
     "name": "stdout",
     "output_type": "stream",
     "text": [
      "INFO:root:__init__:18:Initializing PyCoTools\n",
      "INFO:root:__init__:19:Initializing log10ging System\n",
      "INFO:root:__init__:20:logging config file at: /home/b3053674/anaconda2/lib/python2.7/site-packages/PyCoTools/logging_config.conf\n",
      "(phosphorylation of MAPK-P).k8 111567.0\n",
      "(dephosphorylation of MAPK-PP).KK9 0.271666\n",
      "(dephosphorylation of MAPKK-P).KK6 0.00300255\n",
      "(phosphorylation of MAPKK).KK3 93469.1\n",
      "(MAPKKK activation).K1 1.17974e-05\n",
      "Erk2-P 1.61940210447e+15\n",
      "(dephosphorylation of MAPK-PP).V9 1.32781e-06\n",
      "(MAPKKK inactivation).KK2 0.0012414\n",
      "(MAPKKK activation).V1 27598.7\n",
      "(phosphorylation of MAPK).k7 0.00150075\n",
      "Mos 1442333069.41\n",
      "(phosphorylation of MAPK).KK7 1.47402\n",
      "(dephosphorylation of MAPK-P).KK10 19.5641\n",
      "(phosphorylation of MAPK-P).KK8 0.00024886\n",
      "Erk2-PP 5.42690727333e+15\n",
      "(dephosphorylation of MAPKK-PP).V5 1.08283e-06\n",
      "(MAPKKK inactivation).V2 55.0312\n",
      "Mos-P 602214179.0\n",
      "(dephosphorylation of MAPK-P).V10 1.04624e-06\n",
      "(MAPKKK activation).Ki 33.4784\n",
      "Mek1 2.81988595959e+12\n",
      "Mek1-PP 90819920335.0\n",
      "(phosphorylation of MAPKK-P).KK4 1.2655\n",
      "(phosphorylation of MAPKK).k3 1.13833e-06\n",
      "Erk2 6064838775.29\n",
      "(phosphorylation of MAPKK-P).k4 0.000458359\n",
      "(dephosphorylation of MAPKK-PP).KK5 69378.3\n",
      "Mek1-P 611897782.998\n",
      "(dephosphorylation of MAPKK-P).V6 0.0508572\n",
      "(MAPKKK activation).n 0.888386\n"
     ]
    },
    {
     "data": {
      "text/plain": [
       "<PyCoTools.pycopi.run instance at 0x7f103d965ea8>"
      ]
     },
     "execution_count": 2,
     "metadata": {},
     "output_type": "execute_result"
    }
   ],
>>>>>>> b5251ac39e0e966dfceb851ff97bd2f79e887bd0
   "source": [
    "import pandas,os,PyCoTools\n",
    "\n",
    "GMQ_before=PyCoTools.pycopi.GetModelQuantities(kholodenko_model)\n",
    "for key,val in  GMQ_before.get_all_model_variables().items():\n",
    "    print key,val['value']\n",
    "\n",
    "\n",
    "data_report='InsertParametersEstimationData.txt'\n",
    "##Simulate some synthetic data\n",
    "TC=PyCoTools.pycopi.TimeCourse(kholodenko_model,End=1000,StepSize=1,\n",
    "                               Intervals=1000,\n",
    "                               report_name=data_report)\n",
    "\n",
    "# setup parameter estimation with all default parameters\n",
    "estimation_results='InsertParametersEstimationResults.txt'\n",
    "PE=PyCoTools.pycopi.ParameterEstimation(kholodenko_model,data_report,\n",
    "                                       report_name = estimation_results)\n",
    "PE.write_item_template()\n",
    "PE.set_up()\n",
    "## run\n",
    "PE.run() \n",
    "\n"
   ]
  },
  {
   "cell_type": "markdown",
   "metadata": {
    "deletable": true,
    "editable": true
   },
   "source": [
    "Now lets check that its worked: "
   ]
  },
  {
   "cell_type": "code",
   "execution_count": null,
   "metadata": {
    "collapsed": false,
    "deletable": true,
    "editable": true
   },
   "outputs": [],
   "source": [
    "import PyCoTools\n",
    "import pandas\n",
    "## recall that best parameters are at the bottom of the copasi generated results file\n",
    "print pandas.DataFrame.from_csv(estimation_results,sep='\\t').tail() #so use tail to get end\n",
    "I=PyCoTools.pycopi.InsertParameters(kholodenko_model,parameter_path=estimation_results)\n"
   ]
  },
  {
   "cell_type": "code",
   "execution_count": null,
   "metadata": {
    "collapsed": false,
    "deletable": true,
    "editable": true
   },
   "outputs": [],
   "source": [
    "import pandas,os,PyCoTools\n",
    "\n",
    "GMQ_before=PyCoTools.pycopi.GetModelQuantities(kholodenko_model)\n",
    "for key,val in  GMQ_before.get_all_model_variables().items():\n",
    "    print key,val['value']\n",
    "\n",
    "\n",
    "data_report='InsertParametersEstimationData.txt'\n",
    "##Simulate some synthetic data\n",
    "TC=PyCoTools.pycopi.TimeCourse(kholodenko_model,End=1000,StepSize=1,\n",
    "                               Intervals=1000,\n",
    "                               report_name=data_report)\n",
    "\n",
    "# setup parameter estimation with all default parameters\n",
    "estimation_results='InsertParametersEstimationResults.txt'\n",
    "PE=PyCoTools.pycopi.ParameterEstimation(kholodenko_model,data_report,\n",
    "                                       report_name = estimation_results)\n",
    "PE.write_item_template()\n",
    "PE.set_up()\n",
    "PE.run()\n",
    "\n",
    "    \n"
   ]
  },
  {
   "cell_type": "markdown",
   "metadata": {
    "collapsed": true,
    "deletable": true,
    "editable": true
   },
   "source": [
    "Now lets check:"
   ]
  },
  {
   "cell_type": "code",
   "execution_count": null,
   "metadata": {
    "collapsed": false,
    "deletable": true,
    "editable": true,
    "scrolled": true
   },
   "outputs": [],
   "source": [
    "import PyCoTools,pandas,os\n",
    "\n",
    "\n",
    "print pandas.DataFrame.from_csv(estimation_results,sep='\\t').iloc[-1]\n",
    "\n",
    "\n",
    "## by default parameter sets are sorted by objective function value (lowest first) and index is set to 0\n",
    "I=PyCoTools.pycopi.InsertParameters(kholodenko_model,parameter_path=estimation_results,index = 0)\n",
    "\n",
    "GMQ_after = PyCoTools.pycopi.GetModelQuantities(kholodenko_model)\n",
    "\n",
    "## Easiest way to check the parameters have been inserted is to look at the model in the GUI\n",
    "os.system('CopasiUI {}'.format(kholodenko_model)) ##remember to close the GUI"
   ]
  },
  {
   "cell_type": "markdown",
   "metadata": {
    "deletable": true,
    "editable": true
   },
   "source": [
    "# From Folder of Parameter Estimation Files\n",
    "First lets create some parameter estimation data to work with using the `runMultiplePEs`\n",
    "class"
   ]
  },
  {
   "cell_type": "code",
   "execution_count": null,
   "metadata": {
    "collapsed": false,
    "deletable": true,
    "editable": true
   },
<<<<<<< HEAD
   "outputs": [],
=======
   "outputs": [
    {
     "name": "stdout",
     "output_type": "stream",
     "text": [
      "INFO:PyCoTools.pycopi:pycopi:4455:creating a directory for analysis in : \n",
      "\n",
      "/home/b3053674/Documents/PyCoTools/PyCoTools/PyCoToolsTutorial/MultiplePEs\n",
      "INFO:PyCoTools.pycopi:pycopi:4314:writing PE config template for model: /home/b3053674/Documents/PyCoTools/PyCoTools/PyCoToolsTutorial/Kholodenko.cps\n",
      "INFO:PyCoTools.pycopi:pycopi:4435:Copying copasi file 2 times\n",
      "INFO:PyCoTools.pycopi:pycopi:4354:setting up scan for model : /home/b3053674/Documents/PyCoTools/PyCoTools/PyCoToolsTutorial/Kholodenko_0.cps\n",
      "INFO:root:pycopi:3466:defining report\n",
      "INFO:PyCoTools.pycopi:pycopi:4354:setting up scan for model : /home/b3053674/Documents/PyCoTools/PyCoTools/PyCoToolsTutorial/Kholodenko_1.cps\n",
      "INFO:root:pycopi:3466:defining report\n",
      "INFO:PyCoTools.pycopi:pycopi:4379:Setup Took 0.35977602005 seconds\n",
      "INFO:PyCoTools.pycopi:pycopi:4362:<PyCoTools.pycopi.Scan instance at 0x7f103d9526c8>\n",
      "INFO:PyCoTools.pycopi:pycopi:4302:running model: 0\n",
      "INFO:PyCoTools.pycopi:pycopi:4302:running model: 1\n",
      "INFO:PyCoTools.pycopi:pycopi:4379:Setup Took 0.402697086334 seconds\n"
     ]
    }
   ],
>>>>>>> b5251ac39e0e966dfceb851ff97bd2f79e887bd0
   "source": [
    "import PyCoTools,os,pandas\n",
    "output_directory = 'MultiplePEs'\n",
    "RMPE=PyCoTools.pycopi.runMultiplePEs(kholodenko_model,data_report,\n",
    "                               copy_number=2,pe_number=3, #6 total\n",
    "                               output_dir = output_directory)\n",
    "RMPE.write_config_template()\n",
    "RMPE.set_up()\n",
    "RMPE.run()"
   ]
  },
  {
   "cell_type": "markdown",
   "metadata": {
    "deletable": true,
    "editable": true
   },
   "source": [
    "The `runMultiplePEs` class outputs parameter estimation data to a folder - one file per `copy_number`. We can insert parameters into a copasi model directly from the folder of estimation results. "
   ]
  },
  {
   "cell_type": "code",
   "execution_count": null,
   "metadata": {
    "collapsed": false,
    "deletable": true,
    "editable": true
   },
   "outputs": [],
   "source": [
    "import PyCoTools,os,pandas\n",
    "\n",
    "## Insert best parameter set (index 0)\n",
    "I=PyCoTools.pycopi.InsertParameters(kholodenko_model,parameter_path=output_directory,index=0)\n",
    "\n",
    "##Insert second best parameter set\n",
    "I=PyCoTools.pycopi.InsertParameters(kholodenko_model,parameter_path=output_directory,index=1)\n",
    "\n",
    "## ... and so on. "
   ]
  }
 ],
 "metadata": {
  "kernelspec": {
   "display_name": "Python 2",
   "language": "python",
   "name": "python2"
  },
  "language_info": {
   "codemirror_mode": {
    "name": "ipython",
    "version": 2
   },
   "file_extension": ".py",
   "mimetype": "text/x-python",
   "name": "python",
   "nbconvert_exporter": "python",
   "pygments_lexer": "ipython2",
   "version": "2.7.13"
  }
 },
 "nbformat": 4,
 "nbformat_minor": 2
}
