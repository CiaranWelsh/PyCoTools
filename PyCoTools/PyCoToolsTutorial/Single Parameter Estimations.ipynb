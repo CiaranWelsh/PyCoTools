{
 "cells": [
  {
   "cell_type": "markdown",
   "metadata": {},
   "source": [
    "# Parameter Estimation\n",
    "First get handle to example model file:"
   ]
  },
  {
   "cell_type": "code",
   "execution_count": 1,
   "metadata": {
    "collapsed": false
   },
   "outputs": [
    {
     "name": "stdout",
     "output_type": "stream",
     "text": [
      "/home/b3053674/Documents/PyCoTools/PyCoTools/PyCoToolsTutorial/Kholodenko_1.cps\n",
      "True\n"
     ]
    }
   ],
   "source": [
    "%matplotlib inline\n",
    "import os,glob\n",
    "\n",
    "for i in glob.glob('*.cps'):\n",
    "    kholodenko_model= os.path.abspath(i)\n",
    "    \n",
    "print kholodenko_model\n",
    "print os.path.isfile(kholodenko_model)"
   ]
  },
  {
   "cell_type": "markdown",
   "metadata": {},
   "source": [
    "Now simulate some synthetic data for sake of running an example:"
   ]
  },
  {
   "cell_type": "code",
   "execution_count": 2,
   "metadata": {
    "collapsed": false
   },
   "outputs": [
    {
     "name": "stdout",
     "output_type": "stream",
     "text": [
      "INFO:root:__init__:18:Initializing PyCoTools\n",
      "INFO:root:__init__:19:Initializing Logging System\n",
      "INFO:root:__init__:20:logging config file at: /home/b3053674/anaconda2/lib/python2.7/site-packages/PyCoTools/logging_config.conf\n",
      "   Time   Mek1-PP     Erk2      Mos   Erk2-P  Erk2-PP    Mos-P     Mek1  \\\n",
      "0     0  10.00000  280.000  90.0000  10.0000  10.0000  10.0000  280.000   \n",
      "1     1   9.32463  279.821  88.8817  10.1531  10.0262  11.1183  279.883   \n",
      "2     2   8.66197  279.654  87.7713  10.2949  10.0509  12.2287  279.750   \n",
      "3     3   8.01289  279.500  86.6685  10.4257  10.0742  13.3315  279.601   \n",
      "4     4   7.37822  279.358  85.5731  10.5457  10.0959  14.4269  279.437   \n",
      "\n",
      "    Mek1-P  \n",
      "0  10.0000  \n",
      "1  10.7925  \n",
      "2  11.5882  \n",
      "3  12.3862  \n",
      "4  13.1853  \n"
     ]
    }
   ],
   "source": [
    "import PyCoTools,pandas\n",
    "report= 'parameter_estimation_synthetic_data.txt'\n",
    "TC=PyCoTools.pycopi.TimeCourse(kholodenko_model,Start=0,End=1000,Intervals=1000,StepSize=1,\n",
    "                            ReportName = report)\n",
    "\n",
    "## validate that its worked\n",
    "print pandas.read_csv(TC.kwargs['ReportName'],sep='\\t').head()\n",
    "\n",
    "## Give fake data a meaningful name\n",
    "data1 = TC.kwargs['ReportName']"
   ]
  },
  {
   "cell_type": "markdown",
   "metadata": {},
   "source": [
    "Note that it is completely necessary to have column headings in a data file that exactly match a model variable. Independant variables can be mapped easily by appending the suffic `'_indep'` to the variable. If you had two data sets that stimulated cell cultures at different concentrations for example, you could have `stimulation_indep` as a column heading in both with each containing the amount of stimulant that was used in the experiment. "
   ]
  },
  {
   "cell_type": "markdown",
   "metadata": {},
   "source": [
    "# Setup and run single parameter estimation \n",
    "Now we're ready to setup and run a parameter estimation"
   ]
  },
  {
   "cell_type": "code",
   "execution_count": 3,
   "metadata": {
    "collapsed": false
   },
   "outputs": [
    {
     "name": "stdout",
     "output_type": "stream",
     "text": [
      "geneticalgorithm\n"
     ]
    }
   ],
   "source": [
    "import PyCoTools, os\n",
    "PE=PyCoTools.pycopi.ParameterEstimation(kholodenko_model,data1)\n",
    "\n",
    "## default method is GeneticAlgorithm\n",
    "print PE.kwargs['Method']"
   ]
  },
  {
   "cell_type": "markdown",
   "metadata": {},
   "source": [
    "To change the optimization algorithm use the Method kwarg\n"
   ]
  },
  {
   "cell_type": "code",
   "execution_count": 4,
   "metadata": {
    "collapsed": false
   },
   "outputs": [
    {
     "ename": "AssertionError",
     "evalue": "HookJeeves is not a copasi PE Method. Choose one of: ['CurrentSolutionStatistics', 'DifferentialEvolution', 'EvolutionaryStrategySR', 'EvolutionaryProgram', 'HookeJeeves', 'LevenbergMarquardt', 'NelderMead', 'ParticleSwarm', 'Praxis', 'RandomSearch', 'ScatterSearch', 'SimulatedAnnealing', 'SteepestDescent', 'TruncatedNewton', 'GeneticAlgorithm', 'GeneticAlgorithmSR']",
     "output_type": "error",
     "traceback": [
      "\u001b[0;31m---------------------------------------------------------------------------\u001b[0m",
      "\u001b[0;31mAssertionError\u001b[0m                            Traceback (most recent call last)",
      "\u001b[0;32m<ipython-input-4-816be5c78b8a>\u001b[0m in \u001b[0;36m<module>\u001b[0;34m()\u001b[0m\n\u001b[1;32m      1\u001b[0m PE=PyCoTools.pycopi.ParameterEstimation(kholodenko_model,data1,\n\u001b[0;32m----> 2\u001b[0;31m                                         Method='HookJeeves')\n\u001b[0m",
      "\u001b[0;32m/home/b3053674/anaconda2/lib/python2.7/site-packages/PyCoTools/pycopi.pyc\u001b[0m in \u001b[0;36m__init__\u001b[0;34m(self, copasi_file, experiment_files, **kwargs)\u001b[0m\n\u001b[1;32m   2568\u001b[0m                      \u001b[0;34m'SteepestDescent'\u001b[0m\u001b[0;34m,\u001b[0m\u001b[0;34m'TruncatedNewton'\u001b[0m\u001b[0;34m,\u001b[0m\u001b[0;34m'GeneticAlgorithm'\u001b[0m\u001b[0;34m,\u001b[0m\u001b[0;34m\u001b[0m\u001b[0m\n\u001b[1;32m   2569\u001b[0m                      'GeneticAlgorithmSR']\n\u001b[0;32m-> 2570\u001b[0;31m         \u001b[0;32massert\u001b[0m \u001b[0mself\u001b[0m\u001b[0;34m.\u001b[0m\u001b[0mkwargs\u001b[0m\u001b[0;34m.\u001b[0m\u001b[0mget\u001b[0m\u001b[0;34m(\u001b[0m\u001b[0;34m'Method'\u001b[0m\u001b[0;34m)\u001b[0m\u001b[0;34m.\u001b[0m\u001b[0mlower\u001b[0m\u001b[0;34m(\u001b[0m\u001b[0;34m)\u001b[0m \u001b[0;32min\u001b[0m \u001b[0;34m[\u001b[0m\u001b[0mi\u001b[0m\u001b[0;34m.\u001b[0m\u001b[0mlower\u001b[0m\u001b[0;34m(\u001b[0m\u001b[0;34m)\u001b[0m \u001b[0;32mfor\u001b[0m \u001b[0mi\u001b[0m \u001b[0;32min\u001b[0m \u001b[0mself\u001b[0m\u001b[0;34m.\u001b[0m\u001b[0mmethod_list\u001b[0m\u001b[0;34m]\u001b[0m\u001b[0;34m,\u001b[0m\u001b[0;34m'{} is not a copasi PE Method. Choose one of: {}'\u001b[0m\u001b[0;34m.\u001b[0m\u001b[0mformat\u001b[0m\u001b[0;34m(\u001b[0m\u001b[0mself\u001b[0m\u001b[0;34m.\u001b[0m\u001b[0mkwargs\u001b[0m\u001b[0;34m.\u001b[0m\u001b[0mget\u001b[0m\u001b[0;34m(\u001b[0m\u001b[0;34m'Method'\u001b[0m\u001b[0;34m)\u001b[0m\u001b[0;34m,\u001b[0m\u001b[0mself\u001b[0m\u001b[0;34m.\u001b[0m\u001b[0mmethod_list\u001b[0m\u001b[0;34m)\u001b[0m\u001b[0;34m\u001b[0m\u001b[0m\n\u001b[0m\u001b[1;32m   2571\u001b[0m         \u001b[0;32massert\u001b[0m \u001b[0mself\u001b[0m\u001b[0;34m.\u001b[0m\u001b[0mkwargs\u001b[0m\u001b[0;34m.\u001b[0m\u001b[0mget\u001b[0m\u001b[0;34m(\u001b[0m\u001b[0;34m'Verbose'\u001b[0m\u001b[0;34m)\u001b[0m \u001b[0;32min\u001b[0m \u001b[0;34m[\u001b[0m\u001b[0;34m'true'\u001b[0m\u001b[0;34m,\u001b[0m\u001b[0;34m'false'\u001b[0m\u001b[0;34m]\u001b[0m\u001b[0;34m\u001b[0m\u001b[0m\n\u001b[1;32m   2572\u001b[0m         \u001b[0;32massert\u001b[0m \u001b[0mself\u001b[0m\u001b[0;34m.\u001b[0m\u001b[0mkwargs\u001b[0m\u001b[0;34m.\u001b[0m\u001b[0mget\u001b[0m\u001b[0;34m(\u001b[0m\u001b[0;34m'Append'\u001b[0m\u001b[0;34m)\u001b[0m \u001b[0;32min\u001b[0m \u001b[0;34m[\u001b[0m\u001b[0;34m'true'\u001b[0m\u001b[0;34m,\u001b[0m\u001b[0;34m'false'\u001b[0m\u001b[0;34m]\u001b[0m\u001b[0;34m\u001b[0m\u001b[0m\n",
      "\u001b[0;31mAssertionError\u001b[0m: HookJeeves is not a copasi PE Method. Choose one of: ['CurrentSolutionStatistics', 'DifferentialEvolution', 'EvolutionaryStrategySR', 'EvolutionaryProgram', 'HookeJeeves', 'LevenbergMarquardt', 'NelderMead', 'ParticleSwarm', 'Praxis', 'RandomSearch', 'ScatterSearch', 'SimulatedAnnealing', 'SteepestDescent', 'TruncatedNewton', 'GeneticAlgorithm', 'GeneticAlgorithmSR']"
     ]
    }
   ],
   "source": [
    "PE=PyCoTools.pycopi.ParameterEstimation(kholodenko_model,data1,\n",
    "                                        Method='HookJeeves')"
   ]
  },
  {
   "cell_type": "markdown",
   "metadata": {},
   "source": [
    "If you spell an algorithm wrong you'll be presented with a list of valid stings for the Method parameter. Lets try again"
   ]
  },
  {
   "cell_type": "code",
   "execution_count": 5,
   "metadata": {
    "collapsed": false
   },
   "outputs": [
    {
     "data": {
      "text/plain": [
       "'hookejeeves'"
      ]
     },
     "execution_count": 5,
     "metadata": {},
     "output_type": "execute_result"
    }
   ],
   "source": [
    "PE=PyCoTools.pycopi.ParameterEstimation(kholodenko_model,data1,\n",
    "                                        Method='HookeJeeves')\n",
    "\n",
    "## validate (methods are converted into lowercase strings)\n",
    "PE.kwargs['Method']"
   ]
  },
  {
   "cell_type": "markdown",
   "metadata": {},
   "source": [
    "All algorithm specific parameters should be defined here, along with the instantiation of the ParameterEstimation class"
   ]
  },
  {
   "cell_type": "code",
   "execution_count": 6,
   "metadata": {
    "collapsed": false
   },
   "outputs": [
    {
     "name": "stdout",
     "output_type": "stream",
     "text": [
      "Tolerance =  1e-10\n",
      "IterationLimit = 100\n"
     ]
    }
   ],
   "source": [
    "PE=PyCoTools.pycopi.ParameterEstimation(kholodenko_model,data1,\n",
    "                                        Method='HookeJeeves',\n",
    "                                        IterationLimit = 100,\n",
    "                                        Tolerance = 1e-10)\n",
    "\n",
    "## check\n",
    "print 'Tolerance = ',PE.kwargs['Tolerance']\n",
    "print 'IterationLimit =', PE.kwargs['IterationLimit']"
   ]
  },
  {
   "cell_type": "markdown",
   "metadata": {},
   "source": [
    "Now use the `write_item_template` method to create a parameter estimation configuration file:"
   ]
  },
  {
   "cell_type": "code",
   "execution_count": 7,
   "metadata": {
    "collapsed": false
   },
   "outputs": [
    {
     "data": {
      "text/plain": [
       "'writing template. OverwriteConfigFile set to false and ConfigFilename is /home/b3053674/Documents/PyCoTools/PyCoTools/PyCoToolsTutorial/PEConfigFile.xlsx'"
      ]
     },
     "execution_count": 7,
     "metadata": {},
     "output_type": "execute_result"
    }
   ],
   "source": [
    "PE.write_item_template()"
   ]
  },
  {
   "cell_type": "markdown",
   "metadata": {},
   "source": [
    "The path to the config file is stored in the `ConfigFilename` kwarg and can be provided on instantiation if desired. Here we use the default:"
   ]
  },
  {
   "cell_type": "code",
   "execution_count": 8,
   "metadata": {
    "collapsed": false
   },
   "outputs": [
    {
     "name": "stdout",
     "output_type": "stream",
     "text": [
      "/home/b3053674/Documents/PyCoTools/PyCoTools/PyCoToolsTutorial/PEConfigFile.xlsx\n",
      "True\n"
     ]
    }
   ],
   "source": [
    "print PE.kwargs['ConfigFilename']\n",
    "\n",
    "## check that the config filename exists\n",
    "print os.path.isfile(PE.kwargs['ConfigFilename'])"
   ]
  },
  {
   "cell_type": "markdown",
   "metadata": {},
   "source": [
    "A parameter estimation configuration file has 7 columns but the last three are not meant to be modified in any way. Each row corresponds to a parameter in your model and by default all kinetic parameters (local and global) and initial concentration parameters are included in the configuration. To exclude a parameter from the estimation simply delete the row corresponding to the parameter you wish to remove. Also, specify the estimation boundaries for each parameter and optionally the starting value. It is common to randomize the start values however and so the start values column is rarely used. If you would like to use the configuration file as to specify start values then you must set the `UseTemplateStartValues` option to `'true'`. \n",
    "\n",
    "After modification, save and close the file. In the example, no modifications we're made and so all kinetic and initial concentration parameters are estimated. \n",
    "\n",
    "Now use the `set_up()` and `run()` methods. "
   ]
  },
  {
   "cell_type": "code",
   "execution_count": 9,
   "metadata": {
    "collapsed": true
   },
   "outputs": [],
   "source": [
    "PE.set_up()"
   ]
  },
  {
   "cell_type": "markdown",
   "metadata": {},
   "source": [
    "Open the model and check the parameter estimation task (optionally run the next cell). The ParameterEstimation class has performed the configuration that used to have to do manually. "
   ]
  },
  {
   "cell_type": "code",
   "execution_count": 10,
   "metadata": {
    "collapsed": false
   },
   "outputs": [
    {
     "data": {
      "text/plain": [
       "0"
      ]
     },
     "execution_count": 10,
     "metadata": {},
     "output_type": "execute_result"
    }
   ],
   "source": [
    "import os\n",
    "os.system('CopasiUI {}'.format(kholodenko_model))\n",
    "##  remember to close the model before continuing"
   ]
  },
  {
   "cell_type": "markdown",
   "metadata": {},
   "source": [
    "The `Run()` method will run the copasi file using `CopasiSE` behind the scenes (provided that an environment variable called `CopasiSE` is set up and pointing to the location of `CopasiSE` on disk. "
   ]
  },
  {
   "cell_type": "code",
   "execution_count": 11,
   "metadata": {
    "collapsed": false
   },
   "outputs": [
    {
     "data": {
      "text/plain": [
       "<PyCoTools.pycopi.Run instance at 0x7fcc7e1e5f80>"
      ]
     },
     "execution_count": 11,
     "metadata": {},
     "output_type": "execute_result"
    }
   ],
   "source": [
    "PE.run() # will take some time"
   ]
  },
  {
   "cell_type": "markdown",
   "metadata": {},
   "source": [
    "The `run()` method should take a bit of time and the output will be the parameter estimation data as the algorithm progresses from first to last function evaluation. This means that the best parameters are at the end. Lets take a look"
   ]
  },
  {
   "cell_type": "code",
   "execution_count": 12,
   "metadata": {
    "collapsed": false
   },
   "outputs": [
    {
     "name": "stdout",
     "output_type": "stream",
     "text": [
      "   [Mek1-PP]_0  [Erk2]_0  [Mos]_0  [Erk2-P]_0  [Erk2-PP]_0  [Mos-P]_0  \\\n",
      "0           10       280       90          10           10         10   \n",
      "1           10       280       90          10           10         10   \n",
      "2           10       280       90          10           10         10   \n",
      "3           10       280       90          10           10         10   \n",
      "4           10       280       90          10           10         10   \n",
      "\n",
      "   [Mek1]_0  [Mek1-P]_0  (phosphorylation of MAPKK).KK3  \\\n",
      "0       280          10                         10.9952   \n",
      "1       280          10                         10.9952   \n",
      "2       280          10                         10.9952   \n",
      "3       280          10                         10.9952   \n",
      "4       280          10                         10.9952   \n",
      "\n",
      "   (MAPKKK activation).K1  \\\n",
      "0                0.127421   \n",
      "1                0.127421   \n",
      "2                0.127421   \n",
      "3                0.127421   \n",
      "4                0.127421   \n",
      "\n",
      "                                    ...                                     \\\n",
      "0                                   ...                                      \n",
      "1                                   ...                                      \n",
      "2                                   ...                                      \n",
      "3                                   ...                                      \n",
      "4                                   ...                                      \n",
      "\n",
      "   (MAPKKK activation).V1  (MAPKKK activation).Ki  \\\n",
      "0                 9.37691                 1.42825   \n",
      "1                 9.37691                 1.42825   \n",
      "2                 9.37691                 1.42825   \n",
      "3                 9.37691                 1.42825   \n",
      "4                 9.37691                 1.42825   \n",
      "\n",
      "   (phosphorylation of MAPK).KK7  (dephosphorylation of MAPK-P).KK10  \\\n",
      "0                        0.05787                            0.001774   \n",
      "1                        0.05787                            0.001774   \n",
      "2                        0.05787                            0.001774   \n",
      "3                        0.05787                            0.001774   \n",
      "4                        0.05787                            0.001774   \n",
      "\n",
      "   (phosphorylation of MAPK-P).KK8  (dephosphorylation of MAPKK-PP).V5  \\\n",
      "0                          2156.69                            0.746185   \n",
      "1                          2156.69                            0.746185   \n",
      "2                          2156.69                            0.746185   \n",
      "3                          2156.69                            0.746185   \n",
      "4                          2156.69                            0.746185   \n",
      "\n",
      "   (dephosphorylation of MAPK-P).V10  (dephosphorylation of MAPKK-P).V6  \\\n",
      "0                           0.005451                            617.596   \n",
      "1                           0.005451                            617.596   \n",
      "2                           0.005451                            617.596   \n",
      "3                           0.005451                            617.596   \n",
      "4                           0.005451                            617.596   \n",
      "\n",
      "   (MAPKKK activation).n  \\\n",
      "0                      1   \n",
      "1                      1   \n",
      "2                      1   \n",
      "3                      1   \n",
      "4                      1   \n",
      "\n",
      "   TaskList[Parameter Estimation].(Problem)Parameter Estimation.Best Value  \n",
      "0                                       6.361630e+11                        \n",
      "1                                       4.070120e+11                        \n",
      "2                                       1.015910e+11                        \n",
      "3                                       4.667900e+06                        \n",
      "4                                       4.633930e+06                        \n",
      "\n",
      "[5 rows x 31 columns]\n",
      "      [Mek1-PP]_0  [Erk2]_0  [Mos]_0  [Erk2-P]_0  [Erk2-PP]_0  [Mos-P]_0  \\\n",
      "1024           10       280       90          10           10         10   \n",
      "1025           10       280       90          10           10         10   \n",
      "1026           10       280       90          10           10         10   \n",
      "1027           10       280       90          10           10         10   \n",
      "1028           10       280       90          10           10         10   \n",
      "\n",
      "      [Mek1]_0  [Mek1-P]_0  (phosphorylation of MAPKK).KK3  \\\n",
      "1024       280          10                         10.9952   \n",
      "1025       280          10                         10.9952   \n",
      "1026       280          10                         10.9952   \n",
      "1027       280          10                         10.9952   \n",
      "1028       280          10                         10.9952   \n",
      "\n",
      "      (MAPKKK activation).K1  \\\n",
      "1024                0.127421   \n",
      "1025                0.127421   \n",
      "1026                0.127421   \n",
      "1027                0.127421   \n",
      "1028                0.127421   \n",
      "\n",
      "                                       ...                                     \\\n",
      "1024                                   ...                                      \n",
      "1025                                   ...                                      \n",
      "1026                                   ...                                      \n",
      "1027                                   ...                                      \n",
      "1028                                   ...                                      \n",
      "\n",
      "      (MAPKKK activation).V1  (MAPKKK activation).Ki  \\\n",
      "1024                 9.37691                 1.42825   \n",
      "1025                 9.37691                 1.42825   \n",
      "1026                 9.37691                 1.42825   \n",
      "1027                 9.37691                 1.42825   \n",
      "1028                 9.37691                 1.42825   \n",
      "\n",
      "      (phosphorylation of MAPK).KK7  (dephosphorylation of MAPK-P).KK10  \\\n",
      "1024                        0.05787                            0.001774   \n",
      "1025                        0.05787                            0.001774   \n",
      "1026                        0.05787                            0.001774   \n",
      "1027                        0.05787                            0.001774   \n",
      "1028                        0.05787                            0.001774   \n",
      "\n",
      "      (phosphorylation of MAPK-P).KK8  (dephosphorylation of MAPKK-PP).V5  \\\n",
      "1024                          2156.69                            0.746185   \n",
      "1025                          2156.69                            0.746185   \n",
      "1026                          2156.69                            0.746185   \n",
      "1027                          2156.69                            0.746185   \n",
      "1028                          2156.69                            0.746185   \n",
      "\n",
      "      (dephosphorylation of MAPK-P).V10  (dephosphorylation of MAPKK-P).V6  \\\n",
      "1024                           0.005451                            617.596   \n",
      "1025                           0.005451                            617.596   \n",
      "1026                           0.005451                            617.596   \n",
      "1027                           0.005451                            617.596   \n",
      "1028                           0.005451                            617.596   \n",
      "\n",
      "      (MAPKKK activation).n  \\\n",
      "1024                      1   \n",
      "1025                      1   \n",
      "1026                      1   \n",
      "1027                      1   \n",
      "1028                      1   \n",
      "\n",
      "      TaskList[Parameter Estimation].(Problem)Parameter Estimation.Best Value  \n",
      "1024                                          1435780.0                        \n",
      "1025                                          1435770.0                        \n",
      "1026                                          1435760.0                        \n",
      "1027                                          1435760.0                        \n",
      "1028                                          1435750.0                        \n",
      "\n",
      "[5 rows x 31 columns]\n"
     ]
    },
    {
     "name": "stderr",
     "output_type": "stream",
     "text": [
      "/home/b3053674/anaconda2/lib/python2.7/site-packages/ipykernel/__main__.py:16: RuntimeWarning: divide by zero encountered in log10\n"
     ]
    },
    {
     "data": {
      "text/plain": [
       "<matplotlib.text.Text at 0x7fcc7da2ab10>"
      ]
     },
     "execution_count": 12,
     "metadata": {},
     "output_type": "execute_result"
    },
    {
     "data": {
      "image/png": "[encoded data removed]",
      "text/plain": [
       "<matplotlib.figure.Figure at 0x7fcc7df4cf50>"
      ]
     },
     "metadata": {},
     "output_type": "display_data"
    }
   ],
   "source": [
    "import pandas\n",
    "import matplotlib.pyplot as plt\n",
    "import numpy\n",
    "## lets take a look at the parameter estimation results\n",
    "pe_data= pandas.read_csv(PE.kwargs['ReportName'],sep='\\t') \n",
    "\n",
    "## top 5 function evaluations\n",
    "print pe_data.head()\n",
    "\n",
    "##last 5 function evaluations\n",
    "print pe_data.tail()\n",
    "\n",
    "## visualise the best value over function evaluations\n",
    "rss_string='TaskList[Parameter Estimation].(Problem)Parameter Estimation.Best Value'\n",
    "plt.figure()\n",
    "plt.plot(numpy.log10(pe_data.index),numpy.log10(pe_data[rss_string]))\n",
    "plt.title('RSS versus #FunctionEvaluations')\n",
    "plt.xlabel('FunctionEvaluations\\n(log10)')\n",
    "plt.ylabel('RSS value\\n(log10)')"
   ]
  },
  {
   "cell_type": "markdown",
   "metadata": {},
   "source": [
    "## Multiple Data Files\n",
    "PyCoTools can easily handle multiple data files by giving `ParameterEsimation` a list of data file paths. Lets simulate some more data.\n",
    "\n",
    "First change the value of a parameter so both sets of simulated data are not identical:"
   ]
  },
  {
   "cell_type": "code",
   "execution_count": 13,
   "metadata": {
    "collapsed": false
   },
   "outputs": [
    {
     "name": "stdout",
     "output_type": "stream",
     "text": [
      "{'concentration': 0.00025404200000080036, 'compartment': 'uVol', 'particle_numbers': '1.52987694462e+11'}\n",
      "{'concentration': 20.0, 'compartment': 'uVol', 'particle_numbers': '1.204428358e+16'}\n"
     ]
    }
   ],
   "source": [
    "import PyCoTools,os\n",
    "## Original value of Mek1-PP at time 0 is 10. \n",
    "GMQ=PyCoTools.pycopi.GetModelQuantities(kholodenko_model)\n",
    "print GMQ.get_metabolites()['Mek1-PP']\n",
    "\n",
    "#Use InsertParameters to change it to 20\n",
    "I=PyCoTools.pycopi.InsertParameters(kholodenko_model,ParameterDict={'Mek1-PP':20})\n",
    "GMQ=PyCoTools.pycopi.GetModelQuantities(kholodenko_model)\n",
    "print GMQ.get_metabolites()['Mek1-PP']\n",
    "\n"
   ]
  },
  {
   "cell_type": "markdown",
   "metadata": {},
   "source": [
    "And Simulate some data:"
   ]
  },
  {
   "cell_type": "code",
   "execution_count": 14,
   "metadata": {
    "collapsed": false,
    "scrolled": true
   },
   "outputs": [
    {
     "name": "stdout",
     "output_type": "stream",
     "text": [
      "   Time   Mek1-PP     Erk2      Mos   Erk2-P  Erk2-PP    Mos-P     Mek1  \\\n",
      "0     0  10.00000  280.000  90.0000  10.0000  10.0000  10.0000  280.000   \n",
      "1     1   9.32463  279.821  88.8817  10.1531  10.0262  11.1183  279.883   \n",
      "2     2   8.66197  279.654  87.7713  10.2949  10.0509  12.2287  279.750   \n",
      "3     3   8.01289  279.500  86.6685  10.4257  10.0742  13.3315  279.601   \n",
      "4     4   7.37822  279.358  85.5731  10.5457  10.0959  14.4269  279.437   \n",
      "\n",
      "    Mek1-P  \n",
      "0  10.0000  \n",
      "1  10.7925  \n",
      "2  11.5882  \n",
      "3  12.3862  \n",
      "4  13.1853  \n"
     ]
    }
   ],
   "source": [
    "import PyCoTools,pandas\n",
    "report= 'parameter_estimation_synthetic_data2.txt'\n",
    "TC=PyCoTools.pycopi.TimeCourse(kholodenko_model,\n",
    "                               End=1000,\n",
    "                               Intervals=1000,\n",
    "                               StepSize=1,\n",
    "                               ReportName = report)\n",
    "\n",
    "## validate that its worked\n",
    "print pandas.read_csv(TC.kwargs['ReportName'],sep='\\t').head()\n",
    "\n",
    "## Give fake data a meaningful name\n",
    "data2 = TC.kwargs['ReportName']"
   ]
  },
  {
   "cell_type": "markdown",
   "metadata": {},
   "source": [
    "Now setup a parameter estimation like before and run. Note that we already have a configuration file with the default filename and therefore do not need to rewrite one. Also, in real life we might consider having a 'Mek1-PP_indep' column in both data files as this is what will discriminate the data. This is not done here for brevity. "
   ]
  },
  {
   "cell_type": "code",
   "execution_count": 15,
   "metadata": {
    "collapsed": false
   },
   "outputs": [
    {
     "data": {
      "text/plain": [
       "<PyCoTools.pycopi.Run instance at 0x7fcc7dfd9c20>"
      ]
     },
     "execution_count": 15,
     "metadata": {},
     "output_type": "execute_result"
    }
   ],
   "source": [
    "from PyCoTools.pycopi import ParameterEstimation \n",
    "\n",
    "report = 'parameter_estimation_data2.txt'\n",
    "PE=ParameterEstimation(kholodenko_model,[data1,data2],\n",
    "                      Method='GeneticAlgorithm',\n",
    "                      ReportName = report)\n",
    "PE.set_up()\n",
    "PE.run()\n"
   ]
  },
  {
   "cell_type": "markdown",
   "metadata": {},
   "source": [
    "Lets check the parameter estimation data:"
   ]
  },
  {
   "cell_type": "code",
   "execution_count": 63,
   "metadata": {
    "collapsed": false
   },
   "outputs": [
    {
     "name": "stdout",
     "output_type": "stream",
     "text": [
      "[Mek1-PP]_0                                                                  165.719000\n",
      "[Erk2]_0                                                                       0.061016\n",
      "[Mos]_0                                                                        0.011657\n",
      "[Erk2-P]_0                                                                   154.178000\n",
      "[Erk2-PP]_0                                                                   11.024600\n",
      "[Mos-P]_0                                                                     73.983300\n",
      "[Mek1]_0                                                                       0.008613\n",
      "[Mek1-P]_0                                                                     0.000005\n",
      "(phosphorylation of MAPKK).KK3                                                 0.000002\n",
      "(MAPKKK activation).K1                                                         0.000011\n",
      "(dephosphorylation of MAPK-PP).V9                                              0.000001\n",
      "(phosphorylation of MAPK).k7                                                6963.530000\n",
      "(phosphorylation of MAPK-P).k8                                                 0.000001\n",
      "(MAPKKK inactivation).KK2                                                      0.049286\n",
      "(MAPKKK inactivation).V2                                                      51.980700\n",
      "(phosphorylation of MAPKK).k3                                                  0.000001\n",
      "(phosphorylation of MAPKK-P).k4                                                0.000050\n",
      "(dephosphorylation of MAPKK-PP).KK5                                         4246.280000\n",
      "(dephosphorylation of MAPK-PP).KK9                                             0.000143\n",
      "(dephosphorylation of MAPKK-P).KK6                                            24.297100\n",
      "(phosphorylation of MAPKK-P).KK4                                            6436.870000\n",
      "(MAPKKK activation).V1                                                         0.000797\n",
      "(MAPKKK activation).Ki                                                         0.057537\n",
      "(phosphorylation of MAPK).KK7                                                  2.920310\n",
      "(dephosphorylation of MAPK-P).KK10                                           732.349000\n",
      "(phosphorylation of MAPK-P).KK8                                                0.000004\n",
      "(dephosphorylation of MAPKK-PP).V5                                         80714.000000\n",
      "(dephosphorylation of MAPK-P).V10                                              0.000504\n",
      "(dephosphorylation of MAPKK-P).V6                                              0.000159\n",
      "(MAPKKK activation).n                                                          0.192613\n",
      "TaskList[Parameter Estimation].(Problem)Parameter Estimation.Best Value     5858.910000\n",
      "Name: 83, dtype: float64\n"
     ]
    }
   ],
   "source": [
    "import pandas\n",
    "print pandas.read_csv(PE.kwargs['ReportName'],sep='\\t').iloc[-1] #recall that best parameter are at end of file"
   ]
  },
  {
   "cell_type": "markdown",
   "metadata": {},
   "source": [
    "# Visualization \n",
    "Use the `Plot` keyword to visualize the data"
   ]
  },
  {
   "cell_type": "code",
   "execution_count": null,
   "metadata": {
    "collapsed": true
   },
   "outputs": [],
   "source": [
    "from PyCoTools.pycopi import ParameterEstimation \n",
    "\n",
    "report = 'parameter_estimation_data2.txt'\n",
    "PE=ParameterEstimation(kholodenko_model,[data1,data2],\n",
    "                      Method='GeneticAlgorithm',\n",
    "                      ReportName = report,\n",
    "                      Plot='true')\n",
    "PE.set_up()\n",
    "PE.run()\n"
   ]
  },
  {
   "cell_type": "markdown",
   "metadata": {},
   "source": [
    "An alternative is to simply insert the parameters and the open the model using the UI and simulate manually using current solution statistics. In fact this is my preference. "
   ]
  },
  {
   "cell_type": "code",
   "execution_count": null,
   "metadata": {
    "collapsed": true
   },
   "outputs": [],
   "source": [
    "import PyCoTools\n",
    "import os\n",
    "import pandas\n",
    "\n",
    "pe_data = pandas.read_csv(report,sep='\\t')\n",
    "\n",
    "print pe_data\n",
    "\n",
    "InsertParameters(kholodenko_model,ParameterPath = report,Index = 0)\n",
    "\n",
    "os.system('CopasiUI {}'.format(kholodenko_model))\n",
    "\n"
   ]
  }
 ],
 "metadata": {
  "kernelspec": {
   "display_name": "Python 2",
   "language": "python",
   "name": "python2"
  },
  "language_info": {
   "codemirror_mode": {
    "name": "ipython",
    "version": 2
   },
   "file_extension": ".py",
   "mimetype": "text/x-python",
   "name": "python",
   "nbconvert_exporter": "python",
   "pygments_lexer": "ipython2",
   "version": "2.7.13"
  }
 },
 "nbformat": 4,
 "nbformat_minor": 2
}
