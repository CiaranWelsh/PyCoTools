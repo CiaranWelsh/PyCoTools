{
 "cells": [
  {
   "cell_type": "markdown",
   "metadata": {
    "collapsed": true
   },
   "source": [
    "# Getting Model Quantities\n",
    "A class for retrieving model information "
   ]
  },
  {
   "cell_type": "code",
   "execution_count": 2,
   "metadata": {
    "collapsed": false
   },
   "outputs": [
    {
     "name": "stdout",
     "output_type": "stream",
     "text": [
      "/home/b3053674/Documents/PyCoTools/PyCoTools/PyCoToolsTutorial/Kholodenko.cps\n",
      "True\n"
     ]
    }
   ],
   "source": [
    "%matplotlib inline\n",
    "import os,glob\n",
    "\n",
    "for i in glob.glob('*.cps'):\n",
    "    kholodenko_model= os.path.abspath(i)\n",
    "    \n",
    "print kholodenko_model\n",
    "print os.path.isfile(kholodenko_model)"
   ]
  },
  {
   "cell_type": "code",
   "execution_count": 21,
   "metadata": {
    "collapsed": false
   },
   "outputs": [
    {
     "name": "stdout",
     "output_type": "stream",
     "text": [
      "<PyCoTools.pycopi.GetModelQuantities instance at 0x7f71cdf86830>\n",
      "nmol\n",
      "s\n",
      "Kholodenko2000 - Ultrasensitivity and negative feedback bring oscillations in MAPK cascade\n",
      "Metabolites:\n",
      "\tMek1-PP\n",
      "\tErk2\n",
      "\tMos\n",
      "\tErk2-P\n",
      "\tErk2-PP\n",
      "\tMos-P\n",
      "\tMek1\n",
      "\tMek1-P\n",
      "Global Parameters:\n",
      "Local parameters:\n",
      "\t(phosphorylation of MAPKK).KK3\n",
      "\t(MAPKKK activation).K1\n",
      "\t(dephosphorylation of MAPK-PP).V9\n",
      "\t(phosphorylation of MAPK).k7\n",
      "\t(phosphorylation of MAPK-P).k8\n",
      "\t(MAPKKK inactivation).KK2\n",
      "\t(MAPKKK inactivation).V2\n",
      "\t(phosphorylation of MAPKK).k3\n",
      "\t(phosphorylation of MAPKK-P).k4\n",
      "\t(dephosphorylation of MAPKK-PP).KK5\n",
      "\t(dephosphorylation of MAPK-PP).KK9\n",
      "\t(dephosphorylation of MAPKK-P).KK6\n",
      "\t(phosphorylation of MAPKK-P).KK4\n",
      "\t(MAPKKK activation).V1\n",
      "\t(MAPKKK activation).Ki\n",
      "\t(phosphorylation of MAPK).KK7\n",
      "\t(dephosphorylation of MAPK-P).KK10\n",
      "\t(phosphorylation of MAPK-P).KK8\n",
      "\t(dephosphorylation of MAPKK-PP).V5\n",
      "\t(dephosphorylation of MAPK-P).V10\n",
      "\t(dephosphorylation of MAPKK-P).V6\n",
      "\t(MAPKKK activation).n\n",
      "Compartments\n",
      "\tuVol\n"
     ]
    }
   ],
   "source": [
    "import PyCoTools\n",
    "import os\n",
    "\n",
    "\n",
    "GMQ = PyCoTools.pycopi.GetModelQuantities(kholodenko_model)\n",
    "print GMQ\n",
    "\n",
    "## get quantity units\n",
    "print GMQ.get_quantity_units()\n",
    "\n",
    "## get time units\n",
    "print GMQ.get_time_unit()\n",
    "\n",
    "## get model name \n",
    "print GMQ.get_model_name()\n",
    "\n",
    "## get model metabolites\n",
    "print 'Metabolites:'\n",
    "for metab in GMQ.get_metabolites():\n",
    "    print '\\t',metab\n",
    "\n",
    "## get global parameters:  \n",
    "print 'Global Parameters:'\n",
    "for parameter in GMQ.get_global_quantities():\n",
    "    print '\\t',parameter  #Note: Empty list in the kholodenko model. \n",
    "    \n",
    "## get local parameters\n",
    "print 'Local parameters:'\n",
    "for parameter in GMQ.get_local_parameters():\n",
    "    print '\\t',parameter ## all kinetic parameters are locally defined in this model\n",
    "    \n",
    "## get compartments \n",
    "print 'Compartments'\n",
    "for compartment in GMQ.get_compartments():\n",
    "    print '\\t',compartment\n",
    "    \n"
   ]
  }
 ],
 "metadata": {
  "kernelspec": {
   "display_name": "Python 2",
   "language": "python",
   "name": "python2"
  },
  "language_info": {
   "codemirror_mode": {
    "name": "ipython",
    "version": 2
   },
   "file_extension": ".py",
   "mimetype": "text/x-python",
   "name": "python",
   "nbconvert_exporter": "python",
   "pygments_lexer": "ipython2",
   "version": "2.7.13"
  }
 },
 "nbformat": 4,
 "nbformat_minor": 2
}
