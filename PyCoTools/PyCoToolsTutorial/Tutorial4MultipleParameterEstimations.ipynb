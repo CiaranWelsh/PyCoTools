{
 "cells": [
  {
   "cell_type": "markdown",
   "metadata": {
    "collapsed": true,
    "deletable": true,
    "editable": true
   },
   "source": [
    "# Multiple Parameter Estimations\n",
    "It is often desirable to run a single optimization problem many time in order to analyse the results. In copasi this is fairly easy simply by using the `repeat` scan item. In PyCoTools we can use the `runMultiplePEs` class to the same end.   \n",
    "\n",
    "## Get Handle to Model"
   ]
  },
  {
   "cell_type": "code",
   "execution_count": 1,
   "metadata": {
    "collapsed": false,
    "deletable": true,
    "editable": true
   },
   "outputs": [
    {
     "name": "stdout",
     "output_type": "stream",
     "text": [
      "C:\\Users\\Ciaran\\Documents\\PyCoTools\\PyCoTools\\PyCoToolsTutorial\\Kholodenko.cps\n",
      "True\n"
     ]
    }
   ],
   "source": [
    "%matplotlib inline\n",
    "import os,glob\n",
    "\n",
    "for i in glob.glob('*kholodenko.cps'):\n",
    "    kholodenko_model= os.path.abspath(i)\n",
    "    \n",
    "print kholodenko_model\n",
    "print os.path.isfile(kholodenko_model)"
   ]
  },
  {
   "cell_type": "markdown",
   "metadata": {
    "deletable": true,
    "editable": true
   },
   "source": [
    "## Generate Synthetic Data"
   ]
  },
  {
   "cell_type": "code",
   "execution_count": 2,
   "metadata": {
    "collapsed": false,
    "deletable": true,
    "editable": true,
    "scrolled": true
   },
   "outputs": [
    {
     "name": "stdout",
     "output_type": "stream",
     "text": [
      "INFO:root:__init__:26:Initializing PyCoTools\n",
      "INFO:root:__init__:27:Initializing logging System\n",
      "INFO:root:__init__:28:logging config file at: C:\\Users\\Ciaran\\Documents\\PyCoTools\\PyCoTools\\logging_config.conf\n",
      "DEBUG:PyCoTools.pycopi:pycopi:108:copasi file Kholodenko.cps has been parsed into Python\n",
      "DEBUG:PyCoTools.pycopi:pycopi:1135:CopasiML: <Element {http://www.copasi.org/static/schema}COPASI at 0xaf9c788>\n",
      "DEBUG:PyCoTools.pycopi:pycopi:108:copasi file Kholodenko.cps has been parsed into Python\n",
      "DEBUG:PyCoTools.pycopi:pycopi:119:model written to C:\\Users\\Ciaran\\Documents\\PyCoTools\\PyCoTools\\PyCoToolsTutorial\\Kholodenko.cps\n",
      "DEBUG:PyCoTools.pycopi:pycopi:108:copasi file Kholodenko.cps has been parsed into Python\n",
      "DEBUG:PyCoTools.pycopi:pycopi:108:copasi file Kholodenko.cps has been parsed into Python\n",
      "DEBUG:PyCoTools.pycopi:pycopi:946:created a 'time_course' type report\n",
      "DEBUG:PyCoTools.pycopi:pycopi:119:model written to C:\\Users\\Ciaran\\Documents\\PyCoTools\\PyCoTools\\PyCoToolsTutorial\\Kholodenko.cps\n",
      "DEBUG:PyCoTools.pycopi:pycopi:1410:getting report key\n",
      "DEBUG:PyCoTools.pycopi:pycopi:1452:setting up deterministic time course\n",
      "DEBUG:PyCoTools.pycopi:pycopi:119:model written to C:\\Users\\Ciaran\\Documents\\PyCoTools\\PyCoTools\\PyCoToolsTutorial\\Kholodenko.cps\n",
      "DEBUG:PyCoTools.pycopi:pycopi:108:copasi file Kholodenko.cps has been parsed into Python\n",
      "DEBUG:PyCoTools.pycopi:pycopi:108:copasi file Kholodenko.cps has been parsed into Python\n",
      "DEBUG:PyCoTools.pycopi:pycopi:119:model written to C:\\Users\\Ciaran\\Documents\\PyCoTools\\PyCoTools\\PyCoToolsTutorial\\Kholodenko.cps\n",
      "DEBUG:PyCoTools.pycopi:pycopi:1459:Time course ran\n",
      "DEBUG:PyCoTools.pycopi:pycopi:1465:Reading timecourse\n",
      "DEBUG:PyCoTools.pycopi:pycopi:1467:pruning headers of copasi files of COPASI references\n"
     ]
    }
   ],
   "source": [
    "import site\n",
    "site.addsitedir('C:\\Users\\Ciaran\\Documents\\PyCoTools')\n",
    "\n",
    "import pandas,os,PyCoTools\n",
    "\n",
    "data_report='MultipleParameterEstimationData.txt'\n",
    "##Simulate some synthetic data\n",
    "TC=PyCoTools.pycopi.TimeCourse(kholodenko_model,end=1000,step_size=100,\n",
    "                               intervals=10,\n",
    "                               report_name=data_report)"
   ]
  },
  {
   "cell_type": "markdown",
   "metadata": {
    "deletable": true,
    "editable": true
   },
   "source": [
    "# The RunMultiplePEs Class\n",
    "The RunMultiplePEs class is an interface to the ParameterEstimation class and accepts all of the same keyword parameters with a few extra:\n",
    "\n",
    "    1. `copy_number`          --> Number of times to copy a copasi file. All of these will be run simultaneously. \n",
    "    2. `pe_number`            --> How many parameter estimations to conduct **per model**\n",
    "    3. `results_directory`    --> Name of the directory to put the results (created if not exists)\n",
    "\n",
    "The total number of estimations that can be carried out simultaneously is $copy\\_number\\cdot pe\\_number$.  "
   ]
  },
  {
   "cell_type": "code",
   "execution_count": 3,
   "metadata": {
    "collapsed": false,
    "deletable": true,
    "editable": true
   },
   "outputs": [
    {
     "name": "stdout",
     "output_type": "stream",
     "text": [
      "DEBUG:PyCoTools.pycopi:pycopi:108:copasi file Kholodenko.cps has been parsed into Python\n",
      "DEBUG:PyCoTools.pycopi:pycopi:3760:Performing multi parameter fit for model at:\n",
      "C:\\Users\\Ciaran\\Documents\\PyCoTools\\PyCoTools\\PyCoToolsTutorial\\Kholodenko.cps\n",
      "DEBUG:PyCoTools.pycopi:pycopi:3999:Using default report name:\n",
      "C:\\Users\\Ciaran\\Documents\\PyCoTools\\PyCoTools\\PyCoToolsTutorial\\ParameterFit.txt\n",
      "DEBUG:PyCoTools.pycopi:pycopi:4008:config_filename is None. Reassigning config_filename\n",
      "INFO:PyCoTools.pycopi:pycopi:4043:creating a directory for analysis in : \n",
      "\n",
      "C:\\Users\\Ciaran\\Documents\\PyCoTools\\PyCoTools\\PyCoToolsTutorial\\MultipleParameterEstimationResults\n",
      "DEBUG:PyCoTools.pycopi:pycopi:4056:Enumerating PE report files\n",
      "DEBUG:PyCoTools.pycopi:pycopi:3858:Create an instance of ParameterEstimation\n",
      "DEBUG:PyCoTools.pycopi:pycopi:108:copasi file Kholodenko.cps has been parsed into Python\n",
      "DEBUG:PyCoTools.pycopi:pycopi:108:copasi file Kholodenko.cps has been parsed into Python\n",
      "INFO:PyCoTools.pycopi:pycopi:3939:writing PE config template for model: C:\\Users\\Ciaran\\Documents\\PyCoTools\\PyCoTools\\PyCoToolsTutorial\\Kholodenko.cps\n",
      "DEBUG:PyCoTools.pycopi:pycopi:3940:config_filename is C:\\Users\\Ciaran\\Documents\\PyCoTools\\PyCoTools\\PyCoToolsTutorial\\PEConfigFile.xlsx\n",
      "WARNING:PyCoTools.pycopi:pycopi:3879:set_up method is deprecated. Use setup() method instead\n",
      "WARNING:PyCoTools.pycopi:pycopi:3099:The set_up method is deprecated. Use setup() method instead\n",
      "DEBUG:PyCoTools.pycopi:pycopi:108:copasi file Kholodenko.cps has been parsed into Python\n",
      "DEBUG:PyCoTools.pycopi:pycopi:108:copasi file Kholodenko.cps has been parsed into Python\n",
      "DEBUG:PyCoTools.pycopi:pycopi:1968:Removing all pre-existing experiments from copasi mapping interface\n",
      "DEBUG:PyCoTools.pycopi:pycopi:1971:Mapping experiment MultipleParameterEstimationData.txt\n",
      "DEBUG:PyCoTools.pycopi:pycopi:119:model written to C:\\Users\\Ciaran\\Documents\\PyCoTools\\PyCoTools\\PyCoToolsTutorial\\Kholodenko.cps\n",
      "DEBUG:PyCoTools.pycopi:pycopi:119:model written to C:\\Users\\Ciaran\\Documents\\PyCoTools\\PyCoTools\\PyCoToolsTutorial\\Kholodenko.cps\n",
      "DEBUG:PyCoTools.pycopi:pycopi:108:copasi file Kholodenko.cps has been parsed into Python\n",
      "DEBUG:PyCoTools.pycopi:pycopi:108:copasi file Kholodenko.cps has been parsed into Python\n",
      "DEBUG:PyCoTools.pycopi:pycopi:939:created a 'parameter_estimation' report\n",
      "INFO:PyCoTools.pycopi:pycopi:924:footer is: <Element Footer at 0xaf84848>\n",
      "DEBUG:PyCoTools.pycopi:pycopi:929:Reports PE setup copasiML <Element {http://www.copasi.org/static/schema}COPASI at 0xaf84ac8>\n",
      "DEBUG:PyCoTools.pycopi:pycopi:119:model written to C:\\Users\\Ciaran\\Documents\\PyCoTools\\PyCoTools\\PyCoToolsTutorial\\Kholodenko.cps\n",
      "DEBUG:PyCoTools.pycopi:pycopi:119:model written to C:\\Users\\Ciaran\\Documents\\PyCoTools\\PyCoTools\\PyCoToolsTutorial\\Kholodenko.cps\n",
      "INFO:PyCoTools.pycopi:pycopi:3921:Copying copasi file 4 times\n",
      "INFO:PyCoTools.pycopi:pycopi:3957:setting up scan for model : C:\\Users\\Ciaran\\Documents\\PyCoTools\\PyCoTools\\PyCoToolsTutorial\\Kholodenko.cps\n",
      "DEBUG:PyCoTools.pycopi:pycopi:108:copasi file Kholodenko.cps has been parsed into Python\n",
      "DEBUG:PyCoTools.pycopi:pycopi:108:copasi file Kholodenko.cps has been parsed into Python\n",
      "INFO:PyCoTools.pycopi:pycopi:3957:setting up scan for model : C:\\Users\\Ciaran\\Documents\\PyCoTools\\PyCoTools\\PyCoToolsTutorial\\Kholodenko_1.cps\n",
      "DEBUG:PyCoTools.pycopi:pycopi:108:copasi file Kholodenko_1.cps has been parsed into Python\n",
      "DEBUG:PyCoTools.pycopi:pycopi:108:copasi file Kholodenko_1.cps has been parsed into Python\n",
      "DEBUG:PyCoTools.pycopi:pycopi:3303:kwargs[scan_type is: repeat\n",
      "DEBUG:PyCoTools.pycopi:pycopi:3305:scan type to number tuple: ('scan', 1)\n",
      "INFO:PyCoTools.pycopi:pycopi:3957:setting up scan for model : C:\\Users\\Ciaran\\Documents\\PyCoTools\\PyCoTools\\PyCoToolsTutorial\\Kholodenko_2.cps\n",
      "DEBUG:PyCoTools.pycopi:pycopi:3305:scan type to number tuple: ('repeat', 0)\n",
      "DEBUG:PyCoTools.pycopi:pycopi:108:copasi file Kholodenko_2.cps has been parsed into Python\n",
      "DEBUG:PyCoTools.pycopi:pycopi:3305:scan type to number tuple: ('random_sampling', 2)\n",
      "DEBUG:PyCoTools.pycopi:pycopi:108:copasi file Kholodenko_2.cps has been parsed into Python\n",
      "DEBUG:PyCoTools.pycopi:pycopi:3303:kwargs[scan_type is: repeat\n",
      "DEBUG:PyCoTools.pycopi:pycopi:3305:scan type to number tuple: ('scan', 1)\n",
      "DEBUG:PyCoTools.pycopi:pycopi:3305:scan type to number tuple: ('repeat', 0)\n",
      "DEBUG:PyCoTools.pycopi:pycopi:3305:scan type to number tuple: ('random_sampling', 2)\n",
      "DEBUG:PyCoTools.pycopi:pycopi:119:model written to C:\\Users\\Ciaran\\Documents\\PyCoTools\\PyCoTools\\PyCoToolsTutorial\\Kholodenko.cps\n",
      "INFO:PyCoTools.pycopi:pycopi:3957:setting up scan for model : C:\\Users\\Ciaran\\Documents\\PyCoTools\\PyCoTools\\PyCoToolsTutorial\\Kholodenko_3.cps\n",
      "INFO:root:pycopi:3361:defining report\n",
      "DEBUG:PyCoTools.pycopi:pycopi:108:copasi file Kholodenko_3.cps has been parsed into Python\n",
      "DEBUG:PyCoTools.pycopi:pycopi:108:copasi file Kholodenko.cps has been parsed into Python\n",
      "DEBUG:PyCoTools.pycopi:pycopi:3303:kwargs[scan_type is: repeat\n",
      "DEBUG:PyCoTools.pycopi:pycopi:108:copasi file Kholodenko_3.cps has been parsed into Python\n",
      "DEBUG:PyCoTools.pycopi:pycopi:108:copasi file Kholodenko.cps has been parsed into Python\n",
      "DEBUG:PyCoTools.pycopi:pycopi:3305:scan type to number tuple: ('scan', 1)\n",
      "DEBUG:PyCoTools.pycopi:pycopi:3305:scan type to number tuple: ('repeat', 0)\n",
      "DEBUG:PyCoTools.pycopi:pycopi:119:model written to C:\\Users\\Ciaran\\Documents\\PyCoTools\\PyCoTools\\PyCoToolsTutorial\\Kholodenko_1.cps\n",
      "DEBUG:PyCoTools.pycopi:pycopi:3305:scan type to number tuple: ('random_sampling', 2)\n",
      "INFO:root:pycopi:3361:defining report\n",
      "DEBUG:PyCoTools.pycopi:pycopi:108:copasi file Kholodenko_1.cps has been parsed into Python\n",
      "DEBUG:PyCoTools.pycopi:pycopi:108:copasi file Kholodenko_1.cps has been parsed into Python\n",
      "DEBUG:PyCoTools.pycopi:pycopi:3303:kwargs[scan_type is: repeat\n",
      "DEBUG:PyCoTools.pycopi:pycopi:3305:scan type to number tuple: ('scan', 1)\n",
      "DEBUG:PyCoTools.pycopi:pycopi:119:model written to C:\\Users\\Ciaran\\Documents\\PyCoTools\\PyCoTools\\PyCoToolsTutorial\\Kholodenko_2.cps\n",
      "DEBUG:PyCoTools.pycopi:pycopi:3305:scan type to number tuple: ('repeat', 0)\n",
      "INFO:root:pycopi:3361:defining report\n",
      "DEBUG:PyCoTools.pycopi:pycopi:3305:scan type to number tuple: ('random_sampling', 2)\n",
      "DEBUG:PyCoTools.pycopi:pycopi:108:copasi file Kholodenko_2.cps has been parsed into Python\n",
      "DEBUG:PyCoTools.pycopi:pycopi:108:copasi file Kholodenko_2.cps has been parsed into Python\n",
      "DEBUG:PyCoTools.pycopi:pycopi:939:created a 'parameter_estimation' report\n",
      "INFO:PyCoTools.pycopi:pycopi:924:footer is: <Element Footer at 0xbfcb5c8>\n",
      "DEBUG:PyCoTools.pycopi:pycopi:929:Reports PE setup copasiML <Element {http://www.copasi.org/static/schema}COPASI at 0xbcda8c8>\n",
      "DEBUG:PyCoTools.pycopi:pycopi:119:model written to C:\\Users\\Ciaran\\Documents\\PyCoTools\\PyCoTools\\PyCoToolsTutorial\\Kholodenko_3.cps\n",
      "DEBUG:PyCoTools.pycopi:pycopi:119:model written to C:\\Users\\Ciaran\\Documents\\PyCoTools\\PyCoTools\\PyCoToolsTutorial\\Kholodenko.cps\n",
      "INFO:root:pycopi:3361:defining report\n",
      "DEBUG:PyCoTools.pycopi:pycopi:939:created a 'parameter_estimation' report\n",
      "DEBUG:PyCoTools.pycopi:pycopi:108:copasi file Kholodenko_3.cps has been parsed into Python\n",
      "INFO:PyCoTools.pycopi:pycopi:924:footer is: <Element Footer at 0xbfcb648>\n",
      "DEBUG:PyCoTools.pycopi:pycopi:108:copasi file Kholodenko_3.cps has been parsed into Python\n",
      "DEBUG:PyCoTools.pycopi:pycopi:929:Reports PE setup copasiML <Element {http://www.copasi.org/static/schema}COPASI at 0xc0024c8>\n",
      "DEBUG:PyCoTools.pycopi:pycopi:939:created a 'parameter_estimation' report\n",
      "DEBUG:PyCoTools.pycopi:pycopi:3452:output during subtask value is: false\n",
      "DEBUG:PyCoTools.pycopi:pycopi:119:model written to C:\\Users\\Ciaran\\Documents\\PyCoTools\\PyCoTools\\PyCoToolsTutorial\\Kholodenko_1.cps\n",
      "INFO:PyCoTools.pycopi:pycopi:924:footer is: <Element Footer at 0xbfcbec8>\n",
      "DEBUG:PyCoTools.pycopi:pycopi:929:Reports PE setup copasiML <Element {http://www.copasi.org/static/schema}COPASI at 0xbfcb948>\n",
      "DEBUG:PyCoTools.pycopi:pycopi:119:model written to C:\\Users\\Ciaran\\Documents\\PyCoTools\\PyCoTools\\PyCoToolsTutorial\\Kholodenko.cps\n",
      "DEBUG:PyCoTools.pycopi:pycopi:108:copasi file Kholodenko.cps has been parsed into Python\n",
      "DEBUG:PyCoTools.pycopi:pycopi:108:copasi file Kholodenko.cps has been parsed into Python\n",
      "DEBUG:PyCoTools.pycopi:pycopi:939:created a 'parameter_estimation' report\n",
      "INFO:PyCoTools.pycopi:pycopi:924:footer is: <Element Footer at 0xbfcbec8>\n",
      "DEBUG:PyCoTools.pycopi:pycopi:3452:output during subtask value is: false\n",
      "DEBUG:PyCoTools.pycopi:pycopi:119:model written to C:\\Users\\Ciaran\\Documents\\PyCoTools\\PyCoTools\\PyCoToolsTutorial\\Kholodenko_2.cps\n",
      "DEBUG:PyCoTools.pycopi:pycopi:119:model written to C:\\Users\\Ciaran\\Documents\\PyCoTools\\PyCoTools\\PyCoToolsTutorial\\Kholodenko.cps\n",
      "DEBUG:PyCoTools.pycopi:pycopi:929:Reports PE setup copasiML <Element {http://www.copasi.org/static/schema}COPASI at 0xbfcbc08>\n",
      "INFO:PyCoTools.pycopi:pycopi:3990:Setup Took 1.08999991417 seconds\n",
      "INFO:PyCoTools.pycopi:pycopi:3965:<PyCoTools.pycopi.Scan instance at 0x000000000BCD05C8>\n",
      "DEBUG:PyCoTools.pycopi:pycopi:119:model written to C:\\Users\\Ciaran\\Documents\\PyCoTools\\PyCoTools\\PyCoToolsTutorial\\Kholodenko_1.cps\n",
      "DEBUG:PyCoTools.pycopi:pycopi:119:model written to C:\\Users\\Ciaran\\Documents\\PyCoTools\\PyCoTools\\PyCoToolsTutorial\\Kholodenko_3.cps\n",
      "DEBUG:PyCoTools.pycopi:pycopi:108:copasi file Kholodenko_1.cps has been parsed into Python\n",
      "DEBUG:PyCoTools.pycopi:pycopi:108:copasi file Kholodenko_1.cps has been parsed into Python\n",
      "DEBUG:PyCoTools.pycopi:pycopi:119:model written to C:\\Users\\Ciaran\\Documents\\PyCoTools\\PyCoTools\\PyCoToolsTutorial\\Kholodenko_1.cps\n",
      "DEBUG:PyCoTools.pycopi:pycopi:3452:output during subtask value is: false\n",
      "INFO:PyCoTools.pycopi:pycopi:3990:Setup Took 1.07999992371 seconds\n",
      "DEBUG:PyCoTools.pycopi:pycopi:119:model written to C:\\Users\\Ciaran\\Documents\\PyCoTools\\PyCoTools\\PyCoToolsTutorial\\Kholodenko_2.cps\n",
      "INFO:PyCoTools.pycopi:pycopi:3898:running model: 0\n",
      "DEBUG:PyCoTools.pycopi:pycopi:108:copasi file Kholodenko_2.cps has been parsed into Python\n",
      "DEBUG:PyCoTools.pycopi:pycopi:3452:output during subtask value is: false\n",
      "DEBUG:PyCoTools.pycopi:pycopi:108:copasi file Kholodenko.cps has been parsed into Python\n",
      "DEBUG:PyCoTools.pycopi:pycopi:108:copasi file Kholodenko.cps has been parsed into Python\n",
      "DEBUG:PyCoTools.pycopi:pycopi:119:model written to C:\\Users\\Ciaran\\Documents\\PyCoTools\\PyCoTools\\PyCoToolsTutorial\\Kholodenko_3.cps\n",
      "DEBUG:PyCoTools.pycopi:pycopi:108:copasi file Kholodenko_3.cps has been parsed into Python\n",
      "DEBUG:PyCoTools.pycopi:pycopi:119:model written to C:\\Users\\Ciaran\\Documents\\PyCoTools\\PyCoTools\\PyCoToolsTutorial\\Kholodenko.cps\n",
      "DEBUG:PyCoTools.pycopi:pycopi:108:copasi file Kholodenko_2.cps has been parsed into Python\n",
      "DEBUG:PyCoTools.pycopi:pycopi:108:copasi file Kholodenko_3.cps has been parsed into Python\n",
      "INFO:PyCoTools.pycopi:pycopi:3898:running model: 1\n",
      "DEBUG:PyCoTools.pycopi:pycopi:119:model written to C:\\Users\\Ciaran\\Documents\\PyCoTools\\PyCoTools\\PyCoToolsTutorial\\Kholodenko_2.cps\n",
      "INFO:PyCoTools.pycopi:pycopi:3990:Setup Took 1.13100004196 seconds\n",
      "DEBUG:PyCoTools.pycopi:pycopi:119:model written to C:\\Users\\Ciaran\\Documents\\PyCoTools\\PyCoTools\\PyCoToolsTutorial\\Kholodenko_3.cps\n",
      "INFO:PyCoTools.pycopi:pycopi:3990:Setup Took 1.0150001049 seconds\n",
      "DEBUG:PyCoTools.pycopi:pycopi:108:copasi file Kholodenko_1.cps has been parsed into Python\n",
      "DEBUG:PyCoTools.pycopi:pycopi:108:copasi file Kholodenko_1.cps has been parsed into Python\n",
      "DEBUG:PyCoTools.pycopi:pycopi:119:model written to C:\\Users\\Ciaran\\Documents\\PyCoTools\\PyCoTools\\PyCoToolsTutorial\\Kholodenko_1.cps\n",
      "INFO:PyCoTools.pycopi:pycopi:3898:running model: 2\n",
      "DEBUG:PyCoTools.pycopi:pycopi:108:copasi file Kholodenko_2.cps has been parsed into Python\n",
      "DEBUG:PyCoTools.pycopi:pycopi:108:copasi file Kholodenko_2.cps has been parsed into Python\n",
      "DEBUG:PyCoTools.pycopi:pycopi:119:model written to C:\\Users\\Ciaran\\Documents\\PyCoTools\\PyCoTools\\PyCoToolsTutorial\\Kholodenko_2.cps\n",
      "INFO:PyCoTools.pycopi:pycopi:3898:running model: 3\n",
      "DEBUG:PyCoTools.pycopi:pycopi:108:copasi file Kholodenko_3.cps has been parsed into Python\n",
      "DEBUG:PyCoTools.pycopi:pycopi:108:copasi file Kholodenko_3.cps has been parsed into Python\n",
      "DEBUG:PyCoTools.pycopi:pycopi:119:model written to C:\\Users\\Ciaran\\Documents\\PyCoTools\\PyCoTools\\PyCoToolsTutorial\\Kholodenko_3.cps\n"
     ]
    }
   ],
   "source": [
    "import pandas,os,PyCoTools\n",
    "RMPE=PyCoTools.pycopi.RunMultiplePEs(kholodenko_model,data_report,\n",
    "                                     copy_number=4,\n",
    "                                     pe_number=2) #--> 8 total\n",
    "RMPE.write_config_template()\n",
    "RMPE.set_up()\n",
    "RMPE.run()"
   ]
  },
  {
   "cell_type": "markdown",
   "metadata": {
    "deletable": true,
    "editable": true
   },
   "source": [
    "All models are executed using CopasiSE at the same time. For this reason, if you have too many models running at once on a single machine, the machine will slow and be unusable until the estimations have finished. My own machine (i7, 16GB RAM) can comfortably run around 6 or 7 models at once before things start to slow. If using a SunGridEngine based job scheduler you can use `run = SGE` to submit the jobs automatically. If your using a different job scheduler it is straight forward to write another function within the `pycopi.Run` class to support your scheduler. Feel free to contact me for advice.   \n",
    "\n",
    "## Custom Results Directory\n",
    "By default the parameter estimation data files are saved to a folder defined by the `results_directory` keyword. By default this is `MultipleParameterEstimationResults` in the same directory as your model. It is sometimes useful to have control over where the results go (testing slight variations in estimation settings for example). Changing the `results_directory` argument specifies a different directory to put the results in (PyCoTools creates it if it does not exist). "
   ]
  },
  {
   "cell_type": "code",
   "execution_count": 4,
   "metadata": {
    "collapsed": false,
    "deletable": true,
    "editable": true,
    "scrolled": false
   },
   "outputs": [
    {
     "name": "stdout",
     "output_type": "stream",
     "text": [
      "DEBUG:PyCoTools.pycopi:pycopi:108:copasi file Kholodenko.cps has been parsed into Python\n",
      "DEBUG:PyCoTools.pycopi:pycopi:3760:Performing multi parameter fit for model at:\n",
      "C:\\Users\\Ciaran\\Documents\\PyCoTools\\PyCoTools\\PyCoToolsTutorial\\Kholodenko.cps\n",
      "DEBUG:PyCoTools.pycopi:pycopi:3999:Using default report name:\n",
      "C:\\Users\\Ciaran\\Documents\\PyCoTools\\PyCoTools\\PyCoToolsTutorial\\ParameterFit.txt\n",
      "DEBUG:PyCoTools.pycopi:pycopi:4008:config_filename is None. Reassigning config_filename\n",
      "INFO:PyCoTools.pycopi:pycopi:4043:creating a directory for analysis in : \n",
      "\n",
      "C:\\Users\\Ciaran\\Documents\\PyCoTools\\PyCoTools\\PyCoToolsTutorial\\Fit1Results\n",
      "DEBUG:PyCoTools.pycopi:pycopi:4056:Enumerating PE report files\n",
      "DEBUG:PyCoTools.pycopi:pycopi:3858:Create an instance of ParameterEstimation\n",
      "DEBUG:PyCoTools.pycopi:pycopi:108:copasi file Kholodenko.cps has been parsed into Python\n",
      "DEBUG:PyCoTools.pycopi:pycopi:108:copasi file Kholodenko.cps has been parsed into Python\n",
      "INFO:PyCoTools.pycopi:pycopi:3939:writing PE config template for model: C:\\Users\\Ciaran\\Documents\\PyCoTools\\PyCoTools\\PyCoToolsTutorial\\Kholodenko.cps\n",
      "DEBUG:PyCoTools.pycopi:pycopi:3940:config_filename is C:\\Users\\Ciaran\\Documents\\PyCoTools\\PyCoTools\\PyCoToolsTutorial\\PEConfigFile.xlsx\n",
      "WARNING:PyCoTools.pycopi:pycopi:3879:set_up method is deprecated. Use setup() method instead\n",
      "WARNING:PyCoTools.pycopi:pycopi:3099:The set_up method is deprecated. Use setup() method instead\n",
      "DEBUG:PyCoTools.pycopi:pycopi:108:copasi file Kholodenko.cps has been parsed into Python\n",
      "DEBUG:PyCoTools.pycopi:pycopi:108:copasi file Kholodenko.cps has been parsed into Python\n",
      "DEBUG:PyCoTools.pycopi:pycopi:1968:Removing all pre-existing experiments from copasi mapping interface\n",
      "DEBUG:PyCoTools.pycopi:pycopi:1971:Mapping experiment MultipleParameterEstimationData.txt\n",
      "DEBUG:PyCoTools.pycopi:pycopi:119:model written to C:\\Users\\Ciaran\\Documents\\PyCoTools\\PyCoTools\\PyCoToolsTutorial\\Kholodenko.cps\n",
      "DEBUG:PyCoTools.pycopi:pycopi:119:model written to C:\\Users\\Ciaran\\Documents\\PyCoTools\\PyCoTools\\PyCoToolsTutorial\\Kholodenko.cps\n",
      "DEBUG:PyCoTools.pycopi:pycopi:108:copasi file Kholodenko.cps has been parsed into Python\n",
      "DEBUG:PyCoTools.pycopi:pycopi:108:copasi file Kholodenko.cps has been parsed into Python\n",
      "DEBUG:PyCoTools.pycopi:pycopi:939:created a 'parameter_estimation' report\n",
      "INFO:PyCoTools.pycopi:pycopi:924:footer is: <Element Footer at 0xbcda9c8>\n",
      "DEBUG:PyCoTools.pycopi:pycopi:929:Reports PE setup copasiML <Element {http://www.copasi.org/static/schema}COPASI at 0xbcd7dc8>\n",
      "DEBUG:PyCoTools.pycopi:pycopi:119:model written to C:\\Users\\Ciaran\\Documents\\PyCoTools\\PyCoTools\\PyCoToolsTutorial\\Kholodenko.cps\n",
      "DEBUG:PyCoTools.pycopi:pycopi:119:model written to C:\\Users\\Ciaran\\Documents\\PyCoTools\\PyCoTools\\PyCoToolsTutorial\\Kholodenko.cps\n",
      "INFO:PyCoTools.pycopi:pycopi:3921:Copying copasi file 4 times\n",
      "INFO:PyCoTools.pycopi:pycopi:3957:setting up scan for model : C:\\Users\\Ciaran\\Documents\\PyCoTools\\PyCoTools\\PyCoToolsTutorial\\Kholodenko.cps\n",
      "DEBUG:PyCoTools.pycopi:pycopi:108:copasi file Kholodenko.cps has been parsed into Python\n",
      "DEBUG:PyCoTools.pycopi:pycopi:108:copasi file Kholodenko.cps has been parsed into Python\n",
      "INFO:PyCoTools.pycopi:pycopi:3957:setting up scan for model : C:\\Users\\Ciaran\\Documents\\PyCoTools\\PyCoTools\\PyCoToolsTutorial\\Kholodenko_1.cps\n",
      "DEBUG:PyCoTools.pycopi:pycopi:3303:kwargs[scan_type is: repeat\n",
      "DEBUG:PyCoTools.pycopi:pycopi:3305:scan type to number tuple: ('scan', 1)\n",
      "DEBUG:PyCoTools.pycopi:pycopi:3305:scan type to number tuple: ('repeat', 0)\n",
      "DEBUG:PyCoTools.pycopi:pycopi:3305:scan type to number tuple: ('random_sampling', 2)\n",
      "DEBUG:PyCoTools.pycopi:pycopi:108:copasi file Kholodenko_1.cps has been parsed into Python\n",
      "DEBUG:PyCoTools.pycopi:pycopi:108:copasi file Kholodenko_1.cps has been parsed into Python\n",
      "INFO:PyCoTools.pycopi:pycopi:3957:setting up scan for model : C:\\Users\\Ciaran\\Documents\\PyCoTools\\PyCoTools\\PyCoToolsTutorial\\Kholodenko_2.cps\n",
      "DEBUG:PyCoTools.pycopi:pycopi:119:model written to C:\\Users\\Ciaran\\Documents\\PyCoTools\\PyCoTools\\PyCoToolsTutorial\\Kholodenko.cps\n",
      "INFO:root:pycopi:3361:defining report\n",
      "DEBUG:PyCoTools.pycopi:pycopi:3303:kwargs[scan_type is: repeat\n",
      "DEBUG:PyCoTools.pycopi:pycopi:108:copasi file Kholodenko.cps has been parsed into Python\n",
      "DEBUG:PyCoTools.pycopi:pycopi:3305:scan type to number tuple: ('scan', 1)\n",
      "DEBUG:PyCoTools.pycopi:pycopi:108:copasi file Kholodenko_2.cps has been parsed into Python\n",
      "DEBUG:PyCoTools.pycopi:pycopi:108:copasi file Kholodenko.cps has been parsed into Python\n",
      "DEBUG:PyCoTools.pycopi:pycopi:3305:scan type to number tuple: ('repeat', 0)\n",
      "DEBUG:PyCoTools.pycopi:pycopi:108:copasi file Kholodenko_2.cps has been parsed into Python\n",
      "DEBUG:PyCoTools.pycopi:pycopi:3305:scan type to number tuple: ('random_sampling', 2)\n",
      "INFO:PyCoTools.pycopi:pycopi:3957:setting up scan for model : C:\\Users\\Ciaran\\Documents\\PyCoTools\\PyCoTools\\PyCoToolsTutorial\\Kholodenko_3.cps\n",
      "DEBUG:PyCoTools.pycopi:pycopi:3303:kwargs[scan_type is: repeat\n",
      "DEBUG:PyCoTools.pycopi:pycopi:119:model written to C:\\Users\\Ciaran\\Documents\\PyCoTools\\PyCoTools\\PyCoToolsTutorial\\Kholodenko_1.cps\n",
      "DEBUG:PyCoTools.pycopi:pycopi:939:created a 'parameter_estimation' report\n",
      "DEBUG:PyCoTools.pycopi:pycopi:3305:scan type to number tuple: ('scan', 1)\n",
      "INFO:root:pycopi:3361:defining report\n",
      "DEBUG:PyCoTools.pycopi:pycopi:108:copasi file Kholodenko_3.cps has been parsed into Python\n",
      "INFO:PyCoTools.pycopi:pycopi:924:footer is: <Element Footer at 0xbff1cc8>\n",
      "DEBUG:PyCoTools.pycopi:pycopi:3305:scan type to number tuple: ('repeat', 0)\n",
      "DEBUG:PyCoTools.pycopi:pycopi:108:copasi file Kholodenko_1.cps has been parsed into Python\n",
      "DEBUG:PyCoTools.pycopi:pycopi:108:copasi file Kholodenko_3.cps has been parsed into Python\n",
      "DEBUG:PyCoTools.pycopi:pycopi:929:Reports PE setup copasiML <Element {http://www.copasi.org/static/schema}COPASI at 0xbcc9988>\n",
      "DEBUG:PyCoTools.pycopi:pycopi:3305:scan type to number tuple: ('random_sampling', 2)\n",
      "DEBUG:PyCoTools.pycopi:pycopi:108:copasi file Kholodenko_1.cps has been parsed into Python\n",
      "DEBUG:PyCoTools.pycopi:pycopi:119:model written to C:\\Users\\Ciaran\\Documents\\PyCoTools\\PyCoTools\\PyCoToolsTutorial\\Kholodenko.cps\n",
      "DEBUG:PyCoTools.pycopi:pycopi:119:model written to C:\\Users\\Ciaran\\Documents\\PyCoTools\\PyCoTools\\PyCoToolsTutorial\\Kholodenko_2.cps\n",
      "DEBUG:PyCoTools.pycopi:pycopi:3303:kwargs[scan_type is: repeat\n",
      "DEBUG:PyCoTools.pycopi:pycopi:3452:output during subtask value is: false\n",
      "INFO:root:pycopi:3361:defining report\n",
      "DEBUG:PyCoTools.pycopi:pycopi:3305:scan type to number tuple: ('scan', 1)\n",
      "DEBUG:PyCoTools.pycopi:pycopi:939:created a 'parameter_estimation' report\n",
      "DEBUG:PyCoTools.pycopi:pycopi:119:model written to C:\\Users\\Ciaran\\Documents\\PyCoTools\\PyCoTools\\PyCoToolsTutorial\\Kholodenko.cps\n",
      "DEBUG:PyCoTools.pycopi:pycopi:108:copasi file Kholodenko_2.cps has been parsed into Python\n",
      "DEBUG:PyCoTools.pycopi:pycopi:3305:scan type to number tuple: ('repeat', 0)\n",
      "INFO:PyCoTools.pycopi:pycopi:924:footer is: <Element Footer at 0xc021bc8>\n",
      "DEBUG:PyCoTools.pycopi:pycopi:108:copasi file Kholodenko.cps has been parsed into Python\n",
      "DEBUG:PyCoTools.pycopi:pycopi:108:copasi file Kholodenko_2.cps has been parsed into Python\n",
      "DEBUG:PyCoTools.pycopi:pycopi:3305:scan type to number tuple: ('random_sampling', 2)\n",
      "DEBUG:PyCoTools.pycopi:pycopi:929:Reports PE setup copasiML <Element {http://www.copasi.org/static/schema}COPASI at 0xc021548>\n",
      "DEBUG:PyCoTools.pycopi:pycopi:108:copasi file Kholodenko.cps has been parsed into Python\n",
      "DEBUG:PyCoTools.pycopi:pycopi:119:model written to C:\\Users\\Ciaran\\Documents\\PyCoTools\\PyCoTools\\PyCoToolsTutorial\\Kholodenko_1.cps\n",
      "DEBUG:PyCoTools.pycopi:pycopi:119:model written to C:\\Users\\Ciaran\\Documents\\PyCoTools\\PyCoTools\\PyCoToolsTutorial\\Kholodenko.cps\n",
      "INFO:PyCoTools.pycopi:pycopi:3990:Setup Took 2.22899985313 seconds\n",
      "INFO:PyCoTools.pycopi:pycopi:3965:<PyCoTools.pycopi.Scan instance at 0x000000000BCD7F88>\n",
      "DEBUG:PyCoTools.pycopi:pycopi:119:model written to C:\\Users\\Ciaran\\Documents\\PyCoTools\\PyCoTools\\PyCoToolsTutorial\\Kholodenko_3.cps\n",
      "INFO:root:pycopi:3361:defining report\n",
      "DEBUG:PyCoTools.pycopi:pycopi:108:copasi file Kholodenko_3.cps has been parsed into Python\n",
      "DEBUG:PyCoTools.pycopi:pycopi:108:copasi file Kholodenko_3.cps has been parsed into Python\n",
      "DEBUG:PyCoTools.pycopi:pycopi:3452:output during subtask value is: false\n",
      "INFO:PyCoTools.pycopi:pycopi:3898:running model: 0\n",
      "DEBUG:PyCoTools.pycopi:pycopi:939:created a 'parameter_estimation' report\n",
      "DEBUG:PyCoTools.pycopi:pycopi:119:model written to C:\\Users\\Ciaran\\Documents\\PyCoTools\\PyCoTools\\PyCoToolsTutorial\\Kholodenko_1.cps\n",
      "DEBUG:PyCoTools.pycopi:pycopi:108:copasi file Kholodenko.cps has been parsed into Python\n",
      "INFO:PyCoTools.pycopi:pycopi:924:footer is: <Element Footer at 0xafa14c8>\n",
      "DEBUG:PyCoTools.pycopi:pycopi:108:copasi file Kholodenko_1.cps has been parsed into Python\n",
      "DEBUG:PyCoTools.pycopi:pycopi:108:copasi file Kholodenko.cps has been parsed into Python\n",
      "DEBUG:PyCoTools.pycopi:pycopi:929:Reports PE setup copasiML <Element {http://www.copasi.org/static/schema}COPASI at 0xbcb0648>\n",
      "DEBUG:PyCoTools.pycopi:pycopi:108:copasi file Kholodenko_1.cps has been parsed into Python\n",
      "DEBUG:PyCoTools.pycopi:pycopi:119:model written to C:\\Users\\Ciaran\\Documents\\PyCoTools\\PyCoTools\\PyCoToolsTutorial\\Kholodenko.cps\n",
      "DEBUG:PyCoTools.pycopi:pycopi:119:model written to C:\\Users\\Ciaran\\Documents\\PyCoTools\\PyCoTools\\PyCoToolsTutorial\\Kholodenko_2.cps\n",
      "INFO:PyCoTools.pycopi:pycopi:3898:running model: 1\n",
      "DEBUG:PyCoTools.pycopi:pycopi:119:model written to C:\\Users\\Ciaran\\Documents\\PyCoTools\\PyCoTools\\PyCoToolsTutorial\\Kholodenko_1.cps\n",
      "DEBUG:PyCoTools.pycopi:pycopi:939:created a 'parameter_estimation' report\n",
      "INFO:PyCoTools.pycopi:pycopi:3990:Setup Took 2.70200014114 seconds\n",
      "DEBUG:PyCoTools.pycopi:pycopi:108:copasi file Kholodenko_1.cps has been parsed into Python\n",
      "INFO:PyCoTools.pycopi:pycopi:924:footer is: <Element Footer at 0xbccac08>\n",
      "DEBUG:PyCoTools.pycopi:pycopi:108:copasi file Kholodenko_1.cps has been parsed into Python\n",
      "DEBUG:PyCoTools.pycopi:pycopi:929:Reports PE setup copasiML <Element {http://www.copasi.org/static/schema}COPASI at 0xbcdcf48>\n",
      "DEBUG:PyCoTools.pycopi:pycopi:3452:output during subtask value is: false\n",
      "DEBUG:PyCoTools.pycopi:pycopi:119:model written to C:\\Users\\Ciaran\\Documents\\PyCoTools\\PyCoTools\\PyCoToolsTutorial\\Kholodenko_3.cps\n",
      "DEBUG:PyCoTools.pycopi:pycopi:119:model written to C:\\Users\\Ciaran\\Documents\\PyCoTools\\PyCoTools\\PyCoToolsTutorial\\Kholodenko_2.cps\n",
      "DEBUG:PyCoTools.pycopi:pycopi:108:copasi file Kholodenko_2.cps has been parsed into Python\n",
      "DEBUG:PyCoTools.pycopi:pycopi:119:model written to C:\\Users\\Ciaran\\Documents\\PyCoTools\\PyCoTools\\PyCoToolsTutorial\\Kholodenko_1.cps\n",
      "DEBUG:PyCoTools.pycopi:pycopi:108:copasi file Kholodenko_2.cps has been parsed into Python\n",
      "INFO:PyCoTools.pycopi:pycopi:3898:running model: 2\n",
      "DEBUG:PyCoTools.pycopi:pycopi:119:model written to C:\\Users\\Ciaran\\Documents\\PyCoTools\\PyCoTools\\PyCoToolsTutorial\\Kholodenko_2.cps\n",
      "DEBUG:PyCoTools.pycopi:pycopi:3452:output during subtask value is: false\n",
      "DEBUG:PyCoTools.pycopi:pycopi:108:copasi file Kholodenko_2.cps has been parsed into Python\n",
      "INFO:PyCoTools.pycopi:pycopi:3990:Setup Took 2.90999984741 seconds\n",
      "DEBUG:PyCoTools.pycopi:pycopi:119:model written to C:\\Users\\Ciaran\\Documents\\PyCoTools\\PyCoTools\\PyCoToolsTutorial\\Kholodenko_3.cps\n",
      "DEBUG:PyCoTools.pycopi:pycopi:108:copasi file Kholodenko_2.cps has been parsed into Python\n",
      "DEBUG:PyCoTools.pycopi:pycopi:108:copasi file Kholodenko_3.cps has been parsed into Python\n",
      "DEBUG:PyCoTools.pycopi:pycopi:119:model written to C:\\Users\\Ciaran\\Documents\\PyCoTools\\PyCoTools\\PyCoToolsTutorial\\Kholodenko_2.cps\n",
      "DEBUG:PyCoTools.pycopi:pycopi:108:copasi file Kholodenko_3.cps has been parsed into Python\n",
      "INFO:PyCoTools.pycopi:pycopi:3898:running model: 3\n",
      "DEBUG:PyCoTools.pycopi:pycopi:119:model written to C:\\Users\\Ciaran\\Documents\\PyCoTools\\PyCoTools\\PyCoToolsTutorial\\Kholodenko_3.cps\n",
      "DEBUG:PyCoTools.pycopi:pycopi:108:copasi file Kholodenko_3.cps has been parsed into Python\n",
      "INFO:PyCoTools.pycopi:pycopi:3990:Setup Took 2.64299988747 seconds\n",
      "DEBUG:PyCoTools.pycopi:pycopi:108:copasi file Kholodenko_3.cps has been parsed into Python\n",
      "DEBUG:PyCoTools.pycopi:pycopi:119:model written to C:\\Users\\Ciaran\\Documents\\PyCoTools\\PyCoTools\\PyCoToolsTutorial\\Kholodenko_3.cps\n"
     ]
    }
   ],
   "source": [
    "import pandas,os,PyCoTools\n",
    "results_directory = 'Fit1Results'\n",
    "RMPE=PyCoTools.pycopi.RunMultiplePEs(kholodenko_model,data_report,\n",
    "                                     copy_number=4,\n",
    "                                     pe_number=2,\n",
    "                                     results_directory = results_directory,\n",
    "                                     append = False)\n",
    "RMPE.write_config_template()\n",
    "RMPE.set_up()\n",
    "RMPE.run()"
   ]
  },
  {
   "cell_type": "markdown",
   "metadata": {
    "deletable": true,
    "editable": true
   },
   "source": [
    "Copasi does not offer a way of giving parameter estimation data appropriate headers. outputing column headings so we have to use a workaround. To get parameter estimation data files with meaningful headers, wait until all the Copasi simulation engines are finished running and then use the `format_output()` method of the RunMultiplePEs class. To monitor progress, look either at the task manager or for when the size of the output files changes from 0kb. "
   ]
  },
  {
   "cell_type": "code",
   "execution_count": 5,
   "metadata": {
    "collapsed": false
   },
   "outputs": [
    {
     "ename": "AttributeError",
     "evalue": "RunMultiplePEs instance has no attribute '__getitem__'",
     "traceback": [
      "\u001b[1;31m---------------------------------------------------------------------------\u001b[0m",
      "\u001b[1;31mAttributeError\u001b[0m                            Traceback (most recent call last)",
      "\u001b[1;32m<ipython-input-5-b2099f7f77b0>\u001b[0m in \u001b[0;36m<module>\u001b[1;34m()\u001b[0m\n\u001b[1;32m----> 1\u001b[1;33m \u001b[1;32mprint\u001b[0m \u001b[0mpandas\u001b[0m\u001b[1;33m.\u001b[0m\u001b[0mread_csv\u001b[0m\u001b[1;33m(\u001b[0m\u001b[0mRMPE\u001b[0m\u001b[1;33m[\u001b[0m\u001b[1;34m'results_directory'\u001b[0m\u001b[1;33m]\u001b[0m\u001b[1;33m)\u001b[0m\u001b[1;33m\u001b[0m\u001b[0m\n\u001b[0m",
      "\u001b[1;31mAttributeError\u001b[0m: RunMultiplePEs instance has no attribute '__getitem__'"
     ],
     "output_type": "error"
    }
   ],
   "source": [
    "print pandas.read_csv(RMPE['results_directory'])"
   ]
  },
  {
   "cell_type": "code",
   "execution_count": null,
   "metadata": {
    "collapsed": false,
    "deletable": true,
    "editable": true,
    "scrolled": false
   },
   "outputs": [],
   "source": [
    "RMPE.format_output()"
   ]
  },
  {
   "cell_type": "markdown",
   "metadata": {
    "deletable": true,
    "editable": true
   },
   "source": [
    "We can now parse the data in the results folder into python directly using the PEAnalysis module. "
   ]
  },
  {
   "cell_type": "code",
   "execution_count": null,
   "metadata": {
    "collapsed": false,
    "deletable": true,
    "editable": true,
    "scrolled": false
   },
   "outputs": [],
   "source": [
    "print PyCoTools.PEAnalysis.ParsePEData(RMPE.kwargs['results_directory']).data.transpose()"
   ]
  },
  {
   "cell_type": "markdown",
   "metadata": {
    "deletable": true,
    "editable": true
   },
   "source": [
    "Notice that we tried to run 8 parameter estimations and we only have 4 in the output. This is because we ran (deliberately) the estimations with the `append = False` option. Parameter sets are overwritten when `append=False` so this option needs to be set to `True`. By default the append argument for RunMultiplePEs is set to True to help avert this problem.  "
   ]
  },
  {
   "cell_type": "code",
   "execution_count": null,
   "metadata": {
    "collapsed": false,
    "deletable": true,
    "editable": true
   },
   "outputs": [],
   "source": [
    "import pandas,os,PyCoTools\n",
    "results_directory = 'Fit2Results'\n",
    "RMPE=PyCoTools.pycopi.RunMultiplePEs(kholodenko_model,data_report,\n",
    "                                     copy_number=4,\n",
    "                                     pe_number=2,\n",
    "                                     results_directory = results_directory,\n",
    "                                     append = True)\n",
    "RMPE.write_config_template()\n",
    "RMPE.set_up()\n",
    "RMPE.run()"
   ]
  },
  {
   "cell_type": "code",
   "execution_count": null,
   "metadata": {
    "collapsed": false,
    "deletable": true,
    "editable": true
   },
   "outputs": [],
   "source": [
    "RMPE.format_output()\n",
    "\n",
    "## visualize the data using boxplots\n",
    "PyCoTools.PEAnalysis.PlotBoxplot(RMPE.kwargs['results_directory'])"
   ]
  }
 ],
 "metadata": {
  "kernelspec": {
   "display_name": "Python 2",
   "language": "python",
   "name": "python2"
  },
  "language_info": {
   "codemirror_mode": {
    "name": "ipython",
    "version": 2.0
   },
   "file_extension": ".py",
   "mimetype": "text/x-python",
   "name": "python",
   "nbconvert_exporter": "python",
   "pygments_lexer": "ipython2",
   "version": "2.7.11"
  }
 },
 "nbformat": 4,
 "nbformat_minor": 0
}