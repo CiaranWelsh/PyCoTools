{
 "cells": [
  {
   "cell_type": "markdown",
   "metadata": {
    "collapsed": true,
    "deletable": true,
    "editable": true
   },
   "source": [
    "# Multiple Parameter Estimations\n",
    "It is often desirable to run a single optimization problem many time in order to analyse the results. In copasi this is fairly easy simply by using the `repeat` scan item. In PyCoTools we can use the `runMultiplePEs` class to the same end.   \n",
    "\n",
    "## Get Handle to Model"
   ]
  },
  {
   "cell_type": "code",
   "execution_count": 1,
   "metadata": {
    "collapsed": false,
    "deletable": true,
    "editable": true
   },
   "outputs": [
    {
     "name": "stdout",
     "output_type": "stream",
     "text": [
      "C:\\Users\\Ciaran\\Documents\\PyCoTools\\PyCoTools\\PyCoToolsTutorial\\Kholodenko.cps\n",
      "True\n"
     ]
    }
   ],
   "source": [
    "%matplotlib inline\n",
    "import os,glob\n",
    "\n",
    "for i in glob.glob('*kholodenko.cps'):\n",
    "    kholodenko_model= os.path.abspath(i)\n",
    "    \n",
    "print kholodenko_model\n",
    "print os.path.isfile(kholodenko_model)"
   ]
  },
  {
   "cell_type": "markdown",
   "metadata": {
    "deletable": true,
    "editable": true
   },
   "source": [
    "## Generate Synthetic Data"
   ]
  },
  {
   "cell_type": "code",
   "execution_count": 2,
   "metadata": {
    "collapsed": false,
    "deletable": true,
    "editable": true,
    "scrolled": true
   },
   "outputs": [
    {
     "ename": "SyntaxError",
     "evalue": "invalid syntax (PEAnalysis.py, line 418)",
     "output_type": "error",
     "traceback": [
      "\u001b[1;36m  File \u001b[1;32m\"C:\\Users\\Ciaran\\Documents\\PyCoTools\\PyCoTools\\PEAnalysis.py\"\u001b[1;36m, line \u001b[1;32m418\u001b[0m\n\u001b[1;33m    'truncate_mode':'percent'', #either 'below_x' or 'percent' for method of truncation.\u001b[0m\n\u001b[1;37m                                               ^\u001b[0m\n\u001b[1;31mSyntaxError\u001b[0m\u001b[1;31m:\u001b[0m invalid syntax\n"
     ]
    }
   ],
   "source": [
    "import site\n",
    "site.addsitedir('C:\\Users\\Ciaran\\Documents\\PyCoTools')\n",
    "\n",
    "import pandas,os,PyCoTools\n",
    "\n",
    "data_report='MultipleParameterEstimationData.txt'\n",
    "##Simulate some synthetic data\n",
    "TC=PyCoTools.pycopi.TimeCourse(kholodenko_model,end=1000,step_size=100,\n",
    "                               intervals=10,\n",
    "                               report_name=data_report)"
   ]
  },
  {
   "cell_type": "markdown",
   "metadata": {
    "deletable": true,
    "editable": true
   },
   "source": [
    "# The RunMultiplePEs Class\n",
    "The RunMultiplePEs class essentially is an interface to the ParameterEstimation class and as such accepts most of the same keyword parameters and works in nearly the same way. The two notable differences are:\n",
    "\n",
    "    1. `copy_number`\n",
    "    2. `pe_number` \n",
    "\n",
    "`RunMultiplePEs` takes a copasi file, copies it `copy_number` times and sets up a scan task with a repeat item in each of them. The number of parameter estimations that will run per copied model is set using the `pe_number` kwarg. Therefore the total number of estimations that can be carried out simultaneously is `copy_number*pe_number`.  "
   ]
  },
  {
   "cell_type": "code",
   "execution_count": null,
   "metadata": {
    "collapsed": false,
    "deletable": true,
    "editable": true
   },
   "outputs": [],
   "source": [
    "import pandas,os,PyCoTools\n",
    "RMPE=PyCoTools.pycopi.RunMultiplePEs(kholodenko_model,data_report,\n",
    "                                     copy_number=4,\n",
    "                                     pe_number=2) #--> 8 total\n",
    "RMPE.write_config_template()\n",
    "RMPE.set_up()\n",
    "RMPE.run()"
   ]
  },
  {
   "cell_type": "markdown",
   "metadata": {
    "deletable": true,
    "editable": true
   },
   "source": [
    "All models are executed using CopasiSE at the same time. For this reason, if you have too many models running at once on a single machine, the machine will slow and be unusable until the estimations have finished. My own machine (i7, 16GB RAM) can comfortably run around 6 or 7 models at once before things start to slow. If using a SunGridEngine based job scheduler you can use `run = SGE` to submit the jobs automatically. If your using a different job scheduler it is straight forward to write another function within the `pycopi.Run` class to support your scheduler. Feel free to contact me for advice.   \n",
    "\n",
    "## Custom Results Directory\n",
    "By default the parameter estimation data files are saved to a folder defined by the `results_directory` keyword. By default this is `MultipleParameterEstimationResults` in the same directory as your model. It is sometimes useful to have control over where the results go (testing slight variations in estimation settings for example). Changing the `results_directory` argument specifies a different directory to put the results in (PyCoTools creates it if it does not exist). "
   ]
  },
  {
   "cell_type": "code",
   "execution_count": null,
   "metadata": {
    "collapsed": false,
    "deletable": true,
    "editable": true,
    "scrolled": false
   },
   "outputs": [],
   "source": [
    "import pandas,os,PyCoTools\n",
    "results_directory = 'Fit1Results'\n",
    "RMPE=PyCoTools.pycopi.RunMultiplePEs(kholodenko_model,data_report,\n",
    "                                     copy_number=4,\n",
    "                                     pe_number=2,\n",
    "                                     results_directory = results_directory,\n",
    "                                     append = False)\n",
    "RMPE.write_config_template()\n",
    "RMPE.set_up()\n",
    "RMPE.run()"
   ]
  },
  {
   "cell_type": "markdown",
   "metadata": {
    "deletable": true,
    "editable": true
   },
   "source": [
    "By default copasi does not offer a way of outputing column headings so we have to use a workaround. To get parameter estimation data files with meaningful headers, wait until all the Copasi simulation engines are finished running and then use the `format_output()` method of the RunMultiplePEs class. To monitor progress, look either at the task manager or for when the size of the output files changes from 0kb. "
   ]
  },
  {
   "cell_type": "code",
   "execution_count": null,
   "metadata": {
    "collapsed": false,
    "deletable": true,
    "editable": true,
    "scrolled": false
   },
   "outputs": [],
   "source": [
    "RMPE.format_output()"
   ]
  },
  {
   "cell_type": "markdown",
   "metadata": {
    "deletable": true,
    "editable": true
   },
   "source": [
    "We can now parse the data in the results folder into python directly using the PEAnalysis module. "
   ]
  },
  {
   "cell_type": "code",
   "execution_count": null,
   "metadata": {
    "collapsed": false,
    "deletable": true,
    "editable": true,
    "scrolled": false
   },
   "outputs": [],
   "source": [
    "print PyCoTools.PEAnalysis.ParsePEData(RMPE.kwargs['results_directory']).data.transpose()"
   ]
  },
  {
   "cell_type": "markdown",
   "metadata": {},
   "source": [
    "Notice that we tried to run 8 parameter estimations and we only have 4 in the output. This is because we ran (deliberately) the estimations with the `append = False` option. Parameter sets are overwritten when `append=False` so this option needs to be set to `True`. By default the append argument for RunMultiplePEs is set to True to help avert this problem.  "
   ]
  },
  {
   "cell_type": "code",
   "execution_count": null,
   "metadata": {
    "collapsed": false
   },
   "outputs": [],
   "source": [
    "import pandas,os,PyCoTools\n",
    "results_directory = 'Fit2Results'\n",
    "RMPE=PyCoTools.pycopi.RunMultiplePEs(kholodenko_model,data_report,\n",
    "                                     copy_number=4,\n",
    "                                     pe_number=2,\n",
    "                                     results_directory = results_directory,\n",
    "                                     append = True)\n",
    "RMPE.write_config_template()\n",
    "RMPE.set_up()\n",
    "RMPE.run()"
   ]
  },
  {
   "cell_type": "code",
   "execution_count": null,
   "metadata": {
    "collapsed": false
   },
   "outputs": [],
   "source": [
    "RMPE.format_output()\n",
    "\n",
    "## visualize the data using boxplots\n",
    "PyCoTools.PEAnalysis.PlotBoxplot(RMPE.kwargs['results_directory'])"
   ]
  }
 ],
 "metadata": {
  "kernelspec": {
   "display_name": "Python 2",
   "language": "python",
   "name": "python2"
  },
  "language_info": {
   "codemirror_mode": {
    "name": "ipython",
    "version": 2
   },
   "file_extension": ".py",
   "mimetype": "text/x-python",
   "name": "python",
   "nbconvert_exporter": "python",
   "pygments_lexer": "ipython2",
   "version": "2.7.11"
  }
 },
 "nbformat": 4,
 "nbformat_minor": 2
}
