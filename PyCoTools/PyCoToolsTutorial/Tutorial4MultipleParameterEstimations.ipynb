{
 "cells": [
  {
   "cell_type": "markdown",
   "metadata": {
<<<<<<< HEAD
    "collapsed": true,
    "deletable": true,
    "editable": true
   },
   "source": [
    "# Multiple Parameter Estimations\n",
    "It is often desirable to run a single optimization problem many time in order to analyse the results. In copasi this is fairly easy simply by using the `repeat` scan item. In PyCoTools we can use the `runMultiplePEs` class to the same end.   \n",
    "\n",
    "## Get Handle to Model"
=======
    "collapsed": true
   },
   "source": [
    "# Multiple Parameter Estimations\n",
    "It is often desirable to run a single optimization problem many time in order to analyse the results. In copasi this is fairly easy simply by using the `repeat` scan item. In PyCoTools we can use the `runMultiplePEs` class to the same end.   "
>>>>>>> parent of 78db89b... mistake made somewhere down the line as tutorials have disappeared from CopasiVersion19Develop
   ]
  },
  {
   "cell_type": "code",
<<<<<<< HEAD
   "execution_count": 2,
   "metadata": {
    "collapsed": false,
    "deletable": true,
    "editable": true
=======
   "execution_count": 1,
   "metadata": {
    "collapsed": false
>>>>>>> parent of 78db89b... mistake made somewhere down the line as tutorials have disappeared from CopasiVersion19Develop
   },
   "outputs": [
    {
     "name": "stdout",
     "output_type": "stream",
     "text": [
<<<<<<< HEAD
      "C:\\Users\\Ciaran\\Documents\\PyCoTools\\PyCoTools\\PyCoToolsTutorial\\Kholodenko.cps\n",
=======
      "/home/b3053674/Documents/PyCoTools/PyCoTools/PyCoToolsTutorial/Kholodenko_1.cps\n",
>>>>>>> parent of 78db89b... mistake made somewhere down the line as tutorials have disappeared from CopasiVersion19Develop
      "True\n"
     ]
    }
   ],
   "source": [
    "%matplotlib inline\n",
    "import os,glob\n",
    "\n",
<<<<<<< HEAD
    "for i in glob.glob('*kholodenko.cps'):\n",
=======
    "for i in glob.glob('*.cps'):\n",
>>>>>>> parent of 78db89b... mistake made somewhere down the line as tutorials have disappeared from CopasiVersion19Develop
    "    kholodenko_model= os.path.abspath(i)\n",
    "    \n",
    "print kholodenko_model\n",
    "print os.path.isfile(kholodenko_model)"
   ]
  },
  {
   "cell_type": "markdown",
<<<<<<< HEAD
   "metadata": {
    "deletable": true,
    "editable": true
   },
   "source": [
    "## Generate Synthetic Data"
=======
   "metadata": {},
   "source": [
    "First lets generate some synthetic data for fitting"
>>>>>>> parent of 78db89b... mistake made somewhere down the line as tutorials have disappeared from CopasiVersion19Develop
   ]
  },
  {
   "cell_type": "code",
   "execution_count": 3,
   "metadata": {
<<<<<<< HEAD
    "collapsed": false,
    "deletable": true,
    "editable": true,
    "scrolled": true
   },
   "outputs": [
    {
     "name": "stdout",
     "output_type": "stream",
     "text": [
      "INFO:root:__init__:26:Initializing PyCoTools\n",
      "INFO:root:__init__:27:Initializing logging System\n",
      "INFO:root:__init__:28:logging config file at: C:\\Users\\Ciaran\\Documents\\PyCoTools\\PyCoTools\\logging_config.conf\n"
     ]
    }
   ],
   "source": [
    "import site\n",
    "site.addsitedir('C:\\Users\\Ciaran\\Documents\\PyCoTools')\n",
    "\n",
=======
    "collapsed": false
   },
   "outputs": [],
   "source": [
>>>>>>> parent of 78db89b... mistake made somewhere down the line as tutorials have disappeared from CopasiVersion19Develop
    "import pandas,os,PyCoTools\n",
    "\n",
    "data_report='MultipleParameterEstimationData.txt'\n",
    "##Simulate some synthetic data\n",
<<<<<<< HEAD
    "TC=PyCoTools.pycopi.TimeCourse(kholodenko_model,end=1000,step_size=100,\n",
    "                               intervals=10,\n",
=======
    "TC=PyCoTools.pycopi.TimeCourse(kholodenko_model,End=1000,StepSize=1,\n",
    "                               Intervals=1000,\n",
>>>>>>> parent of 78db89b... mistake made somewhere down the line as tutorials have disappeared from CopasiVersion19Develop
    "                               report_name=data_report)"
   ]
  },
  {
   "cell_type": "markdown",
<<<<<<< HEAD
   "metadata": {
    "deletable": true,
    "editable": true
   },
   "source": [
    "# The RunMultiplePEs Class\n",
    "The RunMultiplePEs class is an interface to the ParameterEstimation class and accepts all of the same keyword parameters with a few extra:\n",
    "\n",
    "    1. `copy_number`          --> Number of times to copy a copasi file. All of these will be run simultaneously. \n",
    "    2. `pe_number`            --> How many parameter estimations to conduct **per model**\n",
    "    3. `results_directory`    --> Name of the directory to put the results (created if not exists)\n",
    "\n",
    "The total number of estimations that can be carried out simultaneously is $copy\\_number\\cdot pe\\_number$.  "
   ]
  },
  {
   "cell_type": "code",
   "execution_count": 3,
   "metadata": {
    "collapsed": false,
    "deletable": true,
    "editable": true
   },
   "outputs": [
    {
     "name": "stdout",
     "output_type": "stream",
     "text": [
      "INFO:PyCoTools.pycopi:pycopi:4043:creating a directory for analysis in : \n",
      "\n",
      "C:\\Users\\Ciaran\\Documents\\PyCoTools\\PyCoTools\\PyCoToolsTutorial\\MultipleParameterEstimationResults\n",
      "INFO:PyCoTools.pycopi:pycopi:3939:writing PE config template for model: C:\\Users\\Ciaran\\Documents\\PyCoTools\\PyCoTools\\PyCoToolsTutorial\\Kholodenko.cps\n",
      "WARNING:PyCoTools.pycopi:pycopi:3879:set_up method is deprecated. Use setup() method instead\n",
      "WARNING:PyCoTools.pycopi:pycopi:3099:The set_up method is deprecated. Use setup() method instead\n",
      "INFO:PyCoTools.pycopi:pycopi:924:footer is: <Element Footer at 0xb000ac8>\n",
      "INFO:PyCoTools.pycopi:pycopi:3921:Copying copasi file 4 times\n",
      "INFO:PyCoTools.pycopi:pycopi:3957:setting up scan for model : C:\\Users\\Ciaran\\Documents\\PyCoTools\\PyCoTools\\PyCoToolsTutorial\\Kholodenko.cps\n",
      "INFO:PyCoTools.pycopi:pycopi:3957:setting up scan for model : C:\\Users\\Ciaran\\Documents\\PyCoTools\\PyCoTools\\PyCoToolsTutorial\\Kholodenko_1.cps\n",
      "INFO:root:pycopi:3361:defining report\n",
      "INFO:PyCoTools.pycopi:pycopi:3957:setting up scan for model : C:\\Users\\Ciaran\\Documents\\PyCoTools\\PyCoTools\\PyCoToolsTutorial\\Kholodenko_2.cps\n",
      "INFO:PyCoTools.pycopi:pycopi:924:footer is: <Element Footer at 0xbc64e48>\n",
      "INFO:PyCoTools.pycopi:pycopi:3957:setting up scan for model : C:\\Users\\Ciaran\\Documents\\PyCoTools\\PyCoTools\\PyCoToolsTutorial\\Kholodenko_3.cps\n",
      "INFO:root:pycopi:3361:defining report\n",
      "INFO:root:pycopi:3361:defining report\n",
      "INFO:PyCoTools.pycopi:pycopi:924:footer is: <Element Footer at 0xbc87ec8>\n",
      "INFO:root:pycopi:3361:defining report\n",
      "INFO:PyCoTools.pycopi:pycopi:3990:Setup Took 0.669999837875 seconds\n",
      "INFO:PyCoTools.pycopi:pycopi:3965:<PyCoTools.pycopi.Scan instance at 0x000000000BCA59C8>\n",
      "INFO:PyCoTools.pycopi:pycopi:3898:running model: 0\n",
      "INFO:PyCoTools.pycopi:pycopi:924:footer is: <Element Footer at 0xbc87848>\n",
      "INFO:PyCoTools.pycopi:pycopi:3898:running model: 1\n",
      "INFO:PyCoTools.pycopi:pycopi:924:footer is: <Element Footer at 0xbc63188>\n",
      "INFO:PyCoTools.pycopi:pycopi:3990:Setup Took 0.917999982834 seconds\n",
      "INFO:PyCoTools.pycopi:pycopi:3898:running model: 2\n",
      "INFO:PyCoTools.pycopi:pycopi:3990:Setup Took 0.982000112534 seconds\n",
      "INFO:PyCoTools.pycopi:pycopi:3898:running model: 3\n",
      "INFO:PyCoTools.pycopi:pycopi:3990:Setup Took 0.993000030518 seconds\n"
     ]
    }
   ],
   "source": [
    "import pandas,os,PyCoTools\n",
    "RMPE=PyCoTools.pycopi.RunMultiplePEs(kholodenko_model,data_report,\n",
    "                                     copy_number=4,\n",
    "                                     pe_number=2) #--> 8 total\n",
    "RMPE.write_config_template()\n",
    "RMPE.set_up()\n",
    "RMPE.run()"
   ]
  },
  {
   "cell_type": "markdown",
   "metadata": {
    "deletable": true,
    "editable": true
   },
   "source": [
    "All models are executed using CopasiSE at the same time. For this reason, if you have too many models running at once on a single machine, the machine will slow and be unusable until the estimations have finished. My own machine (i7, 16GB RAM) can comfortably run around 6 or 7 models at once before things start to slow. If using a SunGridEngine based job scheduler you can use `run = SGE` to submit the jobs automatically. If your using a different job scheduler it is straight forward to write another function within the `pycopi.Run` class to support your scheduler. Feel free to contact me for advice.   \n",
    "\n",
    "## Custom Results Directory\n",
    "By default the parameter estimation data files are saved to a folder defined by the `results_directory` keyword. By default this is `MultipleParameterEstimationResults` in the same directory as your model. It is sometimes useful to have control over where the results go (testing slight variations in estimation settings for example). Changing the `results_directory` argument specifies a different directory to put the results in (PyCoTools creates it if it does not exist). "
=======
   "metadata": {},
   "source": [
    "The runMultiplePEs class essentially is an interface to the ParameterEstimation class and as such accepts most of the same keyword parameters and works in nearly the same way. The two notable differences are the `copy_number` and `pe_number` parameters. `runMultiplePEs` takes a copasi file, copies it `copy_number` times and sets up a scan task with a repeat item that has the NumberOfIntervals parameter set to `pe_number`. "
>>>>>>> parent of 78db89b... mistake made somewhere down the line as tutorials have disappeared from CopasiVersion19Develop
   ]
  },
  {
   "cell_type": "code",
<<<<<<< HEAD
   "execution_count": 4,
   "metadata": {
    "collapsed": false,
    "deletable": true,
    "editable": true,
    "scrolled": false
=======
   "execution_count": 9,
   "metadata": {
    "collapsed": false
>>>>>>> parent of 78db89b... mistake made somewhere down the line as tutorials have disappeared from CopasiVersion19Develop
   },
   "outputs": [
    {
     "name": "stdout",
     "output_type": "stream",
     "text": [
<<<<<<< HEAD
      "INFO:PyCoTools.pycopi:pycopi:4051:creating a directory for analysis in : \n",
      "\n",
      "C:\\Users\\Ciaran\\Documents\\PyCoTools\\PyCoTools\\PyCoToolsTutorial\\Fit1Results\n",
      "INFO:PyCoTools.pycopi:pycopi:3947:writing PE config template for model: C:\\Users\\Ciaran\\Documents\\PyCoTools\\PyCoTools\\PyCoToolsTutorial\\Kholodenko.cps\n",
      "WARNING:PyCoTools.pycopi:pycopi:3887:set_up method is deprecated. Use setup() method instead\n",
      "WARNING:PyCoTools.pycopi:pycopi:3098:The set_up method is deprecated. Use setup() method instead\n",
      "INFO:PyCoTools.pycopi:pycopi:3929:Copying copasi file 4 times\n",
      "INFO:PyCoTools.pycopi:pycopi:3965:setting up scan for model : C:\\Users\\Ciaran\\Documents\\PyCoTools\\PyCoTools\\PyCoToolsTutorial\\Kholodenko.cps\n",
      "INFO:PyCoTools.pycopi:pycopi:3965:setting up scan for model : C:\\Users\\Ciaran\\Documents\\PyCoTools\\PyCoTools\\PyCoToolsTutorial\\Kholodenko_1.cps\n",
      "INFO:root:pycopi:3360:defining report\n",
      "INFO:PyCoTools.pycopi:pycopi:3965:setting up scan for model : C:\\Users\\Ciaran\\Documents\\PyCoTools\\PyCoTools\\PyCoToolsTutorial\\Kholodenko_2.cps\n",
      "INFO:PyCoTools.pycopi:pycopi:3965:setting up scan for model : C:\\Users\\Ciaran\\Documents\\PyCoTools\\PyCoTools\\PyCoToolsTutorial\\Kholodenko_3.cps\n",
      "INFO:root:pycopi:3360:defining report\n",
      "INFO:root:pycopi:3360:defining report\n",
      "INFO:root:pycopi:3360:defining report\n",
      "INFO:PyCoTools.pycopi:pycopi:3998:Setup Took 0.884999990463 seconds\n",
      "INFO:PyCoTools.pycopi:pycopi:3973:<PyCoTools.pycopi.Scan instance at 0x000000000BC45B88>\n",
      "INFO:PyCoTools.pycopi:pycopi:3906:running model: 0\n",
      "INFO:PyCoTools.pycopi:pycopi:3906:running model: 1\n",
      "INFO:PyCoTools.pycopi:pycopi:3906:running model: 2\n",
      "INFO:PyCoTools.pycopi:pycopi:3998:Setup Took 2.36600017548 seconds\n",
      "INFO:PyCoTools.pycopi:pycopi:3998:Setup Took 2.27100014687 seconds\n",
      "INFO:PyCoTools.pycopi:pycopi:3906:running model: 3\n",
      "INFO:PyCoTools.pycopi:pycopi:3998:Setup Took 2.32099986076 seconds\n"
=======
      "INFO:PyCoTools.pycopi:pycopi:4455:creating a directory for analysis in : \n",
      "\n",
      "/home/b3053674/Documents/PyCoTools/PyCoTools/PyCoToolsTutorial/MultipleParameterEsimationAnalysis\n",
      "INFO:PyCoTools.pycopi:pycopi:4314:writing PE config template for model: /home/b3053674/Documents/PyCoTools/PyCoTools/PyCoToolsTutorial/Kholodenko_1.cps\n",
      "INFO:PyCoTools.pycopi:pycopi:4435:Copying copasi file 4 times\n",
      "INFO:PyCoTools.pycopi:pycopi:4354:setting up scan for model : /home/b3053674/Documents/PyCoTools/PyCoTools/PyCoToolsTutorial/Kholodenko_1_0.cps\n",
      "INFO:root:pycopi:3466:defining report\n",
      "INFO:PyCoTools.pycopi:pycopi:4354:setting up scan for model : /home/b3053674/Documents/PyCoTools/PyCoTools/PyCoToolsTutorial/Kholodenko_1_1.cps\n",
      "INFO:root:pycopi:3466:defining report\n",
      "INFO:PyCoTools.pycopi:pycopi:4354:setting up scan for model : /home/b3053674/Documents/PyCoTools/PyCoTools/PyCoToolsTutorial/Kholodenko_1_2.cps\n",
      "INFO:root:pycopi:3466:defining report\n",
      "INFO:PyCoTools.pycopi:pycopi:4354:setting up scan for model : /home/b3053674/Documents/PyCoTools/PyCoTools/PyCoToolsTutorial/Kholodenko_1_3.cps\n",
      "INFO:root:pycopi:3466:defining report\n",
      "INFO:PyCoTools.pycopi:pycopi:4379:Setup Took 0.468770980835 seconds\n",
      "INFO:PyCoTools.pycopi:pycopi:4362:<PyCoTools.pycopi.Scan instance at 0x7f7618f1afc8>\n",
      "INFO:PyCoTools.pycopi:pycopi:4302:running model: 0\n",
      "INFO:PyCoTools.pycopi:pycopi:4302:running model: 1\n",
      "INFO:PyCoTools.pycopi:pycopi:4302:running model: 2\n",
      "INFO:PyCoTools.pycopi:pycopi:4302:running model: 3\n",
      "INFO:PyCoTools.pycopi:pycopi:4379:Setup Took 0.726161956787 seconds\n",
      "INFO:PyCoTools.pycopi:pycopi:4379:Setup Took 0.641350030899 seconds\n",
      "INFO:PyCoTools.pycopi:pycopi:4379:Setup Took 0.675270080566 seconds\n"
>>>>>>> parent of 78db89b... mistake made somewhere down the line as tutorials have disappeared from CopasiVersion19Develop
     ]
    }
   ],
   "source": [
    "import pandas,os,PyCoTools\n",
<<<<<<< HEAD
    "results_directory = 'Fit1Results'\n",
    "RMPE=PyCoTools.pycopi.RunMultiplePEs(kholodenko_model,data_report,\n",
    "                                     copy_number=4,\n",
    "                                     pe_number=2,\n",
    "                                     results_directory = results_directory,\n",
    "                                     append = False)\n",
=======
    "RMPE=PyCoTools.pycopi.runMultiplePEs(kholodenko_model,data_report,\n",
    "                                    copy_number=4,pe_number=2,run='multiprocess') #--> 8 total\n",
>>>>>>> parent of 78db89b... mistake made somewhere down the line as tutorials have disappeared from CopasiVersion19Develop
    "RMPE.write_config_template()\n",
    "RMPE.set_up()\n",
    "RMPE.run()"
   ]
  },
  {
   "cell_type": "markdown",
<<<<<<< HEAD
   "metadata": {
    "deletable": true,
    "editable": true
   },
   "source": [
    "Copasi does not offer a way of giving parameter estimation data appropriate headers. outputing column headings so we have to use a workaround. To get parameter estimation data files with meaningful headers, wait until all the Copasi simulation engines are finished running and then use the `format_output()` method of the RunMultiplePEs class. To monitor progress, look either at the task manager or for when the size of the output files changes from 0kb. "
   ]
  },
  {
   "cell_type": "code",
   "execution_count": 5,
   "metadata": {
    "collapsed": false
   },
   "outputs": [
    {
     "ename": "IOError",
     "evalue": "Initializing from file failed",
     "output_type": "error",
     "traceback": [
      "\u001b[1;31m---------------------------------------------------------------------------\u001b[0m",
      "\u001b[1;31mIOError\u001b[0m                                   Traceback (most recent call last)",
      "\u001b[1;32m<ipython-input-5-b2099f7f77b0>\u001b[0m in \u001b[0;36m<module>\u001b[1;34m()\u001b[0m\n\u001b[1;32m----> 1\u001b[1;33m \u001b[1;32mprint\u001b[0m \u001b[0mpandas\u001b[0m\u001b[1;33m.\u001b[0m\u001b[0mread_csv\u001b[0m\u001b[1;33m(\u001b[0m\u001b[0mRMPE\u001b[0m\u001b[1;33m[\u001b[0m\u001b[1;34m'results_directory'\u001b[0m\u001b[1;33m]\u001b[0m\u001b[1;33m)\u001b[0m\u001b[1;33m\u001b[0m\u001b[0m\n\u001b[0m",
      "\u001b[1;32mC:\\Anaconda2\\lib\\site-packages\\pandas\\io\\parsers.pyc\u001b[0m in \u001b[0;36mparser_f\u001b[1;34m(filepath_or_buffer, sep, dialect, compression, doublequote, escapechar, quotechar, quoting, skipinitialspace, lineterminator, header, index_col, names, prefix, skiprows, skipfooter, skip_footer, na_values, true_values, false_values, delimiter, converters, dtype, usecols, engine, delim_whitespace, as_recarray, na_filter, compact_ints, use_unsigned, low_memory, buffer_lines, warn_bad_lines, error_bad_lines, keep_default_na, thousands, comment, decimal, parse_dates, keep_date_col, dayfirst, date_parser, memory_map, float_precision, nrows, iterator, chunksize, verbose, encoding, squeeze, mangle_dupe_cols, tupleize_cols, infer_datetime_format, skip_blank_lines)\u001b[0m\n\u001b[0;32m    496\u001b[0m                     skip_blank_lines=skip_blank_lines)\n\u001b[0;32m    497\u001b[0m \u001b[1;33m\u001b[0m\u001b[0m\n\u001b[1;32m--> 498\u001b[1;33m         \u001b[1;32mreturn\u001b[0m \u001b[0m_read\u001b[0m\u001b[1;33m(\u001b[0m\u001b[0mfilepath_or_buffer\u001b[0m\u001b[1;33m,\u001b[0m \u001b[0mkwds\u001b[0m\u001b[1;33m)\u001b[0m\u001b[1;33m\u001b[0m\u001b[0m\n\u001b[0m\u001b[0;32m    499\u001b[0m \u001b[1;33m\u001b[0m\u001b[0m\n\u001b[0;32m    500\u001b[0m     \u001b[0mparser_f\u001b[0m\u001b[1;33m.\u001b[0m\u001b[0m__name__\u001b[0m \u001b[1;33m=\u001b[0m \u001b[0mname\u001b[0m\u001b[1;33m\u001b[0m\u001b[0m\n",
      "\u001b[1;32mC:\\Anaconda2\\lib\\site-packages\\pandas\\io\\parsers.pyc\u001b[0m in \u001b[0;36m_read\u001b[1;34m(filepath_or_buffer, kwds)\u001b[0m\n\u001b[0;32m    273\u001b[0m \u001b[1;33m\u001b[0m\u001b[0m\n\u001b[0;32m    274\u001b[0m     \u001b[1;31m# Create the parser.\u001b[0m\u001b[1;33m\u001b[0m\u001b[1;33m\u001b[0m\u001b[0m\n\u001b[1;32m--> 275\u001b[1;33m     \u001b[0mparser\u001b[0m \u001b[1;33m=\u001b[0m \u001b[0mTextFileReader\u001b[0m\u001b[1;33m(\u001b[0m\u001b[0mfilepath_or_buffer\u001b[0m\u001b[1;33m,\u001b[0m \u001b[1;33m**\u001b[0m\u001b[0mkwds\u001b[0m\u001b[1;33m)\u001b[0m\u001b[1;33m\u001b[0m\u001b[0m\n\u001b[0m\u001b[0;32m    276\u001b[0m \u001b[1;33m\u001b[0m\u001b[0m\n\u001b[0;32m    277\u001b[0m     \u001b[1;32mif\u001b[0m \u001b[1;33m(\u001b[0m\u001b[0mnrows\u001b[0m \u001b[1;32mis\u001b[0m \u001b[1;32mnot\u001b[0m \u001b[0mNone\u001b[0m\u001b[1;33m)\u001b[0m \u001b[1;32mand\u001b[0m \u001b[1;33m(\u001b[0m\u001b[0mchunksize\u001b[0m \u001b[1;32mis\u001b[0m \u001b[1;32mnot\u001b[0m \u001b[0mNone\u001b[0m\u001b[1;33m)\u001b[0m\u001b[1;33m:\u001b[0m\u001b[1;33m\u001b[0m\u001b[0m\n",
      "\u001b[1;32mC:\\Anaconda2\\lib\\site-packages\\pandas\\io\\parsers.pyc\u001b[0m in \u001b[0;36m__init__\u001b[1;34m(self, f, engine, **kwds)\u001b[0m\n\u001b[0;32m    588\u001b[0m             \u001b[0mself\u001b[0m\u001b[1;33m.\u001b[0m\u001b[0moptions\u001b[0m\u001b[1;33m[\u001b[0m\u001b[1;34m'has_index_names'\u001b[0m\u001b[1;33m]\u001b[0m \u001b[1;33m=\u001b[0m \u001b[0mkwds\u001b[0m\u001b[1;33m[\u001b[0m\u001b[1;34m'has_index_names'\u001b[0m\u001b[1;33m]\u001b[0m\u001b[1;33m\u001b[0m\u001b[0m\n\u001b[0;32m    589\u001b[0m \u001b[1;33m\u001b[0m\u001b[0m\n\u001b[1;32m--> 590\u001b[1;33m         \u001b[0mself\u001b[0m\u001b[1;33m.\u001b[0m\u001b[0m_make_engine\u001b[0m\u001b[1;33m(\u001b[0m\u001b[0mself\u001b[0m\u001b[1;33m.\u001b[0m\u001b[0mengine\u001b[0m\u001b[1;33m)\u001b[0m\u001b[1;33m\u001b[0m\u001b[0m\n\u001b[0m\u001b[0;32m    591\u001b[0m \u001b[1;33m\u001b[0m\u001b[0m\n\u001b[0;32m    592\u001b[0m     \u001b[1;32mdef\u001b[0m \u001b[0m_get_options_with_defaults\u001b[0m\u001b[1;33m(\u001b[0m\u001b[0mself\u001b[0m\u001b[1;33m,\u001b[0m \u001b[0mengine\u001b[0m\u001b[1;33m)\u001b[0m\u001b[1;33m:\u001b[0m\u001b[1;33m\u001b[0m\u001b[0m\n",
      "\u001b[1;32mC:\\Anaconda2\\lib\\site-packages\\pandas\\io\\parsers.pyc\u001b[0m in \u001b[0;36m_make_engine\u001b[1;34m(self, engine)\u001b[0m\n\u001b[0;32m    729\u001b[0m     \u001b[1;32mdef\u001b[0m \u001b[0m_make_engine\u001b[0m\u001b[1;33m(\u001b[0m\u001b[0mself\u001b[0m\u001b[1;33m,\u001b[0m \u001b[0mengine\u001b[0m\u001b[1;33m=\u001b[0m\u001b[1;34m'c'\u001b[0m\u001b[1;33m)\u001b[0m\u001b[1;33m:\u001b[0m\u001b[1;33m\u001b[0m\u001b[0m\n\u001b[0;32m    730\u001b[0m         \u001b[1;32mif\u001b[0m \u001b[0mengine\u001b[0m \u001b[1;33m==\u001b[0m \u001b[1;34m'c'\u001b[0m\u001b[1;33m:\u001b[0m\u001b[1;33m\u001b[0m\u001b[0m\n\u001b[1;32m--> 731\u001b[1;33m             \u001b[0mself\u001b[0m\u001b[1;33m.\u001b[0m\u001b[0m_engine\u001b[0m \u001b[1;33m=\u001b[0m \u001b[0mCParserWrapper\u001b[0m\u001b[1;33m(\u001b[0m\u001b[0mself\u001b[0m\u001b[1;33m.\u001b[0m\u001b[0mf\u001b[0m\u001b[1;33m,\u001b[0m \u001b[1;33m**\u001b[0m\u001b[0mself\u001b[0m\u001b[1;33m.\u001b[0m\u001b[0moptions\u001b[0m\u001b[1;33m)\u001b[0m\u001b[1;33m\u001b[0m\u001b[0m\n\u001b[0m\u001b[0;32m    732\u001b[0m         \u001b[1;32melse\u001b[0m\u001b[1;33m:\u001b[0m\u001b[1;33m\u001b[0m\u001b[0m\n\u001b[0;32m    733\u001b[0m             \u001b[1;32mif\u001b[0m \u001b[0mengine\u001b[0m \u001b[1;33m==\u001b[0m \u001b[1;34m'python'\u001b[0m\u001b[1;33m:\u001b[0m\u001b[1;33m\u001b[0m\u001b[0m\n",
      "\u001b[1;32mC:\\Anaconda2\\lib\\site-packages\\pandas\\io\\parsers.pyc\u001b[0m in \u001b[0;36m__init__\u001b[1;34m(self, src, **kwds)\u001b[0m\n\u001b[0;32m   1101\u001b[0m         \u001b[0mkwds\u001b[0m\u001b[1;33m[\u001b[0m\u001b[1;34m'allow_leading_cols'\u001b[0m\u001b[1;33m]\u001b[0m \u001b[1;33m=\u001b[0m \u001b[0mself\u001b[0m\u001b[1;33m.\u001b[0m\u001b[0mindex_col\u001b[0m \u001b[1;32mis\u001b[0m \u001b[1;32mnot\u001b[0m \u001b[0mFalse\u001b[0m\u001b[1;33m\u001b[0m\u001b[0m\n\u001b[0;32m   1102\u001b[0m \u001b[1;33m\u001b[0m\u001b[0m\n\u001b[1;32m-> 1103\u001b[1;33m         \u001b[0mself\u001b[0m\u001b[1;33m.\u001b[0m\u001b[0m_reader\u001b[0m \u001b[1;33m=\u001b[0m \u001b[0m_parser\u001b[0m\u001b[1;33m.\u001b[0m\u001b[0mTextReader\u001b[0m\u001b[1;33m(\u001b[0m\u001b[0msrc\u001b[0m\u001b[1;33m,\u001b[0m \u001b[1;33m**\u001b[0m\u001b[0mkwds\u001b[0m\u001b[1;33m)\u001b[0m\u001b[1;33m\u001b[0m\u001b[0m\n\u001b[0m\u001b[0;32m   1104\u001b[0m \u001b[1;33m\u001b[0m\u001b[0m\n\u001b[0;32m   1105\u001b[0m         \u001b[1;31m# XXX\u001b[0m\u001b[1;33m\u001b[0m\u001b[1;33m\u001b[0m\u001b[0m\n",
      "\u001b[1;32mpandas\\parser.pyx\u001b[0m in \u001b[0;36mpandas.parser.TextReader.__cinit__ (pandas\\parser.c:3246)\u001b[1;34m()\u001b[0m\n",
      "\u001b[1;32mpandas\\parser.pyx\u001b[0m in \u001b[0;36mpandas.parser.TextReader._setup_parser_source (pandas\\parser.c:6133)\u001b[1;34m()\u001b[0m\n",
      "\u001b[1;31mIOError\u001b[0m: Initializing from file failed"
     ]
    }
   ],
   "source": [
    "# print pandas.read_csv(RMPE['results_directory'])\n",
    "print PyCoTools.PEAnalysis.ParsePEData(RMPE['results_directory'])"
   ]
  },
  {
   "cell_type": "code",
   "execution_count": null,
   "metadata": {
    "collapsed": false,
    "deletable": true,
    "editable": true,
    "scrolled": false
   },
   "outputs": [],
   "source": [
    "RMPE.format_output()"
   ]
  },
  {
   "cell_type": "markdown",
   "metadata": {
    "deletable": true,
    "editable": true
   },
   "source": [
    "We can now parse the data in the results folder into python directly using the PEAnalysis module. "
   ]
  },
  {
   "cell_type": "code",
   "execution_count": null,
   "metadata": {
    "collapsed": false,
    "deletable": true,
    "editable": true,
    "scrolled": false
   },
   "outputs": [],
   "source": [
    "print PyCoTools.PEAnalysis.ParsePEData(RMPE.kwargs['results_directory']).data.transpose()"
   ]
  },
  {
   "cell_type": "markdown",
   "metadata": {
    "deletable": true,
    "editable": true
   },
   "source": [
    "Notice that we tried to run 8 parameter estimations and we only have 4 in the output. This is because we ran (deliberately) the estimations with the `append = False` option. Parameter sets are overwritten when `append=False` so this option needs to be set to `True`. By default the append argument for RunMultiplePEs is set to True to help avert this problem.  "
   ]
  },
  {
   "cell_type": "code",
   "execution_count": null,
   "metadata": {
    "collapsed": false,
    "deletable": true,
    "editable": true
   },
   "outputs": [],
   "source": [
    "import pandas,os,PyCoTools\n",
    "results_directory = 'Fit2Results'\n",
    "RMPE=PyCoTools.pycopi.RunMultiplePEs(kholodenko_model,data_report,\n",
    "                                     copy_number=4,\n",
    "                                     pe_number=2,\n",
    "                                     results_directory = results_directory,\n",
    "                                     append = True)\n",
    "RMPE.write_config_template()\n",
    "RMPE.set_up()\n",
    "RMPE.run()"
   ]
  },
  {
   "cell_type": "code",
   "execution_count": null,
   "metadata": {
    "collapsed": false,
    "deletable": true,
    "editable": true
   },
   "outputs": [],
   "source": [
    "RMPE.format_output()\n",
    "\n",
    "## visualize the data using boxplots\n",
    "PyCoTools.PEAnalysis.PlotBoxplot(RMPE.kwargs['results_directory'])"
=======
   "metadata": {},
   "source": [
    "All models are then set to work using CopasiSE at the same time. For this reason, if you have too many models running at once on a single machine, the machine will slow and be unusable until the estimations have finished. My own machine (i7, 16GB RAM) can confortably run around 6 or 7 models at once before things start to slow. If using a SunGridEngine based job scheduler you can use `run = SGE` to submit the jobs automatically. If your using a different job scheduler it is straight forward to write another function within the `pycopi.run` class to support your scheduler. Feel free to contact me for advice.    "
>>>>>>> parent of 78db89b... mistake made somewhere down the line as tutorials have disappeared from CopasiVersion19Develop
   ]
  }
 ],
 "metadata": {
  "kernelspec": {
   "display_name": "Python 2",
   "language": "python",
   "name": "python2"
<<<<<<< HEAD
  }
 },
 "nbformat": 4,
 "nbformat_minor": 0
=======
  },
  "language_info": {
   "codemirror_mode": {
    "name": "ipython",
    "version": 2
   },
   "file_extension": ".py",
   "mimetype": "text/x-python",
   "name": "python",
   "nbconvert_exporter": "python",
   "pygments_lexer": "ipython2",
   "version": "2.7.13"
  }
 },
 "nbformat": 4,
 "nbformat_minor": 2
>>>>>>> parent of 78db89b... mistake made somewhere down the line as tutorials have disappeared from CopasiVersion19Develop
}
