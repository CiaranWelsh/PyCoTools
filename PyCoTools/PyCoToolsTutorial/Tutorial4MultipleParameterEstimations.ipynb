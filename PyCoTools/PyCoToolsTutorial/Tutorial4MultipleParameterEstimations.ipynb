{
 "cells": [
  {
   "cell_type": "markdown",
   "metadata": {
    "collapsed": true
   },
   "source": [
    "# Multiple Parameter Estimations\n",
    "It is often desirable to run a single optimization problem many time in order to analyse the results. In copasi this is fairly easy simply by using the `repeat` scan item. In PyCoTools we can use the `runMultiplePEs` class to the same end.   \n",
    "\n",
    "## Get Handle to Model"
   ]
  },
  {
   "cell_type": "code",
   "execution_count": null,
<<<<<<< HEAD
   "metadata": {},
=======
   "metadata": {
    "collapsed": false,
    "deletable": true,
    "editable": true
   },
>>>>>>> ad790207fbd64bd409009e1a0c34655ba2e8d094
   "outputs": [],
   "source": [
    "%matplotlib inline\n",
    "import os,glob\n",
    "\n",
    "for i in glob.glob('*kholodenko.cps'):\n",
    "    kholodenko_model= os.path.abspath(i)\n",
    "    \n",
    "print kholodenko_model\n",
    "print os.path.isfile(kholodenko_model)"
   ]
  },
  {
   "cell_type": "markdown",
   "metadata": {},
   "source": [
    "## Generate Synthetic Data"
   ]
  },
  {
   "cell_type": "code",
   "execution_count": null,
   "metadata": {
    "scrolled": true
   },
   "outputs": [],
   "source": [
    "import site\n",
    "site.addsitedir('C:\\Users\\Ciaran\\Documents\\PyCoTools')\n",
    "\n",
    "import pandas,os,PyCoTools\n",
    "\n",
    "data_report='MultipleParameterEstimationData.txt'\n",
    "##Simulate some synthetic data\n",
    "TC=PyCoTools.pycopi.TimeCourse(kholodenko_model,end=1000,step_size=100,\n",
    "                               intervals=10,\n",
    "                               report_name=data_report)"
   ]
  },
  {
   "cell_type": "markdown",
   "metadata": {},
   "source": [
    "# The RunMultiplePEs Class\n",
    "The RunMultiplePEs class is an interface to the ParameterEstimation class and accepts all of the same keyword parameters with a few extra:\n",
    "\n",
    "    1. `copy_number`          --> Number of times to copy a copasi file. All of these will be run simultaneously. \n",
    "    2. `pe_number`            --> How many parameter estimations to conduct **per model**\n",
    "    3. `results_directory`    --> Name of the directory to put the results (created if not exists)\n",
    "\n",
    "The total number of estimations that can be carried out simultaneously is $copy\\_number\\cdot pe\\_number$.  "
   ]
  },
  {
   "cell_type": "code",
   "execution_count": null,
<<<<<<< HEAD
   "metadata": {},
=======
   "metadata": {
    "collapsed": false,
    "deletable": true,
    "editable": true
   },
>>>>>>> ad790207fbd64bd409009e1a0c34655ba2e8d094
   "outputs": [],
   "source": [
    "import pandas,os,PyCoTools\n",
    "RMPE=PyCoTools.pycopi.RunMultiplePEs(kholodenko_model,data_report,\n",
    "                                     copy_number=4,\n",
    "                                     pe_number=2) #--> 8 total\n",
    "RMPE.write_config_template()\n",
    "RMPE.setup()\n",
    "RMPE.run()"
   ]
  },
  {
   "cell_type": "markdown",
   "metadata": {},
   "source": [
    "All models are executed using CopasiSE at the same time. For this reason, if you have too many models running at once on a single machine, the machine will slow and be unusable until the estimations have finished. My own machine (i7, 16GB RAM) can comfortably run around 6 or 7 models at once before things start to slow. If using a SunGridEngine based job scheduler you can use `run = SGE` to submit the jobs automatically. If your using a different job scheduler it is straight forward to write another function within the `pycopi.Run` class to support your scheduler. Feel free to contact me for advice.   \n",
    "\n",
    "## Custom Results Directory\n",
    "Parameter estimation results are saved to files defined by the `report_name` keyword in a folder defined by the `results_directory` keyword. By default the directory is `MultipleParameterEstimationResults` in the same directory as your model. If the directory given by the user does not exist, it is created.  "
   ]
  },
  {
   "cell_type": "code",
   "execution_count": null,
   "metadata": {
    "scrolled": false
   },
   "outputs": [],
   "source": [
    "import pandas,os,PyCoTools\n",
    "results_directory = 'Fit2Results'\n",
    "RMPE=PyCoTools.pycopi.RunMultiplePEs(kholodenko_model,data_report,\n",
    "                                     copy_number=2,\n",
    "                                     pe_number=2,\n",
    "                                     results_directory = results_directory,\n",
    "                                     report_name = 'Fit2.txt')\n",
    "RMPE.write_config_template()\n",
    "RMPE.setup()\n",
    "RMPE.run()"
   ]
  },
  {
   "cell_type": "markdown",
<<<<<<< HEAD
   "metadata": {},
=======
   "metadata": {
    "deletable": true,
    "editable": true
   },
>>>>>>> ad790207fbd64bd409009e1a0c34655ba2e8d094
   "source": [
    "Copasi does not offer a way of giving parameter estimation data appropriate headers. If you open a parameter estimation results file directly, you'll see something like this:"
   ]
  },
  {
   "cell_type": "code",
   "execution_count": null,
   "metadata": {
<<<<<<< HEAD
=======
    "collapsed": false,
    "deletable": true,
    "editable": true,
>>>>>>> ad790207fbd64bd409009e1a0c34655ba2e8d094
    "scrolled": true
   },
   "outputs": [],
   "source": [
    "example_file = glob.glob(os.path.join( RMPE['results_directory'], '*'))[0]\n",
    "if os.path.isfile(example_file)!=True:\n",
    "    raise Exception('file does not exist')\n",
    "\n",
    "direct_output = pandas.read_csv(example_file,'\\t',header = None)\n",
    "print direct_output"
   ]
  },
  {
   "cell_type": "markdown",
   "metadata": {},
   "source": [
    "The `RMPE.format_output()` method will handle the 'no header problem' by extracting the information directly from the parameter estimation task. "
   ]
  },
  {
   "cell_type": "code",
   "execution_count": null,
<<<<<<< HEAD
   "metadata": {},
=======
   "metadata": {
    "collapsed": false,
    "deletable": true,
    "editable": true
   },
>>>>>>> ad790207fbd64bd409009e1a0c34655ba2e8d094
   "outputs": [],
   "source": [
    "RMPE.format_output()\n",
    "formatted = pandas.read_csv(example_file,'\\t')\n",
    "print formatted"
   ]
  },
  {
   "cell_type": "markdown",
   "metadata": {},
   "source": [
    "The original output file is overwritten with a new file containing data with column headings. If you intend to analyse your parameter estimation data with the `PEAnalysis` module, this step is not necessary as the `PEAnalysis.ParsePEData` class does this automatically."
   ]
  },
  {
   "cell_type": "code",
   "execution_count": null,
   "metadata": {
<<<<<<< HEAD
=======
    "collapsed": false,
>>>>>>> ad790207fbd64bd409009e1a0c34655ba2e8d094
    "scrolled": true
   },
   "outputs": [],
   "source": [
    "import pandas,os,PyCoTools\n",
    "results_directory = 'Fit3Results'\n",
    "RMPE=PyCoTools.pycopi.RunMultiplePEs(kholodenko_model,data_report,\n",
    "                                     copy_number=2,\n",
    "                                     pe_number=2,\n",
    "                                     results_directory = results_directory,\n",
    "                                     report_name = 'Fit2.txt')\n",
    "RMPE.write_config_template()\n",
    "RMPE.setup()\n",
    "RMPE.run()"
   ]
  },
  {
   "cell_type": "markdown",
   "metadata": {},
   "source": [
    "When all the estimations are completed we can parse the data using `PEAnalysis.ParsePEData` to observe that the data now has informative headers. "
   ]
  },
  {
   "cell_type": "code",
   "execution_count": 4,
   "metadata": {
<<<<<<< HEAD
=======
    "collapsed": false,
    "deletable": true,
    "editable": true,
>>>>>>> ad790207fbd64bd409009e1a0c34655ba2e8d094
    "scrolled": false
   },
   "outputs": [
    {
     "name": "stdout",
     "output_type": "stream",
     "text": [
      "INFO:PyCoTools.PEAnalysis:PEAnalysis:82:Parsing data from C:\\Users\\Ciaran\\Documents\\PyCoTools\\PyCoTools\\PyCoToolsTutorial\\Fit2Results into python\n",
      "                                                0             1             2  \\\n",
      "(phosphorylation of MAPKK).KK3       8.939830e-03  2.442810e-06  1.940990e-06   \n",
      "(MAPKKK activation).K1               5.254650e-05  1.877620e-06  1.095780e-06   \n",
      "(dephosphorylation of MAPK-PP).V9    5.211100e-04  6.431620e-05  1.410720e-06   \n",
      "(phosphorylation of MAPK).k7         3.449700e+03  4.342930e-03  1.223500e-06   \n",
      "(phosphorylation of MAPK-P).k8       9.097480e+01  2.565930e+02  1.891110e+01   \n",
      "(MAPKKK inactivation).KK2            9.630470e+00  3.919670e-05  3.969520e-05   \n",
      "(MAPKKK inactivation).V2             9.430980e-01  6.191840e-05  6.134380e-05   \n",
      "(phosphorylation of MAPKK).k3        1.052000e-05  1.182080e-06  4.471610e-03   \n",
      "(phosphorylation of MAPKK-P).k4      2.000610e-06  4.292490e-01  7.746080e-01   \n",
      "(dephosphorylation of MAPKK-PP).KK5  2.565490e+01  3.028340e+05  5.956120e+03   \n",
      "(dephosphorylation of MAPK-PP).KK9   3.990840e+01  1.764120e+04  2.730880e+01   \n",
      "(dephosphorylation of MAPKK-P).KK6   6.219420e+04  7.580970e+04  4.277720e-06   \n",
      "(phosphorylation of MAPKK-P).KK4     5.503930e-01  7.185250e+02  3.989080e+02   \n",
      "(MAPKKK activation).V1               1.174350e+03  7.989760e+03  8.866430e+03   \n",
      "(MAPKKK activation).Ki               1.265810e-05  1.269960e-01  1.913990e-02   \n",
      "(phosphorylation of MAPK).KK7        6.028870e-03  1.152620e-04  1.396540e+03   \n",
      "(dephosphorylation of MAPK-P).KK10   9.398820e-06  1.167480e+05  7.042550e+04   \n",
      "(phosphorylation of MAPK-P).KK8      3.377060e-03  3.024790e+03  6.282890e+03   \n",
      "(dephosphorylation of MAPKK-PP).V5   1.404180e-02  1.787570e+00  1.855690e-06   \n",
      "(dephosphorylation of MAPK-P).V10    1.011550e-05  9.387050e-02  1.887440e+01   \n",
      "(dephosphorylation of MAPKK-P).V6    9.680030e+00  9.013130e-02  1.069180e-06   \n",
      "(MAPKKK activation).n                3.698420e-03  1.855080e+01  7.252600e-03   \n",
      "Mek1-PP                              1.252870e-06  1.053300e-06  1.183390e-06   \n",
      "Erk2                                 1.120290e-06  1.000000e-06  1.000000e-06   \n",
      "Mos                                  1.233090e-06  1.158310e-06  1.380540e-06   \n",
      "Erk2-P                               1.016570e-06  1.019950e-06  1.032230e-06   \n",
      "Erk2-PP                              1.647340e-06  3.245020e-06  3.095080e-06   \n",
      "Mos-P                                1.331660e-04  1.332340e-04  1.327840e-04   \n",
      "Mek1                                 1.440320e-06  1.464280e-06  1.645610e-06   \n",
      "Mek1-P                               1.262390e-06  1.503340e-06  1.588980e-06   \n",
      "RSS                                  3.460410e-12  2.550400e-11  2.613570e-11   \n",
      "\n",
      "                                                3  \n",
      "(phosphorylation of MAPKK).KK3       5.170800e-05  \n",
      "(MAPKKK activation).K1               2.351330e-02  \n",
      "(dephosphorylation of MAPK-PP).V9    1.141610e-06  \n",
      "(phosphorylation of MAPK).k7         4.135830e+04  \n",
      "(phosphorylation of MAPK-P).k8       1.520300e+00  \n",
      "(MAPKKK inactivation).KK2            1.369120e+04  \n",
      "(MAPKKK inactivation).V2             2.412320e-04  \n",
      "(phosphorylation of MAPKK).k3        1.169170e-06  \n",
      "(phosphorylation of MAPKK-P).k4      2.419010e-06  \n",
      "(dephosphorylation of MAPKK-PP).KK5  1.509520e+01  \n",
      "(dephosphorylation of MAPK-PP).KK9   4.683150e+02  \n",
      "(dephosphorylation of MAPKK-P).KK6   3.641670e-03  \n",
      "(phosphorylation of MAPKK-P).KK4     5.008940e-05  \n",
      "(MAPKKK activation).V1               4.485340e+03  \n",
      "(MAPKKK activation).Ki               6.622900e-05  \n",
      "(phosphorylation of MAPK).KK7        3.935770e-03  \n",
      "(dephosphorylation of MAPK-P).KK10   5.740400e+04  \n",
      "(phosphorylation of MAPK-P).KK8      1.000000e-06  \n",
      "(dephosphorylation of MAPKK-PP).V5   1.538440e-06  \n",
      "(dephosphorylation of MAPK-P).V10    1.841900e-06  \n",
      "(dephosphorylation of MAPKK-P).V6    1.041220e+01  \n",
      "(MAPKKK activation).n                2.196270e-02  \n",
      "Mek1-PP                              1.000000e-06  \n",
      "Erk2                                 1.000000e-06  \n",
      "Mos                                  2.737830e-06  \n",
      "Erk2-P                               1.092880e-06  \n",
      "Erk2-PP                              1.000000e-06  \n",
      "Mos-P                                1.315140e-04  \n",
      "Mek1                                 1.276720e-06  \n",
      "Mek1-P                               1.056010e-06  \n",
      "RSS                                  4.014440e-11  \n"
     ]
    }
   ],
   "source": [
    "print PyCoTools.PEAnalysis.ParsePEData(kholodenko_model,RMPE.kwargs['results_directory']).data.transpose() ##transpose for ease"
   ]
  }
 ],
 "metadata": {
  "hide_input": false,
  "kernelspec": {
   "display_name": "Python [default]",
   "language": "python",
   "name": "python2"
  },
  "language_info": {
   "codemirror_mode": {
    "name": "ipython",
    "version": 2
   },
   "file_extension": ".py",
   "mimetype": "text/x-python",
   "name": "python",
   "nbconvert_exporter": "python",
   "pygments_lexer": "ipython2",
   "version": "2.7.13"
  },
  "toc": {
   "colors": {
    "hover_highlight": "#DAA520",
    "navigate_num": "#000000",
    "navigate_text": "#333333",
    "running_highlight": "#FF0000",
    "selected_highlight": "#FFD700",
    "sidebar_border": "#EEEEEE",
    "wrapper_background": "#FFFFFF"
   },
   "moveMenuLeft": true,
   "nav_menu": {
    "height": "102px",
    "width": "252px"
   },
   "navigate_menu": true,
   "number_sections": true,
   "sideBar": true,
   "threshold": 4,
   "toc_cell": false,
   "toc_section_display": "block",
   "toc_window_display": false,
   "widenNotebook": false
  },
  "varInspector": {
   "cols": {
    "lenName": 16,
    "lenType": 16,
    "lenVar": 40
   },
   "kernels_config": {
    "python": {
     "delete_cmd_postfix": "",
     "delete_cmd_prefix": "del ",
     "library": "var_list.py",
     "varRefreshCmd": "print(var_dic_list())"
    },
    "r": {
     "delete_cmd_postfix": ") ",
     "delete_cmd_prefix": "rm(",
     "library": "var_list.r",
     "varRefreshCmd": "cat(var_dic_list()) "
    }
   },
   "types_to_exclude": [
    "module",
    "function",
    "builtin_function_or_method",
    "instance",
    "_Feature"
   ],
   "window_display": false
  }
 },
 "nbformat": 4,
<<<<<<< HEAD
 "nbformat_minor": 1
=======
 "nbformat_minor": 0
>>>>>>> ad790207fbd64bd409009e1a0c34655ba2e8d094
}
