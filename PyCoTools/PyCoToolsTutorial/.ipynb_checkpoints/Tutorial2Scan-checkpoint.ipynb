{
 "cells": [
  {
   "cell_type": "markdown",
   "metadata": {
    "deletable": true,
    "editable": true
   },
   "source": [
    "# Parameter Scan\n",
    "\n",
    "## Get Example model"
   ]
  },
  {
   "cell_type": "code",
   "execution_count": 1,
   "metadata": {
    "collapsed": false,
    "deletable": true,
    "editable": true,
    "scrolled": false
   },
   "outputs": [
    {
     "name": "stdout",
     "output_type": "stream",
     "text": [
      "C:\\Users\\Ciaran\\Documents\\PyCoTools\\PyCoTools\\PyCoToolsTutorial\\Kholodenko.cps\n",
      "True\n"
     ]
    }
   ],
   "source": [
    "%matplotlib inline\n",
    "import os,glob\n",
    "\n",
    "for i in glob.glob('*.cps'):\n",
    "    kholodenko_model= os.path.abspath(i)\n",
    "    \n",
    "print kholodenko_model\n",
    "print os.path.isfile(kholodenko_model)"
   ]
  },
  {
   "cell_type": "markdown",
   "metadata": {
    "deletable": true,
    "editable": true
   },
   "source": [
    "Copasi supports three types of scan: \n",
    "\n",
    "## Parameter Scan\n",
    "Set up a scan subtask with a single parameter being systematically varied. "
   ]
  },
  {
   "cell_type": "code",
   "execution_count": 3,
   "metadata": {
    "collapsed": false,
    "deletable": true,
    "editable": true,
    "scrolled": true
   },
   "outputs": [
    {
     "name": "stdout",
     "output_type": "stream",
     "text": [
      "DEBUG:PyCoTools.pycopi:pycopi:108:copasi file Kholodenko.cps has been parsed into Python\n",
      "DEBUG:PyCoTools.pycopi:pycopi:108:copasi file Kholodenko.cps has been parsed into Python\n",
      "DEBUG:PyCoTools.pycopi:pycopi:3268:kwargs[scan_type is: scan\n",
      "DEBUG:PyCoTools.pycopi:pycopi:3270:scan type to number tuple: ('scan', 1)\n",
      "DEBUG:PyCoTools.pycopi:pycopi:3270:scan type to number tuple: ('repeat', 0)\n",
      "DEBUG:PyCoTools.pycopi:pycopi:3270:scan type to number tuple: ('random_sampling', 2)\n",
      "DEBUG:PyCoTools.pycopi:pycopi:119:model written to C:\\Users\\Ciaran\\Documents\\PyCoTools\\PyCoTools\\PyCoToolsTutorial\\Kholodenko.cps\n",
      "INFO:root:pycopi:3326:defining report\n",
      "DEBUG:PyCoTools.pycopi:pycopi:108:copasi file Kholodenko.cps has been parsed into Python\n",
      "DEBUG:PyCoTools.pycopi:pycopi:108:copasi file Kholodenko.cps has been parsed into Python\n",
      "DEBUG:PyCoTools.pycopi:pycopi:946:created a 'time_course' type report\n",
      "DEBUG:PyCoTools.pycopi:pycopi:119:model written to C:\\Users\\Ciaran\\Documents\\PyCoTools\\PyCoTools\\PyCoToolsTutorial\\Kholodenko.cps\n",
      "DEBUG:PyCoTools.pycopi:pycopi:3417:output during subtask value is: false\n",
      "DEBUG:PyCoTools.pycopi:pycopi:119:model written to C:\\Users\\Ciaran\\Documents\\PyCoTools\\PyCoTools\\PyCoToolsTutorial\\Kholodenko.cps\n",
      "DEBUG:PyCoTools.pycopi:pycopi:108:copasi file Kholodenko.cps has been parsed into Python\n",
      "DEBUG:PyCoTools.pycopi:pycopi:108:copasi file Kholodenko.cps has been parsed into Python\n",
      "DEBUG:PyCoTools.pycopi:pycopi:119:model written to C:\\Users\\Ciaran\\Documents\\PyCoTools\\PyCoTools\\PyCoToolsTutorial\\Kholodenko.cps\n"
     ]
    },
    {
     "data": {
      "text/plain": [
       "0"
      ]
     },
     "execution_count": 3,
     "metadata": {},
     "output_type": "execute_result"
    }
   ],
   "source": [
    "import site\n",
    "site.addsitedir(r'C:\\Users\\Ciaran\\Documents\\PyCoTools')\n",
    "import PyCoTools\n",
    "import os\n",
    "import pandas\n",
    "\n",
    "S=PyCoTools.pycopi.Scan(kholodenko_model,scan_type = 'scan',\n",
    "                     subtask = 'time_course',\n",
    "                     report_type = 'time_course',\n",
    "                     report_name = 'ParameterScanOfTimeCourse.txt',\n",
    "                     variable = 'Mos-P',\n",
    "                     minimum = 1,\n",
    "                     maximum = 20,\n",
    "                     number_of_steps = 8,\n",
    "                     append=True,\n",
    "                     )\n",
    "\n",
    "## open and run via the gui\n",
    "os.system('CopasiUI {}'.format(kholodenko_model))"
   ]
  },
  {
   "cell_type": "markdown",
   "metadata": {},
   "source": [
    "Try modifying some of the key word arguments to see how it changes behaviour. "
   ]
  },
  {
   "cell_type": "markdown",
   "metadata": {
    "deletable": true,
    "editable": true
   },
   "source": [
    "## 2 Way Parameter Scan\n",
    "Set clear_scans to false to set up multiple-way parameter scans"
   ]
  },
  {
   "cell_type": "code",
   "execution_count": 4,
   "metadata": {
    "collapsed": false,
    "deletable": true,
    "editable": true
   },
   "outputs": [
    {
     "name": "stdout",
     "output_type": "stream",
     "text": [
      "DEBUG:PyCoTools.pycopi:pycopi:108:copasi file Kholodenko.cps has been parsed into Python\n",
      "DEBUG:PyCoTools.pycopi:pycopi:108:copasi file Kholodenko.cps has been parsed into Python\n",
      "DEBUG:PyCoTools.pycopi:pycopi:3268:kwargs[scan_type is: scan\n",
      "DEBUG:PyCoTools.pycopi:pycopi:3270:scan type to number tuple: ('scan', 1)\n",
      "DEBUG:PyCoTools.pycopi:pycopi:3270:scan type to number tuple: ('repeat', 0)\n",
      "DEBUG:PyCoTools.pycopi:pycopi:3270:scan type to number tuple: ('random_sampling', 2)\n",
      "DEBUG:PyCoTools.pycopi:pycopi:119:model written to C:\\Users\\Ciaran\\Documents\\PyCoTools\\PyCoTools\\PyCoToolsTutorial\\Kholodenko.cps\n",
      "INFO:root:pycopi:3326:defining report\n",
      "DEBUG:PyCoTools.pycopi:pycopi:108:copasi file Kholodenko.cps has been parsed into Python\n",
      "DEBUG:PyCoTools.pycopi:pycopi:108:copasi file Kholodenko.cps has been parsed into Python\n",
      "DEBUG:PyCoTools.pycopi:pycopi:946:created a 'time_course' type report\n",
      "DEBUG:PyCoTools.pycopi:pycopi:119:model written to C:\\Users\\Ciaran\\Documents\\PyCoTools\\PyCoTools\\PyCoToolsTutorial\\Kholodenko.cps\n",
      "DEBUG:PyCoTools.pycopi:pycopi:3417:output during subtask value is: false\n",
      "DEBUG:PyCoTools.pycopi:pycopi:119:model written to C:\\Users\\Ciaran\\Documents\\PyCoTools\\PyCoTools\\PyCoToolsTutorial\\Kholodenko.cps\n",
      "DEBUG:PyCoTools.pycopi:pycopi:108:copasi file Kholodenko.cps has been parsed into Python\n",
      "DEBUG:PyCoTools.pycopi:pycopi:108:copasi file Kholodenko.cps has been parsed into Python\n",
      "DEBUG:PyCoTools.pycopi:pycopi:119:model written to C:\\Users\\Ciaran\\Documents\\PyCoTools\\PyCoTools\\PyCoToolsTutorial\\Kholodenko.cps\n",
      "DEBUG:PyCoTools.pycopi:pycopi:108:copasi file Kholodenko.cps has been parsed into Python\n",
      "DEBUG:PyCoTools.pycopi:pycopi:108:copasi file Kholodenko.cps has been parsed into Python\n",
      "DEBUG:PyCoTools.pycopi:pycopi:3268:kwargs[scan_type is: scan\n",
      "DEBUG:PyCoTools.pycopi:pycopi:3270:scan type to number tuple: ('scan', 1)\n",
      "DEBUG:PyCoTools.pycopi:pycopi:3270:scan type to number tuple: ('repeat', 0)\n",
      "DEBUG:PyCoTools.pycopi:pycopi:3270:scan type to number tuple: ('random_sampling', 2)\n",
      "INFO:root:pycopi:3326:defining report\n",
      "DEBUG:PyCoTools.pycopi:pycopi:108:copasi file Kholodenko.cps has been parsed into Python\n",
      "DEBUG:PyCoTools.pycopi:pycopi:108:copasi file Kholodenko.cps has been parsed into Python\n",
      "DEBUG:PyCoTools.pycopi:pycopi:946:created a 'time_course' type report\n",
      "DEBUG:PyCoTools.pycopi:pycopi:119:model written to C:\\Users\\Ciaran\\Documents\\PyCoTools\\PyCoTools\\PyCoToolsTutorial\\Kholodenko.cps\n",
      "DEBUG:PyCoTools.pycopi:pycopi:3417:output during subtask value is: false\n",
      "DEBUG:PyCoTools.pycopi:pycopi:119:model written to C:\\Users\\Ciaran\\Documents\\PyCoTools\\PyCoTools\\PyCoToolsTutorial\\Kholodenko.cps\n",
      "DEBUG:PyCoTools.pycopi:pycopi:108:copasi file Kholodenko.cps has been parsed into Python\n",
      "DEBUG:PyCoTools.pycopi:pycopi:108:copasi file Kholodenko.cps has been parsed into Python\n",
      "DEBUG:PyCoTools.pycopi:pycopi:119:model written to C:\\Users\\Ciaran\\Documents\\PyCoTools\\PyCoTools\\PyCoToolsTutorial\\Kholodenko.cps\n"
     ]
    },
    {
     "data": {
      "text/plain": [
       "0"
      ]
     },
     "execution_count": 4,
     "metadata": {},
     "output_type": "execute_result"
    }
   ],
   "source": [
    "import PyCoTools\n",
    "import os\n",
    "import pandas\n",
    "\n",
    "## setup first parameter scan\n",
    "S=PyCoTools.pycopi.Scan(kholodenko_model,scan_type = 'scan',\n",
    "                     subtask = 'time_course',\n",
    "                     report_type = 'time_course',\n",
    "                     report_name = 'ParameterScanOfTimeCourse.txt',\n",
    "                     variable = 'Mos-P',\n",
    "                     minimum = 1,\n",
    "                     maximum = 10,\n",
    "                     number_of_steps = 10,\n",
    "                     )\n",
    "\n",
    "## setup second parameter scan. Note clear_scans = False. \n",
    "## This tells PyCoTools not to remove all scans before setting up a new scan. \n",
    "S2=PyCoTools.pycopi.Scan(kholodenko_model,scan_type = 'scan',\n",
    "                     subtask = 'time_course',\n",
    "                     report_type = 'time_course',\n",
    "                     report_name = 'ParameterScanOfTimeCourse.txt',\n",
    "                     variable = 'Mek1-P',\n",
    "                     minimum = 1,\n",
    "                     maximum = 100,\n",
    "                     number_of_steps = 10,\n",
    "                     clear_scans=False)\n",
    "\n",
    "\n",
    "## run via the gui\n",
    "os.system('CopasiUI {}'.format(kholodenko_model))"
   ]
  },
  {
   "cell_type": "markdown",
   "metadata": {},
   "source": [
    "An arbitrary number of scans can be setup this way. Further, its possible to chain together scans with repeat or random distribution scans, if you so desired. "
   ]
  },
  {
   "cell_type": "markdown",
   "metadata": {
    "deletable": true,
    "editable": true
   },
   "source": [
    "## Repeat Scan Items\n",
    "Repeat scans are very useful for running multiple parameter estimations (however the ParameterEstimation task needs to be setup first)"
   ]
  },
  {
   "cell_type": "code",
   "execution_count": 4,
   "metadata": {
    "collapsed": false,
    "deletable": true,
    "editable": true
   },
   "outputs": [
    {
     "data": {
      "text/plain": [
       "0"
      ]
     },
     "execution_count": 4,
     "metadata": {},
     "output_type": "execute_result"
    }
   ],
   "source": [
    "## Assume Parameter Estimation task already set up\n",
    "S=PyCoTools.pycopi.Scan(kholodenko_model,scan_type = 'repeat',\n",
    "                     subtask = 'parameter_estimation', \n",
    "                     report_type = 'parameter_estimation',\n",
    "                     report_name = 'estimations.txt',\n",
    "                     number_of_steps = 10, #10 parameter estimations\n",
    "                     run=False,   \n",
    "                     )\n",
    "\n",
    "\n",
    "## Check the gui\n",
    "os.system('CopasiUI {}'.format(kholodenko_model))"
   ]
  },
  {
   "cell_type": "markdown",
   "metadata": {},
   "source": [
    "If you set `run=True`, the parameter estimations will be run via the Copasi Simulation Engine (CopasiSE) in the background. "
   ]
  }
 ],
 "metadata": {
  "kernelspec": {
   "display_name": "Python 2",
   "language": "python",
   "name": "python2"
  },
  "language_info": {
   "codemirror_mode": {
    "name": "ipython",
    "version": 2
   },
   "file_extension": ".py",
   "mimetype": "text/x-python",
   "name": "python",
   "nbconvert_exporter": "python",
   "pygments_lexer": "ipython2",
   "version": "2.7.11"
  }
 },
 "nbformat": 4,
 "nbformat_minor": 2
}
