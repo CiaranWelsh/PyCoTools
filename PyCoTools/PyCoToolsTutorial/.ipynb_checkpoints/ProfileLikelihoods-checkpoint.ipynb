{
 "cells": [
  {
   "cell_type": "markdown",
   "metadata": {},
   "source": [
    "# Profile Likelihoods"
   ]
  },
  {
   "cell_type": "code",
   "execution_count": 3,
   "metadata": {
    "ExecuteTime": {
     "end_time": "2017-07-31T12:21:31.537678Z",
     "start_time": "2017-07-31T12:21:28.240316Z"
    }
   },
   "outputs": [
    {
     "name": "stdout",
     "output_type": "stream",
     "text": [
      "INFO:root:__init__:<module>:26:Initializing PyCoTools\n",
      "INFO:root:__init__:<module>:27:Initializing logging System\n",
      "INFO:root:__init__:<module>:28:logging config file at: /home/b3053674/Documents/PyCoTools/PyCoTools/logging_config.conf\n",
      "INFO:root:<ipython-input-3-f58b6052b3b5>:<module>:23:written kholodenko model to /home/b3053674/Documents/PyCoTools/PyCoTools/PyCoToolsTutorial/kholodenko_model.cps\n",
      "INFO:root:<ipython-input-3-f58b6052b3b5>:<module>:24:Checking that kholodenko file exists: ... True\n"
     ]
    }
   ],
   "source": [
    "%matplotlib inline\n",
    "import os,glob\n",
    "import site\n",
    "site.addsitedir('/home/b3053674/Documents/PyCoTools')\n",
    "import PyCoTools\n",
    "from PyCoTools.PyCoToolsTutorial import test_models\n",
    "import os\n",
    "import pandas\n",
    "import logging\n",
    "logging.basicConfig(format = '%(levelname)s:%(message)s')\n",
    "LOG=logging.getLogger()\n",
    "\n",
    "##this can be anywhere you like\n",
    "tutorial_directory = '/home/b3053674/Documents/PyCoTools/PyCoTools/PyCoToolsTutorial'\n",
    "## module containing copasi models in string format\n",
    "TM = test_models.TestModels()\n",
    "kholodenko_model_string = TM.get_kholodenko_variant1() ## published kholodenko model\n",
    "kholodenko_model = os.path.join(tutorial_directory, 'kholodenko_model.cps')\n",
    "\n",
    "with open(kholodenko_model, 'w') as f:\n",
    "    f.write(kholodenko_model_string)\n",
    "\n",
    "LOG.info('written kholodenko model to {}'.format(kholodenko_model))\n",
    "LOG.info('Checking that kholodenko file exists: ... {}'.format(os.path.isfile(kholodenko_model)))"
   ]
  },
  {
   "cell_type": "code",
   "execution_count": 11,
   "metadata": {
    "ExecuteTime": {
     "end_time": "2017-07-31T12:27:17.845642Z",
     "start_time": "2017-07-31T12:27:17.201535Z"
    },
    "run_control": {
     "marked": true
    }
   },
   "outputs": [
    {
     "name": "stdout",
     "output_type": "stream",
     "text": [
      "INFO:PyCoTools.pydentify:pydentify:format_results:479:Data already formatted. Skipping the formatting\n",
      "INFO:PyCoTools.pydentify:pydentify:format_results:479:Data already formatted. Skipping the formatting\n",
      "INFO:PyCoTools.pydentify:pydentify:format_results:479:Data already formatted. Skipping the formatting\n",
      "INFO:PyCoTools.pydentify:pydentify:format_results:479:Data already formatted. Skipping the formatting\n",
      "INFO:PyCoTools.pydentify:pydentify:format_results:479:Data already formatted. Skipping the formatting\n",
      "INFO:PyCoTools.pydentify:pydentify:format_results:479:Data already formatted. Skipping the formatting\n",
      "INFO:PyCoTools.pydentify:pydentify:format_results:479:Data already formatted. Skipping the formatting\n",
      "INFO:PyCoTools.pydentify:pydentify:format_results:479:Data already formatted. Skipping the formatting\n",
      "INFO:PyCoTools.pydentify:pydentify:format_results:479:Data already formatted. Skipping the formatting\n",
      "INFO:PyCoTools.pydentify:pydentify:format_results:479:Data already formatted. Skipping the formatting\n",
      "INFO:PyCoTools.pydentify:pydentify:format_results:479:Data already formatted. Skipping the formatting\n",
      "INFO:PyCoTools.pydentify:pydentify:format_results:479:Data already formatted. Skipping the formatting\n",
      "INFO:PyCoTools.pydentify:pydentify:format_results:479:Data already formatted. Skipping the formatting\n",
      "INFO:PyCoTools.pydentify:pydentify:format_results:479:Data already formatted. Skipping the formatting\n",
      "INFO:PyCoTools.pydentify:pydentify:format_results:479:Data already formatted. Skipping the formatting\n",
      "INFO:PyCoTools.pydentify:pydentify:format_results:479:Data already formatted. Skipping the formatting\n",
      "INFO:PyCoTools.pydentify:pydentify:format_results:479:Data already formatted. Skipping the formatting\n",
      "INFO:PyCoTools.pydentify:pydentify:format_results:479:Data already formatted. Skipping the formatting\n",
      "INFO:PyCoTools.pydentify:pydentify:format_results:479:Data already formatted. Skipping the formatting\n",
      "INFO:PyCoTools.pydentify:pydentify:format_results:479:Data already formatted. Skipping the formatting\n",
      "INFO:PyCoTools.pydentify:pydentify:format_results:479:Data already formatted. Skipping the formatting\n",
      "INFO:PyCoTools.pydentify:pydentify:format_results:479:Data already formatted. Skipping the formatting\n",
      "INFO:PyCoTools.pydentify:pydentify:format_results:479:Data already formatted. Skipping the formatting\n",
      "INFO:PyCoTools.pydentify:pydentify:format_results:479:Data already formatted. Skipping the formatting\n",
      "INFO:PyCoTools.pydentify:pydentify:format_results:479:Data already formatted. Skipping the formatting\n",
      "INFO:PyCoTools.pydentify:pydentify:format_results:479:Data already formatted. Skipping the formatting\n",
      "INFO:PyCoTools.pydentify:pydentify:format_results:479:Data already formatted. Skipping the formatting\n",
      "INFO:PyCoTools.pydentify:pydentify:format_results:479:Data already formatted. Skipping the formatting\n",
      "INFO:PyCoTools.pydentify:pydentify:format_results:479:Data already formatted. Skipping the formatting\n",
      "INFO:PyCoTools.pydentify:pydentify:format_results:479:Data already formatted. Skipping the formatting\n",
      "INFO:PyCoTools.pydentify:pydentify:format_results:479:Data already formatted. Skipping the formatting\n",
      "INFO:PyCoTools.pydentify:pydentify:format_results:479:Data already formatted. Skipping the formatting\n",
      "INFO:PyCoTools.pydentify:pydentify:format_results:479:Data already formatted. Skipping the formatting\n",
      "INFO:PyCoTools.pydentify:pydentify:format_results:479:Data already formatted. Skipping the formatting\n",
      "INFO:PyCoTools.pydentify:pydentify:format_results:479:Data already formatted. Skipping the formatting\n",
      "INFO:PyCoTools.pydentify:pydentify:format_results:479:Data already formatted. Skipping the formatting\n",
      "INFO:PyCoTools.pydentify:pydentify:format_results:479:Data already formatted. Skipping the formatting\n",
      "INFO:PyCoTools.pydentify:pydentify:format_results:479:Data already formatted. Skipping the formatting\n",
      "INFO:PyCoTools.pydentify:pydentify:format_results:479:Data already formatted. Skipping the formatting\n",
      "INFO:PyCoTools.pydentify:pydentify:format_results:479:Data already formatted. Skipping the formatting\n",
      "INFO:PyCoTools.pydentify:pydentify:format_results:479:Data already formatted. Skipping the formatting\n",
      "INFO:PyCoTools.pydentify:pydentify:format_results:479:Data already formatted. Skipping the formatting\n",
      "INFO:PyCoTools.pydentify:pydentify:format_results:479:Data already formatted. Skipping the formatting\n",
      "INFO:PyCoTools.pydentify:pydentify:format_results:479:Data already formatted. Skipping the formatting\n"
     ]
    },
    {
     "ename": "InputError",
     "evalue": "Number of data points cannot be 0. This is wrong",
     "output_type": "error",
     "traceback": [
      "\u001b[0;31m---------------------------------------------------------------------------\u001b[0m",
      "\u001b[0;31mInputError\u001b[0m                                Traceback (most recent call last)",
      "\u001b[0;32m<ipython-input-11-9a43defadf18>\u001b[0m in \u001b[0;36m<module>\u001b[0;34m()\u001b[0m\n\u001b[1;32m      4\u001b[0m \u001b[0;34m\u001b[0m\u001b[0m\n\u001b[1;32m      5\u001b[0m data = PyCoTools.pydentify.ParsePLData(kholodenko_model, pl_dir, parameter_path=pe_data,\n\u001b[0;32m----> 6\u001b[0;31m                                       index=[0,1])\n\u001b[0m\u001b[1;32m      7\u001b[0m \u001b[0;31m# PyCoTools.pydentify.Plot(p, x='RSS',y='d')\u001b[0m\u001b[0;34m\u001b[0m\u001b[0;34m\u001b[0m\u001b[0m\n",
      "\u001b[0;32m/home/b3053674/Documents/PyCoTools/PyCoTools/pydentify.pyc\u001b[0m in \u001b[0;36m__init__\u001b[0;34m(self, copasi_file, pl_directory, **kwargs)\u001b[0m\n\u001b[1;32m   1543\u001b[0m         \u001b[0;32mif\u001b[0m \u001b[0mself\u001b[0m\u001b[0;34m[\u001b[0m\u001b[0;34m'rss'\u001b[0m\u001b[0;34m]\u001b[0m \u001b[0;34m==\u001b[0m \u001b[0mNone\u001b[0m\u001b[0;34m:\u001b[0m\u001b[0;34m\u001b[0m\u001b[0m\n\u001b[1;32m   1544\u001b[0m             \u001b[0mself\u001b[0m\u001b[0;34m[\u001b[0m\u001b[0;34m'rss'\u001b[0m\u001b[0;34m]\u001b[0m \u001b[0;34m=\u001b[0m \u001b[0mself\u001b[0m\u001b[0;34m.\u001b[0m\u001b[0mget_rss\u001b[0m\u001b[0;34m(\u001b[0m\u001b[0;34m)\u001b[0m\u001b[0;34m\u001b[0m\u001b[0m\n\u001b[0;32m-> 1545\u001b[0;31m \u001b[0;34m\u001b[0m\u001b[0m\n\u001b[0m\u001b[1;32m   1546\u001b[0m \u001b[0;34m\u001b[0m\u001b[0m\n\u001b[1;32m   1547\u001b[0m         \u001b[0mself\u001b[0m\u001b[0;34m.\u001b[0m\u001b[0mdata\u001b[0m \u001b[0;34m=\u001b[0m \u001b[0mself\u001b[0m\u001b[0;34m.\u001b[0m\u001b[0mget_confidence_level\u001b[0m\u001b[0;34m(\u001b[0m\u001b[0;34m)\u001b[0m\u001b[0;34m\u001b[0m\u001b[0m\n",
      "\u001b[0;32m/home/b3053674/Documents/PyCoTools/PyCoTools/pydentify.pyc\u001b[0m in \u001b[0;36mget_num_data_points\u001b[0;34m(self)\u001b[0m\n\u001b[1;32m   1685\u001b[0m \u001b[0;34m\u001b[0m\u001b[0m\n\u001b[1;32m   1686\u001b[0m     \u001b[0;32mdef\u001b[0m \u001b[0mget_rss\u001b[0m\u001b[0;34m(\u001b[0m\u001b[0mself\u001b[0m\u001b[0;34m)\u001b[0m\u001b[0;34m:\u001b[0m\u001b[0;34m\u001b[0m\u001b[0m\n\u001b[0;32m-> 1687\u001b[0;31m         \u001b[0mrss\u001b[0m\u001b[0;34m=\u001b[0m\u001b[0;34m{\u001b[0m\u001b[0;34m}\u001b[0m\u001b[0;34m\u001b[0m\u001b[0m\n\u001b[0m\u001b[1;32m   1688\u001b[0m \u001b[0;34m\u001b[0m\u001b[0m\n\u001b[1;32m   1689\u001b[0m         \u001b[0;32mif\u001b[0m \u001b[0mself\u001b[0m\u001b[0;34m[\u001b[0m\u001b[0;34m'index'\u001b[0m\u001b[0;34m]\u001b[0m\u001b[0;34m==\u001b[0m\u001b[0;34m-\u001b[0m\u001b[0;36m1\u001b[0m\u001b[0;34m:\u001b[0m\u001b[0;34m\u001b[0m\u001b[0m\n",
      "\u001b[0;31mInputError\u001b[0m: Number of data points cannot be 0. This is wrong"
     ]
    }
   ],
   "source": [
    "pl_dir  = '/home/b3053674/Documents/PyCoTools/PyCoTools/PyCoToolsTutorial/ProfileLikelihood'\n",
    "pe_data = '/home/b3053674/Documents/PyCoTools/PyCoTools/PyCoToolsTutorial/MultipleParameterEstimationResults'\n",
    "\n",
    "PyCoTools.pydentify.ProfileLikelihood(kholodenko_model, parameter_path=pe_data, \n",
    "                                      index=[0,1,2],\n",
    "                                      tolerance=1e-1, iteration_limit=25,\n",
    "                                      run='slow'\n",
    "                                      )\n",
    "\n"
   ]
  },
  {
   "cell_type": "code",
   "execution_count": null,
   "metadata": {
    "collapsed": true
   },
   "outputs": [],
   "source": []
  },
  {
   "cell_type": "code",
   "execution_count": null,
   "metadata": {
    "collapsed": true
   },
   "outputs": [],
   "source": []
  },
  {
   "cell_type": "code",
   "execution_count": null,
   "metadata": {
    "collapsed": true
   },
   "outputs": [],
   "source": []
  },
  {
   "cell_type": "code",
   "execution_count": null,
   "metadata": {
    "collapsed": true
   },
   "outputs": [],
   "source": []
  },
  {
   "cell_type": "code",
   "execution_count": null,
   "metadata": {
    "collapsed": true
   },
   "outputs": [],
   "source": []
  },
  {
   "cell_type": "code",
   "execution_count": null,
   "metadata": {
    "collapsed": true
   },
   "outputs": [],
   "source": []
  },
  {
   "cell_type": "code",
   "execution_count": null,
   "metadata": {
    "collapsed": true
   },
   "outputs": [],
   "source": []
  },
  {
   "cell_type": "code",
   "execution_count": null,
   "metadata": {
    "collapsed": true
   },
   "outputs": [],
   "source": []
  },
  {
   "cell_type": "code",
   "execution_count": null,
   "metadata": {
    "collapsed": true
   },
   "outputs": [],
   "source": []
  },
  {
   "cell_type": "code",
   "execution_count": null,
   "metadata": {
    "collapsed": true
   },
   "outputs": [],
   "source": []
  },
  {
   "cell_type": "code",
   "execution_count": null,
   "metadata": {
    "collapsed": true
   },
   "outputs": [],
   "source": []
  },
  {
   "cell_type": "code",
   "execution_count": null,
   "metadata": {
    "collapsed": true
   },
   "outputs": [],
   "source": []
  },
  {
   "cell_type": "code",
   "execution_count": null,
   "metadata": {
    "collapsed": true
   },
   "outputs": [],
   "source": []
  },
  {
   "cell_type": "code",
   "execution_count": null,
   "metadata": {
    "collapsed": true
   },
   "outputs": [],
   "source": []
  },
  {
   "cell_type": "code",
   "execution_count": null,
   "metadata": {
    "collapsed": true
   },
   "outputs": [],
   "source": []
  }
 ],
 "metadata": {
  "hide_input": false,
  "kernelspec": {
   "display_name": "Python [conda env:py27]",
   "language": "python",
   "name": "conda-env-py27-py"
  },
  "language_info": {
   "codemirror_mode": {
    "name": "ipython",
    "version": 2
   },
   "file_extension": ".py",
   "mimetype": "text/x-python",
   "name": "python",
   "nbconvert_exporter": "python",
   "pygments_lexer": "ipython2",
   "version": "2.7.13"
  },
  "toc": {
   "colors": {
    "hover_highlight": "#DAA520",
    "navigate_num": "#000000",
    "navigate_text": "#333333",
    "running_highlight": "#FF0000",
    "selected_highlight": "#FFD700",
    "sidebar_border": "#EEEEEE",
    "wrapper_background": "#FFFFFF"
   },
   "moveMenuLeft": true,
   "nav_menu": {
    "height": "30px",
    "width": "252px"
   },
   "navigate_menu": true,
   "number_sections": true,
   "sideBar": true,
   "threshold": 4,
   "toc_cell": false,
   "toc_section_display": "block",
   "toc_window_display": false,
   "widenNotebook": false
  },
  "varInspector": {
   "cols": {
    "lenName": 16,
    "lenType": 16,
    "lenVar": 40
   },
   "kernels_config": {
    "python": {
     "delete_cmd_postfix": "",
     "delete_cmd_prefix": "del ",
     "library": "var_list.py",
     "varRefreshCmd": "print(var_dic_list())"
    },
    "r": {
     "delete_cmd_postfix": ") ",
     "delete_cmd_prefix": "rm(",
     "library": "var_list.r",
     "varRefreshCmd": "cat(var_dic_list()) "
    }
   },
   "types_to_exclude": [
    "module",
    "function",
    "builtin_function_or_method",
    "instance",
    "_Feature"
   ],
   "window_display": false
  }
 },
 "nbformat": 4,
 "nbformat_minor": 2
}
