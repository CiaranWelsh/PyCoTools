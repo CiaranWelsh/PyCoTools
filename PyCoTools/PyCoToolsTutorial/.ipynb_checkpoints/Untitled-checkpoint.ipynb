{
 "cells": [
  {
   "cell_type": "code",
   "execution_count": null,
   "metadata": {},
   "outputs": [],
   "source": [
    "import os, glob, pandas, seaborn\n",
    "import matplotlib.pyplot as plt\n",
    "\n",
    "from sklearn import metrics"
   ]
  },
  {
   "cell_type": "code",
   "execution_count": null,
   "metadata": {
    "collapsed": true
   },
   "outputs": [],
   "source": []
  },
  {
   "cell_type": "code",
   "execution_count": null,
   "metadata": {
    "collapsed": true
   },
   "outputs": [],
   "source": []
  },
  {
   "cell_type": "code",
   "execution_count": 3,
   "metadata": {
    "ExecuteTime": {
     "end_time": "2017-07-28T13:41:11.895543Z",
     "start_time": "2017-07-28T13:41:11.866098Z"
    }
   },
   "outputs": [
    {
     "ename": "ImportError",
     "evalue": "No module named PyCoTools.PEAnalysis",
     "output_type": "error",
     "traceback": [
      "\u001b[0;31m---------------------------------------------------------------------------\u001b[0m",
      "\u001b[0;31mImportError\u001b[0m                               Traceback (most recent call last)",
      "\u001b[0;32m<ipython-input-3-cb4a4742bdf7>\u001b[0m in \u001b[0;36m<module>\u001b[0;34m()\u001b[0m\n\u001b[0;32m----> 1\u001b[0;31m \u001b[0;32mfrom\u001b[0m \u001b[0mPyCoTools\u001b[0m\u001b[0;34m.\u001b[0m\u001b[0mPEAnalysis\u001b[0m \u001b[0;32mimport\u001b[0m \u001b[0mBoxplot\u001b[0m\u001b[0;34m,\u001b[0m \u001b[0mRssVsIterations\u001b[0m\u001b[0;34m,\u001b[0m \u001b[0mHistograms\u001b[0m\u001b[0;34m,\u001b[0m\u001b[0mEnsembleTimeCourse\u001b[0m\u001b[0;34m,\u001b[0m \u001b[0mPca\u001b[0m\u001b[0;34m,\u001b[0m\u001b[0mLinearRegression\u001b[0m\u001b[0;34m\u001b[0m\u001b[0m\n\u001b[0m\u001b[1;32m      2\u001b[0m \u001b[0;31m# Boxplot(data=RMPE['results_directory'], log10=True, savefig=True, num_per_plot=23)\u001b[0m\u001b[0;34m\u001b[0m\u001b[0;34m\u001b[0m\u001b[0m\n\u001b[1;32m      3\u001b[0m \u001b[0;31m# RssVsIterations(RMPE['results_directory'], log10=True,savefig=True)\u001b[0m\u001b[0;34m\u001b[0m\u001b[0;34m\u001b[0m\u001b[0m\n\u001b[1;32m      4\u001b[0m \u001b[0;31m# Histograms(RMPE['results_directory'], log10=True, savefig=True)\u001b[0m\u001b[0;34m\u001b[0m\u001b[0;34m\u001b[0m\u001b[0m\n\u001b[1;32m      5\u001b[0m \u001b[0;31m# PEAnalysis.EnsembleTimeCourse(kholodenko_model, data1, RMPE['results_directory'],\u001b[0m\u001b[0;34m\u001b[0m\u001b[0;34m\u001b[0m\u001b[0m\n",
      "\u001b[0;31mImportError\u001b[0m: No module named PyCoTools.PEAnalysis"
     ]
    }
   ],
   "source": [
    "from PyCoTools.PEAnalysis import Boxplot, RssVsIterations, Histograms,EnsembleTimeCourse, Pca,\\\n",
    "LinearRegression\n",
    "Boxplot(data=RMPE['results_directory'], log10=True, savefig=True, num_per_plot=23)\n",
    "RssVsIterations(RMPE['results_directory'], log10=True,savefig=True)\n",
    "Histograms(RMPE['results_directory'], log10=True, savefig=True)\n",
    "PEAnalysis.EnsembleTimeCourse(kholodenko_model, data1, RMPE['results_directory'], \n",
    "                                           savefig=True,\n",
    "                                           )\n",
    "Pca(RMPE['results_directory'], log10=True, savefig=True, by='parameters')\n",
    "Pca(RMPE['results_directory'],\n",
    "                         log10=True, savefig=True, by='iterations',\n",
    "                         x=10)\n",
    "\n",
    "LinearRegression(RMPE['results_directory'],\n",
    "                                      savefig=True, title_fontsize=70)\n"
   ]
  },
  {
   "cell_type": "code",
   "execution_count": null,
   "metadata": {
    "collapsed": true
   },
   "outputs": [],
   "source": [
    "from PyCoTools.PEAnalysis import Boxplot, RssVsIterations, Histograms,EnsembleTimeCourse, Pca,\\\n",
    "LinearRegression\n",
    "Boxplot(data=RMPE['results_directory'], log10=True, savefig=True, num_per_plot=23)\n",
    "RssVsIterations(RMPE['results_directory'], log10=True,savefig=True)\n",
    "Histograms(RMPE['results_directory'], log10=True, savefig=True)\n",
    "PEAnalysis.EnsembleTimeCourse(kholodenko_model, data1, RMPE['results_directory'], \n",
    "                                           savefig=True,\n",
    "                                           )\n",
    "Pca(RMPE['results_directory'], log10=True, savefig=True, by='parameters')\n",
    "Pca(RMPE['results_directory'],\n",
    "                         log10=True, savefig=True, by='iterations',\n",
    "                         x=10)\n",
    "\n",
    "LinearRegression(RMPE['results_directory'],\n",
    "                                      savefig=True, title_fontsize=70)"
   ]
  },
  {
   "cell_type": "code",
   "execution_count": null,
   "metadata": {
    "collapsed": true
   },
   "outputs": [],
   "source": [
    "from PyCoTools.PEAnalysis import Boxplot, RssVsIterations, Histograms,EnsembleTimeCourse, Pca,\\\n",
    "LinearRegression\n",
    "Boxplot(data=RMPE['results_directory'], log10=True, savefig=True, num_per_plot=23)\n",
    "RssVsIterations(RMPE['results_directory'], log10=True,savefig=True)\n",
    "Histograms(RMPE['results_directory'], log10=True, savefig=True)\n",
    "PEAnalysis.EnsembleTimeCourse(kholodenko_model, data1, RMPE['results_directory'], \n",
    "                                           savefig=True,\n",
    "                                           )\n",
    "Pca(RMPE['results_directory'], log10=True, savefig=True, by='parameters')\n",
    "Pca(RMPE['results_directory'],\n",
    "                         log10=True, savefig=True, by='iterations',\n",
    "                         x=10)\n",
    "\n",
    "LinearRegression(RMPE['results_directory'],\n",
    "                                      savefig=True, title_fontsize=70)"
   ]
  },
  {
   "cell_type": "code",
   "execution_count": null,
   "metadata": {
    "collapsed": true
   },
   "outputs": [],
   "source": [
    "from PyCoTools.PEAnalysis import Boxplot, RssVsIterations, Histograms,EnsembleTimeCourse, Pca,\\\n",
    "LinearRegression\n",
    "Boxplot(data=RMPE['results_directory'], log10=True, savefig=True, num_per_plot=23)\n",
    "RssVsIterations(RMPE['results_directory'], log10=True,savefig=True)\n",
    "Histograms(RMPE['results_directory'], log10=True, savefig=True)\n",
    "PEAnalysis.EnsembleTimeCourse(kholodenko_model, data1, RMPE['results_directory'], \n",
    "                                           savefig=True,\n",
    "                                           )\n",
    "Pca(RMPE['results_directory'], log10=True, savefig=True, by='parameters')\n",
    "Pca(RMPE['results_directory'],\n",
    "                         log10=True, savefig=True, by='iterations',\n",
    "                         x=10)\n",
    "\n",
    "LinearRegression(RMPE['results_directory'],\n",
    "                                      savefig=True, title_fontsize=70)"
   ]
  },
  {
   "cell_type": "code",
   "execution_count": null,
   "metadata": {
    "collapsed": true
   },
   "outputs": [],
   "source": [
    "from PyCoTools.PEAnalysis import Boxplot, RssVsIterations, Histograms,EnsembleTimeCourse, Pca,\\\n",
    "LinearRegression\n",
    "Boxplot(data=RMPE['results_directory'], log10=True, savefig=True, num_per_plot=23)\n",
    "RssVsIterations(RMPE['results_directory'], log10=True,savefig=True)\n",
    "Histograms(RMPE['results_directory'], log10=True, savefig=True)\n",
    "PEAnalysis.EnsembleTimeCourse(kholodenko_model, data1, RMPE['results_directory'], \n",
    "                                           savefig=True,\n",
    "                                           )\n",
    "Pca(RMPE['results_directory'], log10=True, savefig=True, by='parameters')\n",
    "Pca(RMPE['results_directory'],\n",
    "                         log10=True, savefig=True, by='iterations',\n",
    "                         x=10)\n",
    "\n",
    "LinearRegression(RMPE['results_directory'],\n",
    "                                      savefig=True, title_fontsize=70)"
   ]
  },
  {
   "cell_type": "code",
   "execution_count": null,
   "metadata": {
    "collapsed": true
   },
   "outputs": [],
   "source": [
    "from PyCoTools.PEAnalysis import Boxplot\n",
    "Boxplot(data=RMPE['results_directory'], log10=True, savefig=True, num_per_plot=23)"
   ]
  },
  {
   "cell_type": "code",
   "execution_count": null,
   "metadata": {
    "collapsed": true
   },
   "outputs": [],
   "source": [
    "from PyCoTools.PEAnalysis import RssVsIterations\n",
    "RssVsIterations(RMPE['results_directory'], log10=True,savefig=True)"
   ]
  },
  {
   "cell_type": "code",
   "execution_count": null,
   "metadata": {
    "collapsed": true
   },
   "outputs": [],
   "source": [
    "from PyCoTools.PEAnalysis import Histograms\n",
    "Histograms(RMPE['results_directory'], log10=True, savefig=True)"
   ]
  },
  {
   "cell_type": "code",
   "execution_count": null,
   "metadata": {
    "collapsed": true
   },
   "outputs": [],
   "source": [
    "from PyCoTools.PEAnalysis import EnsembleTimeCourse\n",
    "EnsembleTimeCourse(kholodenko_model, data1, RMPE['results_directory'],savefig=True)"
   ]
  },
  {
   "cell_type": "code",
   "execution_count": null,
   "metadata": {
    "collapsed": true
   },
   "outputs": [],
   "source": [
    "from PyCoTools.PEAnalysis import LinearRegression\n",
    "LinearRegression(RMPE['results_directory'],savefig=True, title_fontsize=70)"
   ]
  },
  {
   "cell_type": "code",
   "execution_count": null,
   "metadata": {
    "collapsed": true
   },
   "outputs": [],
   "source": []
  }
 ],
 "metadata": {
  "hide_input": false,
  "kernelspec": {
   "display_name": "Python [conda env:py27]",
   "language": "python",
   "name": "conda-env-py27-py"
  },
  "language_info": {
   "codemirror_mode": {
    "name": "ipython",
    "version": 2
   },
   "file_extension": ".py",
   "mimetype": "text/x-python",
   "name": "python",
   "nbconvert_exporter": "python",
   "pygments_lexer": "ipython2",
   "version": "2.7.13"
  },
  "toc": {
   "colors": {
    "hover_highlight": "#DAA520",
    "navigate_num": "#000000",
    "navigate_text": "#333333",
    "running_highlight": "#FF0000",
    "selected_highlight": "#FFD700",
    "sidebar_border": "#EEEEEE",
    "wrapper_background": "#FFFFFF"
   },
   "moveMenuLeft": true,
   "nav_menu": {
    "height": "12px",
    "width": "252px"
   },
   "navigate_menu": true,
   "number_sections": true,
   "sideBar": true,
   "threshold": 4,
   "toc_cell": false,
   "toc_section_display": "block",
   "toc_window_display": false,
   "widenNotebook": false
  },
  "varInspector": {
   "cols": {
    "lenName": 16,
    "lenType": 16,
    "lenVar": 40
   },
   "kernels_config": {
    "python": {
     "delete_cmd_postfix": "",
     "delete_cmd_prefix": "del ",
     "library": "var_list.py",
     "varRefreshCmd": "print(var_dic_list())"
    },
    "r": {
     "delete_cmd_postfix": ") ",
     "delete_cmd_prefix": "rm(",
     "library": "var_list.r",
     "varRefreshCmd": "cat(var_dic_list()) "
    }
   },
   "types_to_exclude": [
    "module",
    "function",
    "builtin_function_or_method",
    "instance",
    "_Feature"
   ],
   "window_display": false
  }
 },
 "nbformat": 4,
 "nbformat_minor": 2
}
