{
 "cells": [
  {
   "cell_type": "markdown",
   "metadata": {
    "collapsed": true
   },
   "source": [
    "# Multiple Parameter Estimations\n",
    "It is often desirable to run a single optimization problem many time in order to analyse the results. In copasi this is fairly easy simply by using the `repeat` scan item. In PyCoTools we can use the `RunMultiplePEs` class to the same end.   "
   ]
  },
  {
   "cell_type": "code",
   "execution_count": 1,
   "metadata": {
    "collapsed": false
   },
   "outputs": [
    {
     "name": "stdout",
     "output_type": "stream",
     "text": [
      "/home/b3053674/Documents/PyCoTools/PyCoTools/PyCoToolsTutorial/Kholodenko_1.cps\n",
      "True\n"
     ]
    }
   ],
   "source": [
    "%matplotlib inline\n",
    "import os,glob\n",
    "\n",
    "for i in glob.glob('*.cps'):\n",
    "    kholodenko_model= os.path.abspath(i)\n",
    "    \n",
    "print kholodenko_model\n",
    "print os.path.isfile(kholodenko_model)"
   ]
  },
  {
   "cell_type": "markdown",
   "metadata": {},
   "source": [
    "First lets generate some synthetic data for fitting"
   ]
  },
  {
   "cell_type": "code",
   "execution_count": 3,
   "metadata": {
    "collapsed": false
   },
   "outputs": [],
   "source": [
    "import pandas,os,PyCoTools\n",
    "\n",
    "data_report='MultipleParameterEstimationData.txt'\n",
    "##Simulate some synthetic data\n",
    "TC=PyCoTools.pycopi.TimeCourse(kholodenko_model,End=1000,StepSize=1,\n",
    "                               Intervals=1000,\n",
    "                               ReportName=data_report)"
   ]
  },
  {
   "cell_type": "markdown",
   "metadata": {},
   "source": [
    "The RunMultiplePEs class essentially is an interface to the ParameterEstimation class and as such accepts most of the same keyword parameters and works in nearly the same way. The two notable differences are the `CopyNumber` and `NumberOfPEs` parameters. `RunMultiplePEs` takes a copasi file, copies it `CopyNumber` times and sets up a scan task with a repeat item that has the NumberOfIntervals parameter set to `NumberOfPEs`. "
   ]
  },
  {
   "cell_type": "code",
   "execution_count": 9,
   "metadata": {
    "collapsed": false
   },
   "outputs": [
    {
     "name": "stdout",
     "output_type": "stream",
     "text": [
      "INFO:PyCoTools.pycopi:pycopi:4455:creating a directory for analysis in : \n",
      "\n",
      "/home/b3053674/Documents/PyCoTools/PyCoTools/PyCoToolsTutorial/MultipleParameterEsimationAnalysis\n",
      "INFO:PyCoTools.pycopi:pycopi:4314:writing PE config template for model: /home/b3053674/Documents/PyCoTools/PyCoTools/PyCoToolsTutorial/Kholodenko_1.cps\n",
      "INFO:PyCoTools.pycopi:pycopi:4435:Copying copasi file 4 times\n",
      "INFO:PyCoTools.pycopi:pycopi:4354:setting up scan for model : /home/b3053674/Documents/PyCoTools/PyCoTools/PyCoToolsTutorial/Kholodenko_1_0.cps\n",
      "INFO:root:pycopi:3466:defining report\n",
      "INFO:PyCoTools.pycopi:pycopi:4354:setting up scan for model : /home/b3053674/Documents/PyCoTools/PyCoTools/PyCoToolsTutorial/Kholodenko_1_1.cps\n",
      "INFO:root:pycopi:3466:defining report\n",
      "INFO:PyCoTools.pycopi:pycopi:4354:setting up scan for model : /home/b3053674/Documents/PyCoTools/PyCoTools/PyCoToolsTutorial/Kholodenko_1_2.cps\n",
      "INFO:root:pycopi:3466:defining report\n",
      "INFO:PyCoTools.pycopi:pycopi:4354:setting up scan for model : /home/b3053674/Documents/PyCoTools/PyCoTools/PyCoToolsTutorial/Kholodenko_1_3.cps\n",
      "INFO:root:pycopi:3466:defining report\n",
      "INFO:PyCoTools.pycopi:pycopi:4379:Setup Took 0.468770980835 seconds\n",
      "INFO:PyCoTools.pycopi:pycopi:4362:<PyCoTools.pycopi.Scan instance at 0x7f7618f1afc8>\n",
      "INFO:PyCoTools.pycopi:pycopi:4302:Running model: 0\n",
      "INFO:PyCoTools.pycopi:pycopi:4302:Running model: 1\n",
      "INFO:PyCoTools.pycopi:pycopi:4302:Running model: 2\n",
      "INFO:PyCoTools.pycopi:pycopi:4302:Running model: 3\n",
      "INFO:PyCoTools.pycopi:pycopi:4379:Setup Took 0.726161956787 seconds\n",
      "INFO:PyCoTools.pycopi:pycopi:4379:Setup Took 0.641350030899 seconds\n",
      "INFO:PyCoTools.pycopi:pycopi:4379:Setup Took 0.675270080566 seconds\n"
     ]
    }
   ],
   "source": [
    "import pandas,os,PyCoTools\n",
    "RMPE=PyCoTools.pycopi.RunMultiplePEs(kholodenko_model,data_report,\n",
    "                                    CopyNumber=4,NumberOfPEs=2,Run='multiprocess') #--> 8 total\n",
    "RMPE.write_config_template()\n",
    "RMPE.set_up()\n",
    "RMPE.run()"
   ]
  },
  {
   "cell_type": "markdown",
   "metadata": {},
   "source": [
    "All models are then set to work using CopasiSE at the same time. For this reason, if you have too many models running at once on a single machine, the machine will slow and be unusable until the estimations have finished. My own machine (i7, 16GB RAM) can confortably run around 6 or 7 models at once before things start to slow. If using a SunGridEngine based job scheduler you can use `Run = SGE` to submit the jobs automatically. If your using a different job scheduler it is straight forward to write another function within the `pycopi.Run` class to support your scheduler. Feel free to contact me for advice.    "
   ]
  }
 ],
 "metadata": {
  "kernelspec": {
   "display_name": "Python 2",
   "language": "python",
   "name": "python2"
  },
  "language_info": {
   "codemirror_mode": {
    "name": "ipython",
    "version": 2
   },
   "file_extension": ".py",
   "mimetype": "text/x-python",
   "name": "python",
   "nbconvert_exporter": "python",
   "pygments_lexer": "ipython2",
   "version": "2.7.13"
  }
 },
 "nbformat": 4,
 "nbformat_minor": 2
}
