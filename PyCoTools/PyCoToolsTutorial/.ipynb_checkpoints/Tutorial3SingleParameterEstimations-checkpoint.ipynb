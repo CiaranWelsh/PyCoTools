{
 "cells": [
  {
   "cell_type": "markdown",
   "metadata": {
    "deletable": true,
    "editable": true
   },
   "source": [
    "# Parameter Estimation\n",
    "First get handle to example model file:"
   ]
  },
  {
   "cell_type": "code",
   "execution_count": 2,
   "metadata": {
    "collapsed": false,
    "deletable": true,
    "editable": true
   },
   "outputs": [
    {
     "name": "stdout",
     "output_type": "stream",
     "text": [
      "C:\\Users\\Ciaran\\Documents\\PyCoTools\\PyCoTools\\PyCoToolsTutorial\\Kholodenko.cps\n",
      "True\n"
     ]
    }
   ],
   "source": [
    "%matplotlib inline\n",
    "import os,glob\n",
    "\n",
    "for i in glob.glob('*kholodenko.cps'):\n",
    "    kholodenko_model= os.path.abspath(i)\n",
    "    \n",
    "print kholodenko_model\n",
    "print os.path.isfile(kholodenko_model)"
   ]
  },
  {
   "cell_type": "markdown",
   "metadata": {
    "deletable": true,
    "editable": true
   },
   "source": [
    "Now simulate some synthetic data for sake of running an example. See the TimeCourse tutorial for details. "
   ]
  },
  {
   "cell_type": "code",
   "execution_count": 3,
   "metadata": {
    "collapsed": false,
    "deletable": true,
    "editable": true
   },
   "outputs": [
    {
     "name": "stdout",
     "output_type": "stream",
     "text": [
      "INFO:root:__init__:26:Initializing PyCoTools\n",
      "INFO:root:__init__:27:Initializing logging System\n",
      "INFO:root:__init__:28:logging config file at: C:\\Users\\Ciaran\\Documents\\PyCoTools\\PyCoTools\\logging_config.conf\n",
      "DEBUG:PyCoTools.pycopi:pycopi:108:copasi file Kholodenko.cps has been parsed into Python\n",
      "DEBUG:PyCoTools.pycopi:pycopi:1135:CopasiML: <Element {http://www.copasi.org/static/schema}COPASI at 0xa9dd548>\n",
      "DEBUG:PyCoTools.pycopi:pycopi:108:copasi file Kholodenko.cps has been parsed into Python\n",
      "DEBUG:PyCoTools.pycopi:pycopi:119:model written to C:\\Users\\Ciaran\\Documents\\PyCoTools\\PyCoTools\\PyCoToolsTutorial\\Kholodenko.cps\n",
      "DEBUG:PyCoTools.pycopi:pycopi:108:copasi file Kholodenko.cps has been parsed into Python\n",
      "DEBUG:PyCoTools.pycopi:pycopi:108:copasi file Kholodenko.cps has been parsed into Python\n",
      "DEBUG:PyCoTools.pycopi:pycopi:946:created a 'time_course' type report\n",
      "DEBUG:PyCoTools.pycopi:pycopi:119:model written to C:\\Users\\Ciaran\\Documents\\PyCoTools\\PyCoTools\\PyCoToolsTutorial\\Kholodenko.cps\n",
      "DEBUG:PyCoTools.pycopi:pycopi:1406:getting report key\n",
      "DEBUG:PyCoTools.pycopi:pycopi:1448:setting up deterministic time course\n",
      "DEBUG:PyCoTools.pycopi:pycopi:119:model written to C:\\Users\\Ciaran\\Documents\\PyCoTools\\PyCoTools\\PyCoToolsTutorial\\Kholodenko.cps\n",
      "DEBUG:PyCoTools.pycopi:pycopi:108:copasi file Kholodenko.cps has been parsed into Python\n",
      "DEBUG:PyCoTools.pycopi:pycopi:108:copasi file Kholodenko.cps has been parsed into Python\n",
      "DEBUG:PyCoTools.pycopi:pycopi:119:model written to C:\\Users\\Ciaran\\Documents\\PyCoTools\\PyCoTools\\PyCoToolsTutorial\\Kholodenko.cps\n",
      "DEBUG:PyCoTools.pycopi:pycopi:1455:Time course ran\n",
      "   Time  [Mek1-PP]   [Erk2]    [Mos]  [Erk2-P]  [Erk2-PP]  [Mos-P]   [Mek1]  \\\n",
      "0     0   10.00000  280.000  90.0000   10.0000   10.00000  10.0000  280.000   \n",
      "1     1    9.80684  279.966  89.0736   10.1341    9.90002  10.9264  280.053   \n",
      "2     2    9.62736  279.938  88.1478   10.2622    9.80014  11.8522  280.087   \n",
      "3     3    9.46152  279.915  87.2222   10.3845    9.70043  12.7778  280.101   \n",
      "4     4    9.30931  279.898  86.2964   10.5014    9.60098  13.7036  280.096   \n",
      "\n",
      "   [Mek1-P]  \n",
      "0   10.0000  \n",
      "1   10.1402  \n",
      "2   10.2861  \n",
      "3   10.4378  \n",
      "4   10.5951  \n"
     ]
    }
   ],
   "source": [
    "import site\n",
    "site.addsitedir(r'C:\\Users\\Ciaran\\Documents\\PyCoTools')\n",
    "import PyCoTools,pandas\n",
    "report= 'parameter_estimation_synthetic_data.txt'\n",
    "TC=PyCoTools.pycopi.TimeCourse(kholodenko_model,start=0,end=1000,intervals=1000,step_size=1,\n",
    "                            report_name = report)\n",
    "\n",
    "## validate that its worked\n",
    "print pandas.read_csv(TC.kwargs['report_name'],sep='\\t').head()\n",
    "\n",
    "## Give fake data a meaningful name\n",
    "data1 = TC.kwargs['report_name']"
   ]
  },
  {
   "cell_type": "markdown",
   "metadata": {
    "deletable": true,
    "editable": true
   },
   "source": [
    "Note that it is completely necessary to have column headings in a data file that exactly match a model variable. Independant variables can be mapped easily by appending the suffic `'_indep'` to the variable. If you had two data sets that stimulated cell cultures at different concentrations for example, you could have `stimulation_indep` as a column heading in both with each containing the amount of stimulant that was used in the experiment. "
   ]
  },
  {
   "cell_type": "markdown",
   "metadata": {
    "deletable": true,
    "editable": true
   },
   "source": [
    "# Setup and run single parameter estimation \n",
    "Now we're ready to setup and run a parameter estimation"
   ]
  },
  {
   "cell_type": "code",
   "execution_count": null,
   "metadata": {
    "collapsed": false,
    "deletable": true,
    "editable": true,
    "scrolled": true
   },
   "outputs": [],
   "source": [
    "import PyCoTools, os\n",
    "PE=PyCoTools.pycopi.ParameterEstimation(kholodenko_model,data1)"
   ]
  },
  {
   "cell_type": "markdown",
   "metadata": {},
   "source": [
    "The behaviour of the parameter estimation can be using keyword arguments. For example, to change the optimization algorithm, add the `method` argument:"
   ]
  },
  {
   "cell_type": "code",
   "execution_count": null,
   "metadata": {
    "collapsed": false,
    "deletable": true,
    "editable": true
   },
   "outputs": [],
   "source": [
    "PE=PyCoTools.pycopi.ParameterEstimation(kholodenko_model,data1,\n",
    "                                        method='HookeJeeves')"
   ]
  },
  {
   "cell_type": "markdown",
   "metadata": {
    "deletable": true,
    "editable": true
   },
   "source": [
    "All algorithm specific parameters should be defined here here as well. Take a look at the GUI to see which parameters exist (i.e. swarm size in particle swarm). "
   ]
  },
  {
   "cell_type": "code",
   "execution_count": 4,
   "metadata": {
    "collapsed": false,
    "deletable": true,
    "editable": true
   },
   "outputs": [
    {
     "name": "stdout",
     "output_type": "stream",
     "text": [
      "DEBUG:PyCoTools.pycopi:pycopi:108:copasi file Kholodenko.cps has been parsed into Python\n",
      "DEBUG:PyCoTools.pycopi:pycopi:108:copasi file Kholodenko.cps has been parsed into Python\n",
      "tolerance =  1e-10\n",
      "iteration_limit = 100\n"
     ]
    }
   ],
   "source": [
    "PE=PyCoTools.pycopi.ParameterEstimation(kholodenko_model,data1,\n",
    "                                        method='HookeJeeves',\n",
    "                                        iteration_limit = 100,\n",
    "                                        tolerance = 1e-10)\n",
    "\n",
    "## sanity check\n",
    "print 'tolerance = ',PE.kwargs['tolerance']\n",
    "print 'iteration_limit =', PE.kwargs['iteration_limit']"
   ]
  },
  {
   "cell_type": "markdown",
   "metadata": {
    "deletable": true,
    "editable": true
   },
   "source": [
    "Now use the `write_config_template` method to create a parameter estimation configuration file specific for your model:"
   ]
  },
  {
   "cell_type": "code",
   "execution_count": 5,
   "metadata": {
    "collapsed": false,
    "deletable": true,
    "editable": true,
    "scrolled": true
   },
   "outputs": [],
   "source": [
    "PE.write_config_template()"
   ]
  },
  {
   "cell_type": "markdown",
   "metadata": {
    "deletable": true,
    "editable": true
   },
   "source": [
    "The filename can user specified by passing an argument to the `ConfigFilename` kwarg on instantiation. Here we use the default:"
   ]
  },
  {
   "cell_type": "code",
   "execution_count": null,
   "metadata": {
    "collapsed": false,
    "deletable": true,
    "editable": true
   },
   "outputs": [],
   "source": [
    "## check that the config filename exists\n",
    "print os.path.isfile(PE.kwargs['config_filename'])\n",
    "print 'Your config file is here: {}'.format(PE.kwargs['config_filename'])"
   ]
  },
  {
   "cell_type": "markdown",
   "metadata": {
    "deletable": true,
    "editable": true
   },
   "source": [
    "A parameter estimation configuration file has 7 columns but the last three are not meant to be modified in any way. Each row corresponds to a parameter in your model and by default all kinetic parameters (local and global) and initial concentration parameters are included in the configuration. To exclude a parameter from the estimation simply delete the row corresponding to the parameter you wish to remove. Also, specify the estimation boundaries for each parameter and optionally the starting value. It is common to randomize the start values which by default is True (i.e. `randomize_start_vales = True`) . If you would like to use the configuration file as to specify start values then you must set the `use_template_start_values` option to `True`. \n",
    "\n",
    "After modification, save and close the file. In the example, no modifications we're made and so all kinetic and initial concentration parameters are estimated. \n",
    "\n",
    "Now use the `setup()` and `run()` methods. "
   ]
  },
  {
   "cell_type": "code",
   "execution_count": 5,
   "metadata": {
    "collapsed": false,
    "deletable": true,
    "editable": true
   },
   "outputs": [
    {
     "name": "stdout",
     "output_type": "stream",
     "text": [
      "DEBUG:PyCoTools.pycopi:pycopi:108:copasi file Kholodenko.cps has been parsed into Python\n",
      "DEBUG:PyCoTools.pycopi:pycopi:108:copasi file Kholodenko.cps has been parsed into Python\n",
      "DEBUG:PyCoTools.pycopi:pycopi:1964:Removing all pre-existing experiments from copasi mapping interface\n",
      "DEBUG:PyCoTools.pycopi:pycopi:1967:Mapping experiment parameter_estimation_synthetic_data.txt\n",
      "DEBUG:PyCoTools.pycopi:pycopi:119:model written to C:\\Users\\Ciaran\\Documents\\PyCoTools\\PyCoTools\\PyCoToolsTutorial\\Kholodenko.cps\n",
      "DEBUG:PyCoTools.pycopi:pycopi:119:model written to C:\\Users\\Ciaran\\Documents\\PyCoTools\\PyCoTools\\PyCoToolsTutorial\\Kholodenko.cps\n",
      "DEBUG:PyCoTools.pycopi:pycopi:108:copasi file Kholodenko.cps has been parsed into Python\n",
      "DEBUG:PyCoTools.pycopi:pycopi:108:copasi file Kholodenko.cps has been parsed into Python\n",
      "DEBUG:PyCoTools.pycopi:pycopi:939:created a 'parameter_estimation' report\n",
      "INFO:PyCoTools.pycopi:pycopi:924:footer is: <Element Footer at 0xa9a6d88>\n",
      "DEBUG:PyCoTools.pycopi:pycopi:929:Reports PE setup copasiML <Element {http://www.copasi.org/static/schema}COPASI at 0xa9d8fc8>\n",
      "DEBUG:PyCoTools.pycopi:pycopi:119:model written to C:\\Users\\Ciaran\\Documents\\PyCoTools\\PyCoTools\\PyCoToolsTutorial\\Kholodenko.cps\n",
      "DEBUG:PyCoTools.pycopi:pycopi:119:model written to C:\\Users\\Ciaran\\Documents\\PyCoTools\\PyCoTools\\PyCoToolsTutorial\\Kholodenko.cps\n"
     ]
    }
   ],
   "source": [
    "PE.setup()"
   ]
  },
  {
   "cell_type": "markdown",
   "metadata": {
    "deletable": true,
    "editable": true
   },
   "source": [
    "Open the model and check the parameter estimation task (optionally run the next cell). The ParameterEstimation class has performed the configuration. "
   ]
  },
  {
   "cell_type": "code",
   "execution_count": null,
   "metadata": {
    "collapsed": false,
    "deletable": true,
    "editable": true
   },
   "outputs": [],
   "source": [
    "import os\n",
    "os.system('CopasiUI {}'.format(kholodenko_model))\n",
    "##  remember to close the model before continuing"
   ]
  },
  {
   "cell_type": "markdown",
   "metadata": {
    "deletable": true,
    "editable": true
   },
   "source": [
    "The `run()` method will run the copasi file using `CopasiSE` behind the scenes. "
   ]
  },
  {
   "cell_type": "code",
   "execution_count": 6,
   "metadata": {
    "collapsed": false,
    "deletable": true,
    "editable": true
   },
   "outputs": [
    {
     "name": "stdout",
     "output_type": "stream",
     "text": [
      "DEBUG:PyCoTools.pycopi:pycopi:2608:running ParameterEstimation. Data reported to file: C:\\Users\\Ciaran\\Documents\\PyCoTools\\PyCoTools\\PyCoToolsTutorial\\Kholodenko_PE_results.txt\n",
      "DEBUG:PyCoTools.pycopi:pycopi:108:copasi file Kholodenko.cps has been parsed into Python\n",
      "DEBUG:PyCoTools.pycopi:pycopi:108:copasi file Kholodenko.cps has been parsed into Python\n",
      "DEBUG:PyCoTools.pycopi:pycopi:119:model written to C:\\Users\\Ciaran\\Documents\\PyCoTools\\PyCoTools\\PyCoToolsTutorial\\Kholodenko.cps\n",
      "DEBUG:PyCoTools.pycopi:pycopi:2629:Shape of estimated parameters: (1, 31)\n",
      "DEBUG:PyCoTools.pycopi:pycopi:2638:These are your estimated parameters:                                                 0\n",
      "(phosphorylation of MAPKK).KK3              1e-06\n",
      "(MAPKKK activation).K1                  0.0618007\n",
      "(dephosphorylation of MAPK-PP).V9        0.926361\n",
      "(phosphorylation of MAPK).k7          2.31391e-05\n",
      "(phosphorylation of MAPK-P).k8          0.0187084\n",
      "(MAPKKK inactivation).KK2             3.35634e-05\n",
      "(MAPKKK inactivation).V2                  69.1586\n",
      "(phosphorylation of MAPKK).k3           0.0015131\n",
      "(phosphorylation of MAPKK-P).k4             1e-06\n",
      "(dephosphorylation of MAPKK-PP).KK5       26.6887\n",
      "(dephosphorylation of MAPK-PP).KK9       0.846031\n",
      "(dephosphorylation of MAPKK-P).KK6      0.0151387\n",
      "(phosphorylation of MAPKK-P).KK4        0.0013609\n",
      "(MAPKKK activation).V1                    139.485\n",
      "(MAPKKK activation).Ki                1.01176e-06\n",
      "(phosphorylation of MAPK).KK7             28.8629\n",
      "(dephosphorylation of MAPK-P).KK10         188407\n",
      "(phosphorylation of MAPK-P).KK8        0.00800769\n",
      "(dephosphorylation of MAPKK-PP).V5     0.00070329\n",
      "(dephosphorylation of MAPK-P).V10         234.821\n",
      "(dephosphorylation of MAPKK-P).V6           1e-06\n",
      "(MAPKKK activation).n                  0.00295377\n",
      "Mek1-PP                                   16.3009\n",
      "Erk2                                   0.00615803\n",
      "Mos                                     0.0118128\n",
      "Erk2-P                                0.000134773\n",
      "Erk2-PP                               4.94462e-05\n",
      "Mos-P                                     75.5337\n",
      "Mek1                                      27.2917\n",
      "Mek1-P                                 0.00856036\n",
      "RSS                                  5.12256e+006\n"
     ]
    },
    {
     "data": {
      "text/plain": [
       "<PyCoTools.pycopi.Run instance at 0x000000000B0EA888>"
      ]
     },
     "execution_count": 6,
     "metadata": {},
     "output_type": "execute_result"
    }
   ],
   "source": [
    "PE.run() # will take some time"
   ]
  },
  {
   "cell_type": "markdown",
   "metadata": {
    "deletable": true,
    "editable": true
   },
   "source": [
    "The `run()` method should take a bit of time and the output will be the parameter parmeters."
   ]
  },
  {
   "cell_type": "code",
   "execution_count": 11,
   "metadata": {
    "collapsed": false,
    "deletable": true,
    "editable": true
   },
   "outputs": [
    {
     "name": "stdout",
     "output_type": "stream",
     "text": [
      "These are your estimated parameters:\n",
      "\n",
      "                                                 0\n",
      "(phosphorylation of MAPKK).KK3          812.374000\n",
      "(MAPKKK activation).K1                   99.888800\n",
      "(dephosphorylation of MAPK-PP).V9         0.000001\n",
      "(phosphorylation of MAPK).k7              0.000001\n",
      "(phosphorylation of MAPK-P).k8          376.977000\n",
      "(MAPKKK inactivation).KK2                 0.000002\n",
      "(MAPKKK inactivation).V2              23224.300000\n",
      "(phosphorylation of MAPKK).k3          8130.140000\n",
      "(phosphorylation of MAPKK-P).k4           0.000001\n",
      "(dephosphorylation of MAPKK-PP).KK5  156647.000000\n",
      "(dephosphorylation of MAPK-PP).KK9       26.525300\n",
      "(dephosphorylation of MAPKK-P).KK6        5.013020\n",
      "(phosphorylation of MAPKK-P).KK4          0.000102\n",
      "(MAPKKK activation).V1                    0.000001\n",
      "(MAPKKK activation).Ki                    0.000001\n",
      "(phosphorylation of MAPK).KK7             0.000001\n",
      "(dephosphorylation of MAPK-P).KK10      238.210000\n",
      "(phosphorylation of MAPK-P).KK8        3077.980000\n",
      "(dephosphorylation of MAPKK-PP).V5        0.000018\n",
      "(dephosphorylation of MAPK-P).V10         0.000001\n",
      "(dephosphorylation of MAPKK-P).V6         0.000001\n",
      "(MAPKKK activation).n                     2.025440\n",
      "Mek1-PP                                   0.078607\n",
      "Erk2                                      0.000969\n",
      "Mos                                       0.000001\n",
      "Erk2-P                                    0.000001\n",
      "Erk2-PP                                   0.000001\n",
      "Mos-P                                     0.000001\n",
      "Mek1                                      0.395831\n",
      "Mek1-P                                    9.313740\n",
      "RSS                                   99286.300000\n"
     ]
    }
   ],
   "source": [
    "import pandas\n",
    "import matplotlib.pyplot as plt\n",
    "import numpy\n",
    "## lets take a look at the parameter estimation results\n",
    "pe_data= pandas.read_csv(PE.kwargs['report_name'],sep='\\t') \n",
    "\n",
    "print 'These are your estimated parameters:\\n\\n{}'.format(pe_data.transpose())"
   ]
  },
  {
   "cell_type": "markdown",
   "metadata": {
    "deletable": true,
    "editable": true
   },
   "source": [
    "## Multiple Data Files\n",
    "PyCoTools can easily handle multiple data files by giving `ParameterEsimation` a list of data file paths. Lets simulate some more data.\n",
    "\n",
    "Lets first change a model parameter so both sets of simulated data are not identical:"
   ]
  },
  {
   "cell_type": "code",
   "execution_count": 17,
   "metadata": {
    "collapsed": false,
    "deletable": true,
    "editable": true
   },
   "outputs": [
    {
     "name": "stdout",
     "output_type": "stream",
     "text": [
      "DEBUG:PyCoTools.pycopi:pycopi:108:copasi file Kholodenko.cps has been parsed into Python\n",
      "9.99999845072\n",
      "DEBUG:PyCoTools.pycopi:pycopi:108:copasi file Kholodenko.cps has been parsed into Python\n",
      "DEBUG:PyCoTools.pycopi:pycopi:108:copasi file Kholodenko.cps has been parsed into Python\n",
      "DEBUG:PyCoTools.pycopi:pycopi:4390:These are kwargs {'index': 0, 'metabolites': ['Mek1-PP', 'Erk2', 'Mos', 'Erk2-P', 'Erk2-PP', 'Mos-P', 'Mek1', 'Mek1-P'], 'parameter_path': None, 'quantity_type': 'concentration', 'df': None, 'global_quantities': [], 'save': 'overwrite', 'parameter_dict': {'Mek1-PP': 20}, 'report_name': 'Kholodenko_PE_results.txt'}\n",
      "DEBUG:PyCoTools.pycopi:pycopi:4481:Local parameters being inserted into mode: []\n",
      "DEBUG:PyCoTools.pycopi:pycopi:4489:Constructing a dict of reaction:parameter for local parameters: {}\n",
      "DEBUG:PyCoTools.pycopi:pycopi:4513:States:\t ['Model_3', 'Metabolite_7', 'Metabolite_13', 'Metabolite_1', 'Metabolite_5', 'Metabolite_11', 'Metabolite_9', 'Metabolite_3', 'Metabolite_15', 'Compartment_1']\n",
      "DEBUG:PyCoTools.pycopi:pycopi:4524:State Model_3 is model\n",
      "DEBUG:PyCoTools.pycopi:pycopi:4529:Added 0 for first parameter in sequence\n",
      "DEBUG:PyCoTools.pycopi:pycopi:4531:State Metabolite_7 is metab\n",
      "DEBUG:PyCoTools.pycopi:pycopi:4531:State Metabolite_13 is metab\n",
      "DEBUG:PyCoTools.pycopi:pycopi:4531:State Metabolite_1 is metab\n",
      "DEBUG:PyCoTools.pycopi:pycopi:4531:State Metabolite_5 is metab\n",
      "DEBUG:PyCoTools.pycopi:pycopi:4531:State Metabolite_11 is metab\n",
      "DEBUG:PyCoTools.pycopi:pycopi:4531:State Metabolite_9 is metab\n",
      "DEBUG:PyCoTools.pycopi:pycopi:4531:State Metabolite_3 is metab\n",
      "DEBUG:PyCoTools.pycopi:pycopi:4531:State Metabolite_15 is metab\n",
      "DEBUG:PyCoTools.pycopi:pycopi:119:model written to C:\\Users\\Ciaran\\Documents\\PyCoTools\\PyCoTools\\PyCoToolsTutorial\\Kholodenko.cps\n",
      "DEBUG:PyCoTools.pycopi:pycopi:108:copasi file Kholodenko.cps has been parsed into Python\n",
      "9.99999845072\n"
     ]
    }
   ],
   "source": [
    "import PyCoTools,os\n",
    "## Original value of Mek1-PP at time 0 is 10 (though your previous estimations may have changed it)\n",
    "GMQ=PyCoTools.pycopi.GetModelQuantities(kholodenko_model)\n",
    "print 'Old parameter value: {}'.format(GMQ.get_IC_cns()['Mek1-PP']['concentration'])\n",
    "\n",
    "#Use InsertParameters to change it to 20\n",
    "I=PyCoTools.pycopi.InsertParameters(kholodenko_model,parameter_dict={'Mek1-PP':20})\n",
    "GMQ=PyCoTools.pycopi.GetModelQuantities(kholodenko_model)\n",
    "print 'New Parameter Value: {}'.format(GMQ.get_IC_cns()['Mek1-PP']['concentration'])\n",
    "\n"
   ]
  },
  {
   "cell_type": "markdown",
   "metadata": {
    "deletable": true,
    "editable": true
   },
   "source": [
    "And Simulate some data:"
   ]
  },
  {
   "cell_type": "code",
   "execution_count": null,
   "metadata": {
    "collapsed": false,
    "deletable": true,
    "editable": true,
    "scrolled": true
   },
   "outputs": [],
   "source": [
    "import PyCoTools,pandas\n",
    "report= 'parameter_estimation_synthetic_data2.txt'\n",
    "TC=PyCoTools.pycopi.TimeCourse(kholodenko_model,\n",
    "                               End=1000,\n",
    "                               Intervals=1000,\n",
    "                               StepSize=1,\n",
    "                               ReportName = report)\n",
    "\n",
    "## validate that its worked\n",
    "print pandas.read_csv(TC.kwargs['ReportName'],sep='\\t').head()\n",
    "\n",
    "## Give fake data a meaningful name\n",
    "data2 = TC.kwargs['ReportName']"
   ]
  },
  {
   "cell_type": "markdown",
   "metadata": {
    "deletable": true,
    "editable": true
   },
   "source": [
    "Now setup a parameter estimation like before and run. Note that we already have a configuration file with the default filename and therefore do not need to rewrite one. Also, in real life we might consider having a 'Mek1-PP_indep' column in both data files as this is what will discriminate the data. This is not done here for brevity. "
   ]
  },
  {
   "cell_type": "code",
   "execution_count": null,
   "metadata": {
    "collapsed": false,
    "deletable": true,
    "editable": true
   },
   "outputs": [],
   "source": [
    "from PyCoTools.pycopi import ParameterEstimation \n",
    "\n",
    "report = 'parameter_estimation_data2.txt'\n",
    "PE=ParameterEstimation(kholodenko_model,[data1,data2],\n",
    "                      Method='GeneticAlgorithm',\n",
    "                      ReportName = report)\n",
    "PE.set_up()\n",
    "PE.run()\n"
   ]
  },
  {
   "cell_type": "markdown",
   "metadata": {
    "deletable": true,
    "editable": true
   },
   "source": [
    "Lets check the parameter estimation data:"
   ]
  },
  {
   "cell_type": "code",
   "execution_count": null,
   "metadata": {
    "collapsed": false,
    "deletable": true,
    "editable": true
   },
   "outputs": [],
   "source": [
    "import pandas\n",
    "print pandas.read_csv(PE.kwargs['ReportName'],sep='\\t').iloc[-1] #recall that best parameter are at end of file"
   ]
  },
  {
   "cell_type": "markdown",
   "metadata": {
    "deletable": true,
    "editable": true
   },
   "source": [
    "# Visualization \n",
    "Use the `Plot` keyword to visualize the data"
   ]
  },
  {
   "cell_type": "code",
   "execution_count": null,
   "metadata": {
    "collapsed": true,
    "deletable": true,
    "editable": true
   },
   "outputs": [],
   "source": [
    "from PyCoTools.pycopi import ParameterEstimation \n",
    "\n",
    "report = 'parameter_estimation_data2.txt'\n",
    "PE=ParameterEstimation(kholodenko_model,[data1,data2],\n",
    "                      Method='GeneticAlgorithm',\n",
    "                      ReportName = report,\n",
    "                      Plot='true')\n",
    "PE.set_up()\n",
    "PE.run()\n"
   ]
  },
  {
   "cell_type": "markdown",
   "metadata": {
    "deletable": true,
    "editable": true
   },
   "source": [
    "An alternative is to simply insert the parameters and the open the model using the UI and simulate manually using current solution statistics. In fact this is my preference. "
   ]
  },
  {
   "cell_type": "code",
   "execution_count": null,
   "metadata": {
    "collapsed": true,
    "deletable": true,
    "editable": true
   },
   "outputs": [],
   "source": [
    "import PyCoTools\n",
    "import os\n",
    "import pandas\n",
    "\n",
    "pe_data = pandas.read_csv(report,sep='\\t')\n",
    "\n",
    "print pe_data\n",
    "\n",
    "InsertParameters(kholodenko_model,ParameterPath = report,Index = 0)\n",
    "\n",
    "os.system('CopasiUI {}'.format(kholodenko_model))\n",
    "\n"
   ]
  }
 ],
 "metadata": {
  "kernelspec": {
   "display_name": "Python 2",
   "language": "python",
   "name": "python2"
  },
  "language_info": {
   "codemirror_mode": {
    "name": "ipython",
    "version": 2
   },
   "file_extension": ".py",
   "mimetype": "text/x-python",
   "name": "python",
   "nbconvert_exporter": "python",
   "pygments_lexer": "ipython2",
   "version": "2.7.11"
  }
 },
 "nbformat": 4,
 "nbformat_minor": 2
}
