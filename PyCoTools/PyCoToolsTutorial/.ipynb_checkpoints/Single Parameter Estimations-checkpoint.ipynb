{
 "cells": [
  {
   "cell_type": "markdown",
   "metadata": {
    "deletable": true,
    "editable": true
   },
   "source": [
    "# Parameter Estimation\n",
    "First get handle to example model file:"
   ]
  },
  {
   "cell_type": "code",
   "execution_count": 5,
   "metadata": {
    "collapsed": false,
    "deletable": true,
    "editable": true
   },
   "outputs": [
    {
     "name": "stdout",
     "output_type": "stream",
     "text": [
      "/home/b3053674/Documents/PyCoTools/PyCoTools/PyCoToolsTutorial/Kholodenko.cps\n",
      "True\n"
     ]
    }
   ],
   "source": [
    "%matplotlib inline\n",
    "import os,glob\n",
    "\n",
    "for i in glob.glob('*.cps'):\n",
    "    kholodenko_model= os.path.abspath(i)\n",
    "    \n",
    "print kholodenko_model\n",
    "print os.path.isfile(kholodenko_model)"
   ]
  },
  {
   "cell_type": "markdown",
   "metadata": {
    "deletable": true,
    "editable": true
   },
   "source": [
    "Now simulate some synthetic data for sake of running an example:"
   ]
  },
  {
   "cell_type": "code",
   "execution_count": 65,
   "metadata": {
    "collapsed": false,
    "deletable": true,
    "editable": true
   },
   "outputs": [
    {
     "name": "stdout",
     "output_type": "stream",
     "text": [
      "   Time       Mek1-PP        Erk2      Mos   Erk2-P  Erk2-PP     Mos-P  \\\n",
      "0     0  2.000000e+01  280.000000  90.0000   10.000  10.0000  10.00000   \n",
      "1     1  9.104570e-07    0.012525  90.0479  289.863  10.1249   9.95215   \n",
      "2     2  9.060800e-07    0.028488  90.0955  289.847  10.1247   9.90453   \n",
      "3     3  9.017240e-07    0.044451  90.1429  289.831  10.1244   9.85713   \n",
      "4     4  8.973890e-07    0.060414  90.1900  289.815  10.1241   9.80995   \n",
      "\n",
      "         Mek1   Mek1-P  \n",
      "0  280.000000   10.000  \n",
      "1    0.045896  309.954  \n",
      "2    0.046117  309.954  \n",
      "3    0.046340  309.954  \n",
      "4    0.046564  309.953  \n"
     ]
    }
   ],
   "source": [
    "import PyCoTools,pandas\n",
    "report= 'parameter_estimation_synthetic_data.txt'\n",
    "TC=PyCoTools.pycopi.TimeCourse(kholodenko_model,Start=0,End=1000,Intervals=1000,StepSize=1,\n",
    "                            ReportName = report)\n",
    "\n",
    "## validate that its worked\n",
    "print pandas.read_csv(TC.kwargs['ReportName'],sep='\\t').head()\n",
    "\n",
    "## Give fake data a meaningful name\n",
    "data1 = TC.kwargs['ReportName']"
   ]
  },
  {
   "cell_type": "markdown",
   "metadata": {
    "deletable": true,
    "editable": true
   },
   "source": [
    "Note that it is completely necessary to have column headings in a data file that exactly match a model variable. Independant variables can be mapped easily by appending the suffic `'_indep'` to the variable. If you had two data sets that stimulated cell cultures at different concentrations for example, you could have `stimulation_indep` as a column heading in both with each containing the amount of stimulant that was used in the experiment. "
   ]
  },
  {
   "cell_type": "markdown",
   "metadata": {
    "deletable": true,
    "editable": true
   },
   "source": [
    "# Setup and run single parameter estimation \n",
    "Now we're ready to setup and run a parameter estimation"
   ]
  },
  {
   "cell_type": "code",
   "execution_count": 13,
   "metadata": {
    "collapsed": false,
    "deletable": true,
    "editable": true
   },
   "outputs": [
    {
     "name": "stdout",
     "output_type": "stream",
     "text": [
      "geneticalgorithm\n"
     ]
    }
   ],
   "source": [
    "import PyCoTools, os\n",
    "PE=PyCoTools.pycopi.ParameterEstimation(kholodenko_model,data1)\n",
    "\n",
    "## default method is GeneticAlgorithm\n",
    "print PE.kwargs['Method']"
   ]
  },
  {
   "cell_type": "markdown",
   "metadata": {
    "deletable": true,
    "editable": true
   },
   "source": [
    "To change the optimization algorithm use the Method kwarg\n"
   ]
  },
  {
   "cell_type": "code",
   "execution_count": 14,
   "metadata": {
    "collapsed": false,
    "deletable": true,
    "editable": true
   },
   "outputs": [
    {
     "ename": "AssertionError",
     "evalue": "HookJeeves is not a copasi PE Method. Choose one of: ['CurrentSolutionStatistics', 'DifferentialEvolution', 'EvolutionaryStrategySR', 'EvolutionaryProgram', 'HookeJeeves', 'LevenbergMarquardt', 'NelderMead', 'ParticleSwarm', 'Praxis', 'RandomSearch', 'ScatterSearch', 'SimulatedAnnealing', 'SteepestDescent', 'TruncatedNewton', 'GeneticAlgorithm', 'GeneticAlgorithmSR']",
     "output_type": "error",
     "traceback": [
      "\u001b[0;31m---------------------------------------------------------------------------\u001b[0m",
      "\u001b[0;31mAssertionError\u001b[0m                            Traceback (most recent call last)",
      "\u001b[0;32m<ipython-input-14-816be5c78b8a>\u001b[0m in \u001b[0;36m<module>\u001b[0;34m()\u001b[0m\n\u001b[1;32m      1\u001b[0m PE=PyCoTools.pycopi.ParameterEstimation(kholodenko_model,data1,\n\u001b[0;32m----> 2\u001b[0;31m                                         Method='HookJeeves')\n\u001b[0m",
      "\u001b[0;32m/home/b3053674/anaconda2/lib/python2.7/site-packages/PyCoTools/pycopi.pyc\u001b[0m in \u001b[0;36m__init__\u001b[0;34m(self, copasi_file, experiment_files, **kwargs)\u001b[0m\n\u001b[1;32m   2568\u001b[0m                      \u001b[0;34m'SteepestDescent'\u001b[0m\u001b[0;34m,\u001b[0m\u001b[0;34m'TruncatedNewton'\u001b[0m\u001b[0;34m,\u001b[0m\u001b[0;34m'GeneticAlgorithm'\u001b[0m\u001b[0;34m,\u001b[0m\u001b[0;34m\u001b[0m\u001b[0m\n\u001b[1;32m   2569\u001b[0m                      'GeneticAlgorithmSR']\n\u001b[0;32m-> 2570\u001b[0;31m         \u001b[0;32massert\u001b[0m \u001b[0mself\u001b[0m\u001b[0;34m.\u001b[0m\u001b[0mkwargs\u001b[0m\u001b[0;34m.\u001b[0m\u001b[0mget\u001b[0m\u001b[0;34m(\u001b[0m\u001b[0;34m'Method'\u001b[0m\u001b[0;34m)\u001b[0m\u001b[0;34m.\u001b[0m\u001b[0mlower\u001b[0m\u001b[0;34m(\u001b[0m\u001b[0;34m)\u001b[0m \u001b[0;32min\u001b[0m \u001b[0;34m[\u001b[0m\u001b[0mi\u001b[0m\u001b[0;34m.\u001b[0m\u001b[0mlower\u001b[0m\u001b[0;34m(\u001b[0m\u001b[0;34m)\u001b[0m \u001b[0;32mfor\u001b[0m \u001b[0mi\u001b[0m \u001b[0;32min\u001b[0m \u001b[0mself\u001b[0m\u001b[0;34m.\u001b[0m\u001b[0mmethod_list\u001b[0m\u001b[0;34m]\u001b[0m\u001b[0;34m,\u001b[0m\u001b[0;34m'{} is not a copasi PE Method. Choose one of: {}'\u001b[0m\u001b[0;34m.\u001b[0m\u001b[0mformat\u001b[0m\u001b[0;34m(\u001b[0m\u001b[0mself\u001b[0m\u001b[0;34m.\u001b[0m\u001b[0mkwargs\u001b[0m\u001b[0;34m.\u001b[0m\u001b[0mget\u001b[0m\u001b[0;34m(\u001b[0m\u001b[0;34m'Method'\u001b[0m\u001b[0;34m)\u001b[0m\u001b[0;34m,\u001b[0m\u001b[0mself\u001b[0m\u001b[0;34m.\u001b[0m\u001b[0mmethod_list\u001b[0m\u001b[0;34m)\u001b[0m\u001b[0;34m\u001b[0m\u001b[0m\n\u001b[0m\u001b[1;32m   2571\u001b[0m         \u001b[0;32massert\u001b[0m \u001b[0mself\u001b[0m\u001b[0;34m.\u001b[0m\u001b[0mkwargs\u001b[0m\u001b[0;34m.\u001b[0m\u001b[0mget\u001b[0m\u001b[0;34m(\u001b[0m\u001b[0;34m'Verbose'\u001b[0m\u001b[0;34m)\u001b[0m \u001b[0;32min\u001b[0m \u001b[0;34m[\u001b[0m\u001b[0;34m'true'\u001b[0m\u001b[0;34m,\u001b[0m\u001b[0;34m'false'\u001b[0m\u001b[0;34m]\u001b[0m\u001b[0;34m\u001b[0m\u001b[0m\n\u001b[1;32m   2572\u001b[0m         \u001b[0;32massert\u001b[0m \u001b[0mself\u001b[0m\u001b[0;34m.\u001b[0m\u001b[0mkwargs\u001b[0m\u001b[0;34m.\u001b[0m\u001b[0mget\u001b[0m\u001b[0;34m(\u001b[0m\u001b[0;34m'Append'\u001b[0m\u001b[0;34m)\u001b[0m \u001b[0;32min\u001b[0m \u001b[0;34m[\u001b[0m\u001b[0;34m'true'\u001b[0m\u001b[0;34m,\u001b[0m\u001b[0;34m'false'\u001b[0m\u001b[0;34m]\u001b[0m\u001b[0;34m\u001b[0m\u001b[0m\n",
      "\u001b[0;31mAssertionError\u001b[0m: HookJeeves is not a copasi PE Method. Choose one of: ['CurrentSolutionStatistics', 'DifferentialEvolution', 'EvolutionaryStrategySR', 'EvolutionaryProgram', 'HookeJeeves', 'LevenbergMarquardt', 'NelderMead', 'ParticleSwarm', 'Praxis', 'RandomSearch', 'ScatterSearch', 'SimulatedAnnealing', 'SteepestDescent', 'TruncatedNewton', 'GeneticAlgorithm', 'GeneticAlgorithmSR']"
     ]
    }
   ],
   "source": [
    "PE=PyCoTools.pycopi.ParameterEstimation(kholodenko_model,data1,\n",
    "                                        Method='HookJeeves')"
   ]
  },
  {
   "cell_type": "markdown",
   "metadata": {
    "deletable": true,
    "editable": true
   },
   "source": [
    "If you spell an algorithm wrong you'll be presented with a list of valid stings for the Method parameter. Lets try again"
   ]
  },
  {
   "cell_type": "code",
   "execution_count": 17,
   "metadata": {
    "collapsed": false,
    "deletable": true,
    "editable": true
   },
   "outputs": [
    {
     "data": {
      "text/plain": [
       "'hookejeeves'"
      ]
     },
     "execution_count": 17,
     "metadata": {},
     "output_type": "execute_result"
    }
   ],
   "source": [
    "PE=PyCoTools.pycopi.ParameterEstimation(kholodenko_model,data1,\n",
    "                                        Method='HookeJeeves')\n",
    "\n",
    "## validate (methods are converted into lowercase strings)\n",
    "PE.kwargs['Method']"
   ]
  },
  {
   "cell_type": "markdown",
   "metadata": {
    "deletable": true,
    "editable": true
   },
   "source": [
    "All algorithm specific parameters should be defined here, along with the instantiation of the ParameterEstimation class"
   ]
  },
  {
   "cell_type": "code",
   "execution_count": 23,
   "metadata": {
    "collapsed": false,
    "deletable": true,
    "editable": true
   },
   "outputs": [
    {
     "name": "stdout",
     "output_type": "stream",
     "text": [
      "Tolerance =  1e-10\n",
      "IterationLimit = 100\n"
     ]
    }
   ],
   "source": [
    "PE=PyCoTools.pycopi.ParameterEstimation(kholodenko_model,data1,\n",
    "                                        Method='HookeJeeves',\n",
    "                                        IterationLimit = 100,\n",
    "                                        Tolerance = 1e-10)\n",
    "\n",
    "## check\n",
    "print 'Tolerance = ',PE.kwargs['Tolerance']\n",
    "print 'IterationLimit =', PE.kwargs['IterationLimit']"
   ]
  },
  {
   "cell_type": "markdown",
   "metadata": {
    "deletable": true,
    "editable": true
   },
   "source": [
    "Now use the `write_item_template` method to create a parameter estimation configuration file:"
   ]
  },
  {
   "cell_type": "code",
   "execution_count": 26,
   "metadata": {
    "collapsed": false,
    "deletable": true,
    "editable": true
   },
   "outputs": [
    {
     "name": "stdout",
     "output_type": "stream",
     "text": [
      "/home/b3053674/Documents/PyCoTools/PyCoTools/PyCoToolsTutorial/PEConfigFile.xlsx\n"
     ]
    }
   ],
   "source": [
    "PE.write_item_template()"
   ]
  },
  {
   "cell_type": "markdown",
   "metadata": {
    "deletable": true,
    "editable": true
   },
   "source": [
    "The path to the config file is stored in the `ConfigFilename` kwarg and can be provided on instantiation if desired. Here we use the default:"
   ]
  },
  {
   "cell_type": "code",
   "execution_count": 29,
   "metadata": {
    "collapsed": false,
    "deletable": true,
    "editable": true
   },
   "outputs": [
    {
     "name": "stdout",
     "output_type": "stream",
     "text": [
      "/home/b3053674/Documents/PyCoTools/PyCoTools/PyCoToolsTutorial/PEConfigFile.xlsx\n",
      "True\n"
     ]
    }
   ],
   "source": [
    "print PE.kwargs['ConfigFilename']\n",
    "\n",
    "## check that the config filename exists\n",
    "print os.path.isfile(PE.kwargs['ConfigFilename'])"
   ]
  },
  {
   "cell_type": "markdown",
   "metadata": {
    "deletable": true,
    "editable": true
   },
   "source": [
    "A parameter estimation configuration file has 7 columns but the last three are not meant to be modified in any way. Each row corresponds to a parameter in your model and by default all kinetic parameters (local and global) and initial concentration parameters are included in the configuration. To exclude a parameter from the estimation simply delete the row corresponding to the parameter you wish to remove. Also, specify the estimation boundaries for each parameter and optionally the starting value. It is common to randomize the start values however and so the start values column is rarely used. If you would like to use the configuration file as to specify start values then you must set the `UseTemplateStartValues` option to `'true'`. \n",
    "\n",
    "After modification, save and close the file. In the example, no modifications we're made and so all kinetic and initial concentration parameters are estimated. \n",
    "\n",
    "Now use the `set_up()` and `run()` methods. "
   ]
  },
  {
   "cell_type": "code",
   "execution_count": 30,
   "metadata": {
    "collapsed": true,
    "deletable": true,
    "editable": true
   },
   "outputs": [],
   "source": [
    "PE.set_up()"
   ]
  },
  {
   "cell_type": "markdown",
   "metadata": {
    "deletable": true,
    "editable": true
   },
   "source": [
    "Open the model and check the parameter estimation task (optionally run the next cell). The ParameterEstimation class has performed the configuration that used to have to do manually. "
   ]
  },
  {
   "cell_type": "code",
   "execution_count": 32,
   "metadata": {
    "collapsed": false,
    "deletable": true,
    "editable": true
   },
   "outputs": [
    {
     "data": {
      "text/plain": [
       "0"
      ]
     },
     "execution_count": 32,
     "metadata": {},
     "output_type": "execute_result"
    }
   ],
   "source": [
    "import os\n",
    "os.system('CopasiUI {}'.format(kholodenko_model))\n",
    "##  remember to close the model before continuing"
   ]
  },
  {
   "cell_type": "markdown",
   "metadata": {
    "deletable": true,
    "editable": true
   },
   "source": [
    "The `Run()` method will run the copasi file using `CopasiSE` behind the scenes (provided that an environment variable called `CopasiSE` is set up and pointing to the location of `CopasiSE` on disk. "
   ]
  },
  {
   "cell_type": "code",
   "execution_count": 33,
   "metadata": {
    "collapsed": false,
    "deletable": true,
    "editable": true
   },
   "outputs": [
    {
     "data": {
      "text/plain": [
       "<PyCoTools.pycopi.Run instance at 0x7f127594c440>"
      ]
     },
     "execution_count": 33,
     "metadata": {},
     "output_type": "execute_result"
    }
   ],
   "source": [
    "PE.run() # will take some time"
   ]
  },
  {
   "cell_type": "markdown",
   "metadata": {
    "deletable": true,
    "editable": true
   },
   "source": [
    "The `run()` method should take a bit of time and the output will be the parameter estimation data as the algorithm progresses from first to last function evaluation. This means that the best parameters are at the end. Lets take a look"
   ]
  },
  {
   "cell_type": "code",
   "execution_count": 42,
   "metadata": {
    "collapsed": false,
    "deletable": true,
    "editable": true
   },
   "outputs": [
    {
     "name": "stdout",
     "output_type": "stream",
     "text": [
      "   [Mek1-PP]_0  [Erk2]_0   [Mos]_0  [Erk2-P]_0  [Erk2-PP]_0  [Mos-P]_0  \\\n",
      "0     0.000002   7394.53  0.000146     912.440      189.637   101.2530   \n",
      "1     0.000002   7394.53  0.000146     912.440      189.637   101.2530   \n",
      "2     0.000001   7394.53  0.000146     912.440      189.637   101.2530   \n",
      "3     0.000001   7394.53  0.000146     912.440      189.637   101.2530   \n",
      "4     0.000001   5915.62  0.000117     729.952      151.709    81.0021   \n",
      "\n",
      "   [Mek1]_0  [Mek1-P]_0  (phosphorylation of MAPKK).KK3  \\\n",
      "0   26857.0    0.183076                        0.000033   \n",
      "1   26857.0    0.146460                        0.000033   \n",
      "2   26857.0    0.219691                        0.000033   \n",
      "3   26857.0    0.219691                        0.000040   \n",
      "4   21485.6    0.219691                        0.000046   \n",
      "\n",
      "   (MAPKKK activation).K1  \\\n",
      "0                0.000004   \n",
      "1                0.000004   \n",
      "2                0.000004   \n",
      "3                0.000004   \n",
      "4                0.000003   \n",
      "\n",
      "                                    ...                                     \\\n",
      "0                                   ...                                      \n",
      "1                                   ...                                      \n",
      "2                                   ...                                      \n",
      "3                                   ...                                      \n",
      "4                                   ...                                      \n",
      "\n",
      "   (MAPKKK activation).V1  (MAPKKK activation).Ki  \\\n",
      "0                 42217.0                1.052420   \n",
      "1                 50660.4                0.841940   \n",
      "2                 59103.8                0.631455   \n",
      "3                 67547.2                0.420970   \n",
      "4                 84434.0                0.000001   \n",
      "\n",
      "   (phosphorylation of MAPK).KK7  (dephosphorylation of MAPK-P).KK10  \\\n",
      "0                       10161.70                            0.693408   \n",
      "1                       10161.70                            0.693408   \n",
      "2                        8129.35                            0.693408   \n",
      "3                        6097.01                            0.693408   \n",
      "4                        2032.34                            0.832090   \n",
      "\n",
      "   (phosphorylation of MAPK-P).KK8  (dephosphorylation of MAPKK-PP).V5  \\\n",
      "0                         0.003582                             5.35086   \n",
      "1                         0.002865                             6.42103   \n",
      "2                         0.002149                             7.49121   \n",
      "3                         0.001433                             8.56138   \n",
      "4                         0.001433                             8.56138   \n",
      "\n",
      "   (dephosphorylation of MAPK-P).V10  (dephosphorylation of MAPKK-P).V6  \\\n",
      "0                            1.23834                            1525.91   \n",
      "1                            1.48601                            1831.09   \n",
      "2                            1.73367                            2136.27   \n",
      "3                            1.73367                            2746.63   \n",
      "4                            1.48601                            3051.81   \n",
      "\n",
      "   (MAPKKK activation).n  \\\n",
      "0               0.000545   \n",
      "1               0.000654   \n",
      "2               0.000763   \n",
      "3               0.000872   \n",
      "4               0.000872   \n",
      "\n",
      "   TaskList[Parameter Estimation].(Problem)Parameter Estimation.Best Value  \n",
      "0                                       2.177660e+17                        \n",
      "1                                       1.129170e+11                        \n",
      "2                                       1.127230e+11                        \n",
      "3                                       1.123350e+11                        \n",
      "4                                       5.793050e+07                        \n",
      "\n",
      "[5 rows x 31 columns]\n",
      "      [Mek1-PP]_0  [Erk2]_0   [Mos]_0  [Erk2-P]_0  [Erk2-PP]_0  [Mos-P]_0  \\\n",
      "1065     0.000005   98.7604  0.000035     191.238      10.0131    1.96999   \n",
      "1066     0.000005   98.7604  0.000035     191.238      10.0131    1.96999   \n",
      "1067     0.000005   98.7604  0.000035     191.238      10.0131    1.96999   \n",
      "1068     0.000005   98.7604  0.000035     191.238      10.0131    1.96999   \n",
      "1069     0.000005   98.7604  0.000035     191.238      10.0131    1.96999   \n",
      "\n",
      "      [Mek1]_0  [Mek1-P]_0  (phosphorylation of MAPKK).KK3  \\\n",
      "1065  0.000001    0.430079                        0.000146   \n",
      "1066  0.000001    0.430079                        0.000146   \n",
      "1067  0.000001    0.430079                        0.000146   \n",
      "1068  0.000001    0.430079                        0.000146   \n",
      "1069  0.000001    0.430079                        0.000146   \n",
      "\n",
      "      (MAPKKK activation).K1  \\\n",
      "1065                0.000002   \n",
      "1066                0.000002   \n",
      "1067                0.000002   \n",
      "1068                0.000002   \n",
      "1069                0.000002   \n",
      "\n",
      "                                       ...                                     \\\n",
      "1065                                   ...                                      \n",
      "1066                                   ...                                      \n",
      "1067                                   ...                                      \n",
      "1068                                   ...                                      \n",
      "1069                                   ...                                      \n",
      "\n",
      "      (MAPKKK activation).V1  (MAPKKK activation).Ki  \\\n",
      "1065                175670.0                0.132536   \n",
      "1066                175670.0                0.132536   \n",
      "1067                175670.0                0.132536   \n",
      "1068                175670.0                0.132536   \n",
      "1069                175670.0                0.132536   \n",
      "\n",
      "      (phosphorylation of MAPK).KK7  (dephosphorylation of MAPK-P).KK10  \\\n",
      "1065                        13898.4                              1.1226   \n",
      "1066                        13898.4                              1.1226   \n",
      "1067                        13898.4                              1.1226   \n",
      "1068                        13898.4                              1.1226   \n",
      "1069                        13898.4                              1.1226   \n",
      "\n",
      "      (phosphorylation of MAPK-P).KK8  (dephosphorylation of MAPKK-PP).V5  \\\n",
      "1065                         0.003409                             7.39977   \n",
      "1066                         0.003409                             7.39977   \n",
      "1067                         0.003409                             7.39977   \n",
      "1068                         0.003409                             7.39977   \n",
      "1069                         0.003409                             7.39977   \n",
      "\n",
      "      (dephosphorylation of MAPK-P).V10  (dephosphorylation of MAPKK-P).V6  \\\n",
      "1065                            2.00785                            1774.84   \n",
      "1066                            2.00785                            1774.84   \n",
      "1067                            2.00785                            1774.84   \n",
      "1068                            2.00785                            1774.84   \n",
      "1069                            2.00785                            1774.84   \n",
      "\n",
      "      (MAPKKK activation).n  \\\n",
      "1065               0.000578   \n",
      "1066               0.000578   \n",
      "1067               0.000578   \n",
      "1068               0.000578   \n",
      "1069               0.000578   \n",
      "\n",
      "      TaskList[Parameter Estimation].(Problem)Parameter Estimation.Best Value  \n",
      "1065                                            14767.7                        \n",
      "1066                                            14767.7                        \n",
      "1067                                            14767.7                        \n",
      "1068                                            14767.7                        \n",
      "1069                                            14767.7                        \n",
      "\n",
      "[5 rows x 31 columns]\n"
     ]
    },
    {
     "name": "stderr",
     "output_type": "stream",
     "text": [
      "/home/b3053674/anaconda2/lib/python2.7/site-packages/ipykernel/__main__.py:16: RuntimeWarning: divide by zero encountered in log10\n"
     ]
    },
    {
     "data": {
      "text/plain": [
       "<matplotlib.text.Text at 0x7f1272c7ed50>"
      ]
     },
     "execution_count": 42,
     "metadata": {},
     "output_type": "execute_result"
    },
    {
     "data": {
      "image/png": "[encoded data removed]",
      "text/plain": [
       "<matplotlib.figure.Figure at 0x7f1272d88ad0>"
      ]
     },
     "metadata": {},
     "output_type": "display_data"
    }
   ],
   "source": [
    "import pandas\n",
    "import matplotlib.pyplot as plt\n",
    "import numpy\n",
    "## lets take a look at the parameter estimation results\n",
    "pe_data= pandas.read_csv(PE.kwargs['ReportName'],sep='\\t') \n",
    "\n",
    "## top 5 function evaluations\n",
    "print pe_data.head()\n",
    "\n",
    "##last 5 function evaluations\n",
    "print pe_data.tail()\n",
    "\n",
    "## visualise the best value over function evaluations\n",
    "rss_string='TaskList[Parameter Estimation].(Problem)Parameter Estimation.Best Value'\n",
    "plt.figure()\n",
    "plt.plot(numpy.log10(pe_data.index),numpy.log10(pe_data[rss_string]))\n",
    "plt.title('RSS versus #FunctionEvaluations')\n",
    "plt.xlabel('FunctionEvaluations\\n(log10)')\n",
    "plt.ylabel('RSS value\\n(log10)')"
   ]
  },
  {
   "cell_type": "markdown",
   "metadata": {
    "deletable": true,
    "editable": true
   },
   "source": [
    "## Multiple Data Files\n",
    "PyCoTools can easily handle multiple data files by giving `ParameterEsimation` a list of data file paths. Lets simulate some more data.\n",
    "\n",
    "First change the value of a parameter so both sets of simulated data are not identical:"
   ]
  },
  {
   "cell_type": "code",
   "execution_count": 59,
   "metadata": {
    "collapsed": false,
    "deletable": true,
    "editable": true
   },
   "outputs": [
    {
     "name": "stdout",
     "output_type": "stream",
     "text": [
      "{'concentration': 20.0, 'compartment': 'uVol', 'particle_numbers': '1.204428358e+16'}\n",
      "{'concentration': 20.0, 'compartment': 'uVol', 'particle_numbers': '1.204428358e+16'}\n"
     ]
    },
    {
     "data": {
      "text/plain": [
       "0"
      ]
     },
     "execution_count": 59,
     "metadata": {},
     "output_type": "execute_result"
    }
   ],
   "source": [
    "import PyCoTools,os\n",
    "## Original value of Mek1-PP at time 0 is 10. \n",
    "GMQ=PyCoTools.pycopi.GetModelQuantities(kholodenko_model)\n",
    "print GMQ.get_metabolites()['Mek1-PP']\n",
    "\n",
    "#Use InsertParameters to change it to 20\n",
    "I=PyCoTools.pycopi.InsertParameters(kholodenko_model,ParameterDict={'Mek1-PP':20})\n",
    "GMQ=PyCoTools.pycopi.GetModelQuantities(kholodenko_model)\n",
    "print GMQ.get_metabolites()['Mek1-PP']\n",
    "\n"
   ]
  },
  {
   "cell_type": "markdown",
   "metadata": {
    "deletable": true,
    "editable": true
   },
   "source": [
    "And Simulate some data:"
   ]
  },
  {
   "cell_type": "code",
   "execution_count": 57,
   "metadata": {
    "collapsed": false,
    "deletable": true,
    "editable": true,
    "scrolled": true
   },
   "outputs": [
    {
     "name": "stdout",
     "output_type": "stream",
     "text": [
      "   Time       Mek1-PP        Erk2      Mos   Erk2-P  Erk2-PP     Mos-P  \\\n",
      "0     0  2.000000e+01  280.000000  90.0000   10.000  10.0000  10.00000   \n",
      "1     1  9.104570e-07    0.012525  90.0479  289.863  10.1249   9.95215   \n",
      "2     2  9.060800e-07    0.028488  90.0955  289.847  10.1247   9.90453   \n",
      "3     3  9.017240e-07    0.044451  90.1429  289.831  10.1244   9.85713   \n",
      "4     4  8.973890e-07    0.060414  90.1900  289.815  10.1241   9.80995   \n",
      "\n",
      "         Mek1   Mek1-P  \n",
      "0  280.000000   10.000  \n",
      "1    0.045896  309.954  \n",
      "2    0.046117  309.954  \n",
      "3    0.046340  309.954  \n",
      "4    0.046564  309.953  \n"
     ]
    }
   ],
   "source": [
    "import PyCoTools,pandas\n",
    "report= 'parameter_estimation_synthetic_data2.txt'\n",
    "TC=PyCoTools.pycopi.TimeCourse(kholodenko_model,\n",
    "                               End=1000,\n",
    "                               Intervals=1000,\n",
    "                               StepSize=1,\n",
    "                               ReportName = report)\n",
    "\n",
    "## validate that its worked\n",
    "print pandas.read_csv(TC.kwargs['ReportName'],sep='\\t').head()\n",
    "\n",
    "## Give fake data a meaningful name\n",
    "data2 = TC.kwargs['ReportName']"
   ]
  },
  {
   "cell_type": "markdown",
   "metadata": {
    "deletable": true,
    "editable": true
   },
   "source": [
    "Now setup a parameter estimation like before and run. Note that we already have a configuration file with the default filename and therefore do not need to rewrite one. Also, in real life we might consider having a 'Mek1-PP_indep' column in both data files as this is what will discriminate the data. This is not done here for brevity. "
   ]
  },
  {
   "cell_type": "code",
   "execution_count": 61,
   "metadata": {
    "collapsed": false,
    "deletable": true,
    "editable": true
   },
   "outputs": [
    {
     "data": {
      "text/plain": [
       "<PyCoTools.pycopi.Run instance at 0x7f1272c21440>"
      ]
     },
     "execution_count": 61,
     "metadata": {},
     "output_type": "execute_result"
    }
   ],
   "source": [
    "from PyCoTools.pycopi import ParameterEstimation \n",
    "\n",
    "report = 'parameter_estimation_data2.txt'\n",
    "PE=ParameterEstimation(kholodenko_model,[data1,data2],\n",
    "                      Method='GeneticAlgorithm',\n",
    "                      ReportName = report)\n",
    "PE.set_up()\n",
    "PE.run()\n"
   ]
  },
  {
   "cell_type": "markdown",
   "metadata": {
    "deletable": true,
    "editable": true
   },
   "source": [
    "Lets check the parameter estimation data:"
   ]
  },
  {
   "cell_type": "code",
   "execution_count": 63,
   "metadata": {
    "collapsed": false,
    "deletable": true,
    "editable": true
   },
   "outputs": [
    {
     "name": "stdout",
     "output_type": "stream",
     "text": [
      "[Mek1-PP]_0                                                                  165.719000\n",
      "[Erk2]_0                                                                       0.061016\n",
      "[Mos]_0                                                                        0.011657\n",
      "[Erk2-P]_0                                                                   154.178000\n",
      "[Erk2-PP]_0                                                                   11.024600\n",
      "[Mos-P]_0                                                                     73.983300\n",
      "[Mek1]_0                                                                       0.008613\n",
      "[Mek1-P]_0                                                                     0.000005\n",
      "(phosphorylation of MAPKK).KK3                                                 0.000002\n",
      "(MAPKKK activation).K1                                                         0.000011\n",
      "(dephosphorylation of MAPK-PP).V9                                              0.000001\n",
      "(phosphorylation of MAPK).k7                                                6963.530000\n",
      "(phosphorylation of MAPK-P).k8                                                 0.000001\n",
      "(MAPKKK inactivation).KK2                                                      0.049286\n",
      "(MAPKKK inactivation).V2                                                      51.980700\n",
      "(phosphorylation of MAPKK).k3                                                  0.000001\n",
      "(phosphorylation of MAPKK-P).k4                                                0.000050\n",
      "(dephosphorylation of MAPKK-PP).KK5                                         4246.280000\n",
      "(dephosphorylation of MAPK-PP).KK9                                             0.000143\n",
      "(dephosphorylation of MAPKK-P).KK6                                            24.297100\n",
      "(phosphorylation of MAPKK-P).KK4                                            6436.870000\n",
      "(MAPKKK activation).V1                                                         0.000797\n",
      "(MAPKKK activation).Ki                                                         0.057537\n",
      "(phosphorylation of MAPK).KK7                                                  2.920310\n",
      "(dephosphorylation of MAPK-P).KK10                                           732.349000\n",
      "(phosphorylation of MAPK-P).KK8                                                0.000004\n",
      "(dephosphorylation of MAPKK-PP).V5                                         80714.000000\n",
      "(dephosphorylation of MAPK-P).V10                                              0.000504\n",
      "(dephosphorylation of MAPKK-P).V6                                              0.000159\n",
      "(MAPKKK activation).n                                                          0.192613\n",
      "TaskList[Parameter Estimation].(Problem)Parameter Estimation.Best Value     5858.910000\n",
      "Name: 83, dtype: float64\n"
     ]
    }
   ],
   "source": [
    "import pandas\n",
    "print pandas.read_csv(PE.kwargs['ReportName'],sep='\\t').iloc[-1] #recall that best parameter are at end of file"
   ]
  },
  {
   "cell_type": "markdown",
   "metadata": {
    "deletable": true,
    "editable": true
   },
   "source": [
    "# Visualization \n",
    "Use the `Plot` keyword to visualize the data"
   ]
  },
  {
   "cell_type": "code",
   "execution_count": null,
   "metadata": {
    "collapsed": true,
    "deletable": true,
    "editable": true
   },
   "outputs": [],
   "source": [
    "from PyCoTools.pycopi import ParameterEstimation \n",
    "\n",
    "report = 'parameter_estimation_data2.txt'\n",
    "PE=ParameterEstimation(kholodenko_model,[data1,data2],\n",
    "                      Method='GeneticAlgorithm',\n",
    "                      ReportName = report,\n",
    "                      Plot='true')\n",
    "PE.set_up()\n",
    "PE.run()\n"
   ]
  },
  {
   "cell_type": "markdown",
   "metadata": {
    "deletable": true,
    "editable": true
   },
   "source": [
    "An alternative is to simply insert the parameters and the open the model using the UI and simulate manually using current solution statistics. In fact this is my preference. "
   ]
  },
  {
   "cell_type": "code",
   "execution_count": null,
   "metadata": {
    "collapsed": true,
    "deletable": true,
    "editable": true
   },
   "outputs": [],
   "source": [
    "import PyCoTools\n",
    "import os\n",
    "import pandas\n",
    "\n",
    "pe_data = pandas.read_csv(report,sep='\\t')\n",
    "\n",
    "print pe_data\n",
    "\n",
    "InsertParameters(kholodenko_model,ParameterPath = report,Index = 0)\n",
    "\n",
    "os.system('CopasiUI {}'.format(kholodenko_model))\n",
    "\n"
   ]
  }
 ],
 "metadata": {
  "kernelspec": {
   "display_name": "Python 2",
   "language": "python",
   "name": "python2"
  },
  "language_info": {
   "codemirror_mode": {
    "name": "ipython",
    "version": 2
   },
   "file_extension": ".py",
   "mimetype": "text/x-python",
   "name": "python",
   "nbconvert_exporter": "python",
   "pygments_lexer": "ipython2",
   "version": "2.7.11"
  }
 },
 "nbformat": 4,
 "nbformat_minor": 2
}
