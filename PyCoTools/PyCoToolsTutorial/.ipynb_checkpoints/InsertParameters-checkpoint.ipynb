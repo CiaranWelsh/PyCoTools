{
 "cells": [
  {
   "cell_type": "markdown",
   "metadata": {},
   "source": [
    "# InsertParameters\n",
    "This class enables parameters to be inserted into a model from a coapsi output file, pandas dataframe or a python dictionary. "
   ]
  },
  {
   "cell_type": "code",
   "execution_count": 3,
   "metadata": {
    "collapsed": false
   },
   "outputs": [
    {
     "name": "stdout",
     "output_type": "stream",
     "text": [
      "/home/b3053674/Documents/PyCoTools/PyCoTools/PyCoToolsTutorial/Kholodenko.cps\n",
      "True\n"
     ]
    }
   ],
   "source": [
    "%matplotlib inline\n",
    "import os,glob\n",
    "\n",
    "for i in glob.glob('*.cps'):\n",
    "    kholodenko_model= os.path.abspath(i)\n",
    "    \n",
    "print kholodenko_model\n",
    "print os.path.isfile(kholodenko_model)"
   ]
  },
  {
   "cell_type": "code",
   "execution_count": 19,
   "metadata": {
    "collapsed": false
   },
   "outputs": [
    {
     "name": "stdout",
     "output_type": "stream",
     "text": [
      "(MAPKKK activation).K1 --> 10.0\n",
      "(MAPKKK activation).Ki --> 1.88839\n",
      "(MAPKKK activation).V1 --> 7.39701\n",
      "(MAPKKK activation).n --> 571088.0\n",
      "(MAPKKK inactivation).KK2 --> 861.9\n",
      "(MAPKKK inactivation).V2 --> 4.18195\n",
      "(dephosphorylation of MAPK-P).KK10 --> 6864.03\n",
      "(dephosphorylation of MAPK-P).V10 --> 0.401565\n",
      "(dephosphorylation of MAPK-PP).KK9 --> 1.76938e-06\n",
      "(dephosphorylation of MAPK-PP).V9 --> 0.000262119\n",
      "(dephosphorylation of MAPKK-P).KK6 --> 605057.0\n",
      "(dephosphorylation of MAPKK-P).V6 --> 7132.05\n",
      "(dephosphorylation of MAPKK-PP).KK5 --> 0.000197288\n",
      "(dephosphorylation of MAPKK-PP).V5 --> 92.8198\n",
      "(phosphorylation of MAPK).KK7 --> 0.000137201\n",
      "(phosphorylation of MAPK).k7 --> 340.408\n",
      "(phosphorylation of MAPK-P).KK8 --> 3409.55\n",
      "(phosphorylation of MAPK-P).k8 --> 0.899837\n",
      "(phosphorylation of MAPKK).KK3 --> 10.977\n",
      "(phosphorylation of MAPKK).k3 --> 88.1199\n",
      "(phosphorylation of MAPKK-P).KK4 --> 66.5179\n",
      "(phosphorylation of MAPKK-P).k4 --> 0.0520377\n",
      "Erk2 --> 1.6861997012e+17\n",
      "Erk2-P --> 6.02214179e+15\n",
      "Erk2-PP --> 6.02214179e+15\n",
      "Mek1 --> 1.6861997012e+17\n",
      "Mek1-P --> 6.02214179e+15\n",
      "Mek1-PP --> 1.204428358e+16\n",
      "Mos --> 5.419927611e+16\n",
      "Mos-P --> 6.02214179e+15\n",
      "\n",
      "\n",
      "\n",
      "\n",
      "(MAPKKK activation).K1 --> 10.0\n",
      "(MAPKKK activation).Ki --> 1.88839\n",
      "(MAPKKK activation).V1 --> 7.39701\n",
      "(MAPKKK activation).n --> 571088.0\n",
      "(MAPKKK inactivation).KK2 --> 861.9\n",
      "(MAPKKK inactivation).V2 --> 4.18195\n",
      "(dephosphorylation of MAPK-P).KK10 --> 6864.03\n",
      "(dephosphorylation of MAPK-P).V10 --> 0.401565\n",
      "(dephosphorylation of MAPK-PP).KK9 --> 1.76938e-06\n",
      "(dephosphorylation of MAPK-PP).V9 --> 0.000262119\n",
      "(dephosphorylation of MAPKK-P).KK6 --> 605057.0\n",
      "(dephosphorylation of MAPKK-P).V6 --> 7132.05\n",
      "(dephosphorylation of MAPKK-PP).KK5 --> 0.000197288\n",
      "(dephosphorylation of MAPKK-PP).V5 --> 92.8198\n",
      "(phosphorylation of MAPK).KK7 --> 0.000137201\n",
      "(phosphorylation of MAPK).k7 --> 340.408\n",
      "(phosphorylation of MAPK-P).KK8 --> 3409.55\n",
      "(phosphorylation of MAPK-P).k8 --> 0.899837\n",
      "(phosphorylation of MAPKK).KK3 --> 10.977\n",
      "(phosphorylation of MAPKK).k3 --> 88.1199\n",
      "(phosphorylation of MAPKK-P).KK4 --> 66.5179\n",
      "(phosphorylation of MAPKK-P).k4 --> 0.0520377\n",
      "Erk2 --> 1.6861997012e+17\n",
      "Erk2-P --> 6.02214179e+15\n",
      "Erk2-PP --> 6.02214179e+15\n",
      "Mek1 --> 1.6861997012e+17\n",
      "Mek1-P --> 6.02214179e+15\n",
      "Mek1-PP --> 1.204428358e+16\n",
      "Mos --> 5.419927611e+16\n",
      "Mos-P --> 6.02214179e+15\n"
     ]
    }
   ],
   "source": [
    "import PyCoTools\n",
    "import os\n",
    "\n",
    "GMQ_before=PyCoTools.pycopi.GetModelQuantities(kholodenko_model)\n",
    "\n",
    "## Here are our model quantities\n",
    "for param,values in sorted(GMQ_before.get_all_model_variables().items()):\n",
    "    print param,'-->',values['value']\n",
    "    \n",
    "    \n",
    "##create a python dictionary dict[parameter_name]=value\n",
    "parameter_dct={'(MAPKKK activation).K1':10}\n",
    "PyCoTools.pycopi.InsertParameters(kholodenko_model,ParameterDict = parameter_dct)\n",
    "\n",
    "\n",
    "print '\\n\\n\\n'\n",
    "GMQ_after=PyCoTools.pycopi.GetModelQuantities(kholodenko_model)\n",
    "## Here are our model quantities\n",
    "for param,values in sorted(GMQ_after.get_all_model_variables().items()):\n",
    "    print param,'-->',values['value']\n",
    "    "
   ]
  },
  {
   "cell_type": "markdown",
   "metadata": {},
   "source": [
    "Default behaviour when inserting metabolite values is to convert between particle numbers and concentrations automatically and insert both into the CopasiML. Change `CHECK_MODEL` variable to `True` to open the model and confirm for yourself."
   ]
  },
  {
   "cell_type": "code",
   "execution_count": 26,
   "metadata": {
    "collapsed": false,
    "scrolled": true
   },
   "outputs": [
    {
     "name": "stdout",
     "output_type": "stream",
     "text": [
      "Mek1-PP {'concentration': 500.0, 'compartment': 'uVol', 'particle_numbers': '3.011070895e+17'}\n",
      "Erk2 {'concentration': 280.0, 'compartment': 'uVol', 'particle_numbers': '1.6861997012e+17'}\n",
      "Mos {'concentration': 90.0, 'compartment': 'uVol', 'particle_numbers': '5.419927611e+16'}\n",
      "Erk2-P {'concentration': 10.0, 'compartment': 'uVol', 'particle_numbers': '6.02214179e+15'}\n",
      "Erk2-PP {'concentration': 10.0, 'compartment': 'uVol', 'particle_numbers': '6.02214179e+15'}\n",
      "Mos-P {'concentration': 10.0, 'compartment': 'uVol', 'particle_numbers': '6.02214179e+15'}\n",
      "Mek1 {'concentration': 280.0, 'compartment': 'uVol', 'particle_numbers': '1.6861997012e+17'}\n",
      "Mek1-P {'concentration': 10.0, 'compartment': 'uVol', 'particle_numbers': '6.02214179e+15'}\n",
      "\n",
      "\n",
      "\n",
      "\n",
      "Mek1-PP {'concentration': 1000.0, 'compartment': 'uVol', 'particle_numbers': '6.02214179e+17'}\n"
     ]
    },
    {
     "data": {
      "text/plain": [
       "2"
      ]
     },
     "execution_count": 26,
     "metadata": {},
     "output_type": "execute_result"
    }
   ],
   "source": [
    "import PyCoTools,os\n",
    "GMQ_before=PyCoTools.pycopi.GetModelQuantities(kholodenko_model)\n",
    "for key,val in  GMQ_before.get_metabolites().items():\n",
    "    print key,val\n",
    "\n",
    "    \n",
    "metab_dct={'Mek1-PP':1000}\n",
    "PyCoTools.pycopi.InsertParameters(kholodenko_model,ParameterDict=metab_dct)\n",
    "print '\\n\\n\\n'\n",
    "GMQ_after=PyCoTools.pycopi.GetModelQuantities(kholodenko_model)\n",
    "for key,val in  GMQ_after.get_metabolites().items():\n",
    "    if key == metab_dct.keys()[0]:\n",
    "        print key,val\n",
    "        \n",
    "CHECK_MODEL=False\n",
    "if CHECK_MODEL:\n",
    "    os.system('CopasiUI {}'.format(kholodenko_model))\n"
   ]
  },
  {
   "cell_type": "markdown",
   "metadata": {},
   "source": [
    "## From Pandas\n",
    "A `pandas.DataFrame` is a very useful python structure. Parameters are be imported directly from a DataFrame. "
   ]
  },
  {
   "cell_type": "code",
   "execution_count": 46,
   "metadata": {
    "collapsed": false
   },
   "outputs": [
    {
     "name": "stdout",
     "output_type": "stream",
     "text": [
      "(phosphorylation of MAPK-P).k8 0.899837\n",
      "(dephosphorylation of MAPK-PP).KK9 1.76938e-06\n",
      "(dephosphorylation of MAPKK-P).KK6 605057.0\n",
      "(phosphorylation of MAPKK).KK3 97.0\n",
      "(MAPKKK activation).K1 10.0\n",
      "Erk2-P 6.02214179e+15\n",
      "(dephosphorylation of MAPK-PP).V9 0.000262119\n",
      "(MAPKKK inactivation).KK2 861.9\n",
      "(MAPKKK activation).V1 7.39701\n",
      "(phosphorylation of MAPK).k7 340.408\n",
      "Mos 5.419927611e+16\n",
      "(phosphorylation of MAPK).KK7 0.000137201\n",
      "(dephosphorylation of MAPK-P).KK10 6864.03\n",
      "(phosphorylation of MAPK-P).KK8 3409.55\n",
      "Erk2-PP 6.02214179e+15\n",
      "(dephosphorylation of MAPKK-PP).V5 92.8198\n",
      "(MAPKKK inactivation).V2 4.18195\n",
      "Mos-P 6.02214179e+15\n",
      "(dephosphorylation of MAPK-P).V10 0.401565\n",
      "(MAPKKK activation).Ki 1.88839\n",
      "Mek1 1.6861997012e+17\n",
      "Mek1-PP 6.02214179e+11\n",
      "(phosphorylation of MAPKK-P).KK4 66.5179\n",
      "(phosphorylation of MAPKK).k3 88.1199\n",
      "Erk2 1.6861997012e+17\n",
      "(phosphorylation of MAPKK-P).k4 0.0520377\n",
      "(dephosphorylation of MAPKK-PP).KK5 0.000197288\n",
      "Mek1-P 6.02214179e+15\n",
      "(dephosphorylation of MAPKK-P).V6 7132.05\n",
      "(MAPKKK activation).n 571088.0\n",
      "\n",
      "\n",
      "\n",
      "   (phosphorylation of MAPKK).KK3  Mek1-P  Mek1-PP\n",
      "0                              97    1000    0.001\n",
      "\n",
      "\n",
      "\n",
      "\n",
      "(phosphorylation of MAPK-P).k8 0.899837\n",
      "(dephosphorylation of MAPK-PP).KK9 1.76938e-06\n",
      "(dephosphorylation of MAPKK-P).KK6 605057.0\n",
      "(phosphorylation of MAPKK).KK3 97.0\n",
      "(MAPKKK activation).K1 10.0\n",
      "Erk2-P 6.02214179e+15\n",
      "(dephosphorylation of MAPK-PP).V9 0.000262119\n",
      "(MAPKKK inactivation).KK2 861.9\n",
      "(MAPKKK activation).V1 7.39701\n",
      "(phosphorylation of MAPK).k7 340.408\n",
      "Mos 5.419927611e+16\n",
      "(phosphorylation of MAPK).KK7 0.000137201\n",
      "(dephosphorylation of MAPK-P).KK10 6864.03\n",
      "(phosphorylation of MAPK-P).KK8 3409.55\n",
      "Erk2-PP 6.02214179e+15\n",
      "(dephosphorylation of MAPKK-PP).V5 92.8198\n",
      "(MAPKKK inactivation).V2 4.18195\n",
      "Mos-P 6.02214179e+15\n",
      "(dephosphorylation of MAPK-P).V10 0.401565\n",
      "(MAPKKK activation).Ki 1.88839\n",
      "Mek1 1.6861997012e+17\n",
      "Mek1-PP 6.02214179e+11\n",
      "(phosphorylation of MAPKK-P).KK4 66.5179\n",
      "(phosphorylation of MAPKK).k3 88.1199\n",
      "Erk2 1.6861997012e+17\n",
      "(phosphorylation of MAPKK-P).k4 0.0520377\n",
      "(dephosphorylation of MAPKK-PP).KK5 0.000197288\n",
      "Mek1-P 6.02214179e+15\n",
      "(dephosphorylation of MAPKK-P).V6 7132.05\n",
      "(MAPKKK activation).n 571088.0\n"
     ]
    }
   ],
   "source": [
    "import PyCoTools,os\n",
    "import pandas\n",
    "GMQ_before=PyCoTools.pycopi.GetModelQuantities(kholodenko_model)\n",
    "for key,val in  GMQ_before.get_all_model_variables().items():\n",
    "    print key,val['value']\n",
    "\n",
    "print '\\n\\n'\n",
    "param_dct={'Mek1-P':1000,\n",
    "           'Mek1-PP':0.001,\n",
    "           '(phosphorylation of MAPKK).KK3':97}\n",
    "df=pandas.DataFrame(param_dct,index=[0])\n",
    "print df\n",
    "PyCoTools.pycopi.InsertParameters(kholodenko_model,DF=df)\n",
    "print '\\n\\n\\n'\n",
    "GMQ_after=PyCoTools.pycopi.GetModelQuantities(kholodenko_model)\n",
    "for key,val in  GMQ_before.get_all_model_variables().items():\n",
    "    print key,val['value']\n",
    "\n",
    "        \n",
    "CHECK_MODEL=False\n",
    "if CHECK_MODEL:\n",
    "    os.system('CopasiUI {}'.format(kholodenko_model))\n"
   ]
  },
  {
   "cell_type": "markdown",
   "metadata": {},
   "source": []
  },
  {
   "cell_type": "code",
   "execution_count": null,
   "metadata": {
    "collapsed": true
   },
   "outputs": [],
   "source": [
    "import pandas,os,PyCoTools\n",
    "\n",
    "GMQ_before=PyCoTools.pycopi.GetModelQuantities(kholodenko_model)\n",
    "for key,val in  GMQ_before.get_all_model_variables().items():\n",
    "    print key,val['value']\n",
    "\n",
    "\n",
    "    \n",
    "    \n",
    "    \n"
   ]
  },
  {
   "cell_type": "code",
   "execution_count": null,
   "metadata": {
    "collapsed": true
   },
   "outputs": [],
   "source": []
  }
 ],
 "metadata": {
  "kernelspec": {
   "display_name": "Python 2",
   "language": "python",
   "name": "python2"
  },
  "language_info": {
   "codemirror_mode": {
    "name": "ipython",
    "version": 2
   },
   "file_extension": ".py",
   "mimetype": "text/x-python",
   "name": "python",
   "nbconvert_exporter": "python",
   "pygments_lexer": "ipython2",
   "version": "2.7.13"
  }
 },
 "nbformat": 4,
 "nbformat_minor": 2
}
