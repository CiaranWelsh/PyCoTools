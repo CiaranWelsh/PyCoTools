{
 "cells": [
  {
   "cell_type": "markdown",
   "metadata": {},
   "source": [
    "# TimeCourse\n",
    "The `pycopi.TimeCourse` class enables a user to run an COPASI model deterministically. Future versions of PyCoTools will implement the alternative sovlers that COPASI offers and they will be accessible via a keyword argument, but presently these features are not implemented. \n",
    "\n",
    "## Get model Path\n",
    "PyCoTools works with directories to copasi files so first we need to get the location of the example model on disk"
   ]
  },
  {
   "cell_type": "code",
   "execution_count": 1,
   "metadata": {
    "collapsed": false
   },
   "outputs": [
    {
     "name": "stdout",
     "output_type": "stream",
     "text": [
      "/home/b3053674/Documents/PyCoTools/PyCoTools/PyCoToolsTutorial/Kholodenko.cps\n",
      "True\n"
     ]
    }
   ],
   "source": [
    "%matplotlib inline\n",
    "import os,glob\n",
    "\n",
    "for i in glob.glob('*.cps'):\n",
    "    kholodenko_model= os.path.abspath(i)\n",
    "    \n",
    "print kholodenko_model\n",
    "print os.path.isfile(kholodenko_model)"
   ]
  },
  {
   "cell_type": "markdown",
   "metadata": {},
   "source": [
    "To run deterministic time course with kholodenko model we have a few options. We can:\n",
    "    1. Collect all copasi output as tab separated file using the `report_name` keyword."
   ]
  },
  {
   "cell_type": "code",
   "execution_count": 2,
   "metadata": {
    "collapsed": false
   },
   "outputs": [
    {
     "ename": "ImportError",
     "evalue": "No module named PyCoTools",
     "output_type": "error",
     "traceback": [
      "\u001b[0;31m---------------------------------------------------------------------------\u001b[0m",
      "\u001b[0;31mImportError\u001b[0m                               Traceback (most recent call last)",
      "\u001b[0;32m<ipython-input-2-89f7e5038abb>\u001b[0m in \u001b[0;36m<module>\u001b[0;34m()\u001b[0m\n\u001b[0;32m----> 1\u001b[0;31m \u001b[0;32mimport\u001b[0m \u001b[0mPyCoTools\u001b[0m\u001b[0;34m\u001b[0m\u001b[0m\n\u001b[0m\u001b[1;32m      2\u001b[0m \u001b[0;32mimport\u001b[0m \u001b[0mos\u001b[0m\u001b[0;34m\u001b[0m\u001b[0m\n\u001b[1;32m      3\u001b[0m \u001b[0;32mimport\u001b[0m \u001b[0mpandas\u001b[0m\u001b[0;34m\u001b[0m\u001b[0m\n\u001b[1;32m      4\u001b[0m TC= PyCoTools.pycopi.TimeCourse(kholodenko_model,\n\u001b[1;32m      5\u001b[0m                         \u001b[0mreport_name\u001b[0m\u001b[0;34m=\u001b[0m\u001b[0;34m'kholodenko_timecourse_report.txt'\u001b[0m\u001b[0;34m,\u001b[0m\u001b[0;34m\u001b[0m\u001b[0m\n",
      "\u001b[0;31mImportError\u001b[0m: No module named PyCoTools"
     ]
    }
   ],
   "source": [
    "import site\n",
    "site.addsitedir('/home/b3053674/Documents/PyCoTools')\n",
    "import PyCoTools\n",
    "import os\n",
    "import pandas\n",
    "TC= PyCoTools.pycopi.TimeCourse(kholodenko_model,\n",
    "                        report_name='kholodenko_timecourse_report.txt',\n",
    "                        ## Intervals*StepSize must equal End\n",
    "                        End=1000,    \n",
    "                        Intervals=50,\n",
    "                        StepSize=20)\n",
    "\n",
    "## check its worked\n",
    "print os.path.isfile(TC.kwargs['report_name'])\n",
    "print pandas.read_csv(TC.kwargs['report_name'],sep='\\t').head()"
   ]
  },
  {
   "cell_type": "markdown",
   "metadata": {},
   "source": [
    "    2. Collect results only for selected model variables only by passing a list to the `metabolites` keyword. When no argument is specified, all model variables are selected by default:"
   ]
  },
  {
   "cell_type": "code",
   "execution_count": null,
   "metadata": {
    "collapsed": false
   },
   "outputs": [],
   "source": [
    "import pandas,os\n",
    "import PyCoTools\n",
    "TC=PyCoTools.pycopi.TimeCourse(kholodenko_model,\n",
    "                            report_name='kholodenko_timecourse_report.txt',\n",
    "                            End=1000,\n",
    "                            Intervals=50,\n",
    "                            StepSize=20,\n",
    "                            plot='false',\n",
    "                            savefig='true',\n",
    "                            metabolites=['Mek1-P','Mek1'],\n",
    "                            global_quantities = [])\n",
    "\n",
    "##check that we only have two variables\n",
    "print pandas.read_csv(TC.kwargs['report_name'],sep='\\t').head()"
   ]
  },
  {
   "cell_type": "markdown",
   "metadata": {},
   "source": [
    "    3. plot and save results in the same directory as the model file"
   ]
  },
  {
   "cell_type": "code",
   "execution_count": null,
   "metadata": {
    "collapsed": false
   },
   "outputs": [],
   "source": [
    "import PyCoTools,glob,os\n",
    "\n",
    "TC = PyCoTools.pycopi.TimeCourse(kholodenko_model,\n",
    "                            report_name='kholodenko_timecourse_report.txt',\n",
    "                            End=1000,\n",
    "                            Intervals=50,\n",
    "                            StepSize=20,\n",
    "                            plot='true',\n",
    "                            savefig='true')\n",
    "\n",
    "## check png files exist\n",
    "for i in glob.glob('./TimeCourseGraphs/*'):\n",
    "    print 'File {} exists: \\t {}'.format(i,os.path.isfile(i))\n",
    "    "
   ]
  },
  {
   "cell_type": "markdown",
   "metadata": {},
   "source": [
    "You can also play around with graph graphics. Note that these arguments are simply passed on to matplotlib and therefore more documenation can be found [here](http://matplotlib.org/)"
   ]
  },
  {
   "cell_type": "code",
   "execution_count": null,
   "metadata": {
    "collapsed": false
   },
   "outputs": [],
   "source": [
    "import os,PyCoTools\n",
    "PyCoTools.pycopi.TimeCourse(kholodenko_model,\n",
    "                            report_name='kholodenko_timecourse_report.txt',\n",
    "                            End=1000,\n",
    "                            Intervals=50,\n",
    "                            StepSize=20,\n",
    "                            plot='true',\n",
    "                            savefig='true',\n",
    "                            line_width=8,\n",
    "                            MarkerSize=15,\n",
    "                            axis_size=20,\n",
    "                            font_size=25,\n",
    "                            LineStyle='-',\n",
    "                            xtick_rotation=45)"
   ]
  }
 ],
 "metadata": {
  "kernelspec": {
   "display_name": "Python 2",
   "language": "python",
   "name": "python2"
  },
  "language_info": {
   "codemirror_mode": {
    "name": "ipython",
    "version": 2
   },
   "file_extension": ".py",
   "mimetype": "text/x-python",
   "name": "python",
   "nbconvert_exporter": "python",
   "pygments_lexer": "ipython2",
   "version": "2.7.13"
  }
 },
 "nbformat": 4,
 "nbformat_minor": 2
}
