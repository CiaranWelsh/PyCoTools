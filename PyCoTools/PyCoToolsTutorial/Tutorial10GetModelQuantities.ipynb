{
 "cells": [
  {
   "cell_type": "markdown",
   "metadata": {
    "collapsed": true
   },
   "source": [
    "# Getting model Quantities\n",
    "A class for retrieving model information "
   ]
  },
  {
   "cell_type": "code",
   "execution_count": 1,
   "metadata": {
    "collapsed": false
   },
   "outputs": [
    {
     "name": "stdout",
     "output_type": "stream",
     "text": [
      "/home/b3053674/Documents/PyCoTools/PyCoTools/PyCoToolsTutorial/Kholodenko.cps\n",
      "True\n"
     ]
    }
   ],
   "source": [
    "%matplotlib inline\n",
    "import os,glob\n",
    "\n",
    "for i in glob.glob('*.cps'):\n",
    "    kholodenko_model= os.path.abspath(i)\n",
    "    \n",
    "print kholodenko_model\n",
    "print os.path.isfile(kholodenko_model)"
   ]
  },
  {
   "cell_type": "code",
   "execution_count": 9,
   "metadata": {
    "collapsed": false
   },
   "outputs": [
    {
     "name": "stdout",
     "output_type": "stream",
     "text": [
      "INFO:root:__init__:26:Initializing PyCoTools\n",
      "INFO:root:__init__:27:Initializing log10ging System\n",
      "INFO:root:__init__:28:logging config file at: /home/b3053674/Documents/PyCoTools/PyCoTools/logging_config.conf\n"
     ]
    },
    {
     "ename": "AttributeError",
     "evalue": "'module' object has no attribute 'GetModelQuantities'",
     "output_type": "error",
     "traceback": [
      "\u001b[0;31m---------------------------------------------------------------------------\u001b[0m",
      "\u001b[0;31mAttributeError\u001b[0m                            Traceback (most recent call last)",
      "\u001b[0;32m<ipython-input-9-4f2a122ead3b>\u001b[0m in \u001b[0;36m<module>\u001b[0;34m()\u001b[0m\n\u001b[1;32m      5\u001b[0m \u001b[0;34m\u001b[0m\u001b[0m\n\u001b[1;32m      6\u001b[0m \u001b[0;34m\u001b[0m\u001b[0m\n\u001b[0;32m----> 7\u001b[0;31m \u001b[0mGMQ\u001b[0m \u001b[0;34m=\u001b[0m \u001b[0mPyCoTools\u001b[0m\u001b[0;34m.\u001b[0m\u001b[0mpycopi\u001b[0m\u001b[0;34m.\u001b[0m\u001b[0mGetModelQuantities\u001b[0m\u001b[0;34m(\u001b[0m\u001b[0mkholodenko_model\u001b[0m\u001b[0;34m)\u001b[0m\u001b[0;34m\u001b[0m\u001b[0m\n\u001b[0m\u001b[1;32m      8\u001b[0m \u001b[0;32mprint\u001b[0m \u001b[0mGMQ\u001b[0m\u001b[0;34m\u001b[0m\u001b[0m\n\u001b[1;32m      9\u001b[0m \u001b[0;34m\u001b[0m\u001b[0m\n",
      "\u001b[0;31mAttributeError\u001b[0m: 'module' object has no attribute 'GetModelQuantities'"
     ]
    }
   ],
   "source": [
    "import PyCoTools\n",
    "import os\n",
    "\n",
    "\n",
    "GMQ = PyCoTools.pycopi.GetModelQuantities(kholodenko_model)\n",
    "print GMQ\n",
    "\n",
    "## get quantity units\n",
    "print GMQ.get_quantity_units()\n",
    "\n",
    "## get time units\n",
    "print GMQ.get_time_unit()\n",
    "\n",
    "## get model name \n",
    "print GMQ.get_model_name()\n",
    "\n",
    "## get model metabolites\n",
    "print 'metabolites:'\n",
    "for metab in GMQ.get_metabolites():\n",
    "    print '\\t',metab\n",
    "\n",
    "## get global parameters:  \n",
    "print 'Global Parameters:'\n",
    "for parameter in GMQ.get_global_quantities():\n",
    "    print '\\t',parameter  #Note: Empty list in the kholodenko model. \n",
    "    \n",
    "## get local parameters\n",
    "print 'Local parameters:'\n",
    "for parameter in GMQ.get_local_parameters():\n",
    "    print '\\t',parameter ## all kinetic parameters are locally defined in this model\n",
    "    \n",
    "## get compartments \n",
    "print 'Compartments'\n",
    "for compartment in GMQ.get_compartments():\n",
    "    print '\\t',compartment\n",
    "    \n"
   ]
  }
 ],
 "metadata": {
  "kernelspec": {
   "display_name": "Python 2",
   "language": "python",
   "name": "python2"
  },
  "language_info": {
   "codemirror_mode": {
    "name": "ipython",
    "version": 2
   },
   "file_extension": ".py",
   "mimetype": "text/x-python",
   "name": "python",
   "nbconvert_exporter": "python",
   "pygments_lexer": "ipython2",
   "version": "2.7.13"
  }
 },
 "nbformat": 4,
 "nbformat_minor": 2
}
