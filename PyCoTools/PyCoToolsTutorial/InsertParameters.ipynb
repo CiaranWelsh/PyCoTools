{
 "cells": [
  {
   "cell_type": "markdown",
   "metadata": {},
   "source": [
    "# InsertParameters\n",
    "This class enables parameters to be inserted into a model from a coapsi output file, pandas dataframe or a python dictionary. "
   ]
  },
  {
   "cell_type": "code",
   "execution_count": 1,
   "metadata": {
    "collapsed": false
   },
   "outputs": [
    {
     "name": "stdout",
     "output_type": "stream",
     "text": [
      "/home/b3053674/Documents/PyCoTools/PyCoTools/PyCoToolsTutorial/Kholodenko.cps\n",
      "True\n"
     ]
    }
   ],
   "source": [
    "%matplotlib inline\n",
    "import os,glob\n",
    "\n",
    "for i in glob.glob('*.cps'):\n",
    "    kholodenko_model= os.path.abspath(i)\n",
    "    \n",
    "print kholodenko_model\n",
    "print os.path.isfile(kholodenko_model)"
   ]
  },
  {
   "cell_type": "code",
   "execution_count": null,
   "metadata": {
    "collapsed": false
   },
   "outputs": [],
   "source": [
    "import PyCoTools\n",
    "import os\n",
    "\n",
    "GMQ_before=PyCoTools.pycopi.GetModelQuantities(kholodenko_model)\n",
    "\n",
    "## Here are our model quantities\n",
    "for param,values in sorted(GMQ_before.get_all_model_variables().items()):\n",
    "    print param,'-->',values['value']\n",
    "    \n",
    "    \n",
    "##create a python dictionary dict[parameter_name]=value\n",
    "parameter_dct={'(MAPKKK activation).K1':10}\n",
    "PyCoTools.pycopi.InsertParameters(kholodenko_model,ParameterDict = parameter_dct)\n",
    "\n",
    "\n",
    "print '\\n\\n\\n'\n",
    "GMQ_after=PyCoTools.pycopi.GetModelQuantities(kholodenko_model)\n",
    "## Here are our model quantities\n",
    "for param,values in sorted(GMQ_after.get_all_model_variables().items()):\n",
    "    print param,'-->',values['value']\n",
    "    "
   ]
  },
  {
   "cell_type": "markdown",
   "metadata": {},
   "source": [
    "Default behaviour when inserting metabolite values is to convert between particle numbers and concentrations automatically and insert both into the CopasiML. Change `CHECK_MODEL` variable to `True` to open the model and confirm for yourself."
   ]
  },
  {
   "cell_type": "code",
   "execution_count": null,
   "metadata": {
    "collapsed": false,
    "scrolled": true
   },
   "outputs": [],
   "source": [
    "import PyCoTools,os\n",
    "GMQ_before=PyCoTools.pycopi.GetModelQuantities(kholodenko_model)\n",
    "for key,val in  GMQ_before.get_metabolites().items():\n",
    "    print key,val\n",
    "\n",
    "    \n",
    "metab_dct={'Mek1-PP':1000}\n",
    "PyCoTools.pycopi.InsertParameters(kholodenko_model,ParameterDict=metab_dct)\n",
    "print '\\n\\n\\n'\n",
    "GMQ_after=PyCoTools.pycopi.GetModelQuantities(kholodenko_model)\n",
    "for key,val in  GMQ_after.get_metabolites().items():\n",
    "    if key == metab_dct.keys()[0]:\n",
    "        print key,val\n",
    "        \n",
    "CHECK_MODEL=False\n",
    "if CHECK_MODEL:\n",
    "    os.system('CopasiUI {}'.format(kholodenko_model))\n"
   ]
  },
  {
   "cell_type": "markdown",
   "metadata": {},
   "source": [
    "## From Pandas\n",
    "A `pandas.DataFrame` is a very useful python structure. Parameters are be imported directly from a DataFrame. "
   ]
  },
  {
   "cell_type": "code",
   "execution_count": null,
   "metadata": {
    "collapsed": false
   },
   "outputs": [],
   "source": [
    "import PyCoTools,os\n",
    "import pandas\n",
    "GMQ_before=PyCoTools.pycopi.GetModelQuantities(kholodenko_model)\n",
    "for key,val in  GMQ_before.get_all_model_variables().items():\n",
    "    print key,val['value']\n",
    "\n",
    "print '\\n\\n'\n",
    "param_dct={'Mek1-P':1000,\n",
    "           'Mek1-PP':0.001,\n",
    "           '(phosphorylation of MAPKK).KK3':97}\n",
    "df=pandas.DataFrame(param_dct,index=[0])\n",
    "print df\n",
    "PyCoTools.pycopi.InsertParameters(kholodenko_model,DF=df)\n",
    "print '\\n\\n\\n'\n",
    "GMQ_after=PyCoTools.pycopi.GetModelQuantities(kholodenko_model)\n",
    "for key,val in  GMQ_before.get_all_model_variables().items():\n",
    "    print key,val['value']\n",
    "\n",
    "        \n",
    "CHECK_MODEL=False\n",
    "if CHECK_MODEL:\n",
    "    os.system('CopasiUI {}'.format(kholodenko_model))\n"
   ]
  },
  {
   "cell_type": "markdown",
   "metadata": {},
   "source": [
    "# From File\n",
    "To demonstrate InsertParameters from file, lets do a parameter estimation to some synthetic data and insert those parameters directly from file. "
   ]
  },
  {
   "cell_type": "code",
   "execution_count": 3,
   "metadata": {
    "collapsed": false,
    "scrolled": true
   },
   "outputs": [
    {
     "name": "stdout",
     "output_type": "stream",
     "text": [
      "INFO:root:__init__:18:Initializing PyCoTools\n",
      "INFO:root:__init__:19:Initializing Logging System\n",
      "INFO:root:__init__:20:logging config file at: /home/b3053674/anaconda2/lib/python2.7/site-packages/PyCoTools/logging_config.conf\n",
      "(phosphorylation of MAPK-P).k8 111567.0\n",
      "(dephosphorylation of MAPK-PP).KK9 0.271666\n",
      "(dephosphorylation of MAPKK-P).KK6 0.00300255\n",
      "(phosphorylation of MAPKK).KK3 93469.1\n",
      "(MAPKKK activation).K1 1.17974e-05\n",
      "Erk2-P 1.61940210447e+15\n",
      "(dephosphorylation of MAPK-PP).V9 1.32781e-06\n",
      "(MAPKKK inactivation).KK2 0.0012414\n",
      "(MAPKKK activation).V1 27598.7\n",
      "(phosphorylation of MAPK).k7 0.00150075\n",
      "Mos 1442333069.41\n",
      "(phosphorylation of MAPK).KK7 1.47402\n",
      "(dephosphorylation of MAPK-P).KK10 19.5641\n",
      "(phosphorylation of MAPK-P).KK8 0.00024886\n",
      "Erk2-PP 5.42690727333e+15\n",
      "(dephosphorylation of MAPKK-PP).V5 1.08283e-06\n",
      "(MAPKKK inactivation).V2 55.0312\n",
      "Mos-P 602214179.0\n",
      "(dephosphorylation of MAPK-P).V10 1.04624e-06\n",
      "(MAPKKK activation).Ki 33.4784\n",
      "Mek1 2.81988595959e+12\n",
      "Mek1-PP 90819920335.0\n",
      "(phosphorylation of MAPKK-P).KK4 1.2655\n",
      "(phosphorylation of MAPKK).k3 1.13833e-06\n",
      "Erk2 6064838775.29\n",
      "(phosphorylation of MAPKK-P).k4 0.000458359\n",
      "(dephosphorylation of MAPKK-PP).KK5 69378.3\n",
      "Mek1-P 611897782.998\n",
      "(dephosphorylation of MAPKK-P).V6 0.0508572\n",
      "(MAPKKK activation).n 0.888386\n"
     ]
    }
   ],
   "source": [
    "import pandas,os,PyCoTools\n",
    "\n",
    "GMQ_before=PyCoTools.pycopi.GetModelQuantities(kholodenko_model)\n",
    "for key,val in  GMQ_before.get_all_model_variables().items():\n",
    "    print key,val['value']\n",
    "\n",
    "\n",
    "data_report='InsertParametersEstimationData.txt'\n",
    "##Simulate some synthetic data\n",
    "TC=PyCoTools.pycopi.TimeCourse(kholodenko_model,End=1000,StepSize=1,\n",
    "                               Intervals=1000,\n",
    "                               ReportName=data_report)\n",
    "\n",
    "# setup parameter estimation with all default parameters\n",
    "estimation_results='InsertParametersEstimationResults.txt'\n",
    "PE=PyCoTools.pycopi.ParameterEstimation(kholodenko_model,data_report,\n",
    "                                       ReportName = estimation_results)\n",
    "PE.write_item_template()\n",
    "PE.set_up()\n",
    "## run\n",
    "PE.run() \n",
    "\n"
   ]
  },
  {
   "cell_type": "markdown",
   "metadata": {},
   "source": [
    "Now lets check that its worked: "
   ]
  },
  {
   "cell_type": "code",
   "execution_count": null,
   "metadata": {
    "collapsed": false
   },
   "outputs": [],
   "source": [
    "import PyCoTools\n",
    "import pandas\n",
    "## recall that best parameters are at the bottom of the copasi generated results file\n",
    "print pandas.DataFrame.from_csv(estimation_results,sep='\\t').tail() #so use tail to get end\n",
    "I=PyCoTools.pycopi.InsertParameters(kholodenko_model,ParameterPath=estimation_results)\n",
    "\n",
    "print '\\n\\n\\n'\n",
    "\n",
    "# GMQ_after=PyCoTools.pycopi.GetModelQuantities(kholodenko_model)\n",
    "# for key,val in  GMQ_after.get_all_model_variables().items():\n",
    "#     print key,val['value']\n"
   ]
  },
  {
   "cell_type": "code",
   "execution_count": null,
   "metadata": {
    "collapsed": true
   },
   "outputs": [],
   "source": []
  },
  {
   "cell_type": "code",
   "execution_count": null,
   "metadata": {
    "collapsed": false
   },
   "outputs": [],
   "source": [
    "import pandas,os,PyCoTools\n",
    "\n",
    "GMQ_before=PyCoTools.pycopi.GetModelQuantities(kholodenko_model)\n",
    "for key,val in  GMQ_before.get_all_model_variables().items():\n",
    "    print key,val['value']\n",
    "\n",
    "\n",
    "data_report='InsertParametersEstimationData.txt'\n",
    "##Simulate some synthetic data\n",
    "TC=PyCoTools.pycopi.TimeCourse(kholodenko_model,End=1000,StepSize=1,\n",
    "                               Intervals=1000,\n",
    "                               ReportName=data_report)\n",
    "\n",
    "# setup parameter estimation with all default parameters\n",
    "estimation_results='InsertParametersEstimationResults.txt'\n",
    "PE=PyCoTools.pycopi.ParameterEstimation(kholodenko_model,data_report,\n",
    "                                       ReportName = estimation_results)\n",
    "PE.write_item_template()\n",
    "PE.set_up()\n",
    "PE.run()\n",
    "\n",
    "    \n"
   ]
  },
  {
   "cell_type": "markdown",
   "metadata": {
    "collapsed": true
   },
   "source": [
    "Now lets check:"
   ]
  },
  {
   "cell_type": "code",
   "execution_count": null,
   "metadata": {
    "collapsed": false,
    "scrolled": true
   },
   "outputs": [],
   "source": [
    "import PyCoTools,pandas,os\n",
    "\n",
    "\n",
    "print pandas.DataFrame.from_csv(estimation_results,sep='\\t').iloc[-1]\n",
    "\n",
    "\n",
    "## by default parameter sets are sorted by objective function value (lowest first) and index is set to 0\n",
    "I=PyCoTools.pycopi.InsertParameters(kholodenko_model,ParameterPath=estimation_results,Index = 0)\n",
    "\n",
    "GMQ_after = PyCoTools.pycopi.GetModelQuantities(kholodenko_model)\n",
    "\n",
    "## Easiest way to check the parameters have been inserted is to look at the model in the GUI\n",
    "os.system('CopasiUI {}'.format(kholodenko_model)) ##remember to close the GUI"
   ]
  },
  {
   "cell_type": "markdown",
   "metadata": {},
   "source": [
    "# From Folder of Parameter Estimation Files\n",
    "First lets create some parameter estimation data to work with using the `RunMultiplePEs`\n",
    "class"
   ]
  },
  {
   "cell_type": "code",
   "execution_count": 4,
   "metadata": {
    "collapsed": false
   },
   "outputs": [
    {
     "name": "stdout",
     "output_type": "stream",
     "text": [
      "INFO:PyCoTools.pycopi:pycopi:4450:creating a directory for analysis in : \n",
      "\n",
      "/home/b3053674/Documents/PyCoTools/PyCoTools/PyCoToolsTutorial/MultipleParameterEsimationAnalysis\n",
      "INFO:PyCoTools.pycopi:pycopi:4309:writing PE config template for model: /home/b3053674/Documents/PyCoTools/PyCoTools/PyCoToolsTutorial/Kholodenko.cps\n",
      "INFO:PyCoTools.pycopi:pycopi:4430:Copying copasi file 1 times\n",
      "INFO:PyCoTools.pycopi:pycopi:4349:setting up scan for model : /home/b3053674/Documents/PyCoTools/PyCoTools/PyCoToolsTutorial/Kholodenko.cps\n",
      "INFO:root:pycopi:3466:defining report\n",
      "INFO:PyCoTools.pycopi:pycopi:4374:Setup Took 0.34045791626 seconds\n",
      "INFO:PyCoTools.pycopi:pycopi:4357:<PyCoTools.pycopi.Scan instance at 0x7f1cfa4b3ef0>\n",
      "INFO:PyCoTools.pycopi:pycopi:4297:Running model: 0\n"
     ]
    },
    {
     "ename": "OSError",
     "evalue": "[Errno 2] No such file or directory",
     "output_type": "error",
     "traceback": [
      "\u001b[0;31m---------------------------------------------------------------------------\u001b[0m",
      "\u001b[0;31mOSError\u001b[0m                                   Traceback (most recent call last)",
      "\u001b[0;32m<ipython-input-4-714ed23296a5>\u001b[0m in \u001b[0;36m<module>\u001b[0;34m()\u001b[0m\n\u001b[1;32m      6\u001b[0m \u001b[0mRMPE\u001b[0m\u001b[0;34m.\u001b[0m\u001b[0mwrite_config_template\u001b[0m\u001b[0;34m(\u001b[0m\u001b[0;34m)\u001b[0m\u001b[0;34m\u001b[0m\u001b[0m\n\u001b[1;32m      7\u001b[0m \u001b[0mRMPE\u001b[0m\u001b[0;34m.\u001b[0m\u001b[0mset_up\u001b[0m\u001b[0;34m(\u001b[0m\u001b[0;34m)\u001b[0m\u001b[0;34m\u001b[0m\u001b[0m\n\u001b[0;32m----> 8\u001b[0;31m \u001b[0mRMPE\u001b[0m\u001b[0;34m.\u001b[0m\u001b[0mrun\u001b[0m\u001b[0;34m(\u001b[0m\u001b[0;34m)\u001b[0m\u001b[0;34m\u001b[0m\u001b[0m\n\u001b[0m",
      "\u001b[0;32m/home/b3053674/anaconda2/lib/python2.7/site-packages/PyCoTools/pycopi.pyc\u001b[0m in \u001b[0;36mrun\u001b[0;34m(self)\u001b[0m\n\u001b[1;32m   4297\u001b[0m             \u001b[0mLOG\u001b[0m\u001b[0;34m.\u001b[0m\u001b[0minfo\u001b[0m\u001b[0;34m(\u001b[0m\u001b[0;34m'Running model: {}'\u001b[0m\u001b[0;34m.\u001b[0m\u001b[0mformat\u001b[0m\u001b[0;34m(\u001b[0m\u001b[0mi\u001b[0m\u001b[0;34m)\u001b[0m\u001b[0;34m)\u001b[0m\u001b[0;34m\u001b[0m\u001b[0m\n\u001b[1;32m   4298\u001b[0m             \u001b[0;32mif\u001b[0m \u001b[0mself\u001b[0m\u001b[0;34m.\u001b[0m\u001b[0mkwargs\u001b[0m\u001b[0;34m[\u001b[0m\u001b[0;34m'Run'\u001b[0m\u001b[0;34m]\u001b[0m\u001b[0;34m==\u001b[0m\u001b[0;34m'multiprocess'\u001b[0m\u001b[0;34m:\u001b[0m\u001b[0;34m\u001b[0m\u001b[0m\n\u001b[0;32m-> 4299\u001b[0;31m                 \u001b[0mRun\u001b[0m\u001b[0;34m(\u001b[0m\u001b[0mself\u001b[0m\u001b[0;34m.\u001b[0m\u001b[0msub_copasi_files\u001b[0m\u001b[0;34m[\u001b[0m\u001b[0mi\u001b[0m\u001b[0;34m]\u001b[0m\u001b[0;34m,\u001b[0m\u001b[0mMode\u001b[0m\u001b[0;34m=\u001b[0m\u001b[0;34m'multiprocess'\u001b[0m\u001b[0;34m,\u001b[0m\u001b[0mTask\u001b[0m\u001b[0;34m=\u001b[0m\u001b[0;34m'scan'\u001b[0m\u001b[0;34m)\u001b[0m\u001b[0;34m\u001b[0m\u001b[0m\n\u001b[0m\u001b[1;32m   4300\u001b[0m             \u001b[0;32melif\u001b[0m \u001b[0mself\u001b[0m\u001b[0;34m.\u001b[0m\u001b[0mkwargs\u001b[0m\u001b[0;34m[\u001b[0m\u001b[0;34m'Run'\u001b[0m\u001b[0;34m]\u001b[0m\u001b[0;34m==\u001b[0m\u001b[0;34m'SGE'\u001b[0m\u001b[0;34m:\u001b[0m\u001b[0;34m\u001b[0m\u001b[0m\n\u001b[1;32m   4301\u001b[0m                 \u001b[0mRun\u001b[0m\u001b[0;34m(\u001b[0m\u001b[0mself\u001b[0m\u001b[0;34m.\u001b[0m\u001b[0msub_copasi_files\u001b[0m\u001b[0;34m[\u001b[0m\u001b[0mi\u001b[0m\u001b[0;34m]\u001b[0m\u001b[0;34m,\u001b[0m\u001b[0mMode\u001b[0m\u001b[0;34m=\u001b[0m\u001b[0;34m'SGE'\u001b[0m\u001b[0;34m,\u001b[0m\u001b[0mTask\u001b[0m\u001b[0;34m=\u001b[0m\u001b[0;34m'scan'\u001b[0m\u001b[0;34m)\u001b[0m\u001b[0;34m\u001b[0m\u001b[0m\n",
      "\u001b[0;32m/home/b3053674/anaconda2/lib/python2.7/site-packages/PyCoTools/pycopi.pyc\u001b[0m in \u001b[0;36m__init__\u001b[0;34m(self, copasi_file, **kwargs)\u001b[0m\n\u001b[1;32m   3687\u001b[0m             \u001b[0mself\u001b[0m\u001b[0;34m.\u001b[0m\u001b[0msubmit_copasi_job_SGE\u001b[0m\u001b[0;34m(\u001b[0m\u001b[0;34m)\u001b[0m\u001b[0;34m\u001b[0m\u001b[0m\n\u001b[1;32m   3688\u001b[0m         \u001b[0;32melif\u001b[0m \u001b[0mself\u001b[0m\u001b[0;34m.\u001b[0m\u001b[0mkwargs\u001b[0m\u001b[0;34m.\u001b[0m\u001b[0mget\u001b[0m\u001b[0;34m(\u001b[0m\u001b[0;34m'Mode'\u001b[0m\u001b[0;34m)\u001b[0m\u001b[0;34m==\u001b[0m\u001b[0;34m'multiprocess'\u001b[0m\u001b[0;34m:\u001b[0m\u001b[0;34m\u001b[0m\u001b[0m\n\u001b[0;32m-> 3689\u001b[0;31m             \u001b[0mself\u001b[0m\u001b[0;34m.\u001b[0m\u001b[0mmulti_run\u001b[0m\u001b[0;34m(\u001b[0m\u001b[0;34m)\u001b[0m\u001b[0;34m\u001b[0m\u001b[0m\n\u001b[0m\u001b[1;32m   3690\u001b[0m \u001b[0;34m\u001b[0m\u001b[0m\n\u001b[1;32m   3691\u001b[0m \u001b[0;34m\u001b[0m\u001b[0m\n",
      "\u001b[0;32m/home/b3053674/anaconda2/lib/python2.7/site-packages/PyCoTools/pycopi.pyc\u001b[0m in \u001b[0;36mmulti_run\u001b[0;34m(self)\u001b[0m\n\u001b[1;32m   3694\u001b[0m         \u001b[0;32mdef\u001b[0m \u001b[0mrun\u001b[0m\u001b[0;34m(\u001b[0m\u001b[0mx\u001b[0m\u001b[0;34m)\u001b[0m\u001b[0;34m:\u001b[0m\u001b[0;34m\u001b[0m\u001b[0m\n\u001b[1;32m   3695\u001b[0m             \u001b[0msubprocess\u001b[0m\u001b[0;34m.\u001b[0m\u001b[0mPopen\u001b[0m\u001b[0;34m(\u001b[0m\u001b[0;34m'CopasiSE \"{}\"'\u001b[0m\u001b[0;34m.\u001b[0m\u001b[0mformat\u001b[0m\u001b[0;34m(\u001b[0m\u001b[0mx\u001b[0m\u001b[0;34m)\u001b[0m\u001b[0;34m)\u001b[0m\u001b[0;34m\u001b[0m\u001b[0m\n\u001b[0;32m-> 3696\u001b[0;31m         \u001b[0mProcess\u001b[0m\u001b[0;34m(\u001b[0m\u001b[0mrun\u001b[0m\u001b[0;34m(\u001b[0m\u001b[0mself\u001b[0m\u001b[0;34m.\u001b[0m\u001b[0mcopasi_file\u001b[0m\u001b[0;34m)\u001b[0m\u001b[0;34m)\u001b[0m\u001b[0;34m\u001b[0m\u001b[0m\n\u001b[0m\u001b[1;32m   3697\u001b[0m \u001b[0;34m\u001b[0m\u001b[0m\n\u001b[1;32m   3698\u001b[0m \u001b[0;34m\u001b[0m\u001b[0m\n",
      "\u001b[0;32m/home/b3053674/anaconda2/lib/python2.7/site-packages/PyCoTools/pycopi.pyc\u001b[0m in \u001b[0;36mrun\u001b[0;34m(x)\u001b[0m\n\u001b[1;32m   3693\u001b[0m     \u001b[0;32mdef\u001b[0m \u001b[0mmulti_run\u001b[0m\u001b[0;34m(\u001b[0m\u001b[0mself\u001b[0m\u001b[0;34m)\u001b[0m\u001b[0;34m:\u001b[0m\u001b[0;34m\u001b[0m\u001b[0m\n\u001b[1;32m   3694\u001b[0m         \u001b[0;32mdef\u001b[0m \u001b[0mrun\u001b[0m\u001b[0;34m(\u001b[0m\u001b[0mx\u001b[0m\u001b[0;34m)\u001b[0m\u001b[0;34m:\u001b[0m\u001b[0;34m\u001b[0m\u001b[0m\n\u001b[0;32m-> 3695\u001b[0;31m             \u001b[0msubprocess\u001b[0m\u001b[0;34m.\u001b[0m\u001b[0mPopen\u001b[0m\u001b[0;34m(\u001b[0m\u001b[0;34m'CopasiSE \"{}\"'\u001b[0m\u001b[0;34m.\u001b[0m\u001b[0mformat\u001b[0m\u001b[0;34m(\u001b[0m\u001b[0mx\u001b[0m\u001b[0;34m)\u001b[0m\u001b[0;34m)\u001b[0m\u001b[0;34m\u001b[0m\u001b[0m\n\u001b[0m\u001b[1;32m   3696\u001b[0m         \u001b[0mProcess\u001b[0m\u001b[0;34m(\u001b[0m\u001b[0mrun\u001b[0m\u001b[0;34m(\u001b[0m\u001b[0mself\u001b[0m\u001b[0;34m.\u001b[0m\u001b[0mcopasi_file\u001b[0m\u001b[0;34m)\u001b[0m\u001b[0;34m)\u001b[0m\u001b[0;34m\u001b[0m\u001b[0m\n\u001b[1;32m   3697\u001b[0m \u001b[0;34m\u001b[0m\u001b[0m\n",
      "\u001b[0;32m/home/b3053674/anaconda2/lib/python2.7/subprocess.pyc\u001b[0m in \u001b[0;36m__init__\u001b[0;34m(self, args, bufsize, executable, stdin, stdout, stderr, preexec_fn, close_fds, shell, cwd, env, universal_newlines, startupinfo, creationflags)\u001b[0m\n\u001b[1;32m    388\u001b[0m                                 \u001b[0mp2cread\u001b[0m\u001b[0;34m,\u001b[0m \u001b[0mp2cwrite\u001b[0m\u001b[0;34m,\u001b[0m\u001b[0;34m\u001b[0m\u001b[0m\n\u001b[1;32m    389\u001b[0m                                 \u001b[0mc2pread\u001b[0m\u001b[0;34m,\u001b[0m \u001b[0mc2pwrite\u001b[0m\u001b[0;34m,\u001b[0m\u001b[0;34m\u001b[0m\u001b[0m\n\u001b[0;32m--> 390\u001b[0;31m                                 errread, errwrite)\n\u001b[0m\u001b[1;32m    391\u001b[0m         \u001b[0;32mexcept\u001b[0m \u001b[0mException\u001b[0m\u001b[0;34m:\u001b[0m\u001b[0;34m\u001b[0m\u001b[0m\n\u001b[1;32m    392\u001b[0m             \u001b[0;31m# Preserve original exception in case os.close raises.\u001b[0m\u001b[0;34m\u001b[0m\u001b[0;34m\u001b[0m\u001b[0m\n",
      "\u001b[0;32m/home/b3053674/anaconda2/lib/python2.7/subprocess.pyc\u001b[0m in \u001b[0;36m_execute_child\u001b[0;34m(self, args, executable, preexec_fn, close_fds, cwd, env, universal_newlines, startupinfo, creationflags, shell, to_close, p2cread, p2cwrite, c2pread, c2pwrite, errread, errwrite)\u001b[0m\n\u001b[1;32m   1022\u001b[0m                         \u001b[0;32mraise\u001b[0m\u001b[0;34m\u001b[0m\u001b[0m\n\u001b[1;32m   1023\u001b[0m                 \u001b[0mchild_exception\u001b[0m \u001b[0;34m=\u001b[0m \u001b[0mpickle\u001b[0m\u001b[0;34m.\u001b[0m\u001b[0mloads\u001b[0m\u001b[0;34m(\u001b[0m\u001b[0mdata\u001b[0m\u001b[0;34m)\u001b[0m\u001b[0;34m\u001b[0m\u001b[0m\n\u001b[0;32m-> 1024\u001b[0;31m                 \u001b[0;32mraise\u001b[0m \u001b[0mchild_exception\u001b[0m\u001b[0;34m\u001b[0m\u001b[0m\n\u001b[0m\u001b[1;32m   1025\u001b[0m \u001b[0;34m\u001b[0m\u001b[0m\n\u001b[1;32m   1026\u001b[0m \u001b[0;34m\u001b[0m\u001b[0m\n",
      "\u001b[0;31mOSError\u001b[0m: [Errno 2] No such file or directory"
     ]
    }
   ],
   "source": [
    "import PyCoTools,os,pandas\n",
    "output_directory = 'MultiplePEs'\n",
    "RMPE=PyCoTools.pycopi.RunMultiplePEs(kholodenko_model,data_report,\n",
    "                               CopyNumber=1,NumberOfPEs=3)\n",
    "#                                OutputDir = output_directory)\n",
    "RMPE.write_config_template()\n",
    "RMPE.set_up()\n",
    "RMPE.run()"
   ]
  },
  {
   "cell_type": "code",
   "execution_count": null,
   "metadata": {
    "collapsed": true
   },
   "outputs": [],
   "source": []
  },
  {
   "cell_type": "code",
   "execution_count": null,
   "metadata": {
    "collapsed": true
   },
   "outputs": [],
   "source": []
  },
  {
   "cell_type": "code",
   "execution_count": null,
   "metadata": {
    "collapsed": true
   },
   "outputs": [],
   "source": []
  },
  {
   "cell_type": "code",
   "execution_count": null,
   "metadata": {
    "collapsed": true
   },
   "outputs": [],
   "source": []
  },
  {
   "cell_type": "code",
   "execution_count": null,
   "metadata": {
    "collapsed": true
   },
   "outputs": [],
   "source": []
  },
  {
   "cell_type": "code",
   "execution_count": null,
   "metadata": {
    "collapsed": true
   },
   "outputs": [],
   "source": []
  },
  {
   "cell_type": "code",
   "execution_count": null,
   "metadata": {
    "collapsed": true
   },
   "outputs": [],
   "source": []
  }
 ],
 "metadata": {
  "kernelspec": {
   "display_name": "Python 2",
   "language": "python",
   "name": "python2"
  },
  "language_info": {
   "codemirror_mode": {
    "name": "ipython",
    "version": 2
   },
   "file_extension": ".py",
   "mimetype": "text/x-python",
   "name": "python",
   "nbconvert_exporter": "python",
   "pygments_lexer": "ipython2",
   "version": "2.7.13"
  }
 },
 "nbformat": 4,
 "nbformat_minor": 2
}
