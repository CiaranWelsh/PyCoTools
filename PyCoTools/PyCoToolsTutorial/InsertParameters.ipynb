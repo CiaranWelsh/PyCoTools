{
 "cells": [
  {
   "cell_type": "markdown",
   "metadata": {},
   "source": [
    "# InsertParameters\n",
    "This class enables parameters to be inserted into a model from a coapsi output file, pandas dataframe or a python dictionary. "
   ]
  },
  {
   "cell_type": "code",
   "execution_count": 10,
   "metadata": {
    "collapsed": false
   },
   "outputs": [
    {
     "name": "stdout",
     "output_type": "stream",
     "text": [
      "/home/b3053674/Documents/PyCoTools/PyCoTools/PyCoToolsTutorial/Kholodenko.cps\n",
      "True\n"
     ]
    }
   ],
   "source": [
    "%matplotlib inline\n",
    "import os,glob\n",
    "\n",
    "for i in glob.glob('*.cps'):\n",
    "    kholodenko_model= os.path.abspath(i)\n",
    "    \n",
    "print kholodenko_model\n",
    "print os.path.isfile(kholodenko_model)"
   ]
  },
  {
   "cell_type": "code",
   "execution_count": null,
   "metadata": {
    "collapsed": false
   },
   "outputs": [],
   "source": [
    "import PyCoTools\n",
    "import os\n",
    "\n",
    "GMQ_before=PyCoTools.pycopi.GetModelQuantities(kholodenko_model)\n",
    "\n",
    "## Here are our model quantities\n",
    "for param,values in sorted(GMQ_before.get_all_model_variables().items()):\n",
    "    print param,'-->',values['value']\n",
    "    \n",
    "    \n",
    "##create a python dictionary dict[parameter_name]=value\n",
    "parameter_dct={'(MAPKKK activation).K1':10}\n",
    "PyCoTools.pycopi.InsertParameters(kholodenko_model,ParameterDict = parameter_dct)\n",
    "\n",
    "\n",
    "print '\\n\\n\\n'\n",
    "GMQ_after=PyCoTools.pycopi.GetModelQuantities(kholodenko_model)\n",
    "## Here are our model quantities\n",
    "for param,values in sorted(GMQ_after.get_all_model_variables().items()):\n",
    "    print param,'-->',values['value']\n",
    "    "
   ]
  },
  {
   "cell_type": "markdown",
   "metadata": {},
   "source": [
    "Default behaviour when inserting metabolite values is to convert between particle numbers and concentrations automatically and insert both into the CopasiML. Change `CHECK_MODEL` variable to `True` to open the model and confirm for yourself."
   ]
  },
  {
   "cell_type": "code",
   "execution_count": null,
   "metadata": {
    "collapsed": false,
    "scrolled": true
   },
   "outputs": [],
   "source": [
    "import PyCoTools,os\n",
    "GMQ_before=PyCoTools.pycopi.GetModelQuantities(kholodenko_model)\n",
    "for key,val in  GMQ_before.get_metabolites().items():\n",
    "    print key,val\n",
    "\n",
    "    \n",
    "metab_dct={'Mek1-PP':1000}\n",
    "PyCoTools.pycopi.InsertParameters(kholodenko_model,ParameterDict=metab_dct)\n",
    "print '\\n\\n\\n'\n",
    "GMQ_after=PyCoTools.pycopi.GetModelQuantities(kholodenko_model)\n",
    "for key,val in  GMQ_after.get_metabolites().items():\n",
    "    if key == metab_dct.keys()[0]:\n",
    "        print key,val\n",
    "        \n",
    "CHECK_MODEL=False\n",
    "if CHECK_MODEL:\n",
    "    os.system('CopasiUI {}'.format(kholodenko_model))\n"
   ]
  },
  {
   "cell_type": "markdown",
   "metadata": {},
   "source": [
    "## From Pandas\n",
    "A `pandas.DataFrame` is a very useful python structure. Parameters are be imported directly from a DataFrame. "
   ]
  },
  {
   "cell_type": "code",
   "execution_count": 5,
   "metadata": {
    "collapsed": false
   },
   "outputs": [
    {
     "name": "stdout",
     "output_type": "stream",
     "text": [
      "(phosphorylation of MAPK-P).k8 0.899837\n",
      "(dephosphorylation of MAPK-PP).KK9 1.76938e-06\n",
      "(dephosphorylation of MAPKK-P).KK6 605057.0\n",
      "(phosphorylation of MAPKK).KK3 97.0\n",
      "(MAPKKK activation).K1 10.0\n",
      "Erk2-P 6.02214179e+15\n",
      "(dephosphorylation of MAPK-PP).V9 0.000262119\n",
      "(MAPKKK inactivation).KK2 861.9\n",
      "(MAPKKK activation).V1 7.39701\n",
      "(phosphorylation of MAPK).k7 340.408\n",
      "Mos 5.419927611e+16\n",
      "(phosphorylation of MAPK).KK7 0.000137201\n",
      "(dephosphorylation of MAPK-P).KK10 6864.03\n",
      "(phosphorylation of MAPK-P).KK8 3409.55\n",
      "Erk2-PP 6.02214179e+15\n",
      "(dephosphorylation of MAPKK-PP).V5 92.8198\n",
      "(MAPKKK inactivation).V2 4.18195\n",
      "Mos-P 6.02214179e+15\n",
      "(dephosphorylation of MAPK-P).V10 0.401565\n",
      "(MAPKKK activation).Ki 1.88839\n",
      "Mek1 1.6861997012e+17\n",
      "Mek1-PP 6.02214179e+11\n",
      "(phosphorylation of MAPKK-P).KK4 66.5179\n",
      "(phosphorylation of MAPKK).k3 88.1199\n",
      "Erk2 1.6861997012e+17\n",
      "(phosphorylation of MAPKK-P).k4 0.0520377\n",
      "(dephosphorylation of MAPKK-PP).KK5 0.000197288\n",
      "Mek1-P 6.02214179e+17\n",
      "(dephosphorylation of MAPKK-P).V6 7132.05\n",
      "(MAPKKK activation).n 571088.0\n",
      "\n",
      "\n",
      "\n",
      "   (phosphorylation of MAPKK).KK3  Mek1-P  Mek1-PP\n",
      "0                              97    1000    0.001\n",
      "\n",
      "\n",
      "\n",
      "\n",
      "(phosphorylation of MAPK-P).k8 0.899837\n",
      "(dephosphorylation of MAPK-PP).KK9 1.76938e-06\n",
      "(dephosphorylation of MAPKK-P).KK6 605057.0\n",
      "(phosphorylation of MAPKK).KK3 97.0\n",
      "(MAPKKK activation).K1 10.0\n",
      "Erk2-P 6.02214179e+15\n",
      "(dephosphorylation of MAPK-PP).V9 0.000262119\n",
      "(MAPKKK inactivation).KK2 861.9\n",
      "(MAPKKK activation).V1 7.39701\n",
      "(phosphorylation of MAPK).k7 340.408\n",
      "Mos 5.419927611e+16\n",
      "(phosphorylation of MAPK).KK7 0.000137201\n",
      "(dephosphorylation of MAPK-P).KK10 6864.03\n",
      "(phosphorylation of MAPK-P).KK8 3409.55\n",
      "Erk2-PP 6.02214179e+15\n",
      "(dephosphorylation of MAPKK-PP).V5 92.8198\n",
      "(MAPKKK inactivation).V2 4.18195\n",
      "Mos-P 6.02214179e+15\n",
      "(dephosphorylation of MAPK-P).V10 0.401565\n",
      "(MAPKKK activation).Ki 1.88839\n",
      "Mek1 1.6861997012e+17\n",
      "Mek1-PP 6.02214179e+11\n",
      "(phosphorylation of MAPKK-P).KK4 66.5179\n",
      "(phosphorylation of MAPKK).k3 88.1199\n",
      "Erk2 1.6861997012e+17\n",
      "(phosphorylation of MAPKK-P).k4 0.0520377\n",
      "(dephosphorylation of MAPKK-PP).KK5 0.000197288\n",
      "Mek1-P 6.02214179e+17\n",
      "(dephosphorylation of MAPKK-P).V6 7132.05\n",
      "(MAPKKK activation).n 571088.0\n"
     ]
    }
   ],
   "source": [
    "import PyCoTools,os\n",
    "import pandas\n",
    "GMQ_before=PyCoTools.pycopi.GetModelQuantities(kholodenko_model)\n",
    "for key,val in  GMQ_before.get_all_model_variables().items():\n",
    "    print key,val['value']\n",
    "\n",
    "print '\\n\\n'\n",
    "param_dct={'Mek1-P':1000,\n",
    "           'Mek1-PP':0.001,\n",
    "           '(phosphorylation of MAPKK).KK3':97}\n",
    "df=pandas.DataFrame(param_dct,index=[0])\n",
    "print df\n",
    "PyCoTools.pycopi.InsertParameters(kholodenko_model,DF=df)\n",
    "print '\\n\\n\\n'\n",
    "GMQ_after=PyCoTools.pycopi.GetModelQuantities(kholodenko_model)\n",
    "for key,val in  GMQ_before.get_all_model_variables().items():\n",
    "    print key,val['value']\n",
    "\n",
    "        \n",
    "CHECK_MODEL=False\n",
    "if CHECK_MODEL:\n",
    "    os.system('CopasiUI {}'.format(kholodenko_model))\n"
   ]
  },
  {
   "cell_type": "markdown",
   "metadata": {},
   "source": [
    "# From File\n",
    "To demonstrate InsertParameters from file, lets do a parameter estimation to some synthetic data and insert those parameters directly from file. "
   ]
  },
  {
   "cell_type": "code",
   "execution_count": 6,
   "metadata": {
    "collapsed": false,
    "scrolled": true
   },
   "outputs": [
    {
     "name": "stdout",
     "output_type": "stream",
     "text": [
      "(phosphorylation of MAPK-P).k8 0.899837\n",
      "(dephosphorylation of MAPK-PP).KK9 1.76938e-06\n",
      "(dephosphorylation of MAPKK-P).KK6 605057.0\n",
      "(phosphorylation of MAPKK).KK3 97.0\n",
      "(MAPKKK activation).K1 10.0\n",
      "Erk2-P 6.02214179e+15\n",
      "(dephosphorylation of MAPK-PP).V9 0.000262119\n",
      "(MAPKKK inactivation).KK2 861.9\n",
      "(MAPKKK activation).V1 7.39701\n",
      "(phosphorylation of MAPK).k7 340.408\n",
      "Mos 5.419927611e+16\n",
      "(phosphorylation of MAPK).KK7 0.000137201\n",
      "(dephosphorylation of MAPK-P).KK10 6864.03\n",
      "(phosphorylation of MAPK-P).KK8 3409.55\n",
      "Erk2-PP 6.02214179e+15\n",
      "(dephosphorylation of MAPKK-PP).V5 92.8198\n",
      "(MAPKKK inactivation).V2 4.18195\n",
      "Mos-P 6.02214179e+15\n",
      "(dephosphorylation of MAPK-P).V10 0.401565\n",
      "(MAPKKK activation).Ki 1.88839\n",
      "Mek1 1.6861997012e+17\n",
      "Mek1-PP 6.02214179e+11\n",
      "(phosphorylation of MAPKK-P).KK4 66.5179\n",
      "(phosphorylation of MAPKK).k3 88.1199\n",
      "Erk2 1.6861997012e+17\n",
      "(phosphorylation of MAPKK-P).k4 0.0520377\n",
      "(dephosphorylation of MAPKK-PP).KK5 0.000197288\n",
      "Mek1-P 6.02214179e+17\n",
      "(dephosphorylation of MAPKK-P).V6 7132.05\n",
      "(MAPKKK activation).n 571088.0\n"
     ]
    },
    {
     "data": {
      "text/plain": [
       "<PyCoTools.pycopi.Run instance at 0x7f1d63d0ca70>"
      ]
     },
     "execution_count": 6,
     "metadata": {},
     "output_type": "execute_result"
    }
   ],
   "source": [
    "import pandas,os,PyCoTools\n",
    "\n",
    "GMQ_before=PyCoTools.pycopi.GetModelQuantities(kholodenko_model)\n",
    "for key,val in  GMQ_before.get_all_model_variables().items():\n",
    "    print key,val['value']\n",
    "\n",
    "\n",
    "data_report='InsertParametersEstimationData.txt'\n",
    "##Simulate some synthetic data\n",
    "TC=PyCoTools.pycopi.TimeCourse(kholodenko_model,End=1000,StepSize=1,\n",
    "                               Intervals=1000,\n",
    "                               ReportName=data_report)\n",
    "\n",
    "# setup parameter estimation with all default parameters\n",
    "estimation_results='InsertParametersEstimationResults.txt'\n",
    "PE=PyCoTools.pycopi.ParameterEstimation(kholodenko_model,data_report,\n",
    "                                       ReportName = estimation_results)\n",
    "PE.write_item_template()\n",
    "PE.set_up()\n",
    "## run\n",
    "PE.run() \n",
    "\n"
   ]
  },
  {
   "cell_type": "markdown",
   "metadata": {},
   "source": [
    "Now lets check that its worked: "
   ]
  },
  {
   "cell_type": "code",
   "execution_count": 7,
   "metadata": {
    "collapsed": false
   },
   "outputs": [
    {
     "name": "stdout",
     "output_type": "stream",
     "text": [
      "             [Erk2]_0   [Mos]_0  [Erk2-P]_0  [Erk2-PP]_0  [Mos-P]_0  [Mek1]_0  \\\n",
      "[Mek1-PP]_0                                                                     \n",
      "0.012951      254.318  0.058372    10.52300     10.53510   0.102796  0.000002   \n",
      "0.015377      265.097  0.081859    10.29090      7.51117   5.516360  0.000001   \n",
      "0.008801      229.686  0.074562    10.13580     10.58150   0.109268  0.000001   \n",
      "0.011801      267.606  0.087989     8.44124     10.95300   3.918660  0.000001   \n",
      "0.012448      289.719  0.055177     8.81845     10.38260   0.085895  0.000001   \n",
      "\n",
      "             [Mek1-P]_0  (phosphorylation of MAPKK).KK3  \\\n",
      "[Mek1-PP]_0                                               \n",
      "0.012951       0.005185                        0.024625   \n",
      "0.015377       0.000177                        0.018468   \n",
      "0.008801       0.010720                        0.012757   \n",
      "0.011801       0.005822                        0.009972   \n",
      "0.012448       0.000155                        0.028948   \n",
      "\n",
      "             (MAPKKK activation).K1  (dephosphorylation of MAPK-PP).V9  \\\n",
      "[Mek1-PP]_0                                                              \n",
      "0.012951                   0.005638                           0.000002   \n",
      "0.015377                   0.000012                           0.000344   \n",
      "0.008801                   0.000009                           0.000002   \n",
      "0.011801                   0.000006                           0.000002   \n",
      "0.012448                   0.000007                           0.000002   \n",
      "\n",
      "                                              ...                                     \\\n",
      "[Mek1-PP]_0                                   ...                                      \n",
      "0.012951                                      ...                                      \n",
      "0.015377                                      ...                                      \n",
      "0.008801                                      ...                                      \n",
      "0.011801                                      ...                                      \n",
      "0.012448                                      ...                                      \n",
      "\n",
      "             (MAPKKK activation).V1  (MAPKKK activation).Ki  \\\n",
      "[Mek1-PP]_0                                                   \n",
      "0.012951                   0.016953                0.000007   \n",
      "0.015377                   0.018401                0.001601   \n",
      "0.008801                   0.022220                0.001262   \n",
      "0.011801                   0.015572                0.001360   \n",
      "0.012448                   0.043553                0.001078   \n",
      "\n",
      "             (phosphorylation of MAPK).KK7  \\\n",
      "[Mek1-PP]_0                                  \n",
      "0.012951                          0.337933   \n",
      "0.015377                          0.300875   \n",
      "0.008801                          0.407736   \n",
      "0.011801                        457.010000   \n",
      "0.012448                          0.259273   \n",
      "\n",
      "             (dephosphorylation of MAPK-P).KK10  \\\n",
      "[Mek1-PP]_0                                       \n",
      "0.012951                               0.000014   \n",
      "0.015377                               0.000012   \n",
      "0.008801                               0.000010   \n",
      "0.011801                               0.464409   \n",
      "0.012448                               0.000016   \n",
      "\n",
      "             (phosphorylation of MAPK-P).KK8  \\\n",
      "[Mek1-PP]_0                                    \n",
      "0.012951                            0.000007   \n",
      "0.015377                            0.000002   \n",
      "0.008801                            0.000003   \n",
      "0.011801                            0.000005   \n",
      "0.012448                            0.000003   \n",
      "\n",
      "             (dephosphorylation of MAPKK-PP).V5  \\\n",
      "[Mek1-PP]_0                                       \n",
      "0.012951                             338.865000   \n",
      "0.015377                             348.314000   \n",
      "0.008801                               0.004635   \n",
      "0.011801                               0.003423   \n",
      "0.012448                               0.005138   \n",
      "\n",
      "             (dephosphorylation of MAPK-P).V10  \\\n",
      "[Mek1-PP]_0                                      \n",
      "0.012951                              0.002734   \n",
      "0.015377                              0.001231   \n",
      "0.008801                              0.001491   \n",
      "0.011801                              0.001180   \n",
      "0.012448                              0.002079   \n",
      "\n",
      "             (dephosphorylation of MAPKK-P).V6  (MAPKKK activation).n  \\\n",
      "[Mek1-PP]_0                                                             \n",
      "0.012951                              0.000015                5096.00   \n",
      "0.015377                              0.000012                5972.08   \n",
      "0.008801                              0.000013                4629.66   \n",
      "0.011801                              0.000010                6560.93   \n",
      "0.012448                              0.000009                5036.33   \n",
      "\n",
      "             TaskList[Parameter Estimation].(Problem)Parameter Estimation.Best Value  \n",
      "[Mek1-PP]_0                                                                           \n",
      "0.012951                                              0.028009                        \n",
      "0.015377                                              0.027590                        \n",
      "0.008801                                              0.027486                        \n",
      "0.011801                                              0.026896                        \n",
      "0.012448                                              0.024846                        \n",
      "\n",
      "[5 rows x 30 columns]\n",
      "INFO:PyCoTools.PEAnalysis:PEAnalysis:90:Parsing data from InsertParametersEstimationResults.txt into python\n",
      "\n",
      "\n",
      "\n",
      "\n"
     ]
    }
   ],
   "source": [
    "import PyCoTools\n",
    "import pandas\n",
    "## recall that best parameters are at the bottom of the copasi generated results file\n",
    "print pandas.DataFrame.from_csv(estimation_results,sep='\\t').tail() #so use tail to get end\n",
    "I=PyCoTools.pycopi.InsertParameters(kholodenko_model,ParameterPath=estimation_results)\n",
    "\n",
    "print '\\n\\n\\n'\n",
    "\n",
    "# GMQ_after=PyCoTools.pycopi.GetModelQuantities(kholodenko_model)\n",
    "# for key,val in  GMQ_after.get_all_model_variables().items():\n",
    "#     print key,val['value']\n"
   ]
  },
  {
   "cell_type": "code",
   "execution_count": null,
   "metadata": {
    "collapsed": true
   },
   "outputs": [],
   "source": []
  },
  {
   "cell_type": "code",
   "execution_count": 11,
   "metadata": {
    "collapsed": false
   },
   "outputs": [
    {
     "name": "stdout",
     "output_type": "stream",
     "text": [
      "(phosphorylation of MAPK-P).k8 0.204227\n",
      "(dephosphorylation of MAPK-PP).KK9 0.214148\n",
      "(dephosphorylation of MAPKK-P).KK6 0.000278258\n",
      "(phosphorylation of MAPKK).KK3 0.0289484\n",
      "(MAPKKK activation).K1 6.7281e-06\n",
      "Erk2-P 5.3105956268e+15\n",
      "(dephosphorylation of MAPK-PP).V9 2.34496e-06\n",
      "(MAPKKK inactivation).KK2 0.000307334\n",
      "(MAPKKK activation).V1 0.0435528\n",
      "(phosphorylation of MAPK).k7 0.0215704\n",
      "Mos 3.32283115333e+13\n",
      "(phosphorylation of MAPK).KK7 0.259273\n",
      "(dephosphorylation of MAPK-P).KK10 1.59485e-05\n",
      "(phosphorylation of MAPK-P).KK8 2.63758e-06\n",
      "Erk2-PP 6.25254893489e+15\n",
      "(dephosphorylation of MAPKK-PP).V5 0.00513777\n",
      "(MAPKKK inactivation).V2 805.909\n",
      "Mos-P 5.1727307348e+13\n",
      "(dephosphorylation of MAPK-P).V10 0.00207923\n",
      "(MAPKKK activation).Ki 0.00107819\n",
      "Mek1 850266199.33\n",
      "Mek1-PP 7.49636210019e+12\n",
      "(phosphorylation of MAPKK-P).KK4 70016.9\n",
      "(phosphorylation of MAPKK).k3 0.0663147\n",
      "Erk2 1.74472889726e+17\n",
      "(phosphorylation of MAPKK-P).k4 1e-06\n",
      "(dephosphorylation of MAPKK-PP).KK5 1.25553e-06\n",
      "Mek1-P 93611183054.7\n",
      "(dephosphorylation of MAPKK-P).V6 9.20057e-06\n",
      "(MAPKKK activation).n 5036.33\n",
      "INFO:PyCoTools.PEAnalysis:PEAnalysis:90:Parsing data from InsertParametersEstimationResults.txt into python\n"
     ]
    }
   ],
   "source": [
    "import pandas,os,PyCoTools\n",
    "\n",
    "GMQ_before=PyCoTools.pycopi.GetModelQuantities(kholodenko_model)\n",
    "for key,val in  GMQ_before.get_all_model_variables().items():\n",
    "    print key,val['value']\n",
    "\n",
    "\n",
    "data_report='InsertParametersEstimationData.txt'\n",
    "##Simulate some synthetic data\n",
    "TC=PyCoTools.pycopi.TimeCourse(kholodenko_model,End=1000,StepSize=1,\n",
    "                               Intervals=1000,\n",
    "                               ReportName=data_report)\n",
    "\n",
    "# setup parameter estimation with all default parameters\n",
    "estimation_results='InsertParametersEstimationResults.txt'\n",
    "PE=PyCoTools.pycopi.ParameterEstimation(kholodenko_model,data_report,\n",
    "                                       ReportName = estimation_results)\n",
    "PE.write_item_template()\n",
    "PE.set_up()\n",
    "PE.run()\n",
    "\n",
    "    \n"
   ]
  },
  {
   "cell_type": "markdown",
   "metadata": {
    "collapsed": true
   },
   "source": [
    "Now lets check:"
   ]
  },
  {
   "cell_type": "code",
   "execution_count": 27,
   "metadata": {
    "collapsed": false,
    "scrolled": true
   },
   "outputs": [
    {
     "name": "stdout",
     "output_type": "stream",
     "text": [
      "[Erk2]_0                                                                        0.000010\n",
      "[Mos]_0                                                                         0.000002\n",
      "[Erk2-P]_0                                                                      2.689080\n",
      "[Erk2-PP]_0                                                                     9.011590\n",
      "[Mos-P]_0                                                                       0.000001\n",
      "[Mek1]_0                                                                        0.004683\n",
      "[Mek1-P]_0                                                                      0.000001\n",
      "(phosphorylation of MAPKK).KK3                                              93469.100000\n",
      "(MAPKKK activation).K1                                                          0.000012\n",
      "(dephosphorylation of MAPK-PP).V9                                               0.000001\n",
      "(phosphorylation of MAPK).k7                                                    0.001501\n",
      "(phosphorylation of MAPK-P).k8                                             111567.000000\n",
      "(MAPKKK inactivation).KK2                                                       0.001241\n",
      "(MAPKKK inactivation).V2                                                       55.031200\n",
      "(phosphorylation of MAPKK).k3                                                   0.000001\n",
      "(phosphorylation of MAPKK-P).k4                                                 0.000458\n",
      "(dephosphorylation of MAPKK-PP).KK5                                         69378.300000\n",
      "(dephosphorylation of MAPK-PP).KK9                                              0.271666\n",
      "(dephosphorylation of MAPKK-P).KK6                                              0.003003\n",
      "(phosphorylation of MAPKK-P).KK4                                                1.265500\n",
      "(MAPKKK activation).V1                                                      27598.700000\n",
      "(MAPKKK activation).Ki                                                         33.478400\n",
      "(phosphorylation of MAPK).KK7                                                   1.474020\n",
      "(dephosphorylation of MAPK-P).KK10                                             19.564100\n",
      "(phosphorylation of MAPK-P).KK8                                                 0.000249\n",
      "(dephosphorylation of MAPKK-PP).V5                                              0.000001\n",
      "(dephosphorylation of MAPK-P).V10                                               0.000001\n",
      "(dephosphorylation of MAPKK-P).V6                                               0.050857\n",
      "(MAPKKK activation).n                                                           0.888386\n",
      "TaskList[Parameter Estimation].(Problem)Parameter Estimation.Best Value        56.388400\n",
      "Name: 0.00015081, dtype: float64\n",
      "INFO:PyCoTools.PEAnalysis:PEAnalysis:90:Parsing data from InsertParametersEstimationResults.txt into python\n",
      "\n",
      "\n",
      "(MAPKKK activation).K1 \n",
      "\n",
      "{'simulationType': 'fixed', 'type': 'ReactionParameter', 'cn': 'CN=Root,Model=Kholodenko2000 - Ultrasensitivity and negative feedback bring oscillations in MAPK cascade,Vector=Reactions[MAPKKK activation],ParameterGroup=Parameters,Parameter=K1', 'value': '1.17974e-05'}\n",
      "(MAPKKK activation).Ki \n",
      "\n",
      "{'simulationType': 'fixed', 'type': 'ReactionParameter', 'cn': 'CN=Root,Model=Kholodenko2000 - Ultrasensitivity and negative feedback bring oscillations in MAPK cascade,Vector=Reactions[MAPKKK activation],ParameterGroup=Parameters,Parameter=Ki', 'value': '33.4784'}\n",
      "(MAPKKK activation).V1 \n",
      "\n",
      "{'simulationType': 'fixed', 'type': 'ReactionParameter', 'cn': 'CN=Root,Model=Kholodenko2000 - Ultrasensitivity and negative feedback bring oscillations in MAPK cascade,Vector=Reactions[MAPKKK activation],ParameterGroup=Parameters,Parameter=V1', 'value': '27598.7'}\n",
      "(MAPKKK activation).n \n",
      "\n",
      "{'simulationType': 'fixed', 'type': 'ReactionParameter', 'cn': 'CN=Root,Model=Kholodenko2000 - Ultrasensitivity and negative feedback bring oscillations in MAPK cascade,Vector=Reactions[MAPKKK activation],ParameterGroup=Parameters,Parameter=n', 'value': '0.888386'}\n",
      "(MAPKKK inactivation).KK2 \n",
      "\n",
      "{'simulationType': 'fixed', 'type': 'ReactionParameter', 'cn': 'CN=Root,Model=Kholodenko2000 - Ultrasensitivity and negative feedback bring oscillations in MAPK cascade,Vector=Reactions[MAPKKK inactivation],ParameterGroup=Parameters,Parameter=KK2', 'value': '0.0012414'}\n",
      "(MAPKKK inactivation).V2 \n",
      "\n",
      "{'simulationType': 'fixed', 'type': 'ReactionParameter', 'cn': 'CN=Root,Model=Kholodenko2000 - Ultrasensitivity and negative feedback bring oscillations in MAPK cascade,Vector=Reactions[MAPKKK inactivation],ParameterGroup=Parameters,Parameter=V2', 'value': '55.0312'}\n",
      "(dephosphorylation of MAPK-P).KK10 \n",
      "\n",
      "{'simulationType': 'fixed', 'type': 'ReactionParameter', 'cn': 'CN=Root,Model=Kholodenko2000 - Ultrasensitivity and negative feedback bring oscillations in MAPK cascade,Vector=Reactions[dephosphorylation of MAPK-P],ParameterGroup=Parameters,Parameter=KK10', 'value': '19.5641'}\n",
      "(dephosphorylation of MAPK-P).V10 \n",
      "\n",
      "{'simulationType': 'fixed', 'type': 'ReactionParameter', 'cn': 'CN=Root,Model=Kholodenko2000 - Ultrasensitivity and negative feedback bring oscillations in MAPK cascade,Vector=Reactions[dephosphorylation of MAPK-P],ParameterGroup=Parameters,Parameter=V10', 'value': '1.04624e-06'}\n",
      "(dephosphorylation of MAPK-PP).KK9 \n",
      "\n",
      "{'simulationType': 'fixed', 'type': 'ReactionParameter', 'cn': 'CN=Root,Model=Kholodenko2000 - Ultrasensitivity and negative feedback bring oscillations in MAPK cascade,Vector=Reactions[dephosphorylation of MAPK-PP],ParameterGroup=Parameters,Parameter=KK9', 'value': '0.271666'}\n",
      "(dephosphorylation of MAPK-PP).V9 \n",
      "\n",
      "{'simulationType': 'fixed', 'type': 'ReactionParameter', 'cn': 'CN=Root,Model=Kholodenko2000 - Ultrasensitivity and negative feedback bring oscillations in MAPK cascade,Vector=Reactions[dephosphorylation of MAPK-PP],ParameterGroup=Parameters,Parameter=V9', 'value': '1.32781e-06'}\n",
      "(dephosphorylation of MAPKK-P).KK6 \n",
      "\n",
      "{'simulationType': 'fixed', 'type': 'ReactionParameter', 'cn': 'CN=Root,Model=Kholodenko2000 - Ultrasensitivity and negative feedback bring oscillations in MAPK cascade,Vector=Reactions[dephosphorylation of MAPKK-P],ParameterGroup=Parameters,Parameter=KK6', 'value': '0.00300255'}\n",
      "(dephosphorylation of MAPKK-P).V6 \n",
      "\n",
      "{'simulationType': 'fixed', 'type': 'ReactionParameter', 'cn': 'CN=Root,Model=Kholodenko2000 - Ultrasensitivity and negative feedback bring oscillations in MAPK cascade,Vector=Reactions[dephosphorylation of MAPKK-P],ParameterGroup=Parameters,Parameter=V6', 'value': '0.0508572'}\n",
      "(dephosphorylation of MAPKK-PP).KK5 \n",
      "\n",
      "{'simulationType': 'fixed', 'type': 'ReactionParameter', 'cn': 'CN=Root,Model=Kholodenko2000 - Ultrasensitivity and negative feedback bring oscillations in MAPK cascade,Vector=Reactions[dephosphorylation of MAPKK-PP],ParameterGroup=Parameters,Parameter=KK5', 'value': '69378.3'}\n",
      "(dephosphorylation of MAPKK-PP).V5 \n",
      "\n",
      "{'simulationType': 'fixed', 'type': 'ReactionParameter', 'cn': 'CN=Root,Model=Kholodenko2000 - Ultrasensitivity and negative feedback bring oscillations in MAPK cascade,Vector=Reactions[dephosphorylation of MAPKK-PP],ParameterGroup=Parameters,Parameter=V5', 'value': '1.08283e-06'}\n",
      "(phosphorylation of MAPK).KK7 \n",
      "\n",
      "{'simulationType': 'fixed', 'type': 'ReactionParameter', 'cn': 'CN=Root,Model=Kholodenko2000 - Ultrasensitivity and negative feedback bring oscillations in MAPK cascade,Vector=Reactions[phosphorylation of MAPK],ParameterGroup=Parameters,Parameter=KK7', 'value': '1.47402'}\n",
      "(phosphorylation of MAPK).k7 \n",
      "\n",
      "{'simulationType': 'fixed', 'type': 'ReactionParameter', 'cn': 'CN=Root,Model=Kholodenko2000 - Ultrasensitivity and negative feedback bring oscillations in MAPK cascade,Vector=Reactions[phosphorylation of MAPK],ParameterGroup=Parameters,Parameter=k7', 'value': '0.00150075'}\n",
      "(phosphorylation of MAPK-P).KK8 \n",
      "\n",
      "{'simulationType': 'fixed', 'type': 'ReactionParameter', 'cn': 'CN=Root,Model=Kholodenko2000 - Ultrasensitivity and negative feedback bring oscillations in MAPK cascade,Vector=Reactions[phosphorylation of MAPK-P],ParameterGroup=Parameters,Parameter=KK8', 'value': '0.00024886'}\n",
      "(phosphorylation of MAPK-P).k8 \n",
      "\n",
      "{'simulationType': 'fixed', 'type': 'ReactionParameter', 'cn': 'CN=Root,Model=Kholodenko2000 - Ultrasensitivity and negative feedback bring oscillations in MAPK cascade,Vector=Reactions[phosphorylation of MAPK-P],ParameterGroup=Parameters,Parameter=k8', 'value': '111567.0'}\n",
      "(phosphorylation of MAPKK).KK3 \n",
      "\n",
      "{'simulationType': 'fixed', 'type': 'ReactionParameter', 'cn': 'CN=Root,Model=Kholodenko2000 - Ultrasensitivity and negative feedback bring oscillations in MAPK cascade,Vector=Reactions[phosphorylation of MAPKK],ParameterGroup=Parameters,Parameter=KK3', 'value': '93469.1'}\n",
      "(phosphorylation of MAPKK).k3 \n",
      "\n",
      "{'simulationType': 'fixed', 'type': 'ReactionParameter', 'cn': 'CN=Root,Model=Kholodenko2000 - Ultrasensitivity and negative feedback bring oscillations in MAPK cascade,Vector=Reactions[phosphorylation of MAPKK],ParameterGroup=Parameters,Parameter=k3', 'value': '1.13833e-06'}\n",
      "(phosphorylation of MAPKK-P).KK4 \n",
      "\n",
      "{'simulationType': 'fixed', 'type': 'ReactionParameter', 'cn': 'CN=Root,Model=Kholodenko2000 - Ultrasensitivity and negative feedback bring oscillations in MAPK cascade,Vector=Reactions[phosphorylation of MAPKK-P],ParameterGroup=Parameters,Parameter=KK4', 'value': '1.2655'}\n",
      "(phosphorylation of MAPKK-P).k4 \n",
      "\n",
      "{'simulationType': 'fixed', 'type': 'ReactionParameter', 'cn': 'CN=Root,Model=Kholodenko2000 - Ultrasensitivity and negative feedback bring oscillations in MAPK cascade,Vector=Reactions[phosphorylation of MAPKK-P],ParameterGroup=Parameters,Parameter=k4', 'value': '0.000458359'}\n",
      "Erk2 \n",
      "\n",
      "{'cn': 'CN=Root,Model=Kholodenko2000 - Ultrasensitivity and negative feedback bring oscillations in MAPK cascade,Vector=Compartments[uVol],Vector=Metabolites[Erk2]', 'value': '6064838775.29', 'compartment_volume': '1.0', 'simulationType': 'reactions', 'concentration': '1.00709e-05', 'compartment': 'uVol', 'type': 'Species'}\n",
      "Erk2-P \n",
      "\n",
      "{'cn': 'CN=Root,Model=Kholodenko2000 - Ultrasensitivity and negative feedback bring oscillations in MAPK cascade,Vector=Compartments[uVol],Vector=Metabolites[Erk2-P]', 'value': '1.61940210447e+15', 'compartment_volume': '1.0', 'simulationType': 'reactions', 'concentration': '2.68908000001', 'compartment': 'uVol', 'type': 'Species'}\n",
      "Erk2-PP \n",
      "\n",
      "{'cn': 'CN=Root,Model=Kholodenko2000 - Ultrasensitivity and negative feedback bring oscillations in MAPK cascade,Vector=Compartments[uVol],Vector=Metabolites[Erk2-PP]', 'value': '5.42690727333e+15', 'compartment_volume': '1.0', 'simulationType': 'reactions', 'concentration': '9.01158999999', 'compartment': 'uVol', 'type': 'Species'}\n",
      "Mek1 \n",
      "\n",
      "{'cn': 'CN=Root,Model=Kholodenko2000 - Ultrasensitivity and negative feedback bring oscillations in MAPK cascade,Vector=Compartments[uVol],Vector=Metabolites[Mek1]', 'value': '2.81988595959e+12', 'compartment_volume': '1.0', 'simulationType': 'reactions', 'concentration': '0.00468253', 'compartment': 'uVol', 'type': 'Species'}\n",
      "Mek1-P \n",
      "\n",
      "{'cn': 'CN=Root,Model=Kholodenko2000 - Ultrasensitivity and negative feedback bring oscillations in MAPK cascade,Vector=Compartments[uVol],Vector=Metabolites[Mek1-P]', 'value': '611897782.998', 'compartment_volume': '1.0', 'simulationType': 'reactions', 'concentration': '1.01608e-06', 'compartment': 'uVol', 'type': 'Species'}\n",
      "Mek1-PP \n",
      "\n",
      "{'cn': 'CN=Root,Model=Kholodenko2000 - Ultrasensitivity and negative feedback bring oscillations in MAPK cascade,Vector=Compartments[uVol],Vector=Metabolites[Mek1-PP]', 'value': '90819920335.0', 'compartment_volume': '1.0', 'simulationType': 'reactions', 'concentration': '0.00015081', 'compartment': 'uVol', 'type': 'Species'}\n",
      "Mos \n",
      "\n",
      "{'cn': 'CN=Root,Model=Kholodenko2000 - Ultrasensitivity and negative feedback bring oscillations in MAPK cascade,Vector=Compartments[uVol],Vector=Metabolites[Mos]', 'value': '1442333069.41', 'compartment_volume': '1.0', 'simulationType': 'reactions', 'concentration': '2.39504999999e-06', 'compartment': 'uVol', 'type': 'Species'}\n",
      "Mos-P \n",
      "\n",
      "{'cn': 'CN=Root,Model=Kholodenko2000 - Ultrasensitivity and negative feedback bring oscillations in MAPK cascade,Vector=Compartments[uVol],Vector=Metabolites[Mos-P]', 'value': '602214179.0', 'compartment_volume': '1.0', 'simulationType': 'reactions', 'concentration': '1e-06', 'compartment': 'uVol', 'type': 'Species'}\n"
     ]
    },
    {
     "data": {
      "text/plain": [
       "0"
      ]
     },
     "execution_count": 27,
     "metadata": {},
     "output_type": "execute_result"
    }
   ],
   "source": [
    "import PyCoTools,pandas,os\n",
    "\n",
    "\n",
    "print pandas.DataFrame.from_csv(estimation_results,sep='\\t').iloc[-1]\n",
    "\n",
    "\n",
    "## by default parameter sets are sorted by objective function value (lowest first) and index is set to 0\n",
    "I=PyCoTools.pycopi.InsertParameters(kholodenko_model,ParameterPath=estimation_results,Index = 0)\n",
    "\n",
    "GMQ_after = PyCoTools.pycopi.GetModelQuantities(kholodenko_model)\n",
    "\n",
    "## Easiest way to check the parameters have been inserted is to look at the model in the GUI\n",
    "os.system('CopasiUI {}'.format(kholodenko_model)) ##remember to close the GUI"
   ]
  },
  {
   "cell_type": "code",
   "execution_count": null,
   "metadata": {
    "collapsed": true
   },
   "outputs": [],
   "source": []
  },
  {
   "cell_type": "code",
   "execution_count": 38,
   "metadata": {
    "collapsed": false
   },
   "outputs": [
    {
     "name": "stdout",
     "output_type": "stream",
     "text": [
      "INFO:PyCoTools.pycopi:pycopi:4450:creating a directory for analysis in : \n",
      "\n",
      "/home/b3053674/Documents/PyCoTools/PyCoTools/PyCoToolsTutorial/MultipleParameterEsimationAnalysis\n",
      "INFO:PyCoTools.pycopi:pycopi:4309:writing PE config template for model: /home/b3053674/Documents/PyCoTools/PyCoTools/PyCoToolsTutorial/Kholodenko.cps\n",
      "INFO:PyCoTools.pycopi:pycopi:4430:Copying copasi file 1 times\n",
      "INFO:PyCoTools.pycopi:pycopi:4349:setting up scan for model : /home/b3053674/Documents/PyCoTools/PyCoTools/PyCoToolsTutorial/Kholodenko.cps\n",
      "INFO:root:pycopi:3466:defining report\n",
      "INFO:PyCoTools.pycopi:pycopi:4374:Setup Took 0.323647022247 seconds\n",
      "INFO:PyCoTools.pycopi:pycopi:4357:<PyCoTools.pycopi.Scan instance at 0x7f1d636f0bd8>\n"
     ]
    }
   ],
   "source": [
    "import PyCoTools,os,pandas\n",
    "output_directory = 'MultiplePEs'\n",
    "RMPE=PyCoTools.pycopi.RunMultiplePEs(kholodenko_model,data_report,\n",
    "                               CopyNumber=1,NumberOfPEs=3)\n",
    "#                                OutputDir = output_directory)\n",
    "RMPE.write_config_template()\n",
    "RMPE.set_up()\n",
    "# RMPE.run()"
   ]
  },
  {
   "cell_type": "code",
   "execution_count": null,
   "metadata": {
    "collapsed": true
   },
   "outputs": [],
   "source": []
  },
  {
   "cell_type": "code",
   "execution_count": null,
   "metadata": {
    "collapsed": true
   },
   "outputs": [],
   "source": []
  },
  {
   "cell_type": "code",
   "execution_count": null,
   "metadata": {
    "collapsed": true
   },
   "outputs": [],
   "source": []
  },
  {
   "cell_type": "code",
   "execution_count": null,
   "metadata": {
    "collapsed": true
   },
   "outputs": [],
   "source": []
  },
  {
   "cell_type": "code",
   "execution_count": null,
   "metadata": {
    "collapsed": true
   },
   "outputs": [],
   "source": []
  },
  {
   "cell_type": "code",
   "execution_count": null,
   "metadata": {
    "collapsed": true
   },
   "outputs": [],
   "source": []
  },
  {
   "cell_type": "code",
   "execution_count": null,
   "metadata": {
    "collapsed": true
   },
   "outputs": [],
   "source": []
  }
 ],
 "metadata": {
  "kernelspec": {
   "display_name": "Python 2",
   "language": "python",
   "name": "python2"
  },
  "language_info": {
   "codemirror_mode": {
    "name": "ipython",
    "version": 2
   },
   "file_extension": ".py",
   "mimetype": "text/x-python",
   "name": "python",
   "nbconvert_exporter": "python",
   "pygments_lexer": "ipython2",
   "version": "2.7.13"
  }
 },
 "nbformat": 4,
 "nbformat_minor": 2
}
