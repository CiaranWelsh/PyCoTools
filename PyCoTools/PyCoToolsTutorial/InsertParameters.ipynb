{
 "cells": [
  {
   "cell_type": "markdown",
   "metadata": {
    "deletable": true,
    "editable": true
   },
   "source": [
    "# InsertParameters\n",
    "This class enables parameters to be inserted into a model from a coapsi output file, pandas dataframe or a python dictionary. "
   ]
  },
  {
   "cell_type": "code",
   "execution_count": 1,
   "metadata": {
    "collapsed": false,
    "deletable": true,
    "editable": true
   },
   "outputs": [
    {
     "name": "stdout",
     "output_type": "stream",
     "text": [
      "/home/b3053674/Documents/PyCoTools/PyCoTools/PyCoToolsTutorial/Kholodenko_1.cps\n",
      "True\n"
     ]
    }
   ],
   "source": [
    "%matplotlib inline\n",
    "import os,glob\n",
    "\n",
    "for i in glob.glob('*.cps'):\n",
    "    kholodenko_model= os.path.abspath(i)\n",
    "    \n",
    "print kholodenko_model\n",
    "print os.path.isfile(kholodenko_model)"
   ]
  },
  {
   "cell_type": "code",
   "execution_count": 3,
   "metadata": {
    "collapsed": false,
    "deletable": true,
    "editable": true,
    "scrolled": false
   },
   "outputs": [
    {
     "name": "stdout",
     "output_type": "stream",
     "text": [
      "(MAPKKK activation).K1 --> 10.0\n",
      "(MAPKKK activation).Ki --> 0.00127978\n",
      "(MAPKKK activation).V1 --> 19.8726\n",
      "(MAPKKK activation).n --> 4.25568\n",
      "(MAPKKK inactivation).KK2 --> 770669.0\n",
      "(MAPKKK inactivation).V2 --> 1.8982e-05\n",
      "(dephosphorylation of MAPK-P).KK10 --> 6535.37\n",
      "(dephosphorylation of MAPK-P).V10 --> 0.018027\n",
      "(dephosphorylation of MAPK-PP).KK9 --> 688.833\n",
      "(dephosphorylation of MAPK-PP).V9 --> 5.22054e-06\n",
      "(dephosphorylation of MAPKK-P).KK6 --> 0.199851\n",
      "(dephosphorylation of MAPKK-P).V6 --> 306.398\n",
      "(dephosphorylation of MAPKK-PP).KK5 --> 2083.18\n",
      "(dephosphorylation of MAPKK-PP).V5 --> 0.000648891\n",
      "(phosphorylation of MAPK).KK7 --> 0.00080569\n",
      "(phosphorylation of MAPK).k7 --> 118926.0\n",
      "(phosphorylation of MAPK-P).KK8 --> 1.96775e-05\n",
      "(phosphorylation of MAPK-P).k8 --> 46722.9\n",
      "(phosphorylation of MAPKK).KK3 --> 29224.0\n",
      "(phosphorylation of MAPKK).k3 --> 0.0171707\n",
      "(phosphorylation of MAPKK-P).KK4 --> 1693.46\n",
      "(phosphorylation of MAPKK-P).k4 --> 0.00738712\n",
      "Erk2 --> 4.79694306497e+11\n",
      "Erk2-P --> 7.9078550487e+15\n",
      "Erk2-PP --> 9.14263500132e+11\n",
      "Mek1 --> 3.00118253818e+12\n",
      "Mek1-P --> 2812394415.21\n",
      "Mek1-PP --> 1.204428358e+16\n",
      "Mos --> 83649356105.6\n",
      "Mos-P --> 6031596552.61\n",
      "\n",
      "\n",
      "\n",
      "\n",
      "(MAPKKK activation).K1 --> 10.0\n",
      "(MAPKKK activation).Ki --> 0.00127978\n",
      "(MAPKKK activation).V1 --> 19.8726\n",
      "(MAPKKK activation).n --> 4.25568\n",
      "(MAPKKK inactivation).KK2 --> 770669.0\n",
      "(MAPKKK inactivation).V2 --> 1.8982e-05\n",
      "(dephosphorylation of MAPK-P).KK10 --> 6535.37\n",
      "(dephosphorylation of MAPK-P).V10 --> 0.018027\n",
      "(dephosphorylation of MAPK-PP).KK9 --> 688.833\n",
      "(dephosphorylation of MAPK-PP).V9 --> 5.22054e-06\n",
      "(dephosphorylation of MAPKK-P).KK6 --> 0.199851\n",
      "(dephosphorylation of MAPKK-P).V6 --> 306.398\n",
      "(dephosphorylation of MAPKK-PP).KK5 --> 2083.18\n",
      "(dephosphorylation of MAPKK-PP).V5 --> 0.000648891\n",
      "(phosphorylation of MAPK).KK7 --> 0.00080569\n",
      "(phosphorylation of MAPK).k7 --> 118926.0\n",
      "(phosphorylation of MAPK-P).KK8 --> 1.96775e-05\n",
      "(phosphorylation of MAPK-P).k8 --> 46722.9\n",
      "(phosphorylation of MAPKK).KK3 --> 29224.0\n",
      "(phosphorylation of MAPKK).k3 --> 0.0171707\n",
      "(phosphorylation of MAPKK-P).KK4 --> 1693.46\n",
      "(phosphorylation of MAPKK-P).k4 --> 0.00738712\n",
      "Erk2 --> 4.79694306497e+11\n",
      "Erk2-P --> 7.9078550487e+15\n",
      "Erk2-PP --> 9.14263500132e+11\n",
      "Mek1 --> 3.00118253818e+12\n",
      "Mek1-P --> 2812394415.21\n",
      "Mek1-PP --> 1.204428358e+16\n",
      "Mos --> 83649356105.6\n",
      "Mos-P --> 6031596552.61\n"
     ]
    },
    {
     "data": {
      "text/plain": [
       "0"
      ]
     },
     "execution_count": 3,
     "metadata": {},
     "output_type": "execute_result"
    }
   ],
   "source": [
    "import PyCoTools\n",
    "import os\n",
    "\n",
    "GMQ_before=PyCoTools.pycopi.GetModelQuantities(kholodenko_model)\n",
    "\n",
    "## Here are our model quantities\n",
    "for param,values in sorted(GMQ_before.get_all_model_variables().items()):\n",
    "    print param,'-->',values['value']\n",
    "    \n",
    "    \n",
    "##create a python dictionary dict[parameter_name]=value\n",
    "parameter_dct={'(MAPKKK activation).K1':10}\n",
    "PyCoTools.pycopi.InsertParameters(kholodenko_model,ParameterDict = parameter_dct)\n",
    "\n",
    "\n",
    "print '\\n\\n\\n'\n",
    "GMQ_after=PyCoTools.pycopi.GetModelQuantities(kholodenko_model)\n",
    "## Here are our model quantities\n",
    "for param,values in sorted(GMQ_after.get_all_model_variables().items()):\n",
    "    print param,'-->',values['value']\n",
    "    \n",
    "    \n",
    "os.system('CopasiUI {}'.format(kholodenko_model))\n",
    "    "
   ]
  },
  {
   "cell_type": "markdown",
   "metadata": {
    "deletable": true,
    "editable": true
   },
   "source": [
    "Default behaviour when inserting metabolite values is to convert between particle numbers and concentrations automatically and insert both into the CopasiML. Change `CHECK_MODEL` variable to `True` to open the model and confirm for yourself."
   ]
  },
  {
   "cell_type": "code",
   "execution_count": null,
   "metadata": {
    "collapsed": false,
    "deletable": true,
    "editable": true,
    "scrolled": true
   },
   "outputs": [],
   "source": [
    "import PyCoTools,os\n",
    "GMQ_before=PyCoTools.pycopi.GetModelQuantities(kholodenko_model)\n",
    "for key,val in  GMQ_before.get_metabolites().items():\n",
    "    print key,val\n",
    "\n",
    "    \n",
    "metab_dct={'Mek1-PP':1000}\n",
    "PyCoTools.pycopi.InsertParameters(kholodenko_model,ParameterDict=metab_dct)\n",
    "print '\\n\\n\\n'\n",
    "GMQ_after=PyCoTools.pycopi.GetModelQuantities(kholodenko_model)\n",
    "for key,val in  GMQ_after.get_metabolites().items():\n",
    "    if key == metab_dct.keys()[0]:\n",
    "        print key,val\n",
    "        \n",
    "CHECK_MODEL=False\n",
    "if CHECK_MODEL:\n",
    "    os.system('CopasiUI {}'.format(kholodenko_model))\n"
   ]
  },
  {
   "cell_type": "markdown",
   "metadata": {
    "deletable": true,
    "editable": true
   },
   "source": [
    "## From Pandas\n",
    "A `pandas.DataFrame` is a very useful python structure. Parameters are be imported directly from a DataFrame. "
   ]
  },
  {
   "cell_type": "code",
   "execution_count": null,
   "metadata": {
    "collapsed": false,
    "deletable": true,
    "editable": true
   },
   "outputs": [],
   "source": [
    "import PyCoTools,os\n",
    "import pandas\n",
    "GMQ_before=PyCoTools.pycopi.GetModelQuantities(kholodenko_model)\n",
    "for key,val in  GMQ_before.get_all_model_variables().items():\n",
    "    print key,val['value']\n",
    "\n",
    "print '\\n\\n'\n",
    "param_dct={'Mek1-P':1000,\n",
    "           'Mek1-PP':0.001,\n",
    "           '(phosphorylation of MAPKK).KK3':97}\n",
    "df=pandas.DataFrame(param_dct,index=[0])\n",
    "print df\n",
    "PyCoTools.pycopi.InsertParameters(kholodenko_model,DF=df)\n",
    "print '\\n\\n\\n'\n",
    "GMQ_after=PyCoTools.pycopi.GetModelQuantities(kholodenko_model)\n",
    "for key,val in  GMQ_before.get_all_model_variables().items():\n",
    "    print key,val['value']\n",
    "\n",
    "        \n",
    "CHECK_MODEL=False\n",
    "if CHECK_MODEL:\n",
    "    os.system('CopasiUI {}'.format(kholodenko_model))\n"
   ]
  },
  {
   "cell_type": "markdown",
   "metadata": {
    "deletable": true,
    "editable": true
   },
   "source": [
    "# From File\n",
    "To demonstrate InsertParameters from file, lets do a parameter estimation to some synthetic data and insert those parameters directly from file. "
   ]
  },
  {
   "cell_type": "code",
   "execution_count": 2,
   "metadata": {
    "collapsed": false,
    "deletable": true,
    "editable": true,
    "scrolled": true
   },
   "outputs": [
    {
     "name": "stdout",
     "output_type": "stream",
     "text": [
      "INFO:root:__init__:18:Initializing PyCoTools\n",
      "INFO:root:__init__:19:Initializing Logging System\n",
      "INFO:root:__init__:20:logging config file at: /home/b3053674/anaconda2/lib/python2.7/site-packages/PyCoTools/logging_config.conf\n",
      "(phosphorylation of MAPK-P).k8 111567.0\n",
      "(dephosphorylation of MAPK-PP).KK9 0.271666\n",
      "(dephosphorylation of MAPKK-P).KK6 0.00300255\n",
      "(phosphorylation of MAPKK).KK3 93469.1\n",
      "(MAPKKK activation).K1 1.17974e-05\n",
      "Erk2-P 1.61940210447e+15\n",
      "(dephosphorylation of MAPK-PP).V9 1.32781e-06\n",
      "(MAPKKK inactivation).KK2 0.0012414\n",
      "(MAPKKK activation).V1 27598.7\n",
      "(phosphorylation of MAPK).k7 0.00150075\n",
      "Mos 1442333069.41\n",
      "(phosphorylation of MAPK).KK7 1.47402\n",
      "(dephosphorylation of MAPK-P).KK10 19.5641\n",
      "(phosphorylation of MAPK-P).KK8 0.00024886\n",
      "Erk2-PP 5.42690727333e+15\n",
      "(dephosphorylation of MAPKK-PP).V5 1.08283e-06\n",
      "(MAPKKK inactivation).V2 55.0312\n",
      "Mos-P 602214179.0\n",
      "(dephosphorylation of MAPK-P).V10 1.04624e-06\n",
      "(MAPKKK activation).Ki 33.4784\n",
      "Mek1 2.81988595959e+12\n",
      "Mek1-PP 90819920335.0\n",
      "(phosphorylation of MAPKK-P).KK4 1.2655\n",
      "(phosphorylation of MAPKK).k3 1.13833e-06\n",
      "Erk2 6064838775.29\n",
      "(phosphorylation of MAPKK-P).k4 0.000458359\n",
      "(dephosphorylation of MAPKK-PP).KK5 69378.3\n",
      "Mek1-P 611897782.998\n",
      "(dephosphorylation of MAPKK-P).V6 0.0508572\n",
      "(MAPKKK activation).n 0.888386\n"
     ]
    },
    {
     "data": {
      "text/plain": [
       "<PyCoTools.pycopi.Run instance at 0x7f103d965ea8>"
      ]
     },
     "execution_count": 2,
     "metadata": {},
     "output_type": "execute_result"
    }
   ],
   "source": [
    "import pandas,os,PyCoTools\n",
    "\n",
    "GMQ_before=PyCoTools.pycopi.GetModelQuantities(kholodenko_model)\n",
    "for key,val in  GMQ_before.get_all_model_variables().items():\n",
    "    print key,val['value']\n",
    "\n",
    "\n",
    "data_report='InsertParametersEstimationData.txt'\n",
    "##Simulate some synthetic data\n",
    "TC=PyCoTools.pycopi.TimeCourse(kholodenko_model,End=1000,StepSize=1,\n",
    "                               Intervals=1000,\n",
    "                               ReportName=data_report)\n",
    "\n",
    "# setup parameter estimation with all default parameters\n",
    "estimation_results='InsertParametersEstimationResults.txt'\n",
    "PE=PyCoTools.pycopi.ParameterEstimation(kholodenko_model,data_report,\n",
    "                                       ReportName = estimation_results)\n",
    "PE.write_item_template()\n",
    "PE.set_up()\n",
    "## run\n",
    "PE.run() \n",
    "\n"
   ]
  },
  {
   "cell_type": "markdown",
   "metadata": {
    "deletable": true,
    "editable": true
   },
   "source": [
    "Now lets check that its worked: "
   ]
  },
  {
   "cell_type": "code",
   "execution_count": 9,
   "metadata": {
    "collapsed": false,
    "deletable": true,
    "editable": true
   },
   "outputs": [
    {
     "name": "stdout",
     "output_type": "stream",
     "text": [
      "             [Erk2]_0   [Mos]_0  [Erk2-P]_0  [Erk2-PP]_0  [Mos-P]_0  [Mek1]_0  \\\n",
      "[Mek1-PP]_0                                                                     \n",
      "0.000410     0.001318  0.000258     12.7708     0.001070   0.000009  0.004972   \n",
      "0.000306     0.000846  0.000209     10.4456     0.001220   0.000002  0.004273   \n",
      "0.000274     0.002432  0.000161     15.4971     0.000904   0.000002  0.004711   \n",
      "0.000311     0.001536  0.000125     11.4934     0.001432   0.000003  0.004624   \n",
      "0.000254     0.000797  0.000139     13.1313     0.001518   0.000010  0.004984   \n",
      "\n",
      "             [Mek1-P]_0  (phosphorylation of MAPKK).KK3  \\\n",
      "[Mek1-PP]_0                                               \n",
      "0.000410       0.000006                         32154.9   \n",
      "0.000306       0.000003                         49571.2   \n",
      "0.000274       0.000008                         67201.7   \n",
      "0.000311       0.000006                         51680.3   \n",
      "0.000254       0.000005                         29224.0   \n",
      "\n",
      "             (MAPKKK activation).K1  (dephosphorylation of MAPK-PP).V9  \\\n",
      "[Mek1-PP]_0                                                              \n",
      "0.000410                   0.000001                           0.000008   \n",
      "0.000306                   0.000001                           0.000009   \n",
      "0.000274                   0.000001                           0.000007   \n",
      "0.000311                   0.000001                           0.000008   \n",
      "0.000254                   0.000001                           0.000005   \n",
      "\n",
      "                                              ...                                     \\\n",
      "[Mek1-PP]_0                                   ...                                      \n",
      "0.000410                                      ...                                      \n",
      "0.000306                                      ...                                      \n",
      "0.000274                                      ...                                      \n",
      "0.000311                                      ...                                      \n",
      "0.000254                                      ...                                      \n",
      "\n",
      "             (MAPKKK activation).V1  (MAPKKK activation).Ki  \\\n",
      "[Mek1-PP]_0                                                   \n",
      "0.000410                    12.6177                0.001364   \n",
      "0.000306                    20.1428                0.000572   \n",
      "0.000274                    17.1336                0.001012   \n",
      "0.000311                    11.3408                0.001213   \n",
      "0.000254                    19.8726                0.001280   \n",
      "\n",
      "             (phosphorylation of MAPK).KK7  \\\n",
      "[Mek1-PP]_0                                  \n",
      "0.000410                          0.000465   \n",
      "0.000306                          0.000658   \n",
      "0.000274                          0.001329   \n",
      "0.000311                          0.000980   \n",
      "0.000254                          0.000806   \n",
      "\n",
      "             (dephosphorylation of MAPK-P).KK10  \\\n",
      "[Mek1-PP]_0                                       \n",
      "0.000410                                6857.50   \n",
      "0.000306                                5876.30   \n",
      "0.000274                               46490.10   \n",
      "0.000311                               45560.50   \n",
      "0.000254                                6535.37   \n",
      "\n",
      "             (phosphorylation of MAPK-P).KK8  \\\n",
      "[Mek1-PP]_0                                    \n",
      "0.000410                            0.000016   \n",
      "0.000306                            0.000007   \n",
      "0.000274                            0.000019   \n",
      "0.000311                            0.000009   \n",
      "0.000254                            0.000020   \n",
      "\n",
      "             (dephosphorylation of MAPKK-PP).V5  \\\n",
      "[Mek1-PP]_0                                       \n",
      "0.000410                               0.000329   \n",
      "0.000306                               0.000321   \n",
      "0.000274                               0.000673   \n",
      "0.000311                               0.000364   \n",
      "0.000254                               0.000649   \n",
      "\n",
      "             (dephosphorylation of MAPK-P).V10  \\\n",
      "[Mek1-PP]_0                                      \n",
      "0.000410                              0.031588   \n",
      "0.000306                              0.024006   \n",
      "0.000274                              0.050331   \n",
      "0.000311                              0.028004   \n",
      "0.000254                              0.018027   \n",
      "\n",
      "             (dephosphorylation of MAPKK-P).V6  (MAPKKK activation).n  \\\n",
      "[Mek1-PP]_0                                                             \n",
      "0.000410                               219.882                4.12275   \n",
      "0.000306                               355.893                5.64992   \n",
      "0.000274                               364.230                6.54886   \n",
      "0.000311                               343.582                5.67603   \n",
      "0.000254                               306.398                4.25568   \n",
      "\n",
      "             TaskList[Parameter Estimation].(Problem)Parameter Estimation.Best Value  \n",
      "[Mek1-PP]_0                                                                           \n",
      "0.000410                                              0.000401                        \n",
      "0.000306                                              0.000396                        \n",
      "0.000274                                              0.000396                        \n",
      "0.000311                                              0.000375                        \n",
      "0.000254                                              0.000371                        \n",
      "\n",
      "[5 rows x 30 columns]\n",
      "INFO:PyCoTools.PEAnalysis:PEAnalysis:90:Parsing data from InsertParametersEstimationResults.txt into python\n",
      "\n",
      "\n",
      "\n",
      "\n",
      "(phosphorylation of MAPK-P).k8 46722.9\n",
      "(dephosphorylation of MAPK-PP).KK9 688.833\n",
      "(dephosphorylation of MAPKK-P).KK6 0.199851\n",
      "(phosphorylation of MAPKK).KK3 29224.0\n",
      "(MAPKKK activation).K1 1.2031e-06\n",
      "Erk2-P 7.9078550487e+15\n",
      "(dephosphorylation of MAPK-PP).V9 5.22054e-06\n",
      "(MAPKKK inactivation).KK2 770669.0\n",
      "(MAPKKK activation).V1 19.8726\n",
      "(phosphorylation of MAPK).k7 118926.0\n",
      "Mos 83649356105.6\n",
      "(phosphorylation of MAPK).KK7 0.00080569\n",
      "(dephosphorylation of MAPK-P).KK10 6535.37\n",
      "(phosphorylation of MAPK-P).KK8 1.96775e-05\n",
      "Erk2-PP 9.14263500132e+11\n",
      "(dephosphorylation of MAPKK-PP).V5 0.000648891\n",
      "(MAPKKK inactivation).V2 1.8982e-05\n",
      "Mos-P 6031596552.61\n",
      "(dephosphorylation of MAPK-P).V10 0.018027\n",
      "(MAPKKK activation).Ki 0.00127978\n",
      "Mek1 3.00118253818e+12\n",
      "Mek1-PP 1.52987694462e+11\n",
      "(phosphorylation of MAPKK-P).KK4 1693.46\n",
      "(phosphorylation of MAPKK).k3 0.0171707\n",
      "Erk2 4.79694306497e+11\n",
      "(phosphorylation of MAPKK-P).k4 0.00738712\n",
      "(dephosphorylation of MAPKK-PP).KK5 2083.18\n",
      "Mek1-P 2812394415.21\n",
      "(dephosphorylation of MAPKK-P).V6 306.398\n",
      "(MAPKKK activation).n 4.25568\n"
     ]
    }
   ],
   "source": [
    "import PyCoTools\n",
    "import pandas\n",
    "## recall that best parameters are at the bottom of the copasi generated results file\n",
    "print pandas.DataFrame.from_csv(estimation_results,sep='\\t').tail() #so use tail to get end\n",
    "I=PyCoTools.pycopi.InsertParameters(kholodenko_model,ParameterPath=estimation_results)\n"
   ]
  },
  {
   "cell_type": "code",
   "execution_count": null,
   "metadata": {
    "collapsed": false,
    "deletable": true,
    "editable": true
   },
   "outputs": [],
   "source": [
    "import pandas,os,PyCoTools\n",
    "\n",
    "GMQ_before=PyCoTools.pycopi.GetModelQuantities(kholodenko_model)\n",
    "for key,val in  GMQ_before.get_all_model_variables().items():\n",
    "    print key,val['value']\n",
    "\n",
    "\n",
    "data_report='InsertParametersEstimationData.txt'\n",
    "##Simulate some synthetic data\n",
    "TC=PyCoTools.pycopi.TimeCourse(kholodenko_model,End=1000,StepSize=1,\n",
    "                               Intervals=1000,\n",
    "                               ReportName=data_report)\n",
    "\n",
    "# setup parameter estimation with all default parameters\n",
    "estimation_results='InsertParametersEstimationResults.txt'\n",
    "PE=PyCoTools.pycopi.ParameterEstimation(kholodenko_model,data_report,\n",
    "                                       ReportName = estimation_results)\n",
    "PE.write_item_template()\n",
    "PE.set_up()\n",
    "PE.run()\n",
    "\n",
    "    \n"
   ]
  },
  {
   "cell_type": "markdown",
   "metadata": {
    "collapsed": true,
    "deletable": true,
    "editable": true
   },
   "source": [
    "Now lets check:"
   ]
  },
  {
   "cell_type": "code",
   "execution_count": null,
   "metadata": {
    "collapsed": false,
    "deletable": true,
    "editable": true,
    "scrolled": true
   },
   "outputs": [],
   "source": [
    "import PyCoTools,pandas,os\n",
    "\n",
    "\n",
    "print pandas.DataFrame.from_csv(estimation_results,sep='\\t').iloc[-1]\n",
    "\n",
    "\n",
    "## by default parameter sets are sorted by objective function value (lowest first) and index is set to 0\n",
    "I=PyCoTools.pycopi.InsertParameters(kholodenko_model,ParameterPath=estimation_results,Index = 0)\n",
    "\n",
    "GMQ_after = PyCoTools.pycopi.GetModelQuantities(kholodenko_model)\n",
    "\n",
    "## Easiest way to check the parameters have been inserted is to look at the model in the GUI\n",
    "os.system('CopasiUI {}'.format(kholodenko_model)) ##remember to close the GUI"
   ]
  },
  {
   "cell_type": "markdown",
   "metadata": {
    "deletable": true,
    "editable": true
   },
   "source": [
    "# From Folder of Parameter Estimation Files\n",
    "First lets create some parameter estimation data to work with using the `RunMultiplePEs`\n",
    "class"
   ]
  },
  {
   "cell_type": "code",
   "execution_count": 6,
   "metadata": {
    "collapsed": false,
    "deletable": true,
    "editable": true
   },
   "outputs": [
    {
     "name": "stdout",
     "output_type": "stream",
     "text": [
      "INFO:PyCoTools.pycopi:pycopi:4455:creating a directory for analysis in : \n",
      "\n",
      "/home/b3053674/Documents/PyCoTools/PyCoTools/PyCoToolsTutorial/MultiplePEs\n",
      "INFO:PyCoTools.pycopi:pycopi:4314:writing PE config template for model: /home/b3053674/Documents/PyCoTools/PyCoTools/PyCoToolsTutorial/Kholodenko.cps\n",
      "INFO:PyCoTools.pycopi:pycopi:4435:Copying copasi file 2 times\n",
      "INFO:PyCoTools.pycopi:pycopi:4354:setting up scan for model : /home/b3053674/Documents/PyCoTools/PyCoTools/PyCoToolsTutorial/Kholodenko_0.cps\n",
      "INFO:root:pycopi:3466:defining report\n",
      "INFO:PyCoTools.pycopi:pycopi:4354:setting up scan for model : /home/b3053674/Documents/PyCoTools/PyCoTools/PyCoToolsTutorial/Kholodenko_1.cps\n",
      "INFO:root:pycopi:3466:defining report\n",
      "INFO:PyCoTools.pycopi:pycopi:4379:Setup Took 0.35977602005 seconds\n",
      "INFO:PyCoTools.pycopi:pycopi:4362:<PyCoTools.pycopi.Scan instance at 0x7f103d9526c8>\n",
      "INFO:PyCoTools.pycopi:pycopi:4302:Running model: 0\n",
      "INFO:PyCoTools.pycopi:pycopi:4302:Running model: 1\n",
      "INFO:PyCoTools.pycopi:pycopi:4379:Setup Took 0.402697086334 seconds\n"
     ]
    }
   ],
   "source": [
    "import PyCoTools,os,pandas\n",
    "output_directory = 'MultiplePEs'\n",
    "RMPE=PyCoTools.pycopi.RunMultiplePEs(kholodenko_model,data_report,\n",
    "                               CopyNumber=2,NumberOfPEs=3, #6 total\n",
    "                               OutputDir = output_directory)\n",
    "RMPE.write_config_template()\n",
    "RMPE.set_up()\n",
    "RMPE.run()"
   ]
  },
  {
   "cell_type": "markdown",
   "metadata": {
    "deletable": true,
    "editable": true
   },
   "source": [
    "The `RunMultiplePEs` class outputs parameter estimation data to a folder - one file per `CopyNumber`. We can insert parameters into a copasi model directly from the folder of estimation results. "
   ]
  },
  {
   "cell_type": "code",
   "execution_count": 8,
   "metadata": {
    "collapsed": false,
    "deletable": true,
    "editable": true
   },
   "outputs": [
    {
     "name": "stdout",
     "output_type": "stream",
     "text": [
      "INFO:PyCoTools.PEAnalysis:PEAnalysis:90:Parsing data from MultiplePEs into python\n",
      "    Mek1-PP      Erk2       Mos    Erk2-P  Erk2-PP     Mos-P      Mek1  \\\n",
      "0  0.000012  0.000001  0.000001  0.000001  11.6950  0.000003  0.002358   \n",
      "1  0.000004  0.000001  0.000001  0.000002  11.6792  0.000001  0.001973   \n",
      "2  0.000003  0.001060  0.000195  0.000085  11.7685  0.000041  0.000001   \n",
      "\n",
      "     Mek1-P  (phosphorylation of MAPKK).KK3  (MAPKKK activation).K1    ...     \\\n",
      "0  0.002308                        0.001140                0.000002    ...      \n",
      "1  0.002698                     9363.740000                0.000001    ...      \n",
      "2  0.004805                        0.650876            47016.400000    ...      \n",
      "\n",
      "   (MAPKKK activation).V1  (MAPKKK activation).Ki  \\\n",
      "0               153.73400                 2.26860   \n",
      "1               254.77000                 6.03164   \n",
      "2                 9.96174            182761.00000   \n",
      "\n",
      "   (phosphorylation of MAPK).KK7  (dephosphorylation of MAPK-P).KK10  \\\n",
      "0                       0.000002                            0.000028   \n",
      "1                       0.000001                            0.000006   \n",
      "2                       0.000126                         7848.290000   \n",
      "\n",
      "   (phosphorylation of MAPK-P).KK8  (dephosphorylation of MAPKK-PP).V5  \\\n",
      "0                         0.089562                            0.000170   \n",
      "1                         0.120993                            0.000404   \n",
      "2                         2.610650                            0.000359   \n",
      "\n",
      "   (dephosphorylation of MAPK-P).V10  (dephosphorylation of MAPKK-P).V6  \\\n",
      "0                           0.280523                           1.083160   \n",
      "1                           0.000005                           0.703085   \n",
      "2                           0.000314                      125839.000000   \n",
      "\n",
      "   (MAPKKK activation).n       RSS  \n",
      "0               0.000002  0.000060  \n",
      "1               0.000001  0.000067  \n",
      "2               0.001391  0.000186  \n",
      "\n",
      "[3 rows x 31 columns]\n"
     ]
    }
   ],
   "source": [
    "import PyCoTools,os,pandas\n",
    "\n",
    "## Insert best parameter set (index 0)\n",
    "I=PyCoTools.pycopi.InsertParameters(kholodenko_model,ParameterPath=output_directory,Index=0)\n",
    "\n",
    "##Insert second best parameter set\n",
    "I=PyCoTools.pycopi.InsertParameters(kholodenko_model,ParameterPath=output_directory,Index=1)\n",
    "\n",
    "## ... and so on. "
   ]
  }
 ],
 "metadata": {
  "kernelspec": {
   "display_name": "Python 2",
   "language": "python",
   "name": "python2"
  },
  "language_info": {
   "codemirror_mode": {
    "name": "ipython",
    "version": 2
   },
   "file_extension": ".py",
   "mimetype": "text/x-python",
   "name": "python",
   "nbconvert_exporter": "python",
   "pygments_lexer": "ipython2",
   "version": "2.7.13"
  }
 },
 "nbformat": 4,
 "nbformat_minor": 2
}
