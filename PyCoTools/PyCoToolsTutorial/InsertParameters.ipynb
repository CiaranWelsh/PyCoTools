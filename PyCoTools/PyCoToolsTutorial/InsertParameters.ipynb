{
 "cells": [
  {
   "cell_type": "markdown",
   "metadata": {},
   "source": [
    "# InsertParameters\n",
    "This class enables parameters to be inserted into a model from a coapsi output file, pandas dataframe or a python dictionary. "
   ]
  },
  {
   "cell_type": "code",
   "execution_count": null,
   "metadata": {
    "collapsed": false
   },
   "outputs": [],
   "source": [
    "%matplotlib inline\n",
    "import os,glob\n",
    "\n",
    "for i in glob.glob('*.cps'):\n",
    "    kholodenko_model= os.path.abspath(i)\n",
    "    \n",
    "print kholodenko_model\n",
    "print os.path.isfile(kholodenko_model)"
   ]
  },
  {
   "cell_type": "code",
   "execution_count": null,
   "metadata": {
    "collapsed": false
   },
   "outputs": [],
   "source": [
    "import PyCoTools\n",
    "import os\n",
    "\n",
    "GMQ_before=PyCoTools.pycopi.GetModelQuantities(kholodenko_model)\n",
    "\n",
    "## Here are our model quantities\n",
    "for param,values in sorted(GMQ_before.get_all_model_variables().items()):\n",
    "    print param,'-->',values['value']\n",
    "    \n",
    "    \n",
    "##create a python dictionary dict[parameter_name]=value\n",
    "parameter_dct={'(MAPKKK activation).K1':10}\n",
    "PyCoTools.pycopi.InsertParameters(kholodenko_model,ParameterDict = parameter_dct)\n",
    "\n",
    "\n",
    "print '\\n\\n\\n'\n",
    "GMQ_after=PyCoTools.pycopi.GetModelQuantities(kholodenko_model)\n",
    "## Here are our model quantities\n",
    "for param,values in sorted(GMQ_after.get_all_model_variables().items()):\n",
    "    print param,'-->',values['value']\n",
    "    "
   ]
  },
  {
   "cell_type": "markdown",
   "metadata": {},
   "source": [
    "Default behaviour when inserting metabolite values is to convert between particle numbers and concentrations automatically and insert both into the CopasiML. Change `CHECK_MODEL` variable to `True` to open the model and confirm for yourself."
   ]
  },
  {
   "cell_type": "code",
   "execution_count": null,
   "metadata": {
    "collapsed": false,
    "scrolled": true
   },
   "outputs": [],
   "source": [
    "import PyCoTools,os\n",
    "GMQ_before=PyCoTools.pycopi.GetModelQuantities(kholodenko_model)\n",
    "for key,val in  GMQ_before.get_metabolites().items():\n",
    "    print key,val\n",
    "\n",
    "    \n",
    "metab_dct={'Mek1-PP':1000}\n",
    "PyCoTools.pycopi.InsertParameters(kholodenko_model,ParameterDict=metab_dct)\n",
    "print '\\n\\n\\n'\n",
    "GMQ_after=PyCoTools.pycopi.GetModelQuantities(kholodenko_model)\n",
    "for key,val in  GMQ_after.get_metabolites().items():\n",
    "    if key == metab_dct.keys()[0]:\n",
    "        print key,val\n",
    "        \n",
    "CHECK_MODEL=False\n",
    "if CHECK_MODEL:\n",
    "    os.system('CopasiUI {}'.format(kholodenko_model))\n"
   ]
  },
  {
   "cell_type": "markdown",
   "metadata": {},
   "source": [
    "## From Pandas\n",
    "A `pandas.DataFrame` is a very useful python structure. Parameters are be imported directly from a DataFrame. "
   ]
  },
  {
   "cell_type": "code",
   "execution_count": null,
   "metadata": {
    "collapsed": false
   },
   "outputs": [],
   "source": [
    "import PyCoTools,os\n",
    "import pandas\n",
    "GMQ_before=PyCoTools.pycopi.GetModelQuantities(kholodenko_model)\n",
    "for key,val in  GMQ_before.get_all_model_variables().items():\n",
    "    print key,val['value']\n",
    "\n",
    "print '\\n\\n'\n",
    "param_dct={'Mek1-P':1000,\n",
    "           'Mek1-PP':0.001,\n",
    "           '(phosphorylation of MAPKK).KK3':97}\n",
    "df=pandas.DataFrame(param_dct,index=[0])\n",
    "print df\n",
    "PyCoTools.pycopi.InsertParameters(kholodenko_model,DF=df)\n",
    "print '\\n\\n\\n'\n",
    "GMQ_after=PyCoTools.pycopi.GetModelQuantities(kholodenko_model)\n",
    "for key,val in  GMQ_before.get_all_model_variables().items():\n",
    "    print key,val['value']\n",
    "\n",
    "        \n",
    "CHECK_MODEL=False\n",
    "if CHECK_MODEL:\n",
    "    os.system('CopasiUI {}'.format(kholodenko_model))\n"
   ]
  },
  {
   "cell_type": "markdown",
   "metadata": {},
   "source": [
    "# From File\n",
    "To demonstrate InsertParameters from file, lets do a parameter estimation to some synthetic data and insert those parameters directly from file. "
   ]
  },
  {
   "cell_type": "code",
   "execution_count": null,
   "metadata": {
    "collapsed": false,
    "scrolled": true
   },
   "outputs": [],
   "source": [
    "import pandas,os,PyCoTools\n",
    "\n",
    "GMQ_before=PyCoTools.pycopi.GetModelQuantities(kholodenko_model)\n",
    "for key,val in  GMQ_before.get_all_model_variables().items():\n",
    "    print key,val['value']\n",
    "\n",
    "\n",
    "data_report='InsertParametersEstimationData.txt'\n",
    "##Simulate some synthetic data\n",
    "TC=PyCoTools.pycopi.TimeCourse(kholodenko_model,End=1000,StepSize=1,\n",
    "                               Intervals=1000,\n",
    "                               ReportName=data_report)\n",
    "\n",
    "# setup parameter estimation with all default parameters\n",
    "estimation_results='InsertParametersEstimationResults.txt'\n",
    "PE=PyCoTools.pycopi.ParameterEstimation(kholodenko_model,data_report,\n",
    "                                       ReportName = estimation_results)\n",
    "PE.write_item_template()\n",
    "PE.set_up()\n",
    "## run\n",
    "PE.run() \n",
    "\n"
   ]
  },
  {
   "cell_type": "markdown",
   "metadata": {},
   "source": [
    "Now lets check that its worked: "
   ]
  },
  {
   "cell_type": "code",
   "execution_count": 2,
   "metadata": {
    "collapsed": false
   },
   "outputs": [
    {
     "ename": "IndentationError",
     "evalue": "expected an indented block (pycopi.py, line 3306)",
     "output_type": "error",
     "traceback": [
      "\u001b[0;36m  File \u001b[0;32m\"/home/b3053674/anaconda2/lib/python2.7/site-packages/PyCoTools/pycopi.py\"\u001b[0;36m, line \u001b[0;32m3306\u001b[0m\n\u001b[0;31m    '''\u001b[0m\n\u001b[0m       \n^\u001b[0m\n\u001b[0;31mIndentationError\u001b[0m\u001b[0;31m:\u001b[0m expected an indented block\n"
     ]
    }
   ],
   "source": [
    "import PyCoTools\n",
    "## recall that best parameters are at the bottom of the copasi generated results file\n",
    "print pandas.DataFrame.from_csv(estimation_results,sep='\\t').tail() #so use tail to get end\n",
    "I=PyCoTools.pycopi.InsertParameters(kholodenko_model,ParameterPath=estimation_results)\n",
    "\n",
    "print '\\n\\n\\n'\n",
    "\n",
    "# GMQ_after=PyCoTools.pycopi.GetModelQuantities(kholodenko_model)\n",
    "# for key,val in  GMQ_after.get_all_model_variables().items():\n",
    "#     print key,val['value']\n"
   ]
  },
  {
   "cell_type": "code",
   "execution_count": null,
   "metadata": {
    "collapsed": true
   },
   "outputs": [],
   "source": []
  },
  {
   "cell_type": "code",
   "execution_count": 1,
   "metadata": {
    "collapsed": false
   },
   "outputs": [
    {
     "ename": "IndentationError",
     "evalue": "expected an indented block (pycopi.py, line 3306)",
     "output_type": "error",
     "traceback": [
      "\u001b[0;36m  File \u001b[0;32m\"/home/b3053674/anaconda2/lib/python2.7/site-packages/PyCoTools/pycopi.py\"\u001b[0;36m, line \u001b[0;32m3306\u001b[0m\n\u001b[0;31m    '''\u001b[0m\n\u001b[0m       \n^\u001b[0m\n\u001b[0;31mIndentationError\u001b[0m\u001b[0;31m:\u001b[0m expected an indented block\n"
     ]
    }
   ],
   "source": [
    "import pandas,os,PyCoTools\n",
    "\n",
    "GMQ_before=PyCoTools.pycopi.GetModelQuantities(kholodenko_model)\n",
    "for key,val in  GMQ_before.get_all_model_variables().items():\n",
    "    print key,val['value']\n",
    "\n",
    "\n",
    "data_report='InsertParametersParameterEstimationData.txt'\n",
    "##Simulate some synthetic data\n",
    "TC=PyCoTools.pycopi.TimeCourse(kholodenko_model,End=1000,StepSize=1,\n",
    "                               Intervals=1000,\n",
    "                               ReportName=data_report)\n",
    "\n",
    "# setup parameter estimation with all default parameters\n",
    "estimation_results='InsertParametersParameterEstimationResults.txt'\n",
    "PE=PyCoTools.pycopi.ParameterEstimation(kholodenko_model,data_report,\n",
    "                                       ReportName = estimation_results)\n",
    "PE.write_item_template()\n",
    "PE.set_up()\n",
    "PE.run\n",
    "\n",
    "I=PyCoTools.pycopi.InsertParameters(kholodenko_model,ParameterPath=estimation_results)\n",
    "    \n"
   ]
  },
  {
   "cell_type": "code",
   "execution_count": null,
   "metadata": {
    "collapsed": true
   },
   "outputs": [],
   "source": []
  },
  {
   "cell_type": "code",
   "execution_count": null,
   "metadata": {
    "collapsed": true
   },
   "outputs": [],
   "source": []
  }
 ],
 "metadata": {
  "kernelspec": {
   "display_name": "Python 2",
   "language": "python",
   "name": "python2"
  },
  "language_info": {
   "codemirror_mode": {
    "name": "ipython",
    "version": 2
   },
   "file_extension": ".py",
   "mimetype": "text/x-python",
   "name": "python",
   "nbconvert_exporter": "python",
   "pygments_lexer": "ipython2",
   "version": "2.7.13"
  }
 },
 "nbformat": 4,
 "nbformat_minor": 2
}
