{
 "cells": [
  {
   "cell_type": "markdown",
   "metadata": {},
   "source": [
    "# InsertParameters\n",
    "This class enables parameters to be inserted into a model from a coapsi output file, pandas dataframe or a python dictionary. "
   ]
  },
  {
   "cell_type": "code",
   "execution_count": 3,
   "metadata": {
    "collapsed": false
   },
   "outputs": [
    {
     "name": "stdout",
     "output_type": "stream",
     "text": [
      "/home/b3053674/Documents/PyCoTools/PyCoTools/PyCoToolsTutorial/Kholodenko.cps\n",
      "True\n"
     ]
    }
   ],
   "source": [
    "%matplotlib inline\n",
    "import os,glob\n",
    "\n",
    "for i in glob.glob('*.cps'):\n",
    "    kholodenko_model= os.path.abspath(i)\n",
    "    \n",
    "print kholodenko_model\n",
    "print os.path.isfile(kholodenko_model)"
   ]
  },
  {
   "cell_type": "code",
   "execution_count": 19,
   "metadata": {
    "collapsed": false
   },
   "outputs": [
    {
     "name": "stdout",
     "output_type": "stream",
     "text": [
      "(MAPKKK activation).K1 --> 10.0\n",
      "(MAPKKK activation).Ki --> 1.88839\n",
      "(MAPKKK activation).V1 --> 7.39701\n",
      "(MAPKKK activation).n --> 571088.0\n",
      "(MAPKKK inactivation).KK2 --> 861.9\n",
      "(MAPKKK inactivation).V2 --> 4.18195\n",
      "(dephosphorylation of MAPK-P).KK10 --> 6864.03\n",
      "(dephosphorylation of MAPK-P).V10 --> 0.401565\n",
      "(dephosphorylation of MAPK-PP).KK9 --> 1.76938e-06\n",
      "(dephosphorylation of MAPK-PP).V9 --> 0.000262119\n",
      "(dephosphorylation of MAPKK-P).KK6 --> 605057.0\n",
      "(dephosphorylation of MAPKK-P).V6 --> 7132.05\n",
      "(dephosphorylation of MAPKK-PP).KK5 --> 0.000197288\n",
      "(dephosphorylation of MAPKK-PP).V5 --> 92.8198\n",
      "(phosphorylation of MAPK).KK7 --> 0.000137201\n",
      "(phosphorylation of MAPK).k7 --> 340.408\n",
      "(phosphorylation of MAPK-P).KK8 --> 3409.55\n",
      "(phosphorylation of MAPK-P).k8 --> 0.899837\n",
      "(phosphorylation of MAPKK).KK3 --> 10.977\n",
      "(phosphorylation of MAPKK).k3 --> 88.1199\n",
      "(phosphorylation of MAPKK-P).KK4 --> 66.5179\n",
      "(phosphorylation of MAPKK-P).k4 --> 0.0520377\n",
      "Erk2 --> 1.6861997012e+17\n",
      "Erk2-P --> 6.02214179e+15\n",
      "Erk2-PP --> 6.02214179e+15\n",
      "Mek1 --> 1.6861997012e+17\n",
      "Mek1-P --> 6.02214179e+15\n",
      "Mek1-PP --> 1.204428358e+16\n",
      "Mos --> 5.419927611e+16\n",
      "Mos-P --> 6.02214179e+15\n",
      "\n",
      "\n",
      "\n",
      "\n",
      "(MAPKKK activation).K1 --> 10.0\n",
      "(MAPKKK activation).Ki --> 1.88839\n",
      "(MAPKKK activation).V1 --> 7.39701\n",
      "(MAPKKK activation).n --> 571088.0\n",
      "(MAPKKK inactivation).KK2 --> 861.9\n",
      "(MAPKKK inactivation).V2 --> 4.18195\n",
      "(dephosphorylation of MAPK-P).KK10 --> 6864.03\n",
      "(dephosphorylation of MAPK-P).V10 --> 0.401565\n",
      "(dephosphorylation of MAPK-PP).KK9 --> 1.76938e-06\n",
      "(dephosphorylation of MAPK-PP).V9 --> 0.000262119\n",
      "(dephosphorylation of MAPKK-P).KK6 --> 605057.0\n",
      "(dephosphorylation of MAPKK-P).V6 --> 7132.05\n",
      "(dephosphorylation of MAPKK-PP).KK5 --> 0.000197288\n",
      "(dephosphorylation of MAPKK-PP).V5 --> 92.8198\n",
      "(phosphorylation of MAPK).KK7 --> 0.000137201\n",
      "(phosphorylation of MAPK).k7 --> 340.408\n",
      "(phosphorylation of MAPK-P).KK8 --> 3409.55\n",
      "(phosphorylation of MAPK-P).k8 --> 0.899837\n",
      "(phosphorylation of MAPKK).KK3 --> 10.977\n",
      "(phosphorylation of MAPKK).k3 --> 88.1199\n",
      "(phosphorylation of MAPKK-P).KK4 --> 66.5179\n",
      "(phosphorylation of MAPKK-P).k4 --> 0.0520377\n",
      "Erk2 --> 1.6861997012e+17\n",
      "Erk2-P --> 6.02214179e+15\n",
      "Erk2-PP --> 6.02214179e+15\n",
      "Mek1 --> 1.6861997012e+17\n",
      "Mek1-P --> 6.02214179e+15\n",
      "Mek1-PP --> 1.204428358e+16\n",
      "Mos --> 5.419927611e+16\n",
      "Mos-P --> 6.02214179e+15\n"
     ]
    }
   ],
   "source": [
    "import PyCoTools\n",
    "import os\n",
    "\n",
    "GMQ_before=PyCoTools.pycopi.GetModelQuantities(kholodenko_model)\n",
    "\n",
    "## Here are our model quantities\n",
    "for param,values in sorted(GMQ_before.get_all_model_variables().items()):\n",
    "    print param,'-->',values['value']\n",
    "    \n",
    "    \n",
    "##create a python dictionary dict[parameter_name]=value\n",
    "parameter_dct={'(MAPKKK activation).K1':10}\n",
    "PyCoTools.pycopi.InsertParameters(kholodenko_model,ParameterDict = parameter_dct)\n",
    "\n",
    "\n",
    "print '\\n\\n\\n'\n",
    "GMQ_after=PyCoTools.pycopi.GetModelQuantities(kholodenko_model)\n",
    "## Here are our model quantities\n",
    "for param,values in sorted(GMQ_after.get_all_model_variables().items()):\n",
    "    print param,'-->',values['value']\n",
    "    "
   ]
  },
  {
   "cell_type": "markdown",
   "metadata": {},
   "source": [
    "Default behaviour when inserting metabolite values is to convert between particle numbers and concentrations automatically and insert both into the CopasiML. Change `CHECK_MODEL` variable to `True` to open the model and confirm for yourself."
   ]
  },
  {
   "cell_type": "code",
   "execution_count": 26,
   "metadata": {
    "collapsed": false,
    "scrolled": true
   },
   "outputs": [
    {
     "name": "stdout",
     "output_type": "stream",
     "text": [
      "Mek1-PP {'concentration': 500.0, 'compartment': 'uVol', 'particle_numbers': '3.011070895e+17'}\n",
      "Erk2 {'concentration': 280.0, 'compartment': 'uVol', 'particle_numbers': '1.6861997012e+17'}\n",
      "Mos {'concentration': 90.0, 'compartment': 'uVol', 'particle_numbers': '5.419927611e+16'}\n",
      "Erk2-P {'concentration': 10.0, 'compartment': 'uVol', 'particle_numbers': '6.02214179e+15'}\n",
      "Erk2-PP {'concentration': 10.0, 'compartment': 'uVol', 'particle_numbers': '6.02214179e+15'}\n",
      "Mos-P {'concentration': 10.0, 'compartment': 'uVol', 'particle_numbers': '6.02214179e+15'}\n",
      "Mek1 {'concentration': 280.0, 'compartment': 'uVol', 'particle_numbers': '1.6861997012e+17'}\n",
      "Mek1-P {'concentration': 10.0, 'compartment': 'uVol', 'particle_numbers': '6.02214179e+15'}\n",
      "\n",
      "\n",
      "\n",
      "\n",
      "Mek1-PP {'concentration': 1000.0, 'compartment': 'uVol', 'particle_numbers': '6.02214179e+17'}\n"
     ]
    },
    {
     "data": {
      "text/plain": [
       "2"
      ]
     },
     "execution_count": 26,
     "metadata": {},
     "output_type": "execute_result"
    }
   ],
   "source": [
    "import PyCoTools,os\n",
    "GMQ_before=PyCoTools.pycopi.GetModelQuantities(kholodenko_model)\n",
    "for key,val in  GMQ_before.get_metabolites().items():\n",
    "    print key,val\n",
    "\n",
    "    \n",
    "metab_dct={'Mek1-PP':1000}\n",
    "PyCoTools.pycopi.InsertParameters(kholodenko_model,ParameterDict=metab_dct)\n",
    "print '\\n\\n\\n'\n",
    "GMQ_after=PyCoTools.pycopi.GetModelQuantities(kholodenko_model)\n",
    "for key,val in  GMQ_after.get_metabolites().items():\n",
    "    if key == metab_dct.keys()[0]:\n",
    "        print key,val\n",
    "        \n",
    "CHECK_MODEL=False\n",
    "if CHECK_MODEL:\n",
    "    os.system('CopasiUI {}'.format(kholodenko_model))\n"
   ]
  },
  {
   "cell_type": "markdown",
   "metadata": {},
   "source": [
    "## From Pandas\n",
    "A `pandas.DataFrame` is a very useful python structure. Parameters are be imported directly from a DataFrame. "
   ]
  },
  {
   "cell_type": "code",
   "execution_count": 46,
   "metadata": {
    "collapsed": false
   },
   "outputs": [
    {
     "name": "stdout",
     "output_type": "stream",
     "text": [
      "(phosphorylation of MAPK-P).k8 0.899837\n",
      "(dephosphorylation of MAPK-PP).KK9 1.76938e-06\n",
      "(dephosphorylation of MAPKK-P).KK6 605057.0\n",
      "(phosphorylation of MAPKK).KK3 97.0\n",
      "(MAPKKK activation).K1 10.0\n",
      "Erk2-P 6.02214179e+15\n",
      "(dephosphorylation of MAPK-PP).V9 0.000262119\n",
      "(MAPKKK inactivation).KK2 861.9\n",
      "(MAPKKK activation).V1 7.39701\n",
      "(phosphorylation of MAPK).k7 340.408\n",
      "Mos 5.419927611e+16\n",
      "(phosphorylation of MAPK).KK7 0.000137201\n",
      "(dephosphorylation of MAPK-P).KK10 6864.03\n",
      "(phosphorylation of MAPK-P).KK8 3409.55\n",
      "Erk2-PP 6.02214179e+15\n",
      "(dephosphorylation of MAPKK-PP).V5 92.8198\n",
      "(MAPKKK inactivation).V2 4.18195\n",
      "Mos-P 6.02214179e+15\n",
      "(dephosphorylation of MAPK-P).V10 0.401565\n",
      "(MAPKKK activation).Ki 1.88839\n",
      "Mek1 1.6861997012e+17\n",
      "Mek1-PP 6.02214179e+11\n",
      "(phosphorylation of MAPKK-P).KK4 66.5179\n",
      "(phosphorylation of MAPKK).k3 88.1199\n",
      "Erk2 1.6861997012e+17\n",
      "(phosphorylation of MAPKK-P).k4 0.0520377\n",
      "(dephosphorylation of MAPKK-PP).KK5 0.000197288\n",
      "Mek1-P 6.02214179e+15\n",
      "(dephosphorylation of MAPKK-P).V6 7132.05\n",
      "(MAPKKK activation).n 571088.0\n",
      "\n",
      "\n",
      "\n",
      "   (phosphorylation of MAPKK).KK3  Mek1-P  Mek1-PP\n",
      "0                              97    1000    0.001\n",
      "\n",
      "\n",
      "\n",
      "\n",
      "(phosphorylation of MAPK-P).k8 0.899837\n",
      "(dephosphorylation of MAPK-PP).KK9 1.76938e-06\n",
      "(dephosphorylation of MAPKK-P).KK6 605057.0\n",
      "(phosphorylation of MAPKK).KK3 97.0\n",
      "(MAPKKK activation).K1 10.0\n",
      "Erk2-P 6.02214179e+15\n",
      "(dephosphorylation of MAPK-PP).V9 0.000262119\n",
      "(MAPKKK inactivation).KK2 861.9\n",
      "(MAPKKK activation).V1 7.39701\n",
      "(phosphorylation of MAPK).k7 340.408\n",
      "Mos 5.419927611e+16\n",
      "(phosphorylation of MAPK).KK7 0.000137201\n",
      "(dephosphorylation of MAPK-P).KK10 6864.03\n",
      "(phosphorylation of MAPK-P).KK8 3409.55\n",
      "Erk2-PP 6.02214179e+15\n",
      "(dephosphorylation of MAPKK-PP).V5 92.8198\n",
      "(MAPKKK inactivation).V2 4.18195\n",
      "Mos-P 6.02214179e+15\n",
      "(dephosphorylation of MAPK-P).V10 0.401565\n",
      "(MAPKKK activation).Ki 1.88839\n",
      "Mek1 1.6861997012e+17\n",
      "Mek1-PP 6.02214179e+11\n",
      "(phosphorylation of MAPKK-P).KK4 66.5179\n",
      "(phosphorylation of MAPKK).k3 88.1199\n",
      "Erk2 1.6861997012e+17\n",
      "(phosphorylation of MAPKK-P).k4 0.0520377\n",
      "(dephosphorylation of MAPKK-PP).KK5 0.000197288\n",
      "Mek1-P 6.02214179e+15\n",
      "(dephosphorylation of MAPKK-P).V6 7132.05\n",
      "(MAPKKK activation).n 571088.0\n"
     ]
    }
   ],
   "source": [
    "import PyCoTools,os\n",
    "import pandas\n",
    "GMQ_before=PyCoTools.pycopi.GetModelQuantities(kholodenko_model)\n",
    "for key,val in  GMQ_before.get_all_model_variables().items():\n",
    "    print key,val['value']\n",
    "\n",
    "print '\\n\\n'\n",
    "param_dct={'Mek1-P':1000,\n",
    "           'Mek1-PP':0.001,\n",
    "           '(phosphorylation of MAPKK).KK3':97}\n",
    "df=pandas.DataFrame(param_dct,index=[0])\n",
    "print df\n",
    "PyCoTools.pycopi.InsertParameters(kholodenko_model,DF=df)\n",
    "print '\\n\\n\\n'\n",
    "GMQ_after=PyCoTools.pycopi.GetModelQuantities(kholodenko_model)\n",
    "for key,val in  GMQ_before.get_all_model_variables().items():\n",
    "    print key,val['value']\n",
    "\n",
    "        \n",
    "CHECK_MODEL=False\n",
    "if CHECK_MODEL:\n",
    "    os.system('CopasiUI {}'.format(kholodenko_model))\n"
   ]
  },
  {
   "cell_type": "markdown",
   "metadata": {},
   "source": [
    "# From File\n",
    "To demonstrate InsertParameters from file, lets do a parameter estimation to some synthetic data and insert those parameters directly from file. "
   ]
  },
  {
   "cell_type": "code",
   "execution_count": 55,
   "metadata": {
    "collapsed": false,
    "scrolled": true
   },
   "outputs": [
    {
     "name": "stdout",
     "output_type": "stream",
     "text": [
      "(phosphorylation of MAPK-P).k8 0.899837\n",
      "(dephosphorylation of MAPK-PP).KK9 1.76938e-06\n",
      "(dephosphorylation of MAPKK-P).KK6 605057.0\n",
      "(phosphorylation of MAPKK).KK3 97.0\n",
      "(MAPKKK activation).K1 10.0\n",
      "Erk2-P 6.02214179e+15\n",
      "(dephosphorylation of MAPK-PP).V9 0.000262119\n",
      "(MAPKKK inactivation).KK2 861.9\n",
      "(MAPKKK activation).V1 7.39701\n",
      "(phosphorylation of MAPK).k7 340.408\n",
      "Mos 5.419927611e+16\n",
      "(phosphorylation of MAPK).KK7 0.000137201\n",
      "(dephosphorylation of MAPK-P).KK10 6864.03\n",
      "(phosphorylation of MAPK-P).KK8 3409.55\n",
      "Erk2-PP 6.02214179e+15\n",
      "(dephosphorylation of MAPKK-PP).V5 92.8198\n",
      "(MAPKKK inactivation).V2 4.18195\n",
      "Mos-P 6.02214179e+15\n",
      "(dephosphorylation of MAPK-P).V10 0.401565\n",
      "(MAPKKK activation).Ki 1.88839\n",
      "Mek1 1.6861997012e+17\n",
      "Mek1-PP 6.02214179e+11\n",
      "(phosphorylation of MAPKK-P).KK4 66.5179\n",
      "(phosphorylation of MAPKK).k3 88.1199\n",
      "Erk2 1.6861997012e+17\n",
      "(phosphorylation of MAPKK-P).k4 0.0520377\n",
      "(dephosphorylation of MAPKK-PP).KK5 0.000197288\n",
      "Mek1-P 6.02214179e+17\n",
      "(dephosphorylation of MAPKK-P).V6 7132.05\n",
      "(MAPKKK activation).n 571088.0\n"
     ]
    },
    {
     "data": {
      "text/plain": [
       "<PyCoTools.pycopi.Run instance at 0x7fb4b690ab90>"
      ]
     },
     "execution_count": 55,
     "metadata": {},
     "output_type": "execute_result"
    }
   ],
   "source": [
    "import pandas,os,PyCoTools\n",
    "\n",
    "GMQ_before=PyCoTools.pycopi.GetModelQuantities(kholodenko_model)\n",
    "for key,val in  GMQ_before.get_all_model_variables().items():\n",
    "    print key,val['value']\n",
    "\n",
    "\n",
    "data_report='InsertParametersEstimationData.txt'\n",
    "##Simulate some synthetic data\n",
    "TC=PyCoTools.pycopi.TimeCourse(kholodenko_model,End=1000,StepSize=1,\n",
    "                               Intervals=1000,\n",
    "                               ReportName=data_report)\n",
    "\n",
    "# setup parameter estimation with all default parameters\n",
    "estimation_results='InsertParametersEstimationResults.txt'\n",
    "PE=PyCoTools.pycopi.ParameterEstimation(kholodenko_model,data_report,\n",
    "                                       ReportName = estimation_results)\n",
    "PE.write_item_template()\n",
    "PE.set_up()\n",
    "## run\n",
    "PE.run() \n",
    "\n"
   ]
  },
  {
   "cell_type": "markdown",
   "metadata": {},
   "source": [
    "Now lets check that its worked: "
   ]
  },
  {
   "cell_type": "code",
   "execution_count": 59,
   "metadata": {
    "collapsed": false
   },
   "outputs": [
    {
     "name": "stdout",
     "output_type": "stream",
     "text": [
      "             [Erk2]_0   [Mos]_0  [Erk2-P]_0  [Erk2-PP]_0  [Mos-P]_0  [Mek1]_0  \\\n",
      "[Mek1-PP]_0                                                                     \n",
      "0.002920      219.065   66.1353     62.6207     10.91700   0.000288  0.002943   \n",
      "0.002122      193.645   89.9790     74.5202      8.90657   0.000408  0.000049   \n",
      "0.001506      198.026  113.5500     39.4186      7.06026   0.000217  0.001769   \n",
      "0.002249      283.732   66.6631     42.6352      8.83240   0.000263  0.002635   \n",
      "0.001848      227.432   85.4309     29.2556      9.64878   0.000165  0.000061   \n",
      "\n",
      "             [Mek1-P]_0  (phosphorylation of MAPKK).KK3  \\\n",
      "[Mek1-PP]_0                                               \n",
      "0.002920       12.21420                         183.134   \n",
      "0.002122       12.15250                         299.452   \n",
      "0.001506       11.34610                         390.633   \n",
      "0.002249        6.02713                          84.832   \n",
      "0.001848        9.31078                         207.337   \n",
      "\n",
      "             (MAPKKK activation).K1  (dephosphorylation of MAPK-PP).V9  \\\n",
      "[Mek1-PP]_0                                                              \n",
      "0.002920                    37.2361                           2.648210   \n",
      "0.002122                    52.1772                           2.687870   \n",
      "0.001506                   176.5440                           2.204390   \n",
      "0.002249                   152.8120                           3.284780   \n",
      "0.001848                    34.8396                           0.002796   \n",
      "\n",
      "                                              ...                                     \\\n",
      "[Mek1-PP]_0                                   ...                                      \n",
      "0.002920                                      ...                                      \n",
      "0.002122                                      ...                                      \n",
      "0.001506                                      ...                                      \n",
      "0.002249                                      ...                                      \n",
      "0.001848                                      ...                                      \n",
      "\n",
      "             (MAPKKK activation).V1  (MAPKKK activation).Ki  \\\n",
      "[Mek1-PP]_0                                                   \n",
      "0.002920                   0.000144                0.000007   \n",
      "0.002122                   0.000133                0.000001   \n",
      "0.001506                   0.002490                0.000009   \n",
      "0.002249                   0.002262                0.000006   \n",
      "0.001848                   0.000974                0.000013   \n",
      "\n",
      "             (phosphorylation of MAPK).KK7  \\\n",
      "[Mek1-PP]_0                                  \n",
      "0.002920                           1.70387   \n",
      "0.002122                           5.46585   \n",
      "0.001506                       31312.70000   \n",
      "0.002249                       26940.90000   \n",
      "0.001848                       48444.60000   \n",
      "\n",
      "             (dephosphorylation of MAPK-P).KK10  \\\n",
      "[Mek1-PP]_0                                       \n",
      "0.002920                                50.3597   \n",
      "0.002122                               624.8580   \n",
      "0.001506                                53.9918   \n",
      "0.002249                               767.8630   \n",
      "0.001848                               802.8150   \n",
      "\n",
      "             (phosphorylation of MAPK-P).KK8  \\\n",
      "[Mek1-PP]_0                                    \n",
      "0.002920                             251.343   \n",
      "0.002122                             863.807   \n",
      "0.001506                             818.281   \n",
      "0.002249                             614.131   \n",
      "0.001848                             512.874   \n",
      "\n",
      "             (dephosphorylation of MAPKK-PP).V5  \\\n",
      "[Mek1-PP]_0                                       \n",
      "0.002920                               0.037615   \n",
      "0.002122                               0.025597   \n",
      "0.001506                               0.034015   \n",
      "0.002249                               0.027916   \n",
      "0.001848                               0.015093   \n",
      "\n",
      "             (dephosphorylation of MAPK-P).V10  \\\n",
      "[Mek1-PP]_0                                      \n",
      "0.002920                               49160.7   \n",
      "0.002122                              100022.0   \n",
      "0.001506                               55358.1   \n",
      "0.002249                               59259.2   \n",
      "0.001848                              272901.0   \n",
      "\n",
      "             (dephosphorylation of MAPKK-P).V6  (MAPKKK activation).n  \\\n",
      "[Mek1-PP]_0                                                             \n",
      "0.002920                               263.376               0.486965   \n",
      "0.002122                               710.366               0.347819   \n",
      "0.001506                               212.722               0.335145   \n",
      "0.002249                               244.303               1.223880   \n",
      "0.001848                               222.189               1.115970   \n",
      "\n",
      "             TaskList[Parameter Estimation].(Problem)Parameter Estimation.Best Value  \n",
      "[Mek1-PP]_0                                                                           \n",
      "0.002920                                              0.273828                        \n",
      "0.002122                                              0.273507                        \n",
      "0.001506                                              0.272655                        \n",
      "0.002249                                              0.272468                        \n",
      "0.001848                                              0.272273                        \n",
      "\n",
      "[5 rows x 30 columns]\n",
      "INFO:PyCoTools.PEAnalysis:PEAnalysis:90:Parsing data from InsertParametersEstimationResults.txt into python\n"
     ]
    },
    {
     "ename": "OSError",
     "evalue": "[Errno 2] No such file or directory: ''",
     "output_type": "error",
     "traceback": [
      "\u001b[0;31m---------------------------------------------------------------------------\u001b[0m",
      "\u001b[0;31mOSError\u001b[0m                                   Traceback (most recent call last)",
      "\u001b[0;32m<ipython-input-59-876c2ce6a7bd>\u001b[0m in \u001b[0;36m<module>\u001b[0;34m()\u001b[0m\n\u001b[1;32m      1\u001b[0m \u001b[0;31m## recall that best parameters are at the bottom of the copasi generated results file\u001b[0m\u001b[0;34m\u001b[0m\u001b[0;34m\u001b[0m\u001b[0m\n\u001b[1;32m      2\u001b[0m \u001b[0;32mprint\u001b[0m \u001b[0mpandas\u001b[0m\u001b[0;34m.\u001b[0m\u001b[0mDataFrame\u001b[0m\u001b[0;34m.\u001b[0m\u001b[0mfrom_csv\u001b[0m\u001b[0;34m(\u001b[0m\u001b[0mestimation_results\u001b[0m\u001b[0;34m,\u001b[0m\u001b[0msep\u001b[0m\u001b[0;34m=\u001b[0m\u001b[0;34m'\\t'\u001b[0m\u001b[0;34m)\u001b[0m\u001b[0;34m.\u001b[0m\u001b[0mtail\u001b[0m\u001b[0;34m(\u001b[0m\u001b[0;34m)\u001b[0m \u001b[0;31m#so use tail to get end\u001b[0m\u001b[0;34m\u001b[0m\u001b[0m\n\u001b[0;32m----> 3\u001b[0;31m \u001b[0mI\u001b[0m\u001b[0;34m=\u001b[0m\u001b[0mPyCoTools\u001b[0m\u001b[0;34m.\u001b[0m\u001b[0mpycopi\u001b[0m\u001b[0;34m.\u001b[0m\u001b[0mInsertParameters\u001b[0m\u001b[0;34m(\u001b[0m\u001b[0mkholodenko_model\u001b[0m\u001b[0;34m,\u001b[0m\u001b[0mParameterPath\u001b[0m\u001b[0;34m=\u001b[0m\u001b[0mestimation_results\u001b[0m\u001b[0;34m)\u001b[0m\u001b[0;34m\u001b[0m\u001b[0m\n\u001b[0m\u001b[1;32m      4\u001b[0m \u001b[0;34m\u001b[0m\u001b[0m\n\u001b[1;32m      5\u001b[0m \u001b[0;32mprint\u001b[0m \u001b[0;34m'\\n\\n\\n'\u001b[0m\u001b[0;34m\u001b[0m\u001b[0m\n",
      "\u001b[0;32m/home/b3053674/anaconda2/lib/python2.7/site-packages/PyCoTools/pycopi.pyc\u001b[0m in \u001b[0;36m__init__\u001b[0;34m(self, copasi_file, **kwargs)\u001b[0m\n\u001b[1;32m   3860\u001b[0m \u001b[0;34m\u001b[0m\u001b[0m\n\u001b[1;32m   3861\u001b[0m \u001b[0;31m#        self.check_parameter_consistancy()\u001b[0m\u001b[0;34m\u001b[0m\u001b[0;34m\u001b[0m\u001b[0m\n\u001b[0;32m-> 3862\u001b[0;31m         \u001b[0mself\u001b[0m\u001b[0;34m.\u001b[0m\u001b[0mparameters\u001b[0m\u001b[0;34m=\u001b[0m\u001b[0mself\u001b[0m\u001b[0;34m.\u001b[0m\u001b[0mget_parameters\u001b[0m\u001b[0;34m(\u001b[0m\u001b[0;34m)\u001b[0m\u001b[0;34m\u001b[0m\u001b[0m\n\u001b[0m\u001b[1;32m   3863\u001b[0m         \u001b[0mself\u001b[0m\u001b[0;34m.\u001b[0m\u001b[0mparameters\u001b[0m\u001b[0;34m=\u001b[0m \u001b[0mself\u001b[0m\u001b[0;34m.\u001b[0m\u001b[0mreplace_gl_and_lt\u001b[0m\u001b[0;34m(\u001b[0m\u001b[0;34m)\u001b[0m\u001b[0;34m\u001b[0m\u001b[0m\n\u001b[1;32m   3864\u001b[0m         \u001b[0mself\u001b[0m\u001b[0;34m.\u001b[0m\u001b[0minsert_all\u001b[0m\u001b[0;34m(\u001b[0m\u001b[0;34m)\u001b[0m\u001b[0;34m\u001b[0m\u001b[0m\n",
      "\u001b[0;32m/home/b3053674/anaconda2/lib/python2.7/site-packages/PyCoTools/pycopi.pyc\u001b[0m in \u001b[0;36mget_parameters\u001b[0;34m(self)\u001b[0m\n\u001b[1;32m   3918\u001b[0m \u001b[0;34m\u001b[0m\u001b[0m\n\u001b[1;32m   3919\u001b[0m         \u001b[0;32mif\u001b[0m \u001b[0mself\u001b[0m\u001b[0;34m.\u001b[0m\u001b[0mkwargs\u001b[0m\u001b[0;34m.\u001b[0m\u001b[0mget\u001b[0m\u001b[0;34m(\u001b[0m\u001b[0;34m'ParameterPath'\u001b[0m\u001b[0;34m)\u001b[0m\u001b[0;34m!=\u001b[0m\u001b[0mNone\u001b[0m\u001b[0;34m:\u001b[0m\u001b[0;34m\u001b[0m\u001b[0m\n\u001b[0;32m-> 3920\u001b[0;31m             \u001b[0mPED\u001b[0m\u001b[0;34m=\u001b[0m\u001b[0mPEAnalysis\u001b[0m\u001b[0;34m.\u001b[0m\u001b[0mParsePEData\u001b[0m\u001b[0;34m(\u001b[0m\u001b[0mself\u001b[0m\u001b[0;34m.\u001b[0m\u001b[0mkwargs\u001b[0m\u001b[0;34m.\u001b[0m\u001b[0mget\u001b[0m\u001b[0;34m(\u001b[0m\u001b[0;34m'ParameterPath'\u001b[0m\u001b[0;34m)\u001b[0m\u001b[0;34m)\u001b[0m\u001b[0;34m\u001b[0m\u001b[0m\n\u001b[0m\u001b[1;32m   3921\u001b[0m             \u001b[0;32mif\u001b[0m \u001b[0misinstance\u001b[0m\u001b[0;34m(\u001b[0m\u001b[0mself\u001b[0m\u001b[0;34m.\u001b[0m\u001b[0mkwargs\u001b[0m\u001b[0;34m.\u001b[0m\u001b[0mget\u001b[0m\u001b[0;34m(\u001b[0m\u001b[0;34m'Index'\u001b[0m\u001b[0;34m)\u001b[0m\u001b[0;34m,\u001b[0m\u001b[0mint\u001b[0m\u001b[0;34m)\u001b[0m\u001b[0;34m:\u001b[0m\u001b[0;34m\u001b[0m\u001b[0m\n\u001b[1;32m   3922\u001b[0m                 \u001b[0;32mreturn\u001b[0m \u001b[0mpandas\u001b[0m\u001b[0;34m.\u001b[0m\u001b[0mDataFrame\u001b[0m\u001b[0;34m(\u001b[0m\u001b[0mPED\u001b[0m\u001b[0;34m.\u001b[0m\u001b[0mdata\u001b[0m\u001b[0;34m.\u001b[0m\u001b[0miloc\u001b[0m\u001b[0;34m[\u001b[0m\u001b[0mself\u001b[0m\u001b[0;34m.\u001b[0m\u001b[0mkwargs\u001b[0m\u001b[0;34m.\u001b[0m\u001b[0mget\u001b[0m\u001b[0;34m(\u001b[0m\u001b[0;34m'Index'\u001b[0m\u001b[0;34m)\u001b[0m\u001b[0;34m]\u001b[0m\u001b[0;34m)\u001b[0m\u001b[0;34m.\u001b[0m\u001b[0mtranspose\u001b[0m\u001b[0;34m(\u001b[0m\u001b[0;34m)\u001b[0m\u001b[0;34m\u001b[0m\u001b[0m\n",
      "\u001b[0;32m/home/b3053674/anaconda2/lib/python2.7/site-packages/PyCoTools/PEAnalysis.pyc\u001b[0m in \u001b[0;36m__init__\u001b[0;34m(self, results_path, UsePickle, OverwritePickle, RemoveInfiniteRSS, PicklePath)\u001b[0m\n\u001b[1;32m     91\u001b[0m         \u001b[0;32massert\u001b[0m \u001b[0mos\u001b[0m\u001b[0;34m.\u001b[0m\u001b[0mpath\u001b[0m\u001b[0;34m.\u001b[0m\u001b[0mexists\u001b[0m\u001b[0;34m(\u001b[0m\u001b[0mself\u001b[0m\u001b[0;34m.\u001b[0m\u001b[0mresults_path\u001b[0m\u001b[0;34m)\u001b[0m\u001b[0;34m,\u001b[0m\u001b[0;34m'{} does not exist'\u001b[0m\u001b[0;34m.\u001b[0m\u001b[0mformat\u001b[0m\u001b[0;34m(\u001b[0m\u001b[0mself\u001b[0m\u001b[0;34m.\u001b[0m\u001b[0mresults_path\u001b[0m\u001b[0;34m)\u001b[0m\u001b[0;34m\u001b[0m\u001b[0m\n\u001b[1;32m     92\u001b[0m         \u001b[0mself\u001b[0m\u001b[0;34m.\u001b[0m\u001b[0mcwd\u001b[0m\u001b[0;34m=\u001b[0m\u001b[0mos\u001b[0m\u001b[0;34m.\u001b[0m\u001b[0mpath\u001b[0m\u001b[0;34m.\u001b[0m\u001b[0mdirname\u001b[0m\u001b[0;34m(\u001b[0m\u001b[0mself\u001b[0m\u001b[0;34m.\u001b[0m\u001b[0mresults_path\u001b[0m\u001b[0;34m)\u001b[0m\u001b[0;34m\u001b[0m\u001b[0m\n\u001b[0;32m---> 93\u001b[0;31m         \u001b[0mos\u001b[0m\u001b[0;34m.\u001b[0m\u001b[0mchdir\u001b[0m\u001b[0;34m(\u001b[0m\u001b[0mself\u001b[0m\u001b[0;34m.\u001b[0m\u001b[0mcwd\u001b[0m\u001b[0;34m)\u001b[0m\u001b[0;34m\u001b[0m\u001b[0m\n\u001b[0m\u001b[1;32m     94\u001b[0m         \u001b[0mself\u001b[0m\u001b[0;34m.\u001b[0m\u001b[0mpickle_path\u001b[0m\u001b[0;34m=\u001b[0m\u001b[0mPicklePath\u001b[0m\u001b[0;34m\u001b[0m\u001b[0m\n\u001b[1;32m     95\u001b[0m         \u001b[0;32mif\u001b[0m \u001b[0mself\u001b[0m\u001b[0;34m.\u001b[0m\u001b[0mpickle_path\u001b[0m\u001b[0;34m==\u001b[0m\u001b[0mNone\u001b[0m\u001b[0;34m:\u001b[0m\u001b[0;34m\u001b[0m\u001b[0m\n",
      "\u001b[0;31mOSError\u001b[0m: [Errno 2] No such file or directory: ''"
     ]
    }
   ],
   "source": [
    "## recall that best parameters are at the bottom of the copasi generated results file\n",
    "print pandas.DataFrame.from_csv(estimation_results,sep='\\t').tail() #so use tail to get end\n",
    "I=PyCoTools.pycopi.InsertParameters(kholodenko_model,ParameterPath=estimation_results)\n",
    "\n",
    "print '\\n\\n\\n'\n",
    "\n",
    "# GMQ_after=PyCoTools.pycopi.GetModelQuantities(kholodenko_model)\n",
    "# for key,val in  GMQ_after.get_all_model_variables().items():\n",
    "#     print key,val['value']\n"
   ]
  },
  {
   "cell_type": "code",
   "execution_count": null,
   "metadata": {
    "collapsed": true
   },
   "outputs": [],
   "source": []
  },
  {
   "cell_type": "code",
   "execution_count": null,
   "metadata": {
    "collapsed": true
   },
   "outputs": [],
   "source": [
    "import pandas,os,PyCoTools\n",
    "\n",
    "GMQ_before=PyCoTools.pycopi.GetModelQuantities(kholodenko_model)\n",
    "for key,val in  GMQ_before.get_all_model_variables().items():\n",
    "    print key,val['value']\n",
    "\n",
    "\n",
    "data_report='InsertParametersParameterEstimationData.txt'\n",
    "##Simulate some synthetic data\n",
    "TC=PyCoTools.pycopi.TimeCourse(kholodenko_model,End=1000,StepSize=1,\n",
    "                               Intervals=1000,\n",
    "                               ReportName=data_report)\n",
    "\n",
    "# setup parameter estimation with all default parameters\n",
    "estimation_results='InsertParametersParameterEstimationResults.txt'\n",
    "PE=PyCoTools.pycopi.ParameterEstimation(kholodenko_model,data_report,\n",
    "                                       ReportName = estimation_results)\n",
    "PE.write_item_template()\n",
    "PE.set_up()\n",
    "PE.run\n",
    "\n",
    "I=PyCoTools.pycopi.InsertParameters(kholodenko_model,ParameterPath=estimation_results)\n",
    "    \n"
   ]
  },
  {
   "cell_type": "code",
   "execution_count": null,
   "metadata": {
    "collapsed": true
   },
   "outputs": [],
   "source": []
  },
  {
   "cell_type": "code",
   "execution_count": null,
   "metadata": {
    "collapsed": true
   },
   "outputs": [],
   "source": []
  }
 ],
 "metadata": {
  "kernelspec": {
   "display_name": "Python 2",
   "language": "python",
   "name": "python2"
  },
  "language_info": {
   "codemirror_mode": {
    "name": "ipython",
    "version": 2
   },
   "file_extension": ".py",
   "mimetype": "text/x-python",
   "name": "python",
   "nbconvert_exporter": "python",
   "pygments_lexer": "ipython2",
   "version": "2.7.13"
  }
 },
 "nbformat": 4,
 "nbformat_minor": 2
}
