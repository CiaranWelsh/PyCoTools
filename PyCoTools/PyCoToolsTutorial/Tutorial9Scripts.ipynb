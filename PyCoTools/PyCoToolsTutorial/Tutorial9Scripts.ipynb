{
 "cells": [
  {
   "cell_type": "markdown",
   "metadata": {},
   "source": [
    "# Scripts\n",
    "In the PyCoTools main folder there is another called `Scripts` with an `__init__.py` module. This means that any program within this folder is reachable by command line. To see what scripts are available in this folder use:\n",
    "\n",
    "    >>>python -m PyCoTools.Scripts.ls\n",
    "    \n",
    "    compare_sim_vs_exp.py\n",
    "    pydentify_model.py\n",
    "    ls.py\n",
    "    submit_copasi_multijob.py\n",
    "    pydentify_biomodels.py\n",
    "    run_PL.py\n",
    "    run_local_chaser_PEs.py\n",
    "    insertPE.py\n",
    "    __init__.py\n",
    "    run_multiple_PEs.py\n",
    "    fit_analysis.py\n",
    "    delete_SGE_jobs.py\n",
    "    calculate_biomodels_computation_time.py\n",
    "    plot_PL.py\n",
    "    \n",
    "Each of the scripts in the above list can be called in the same way as the `ls` program which lists all the python files in the `Scripts` directory. Each program has a `-h` option that gives the user the help options. \n",
    "\n",
    "In general, scripts facilitate the speed with which a task can be accomplished, since its quicker to run a command that to open the GUI and click around. \n",
    "\n",
    "**compare_sim_vs_exp.py**\n",
    "Compare experimental data against stimulated data with a certain parameter set taken from file or folder of files. \n",
    "\n",
    "*.ipynbdentify_model.py**\n",
    "Perform profile likelihood on a model using data simulated directly from the model.\n",
    "\n",
    "*.ipynbdentify_biomodels.py**\n",
    "Use the `pydentify_model.py` script on all models in biomodels. \n",
    "\n",
    "**calculate_biomodels_computation_time.py**\n",
    "Used for calculating the computation time for the biomodels analysis once completed. \n",
    "\n",
    "**submit_copasi_multijob.py** \n",
    "Script to submit a copasi file to a SunGridEngine job scheduler as many times as you like. This automatically gets around a few problems associated with this job, such as each model copy trying to write to a single output file. \n",
    "\n",
    "**run_PL.py**\n",
    "run profile likelihood on model\n",
    "\n",
    "**plot_PL.py**\n",
    "plot profile likelihoods on model\n",
    "\n",
    "**run_multiple_PEs**\n",
    "run multiple parameter estimations by copying a model and setting up a scan task. Note: the `runMultiplePEs` class is a better option to use. \n",
    "\n",
    "**fit_analysis.py**\n",
    "Automatically produce the various plots for analysis of a parameter estimation series. \n",
    "\n",
    "**InsertPE.py**\n",
    "Quickly insert a parameter set from file into a copasi model#\n",
    "\n",
    "**run_local_chaser_PEs.py**\n",
    "Global algorithms have a tendency to fall short of the mark (i.e. do not find minima, global or otherwise). This script takes a model and parameter set and runs a local algorithm to find the nearest minima from a parameter set produced by a global algorithm. \n"
   ]
  }
 ],
 "metadata": {
  "kernelspec": {
   "display_name": "Python 2",
   "language": "python",
   "name": "python2"
  },
  "language_info": {
   "codemirror_mode": {
    "name": "ipython",
    "version": 2
   },
   "file_extension": ".py",
   "mimetype": "text/x-python",
   "name": "python",
   "nbconvert_exporter": "python",
   "pygments_lexer": "ipython2",
   "version": "2.7.13"
  }
 },
 "nbformat": 4,
 "nbformat_minor": 2
}
