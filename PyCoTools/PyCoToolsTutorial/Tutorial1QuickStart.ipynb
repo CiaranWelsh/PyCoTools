{
 "cells": [
  {
   "cell_type": "markdown",
   "metadata": {},
   "source": [
    "# Get model file"
   ]
  },
  {
   "cell_type": "code",
   "execution_count": null,
   "metadata": {
    "collapsed": true
   },
   "outputs": [],
   "source": [
    "import os,glob\n",
    "\n",
    "for i in glob.glob('*.cps'):\n",
    "    kholodenko_model= os.path.abspath(i)\n",
    "    \n",
    "print kholodenko_model\n",
    "print os.path.isfile(kholodenko_model)\n"
   ]
  },
  {
   "cell_type": "markdown",
   "metadata": {},
   "source": [
    "# Run Deterministic Time Course\n",
    "Saving data to file"
   ]
  },
  {
   "cell_type": "code",
   "execution_count": 8,
   "metadata": {
    "collapsed": false
   },
   "outputs": [
    {
     "name": "stdout",
     "output_type": "stream",
     "text": [
      "DEBUG:PyCoTools.pycopi:pycopi:131:copasi file Kholodenko.cps has been parsed into Python\n",
      "DEBUG:PyCoTools.pycopi:pycopi:131:copasi file Kholodenko.cps has been parsed into Python\n",
      "DEBUG:PyCoTools.pycopi:pycopi:131:copasi file Kholodenko.cps has been parsed into Python\n",
      "DEBUG:PyCoTools.pycopi:pycopi:131:copasi file Kholodenko.cps has been parsed into Python\n",
      "DEBUG:PyCoTools.pycopi:pycopi:998:created a 'time_course' type report\n",
      "DEBUG:PyCoTools.pycopi:pycopi:142:File Kholodenko.cps written to \n",
      "/home/b3053674/Documents/PyCoTools/PyCoTools/PyCoToolsTutorial/Kholodenko.cps\n",
      "DEBUG:PyCoTools.pycopi:pycopi:131:copasi file Kholodenko.cps has been parsed into Python\n",
      "DEBUG:PyCoTools.pycopi:pycopi:131:copasi file Kholodenko.cps has been parsed into Python\n",
      "DEBUG:PyCoTools.pycopi:pycopi:998:created a 'time_course' type report\n",
      "DEBUG:PyCoTools.pycopi:pycopi:142:File Kholodenko.cps written to \n",
      "/home/b3053674/Documents/PyCoTools/PyCoTools/PyCoToolsTutorial/Kholodenko.cps\n",
      "DEBUG:PyCoTools.pycopi:pycopi:2018:setting up deterministic time course\n",
      "DEBUG:PyCoTools.pycopi:pycopi:142:File Kholodenko.cps written to \n",
      "/home/b3053674/Documents/PyCoTools/PyCoTools/PyCoToolsTutorial/Kholodenko.cps\n",
      "DEBUG:PyCoTools.pycopi:pycopi:131:copasi file Kholodenko.cps has been parsed into Python\n",
      "DEBUG:PyCoTools.pycopi:pycopi:131:copasi file Kholodenko.cps has been parsed into Python\n",
      "DEBUG:PyCoTools.pycopi:pycopi:142:File Kholodenko.cps written to \n",
      "/home/b3053674/Documents/PyCoTools/PyCoTools/PyCoToolsTutorial/Kholodenko.cps\n",
      "DEBUG:PyCoTools.pycopi:pycopi:2029:Time course ran\n",
      "DEBUG:PyCoTools.pycopi:pycopi:2036:Reading timecourse\n",
      "DEBUG:PyCoTools.pycopi:pycopi:2038:pruning headers of copasi files of COPASI references\n"
     ]
    },
    {
     "data": {
      "text/plain": [
       "<PyCoTools.pycopi.TimeCourse at 0x7f72b38ed810>"
      ]
     },
     "execution_count": 8,
     "metadata": {},
     "output_type": "execute_result"
    }
   ],
   "source": [
    "import PyCoTools\n",
    "PyCoTools.pycopi.TimeCourse(kholodenko_model,\n",
    "                           Start = 0, End= 1000, Intervals = 1000, StepSize = 1,\n",
    "                           )"
   ]
  },
  {
   "cell_type": "code",
   "execution_count": null,
   "metadata": {
    "collapsed": true
   },
   "outputs": [],
   "source": []
  },
  {
   "cell_type": "code",
   "execution_count": null,
   "metadata": {
    "collapsed": true
   },
   "outputs": [],
   "source": []
  },
  {
   "cell_type": "code",
   "execution_count": null,
   "metadata": {
    "collapsed": true
   },
   "outputs": [],
   "source": []
  },
  {
   "cell_type": "code",
   "execution_count": null,
   "metadata": {
    "collapsed": true
   },
   "outputs": [],
   "source": []
  },
  {
   "cell_type": "code",
   "execution_count": null,
   "metadata": {
    "collapsed": true
   },
   "outputs": [],
   "source": []
  },
  {
   "cell_type": "code",
   "execution_count": null,
   "metadata": {
    "collapsed": true
   },
   "outputs": [],
   "source": []
  },
  {
   "cell_type": "code",
   "execution_count": null,
   "metadata": {
    "collapsed": true
   },
   "outputs": [],
   "source": []
  },
  {
   "cell_type": "code",
   "execution_count": null,
   "metadata": {
    "collapsed": true
   },
   "outputs": [],
   "source": []
  },
  {
   "cell_type": "code",
   "execution_count": null,
   "metadata": {
    "collapsed": true
   },
   "outputs": [],
   "source": []
  },
  {
   "cell_type": "code",
   "execution_count": null,
   "metadata": {
    "collapsed": true
   },
   "outputs": [],
   "source": []
  },
  {
   "cell_type": "code",
   "execution_count": null,
   "metadata": {
    "collapsed": true
   },
   "outputs": [],
   "source": []
  },
  {
   "cell_type": "code",
   "execution_count": null,
   "metadata": {
    "collapsed": true
   },
   "outputs": [],
   "source": []
  }
 ],
 "metadata": {
  "hide_input": false,
  "kernelspec": {
   "display_name": "Python 2",
   "language": "python",
   "name": "python2"
  },
  "language_info": {
   "codemirror_mode": {
    "name": "ipython",
    "version": 2
   },
   "file_extension": ".py",
   "mimetype": "text/x-python",
   "name": "python",
   "nbconvert_exporter": "python",
   "pygments_lexer": "ipython2",
   "version": "2.7.13"
  },
  "toc": {
   "colors": {
    "hover_highlight": "#DAA520",
    "running_highlight": "#FF0000",
    "selected_highlight": "#FFD700"
   },
   "moveMenuLeft": true,
   "nav_menu": {
    "height": "29px",
    "width": "252px"
   },
   "navigate_menu": true,
   "number_sections": true,
   "sideBar": true,
   "threshold": 4,
   "toc_cell": false,
   "toc_section_display": "block",
   "toc_window_display": false
  }
 },
 "nbformat": 4,
 "nbformat_minor": 2
}
