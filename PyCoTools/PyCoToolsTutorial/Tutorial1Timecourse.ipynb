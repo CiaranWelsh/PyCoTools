{
 "cells": [
  {
   "cell_type": "markdown",
   "metadata": {},
   "source": [
    "# TimeCourse\n",
    "The `pycopi.TimeCourse` class enables a user to run an COPASI model deterministically. Future versions of PyCoTools will implement the alternative sovlers that COPASI offers and they will be accessible via a keyword argument, but presently these features are not implemented. \n",
    "\n",
    "## Get model Path\n",
    "PyCoTools works with directories to copasi files so first we need to get the location of the example model on disk"
   ]
  },
  {
   "cell_type": "code",
   "execution_count": 1,
   "metadata": {
    "collapsed": false
   },
   "outputs": [
    {
     "name": "stdout",
     "output_type": "stream",
     "text": [
      "/home/b3053674/Documents/PyCoTools/PyCoTools/PyCoToolsTutorial/Kholodenko.cps\n",
      "True\n"
     ]
    }
   ],
   "source": [
    "%matplotlib inline\n",
    "import os,glob\n",
    "\n",
    "for i in glob.glob('*.cps'):\n",
    "    kholodenko_model= os.path.abspath(i)\n",
    "    \n",
    "print kholodenko_model\n",
    "print os.path.isfile(kholodenko_model)"
   ]
  },
  {
   "cell_type": "markdown",
   "metadata": {},
   "source": [
    "To run deterministic time course with kholodenko model we have a few options. We can:\n",
    "    1. Collect all copasi output as tab separated file using the `report_name` keyword."
   ]
  },
  {
   "cell_type": "code",
   "execution_count": 28,
   "metadata": {
    "collapsed": false
   },
   "outputs": [
    {
     "name": "stdout",
     "output_type": "stream",
     "text": [
      "DEBUG:PyCoTools.pycopi:pycopi:108:copasi file Kholodenko.cps has been parsed into Python\n",
      "DEBUG:PyCoTools.pycopi:pycopi:1135:CopasiML: <Element {http://www.copasi.org/static/schema}COPASI at 0x7fc056fd83b0>\n",
      "DEBUG:PyCoTools.pycopi:pycopi:108:copasi file Kholodenko.cps has been parsed into Python\n",
      "DEBUG:PyCoTools.pycopi:pycopi:119:model written to /home/b3053674/Documents/PyCoTools/PyCoTools/PyCoToolsTutorial/Kholodenko.cps\n",
      "DEBUG:PyCoTools.pycopi:pycopi:108:copasi file Kholodenko.cps has been parsed into Python\n",
      "DEBUG:PyCoTools.pycopi:pycopi:108:copasi file Kholodenko.cps has been parsed into Python\n",
      "DEBUG:PyCoTools.pycopi:pycopi:946:created a 'time_course' type report\n",
      "DEBUG:PyCoTools.pycopi:pycopi:119:model written to /home/b3053674/Documents/PyCoTools/PyCoTools/PyCoToolsTutorial/Kholodenko.cps\n",
      "DEBUG:PyCoTools.pycopi:pycopi:108:copasi file Kholodenko.cps has been parsed into Python\n",
      "DEBUG:PyCoTools.pycopi:pycopi:108:copasi file Kholodenko.cps has been parsed into Python\n",
      "DEBUG:PyCoTools.pycopi:pycopi:946:created a 'time_course' type report\n",
      "DEBUG:PyCoTools.pycopi:pycopi:119:model written to /home/b3053674/Documents/PyCoTools/PyCoTools/PyCoToolsTutorial/Kholodenko.cps\n"
     ]
    },
    {
     "ename": "UnboundLocalError",
     "evalue": "local variable 'key' referenced before assignment",
     "output_type": "error",
     "traceback": [
      "\u001b[0;31m---------------------------------------------------------------------------\u001b[0m",
      "\u001b[0;31mUnboundLocalError\u001b[0m                         Traceback (most recent call last)",
      "\u001b[0;32m<ipython-input-28-f6b64b87be9e>\u001b[0m in \u001b[0;36m<module>\u001b[0;34m()\u001b[0m\n\u001b[1;32m      9\u001b[0m                         \u001b[0mend\u001b[0m\u001b[0;34m=\u001b[0m\u001b[0;36m1000\u001b[0m\u001b[0;34m,\u001b[0m\u001b[0;34m\u001b[0m\u001b[0m\n\u001b[1;32m     10\u001b[0m                         \u001b[0mintervals\u001b[0m\u001b[0;34m=\u001b[0m\u001b[0;36m50\u001b[0m\u001b[0;34m,\u001b[0m\u001b[0;34m\u001b[0m\u001b[0m\n\u001b[0;32m---> 11\u001b[0;31m                         step_size=20)\n\u001b[0m\u001b[1;32m     12\u001b[0m \u001b[0;34m\u001b[0m\u001b[0m\n\u001b[1;32m     13\u001b[0m \u001b[0;31m## check its worked\u001b[0m\u001b[0;34m\u001b[0m\u001b[0;34m\u001b[0m\u001b[0m\n",
      "\u001b[0;32m/home/b3053674/Documents/PyCoTools/PyCoTools/pycopi.pyc\u001b[0m in \u001b[0;36m__init__\u001b[0;34m(self, copasi_file, **kwargs)\u001b[0m\n\u001b[1;32m   1327\u001b[0m \u001b[0;34m\u001b[0m\u001b[0m\n\u001b[1;32m   1328\u001b[0m             \u001b[0mself\u001b[0m\u001b[0;34m.\u001b[0m\u001b[0msave\u001b[0m\u001b[0;34m(\u001b[0m\u001b[0;34m)\u001b[0m\u001b[0;34m\u001b[0m\u001b[0m\n\u001b[0;32m-> 1329\u001b[0;31m             \u001b[0;32mprint\u001b[0m \u001b[0mself\u001b[0m\u001b[0;34m.\u001b[0m\u001b[0mget_report_key\u001b[0m\u001b[0;34m(\u001b[0m\u001b[0;34m)\u001b[0m\u001b[0;34m\u001b[0m\u001b[0m\n\u001b[0m\u001b[1;32m   1330\u001b[0m \u001b[0;31m##            print self.report_definition()\u001b[0m\u001b[0;34m\u001b[0m\u001b[0;34m\u001b[0m\u001b[0m\n\u001b[1;32m   1331\u001b[0m \u001b[0;31m#            self.run()\u001b[0m\u001b[0;34m\u001b[0m\u001b[0;34m\u001b[0m\u001b[0m\n",
      "\u001b[0;32m/home/b3053674/Documents/PyCoTools/PyCoTools/pycopi.pyc\u001b[0m in \u001b[0;36mrun\u001b[0;34m(self)\u001b[0m\n\u001b[1;32m   1446\u001b[0m                 \u001b[0msimulation_type\u001b[0m\u001b[0;34m=\u001b[0m\u001b[0;34m'deterministic'\u001b[0m \u001b[0;31m#default\u001b[0m\u001b[0;34m\u001b[0m\u001b[0m\n\u001b[1;32m   1447\u001b[0m                 \u001b[0mSumulationType\u001b[0m\u001b[0;34m=\u001b[0m\u001b[0;34m'stochastic'\u001b[0m \u001b[0;31m#still to be written\u001b[0m\u001b[0;34m\u001b[0m\u001b[0m\n\u001b[0;32m-> 1448\u001b[0;31m             '''\n\u001b[0m\u001b[1;32m   1449\u001b[0m             \u001b[0;32mif\u001b[0m \u001b[0mself\u001b[0m\u001b[0;34m.\u001b[0m\u001b[0mkwargs\u001b[0m\u001b[0;34m.\u001b[0m\u001b[0mget\u001b[0m\u001b[0;34m(\u001b[0m\u001b[0;34m'simulation_type'\u001b[0m\u001b[0;34m)\u001b[0m \u001b[0;34m==\u001b[0m \u001b[0;34m'deterministic'\u001b[0m\u001b[0;34m:\u001b[0m\u001b[0;34m\u001b[0m\u001b[0m\n\u001b[1;32m   1450\u001b[0m                 \u001b[0mself\u001b[0m\u001b[0;34m.\u001b[0m\u001b[0mcopasiML\u001b[0m \u001b[0;34m=\u001b[0m \u001b[0mself\u001b[0m\u001b[0;34m.\u001b[0m\u001b[0mreport_definition\u001b[0m\u001b[0;34m(\u001b[0m\u001b[0;34m)\u001b[0m\u001b[0;34m\u001b[0m\u001b[0m\n",
      "\u001b[0;32m/home/b3053674/Documents/PyCoTools/PyCoTools/pycopi.pyc\u001b[0m in \u001b[0;36mset_report\u001b[0;34m(self)\u001b[0m\n\u001b[1;32m   1418\u001b[0m             \u001b[0mwere\u001b[0m \u001b[0mto\u001b[0m \u001b[0mput\u001b[0m \u001b[0mthe\u001b[0m \u001b[0mresults\u001b[0m\u001b[0;34m\u001b[0m\u001b[0m\n\u001b[1;32m   1419\u001b[0m             '''\n\u001b[0;32m-> 1420\u001b[0;31m             \u001b[0mself\u001b[0m\u001b[0;34m.\u001b[0m\u001b[0mcopasiML\u001b[0m \u001b[0;34m=\u001b[0m \u001b[0mself\u001b[0m\u001b[0;34m.\u001b[0m\u001b[0mreport_definition\u001b[0m\u001b[0;34m(\u001b[0m\u001b[0;34m)\u001b[0m\u001b[0;34m\u001b[0m\u001b[0m\n\u001b[0m\u001b[1;32m   1421\u001b[0m \u001b[0;31m#            time.sleep(0.1)\u001b[0m\u001b[0;34m\u001b[0m\u001b[0;34m\u001b[0m\u001b[0m\n\u001b[1;32m   1422\u001b[0m \u001b[0;31m#            self.save()\u001b[0m\u001b[0;34m\u001b[0m\u001b[0;34m\u001b[0m\u001b[0m\n",
      "\u001b[0;32m/home/b3053674/Documents/PyCoTools/PyCoTools/pycopi.pyc\u001b[0m in \u001b[0;36mget_report_key\u001b[0;34m(self)\u001b[0m\n\u001b[1;32m   1409\u001b[0m             \u001b[0;32mfor\u001b[0m \u001b[0mi\u001b[0m \u001b[0;32min\u001b[0m \u001b[0mself\u001b[0m\u001b[0;34m.\u001b[0m\u001b[0mcopasiML\u001b[0m\u001b[0;34m.\u001b[0m\u001b[0mfind\u001b[0m\u001b[0;34m(\u001b[0m\u001b[0;34m'{http://www.copasi.org/static/schema}ListOfReports'\u001b[0m\u001b[0;34m)\u001b[0m\u001b[0;34m:\u001b[0m\u001b[0;34m\u001b[0m\u001b[0m\n\u001b[1;32m   1410\u001b[0m                 \u001b[0;32mif\u001b[0m \u001b[0mi\u001b[0m\u001b[0;34m.\u001b[0m\u001b[0mattrib\u001b[0m\u001b[0;34m[\u001b[0m\u001b[0;34m'name'\u001b[0m\u001b[0;34m]\u001b[0m \u001b[0;34m==\u001b[0m \u001b[0;34m'Time-Course'\u001b[0m\u001b[0;34m:\u001b[0m\u001b[0;34m\u001b[0m\u001b[0m\n\u001b[0;32m-> 1411\u001b[0;31m                     \u001b[0mkey\u001b[0m \u001b[0;34m=\u001b[0m \u001b[0mi\u001b[0m\u001b[0;34m.\u001b[0m\u001b[0mattrib\u001b[0m\u001b[0;34m[\u001b[0m\u001b[0;34m'key'\u001b[0m\u001b[0;34m]\u001b[0m\u001b[0;34m\u001b[0m\u001b[0m\n\u001b[0m\u001b[1;32m   1412\u001b[0m             \u001b[0;32massert\u001b[0m \u001b[0mkey\u001b[0m \u001b[0;34m!=\u001b[0m \u001b[0mNone\u001b[0m\u001b[0;34m,\u001b[0m \u001b[0;34m'have you ran the report_definition method?'\u001b[0m\u001b[0;34m\u001b[0m\u001b[0m\n\u001b[1;32m   1413\u001b[0m             \u001b[0;32mreturn\u001b[0m \u001b[0mkey\u001b[0m\u001b[0;34m\u001b[0m\u001b[0m\n",
      "\u001b[0;31mUnboundLocalError\u001b[0m: local variable 'key' referenced before assignment"
     ]
    }
   ],
   "source": [
    "import site\n",
    "site.addsitedir('/home/b3053674/Documents/PyCoTools')\n",
    "import PyCoTools\n",
    "import os\n",
    "import pandas\n",
    "TC= PyCoTools.pycopi.TimeCourse(kholodenko_model,\n",
    "                        report_name='kholodenko_timecourse_report.txt',\n",
    "                        ## Intervals*StepSize must equal End\n",
    "                        end=1000,    \n",
    "                        intervals=50,\n",
    "                        step_size=20)\n",
    "\n",
    "## check its worked\n",
    "print os.path.isfile(TC.kwargs['report_name'])\n",
    "print pandas.read_csv(TC.kwargs['report_name'],sep='\\t').head()\n",
    "\n",
    "os.system('CopasiUI {}'.format(kholodenko_model))"
   ]
  },
  {
   "cell_type": "markdown",
   "metadata": {},
   "source": [
    "    2. Collect results only for selected model variables only by passing a list to the `metabolites` keyword. When no argument is specified, all model variables are selected by default:"
   ]
  },
  {
   "cell_type": "code",
   "execution_count": null,
   "metadata": {
    "collapsed": false
   },
   "outputs": [],
   "source": [
    "import pandas,os\n",
    "import PyCoTools\n",
    "TC=PyCoTools.pycopi.TimeCourse(kholodenko_model,\n",
    "                            report_name='kholodenko_timecourse_report.txt',\n",
    "                            End=1000,\n",
    "                            Intervals=50,\n",
    "                            StepSize=20,\n",
    "                            plot='false',\n",
    "                            savefig='true',\n",
    "                            metabolites=['Mek1-P','Mek1'],\n",
    "                            global_quantities = [])\n",
    "\n",
    "##check that we only have two variables\n",
    "print pandas.read_csv(TC.kwargs['report_name'],sep='\\t').head()"
   ]
  },
  {
   "cell_type": "markdown",
   "metadata": {},
   "source": [
    "    3. plot and save results in the same directory as the model file"
   ]
  },
  {
   "cell_type": "code",
   "execution_count": null,
   "metadata": {
    "collapsed": false
   },
   "outputs": [],
   "source": [
    "import PyCoTools,glob,os\n",
    "\n",
    "TC = PyCoTools.pycopi.TimeCourse(kholodenko_model,\n",
    "                            report_name='kholodenko_timecourse_report.txt',\n",
    "                            End=1000,\n",
    "                            Intervals=50,\n",
    "                            StepSize=20,\n",
    "                            plot='true',\n",
    "                            savefig='true')\n",
    "\n",
    "## check png files exist\n",
    "for i in glob.glob('./TimeCourseGraphs/*'):\n",
    "    print 'File {} exists: \\t {}'.format(i,os.path.isfile(i))\n",
    "    "
   ]
  },
  {
   "cell_type": "markdown",
   "metadata": {},
   "source": [
    "You can also play around with graph graphics. Note that these arguments are simply passed on to matplotlib and therefore more documenation can be found [here](http://matplotlib.org/)"
   ]
  },
  {
   "cell_type": "code",
   "execution_count": null,
   "metadata": {
    "collapsed": false
   },
   "outputs": [],
   "source": [
    "import os,PyCoTools\n",
    "PyCoTools.pycopi.TimeCourse(kholodenko_model,\n",
    "                            report_name='kholodenko_timecourse_report.txt',\n",
    "                            End=1000,\n",
    "                            Intervals=50,\n",
    "                            StepSize=20,\n",
    "                            plot='true',\n",
    "                            savefig='true',\n",
    "                            line_width=8,\n",
    "                            MarkerSize=15,\n",
    "                            axis_size=20,\n",
    "                            font_size=25,\n",
    "                            LineStyle='-',\n",
    "                            xtick_rotation=45)"
   ]
  }
 ],
 "metadata": {
  "kernelspec": {
   "display_name": "Python 2",
   "language": "python",
   "name": "python2"
  },
  "language_info": {
   "codemirror_mode": {
    "name": "ipython",
    "version": 2
   },
   "file_extension": ".py",
   "mimetype": "text/x-python",
   "name": "python",
   "nbconvert_exporter": "python",
   "pygments_lexer": "ipython2",
   "version": "2.7.13"
  }
 },
 "nbformat": 4,
 "nbformat_minor": 2
}
