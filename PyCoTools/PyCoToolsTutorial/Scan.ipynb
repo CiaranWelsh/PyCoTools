{
 "cells": [
  {
   "cell_type": "markdown",
   "metadata": {
    "deletable": true,
    "editable": true
   },
   "source": [
    "# Parameter Scan\n",
    "\n",
    "## Get Example Model"
   ]
  },
  {
   "cell_type": "code",
   "execution_count": 1,
   "metadata": {
    "collapsed": false,
    "deletable": true,
    "editable": true,
    "scrolled": false
   },
   "outputs": [
    {
     "name": "stdout",
     "output_type": "stream",
     "text": [
      "C:\\Users\\Ciaran\\Documents\\PyCoTools\\PyCoTools\\PyCoToolsTutorial\\Kholodenko.cps\n",
      "True\n"
     ]
    }
   ],
   "source": [
    "%matplotlib inline\n",
    "import os,glob\n",
    "\n",
    "for i in glob.glob('*.cps'):\n",
    "    kholodenko_model= os.path.abspath(i)\n",
    "    \n",
    "print kholodenko_model\n",
    "print os.path.isfile(kholodenko_model)"
   ]
  },
  {
   "cell_type": "markdown",
   "metadata": {
    "deletable": true,
    "editable": true
   },
   "source": [
    "Copasi supports three types of scan: \n",
    "\n",
    "## Parameter Scan\n",
    "Set up a scan subtask with a single parameter being systematically varied "
   ]
  },
  {
   "cell_type": "code",
   "execution_count": 2,
   "metadata": {
    "collapsed": false,
    "deletable": true,
    "editable": true
   },
   "outputs": [
    {
     "data": {
      "text/plain": [
       "0"
      ]
     },
     "execution_count": 2,
     "metadata": {},
     "output_type": "execute_result"
    }
   ],
   "source": [
    "import PyCoTools\n",
    "import os\n",
    "import pandas\n",
    "\n",
    "S=PyCoTools.pycopi.Scan(kholodenko_model,ScanType = 'scan',\n",
    "                     SubTask = 'time_course',\n",
    "                     ReportType = 'time_course',\n",
    "                     ReportName = 'ParameterScanOfTimeCourse.txt',\n",
    "                     Variable = 'Mos-P',\n",
    "                     Minimum = 1,\n",
    "                     Maximum = 10,\n",
    "                     NumberOfSteps = 10,\n",
    "                     Append='true')\n",
    "\n",
    "## Run via the gui\n",
    "os.system('CopasiUI {}'.format(kholodenko_model))"
   ]
  },
  {
   "cell_type": "markdown",
   "metadata": {
    "deletable": true,
    "editable": true
   },
   "source": [
    "## 2 Way Parameter Scan\n",
    "Set ClearScans to false to set up multiple-way parameter scans"
   ]
  },
  {
   "cell_type": "code",
   "execution_count": 3,
   "metadata": {
    "collapsed": false,
    "deletable": true,
    "editable": true
   },
   "outputs": [
    {
     "data": {
      "text/plain": [
       "0"
      ]
     },
     "execution_count": 3,
     "metadata": {},
     "output_type": "execute_result"
    }
   ],
   "source": [
    "import PyCoTools\n",
    "import os\n",
    "import pandas\n",
    "\n",
    "S=PyCoTools.pycopi.Scan(kholodenko_model,ScanType = 'scan',\n",
    "                     SubTask = 'time_course',\n",
    "                     ReportType = 'time_course',\n",
    "                     ReportName = 'ParameterScanOfTimeCourse.txt',\n",
    "                     Variable = 'Mos-P',\n",
    "                     Minimum = 1,\n",
    "                     Maximum = 10,\n",
    "                     NumberOfSteps = 10,\n",
    "                     )\n",
    "\n",
    "S2=PyCoTools.pycopi.Scan(kholodenko_model,ScanType = 'scan',\n",
    "                     SubTask = 'time_course',\n",
    "                     ReportType = 'time_course',\n",
    "                     ReportName = 'ParameterScanOfTimeCourse.txt',\n",
    "                     Variable = 'Mek1-P',\n",
    "                     Minimum = 1,\n",
    "                     Maximum = 10,\n",
    "                     NumberOfSteps = 10,\n",
    "                     ClearScans='false')\n",
    "\n",
    "\n",
    "## Run via the gui\n",
    "os.system('CopasiUI {}'.format(kholodenko_model))"
   ]
  },
  {
   "cell_type": "markdown",
   "metadata": {
    "deletable": true,
    "editable": true
   },
   "source": [
    "## Repeat Scan Items\n",
    "Useful for running multiple parameter estimations (however the ParameterEstimation task needs to be setup first)"
   ]
  },
  {
   "cell_type": "code",
   "execution_count": 4,
   "metadata": {
    "collapsed": false,
    "deletable": true,
    "editable": true
   },
   "outputs": [
    {
     "data": {
      "text/plain": [
       "0"
      ]
     },
     "execution_count": 4,
     "metadata": {},
     "output_type": "execute_result"
    }
   ],
   "source": [
    "S=PyCoTools.pycopi.Scan(kholodenko_model,ScanType = 'repeat',\n",
    "                     SubTask = 'parameter_estimation', \n",
    "                     ReportType = 'parameter_estimation',\n",
    "                     ReportName = 'estimations.txt',\n",
    "                     NumberOfSteps = 10,\n",
    "                     Run='false',   #set to true to actually run the estimation\n",
    "                     )\n",
    "\n",
    "\n",
    "## Check the gui\n",
    "os.system('CopasiUI {}'.format(kholodenko_model))"
   ]
  }
 ],
 "metadata": {
  "kernelspec": {
   "display_name": "Python 2",
   "language": "python",
   "name": "python2"
  },
  "language_info": {
   "codemirror_mode": {
    "name": "ipython",
    "version": 2
   },
   "file_extension": ".py",
   "mimetype": "text/x-python",
   "name": "python",
   "nbconvert_exporter": "python",
   "pygments_lexer": "ipython2",
   "version": "2.7.11"
  }
 },
 "nbformat": 4,
 "nbformat_minor": 2
}
