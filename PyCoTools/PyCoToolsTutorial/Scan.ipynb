{
 "cells": [
  {
   "cell_type": "markdown",
   "metadata": {},
   "source": [
    "# Parameter Scan\n",
    "\n",
    "## Get Example Model"
   ]
  },
  {
   "cell_type": "code",
   "execution_count": 1,
   "metadata": {
    "collapsed": false,
    "scrolled": false
   },
   "outputs": [
    {
     "name": "stdout",
     "output_type": "stream",
     "text": [
      "/home/b3053674/Documents/PyCoTools/PyCoTools/PyCoToolsTutorial/Kholodenko.cps\n",
      "True\n"
     ]
    }
   ],
   "source": [
    "%matplotlib inline\n",
    "import os,glob\n",
    "\n",
    "for i in glob.glob('*.cps'):\n",
    "    kholodenko_model= os.path.abspath(i)\n",
    "    \n",
    "print kholodenko_model\n",
    "print os.path.isfile(kholodenko_model)"
   ]
  },
  {
   "cell_type": "markdown",
   "metadata": {},
   "source": [
    "Copasi supports three types of scan: \n",
    "\n",
    "## Parameter Scan\n",
    "Run a subtask with a single parameter being systematically varied "
   ]
  },
  {
   "cell_type": "code",
   "execution_count": 10,
   "metadata": {
    "collapsed": false
   },
   "outputs": [
    {
     "name": "stdout",
     "output_type": "stream",
     "text": [
      "INFO:root:pycopi:3466:defining report\n",
      "    Time    [Mek1-PP]   [Erk2]    [Mos]  [Erk2-P]  [Erk2-PP]     [Mos-P]  \\\n",
      "0   1000  4.93174e-10  107.307  90.9922   182.941    9.75182  0.00782166   \n",
      "1   1000  1.14354e-09  107.281  91.8851   182.968    9.75183   0.0148765   \n",
      "2   1000  1.81943e-09   107.25  92.7781   182.998    9.75183    0.021946   \n",
      "3   1000  2.49617e-09  107.216   93.671   183.032    9.75184     0.02903   \n",
      "4   1000  3.16716e-09  107.179  94.5639   183.069    9.75184   0.0361288   \n",
      "5   1000  3.83158e-09   107.14  95.4568   183.108    9.75185   0.0432422   \n",
      "6   1000  4.49096e-09  107.098  96.3496    183.15    9.75185   0.0503705   \n",
      "7   1000  5.14721e-09  107.055  97.2425   183.194    9.75185   0.0575134   \n",
      "8   1000   5.8019e-09  107.009  98.1353   183.239    9.75186   0.0646711   \n",
      "9   1000  6.45603e-09  106.961  99.0282   183.287    9.75187   0.0718436   \n",
      "10  1000  7.11027e-09  106.912   99.921   183.336    9.75188   0.0790308   \n",
      "11  Time    [Mek1-PP]   [Erk2]    [Mos]  [Erk2-P]  [Erk2-PP]     [Mos-P]   \n",
      "12  1000  4.93174e-10  107.307  90.9922   182.941    9.75182  0.00782166   \n",
      "13  1000  1.14354e-09  107.281  91.8851   182.968    9.75183   0.0148765   \n",
      "14  1000  1.81943e-09   107.25  92.7781   182.998    9.75183    0.021946   \n",
      "15  1000  2.49617e-09  107.216   93.671   183.032    9.75184     0.02903   \n",
      "16  1000  3.16716e-09  107.179  94.5639   183.069    9.75184   0.0361288   \n",
      "17  1000  3.83158e-09   107.14  95.4568   183.108    9.75185   0.0432422   \n",
      "18  1000  4.49096e-09  107.098  96.3496    183.15    9.75185   0.0503705   \n",
      "19  1000  5.14721e-09  107.055  97.2425   183.194    9.75185   0.0575134   \n",
      "20  1000   5.8019e-09  107.009  98.1353   183.239    9.75186   0.0646711   \n",
      "21  1000  6.45603e-09  106.961  99.0282   183.287    9.75187   0.0718436   \n",
      "22  1000  7.11027e-09  106.912   99.921   183.336    9.75188   0.0790308   \n",
      "\n",
      "     [Mek1]  [Mek1-P]  \n",
      "0   211.803   88.1973  \n",
      "1   148.443   151.557  \n",
      "2   100.932   199.068  \n",
      "3   67.6952   232.305  \n",
      "4   45.8599    254.14  \n",
      "5   32.1015   267.899  \n",
      "6    23.512   276.488  \n",
      "7   18.0352   281.965  \n",
      "8   14.4048   285.595  \n",
      "9   11.8903    288.11  \n",
      "10  10.0747   289.925  \n",
      "11   [Mek1]  [Mek1-P]  \n",
      "12  211.803   88.1973  \n",
      "13  148.443   151.557  \n",
      "14  100.932   199.068  \n",
      "15  67.6952   232.305  \n",
      "16  45.8599    254.14  \n",
      "17  32.1015   267.899  \n",
      "18   23.512   276.488  \n",
      "19  18.0352   281.965  \n",
      "20  14.4048   285.595  \n",
      "21  11.8903    288.11  \n",
      "22  10.0747   289.925  \n"
     ]
    }
   ],
   "source": [
    "import PyCoTools\n",
    "import os\n",
    "import pandas\n",
    "\n",
    "S=PyCoTools.pycopi.Scan(kholodenko_model,ScanType = 'scan',\n",
    "                     SubTask = 'time_course',\n",
    "                     ReportType = 'time_course',\n",
    "                     ReportName = 'ParameterScanOfTimeCourse.txt',\n",
    "                     Variable = 'Mos-P',\n",
    "                     Run = 'true',\n",
    "                     Minimum = 1,\n",
    "                     Maximum = 10,\n",
    "                     NumberOfSteps = 10,\n",
    "                     Append='true')\n",
    "\n",
    "\n",
    "print pandas.read_csv(S.kwargs['ReportName'],sep='\\t')"
   ]
  },
  {
   "cell_type": "code",
   "execution_count": null,
   "metadata": {
    "collapsed": true
   },
   "outputs": [],
   "source": []
  },
  {
   "cell_type": "code",
   "execution_count": null,
   "metadata": {
    "collapsed": true
   },
   "outputs": [],
   "source": []
  },
  {
   "cell_type": "code",
   "execution_count": null,
   "metadata": {
    "collapsed": true
   },
   "outputs": [],
   "source": []
  },
  {
   "cell_type": "code",
   "execution_count": null,
   "metadata": {
    "collapsed": true
   },
   "outputs": [],
   "source": []
  },
  {
   "cell_type": "code",
   "execution_count": null,
   "metadata": {
    "collapsed": true
   },
   "outputs": [],
   "source": []
  },
  {
   "cell_type": "code",
   "execution_count": null,
   "metadata": {
    "collapsed": true
   },
   "outputs": [],
   "source": []
  },
  {
   "cell_type": "code",
   "execution_count": null,
   "metadata": {
    "collapsed": true
   },
   "outputs": [],
   "source": []
  },
  {
   "cell_type": "code",
   "execution_count": null,
   "metadata": {
    "collapsed": true
   },
   "outputs": [],
   "source": []
  },
  {
   "cell_type": "code",
   "execution_count": null,
   "metadata": {
    "collapsed": true
   },
   "outputs": [],
   "source": []
  },
  {
   "cell_type": "code",
   "execution_count": null,
   "metadata": {
    "collapsed": true
   },
   "outputs": [],
   "source": []
  },
  {
   "cell_type": "code",
   "execution_count": null,
   "metadata": {
    "collapsed": true
   },
   "outputs": [],
   "source": []
  },
  {
   "cell_type": "code",
   "execution_count": null,
   "metadata": {
    "collapsed": true
   },
   "outputs": [],
   "source": []
  },
  {
   "cell_type": "code",
   "execution_count": null,
   "metadata": {
    "collapsed": true
   },
   "outputs": [],
   "source": []
  },
  {
   "cell_type": "code",
   "execution_count": null,
   "metadata": {
    "collapsed": true
   },
   "outputs": [],
   "source": []
  },
  {
   "cell_type": "code",
   "execution_count": null,
   "metadata": {
    "collapsed": true
   },
   "outputs": [],
   "source": []
  }
 ],
 "metadata": {
  "kernelspec": {
   "display_name": "Python 2",
   "language": "python",
   "name": "python2"
  },
  "language_info": {
   "codemirror_mode": {
    "name": "ipython",
    "version": 2
   },
   "file_extension": ".py",
   "mimetype": "text/x-python",
   "name": "python",
   "nbconvert_exporter": "python",
   "pygments_lexer": "ipython2",
   "version": "2.7.13"
  }
 },
 "nbformat": 4,
 "nbformat_minor": 2
}
