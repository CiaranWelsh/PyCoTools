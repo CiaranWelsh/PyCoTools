{
 "cells": [
  {
   "cell_type": "markdown",
   "metadata": {
    "deletable": true,
    "editable": true
   },
   "source": [
    "# Parameter Scan\n",
    "\n",
    "## Get Example model"
   ]
  },
  {
   "cell_type": "code",
   "execution_count": 1,
   "metadata": {
    "collapsed": false,
    "deletable": true,
    "editable": true,
    "scrolled": false
   },
   "outputs": [
    {
     "name": "stdout",
     "output_type": "stream",
     "text": [
      "C:\\Users\\Ciaran\\Documents\\PyCoTools\\PyCoTools\\PyCoToolsTutorial\\Kholodenko.cps\n",
      "True\n"
     ]
    }
   ],
   "source": [
    "%matplotlib inline\n",
    "import os,glob\n",
    "\n",
    "for i in glob.glob('*.cps'):\n",
    "    kholodenko_model= os.path.abspath(i)\n",
    "    \n",
    "print kholodenko_model\n",
    "print os.path.isfile(kholodenko_model)"
   ]
  },
  {
   "cell_type": "markdown",
   "metadata": {
    "deletable": true,
    "editable": true
   },
   "source": [
    "Copasi supports three types of scan: \n",
    "\n",
    "## Parameter Scan\n",
    "Set up a scan subtask with a single parameter being systematically varied "
   ]
  },
  {
   "cell_type": "code",
   "execution_count": 2,
   "metadata": {
    "collapsed": false,
    "deletable": true,
    "editable": true
   },
   "outputs": [
    {
     "data": {
      "text/plain": [
       "0"
      ]
     },
     "execution_count": 2,
     "metadata": {},
     "output_type": "execute_result"
    }
   ],
   "source": [
    "import PyCoTools\n",
    "import os\n",
    "import pandas\n",
    "\n",
    "S=PyCoTools.pycopi.Scan(kholodenko_model,scan_type = 'scan',\n",
    "                     subtask = 'time_course',\n",
    "                     report_type = 'time_course',\n",
    "                     report_name = 'ParameterScanOfTimeCourse.txt',\n",
    "                     variable = 'Mos-P',\n",
    "                     minimum = 1,\n",
    "                     maximum = 10,\n",
    "                     number_of_steps = 10,\n",
    "                     append='true')\n",
    "\n",
    "## run via the gui\n",
    "os.system('CopasiUI {}'.format(kholodenko_model))"
   ]
  },
  {
   "cell_type": "markdown",
   "metadata": {
    "deletable": true,
    "editable": true
   },
   "source": [
    "## 2 Way Parameter Scan\n",
    "Set clear_scans to false to set up multiple-way parameter scans"
   ]
  },
  {
   "cell_type": "code",
   "execution_count": 3,
   "metadata": {
    "collapsed": false,
    "deletable": true,
    "editable": true
   },
   "outputs": [
    {
     "data": {
      "text/plain": [
       "0"
      ]
     },
     "execution_count": 3,
     "metadata": {},
     "output_type": "execute_result"
    }
   ],
   "source": [
    "import PyCoTools\n",
    "import os\n",
    "import pandas\n",
    "\n",
    "S=PyCoTools.pycopi.Scan(kholodenko_model,scan_type = 'scan',\n",
    "                     subtask = 'time_course',\n",
    "                     report_type = 'time_course',\n",
    "                     report_name = 'ParameterScanOfTimeCourse.txt',\n",
    "                     variable = 'Mos-P',\n",
    "                     minimum = 1,\n",
    "                     maximum = 10,\n",
    "                     number_of_steps = 10,\n",
    "                     )\n",
    "\n",
    "S2=PyCoTools.pycopi.Scan(kholodenko_model,scan_type = 'scan',\n",
    "                     subtask = 'time_course',\n",
    "                     report_type = 'time_course',\n",
    "                     report_name = 'ParameterScanOfTimeCourse.txt',\n",
    "                     variable = 'Mek1-P',\n",
    "                     minimum = 1,\n",
    "                     maximum = 10,\n",
    "                     number_of_steps = 10,\n",
    "                     clear_scans='false')\n",
    "\n",
    "\n",
    "## run via the gui\n",
    "os.system('CopasiUI {}'.format(kholodenko_model))"
   ]
  },
  {
   "cell_type": "markdown",
   "metadata": {
    "deletable": true,
    "editable": true
   },
   "source": [
    "## Repeat Scan Items\n",
    "Useful for running multiple parameter estimations (however the ParameterEstimation task needs to be setup first)"
   ]
  },
  {
   "cell_type": "code",
   "execution_count": 4,
   "metadata": {
    "collapsed": false,
    "deletable": true,
    "editable": true
   },
   "outputs": [
    {
     "data": {
      "text/plain": [
       "0"
      ]
     },
     "execution_count": 4,
     "metadata": {},
     "output_type": "execute_result"
    }
   ],
   "source": [
    "S=PyCoTools.pycopi.Scan(kholodenko_model,scan_type = 'repeat',\n",
    "                     subtask = 'parameter_estimation', \n",
    "                     report_type = 'parameter_estimation',\n",
    "                     report_name = 'estimations.txt',\n",
    "                     number_of_steps = 10,\n",
    "                     run='false',   #set to true to actually run the estimation\n",
    "                     )\n",
    "\n",
    "\n",
    "## Check the gui\n",
    "os.system('CopasiUI {}'.format(kholodenko_model))"
   ]
  }
 ],
 "metadata": {
  "kernelspec": {
   "display_name": "Python 2",
   "language": "python",
   "name": "python2"
  },
  "language_info": {
   "codemirror_mode": {
    "name": "ipython",
    "version": 2
   },
   "file_extension": ".py",
   "mimetype": "text/x-python",
   "name": "python",
   "nbconvert_exporter": "python",
   "pygments_lexer": "ipython2",
   "version": "2.7.13"
  }
 },
 "nbformat": 4,
 "nbformat_minor": 2
}
