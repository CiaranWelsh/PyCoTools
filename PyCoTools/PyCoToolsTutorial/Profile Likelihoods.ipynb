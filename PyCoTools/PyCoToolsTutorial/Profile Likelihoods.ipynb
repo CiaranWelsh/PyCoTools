{
 "cells": [
  {
   "cell_type": "markdown",
   "metadata": {
    "collapsed": true,
    "deletable": true,
    "editable": true
   },
   "source": [
    "# `Pydentify2`: Profile Likelihoods"
   ]
  },
  {
   "cell_type": "markdown",
   "metadata": {
    "collapsed": true,
    "deletable": true,
    "editable": true
   },
   "source": [
    "Profile likelihoods are an extremely useful method of assessing a models identifiability status (Raue et al., 2009). This method (along with a number of other useful modelling tools) is impemented in a package called Data2Dynamics (Raue et al., 2015) by the group that first used profile likelihoods in systems biology. COPASI users can also calculate profile likelihoods (Schaber, 2012). The `Pydentify2` module automates Schabers method while extending it to include calculation of profile likelihoods around multiple and an arbitrary number of parameter sets. A `plot` class is also provided for easy visualization and calculation of confidence levels. \n",
    "\n",
    "Since it can take some time to run a profile likelihood analysis, examples of a pre-run analysis can be downloaded from the [PyCoTools repository](https://github.com/CiaranWelsh/PyCoTools/tree/master/PyCoTools/Examples/KholodenkoExample/ProfileLikelihood) for the Kholodenko2000 model around the top three parameter sets. \n",
    "\n",
    "# Get model"
   ]
  },
  {
   "cell_type": "code",
   "execution_count": 1,
   "metadata": {
    "collapsed": false
   },
   "outputs": [
    {
     "name": "stdout",
     "output_type": "stream",
     "text": [
      "/home/b3053674/Documents/PyCoTools/PyCoTools/PyCoToolsTutorial/Kholodenko.cps\n",
      "True\n"
     ]
    }
   ],
   "source": [
    "%matplotlib inline\n",
    "import os,glob\n",
    "\n",
    "for i in glob.glob('*Kholodenko.cps'):\n",
    "    kholodenko_model= os.path.abspath(i)\n",
    "    \n",
    "print kholodenko_model\n",
    "print os.path.isfile(kholodenko_model)"
   ]
  },
  {
   "cell_type": "markdown",
   "metadata": {},
   "source": [
    "# Set up prerequisites for Profile Likelihoods\n",
    "In order to run profile likelihood analysis you must have already found what you think is the global minimum for your data and model. For this demonstration, lets produce some synthetic data for the kholodenko model. "
   ]
  },
  {
   "cell_type": "code",
   "execution_count": 2,
   "metadata": {
    "collapsed": false
   },
   "outputs": [
    {
<<<<<<< HEAD
     "name": "stdout",
     "output_type": "stream",
     "text": [
      "INFO:root:__init__:26:Initializing PyCoTools\n",
      "INFO:root:__init__:27:Initializing Logging System\n",
      "INFO:root:__init__:28:logging config file at: /home/b3053674/Documents/PyCoTools/PyCoTools/logging_config.conf\n"
=======
     "ename": "ImportError",
     "evalue": "No module named PyCoTools",
     "output_type": "error",
     "traceback": [
      "\u001b[0;31m---------------------------------------------------------------------------\u001b[0m",
      "\u001b[0;31mImportError\u001b[0m                               Traceback (most recent call last)",
      "\u001b[0;32m<ipython-input-3-94e7233f8f16>\u001b[0m in \u001b[0;36m<module>\u001b[0;34m()\u001b[0m\n\u001b[0;32m----> 1\u001b[0;31m \u001b[0;32mimport\u001b[0m \u001b[0mPyCoTools\u001b[0m\u001b[0;34m\u001b[0m\u001b[0m\n\u001b[0m\u001b[1;32m      2\u001b[0m \u001b[0;32mimport\u001b[0m \u001b[0mos\u001b[0m\u001b[0;34m\u001b[0m\u001b[0m\n\u001b[1;32m      3\u001b[0m \u001b[0;31m## run Time course\u001b[0m\u001b[0;34m\u001b[0m\u001b[0;34m\u001b[0m\u001b[0m\n\u001b[1;32m      4\u001b[0m \u001b[0;31m# data_path = PyCo\u001b[0m\u001b[0;34m\u001b[0m\u001b[0;34m\u001b[0m\u001b[0m\n",
      "\u001b[0;31mImportError\u001b[0m: No module named PyCoTools"
>>>>>>> b5251ac39e0e966dfceb851ff97bd2f79e887bd0
     ]
    }
   ],
   "source": [
    "import site\n",
    "site.addsitedir('/home/b3053674/Documents/PyCoTools')\n",
    "import PyCoTools\n",
    "import os\n",
    "## run Time course\n",
    "# data_path = PyCo"
   ]
  },
  {
   "cell_type": "code",
   "execution_count": null,
   "metadata": {
    "collapsed": true
   },
   "outputs": [],
   "source": []
  },
  {
   "cell_type": "code",
   "execution_count": null,
   "metadata": {
    "collapsed": true
   },
   "outputs": [],
   "source": []
  },
  {
   "cell_type": "code",
   "execution_count": null,
   "metadata": {
    "collapsed": true
   },
   "outputs": [],
   "source": []
  },
  {
   "cell_type": "markdown",
   "metadata": {
    "deletable": true,
    "editable": true
   },
   "source": [
    "## Profile Likelihoods Around Current Point in Parameter Space"
   ]
  },
  {
   "cell_type": "markdown",
   "metadata": {
    "deletable": true,
    "editable": true
   },
   "source": [
    "Use the `ProfileLikelihood` class with the relevant optional arguments. "
   ]
  },
  {
   "cell_type": "code",
   "execution_count": 3,
   "metadata": {
    "ExecuteTime": {
     "end_time": "2017-02-20T18:06:47.282000",
     "start_time": "2017-02-20T18:03:43.719Z"
    },
    "collapsed": false,
    "deletable": true,
    "editable": true
   },
   "outputs": [
    {
     "name": "stdout",
     "output_type": "stream",
     "text": [
      "DEBUG:PyCoTools.pycopi:pycopi:108:copasi file Kholodenko.cps has been parsed into Python\n",
      "DEBUG:PyCoTools.pycopi:pycopi:108:copasi file Kholodenko.cps has been parsed into Python\n",
      "DEBUG:PyCoTools.pycopi:pycopi:108:copasi file (phosphorylation_of_MAPKK).KK3.cps has been parsed into Python\n",
      "DEBUG:PyCoTools.pycopi:pycopi:108:copasi file (phosphorylation_of_MAPKK).KK3.cps has been parsed into Python\n",
      "DEBUG:PyCoTools.pycopi:pycopi:1052:created a 'profile_likelihod' type report\n",
      "DEBUG:PyCoTools.pycopi:pycopi:120:Model written to /home/b3053674/Documents/PyCoTools/PyCoTools/PyCoToolsTutorial/ProfileLikelihood/-1/(phosphorylation_of_MAPKK).KK3.cps\n",
      "DEBUG:PyCoTools.pycopi:pycopi:108:copasi file (MAPKKK_activation).K1.cps has been parsed into Python\n",
      "DEBUG:PyCoTools.pycopi:pycopi:108:copasi file (MAPKKK_activation).K1.cps has been parsed into Python\n",
      "DEBUG:PyCoTools.pycopi:pycopi:1052:created a 'profile_likelihod' type report\n",
      "DEBUG:PyCoTools.pycopi:pycopi:120:Model written to /home/b3053674/Documents/PyCoTools/PyCoTools/PyCoToolsTutorial/ProfileLikelihood/-1/(MAPKKK_activation).K1.cps\n",
      "DEBUG:PyCoTools.pycopi:pycopi:108:copasi file Erk2-P.cps has been parsed into Python\n",
      "DEBUG:PyCoTools.pycopi:pycopi:108:copasi file Erk2-P.cps has been parsed into Python\n",
      "DEBUG:PyCoTools.pycopi:pycopi:1052:created a 'profile_likelihod' type report\n",
      "DEBUG:PyCoTools.pycopi:pycopi:120:Model written to /home/b3053674/Documents/PyCoTools/PyCoTools/PyCoToolsTutorial/ProfileLikelihood/-1/Erk2-P.cps\n",
      "DEBUG:PyCoTools.pycopi:pycopi:108:copasi file (dephosphorylation_of_MAPK-PP).V9.cps has been parsed into Python\n",
      "DEBUG:PyCoTools.pycopi:pycopi:108:copasi file (dephosphorylation_of_MAPK-PP).V9.cps has been parsed into Python\n",
      "DEBUG:PyCoTools.pycopi:pycopi:1052:created a 'profile_likelihod' type report\n",
      "DEBUG:PyCoTools.pycopi:pycopi:120:Model written to /home/b3053674/Documents/PyCoTools/PyCoTools/PyCoToolsTutorial/ProfileLikelihood/-1/(dephosphorylation_of_MAPK-PP).V9.cps\n",
      "DEBUG:PyCoTools.pycopi:pycopi:108:copasi file Mos-P.cps has been parsed into Python\n",
      "DEBUG:PyCoTools.pycopi:pycopi:108:copasi file Mos-P.cps has been parsed into Python\n",
      "DEBUG:PyCoTools.pycopi:pycopi:1052:created a 'profile_likelihod' type report\n",
      "DEBUG:PyCoTools.pycopi:pycopi:120:Model written to /home/b3053674/Documents/PyCoTools/PyCoTools/PyCoToolsTutorial/ProfileLikelihood/-1/Mos-P.cps\n",
      "DEBUG:PyCoTools.pycopi:pycopi:108:copasi file (phosphorylation_of_MAPK).k7.cps has been parsed into Python\n",
      "DEBUG:PyCoTools.pycopi:pycopi:108:copasi file (phosphorylation_of_MAPK).k7.cps has been parsed into Python\n",
      "DEBUG:PyCoTools.pycopi:pycopi:1052:created a 'profile_likelihod' type report\n",
      "DEBUG:PyCoTools.pycopi:pycopi:120:Model written to /home/b3053674/Documents/PyCoTools/PyCoTools/PyCoToolsTutorial/ProfileLikelihood/-1/(phosphorylation_of_MAPK).k7.cps\n",
      "DEBUG:PyCoTools.pycopi:pycopi:108:copasi file (phosphorylation_of_MAPK-P).k8.cps has been parsed into Python\n",
      "DEBUG:PyCoTools.pycopi:pycopi:108:copasi file (phosphorylation_of_MAPK-P).k8.cps has been parsed into Python\n",
      "DEBUG:PyCoTools.pycopi:pycopi:1052:created a 'profile_likelihod' type report\n",
      "DEBUG:PyCoTools.pycopi:pycopi:120:Model written to /home/b3053674/Documents/PyCoTools/PyCoTools/PyCoToolsTutorial/ProfileLikelihood/-1/(phosphorylation_of_MAPK-P).k8.cps\n",
      "DEBUG:PyCoTools.pycopi:pycopi:108:copasi file (MAPKKK_inactivation).KK2.cps has been parsed into Python\n",
      "DEBUG:PyCoTools.pycopi:pycopi:108:copasi file (MAPKKK_inactivation).KK2.cps has been parsed into Python\n",
      "DEBUG:PyCoTools.pycopi:pycopi:1052:created a 'profile_likelihod' type report\n",
      "DEBUG:PyCoTools.pycopi:pycopi:120:Model written to /home/b3053674/Documents/PyCoTools/PyCoTools/PyCoToolsTutorial/ProfileLikelihood/-1/(MAPKKK_inactivation).KK2.cps\n",
      "DEBUG:PyCoTools.pycopi:pycopi:108:copasi file (MAPKKK_inactivation).V2.cps has been parsed into Python\n",
      "DEBUG:PyCoTools.pycopi:pycopi:108:copasi file (MAPKKK_inactivation).V2.cps has been parsed into Python\n",
      "DEBUG:PyCoTools.pycopi:pycopi:1052:created a 'profile_likelihod' type report\n",
      "DEBUG:PyCoTools.pycopi:pycopi:120:Model written to /home/b3053674/Documents/PyCoTools/PyCoTools/PyCoToolsTutorial/ProfileLikelihood/-1/(MAPKKK_inactivation).V2.cps\n",
      "DEBUG:PyCoTools.pycopi:pycopi:108:copasi file Mos.cps has been parsed into Python\n",
      "DEBUG:PyCoTools.pycopi:pycopi:108:copasi file Mos.cps has been parsed into Python\n",
      "DEBUG:PyCoTools.pycopi:pycopi:1052:created a 'profile_likelihod' type report\n",
      "DEBUG:PyCoTools.pycopi:pycopi:120:Model written to /home/b3053674/Documents/PyCoTools/PyCoTools/PyCoToolsTutorial/ProfileLikelihood/-1/Mos.cps\n",
      "DEBUG:PyCoTools.pycopi:pycopi:108:copasi file Erk2-PP.cps has been parsed into Python\n",
      "DEBUG:PyCoTools.pycopi:pycopi:108:copasi file Erk2-PP.cps has been parsed into Python\n",
      "DEBUG:PyCoTools.pycopi:pycopi:1052:created a 'profile_likelihod' type report\n",
      "DEBUG:PyCoTools.pycopi:pycopi:120:Model written to /home/b3053674/Documents/PyCoTools/PyCoTools/PyCoToolsTutorial/ProfileLikelihood/-1/Erk2-PP.cps\n",
      "DEBUG:PyCoTools.pycopi:pycopi:108:copasi file (phosphorylation_of_MAPKK).k3.cps has been parsed into Python\n",
      "DEBUG:PyCoTools.pycopi:pycopi:108:copasi file (phosphorylation_of_MAPKK).k3.cps has been parsed into Python\n",
      "DEBUG:PyCoTools.pycopi:pycopi:1052:created a 'profile_likelihod' type report\n",
      "DEBUG:PyCoTools.pycopi:pycopi:120:Model written to /home/b3053674/Documents/PyCoTools/PyCoTools/PyCoToolsTutorial/ProfileLikelihood/-1/(phosphorylation_of_MAPKK).k3.cps\n",
      "DEBUG:PyCoTools.pycopi:pycopi:108:copasi file (phosphorylation_of_MAPKK-P).k4.cps has been parsed into Python\n",
      "DEBUG:PyCoTools.pycopi:pycopi:108:copasi file (phosphorylation_of_MAPKK-P).k4.cps has been parsed into Python\n",
      "DEBUG:PyCoTools.pycopi:pycopi:1052:created a 'profile_likelihod' type report\n",
      "DEBUG:PyCoTools.pycopi:pycopi:120:Model written to /home/b3053674/Documents/PyCoTools/PyCoTools/PyCoToolsTutorial/ProfileLikelihood/-1/(phosphorylation_of_MAPKK-P).k4.cps\n",
      "DEBUG:PyCoTools.pycopi:pycopi:108:copasi file (dephosphorylation_of_MAPKK-PP).KK5.cps has been parsed into Python\n",
      "DEBUG:PyCoTools.pycopi:pycopi:108:copasi file (dephosphorylation_of_MAPKK-PP).KK5.cps has been parsed into Python\n",
      "DEBUG:PyCoTools.pycopi:pycopi:1052:created a 'profile_likelihod' type report\n",
      "DEBUG:PyCoTools.pycopi:pycopi:120:Model written to /home/b3053674/Documents/PyCoTools/PyCoTools/PyCoToolsTutorial/ProfileLikelihood/-1/(dephosphorylation_of_MAPKK-PP).KK5.cps\n",
      "DEBUG:PyCoTools.pycopi:pycopi:108:copasi file (phosphorylation_of_MAPK-P).KK8.cps has been parsed into Python\n",
      "DEBUG:PyCoTools.pycopi:pycopi:108:copasi file (phosphorylation_of_MAPK-P).KK8.cps has been parsed into Python\n",
      "DEBUG:PyCoTools.pycopi:pycopi:1052:created a 'profile_likelihod' type report\n",
      "DEBUG:PyCoTools.pycopi:pycopi:120:Model written to /home/b3053674/Documents/PyCoTools/PyCoTools/PyCoToolsTutorial/ProfileLikelihood/-1/(phosphorylation_of_MAPK-P).KK8.cps\n",
      "DEBUG:PyCoTools.pycopi:pycopi:108:copasi file (dephosphorylation_of_MAPK-PP).KK9.cps has been parsed into Python\n",
      "DEBUG:PyCoTools.pycopi:pycopi:108:copasi file (dephosphorylation_of_MAPK-PP).KK9.cps has been parsed into Python\n",
      "DEBUG:PyCoTools.pycopi:pycopi:1052:created a 'profile_likelihod' type report\n",
      "DEBUG:PyCoTools.pycopi:pycopi:120:Model written to /home/b3053674/Documents/PyCoTools/PyCoTools/PyCoToolsTutorial/ProfileLikelihood/-1/(dephosphorylation_of_MAPK-PP).KK9.cps\n",
      "DEBUG:PyCoTools.pycopi:pycopi:108:copasi file (dephosphorylation_of_MAPKK-P).KK6.cps has been parsed into Python\n",
      "DEBUG:PyCoTools.pycopi:pycopi:108:copasi file (dephosphorylation_of_MAPKK-P).KK6.cps has been parsed into Python\n",
      "DEBUG:PyCoTools.pycopi:pycopi:1052:created a 'profile_likelihod' type report\n",
      "DEBUG:PyCoTools.pycopi:pycopi:120:Model written to /home/b3053674/Documents/PyCoTools/PyCoTools/PyCoToolsTutorial/ProfileLikelihood/-1/(dephosphorylation_of_MAPKK-P).KK6.cps\n",
      "DEBUG:PyCoTools.pycopi:pycopi:108:copasi file (phosphorylation_of_MAPKK-P).KK4.cps has been parsed into Python\n",
      "DEBUG:PyCoTools.pycopi:pycopi:108:copasi file (phosphorylation_of_MAPKK-P).KK4.cps has been parsed into Python\n",
      "DEBUG:PyCoTools.pycopi:pycopi:1052:created a 'profile_likelihod' type report\n",
      "DEBUG:PyCoTools.pycopi:pycopi:120:Model written to /home/b3053674/Documents/PyCoTools/PyCoTools/PyCoToolsTutorial/ProfileLikelihood/-1/(phosphorylation_of_MAPKK-P).KK4.cps\n",
      "DEBUG:PyCoTools.pycopi:pycopi:108:copasi file Erk2.cps has been parsed into Python\n",
      "DEBUG:PyCoTools.pycopi:pycopi:108:copasi file Erk2.cps has been parsed into Python\n",
      "DEBUG:PyCoTools.pycopi:pycopi:1052:created a 'profile_likelihod' type report\n",
      "DEBUG:PyCoTools.pycopi:pycopi:120:Model written to /home/b3053674/Documents/PyCoTools/PyCoTools/PyCoToolsTutorial/ProfileLikelihood/-1/Erk2.cps\n",
      "DEBUG:PyCoTools.pycopi:pycopi:108:copasi file (MAPKKK_activation).V1.cps has been parsed into Python\n",
      "DEBUG:PyCoTools.pycopi:pycopi:108:copasi file (MAPKKK_activation).V1.cps has been parsed into Python\n",
      "DEBUG:PyCoTools.pycopi:pycopi:1052:created a 'profile_likelihod' type report\n",
      "DEBUG:PyCoTools.pycopi:pycopi:120:Model written to /home/b3053674/Documents/PyCoTools/PyCoTools/PyCoToolsTutorial/ProfileLikelihood/-1/(MAPKKK_activation).V1.cps\n",
      "DEBUG:PyCoTools.pycopi:pycopi:108:copasi file (MAPKKK_activation).Ki.cps has been parsed into Python\n",
      "DEBUG:PyCoTools.pycopi:pycopi:108:copasi file (MAPKKK_activation).Ki.cps has been parsed into Python\n",
      "DEBUG:PyCoTools.pycopi:pycopi:1052:created a 'profile_likelihod' type report\n",
      "DEBUG:PyCoTools.pycopi:pycopi:120:Model written to /home/b3053674/Documents/PyCoTools/PyCoTools/PyCoToolsTutorial/ProfileLikelihood/-1/(MAPKKK_activation).Ki.cps\n",
      "DEBUG:PyCoTools.pycopi:pycopi:108:copasi file (phosphorylation_of_MAPK).KK7.cps has been parsed into Python\n",
      "DEBUG:PyCoTools.pycopi:pycopi:108:copasi file (phosphorylation_of_MAPK).KK7.cps has been parsed into Python\n",
      "DEBUG:PyCoTools.pycopi:pycopi:1052:created a 'profile_likelihod' type report\n",
      "DEBUG:PyCoTools.pycopi:pycopi:120:Model written to /home/b3053674/Documents/PyCoTools/PyCoTools/PyCoToolsTutorial/ProfileLikelihood/-1/(phosphorylation_of_MAPK).KK7.cps\n",
      "DEBUG:PyCoTools.pycopi:pycopi:108:copasi file (dephosphorylation_of_MAPK-P).KK10.cps has been parsed into Python\n",
      "DEBUG:PyCoTools.pycopi:pycopi:108:copasi file (dephosphorylation_of_MAPK-P).KK10.cps has been parsed into Python\n",
      "DEBUG:PyCoTools.pycopi:pycopi:1052:created a 'profile_likelihod' type report\n",
      "DEBUG:PyCoTools.pycopi:pycopi:120:Model written to /home/b3053674/Documents/PyCoTools/PyCoTools/PyCoToolsTutorial/ProfileLikelihood/-1/(dephosphorylation_of_MAPK-P).KK10.cps\n",
      "DEBUG:PyCoTools.pycopi:pycopi:108:copasi file Mek1-PP.cps has been parsed into Python\n",
      "DEBUG:PyCoTools.pycopi:pycopi:108:copasi file Mek1-PP.cps has been parsed into Python\n",
      "DEBUG:PyCoTools.pycopi:pycopi:1052:created a 'profile_likelihod' type report\n",
      "DEBUG:PyCoTools.pycopi:pycopi:120:Model written to /home/b3053674/Documents/PyCoTools/PyCoTools/PyCoToolsTutorial/ProfileLikelihood/-1/Mek1-PP.cps\n",
      "DEBUG:PyCoTools.pycopi:pycopi:108:copasi file (dephosphorylation_of_MAPKK-PP).V5.cps has been parsed into Python\n",
      "DEBUG:PyCoTools.pycopi:pycopi:108:copasi file (dephosphorylation_of_MAPKK-PP).V5.cps has been parsed into Python\n",
      "DEBUG:PyCoTools.pycopi:pycopi:1052:created a 'profile_likelihod' type report\n",
      "DEBUG:PyCoTools.pycopi:pycopi:120:Model written to /home/b3053674/Documents/PyCoTools/PyCoTools/PyCoToolsTutorial/ProfileLikelihood/-1/(dephosphorylation_of_MAPKK-PP).V5.cps\n",
      "DEBUG:PyCoTools.pycopi:pycopi:108:copasi file (dephosphorylation_of_MAPK-P).V10.cps has been parsed into Python\n",
      "DEBUG:PyCoTools.pycopi:pycopi:108:copasi file (dephosphorylation_of_MAPK-P).V10.cps has been parsed into Python\n",
      "DEBUG:PyCoTools.pycopi:pycopi:1052:created a 'profile_likelihod' type report\n",
      "DEBUG:PyCoTools.pycopi:pycopi:120:Model written to /home/b3053674/Documents/PyCoTools/PyCoTools/PyCoToolsTutorial/ProfileLikelihood/-1/(dephosphorylation_of_MAPK-P).V10.cps\n",
      "DEBUG:PyCoTools.pycopi:pycopi:108:copasi file Mek1.cps has been parsed into Python\n",
      "DEBUG:PyCoTools.pycopi:pycopi:108:copasi file Mek1.cps has been parsed into Python\n",
      "DEBUG:PyCoTools.pycopi:pycopi:1052:created a 'profile_likelihod' type report\n",
      "DEBUG:PyCoTools.pycopi:pycopi:120:Model written to /home/b3053674/Documents/PyCoTools/PyCoTools/PyCoToolsTutorial/ProfileLikelihood/-1/Mek1.cps\n",
      "DEBUG:PyCoTools.pycopi:pycopi:108:copasi file Mek1-P.cps has been parsed into Python\n",
      "DEBUG:PyCoTools.pycopi:pycopi:108:copasi file Mek1-P.cps has been parsed into Python\n",
      "DEBUG:PyCoTools.pycopi:pycopi:1052:created a 'profile_likelihod' type report\n",
      "DEBUG:PyCoTools.pycopi:pycopi:120:Model written to /home/b3053674/Documents/PyCoTools/PyCoTools/PyCoToolsTutorial/ProfileLikelihood/-1/Mek1-P.cps\n",
      "DEBUG:PyCoTools.pycopi:pycopi:108:copasi file (dephosphorylation_of_MAPKK-P).V6.cps has been parsed into Python\n",
      "DEBUG:PyCoTools.pycopi:pycopi:108:copasi file (dephosphorylation_of_MAPKK-P).V6.cps has been parsed into Python\n",
      "DEBUG:PyCoTools.pycopi:pycopi:1052:created a 'profile_likelihod' type report\n",
      "DEBUG:PyCoTools.pycopi:pycopi:120:Model written to /home/b3053674/Documents/PyCoTools/PyCoTools/PyCoToolsTutorial/ProfileLikelihood/-1/(dephosphorylation_of_MAPKK-P).V6.cps\n",
      "DEBUG:PyCoTools.pycopi:pycopi:108:copasi file (MAPKKK_activation).n.cps has been parsed into Python\n",
      "DEBUG:PyCoTools.pycopi:pycopi:108:copasi file (MAPKKK_activation).n.cps has been parsed into Python\n",
      "DEBUG:PyCoTools.pycopi:pycopi:1052:created a 'profile_likelihod' type report\n",
      "DEBUG:PyCoTools.pycopi:pycopi:120:Model written to /home/b3053674/Documents/PyCoTools/PyCoTools/PyCoToolsTutorial/ProfileLikelihood/-1/(MAPKKK_activation).n.cps\n",
      "DEBUG:PyCoTools.pycopi:pycopi:108:copasi file (phosphorylation_of_MAPKK).KK3.cps has been parsed into Python\n",
      "DEBUG:PyCoTools.pycopi:pycopi:108:copasi file (phosphorylation_of_MAPKK).KK3.cps has been parsed into Python\n",
      "DEBUG:PyCoTools.pycopi:pycopi:108:copasi file (phosphorylation_of_MAPKK).KK3.cps has been parsed into Python\n",
      "DEBUG:PyCoTools.pycopi:pycopi:120:Model written to /home/b3053674/Documents/PyCoTools/PyCoTools/PyCoToolsTutorial/ProfileLikelihood/-1/(phosphorylation_of_MAPKK).KK3.cps\n",
      "INFO:root:pycopi:3518:defining report\n",
      "DEBUG:PyCoTools.pycopi:pycopi:108:copasi file (phosphorylation_of_MAPKK).KK3.cps has been parsed into Python\n",
      "DEBUG:PyCoTools.pycopi:pycopi:108:copasi file (phosphorylation_of_MAPKK).KK3.cps has been parsed into Python\n",
      "DEBUG:PyCoTools.pycopi:pycopi:1052:created a 'profile_likelihod' type report\n",
      "DEBUG:PyCoTools.pycopi:pycopi:120:Model written to /home/b3053674/Documents/PyCoTools/PyCoTools/PyCoToolsTutorial/ProfileLikelihood/-1/(phosphorylation_of_MAPKK).KK3.cps\n",
      "DEBUG:PyCoTools.pycopi:pycopi:120:Model written to /home/b3053674/Documents/PyCoTools/PyCoTools/PyCoToolsTutorial/ProfileLikelihood/-1/(phosphorylation_of_MAPKK).KK3.cps\n",
      "DEBUG:PyCoTools.pycopi:pycopi:108:copasi file (phosphorylation_of_MAPKK).KK3.cps has been parsed into Python\n",
      "DEBUG:PyCoTools.pycopi:pycopi:108:copasi file (phosphorylation_of_MAPKK).KK3.cps has been parsed into Python\n",
      "DEBUG:PyCoTools.pycopi:pycopi:120:Model written to /home/b3053674/Documents/PyCoTools/PyCoTools/PyCoToolsTutorial/ProfileLikelihood/-1/(phosphorylation_of_MAPKK).KK3.cps\n",
      "DEBUG:PyCoTools.pycopi:pycopi:108:copasi file (MAPKKK_activation).K1.cps has been parsed into Python\n",
      "DEBUG:PyCoTools.pycopi:pycopi:108:copasi file (MAPKKK_activation).K1.cps has been parsed into Python\n",
      "DEBUG:PyCoTools.pycopi:pycopi:108:copasi file (MAPKKK_activation).K1.cps has been parsed into Python\n",
      "DEBUG:PyCoTools.pycopi:pycopi:120:Model written to /home/b3053674/Documents/PyCoTools/PyCoTools/PyCoToolsTutorial/ProfileLikelihood/-1/(MAPKKK_activation).K1.cps\n",
      "INFO:root:pycopi:3518:defining report\n",
      "DEBUG:PyCoTools.pycopi:pycopi:108:copasi file (MAPKKK_activation).K1.cps has been parsed into Python\n",
      "DEBUG:PyCoTools.pycopi:pycopi:108:copasi file (MAPKKK_activation).K1.cps has been parsed into Python\n",
      "DEBUG:PyCoTools.pycopi:pycopi:1052:created a 'profile_likelihod' type report\n",
      "DEBUG:PyCoTools.pycopi:pycopi:120:Model written to /home/b3053674/Documents/PyCoTools/PyCoTools/PyCoToolsTutorial/ProfileLikelihood/-1/(MAPKKK_activation).K1.cps\n",
      "DEBUG:PyCoTools.pycopi:pycopi:120:Model written to /home/b3053674/Documents/PyCoTools/PyCoTools/PyCoToolsTutorial/ProfileLikelihood/-1/(MAPKKK_activation).K1.cps\n",
      "DEBUG:PyCoTools.pycopi:pycopi:108:copasi file (MAPKKK_activation).K1.cps has been parsed into Python\n",
      "DEBUG:PyCoTools.pycopi:pycopi:108:copasi file (MAPKKK_activation).K1.cps has been parsed into Python\n",
      "DEBUG:PyCoTools.pycopi:pycopi:120:Model written to /home/b3053674/Documents/PyCoTools/PyCoTools/PyCoToolsTutorial/ProfileLikelihood/-1/(MAPKKK_activation).K1.cps\n",
      "DEBUG:PyCoTools.pycopi:pycopi:108:copasi file Erk2-P.cps has been parsed into Python\n",
      "DEBUG:PyCoTools.pycopi:pycopi:108:copasi file Erk2-P.cps has been parsed into Python\n",
      "DEBUG:PyCoTools.pycopi:pycopi:108:copasi file Erk2-P.cps has been parsed into Python\n",
      "DEBUG:PyCoTools.pycopi:pycopi:120:Model written to /home/b3053674/Documents/PyCoTools/PyCoTools/PyCoToolsTutorial/ProfileLikelihood/-1/Erk2-P.cps\n",
      "INFO:root:pycopi:3518:defining report\n",
      "DEBUG:PyCoTools.pycopi:pycopi:108:copasi file Erk2-P.cps has been parsed into Python\n",
      "DEBUG:PyCoTools.pycopi:pycopi:108:copasi file Erk2-P.cps has been parsed into Python\n",
      "DEBUG:PyCoTools.pycopi:pycopi:1052:created a 'profile_likelihod' type report\n",
      "DEBUG:PyCoTools.pycopi:pycopi:120:Model written to /home/b3053674/Documents/PyCoTools/PyCoTools/PyCoToolsTutorial/ProfileLikelihood/-1/Erk2-P.cps\n",
      "DEBUG:PyCoTools.pycopi:pycopi:120:Model written to /home/b3053674/Documents/PyCoTools/PyCoTools/PyCoToolsTutorial/ProfileLikelihood/-1/Erk2-P.cps\n",
      "DEBUG:PyCoTools.pycopi:pycopi:108:copasi file Erk2-P.cps has been parsed into Python\n",
      "DEBUG:PyCoTools.pycopi:pycopi:108:copasi file Erk2-P.cps has been parsed into Python\n",
      "DEBUG:PyCoTools.pycopi:pycopi:120:Model written to /home/b3053674/Documents/PyCoTools/PyCoTools/PyCoToolsTutorial/ProfileLikelihood/-1/Erk2-P.cps\n",
      "DEBUG:PyCoTools.pycopi:pycopi:108:copasi file (dephosphorylation_of_MAPK-PP).V9.cps has been parsed into Python\n",
      "DEBUG:PyCoTools.pycopi:pycopi:108:copasi file (dephosphorylation_of_MAPK-PP).V9.cps has been parsed into Python\n",
      "DEBUG:PyCoTools.pycopi:pycopi:108:copasi file (dephosphorylation_of_MAPK-PP).V9.cps has been parsed into Python\n",
      "DEBUG:PyCoTools.pycopi:pycopi:120:Model written to /home/b3053674/Documents/PyCoTools/PyCoTools/PyCoToolsTutorial/ProfileLikelihood/-1/(dephosphorylation_of_MAPK-PP).V9.cps\n",
      "INFO:root:pycopi:3518:defining report\n",
      "DEBUG:PyCoTools.pycopi:pycopi:108:copasi file (dephosphorylation_of_MAPK-PP).V9.cps has been parsed into Python\n",
      "DEBUG:PyCoTools.pycopi:pycopi:108:copasi file (dephosphorylation_of_MAPK-PP).V9.cps has been parsed into Python\n",
      "DEBUG:PyCoTools.pycopi:pycopi:1052:created a 'profile_likelihod' type report\n",
      "DEBUG:PyCoTools.pycopi:pycopi:120:Model written to /home/b3053674/Documents/PyCoTools/PyCoTools/PyCoToolsTutorial/ProfileLikelihood/-1/(dephosphorylation_of_MAPK-PP).V9.cps\n",
      "DEBUG:PyCoTools.pycopi:pycopi:120:Model written to /home/b3053674/Documents/PyCoTools/PyCoTools/PyCoToolsTutorial/ProfileLikelihood/-1/(dephosphorylation_of_MAPK-PP).V9.cps\n",
      "DEBUG:PyCoTools.pycopi:pycopi:108:copasi file (dephosphorylation_of_MAPK-PP).V9.cps has been parsed into Python\n",
      "DEBUG:PyCoTools.pycopi:pycopi:108:copasi file (dephosphorylation_of_MAPK-PP).V9.cps has been parsed into Python\n",
      "DEBUG:PyCoTools.pycopi:pycopi:120:Model written to /home/b3053674/Documents/PyCoTools/PyCoTools/PyCoToolsTutorial/ProfileLikelihood/-1/(dephosphorylation_of_MAPK-PP).V9.cps\n",
      "DEBUG:PyCoTools.pycopi:pycopi:108:copasi file Mos-P.cps has been parsed into Python\n",
      "DEBUG:PyCoTools.pycopi:pycopi:108:copasi file Mos-P.cps has been parsed into Python\n",
      "DEBUG:PyCoTools.pycopi:pycopi:108:copasi file Mos-P.cps has been parsed into Python\n",
      "DEBUG:PyCoTools.pycopi:pycopi:120:Model written to /home/b3053674/Documents/PyCoTools/PyCoTools/PyCoToolsTutorial/ProfileLikelihood/-1/Mos-P.cps\n",
      "INFO:root:pycopi:3518:defining report\n",
      "DEBUG:PyCoTools.pycopi:pycopi:108:copasi file Mos-P.cps has been parsed into Python\n",
      "DEBUG:PyCoTools.pycopi:pycopi:108:copasi file Mos-P.cps has been parsed into Python\n",
      "DEBUG:PyCoTools.pycopi:pycopi:1052:created a 'profile_likelihod' type report\n",
      "DEBUG:PyCoTools.pycopi:pycopi:120:Model written to /home/b3053674/Documents/PyCoTools/PyCoTools/PyCoToolsTutorial/ProfileLikelihood/-1/Mos-P.cps\n",
      "DEBUG:PyCoTools.pycopi:pycopi:120:Model written to /home/b3053674/Documents/PyCoTools/PyCoTools/PyCoToolsTutorial/ProfileLikelihood/-1/Mos-P.cps\n",
      "DEBUG:PyCoTools.pycopi:pycopi:108:copasi file Mos-P.cps has been parsed into Python\n",
      "DEBUG:PyCoTools.pycopi:pycopi:108:copasi file Mos-P.cps has been parsed into Python\n",
      "DEBUG:PyCoTools.pycopi:pycopi:120:Model written to /home/b3053674/Documents/PyCoTools/PyCoTools/PyCoToolsTutorial/ProfileLikelihood/-1/Mos-P.cps\n",
      "DEBUG:PyCoTools.pycopi:pycopi:108:copasi file (phosphorylation_of_MAPK).k7.cps has been parsed into Python\n",
      "DEBUG:PyCoTools.pycopi:pycopi:108:copasi file (phosphorylation_of_MAPK).k7.cps has been parsed into Python\n",
      "DEBUG:PyCoTools.pycopi:pycopi:108:copasi file (phosphorylation_of_MAPK).k7.cps has been parsed into Python\n",
      "DEBUG:PyCoTools.pycopi:pycopi:120:Model written to /home/b3053674/Documents/PyCoTools/PyCoTools/PyCoToolsTutorial/ProfileLikelihood/-1/(phosphorylation_of_MAPK).k7.cps\n",
      "INFO:root:pycopi:3518:defining report\n",
      "DEBUG:PyCoTools.pycopi:pycopi:108:copasi file (phosphorylation_of_MAPK).k7.cps has been parsed into Python\n",
      "DEBUG:PyCoTools.pycopi:pycopi:108:copasi file (phosphorylation_of_MAPK).k7.cps has been parsed into Python\n",
      "DEBUG:PyCoTools.pycopi:pycopi:1052:created a 'profile_likelihod' type report\n",
      "DEBUG:PyCoTools.pycopi:pycopi:120:Model written to /home/b3053674/Documents/PyCoTools/PyCoTools/PyCoToolsTutorial/ProfileLikelihood/-1/(phosphorylation_of_MAPK).k7.cps\n",
      "DEBUG:PyCoTools.pycopi:pycopi:120:Model written to /home/b3053674/Documents/PyCoTools/PyCoTools/PyCoToolsTutorial/ProfileLikelihood/-1/(phosphorylation_of_MAPK).k7.cps\n",
      "DEBUG:PyCoTools.pycopi:pycopi:108:copasi file (phosphorylation_of_MAPK).k7.cps has been parsed into Python\n",
      "DEBUG:PyCoTools.pycopi:pycopi:108:copasi file (phosphorylation_of_MAPK).k7.cps has been parsed into Python\n",
      "DEBUG:PyCoTools.pycopi:pycopi:120:Model written to /home/b3053674/Documents/PyCoTools/PyCoTools/PyCoToolsTutorial/ProfileLikelihood/-1/(phosphorylation_of_MAPK).k7.cps\n",
      "DEBUG:PyCoTools.pycopi:pycopi:108:copasi file (phosphorylation_of_MAPK-P).k8.cps has been parsed into Python\n",
      "DEBUG:PyCoTools.pycopi:pycopi:108:copasi file (phosphorylation_of_MAPK-P).k8.cps has been parsed into Python\n",
      "DEBUG:PyCoTools.pycopi:pycopi:108:copasi file (phosphorylation_of_MAPK-P).k8.cps has been parsed into Python\n",
      "DEBUG:PyCoTools.pycopi:pycopi:120:Model written to /home/b3053674/Documents/PyCoTools/PyCoTools/PyCoToolsTutorial/ProfileLikelihood/-1/(phosphorylation_of_MAPK-P).k8.cps\n",
      "INFO:root:pycopi:3518:defining report\n",
      "DEBUG:PyCoTools.pycopi:pycopi:108:copasi file (phosphorylation_of_MAPK-P).k8.cps has been parsed into Python\n",
      "DEBUG:PyCoTools.pycopi:pycopi:108:copasi file (phosphorylation_of_MAPK-P).k8.cps has been parsed into Python\n",
      "DEBUG:PyCoTools.pycopi:pycopi:1052:created a 'profile_likelihod' type report\n",
      "DEBUG:PyCoTools.pycopi:pycopi:120:Model written to /home/b3053674/Documents/PyCoTools/PyCoTools/PyCoToolsTutorial/ProfileLikelihood/-1/(phosphorylation_of_MAPK-P).k8.cps\n",
      "DEBUG:PyCoTools.pycopi:pycopi:120:Model written to /home/b3053674/Documents/PyCoTools/PyCoTools/PyCoToolsTutorial/ProfileLikelihood/-1/(phosphorylation_of_MAPK-P).k8.cps\n",
      "DEBUG:PyCoTools.pycopi:pycopi:108:copasi file (phosphorylation_of_MAPK-P).k8.cps has been parsed into Python\n",
      "DEBUG:PyCoTools.pycopi:pycopi:108:copasi file (phosphorylation_of_MAPK-P).k8.cps has been parsed into Python\n",
      "DEBUG:PyCoTools.pycopi:pycopi:120:Model written to /home/b3053674/Documents/PyCoTools/PyCoTools/PyCoToolsTutorial/ProfileLikelihood/-1/(phosphorylation_of_MAPK-P).k8.cps\n",
      "DEBUG:PyCoTools.pycopi:pycopi:108:copasi file (MAPKKK_inactivation).KK2.cps has been parsed into Python\n",
      "DEBUG:PyCoTools.pycopi:pycopi:108:copasi file (MAPKKK_inactivation).KK2.cps has been parsed into Python\n",
      "DEBUG:PyCoTools.pycopi:pycopi:108:copasi file (MAPKKK_inactivation).KK2.cps has been parsed into Python\n",
      "DEBUG:PyCoTools.pycopi:pycopi:120:Model written to /home/b3053674/Documents/PyCoTools/PyCoTools/PyCoToolsTutorial/ProfileLikelihood/-1/(MAPKKK_inactivation).KK2.cps\n",
      "INFO:root:pycopi:3518:defining report\n",
      "DEBUG:PyCoTools.pycopi:pycopi:108:copasi file (MAPKKK_inactivation).KK2.cps has been parsed into Python\n",
      "DEBUG:PyCoTools.pycopi:pycopi:108:copasi file (MAPKKK_inactivation).KK2.cps has been parsed into Python\n",
      "DEBUG:PyCoTools.pycopi:pycopi:1052:created a 'profile_likelihod' type report\n",
      "DEBUG:PyCoTools.pycopi:pycopi:120:Model written to /home/b3053674/Documents/PyCoTools/PyCoTools/PyCoToolsTutorial/ProfileLikelihood/-1/(MAPKKK_inactivation).KK2.cps\n",
      "DEBUG:PyCoTools.pycopi:pycopi:120:Model written to /home/b3053674/Documents/PyCoTools/PyCoTools/PyCoToolsTutorial/ProfileLikelihood/-1/(MAPKKK_inactivation).KK2.cps\n",
      "DEBUG:PyCoTools.pycopi:pycopi:108:copasi file (MAPKKK_inactivation).KK2.cps has been parsed into Python\n",
      "DEBUG:PyCoTools.pycopi:pycopi:108:copasi file (MAPKKK_inactivation).KK2.cps has been parsed into Python\n",
      "DEBUG:PyCoTools.pycopi:pycopi:120:Model written to /home/b3053674/Documents/PyCoTools/PyCoTools/PyCoToolsTutorial/ProfileLikelihood/-1/(MAPKKK_inactivation).KK2.cps\n",
      "DEBUG:PyCoTools.pycopi:pycopi:108:copasi file (MAPKKK_inactivation).V2.cps has been parsed into Python\n",
      "DEBUG:PyCoTools.pycopi:pycopi:108:copasi file (MAPKKK_inactivation).V2.cps has been parsed into Python\n",
      "DEBUG:PyCoTools.pycopi:pycopi:108:copasi file (MAPKKK_inactivation).V2.cps has been parsed into Python\n",
      "DEBUG:PyCoTools.pycopi:pycopi:120:Model written to /home/b3053674/Documents/PyCoTools/PyCoTools/PyCoToolsTutorial/ProfileLikelihood/-1/(MAPKKK_inactivation).V2.cps\n",
      "INFO:root:pycopi:3518:defining report\n",
      "DEBUG:PyCoTools.pycopi:pycopi:108:copasi file (MAPKKK_inactivation).V2.cps has been parsed into Python\n",
      "DEBUG:PyCoTools.pycopi:pycopi:108:copasi file (MAPKKK_inactivation).V2.cps has been parsed into Python\n",
      "DEBUG:PyCoTools.pycopi:pycopi:1052:created a 'profile_likelihod' type report\n",
      "DEBUG:PyCoTools.pycopi:pycopi:120:Model written to /home/b3053674/Documents/PyCoTools/PyCoTools/PyCoToolsTutorial/ProfileLikelihood/-1/(MAPKKK_inactivation).V2.cps\n",
      "DEBUG:PyCoTools.pycopi:pycopi:120:Model written to /home/b3053674/Documents/PyCoTools/PyCoTools/PyCoToolsTutorial/ProfileLikelihood/-1/(MAPKKK_inactivation).V2.cps\n",
      "DEBUG:PyCoTools.pycopi:pycopi:108:copasi file (MAPKKK_inactivation).V2.cps has been parsed into Python\n",
      "DEBUG:PyCoTools.pycopi:pycopi:108:copasi file (MAPKKK_inactivation).V2.cps has been parsed into Python\n",
      "DEBUG:PyCoTools.pycopi:pycopi:120:Model written to /home/b3053674/Documents/PyCoTools/PyCoTools/PyCoToolsTutorial/ProfileLikelihood/-1/(MAPKKK_inactivation).V2.cps\n",
      "DEBUG:PyCoTools.pycopi:pycopi:108:copasi file Mos.cps has been parsed into Python\n",
      "DEBUG:PyCoTools.pycopi:pycopi:108:copasi file Mos.cps has been parsed into Python\n",
      "DEBUG:PyCoTools.pycopi:pycopi:108:copasi file Mos.cps has been parsed into Python\n",
      "DEBUG:PyCoTools.pycopi:pycopi:120:Model written to /home/b3053674/Documents/PyCoTools/PyCoTools/PyCoToolsTutorial/ProfileLikelihood/-1/Mos.cps\n",
      "INFO:root:pycopi:3518:defining report\n",
      "DEBUG:PyCoTools.pycopi:pycopi:108:copasi file Mos.cps has been parsed into Python\n",
      "DEBUG:PyCoTools.pycopi:pycopi:108:copasi file Mos.cps has been parsed into Python\n",
      "DEBUG:PyCoTools.pycopi:pycopi:1052:created a 'profile_likelihod' type report\n",
      "DEBUG:PyCoTools.pycopi:pycopi:120:Model written to /home/b3053674/Documents/PyCoTools/PyCoTools/PyCoToolsTutorial/ProfileLikelihood/-1/Mos.cps\n",
      "DEBUG:PyCoTools.pycopi:pycopi:120:Model written to /home/b3053674/Documents/PyCoTools/PyCoTools/PyCoToolsTutorial/ProfileLikelihood/-1/Mos.cps\n",
      "DEBUG:PyCoTools.pycopi:pycopi:108:copasi file Mos.cps has been parsed into Python\n",
      "DEBUG:PyCoTools.pycopi:pycopi:108:copasi file Mos.cps has been parsed into Python\n",
      "DEBUG:PyCoTools.pycopi:pycopi:120:Model written to /home/b3053674/Documents/PyCoTools/PyCoTools/PyCoToolsTutorial/ProfileLikelihood/-1/Mos.cps\n",
      "DEBUG:PyCoTools.pycopi:pycopi:108:copasi file Erk2-PP.cps has been parsed into Python\n",
      "DEBUG:PyCoTools.pycopi:pycopi:108:copasi file Erk2-PP.cps has been parsed into Python\n",
      "DEBUG:PyCoTools.pycopi:pycopi:108:copasi file Erk2-PP.cps has been parsed into Python\n",
      "DEBUG:PyCoTools.pycopi:pycopi:120:Model written to /home/b3053674/Documents/PyCoTools/PyCoTools/PyCoToolsTutorial/ProfileLikelihood/-1/Erk2-PP.cps\n",
      "INFO:root:pycopi:3518:defining report\n",
      "DEBUG:PyCoTools.pycopi:pycopi:108:copasi file Erk2-PP.cps has been parsed into Python\n",
      "DEBUG:PyCoTools.pycopi:pycopi:108:copasi file Erk2-PP.cps has been parsed into Python\n",
      "DEBUG:PyCoTools.pycopi:pycopi:1052:created a 'profile_likelihod' type report\n",
      "DEBUG:PyCoTools.pycopi:pycopi:120:Model written to /home/b3053674/Documents/PyCoTools/PyCoTools/PyCoToolsTutorial/ProfileLikelihood/-1/Erk2-PP.cps\n",
      "DEBUG:PyCoTools.pycopi:pycopi:120:Model written to /home/b3053674/Documents/PyCoTools/PyCoTools/PyCoToolsTutorial/ProfileLikelihood/-1/Erk2-PP.cps\n",
      "DEBUG:PyCoTools.pycopi:pycopi:108:copasi file Erk2-PP.cps has been parsed into Python\n",
      "DEBUG:PyCoTools.pycopi:pycopi:108:copasi file Erk2-PP.cps has been parsed into Python\n",
      "DEBUG:PyCoTools.pycopi:pycopi:120:Model written to /home/b3053674/Documents/PyCoTools/PyCoTools/PyCoToolsTutorial/ProfileLikelihood/-1/Erk2-PP.cps\n",
      "DEBUG:PyCoTools.pycopi:pycopi:108:copasi file (phosphorylation_of_MAPKK).k3.cps has been parsed into Python\n",
      "DEBUG:PyCoTools.pycopi:pycopi:108:copasi file (phosphorylation_of_MAPKK).k3.cps has been parsed into Python\n",
      "DEBUG:PyCoTools.pycopi:pycopi:108:copasi file (phosphorylation_of_MAPKK).k3.cps has been parsed into Python\n",
      "DEBUG:PyCoTools.pycopi:pycopi:120:Model written to /home/b3053674/Documents/PyCoTools/PyCoTools/PyCoToolsTutorial/ProfileLikelihood/-1/(phosphorylation_of_MAPKK).k3.cps\n",
      "INFO:root:pycopi:3518:defining report\n",
      "DEBUG:PyCoTools.pycopi:pycopi:108:copasi file (phosphorylation_of_MAPKK).k3.cps has been parsed into Python\n",
      "DEBUG:PyCoTools.pycopi:pycopi:108:copasi file (phosphorylation_of_MAPKK).k3.cps has been parsed into Python\n",
      "DEBUG:PyCoTools.pycopi:pycopi:1052:created a 'profile_likelihod' type report\n",
      "DEBUG:PyCoTools.pycopi:pycopi:120:Model written to /home/b3053674/Documents/PyCoTools/PyCoTools/PyCoToolsTutorial/ProfileLikelihood/-1/(phosphorylation_of_MAPKK).k3.cps\n",
      "DEBUG:PyCoTools.pycopi:pycopi:120:Model written to /home/b3053674/Documents/PyCoTools/PyCoTools/PyCoToolsTutorial/ProfileLikelihood/-1/(phosphorylation_of_MAPKK).k3.cps\n",
      "DEBUG:PyCoTools.pycopi:pycopi:108:copasi file (phosphorylation_of_MAPKK).k3.cps has been parsed into Python\n",
      "DEBUG:PyCoTools.pycopi:pycopi:108:copasi file (phosphorylation_of_MAPKK).k3.cps has been parsed into Python\n",
      "DEBUG:PyCoTools.pycopi:pycopi:120:Model written to /home/b3053674/Documents/PyCoTools/PyCoTools/PyCoToolsTutorial/ProfileLikelihood/-1/(phosphorylation_of_MAPKK).k3.cps\n",
      "DEBUG:PyCoTools.pycopi:pycopi:108:copasi file (phosphorylation_of_MAPKK-P).k4.cps has been parsed into Python\n",
      "DEBUG:PyCoTools.pycopi:pycopi:108:copasi file (phosphorylation_of_MAPKK-P).k4.cps has been parsed into Python\n",
      "DEBUG:PyCoTools.pycopi:pycopi:108:copasi file (phosphorylation_of_MAPKK-P).k4.cps has been parsed into Python\n",
      "DEBUG:PyCoTools.pycopi:pycopi:120:Model written to /home/b3053674/Documents/PyCoTools/PyCoTools/PyCoToolsTutorial/ProfileLikelihood/-1/(phosphorylation_of_MAPKK-P).k4.cps\n",
      "INFO:root:pycopi:3518:defining report\n",
      "DEBUG:PyCoTools.pycopi:pycopi:108:copasi file (phosphorylation_of_MAPKK-P).k4.cps has been parsed into Python\n",
      "DEBUG:PyCoTools.pycopi:pycopi:108:copasi file (phosphorylation_of_MAPKK-P).k4.cps has been parsed into Python\n",
      "DEBUG:PyCoTools.pycopi:pycopi:1052:created a 'profile_likelihod' type report\n",
      "DEBUG:PyCoTools.pycopi:pycopi:120:Model written to /home/b3053674/Documents/PyCoTools/PyCoTools/PyCoToolsTutorial/ProfileLikelihood/-1/(phosphorylation_of_MAPKK-P).k4.cps\n",
      "DEBUG:PyCoTools.pycopi:pycopi:120:Model written to /home/b3053674/Documents/PyCoTools/PyCoTools/PyCoToolsTutorial/ProfileLikelihood/-1/(phosphorylation_of_MAPKK-P).k4.cps\n",
      "DEBUG:PyCoTools.pycopi:pycopi:108:copasi file (phosphorylation_of_MAPKK-P).k4.cps has been parsed into Python\n",
      "DEBUG:PyCoTools.pycopi:pycopi:108:copasi file (phosphorylation_of_MAPKK-P).k4.cps has been parsed into Python\n",
      "DEBUG:PyCoTools.pycopi:pycopi:120:Model written to /home/b3053674/Documents/PyCoTools/PyCoTools/PyCoToolsTutorial/ProfileLikelihood/-1/(phosphorylation_of_MAPKK-P).k4.cps\n",
      "DEBUG:PyCoTools.pycopi:pycopi:108:copasi file (dephosphorylation_of_MAPKK-PP).KK5.cps has been parsed into Python\n",
      "DEBUG:PyCoTools.pycopi:pycopi:108:copasi file (dephosphorylation_of_MAPKK-PP).KK5.cps has been parsed into Python\n",
      "DEBUG:PyCoTools.pycopi:pycopi:108:copasi file (dephosphorylation_of_MAPKK-PP).KK5.cps has been parsed into Python\n",
      "DEBUG:PyCoTools.pycopi:pycopi:120:Model written to /home/b3053674/Documents/PyCoTools/PyCoTools/PyCoToolsTutorial/ProfileLikelihood/-1/(dephosphorylation_of_MAPKK-PP).KK5.cps\n",
      "INFO:root:pycopi:3518:defining report\n",
      "DEBUG:PyCoTools.pycopi:pycopi:108:copasi file (dephosphorylation_of_MAPKK-PP).KK5.cps has been parsed into Python\n",
      "DEBUG:PyCoTools.pycopi:pycopi:108:copasi file (dephosphorylation_of_MAPKK-PP).KK5.cps has been parsed into Python\n",
      "DEBUG:PyCoTools.pycopi:pycopi:1052:created a 'profile_likelihod' type report\n",
      "DEBUG:PyCoTools.pycopi:pycopi:120:Model written to /home/b3053674/Documents/PyCoTools/PyCoTools/PyCoToolsTutorial/ProfileLikelihood/-1/(dephosphorylation_of_MAPKK-PP).KK5.cps\n",
      "DEBUG:PyCoTools.pycopi:pycopi:120:Model written to /home/b3053674/Documents/PyCoTools/PyCoTools/PyCoToolsTutorial/ProfileLikelihood/-1/(dephosphorylation_of_MAPKK-PP).KK5.cps\n",
      "DEBUG:PyCoTools.pycopi:pycopi:108:copasi file (dephosphorylation_of_MAPKK-PP).KK5.cps has been parsed into Python\n",
      "DEBUG:PyCoTools.pycopi:pycopi:108:copasi file (dephosphorylation_of_MAPKK-PP).KK5.cps has been parsed into Python\n",
      "DEBUG:PyCoTools.pycopi:pycopi:120:Model written to /home/b3053674/Documents/PyCoTools/PyCoTools/PyCoToolsTutorial/ProfileLikelihood/-1/(dephosphorylation_of_MAPKK-PP).KK5.cps\n",
      "DEBUG:PyCoTools.pycopi:pycopi:108:copasi file (phosphorylation_of_MAPK-P).KK8.cps has been parsed into Python\n",
      "DEBUG:PyCoTools.pycopi:pycopi:108:copasi file (phosphorylation_of_MAPK-P).KK8.cps has been parsed into Python\n",
      "DEBUG:PyCoTools.pycopi:pycopi:108:copasi file (phosphorylation_of_MAPK-P).KK8.cps has been parsed into Python\n",
      "DEBUG:PyCoTools.pycopi:pycopi:120:Model written to /home/b3053674/Documents/PyCoTools/PyCoTools/PyCoToolsTutorial/ProfileLikelihood/-1/(phosphorylation_of_MAPK-P).KK8.cps\n",
      "INFO:root:pycopi:3518:defining report\n",
      "DEBUG:PyCoTools.pycopi:pycopi:108:copasi file (phosphorylation_of_MAPK-P).KK8.cps has been parsed into Python\n",
      "DEBUG:PyCoTools.pycopi:pycopi:108:copasi file (phosphorylation_of_MAPK-P).KK8.cps has been parsed into Python\n",
      "DEBUG:PyCoTools.pycopi:pycopi:1052:created a 'profile_likelihod' type report\n",
      "DEBUG:PyCoTools.pycopi:pycopi:120:Model written to /home/b3053674/Documents/PyCoTools/PyCoTools/PyCoToolsTutorial/ProfileLikelihood/-1/(phosphorylation_of_MAPK-P).KK8.cps\n",
      "DEBUG:PyCoTools.pycopi:pycopi:120:Model written to /home/b3053674/Documents/PyCoTools/PyCoTools/PyCoToolsTutorial/ProfileLikelihood/-1/(phosphorylation_of_MAPK-P).KK8.cps\n",
      "DEBUG:PyCoTools.pycopi:pycopi:108:copasi file (phosphorylation_of_MAPK-P).KK8.cps has been parsed into Python\n",
      "DEBUG:PyCoTools.pycopi:pycopi:108:copasi file (phosphorylation_of_MAPK-P).KK8.cps has been parsed into Python\n",
      "DEBUG:PyCoTools.pycopi:pycopi:120:Model written to /home/b3053674/Documents/PyCoTools/PyCoTools/PyCoToolsTutorial/ProfileLikelihood/-1/(phosphorylation_of_MAPK-P).KK8.cps\n",
      "DEBUG:PyCoTools.pycopi:pycopi:108:copasi file (dephosphorylation_of_MAPK-PP).KK9.cps has been parsed into Python\n",
      "DEBUG:PyCoTools.pycopi:pycopi:108:copasi file (dephosphorylation_of_MAPK-PP).KK9.cps has been parsed into Python\n",
      "DEBUG:PyCoTools.pycopi:pycopi:108:copasi file (dephosphorylation_of_MAPK-PP).KK9.cps has been parsed into Python\n",
      "DEBUG:PyCoTools.pycopi:pycopi:120:Model written to /home/b3053674/Documents/PyCoTools/PyCoTools/PyCoToolsTutorial/ProfileLikelihood/-1/(dephosphorylation_of_MAPK-PP).KK9.cps\n",
      "INFO:root:pycopi:3518:defining report\n",
      "DEBUG:PyCoTools.pycopi:pycopi:108:copasi file (dephosphorylation_of_MAPK-PP).KK9.cps has been parsed into Python\n",
      "DEBUG:PyCoTools.pycopi:pycopi:108:copasi file (dephosphorylation_of_MAPK-PP).KK9.cps has been parsed into Python\n",
      "DEBUG:PyCoTools.pycopi:pycopi:1052:created a 'profile_likelihod' type report\n",
      "DEBUG:PyCoTools.pycopi:pycopi:120:Model written to /home/b3053674/Documents/PyCoTools/PyCoTools/PyCoToolsTutorial/ProfileLikelihood/-1/(dephosphorylation_of_MAPK-PP).KK9.cps\n",
      "DEBUG:PyCoTools.pycopi:pycopi:120:Model written to /home/b3053674/Documents/PyCoTools/PyCoTools/PyCoToolsTutorial/ProfileLikelihood/-1/(dephosphorylation_of_MAPK-PP).KK9.cps\n",
      "DEBUG:PyCoTools.pycopi:pycopi:108:copasi file (dephosphorylation_of_MAPK-PP).KK9.cps has been parsed into Python\n",
      "DEBUG:PyCoTools.pycopi:pycopi:108:copasi file (dephosphorylation_of_MAPK-PP).KK9.cps has been parsed into Python\n",
      "DEBUG:PyCoTools.pycopi:pycopi:120:Model written to /home/b3053674/Documents/PyCoTools/PyCoTools/PyCoToolsTutorial/ProfileLikelihood/-1/(dephosphorylation_of_MAPK-PP).KK9.cps\n",
      "DEBUG:PyCoTools.pycopi:pycopi:108:copasi file (dephosphorylation_of_MAPKK-P).KK6.cps has been parsed into Python\n",
      "DEBUG:PyCoTools.pycopi:pycopi:108:copasi file (dephosphorylation_of_MAPKK-P).KK6.cps has been parsed into Python\n",
      "DEBUG:PyCoTools.pycopi:pycopi:108:copasi file (dephosphorylation_of_MAPKK-P).KK6.cps has been parsed into Python\n",
      "DEBUG:PyCoTools.pycopi:pycopi:120:Model written to /home/b3053674/Documents/PyCoTools/PyCoTools/PyCoToolsTutorial/ProfileLikelihood/-1/(dephosphorylation_of_MAPKK-P).KK6.cps\n",
      "INFO:root:pycopi:3518:defining report\n",
      "DEBUG:PyCoTools.pycopi:pycopi:108:copasi file (dephosphorylation_of_MAPKK-P).KK6.cps has been parsed into Python\n",
      "DEBUG:PyCoTools.pycopi:pycopi:108:copasi file (dephosphorylation_of_MAPKK-P).KK6.cps has been parsed into Python\n",
      "DEBUG:PyCoTools.pycopi:pycopi:1052:created a 'profile_likelihod' type report\n",
      "DEBUG:PyCoTools.pycopi:pycopi:120:Model written to /home/b3053674/Documents/PyCoTools/PyCoTools/PyCoToolsTutorial/ProfileLikelihood/-1/(dephosphorylation_of_MAPKK-P).KK6.cps\n",
      "DEBUG:PyCoTools.pycopi:pycopi:120:Model written to /home/b3053674/Documents/PyCoTools/PyCoTools/PyCoToolsTutorial/ProfileLikelihood/-1/(dephosphorylation_of_MAPKK-P).KK6.cps\n",
      "DEBUG:PyCoTools.pycopi:pycopi:108:copasi file (dephosphorylation_of_MAPKK-P).KK6.cps has been parsed into Python\n",
      "DEBUG:PyCoTools.pycopi:pycopi:108:copasi file (dephosphorylation_of_MAPKK-P).KK6.cps has been parsed into Python\n",
      "DEBUG:PyCoTools.pycopi:pycopi:120:Model written to /home/b3053674/Documents/PyCoTools/PyCoTools/PyCoToolsTutorial/ProfileLikelihood/-1/(dephosphorylation_of_MAPKK-P).KK6.cps\n",
      "DEBUG:PyCoTools.pycopi:pycopi:108:copasi file (phosphorylation_of_MAPKK-P).KK4.cps has been parsed into Python\n",
      "DEBUG:PyCoTools.pycopi:pycopi:108:copasi file (phosphorylation_of_MAPKK-P).KK4.cps has been parsed into Python\n",
      "DEBUG:PyCoTools.pycopi:pycopi:108:copasi file (phosphorylation_of_MAPKK-P).KK4.cps has been parsed into Python\n",
      "DEBUG:PyCoTools.pycopi:pycopi:120:Model written to /home/b3053674/Documents/PyCoTools/PyCoTools/PyCoToolsTutorial/ProfileLikelihood/-1/(phosphorylation_of_MAPKK-P).KK4.cps\n",
      "INFO:root:pycopi:3518:defining report\n",
      "DEBUG:PyCoTools.pycopi:pycopi:108:copasi file (phosphorylation_of_MAPKK-P).KK4.cps has been parsed into Python\n",
      "DEBUG:PyCoTools.pycopi:pycopi:108:copasi file (phosphorylation_of_MAPKK-P).KK4.cps has been parsed into Python\n",
      "DEBUG:PyCoTools.pycopi:pycopi:1052:created a 'profile_likelihod' type report\n",
      "DEBUG:PyCoTools.pycopi:pycopi:120:Model written to /home/b3053674/Documents/PyCoTools/PyCoTools/PyCoToolsTutorial/ProfileLikelihood/-1/(phosphorylation_of_MAPKK-P).KK4.cps\n",
      "DEBUG:PyCoTools.pycopi:pycopi:120:Model written to /home/b3053674/Documents/PyCoTools/PyCoTools/PyCoToolsTutorial/ProfileLikelihood/-1/(phosphorylation_of_MAPKK-P).KK4.cps\n",
      "DEBUG:PyCoTools.pycopi:pycopi:108:copasi file (phosphorylation_of_MAPKK-P).KK4.cps has been parsed into Python\n",
      "DEBUG:PyCoTools.pycopi:pycopi:108:copasi file (phosphorylation_of_MAPKK-P).KK4.cps has been parsed into Python\n",
      "DEBUG:PyCoTools.pycopi:pycopi:120:Model written to /home/b3053674/Documents/PyCoTools/PyCoTools/PyCoToolsTutorial/ProfileLikelihood/-1/(phosphorylation_of_MAPKK-P).KK4.cps\n",
      "DEBUG:PyCoTools.pycopi:pycopi:108:copasi file Erk2.cps has been parsed into Python\n",
      "DEBUG:PyCoTools.pycopi:pycopi:108:copasi file Erk2.cps has been parsed into Python\n",
      "DEBUG:PyCoTools.pycopi:pycopi:108:copasi file Erk2.cps has been parsed into Python\n",
      "DEBUG:PyCoTools.pycopi:pycopi:120:Model written to /home/b3053674/Documents/PyCoTools/PyCoTools/PyCoToolsTutorial/ProfileLikelihood/-1/Erk2.cps\n",
      "INFO:root:pycopi:3518:defining report\n",
      "DEBUG:PyCoTools.pycopi:pycopi:108:copasi file Erk2.cps has been parsed into Python\n",
      "DEBUG:PyCoTools.pycopi:pycopi:108:copasi file Erk2.cps has been parsed into Python\n",
      "DEBUG:PyCoTools.pycopi:pycopi:1052:created a 'profile_likelihod' type report\n",
      "DEBUG:PyCoTools.pycopi:pycopi:120:Model written to /home/b3053674/Documents/PyCoTools/PyCoTools/PyCoToolsTutorial/ProfileLikelihood/-1/Erk2.cps\n",
      "DEBUG:PyCoTools.pycopi:pycopi:120:Model written to /home/b3053674/Documents/PyCoTools/PyCoTools/PyCoToolsTutorial/ProfileLikelihood/-1/Erk2.cps\n",
      "DEBUG:PyCoTools.pycopi:pycopi:108:copasi file Erk2.cps has been parsed into Python\n",
      "DEBUG:PyCoTools.pycopi:pycopi:108:copasi file Erk2.cps has been parsed into Python\n",
      "DEBUG:PyCoTools.pycopi:pycopi:120:Model written to /home/b3053674/Documents/PyCoTools/PyCoTools/PyCoToolsTutorial/ProfileLikelihood/-1/Erk2.cps\n",
      "DEBUG:PyCoTools.pycopi:pycopi:108:copasi file (MAPKKK_activation).V1.cps has been parsed into Python\n",
      "DEBUG:PyCoTools.pycopi:pycopi:108:copasi file (MAPKKK_activation).V1.cps has been parsed into Python\n",
      "DEBUG:PyCoTools.pycopi:pycopi:108:copasi file (MAPKKK_activation).V1.cps has been parsed into Python\n",
      "DEBUG:PyCoTools.pycopi:pycopi:120:Model written to /home/b3053674/Documents/PyCoTools/PyCoTools/PyCoToolsTutorial/ProfileLikelihood/-1/(MAPKKK_activation).V1.cps\n",
      "INFO:root:pycopi:3518:defining report\n",
      "DEBUG:PyCoTools.pycopi:pycopi:108:copasi file (MAPKKK_activation).V1.cps has been parsed into Python\n",
      "DEBUG:PyCoTools.pycopi:pycopi:108:copasi file (MAPKKK_activation).V1.cps has been parsed into Python\n",
      "DEBUG:PyCoTools.pycopi:pycopi:1052:created a 'profile_likelihod' type report\n",
      "DEBUG:PyCoTools.pycopi:pycopi:120:Model written to /home/b3053674/Documents/PyCoTools/PyCoTools/PyCoToolsTutorial/ProfileLikelihood/-1/(MAPKKK_activation).V1.cps\n",
      "DEBUG:PyCoTools.pycopi:pycopi:120:Model written to /home/b3053674/Documents/PyCoTools/PyCoTools/PyCoToolsTutorial/ProfileLikelihood/-1/(MAPKKK_activation).V1.cps\n",
      "DEBUG:PyCoTools.pycopi:pycopi:108:copasi file (MAPKKK_activation).V1.cps has been parsed into Python\n",
      "DEBUG:PyCoTools.pycopi:pycopi:108:copasi file (MAPKKK_activation).V1.cps has been parsed into Python\n",
      "DEBUG:PyCoTools.pycopi:pycopi:120:Model written to /home/b3053674/Documents/PyCoTools/PyCoTools/PyCoToolsTutorial/ProfileLikelihood/-1/(MAPKKK_activation).V1.cps\n",
      "DEBUG:PyCoTools.pycopi:pycopi:108:copasi file (MAPKKK_activation).Ki.cps has been parsed into Python\n",
      "DEBUG:PyCoTools.pycopi:pycopi:108:copasi file (MAPKKK_activation).Ki.cps has been parsed into Python\n",
      "DEBUG:PyCoTools.pycopi:pycopi:108:copasi file (MAPKKK_activation).Ki.cps has been parsed into Python\n",
      "DEBUG:PyCoTools.pycopi:pycopi:120:Model written to /home/b3053674/Documents/PyCoTools/PyCoTools/PyCoToolsTutorial/ProfileLikelihood/-1/(MAPKKK_activation).Ki.cps\n",
      "INFO:root:pycopi:3518:defining report\n",
      "DEBUG:PyCoTools.pycopi:pycopi:108:copasi file (MAPKKK_activation).Ki.cps has been parsed into Python\n",
      "DEBUG:PyCoTools.pycopi:pycopi:108:copasi file (MAPKKK_activation).Ki.cps has been parsed into Python\n",
      "DEBUG:PyCoTools.pycopi:pycopi:1052:created a 'profile_likelihod' type report\n",
      "DEBUG:PyCoTools.pycopi:pycopi:120:Model written to /home/b3053674/Documents/PyCoTools/PyCoTools/PyCoToolsTutorial/ProfileLikelihood/-1/(MAPKKK_activation).Ki.cps\n",
      "DEBUG:PyCoTools.pycopi:pycopi:120:Model written to /home/b3053674/Documents/PyCoTools/PyCoTools/PyCoToolsTutorial/ProfileLikelihood/-1/(MAPKKK_activation).Ki.cps\n",
      "DEBUG:PyCoTools.pycopi:pycopi:108:copasi file (MAPKKK_activation).Ki.cps has been parsed into Python\n",
      "DEBUG:PyCoTools.pycopi:pycopi:108:copasi file (MAPKKK_activation).Ki.cps has been parsed into Python\n",
      "DEBUG:PyCoTools.pycopi:pycopi:120:Model written to /home/b3053674/Documents/PyCoTools/PyCoTools/PyCoToolsTutorial/ProfileLikelihood/-1/(MAPKKK_activation).Ki.cps\n",
      "DEBUG:PyCoTools.pycopi:pycopi:108:copasi file (phosphorylation_of_MAPK).KK7.cps has been parsed into Python\n",
      "DEBUG:PyCoTools.pycopi:pycopi:108:copasi file (phosphorylation_of_MAPK).KK7.cps has been parsed into Python\n",
      "DEBUG:PyCoTools.pycopi:pycopi:108:copasi file (phosphorylation_of_MAPK).KK7.cps has been parsed into Python\n",
      "DEBUG:PyCoTools.pycopi:pycopi:120:Model written to /home/b3053674/Documents/PyCoTools/PyCoTools/PyCoToolsTutorial/ProfileLikelihood/-1/(phosphorylation_of_MAPK).KK7.cps\n",
      "INFO:root:pycopi:3518:defining report\n",
      "DEBUG:PyCoTools.pycopi:pycopi:108:copasi file (phosphorylation_of_MAPK).KK7.cps has been parsed into Python\n",
      "DEBUG:PyCoTools.pycopi:pycopi:108:copasi file (phosphorylation_of_MAPK).KK7.cps has been parsed into Python\n",
      "DEBUG:PyCoTools.pycopi:pycopi:1052:created a 'profile_likelihod' type report\n",
      "DEBUG:PyCoTools.pycopi:pycopi:120:Model written to /home/b3053674/Documents/PyCoTools/PyCoTools/PyCoToolsTutorial/ProfileLikelihood/-1/(phosphorylation_of_MAPK).KK7.cps\n",
      "DEBUG:PyCoTools.pycopi:pycopi:120:Model written to /home/b3053674/Documents/PyCoTools/PyCoTools/PyCoToolsTutorial/ProfileLikelihood/-1/(phosphorylation_of_MAPK).KK7.cps\n",
      "DEBUG:PyCoTools.pycopi:pycopi:108:copasi file (phosphorylation_of_MAPK).KK7.cps has been parsed into Python\n",
      "DEBUG:PyCoTools.pycopi:pycopi:108:copasi file (phosphorylation_of_MAPK).KK7.cps has been parsed into Python\n",
      "DEBUG:PyCoTools.pycopi:pycopi:120:Model written to /home/b3053674/Documents/PyCoTools/PyCoTools/PyCoToolsTutorial/ProfileLikelihood/-1/(phosphorylation_of_MAPK).KK7.cps\n",
      "DEBUG:PyCoTools.pycopi:pycopi:108:copasi file (dephosphorylation_of_MAPK-P).KK10.cps has been parsed into Python\n",
      "DEBUG:PyCoTools.pycopi:pycopi:108:copasi file (dephosphorylation_of_MAPK-P).KK10.cps has been parsed into Python\n",
      "DEBUG:PyCoTools.pycopi:pycopi:108:copasi file (dephosphorylation_of_MAPK-P).KK10.cps has been parsed into Python\n",
      "DEBUG:PyCoTools.pycopi:pycopi:120:Model written to /home/b3053674/Documents/PyCoTools/PyCoTools/PyCoToolsTutorial/ProfileLikelihood/-1/(dephosphorylation_of_MAPK-P).KK10.cps\n",
      "INFO:root:pycopi:3518:defining report\n",
      "DEBUG:PyCoTools.pycopi:pycopi:108:copasi file (dephosphorylation_of_MAPK-P).KK10.cps has been parsed into Python\n",
      "DEBUG:PyCoTools.pycopi:pycopi:108:copasi file (dephosphorylation_of_MAPK-P).KK10.cps has been parsed into Python\n",
      "DEBUG:PyCoTools.pycopi:pycopi:1052:created a 'profile_likelihod' type report\n",
      "DEBUG:PyCoTools.pycopi:pycopi:120:Model written to /home/b3053674/Documents/PyCoTools/PyCoTools/PyCoToolsTutorial/ProfileLikelihood/-1/(dephosphorylation_of_MAPK-P).KK10.cps\n",
      "DEBUG:PyCoTools.pycopi:pycopi:120:Model written to /home/b3053674/Documents/PyCoTools/PyCoTools/PyCoToolsTutorial/ProfileLikelihood/-1/(dephosphorylation_of_MAPK-P).KK10.cps\n",
      "DEBUG:PyCoTools.pycopi:pycopi:108:copasi file (dephosphorylation_of_MAPK-P).KK10.cps has been parsed into Python\n",
      "DEBUG:PyCoTools.pycopi:pycopi:108:copasi file (dephosphorylation_of_MAPK-P).KK10.cps has been parsed into Python\n",
      "DEBUG:PyCoTools.pycopi:pycopi:120:Model written to /home/b3053674/Documents/PyCoTools/PyCoTools/PyCoToolsTutorial/ProfileLikelihood/-1/(dephosphorylation_of_MAPK-P).KK10.cps\n",
      "DEBUG:PyCoTools.pycopi:pycopi:108:copasi file Mek1-PP.cps has been parsed into Python\n",
      "DEBUG:PyCoTools.pycopi:pycopi:108:copasi file Mek1-PP.cps has been parsed into Python\n",
      "DEBUG:PyCoTools.pycopi:pycopi:108:copasi file Mek1-PP.cps has been parsed into Python\n",
      "DEBUG:PyCoTools.pycopi:pycopi:120:Model written to /home/b3053674/Documents/PyCoTools/PyCoTools/PyCoToolsTutorial/ProfileLikelihood/-1/Mek1-PP.cps\n",
      "INFO:root:pycopi:3518:defining report\n",
      "DEBUG:PyCoTools.pycopi:pycopi:108:copasi file Mek1-PP.cps has been parsed into Python\n",
      "DEBUG:PyCoTools.pycopi:pycopi:108:copasi file Mek1-PP.cps has been parsed into Python\n",
      "DEBUG:PyCoTools.pycopi:pycopi:1052:created a 'profile_likelihod' type report\n",
      "DEBUG:PyCoTools.pycopi:pycopi:120:Model written to /home/b3053674/Documents/PyCoTools/PyCoTools/PyCoToolsTutorial/ProfileLikelihood/-1/Mek1-PP.cps\n",
      "DEBUG:PyCoTools.pycopi:pycopi:120:Model written to /home/b3053674/Documents/PyCoTools/PyCoTools/PyCoToolsTutorial/ProfileLikelihood/-1/Mek1-PP.cps\n",
      "DEBUG:PyCoTools.pycopi:pycopi:108:copasi file Mek1-PP.cps has been parsed into Python\n",
      "DEBUG:PyCoTools.pycopi:pycopi:108:copasi file Mek1-PP.cps has been parsed into Python\n",
      "DEBUG:PyCoTools.pycopi:pycopi:120:Model written to /home/b3053674/Documents/PyCoTools/PyCoTools/PyCoToolsTutorial/ProfileLikelihood/-1/Mek1-PP.cps\n",
      "DEBUG:PyCoTools.pycopi:pycopi:108:copasi file (dephosphorylation_of_MAPKK-PP).V5.cps has been parsed into Python\n",
      "DEBUG:PyCoTools.pycopi:pycopi:108:copasi file (dephosphorylation_of_MAPKK-PP).V5.cps has been parsed into Python\n",
      "DEBUG:PyCoTools.pycopi:pycopi:108:copasi file (dephosphorylation_of_MAPKK-PP).V5.cps has been parsed into Python\n",
      "DEBUG:PyCoTools.pycopi:pycopi:120:Model written to /home/b3053674/Documents/PyCoTools/PyCoTools/PyCoToolsTutorial/ProfileLikelihood/-1/(dephosphorylation_of_MAPKK-PP).V5.cps\n",
      "INFO:root:pycopi:3518:defining report\n",
      "DEBUG:PyCoTools.pycopi:pycopi:108:copasi file (dephosphorylation_of_MAPKK-PP).V5.cps has been parsed into Python\n",
      "DEBUG:PyCoTools.pycopi:pycopi:108:copasi file (dephosphorylation_of_MAPKK-PP).V5.cps has been parsed into Python\n",
      "DEBUG:PyCoTools.pycopi:pycopi:1052:created a 'profile_likelihod' type report\n",
      "DEBUG:PyCoTools.pycopi:pycopi:120:Model written to /home/b3053674/Documents/PyCoTools/PyCoTools/PyCoToolsTutorial/ProfileLikelihood/-1/(dephosphorylation_of_MAPKK-PP).V5.cps\n",
      "DEBUG:PyCoTools.pycopi:pycopi:120:Model written to /home/b3053674/Documents/PyCoTools/PyCoTools/PyCoToolsTutorial/ProfileLikelihood/-1/(dephosphorylation_of_MAPKK-PP).V5.cps\n",
      "DEBUG:PyCoTools.pycopi:pycopi:108:copasi file (dephosphorylation_of_MAPKK-PP).V5.cps has been parsed into Python\n",
      "DEBUG:PyCoTools.pycopi:pycopi:108:copasi file (dephosphorylation_of_MAPKK-PP).V5.cps has been parsed into Python\n",
      "DEBUG:PyCoTools.pycopi:pycopi:120:Model written to /home/b3053674/Documents/PyCoTools/PyCoTools/PyCoToolsTutorial/ProfileLikelihood/-1/(dephosphorylation_of_MAPKK-PP).V5.cps\n",
      "DEBUG:PyCoTools.pycopi:pycopi:108:copasi file (dephosphorylation_of_MAPK-P).V10.cps has been parsed into Python\n",
      "DEBUG:PyCoTools.pycopi:pycopi:108:copasi file (dephosphorylation_of_MAPK-P).V10.cps has been parsed into Python\n",
      "DEBUG:PyCoTools.pycopi:pycopi:108:copasi file (dephosphorylation_of_MAPK-P).V10.cps has been parsed into Python\n",
      "DEBUG:PyCoTools.pycopi:pycopi:120:Model written to /home/b3053674/Documents/PyCoTools/PyCoTools/PyCoToolsTutorial/ProfileLikelihood/-1/(dephosphorylation_of_MAPK-P).V10.cps\n",
      "INFO:root:pycopi:3518:defining report\n",
      "DEBUG:PyCoTools.pycopi:pycopi:108:copasi file (dephosphorylation_of_MAPK-P).V10.cps has been parsed into Python\n",
      "DEBUG:PyCoTools.pycopi:pycopi:108:copasi file (dephosphorylation_of_MAPK-P).V10.cps has been parsed into Python\n",
      "DEBUG:PyCoTools.pycopi:pycopi:1052:created a 'profile_likelihod' type report\n",
      "DEBUG:PyCoTools.pycopi:pycopi:120:Model written to /home/b3053674/Documents/PyCoTools/PyCoTools/PyCoToolsTutorial/ProfileLikelihood/-1/(dephosphorylation_of_MAPK-P).V10.cps\n",
      "DEBUG:PyCoTools.pycopi:pycopi:120:Model written to /home/b3053674/Documents/PyCoTools/PyCoTools/PyCoToolsTutorial/ProfileLikelihood/-1/(dephosphorylation_of_MAPK-P).V10.cps\n",
      "DEBUG:PyCoTools.pycopi:pycopi:108:copasi file (dephosphorylation_of_MAPK-P).V10.cps has been parsed into Python\n",
      "DEBUG:PyCoTools.pycopi:pycopi:108:copasi file (dephosphorylation_of_MAPK-P).V10.cps has been parsed into Python\n",
      "DEBUG:PyCoTools.pycopi:pycopi:120:Model written to /home/b3053674/Documents/PyCoTools/PyCoTools/PyCoToolsTutorial/ProfileLikelihood/-1/(dephosphorylation_of_MAPK-P).V10.cps\n",
      "DEBUG:PyCoTools.pycopi:pycopi:108:copasi file Mek1.cps has been parsed into Python\n",
      "DEBUG:PyCoTools.pycopi:pycopi:108:copasi file Mek1.cps has been parsed into Python\n",
      "DEBUG:PyCoTools.pycopi:pycopi:108:copasi file Mek1.cps has been parsed into Python\n",
      "DEBUG:PyCoTools.pycopi:pycopi:120:Model written to /home/b3053674/Documents/PyCoTools/PyCoTools/PyCoToolsTutorial/ProfileLikelihood/-1/Mek1.cps\n",
      "INFO:root:pycopi:3518:defining report\n",
      "DEBUG:PyCoTools.pycopi:pycopi:108:copasi file Mek1.cps has been parsed into Python\n",
      "DEBUG:PyCoTools.pycopi:pycopi:108:copasi file Mek1.cps has been parsed into Python\n",
      "DEBUG:PyCoTools.pycopi:pycopi:1052:created a 'profile_likelihod' type report\n",
      "DEBUG:PyCoTools.pycopi:pycopi:120:Model written to /home/b3053674/Documents/PyCoTools/PyCoTools/PyCoToolsTutorial/ProfileLikelihood/-1/Mek1.cps\n",
      "DEBUG:PyCoTools.pycopi:pycopi:120:Model written to /home/b3053674/Documents/PyCoTools/PyCoTools/PyCoToolsTutorial/ProfileLikelihood/-1/Mek1.cps\n",
      "DEBUG:PyCoTools.pycopi:pycopi:108:copasi file Mek1.cps has been parsed into Python\n",
      "DEBUG:PyCoTools.pycopi:pycopi:108:copasi file Mek1.cps has been parsed into Python\n",
      "DEBUG:PyCoTools.pycopi:pycopi:120:Model written to /home/b3053674/Documents/PyCoTools/PyCoTools/PyCoToolsTutorial/ProfileLikelihood/-1/Mek1.cps\n",
      "DEBUG:PyCoTools.pycopi:pycopi:108:copasi file Mek1-P.cps has been parsed into Python\n",
      "DEBUG:PyCoTools.pycopi:pycopi:108:copasi file Mek1-P.cps has been parsed into Python\n",
      "DEBUG:PyCoTools.pycopi:pycopi:108:copasi file Mek1-P.cps has been parsed into Python\n",
      "DEBUG:PyCoTools.pycopi:pycopi:120:Model written to /home/b3053674/Documents/PyCoTools/PyCoTools/PyCoToolsTutorial/ProfileLikelihood/-1/Mek1-P.cps\n",
      "INFO:root:pycopi:3518:defining report\n",
      "DEBUG:PyCoTools.pycopi:pycopi:108:copasi file Mek1-P.cps has been parsed into Python\n",
      "DEBUG:PyCoTools.pycopi:pycopi:108:copasi file Mek1-P.cps has been parsed into Python\n",
      "DEBUG:PyCoTools.pycopi:pycopi:1052:created a 'profile_likelihod' type report\n",
      "DEBUG:PyCoTools.pycopi:pycopi:120:Model written to /home/b3053674/Documents/PyCoTools/PyCoTools/PyCoToolsTutorial/ProfileLikelihood/-1/Mek1-P.cps\n",
      "DEBUG:PyCoTools.pycopi:pycopi:120:Model written to /home/b3053674/Documents/PyCoTools/PyCoTools/PyCoToolsTutorial/ProfileLikelihood/-1/Mek1-P.cps\n",
      "DEBUG:PyCoTools.pycopi:pycopi:108:copasi file Mek1-P.cps has been parsed into Python\n",
      "DEBUG:PyCoTools.pycopi:pycopi:108:copasi file Mek1-P.cps has been parsed into Python\n",
      "DEBUG:PyCoTools.pycopi:pycopi:120:Model written to /home/b3053674/Documents/PyCoTools/PyCoTools/PyCoToolsTutorial/ProfileLikelihood/-1/Mek1-P.cps\n",
      "DEBUG:PyCoTools.pycopi:pycopi:108:copasi file (dephosphorylation_of_MAPKK-P).V6.cps has been parsed into Python\n",
      "DEBUG:PyCoTools.pycopi:pycopi:108:copasi file (dephosphorylation_of_MAPKK-P).V6.cps has been parsed into Python\n",
      "DEBUG:PyCoTools.pycopi:pycopi:108:copasi file (dephosphorylation_of_MAPKK-P).V6.cps has been parsed into Python\n",
      "DEBUG:PyCoTools.pycopi:pycopi:120:Model written to /home/b3053674/Documents/PyCoTools/PyCoTools/PyCoToolsTutorial/ProfileLikelihood/-1/(dephosphorylation_of_MAPKK-P).V6.cps\n",
      "INFO:root:pycopi:3518:defining report\n",
      "DEBUG:PyCoTools.pycopi:pycopi:108:copasi file (dephosphorylation_of_MAPKK-P).V6.cps has been parsed into Python\n",
      "DEBUG:PyCoTools.pycopi:pycopi:108:copasi file (dephosphorylation_of_MAPKK-P).V6.cps has been parsed into Python\n",
      "DEBUG:PyCoTools.pycopi:pycopi:1052:created a 'profile_likelihod' type report\n",
      "DEBUG:PyCoTools.pycopi:pycopi:120:Model written to /home/b3053674/Documents/PyCoTools/PyCoTools/PyCoToolsTutorial/ProfileLikelihood/-1/(dephosphorylation_of_MAPKK-P).V6.cps\n",
      "DEBUG:PyCoTools.pycopi:pycopi:120:Model written to /home/b3053674/Documents/PyCoTools/PyCoTools/PyCoToolsTutorial/ProfileLikelihood/-1/(dephosphorylation_of_MAPKK-P).V6.cps\n",
      "DEBUG:PyCoTools.pycopi:pycopi:108:copasi file (dephosphorylation_of_MAPKK-P).V6.cps has been parsed into Python\n",
      "DEBUG:PyCoTools.pycopi:pycopi:108:copasi file (dephosphorylation_of_MAPKK-P).V6.cps has been parsed into Python\n",
      "DEBUG:PyCoTools.pycopi:pycopi:120:Model written to /home/b3053674/Documents/PyCoTools/PyCoTools/PyCoToolsTutorial/ProfileLikelihood/-1/(dephosphorylation_of_MAPKK-P).V6.cps\n",
      "DEBUG:PyCoTools.pycopi:pycopi:108:copasi file (MAPKKK_activation).n.cps has been parsed into Python\n",
      "DEBUG:PyCoTools.pycopi:pycopi:108:copasi file (MAPKKK_activation).n.cps has been parsed into Python\n",
      "DEBUG:PyCoTools.pycopi:pycopi:108:copasi file (MAPKKK_activation).n.cps has been parsed into Python\n",
      "DEBUG:PyCoTools.pycopi:pycopi:120:Model written to /home/b3053674/Documents/PyCoTools/PyCoTools/PyCoToolsTutorial/ProfileLikelihood/-1/(MAPKKK_activation).n.cps\n",
      "INFO:root:pycopi:3518:defining report\n",
      "DEBUG:PyCoTools.pycopi:pycopi:108:copasi file (MAPKKK_activation).n.cps has been parsed into Python\n",
      "DEBUG:PyCoTools.pycopi:pycopi:108:copasi file (MAPKKK_activation).n.cps has been parsed into Python\n",
      "DEBUG:PyCoTools.pycopi:pycopi:1052:created a 'profile_likelihod' type report\n",
      "DEBUG:PyCoTools.pycopi:pycopi:120:Model written to /home/b3053674/Documents/PyCoTools/PyCoTools/PyCoToolsTutorial/ProfileLikelihood/-1/(MAPKKK_activation).n.cps\n",
      "DEBUG:PyCoTools.pycopi:pycopi:120:Model written to /home/b3053674/Documents/PyCoTools/PyCoTools/PyCoToolsTutorial/ProfileLikelihood/-1/(MAPKKK_activation).n.cps\n",
      "DEBUG:PyCoTools.pycopi:pycopi:108:copasi file (MAPKKK_activation).n.cps has been parsed into Python\n",
      "DEBUG:PyCoTools.pycopi:pycopi:108:copasi file (MAPKKK_activation).n.cps has been parsed into Python\n",
      "DEBUG:PyCoTools.pycopi:pycopi:120:Model written to /home/b3053674/Documents/PyCoTools/PyCoTools/PyCoToolsTutorial/ProfileLikelihood/-1/(MAPKKK_activation).n.cps\n",
      "DEBUG:PyCoTools.pycopi:pycopi:108:copasi file (phosphorylation_of_MAPKK).KK3.cps has been parsed into Python\n",
      "DEBUG:PyCoTools.pycopi:pycopi:120:Model written to /home/b3053674/Documents/PyCoTools/PyCoTools/PyCoToolsTutorial/ProfileLikelihood/-1/(phosphorylation_of_MAPKK).KK3.cps\n",
      "DEBUG:PyCoTools.pycopi:pycopi:108:copasi file (MAPKKK_activation).K1.cps has been parsed into Python\n",
      "DEBUG:PyCoTools.pycopi:pycopi:120:Model written to /home/b3053674/Documents/PyCoTools/PyCoTools/PyCoToolsTutorial/ProfileLikelihood/-1/(MAPKKK_activation).K1.cps\n",
      "DEBUG:PyCoTools.pycopi:pycopi:108:copasi file Erk2-P.cps has been parsed into Python\n",
      "DEBUG:PyCoTools.pycopi:pycopi:120:Model written to /home/b3053674/Documents/PyCoTools/PyCoTools/PyCoToolsTutorial/ProfileLikelihood/-1/Erk2-P.cps\n",
      "DEBUG:PyCoTools.pycopi:pycopi:108:copasi file (dephosphorylation_of_MAPK-PP).V9.cps has been parsed into Python\n",
      "DEBUG:PyCoTools.pycopi:pycopi:120:Model written to /home/b3053674/Documents/PyCoTools/PyCoTools/PyCoToolsTutorial/ProfileLikelihood/-1/(dephosphorylation_of_MAPK-PP).V9.cps\n",
      "DEBUG:PyCoTools.pycopi:pycopi:108:copasi file Mos-P.cps has been parsed into Python\n",
      "DEBUG:PyCoTools.pycopi:pycopi:120:Model written to /home/b3053674/Documents/PyCoTools/PyCoTools/PyCoToolsTutorial/ProfileLikelihood/-1/Mos-P.cps\n",
      "DEBUG:PyCoTools.pycopi:pycopi:108:copasi file (phosphorylation_of_MAPK).k7.cps has been parsed into Python\n",
      "DEBUG:PyCoTools.pycopi:pycopi:120:Model written to /home/b3053674/Documents/PyCoTools/PyCoTools/PyCoToolsTutorial/ProfileLikelihood/-1/(phosphorylation_of_MAPK).k7.cps\n",
      "DEBUG:PyCoTools.pycopi:pycopi:108:copasi file (phosphorylation_of_MAPK-P).k8.cps has been parsed into Python\n",
      "DEBUG:PyCoTools.pycopi:pycopi:120:Model written to /home/b3053674/Documents/PyCoTools/PyCoTools/PyCoToolsTutorial/ProfileLikelihood/-1/(phosphorylation_of_MAPK-P).k8.cps\n",
      "DEBUG:PyCoTools.pycopi:pycopi:108:copasi file (MAPKKK_inactivation).KK2.cps has been parsed into Python\n",
      "DEBUG:PyCoTools.pycopi:pycopi:120:Model written to /home/b3053674/Documents/PyCoTools/PyCoTools/PyCoToolsTutorial/ProfileLikelihood/-1/(MAPKKK_inactivation).KK2.cps\n",
      "DEBUG:PyCoTools.pycopi:pycopi:108:copasi file (MAPKKK_inactivation).V2.cps has been parsed into Python\n",
      "DEBUG:PyCoTools.pycopi:pycopi:120:Model written to /home/b3053674/Documents/PyCoTools/PyCoTools/PyCoToolsTutorial/ProfileLikelihood/-1/(MAPKKK_inactivation).V2.cps\n",
      "DEBUG:PyCoTools.pycopi:pycopi:108:copasi file Mos.cps has been parsed into Python\n",
      "DEBUG:PyCoTools.pycopi:pycopi:120:Model written to /home/b3053674/Documents/PyCoTools/PyCoTools/PyCoToolsTutorial/ProfileLikelihood/-1/Mos.cps\n",
      "DEBUG:PyCoTools.pycopi:pycopi:108:copasi file Erk2-PP.cps has been parsed into Python\n",
      "DEBUG:PyCoTools.pycopi:pycopi:120:Model written to /home/b3053674/Documents/PyCoTools/PyCoTools/PyCoToolsTutorial/ProfileLikelihood/-1/Erk2-PP.cps\n",
      "DEBUG:PyCoTools.pycopi:pycopi:108:copasi file (phosphorylation_of_MAPKK).k3.cps has been parsed into Python\n",
      "DEBUG:PyCoTools.pycopi:pycopi:120:Model written to /home/b3053674/Documents/PyCoTools/PyCoTools/PyCoToolsTutorial/ProfileLikelihood/-1/(phosphorylation_of_MAPKK).k3.cps\n",
      "DEBUG:PyCoTools.pycopi:pycopi:108:copasi file (phosphorylation_of_MAPKK-P).k4.cps has been parsed into Python\n",
      "DEBUG:PyCoTools.pycopi:pycopi:120:Model written to /home/b3053674/Documents/PyCoTools/PyCoTools/PyCoToolsTutorial/ProfileLikelihood/-1/(phosphorylation_of_MAPKK-P).k4.cps\n",
      "DEBUG:PyCoTools.pycopi:pycopi:108:copasi file (dephosphorylation_of_MAPKK-PP).KK5.cps has been parsed into Python\n",
      "DEBUG:PyCoTools.pycopi:pycopi:120:Model written to /home/b3053674/Documents/PyCoTools/PyCoTools/PyCoToolsTutorial/ProfileLikelihood/-1/(dephosphorylation_of_MAPKK-PP).KK5.cps\n",
      "DEBUG:PyCoTools.pycopi:pycopi:108:copasi file (phosphorylation_of_MAPK-P).KK8.cps has been parsed into Python\n",
      "DEBUG:PyCoTools.pycopi:pycopi:120:Model written to /home/b3053674/Documents/PyCoTools/PyCoTools/PyCoToolsTutorial/ProfileLikelihood/-1/(phosphorylation_of_MAPK-P).KK8.cps\n",
      "DEBUG:PyCoTools.pycopi:pycopi:108:copasi file (dephosphorylation_of_MAPK-PP).KK9.cps has been parsed into Python\n",
      "DEBUG:PyCoTools.pycopi:pycopi:120:Model written to /home/b3053674/Documents/PyCoTools/PyCoTools/PyCoToolsTutorial/ProfileLikelihood/-1/(dephosphorylation_of_MAPK-PP).KK9.cps\n",
      "DEBUG:PyCoTools.pycopi:pycopi:108:copasi file (dephosphorylation_of_MAPKK-P).KK6.cps has been parsed into Python\n",
      "DEBUG:PyCoTools.pycopi:pycopi:120:Model written to /home/b3053674/Documents/PyCoTools/PyCoTools/PyCoToolsTutorial/ProfileLikelihood/-1/(dephosphorylation_of_MAPKK-P).KK6.cps\n",
      "DEBUG:PyCoTools.pycopi:pycopi:108:copasi file (phosphorylation_of_MAPKK-P).KK4.cps has been parsed into Python\n",
      "DEBUG:PyCoTools.pycopi:pycopi:120:Model written to /home/b3053674/Documents/PyCoTools/PyCoTools/PyCoToolsTutorial/ProfileLikelihood/-1/(phosphorylation_of_MAPKK-P).KK4.cps\n",
      "DEBUG:PyCoTools.pycopi:pycopi:108:copasi file Erk2.cps has been parsed into Python\n",
      "DEBUG:PyCoTools.pycopi:pycopi:120:Model written to /home/b3053674/Documents/PyCoTools/PyCoTools/PyCoToolsTutorial/ProfileLikelihood/-1/Erk2.cps\n",
      "DEBUG:PyCoTools.pycopi:pycopi:108:copasi file (MAPKKK_activation).V1.cps has been parsed into Python\n",
      "DEBUG:PyCoTools.pycopi:pycopi:120:Model written to /home/b3053674/Documents/PyCoTools/PyCoTools/PyCoToolsTutorial/ProfileLikelihood/-1/(MAPKKK_activation).V1.cps\n",
      "DEBUG:PyCoTools.pycopi:pycopi:108:copasi file (MAPKKK_activation).Ki.cps has been parsed into Python\n",
      "DEBUG:PyCoTools.pycopi:pycopi:120:Model written to /home/b3053674/Documents/PyCoTools/PyCoTools/PyCoToolsTutorial/ProfileLikelihood/-1/(MAPKKK_activation).Ki.cps\n",
      "DEBUG:PyCoTools.pycopi:pycopi:108:copasi file (phosphorylation_of_MAPK).KK7.cps has been parsed into Python\n",
      "DEBUG:PyCoTools.pycopi:pycopi:120:Model written to /home/b3053674/Documents/PyCoTools/PyCoTools/PyCoToolsTutorial/ProfileLikelihood/-1/(phosphorylation_of_MAPK).KK7.cps\n",
      "DEBUG:PyCoTools.pycopi:pycopi:108:copasi file (dephosphorylation_of_MAPK-P).KK10.cps has been parsed into Python\n",
      "DEBUG:PyCoTools.pycopi:pycopi:120:Model written to /home/b3053674/Documents/PyCoTools/PyCoTools/PyCoToolsTutorial/ProfileLikelihood/-1/(dephosphorylation_of_MAPK-P).KK10.cps\n",
      "DEBUG:PyCoTools.pycopi:pycopi:108:copasi file Mek1-PP.cps has been parsed into Python\n",
      "DEBUG:PyCoTools.pycopi:pycopi:120:Model written to /home/b3053674/Documents/PyCoTools/PyCoTools/PyCoToolsTutorial/ProfileLikelihood/-1/Mek1-PP.cps\n",
      "DEBUG:PyCoTools.pycopi:pycopi:108:copasi file (dephosphorylation_of_MAPKK-PP).V5.cps has been parsed into Python\n",
      "DEBUG:PyCoTools.pycopi:pycopi:120:Model written to /home/b3053674/Documents/PyCoTools/PyCoTools/PyCoToolsTutorial/ProfileLikelihood/-1/(dephosphorylation_of_MAPKK-PP).V5.cps\n",
      "DEBUG:PyCoTools.pycopi:pycopi:108:copasi file (dephosphorylation_of_MAPK-P).V10.cps has been parsed into Python\n",
      "DEBUG:PyCoTools.pycopi:pycopi:120:Model written to /home/b3053674/Documents/PyCoTools/PyCoTools/PyCoToolsTutorial/ProfileLikelihood/-1/(dephosphorylation_of_MAPK-P).V10.cps\n",
      "DEBUG:PyCoTools.pycopi:pycopi:108:copasi file Mek1.cps has been parsed into Python\n",
      "DEBUG:PyCoTools.pycopi:pycopi:120:Model written to /home/b3053674/Documents/PyCoTools/PyCoTools/PyCoToolsTutorial/ProfileLikelihood/-1/Mek1.cps\n",
      "DEBUG:PyCoTools.pycopi:pycopi:108:copasi file Mek1-P.cps has been parsed into Python\n",
      "DEBUG:PyCoTools.pycopi:pycopi:120:Model written to /home/b3053674/Documents/PyCoTools/PyCoTools/PyCoToolsTutorial/ProfileLikelihood/-1/Mek1-P.cps\n",
      "DEBUG:PyCoTools.pycopi:pycopi:108:copasi file (dephosphorylation_of_MAPKK-P).V6.cps has been parsed into Python\n",
      "DEBUG:PyCoTools.pycopi:pycopi:120:Model written to /home/b3053674/Documents/PyCoTools/PyCoTools/PyCoToolsTutorial/ProfileLikelihood/-1/(dephosphorylation_of_MAPKK-P).V6.cps\n",
      "DEBUG:PyCoTools.pycopi:pycopi:108:copasi file (MAPKKK_activation).n.cps has been parsed into Python\n",
      "DEBUG:PyCoTools.pycopi:pycopi:120:Model written to /home/b3053674/Documents/PyCoTools/PyCoTools/PyCoToolsTutorial/ProfileLikelihood/-1/(MAPKKK_activation).n.cps\n",
      "DEBUG:PyCoTools.pycopi:pycopi:120:Model written to /home/b3053674/Documents/PyCoTools/PyCoTools/PyCoToolsTutorial/Kholodenko.cps\n"
     ]
    },
    {
     "data": {
      "text/plain": [
       "<PyCoTools.pydentify2.ProfileLikelihood instance at 0x7f52deb757a0>"
      ]
     },
     "execution_count": 3,
     "metadata": {},
     "output_type": "execute_result"
    }
   ],
   "source": [
    "PyCoTools.pydentify2.ProfileLikelihood(kholodenko_model,\n",
    "                                       lower_boundMultiplier=1000, ## Sample 1000 times above and below the estimated parameter value\n",
    "                                       upper_boundMultiplier=1000,\n",
    "                                       number_of_steps=10,\n",
    "                                       run='false' #turn this to 'true' to run the analysis\n",
    "                                      )"
   ]
  },
  {
   "cell_type": "markdown",
   "metadata": {
    "deletable": true,
    "editable": true
   },
   "source": [
    "By default `pydentify2` samples 10 times at 1000 fold above and below the parameter of interest and in log space. When using `pydentify2` in this way, it is necessary to take note of the `RSS` value for the current parameters and data. This is used later to calculate confidence levels. \n",
    "\n",
    "When the analysis has finished running, use the `plot` class to visualize the results. Remember you'll need the RSS. "
   ]
  },
  {
   "cell_type": "code",
   "execution_count": 5,
   "metadata": {
    "ExecuteTime": {
     "end_time": "2017-02-20T18:06:47.283000",
     "start_time": "2017-02-20T18:03:43.734Z"
    },
    "collapsed": false,
    "deletable": true,
    "editable": true
   },
   "outputs": [
    {
     "name": "stdout",
     "output_type": "stream",
     "text": [
      "DEBUG:PyCoTools.pycopi:pycopi:108:copasi file Kholodenko.cps has been parsed into Python\n",
      "DEBUG:PyCoTools.pycopi:pycopi:108:copasi file Kholodenko.cps has been parsed into Python\n"
     ]
    },
    {
     "ename": "UnboundLocalError",
     "evalue": "local variable 'chi2_df_alpha' referenced before assignment",
     "output_type": "error",
     "traceback": [
      "\u001b[0;31m---------------------------------------------------------------------------\u001b[0m",
      "\u001b[0;31mUnboundLocalError\u001b[0m                         Traceback (most recent call last)",
      "\u001b[0;32m<ipython-input-5-9a5d9542fcfb>\u001b[0m in \u001b[0;36m<module>\u001b[0;34m()\u001b[0m\n\u001b[1;32m      1\u001b[0m \u001b[0mRSS_value\u001b[0m\u001b[0;34m=\u001b[0m\u001b[0;36m300\u001b[0m \u001b[0;31m## need to specify this value yourself. (300 is just a made up for illustration)\u001b[0m\u001b[0;34m\u001b[0m\u001b[0m\n\u001b[0;32m----> 2\u001b[0;31m \u001b[0mPyCoTools\u001b[0m\u001b[0;34m.\u001b[0m\u001b[0mpydentify2\u001b[0m\u001b[0;34m.\u001b[0m\u001b[0mPlot\u001b[0m\u001b[0;34m(\u001b[0m\u001b[0mkholodenko_model\u001b[0m\u001b[0;34m,\u001b[0m\u001b[0mRSS\u001b[0m\u001b[0;34m=\u001b[0m\u001b[0mRSS_value\u001b[0m\u001b[0;34m,\u001b[0m\u001b[0mSaveFig\u001b[0m\u001b[0;34m=\u001b[0m\u001b[0;34m'true'\u001b[0m\u001b[0;34m)\u001b[0m\u001b[0;34m\u001b[0m\u001b[0m\n\u001b[0m",
      "\u001b[0;32m/home/b3053674/Documents/PyCoTools/PyCoTools/pydentify2.pyc\u001b[0m in \u001b[0;36m__init__\u001b[0;34m(self, copasi_file, **kwargs)\u001b[0m\n\u001b[1;32m    835\u001b[0m \u001b[0;34m\u001b[0m\u001b[0m\n\u001b[1;32m    836\u001b[0m         \u001b[0;32mif\u001b[0m \u001b[0mself\u001b[0m\u001b[0;34m.\u001b[0m\u001b[0mkwargs\u001b[0m\u001b[0;34m.\u001b[0m\u001b[0mget\u001b[0m\u001b[0;34m(\u001b[0m\u001b[0;34m'Mode'\u001b[0m\u001b[0;34m)\u001b[0m\u001b[0;34m==\u001b[0m\u001b[0;34m'all'\u001b[0m\u001b[0;34m:\u001b[0m\u001b[0;34m\u001b[0m\u001b[0m\n\u001b[0;32m--> 837\u001b[0;31m             \u001b[0mself\u001b[0m\u001b[0;34m.\u001b[0m\u001b[0mplot_all\u001b[0m\u001b[0;34m(\u001b[0m\u001b[0;34m)\u001b[0m\u001b[0;34m\u001b[0m\u001b[0m\n\u001b[0m\u001b[1;32m    838\u001b[0m         \u001b[0;32melif\u001b[0m \u001b[0mself\u001b[0m\u001b[0;34m.\u001b[0m\u001b[0mkwargs\u001b[0m\u001b[0;34m.\u001b[0m\u001b[0mget\u001b[0m\u001b[0;34m(\u001b[0m\u001b[0;34m'Mode'\u001b[0m\u001b[0;34m)\u001b[0m\u001b[0;34m==\u001b[0m\u001b[0;34m'one'\u001b[0m\u001b[0;34m:\u001b[0m\u001b[0;34m\u001b[0m\u001b[0m\n\u001b[1;32m    839\u001b[0m             \u001b[0mself\u001b[0m\u001b[0;34m.\u001b[0m\u001b[0mplot1\u001b[0m\u001b[0;34m(\u001b[0m\u001b[0mself\u001b[0m\u001b[0;34m.\u001b[0m\u001b[0mkwargs\u001b[0m\u001b[0;34m.\u001b[0m\u001b[0mget\u001b[0m\u001b[0;34m(\u001b[0m\u001b[0;34m'PlotIndex'\u001b[0m\u001b[0;34m)\u001b[0m\u001b[0;34m,\u001b[0m\u001b[0mself\u001b[0m\u001b[0;34m.\u001b[0m\u001b[0mkwargs\u001b[0m\u001b[0;34m.\u001b[0m\u001b[0mget\u001b[0m\u001b[0;34m(\u001b[0m\u001b[0;34m'PlotParameter'\u001b[0m\u001b[0;34m)\u001b[0m\u001b[0;34m)\u001b[0m\u001b[0;34m\u001b[0m\u001b[0m\n",
      "\u001b[0;32m/home/b3053674/Documents/PyCoTools/PyCoTools/pydentify2.pyc\u001b[0m in \u001b[0;36mplot_all\u001b[0;34m(self)\u001b[0m\n\u001b[1;32m   1178\u001b[0m             \u001b[0;32mtry\u001b[0m\u001b[0;34m:\u001b[0m\u001b[0;34m\u001b[0m\u001b[0m\n\u001b[1;32m   1179\u001b[0m                 \u001b[0;32mfor\u001b[0m \u001b[0mi\u001b[0m \u001b[0;32min\u001b[0m \u001b[0mself\u001b[0m\u001b[0;34m.\u001b[0m\u001b[0mdata\u001b[0m\u001b[0;34m[\u001b[0m\u001b[0;34m-\u001b[0m\u001b[0;36m1\u001b[0m\u001b[0;34m]\u001b[0m\u001b[0;34m:\u001b[0m\u001b[0;34m\u001b[0m\u001b[0m\n\u001b[0;32m-> 1180\u001b[0;31m                     \u001b[0mself\u001b[0m\u001b[0;34m.\u001b[0m\u001b[0mplot1\u001b[0m\u001b[0;34m(\u001b[0m\u001b[0mself\u001b[0m\u001b[0;34m.\u001b[0m\u001b[0mkwargs\u001b[0m\u001b[0;34m.\u001b[0m\u001b[0mget\u001b[0m\u001b[0;34m(\u001b[0m\u001b[0;34m'Index'\u001b[0m\u001b[0;34m)\u001b[0m\u001b[0;34m,\u001b[0m\u001b[0mi\u001b[0m\u001b[0;34m)\u001b[0m\u001b[0;34m\u001b[0m\u001b[0m\n\u001b[0m\u001b[1;32m   1181\u001b[0m             \u001b[0;32mexcept\u001b[0m \u001b[0mKeyError\u001b[0m\u001b[0;34m:\u001b[0m\u001b[0;34m\u001b[0m\u001b[0m\n\u001b[1;32m   1182\u001b[0m                 \u001b[0;32mraise\u001b[0m \u001b[0mErrors\u001b[0m\u001b[0;34m.\u001b[0m\u001b[0mInputError\u001b[0m\u001b[0;34m(\u001b[0m\u001b[0;34m'Index out of bounds, i.e. Index>number PE runs'\u001b[0m\u001b[0;34m)\u001b[0m\u001b[0;34m\u001b[0m\u001b[0m\n",
      "\u001b[0;32m/home/b3053674/Documents/PyCoTools/PyCoTools/pydentify2.pyc\u001b[0m in \u001b[0;36mplot1\u001b[0;34m(self, index, parameter)\u001b[0m\n\u001b[1;32m   1100\u001b[0m             \u001b[0mCI\u001b[0m\u001b[0;34m=\u001b[0m \u001b[0mnumpy\u001b[0m\u001b[0;34m.\u001b[0m\u001b[0mlog10\u001b[0m\u001b[0;34m(\u001b[0m\u001b[0mself\u001b[0m\u001b[0;34m.\u001b[0m\u001b[0mcalc_chi2_CI\u001b[0m\u001b[0;34m(\u001b[0m\u001b[0;34m)\u001b[0m\u001b[0;34m[\u001b[0m\u001b[0mindex\u001b[0m\u001b[0;34m]\u001b[0m\u001b[0;34m)\u001b[0m\u001b[0;34m\u001b[0m\u001b[0m\n\u001b[1;32m   1101\u001b[0m         \u001b[0;32melse\u001b[0m\u001b[0;34m:\u001b[0m\u001b[0;34m\u001b[0m\u001b[0m\n\u001b[0;32m-> 1102\u001b[0;31m             \u001b[0mCI\u001b[0m\u001b[0;34m=\u001b[0m \u001b[0mself\u001b[0m\u001b[0;34m.\u001b[0m\u001b[0mcalc_chi2_CI\u001b[0m\u001b[0;34m(\u001b[0m\u001b[0;34m)\u001b[0m\u001b[0;34m[\u001b[0m\u001b[0mindex\u001b[0m\u001b[0;34m]\u001b[0m\u001b[0;34m\u001b[0m\u001b[0m\n\u001b[0m\u001b[1;32m   1103\u001b[0m \u001b[0;34m\u001b[0m\u001b[0m\n\u001b[1;32m   1104\u001b[0m \u001b[0;34m\u001b[0m\u001b[0m\n",
      "\u001b[0;32m/home/b3053674/Documents/PyCoTools/PyCoTools/pydentify2.pyc\u001b[0m in \u001b[0;36mcalc_chi2_CI\u001b[0;34m(self)\u001b[0m\n\u001b[1;32m   1027\u001b[0m         \u001b[0;32mfor\u001b[0m \u001b[0mi\u001b[0m \u001b[0;32min\u001b[0m  \u001b[0mself\u001b[0m\u001b[0;34m.\u001b[0m\u001b[0mget_RSS\u001b[0m\u001b[0;34m(\u001b[0m\u001b[0;34m)\u001b[0m\u001b[0;34m:\u001b[0m\u001b[0;34m\u001b[0m\u001b[0m\n\u001b[1;32m   1028\u001b[0m             \u001b[0mr\u001b[0m\u001b[0;34m=\u001b[0m \u001b[0mself\u001b[0m\u001b[0;34m.\u001b[0m\u001b[0mget_RSS\u001b[0m\u001b[0;34m(\u001b[0m\u001b[0;34m)\u001b[0m\u001b[0;34m[\u001b[0m\u001b[0mi\u001b[0m\u001b[0;34m]\u001b[0m\u001b[0;34m\u001b[0m\u001b[0m\n\u001b[0;32m-> 1029\u001b[0;31m             \u001b[0ma\u001b[0m\u001b[0;34m=\u001b[0m\u001b[0mself\u001b[0m\u001b[0;34m.\u001b[0m\u001b[0mget_chi2_alpha\u001b[0m\u001b[0;34m(\u001b[0m\u001b[0;34m)\u001b[0m\u001b[0;34m\u001b[0m\u001b[0m\n\u001b[0m\u001b[1;32m   1030\u001b[0m             \u001b[0mn\u001b[0m\u001b[0;34m=\u001b[0m\u001b[0mself\u001b[0m\u001b[0;34m.\u001b[0m\u001b[0mnum_data_points\u001b[0m\u001b[0;34m(\u001b[0m\u001b[0;34m)\u001b[0m\u001b[0;34m\u001b[0m\u001b[0m\n\u001b[1;32m   1031\u001b[0m             \u001b[0mCI_dct\u001b[0m\u001b[0;34m[\u001b[0m\u001b[0mi\u001b[0m\u001b[0;34m]\u001b[0m\u001b[0;34m=\u001b[0m\u001b[0mr\u001b[0m\u001b[0;34m*\u001b[0m\u001b[0mmath\u001b[0m\u001b[0;34m.\u001b[0m\u001b[0mexp\u001b[0m\u001b[0;34m(\u001b[0m\u001b[0;34m(\u001b[0m\u001b[0ma\u001b[0m\u001b[0;34m/\u001b[0m\u001b[0mn\u001b[0m\u001b[0;34m)\u001b[0m\u001b[0;34m)\u001b[0m\u001b[0;34m\u001b[0m\u001b[0m\n",
      "\u001b[0;32m/home/b3053674/Documents/PyCoTools/PyCoTools/pydentify2.pyc\u001b[0m in \u001b[0;36mget_chi2_alpha\u001b[0;34m(self)\u001b[0m\n\u001b[1;32m    997\u001b[0m         \u001b[0malphas\u001b[0m\u001b[0;34m=\u001b[0m\u001b[0mnumpy\u001b[0m\u001b[0;34m.\u001b[0m\u001b[0marange\u001b[0m\u001b[0;34m(\u001b[0m\u001b[0;36m0\u001b[0m\u001b[0;34m,\u001b[0m\u001b[0;36m1\u001b[0m\u001b[0;34m,\u001b[0m\u001b[0;36m0.01\u001b[0m\u001b[0;34m)\u001b[0m\u001b[0;34m\u001b[0m\u001b[0m\n\u001b[1;32m    998\u001b[0m         \u001b[0;32mfor\u001b[0m \u001b[0mi\u001b[0m \u001b[0;32min\u001b[0m \u001b[0malphas\u001b[0m\u001b[0;34m:\u001b[0m\u001b[0;34m\u001b[0m\u001b[0m\n\u001b[0;32m--> 999\u001b[0;31m             \u001b[0mdct\u001b[0m\u001b[0;34m[\u001b[0m\u001b[0mround\u001b[0m\u001b[0;34m(\u001b[0m\u001b[0mi\u001b[0m\u001b[0;34m,\u001b[0m\u001b[0;36m3\u001b[0m\u001b[0;34m)\u001b[0m\u001b[0;34m]\u001b[0m\u001b[0;34m=\u001b[0m\u001b[0mself\u001b[0m\u001b[0;34m.\u001b[0m\u001b[0mchi2_lookup_table\u001b[0m\u001b[0;34m(\u001b[0m\u001b[0mi\u001b[0m\u001b[0;34m)\u001b[0m\u001b[0;34m\u001b[0m\u001b[0m\n\u001b[0m\u001b[1;32m   1000\u001b[0m         \u001b[0;32mreturn\u001b[0m \u001b[0mdct\u001b[0m\u001b[0;34m[\u001b[0m\u001b[0mself\u001b[0m\u001b[0;34m.\u001b[0m\u001b[0mkwargs\u001b[0m\u001b[0;34m.\u001b[0m\u001b[0mget\u001b[0m\u001b[0;34m(\u001b[0m\u001b[0;34m'Alpha'\u001b[0m\u001b[0;34m)\u001b[0m\u001b[0;34m]\u001b[0m\u001b[0;34m\u001b[0m\u001b[0m\n\u001b[1;32m   1001\u001b[0m \u001b[0;34m\u001b[0m\u001b[0m\n",
      "\u001b[0;32m/home/b3053674/Documents/PyCoTools/PyCoTools/pydentify2.pyc\u001b[0m in \u001b[0;36mchi2_lookup_table\u001b[0;34m(self, alpha)\u001b[0m\n\u001b[1;32m    988\u001b[0m             \u001b[0;32mif\u001b[0m \u001b[0mi\u001b[0m\u001b[0;34m[\u001b[0m\u001b[0;36m1\u001b[0m\u001b[0;34m]\u001b[0m\u001b[0;34m<=\u001b[0m\u001b[0malpha\u001b[0m\u001b[0;34m:\u001b[0m\u001b[0;34m\u001b[0m\u001b[0m\n\u001b[1;32m    989\u001b[0m                 \u001b[0mchi2_df_alpha\u001b[0m\u001b[0;34m=\u001b[0m\u001b[0mi\u001b[0m\u001b[0;34m[\u001b[0m\u001b[0;36m0\u001b[0m\u001b[0;34m]\u001b[0m\u001b[0;34m\u001b[0m\u001b[0m\n\u001b[0;32m--> 990\u001b[0;31m         \u001b[0;32mreturn\u001b[0m \u001b[0mchi2_df_alpha\u001b[0m\u001b[0;34m\u001b[0m\u001b[0m\n\u001b[0m\u001b[1;32m    991\u001b[0m \u001b[0;34m\u001b[0m\u001b[0m\n\u001b[1;32m    992\u001b[0m     \u001b[0;32mdef\u001b[0m \u001b[0mget_chi2_alpha\u001b[0m\u001b[0;34m(\u001b[0m\u001b[0mself\u001b[0m\u001b[0;34m)\u001b[0m\u001b[0;34m:\u001b[0m\u001b[0;34m\u001b[0m\u001b[0m\n",
      "\u001b[0;31mUnboundLocalError\u001b[0m: local variable 'chi2_df_alpha' referenced before assignment"
     ]
    },
    {
     "data": {
      "image/png": "iVBORw0KGgoAAAANSUhEUgAAA2MAAAIkCAYAAACTG/NpAAAABHNCSVQICAgIfAhkiAAAAAlwSFlz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\niik4AAAAAElFTkSuQmCC\n",
      "text/plain": [
       "<matplotlib.figure.Figure at 0x7f52deb5f890>"
      ]
     },
     "metadata": {},
     "output_type": "display_data"
    }
   ],
   "source": [
    "RSS_value=300 ## need to specify this value yourself. (300 is just a made up for illustration)\n",
<<<<<<< HEAD
    "PyCoTools.pydentify2.Plot(kholodenko_model,RSS=RSS_value,SaveFig='true')"
=======
    "PyCoTools.pydentify2.plot(K.kholodenko_model,RSS=RSS_value,savefig='true')"
>>>>>>> b5251ac39e0e966dfceb851ff97bd2f79e887bd0
   ]
  },
  {
   "cell_type": "markdown",
   "metadata": {
    "deletable": true,
    "editable": true
   },
   "source": [
    "## Using the `parameter_path` argument"
   ]
  },
  {
   "cell_type": "markdown",
   "metadata": {
    "collapsed": true,
    "deletable": true,
    "editable": true
   },
   "source": [
    "One of the more useful features of `pydentify2` is the ability to easily calculate profile likelihoods around parameters from a file or folder of files, such as parameter estimation output from COPASI. To do this, use the `parameter_path` kwarg. \n",
    "\n",
    "### Integer index\n",
    "\n",
    "Internally, PyCoTools assigs an `index=-1` when no `parameter_path` argument is specified. The analysis is set up in a new directory called `<pathTomodel>\\ProfileLikelihood\\-1`. When a parameter estimation results file is specified the `index` keyword dictates which rank of best fit to calculate profile likelihoods around, i.e. 0 is the best, 1 is second best and so on. "
   ]
  },
  {
   "cell_type": "code",
   "execution_count": null,
   "metadata": {
    "ExecuteTime": {
     "end_time": "2017-02-20T18:06:47.283000",
     "start_time": "2017-02-20T18:03:43.744Z"
    },
    "collapsed": false,
    "deletable": true,
    "editable": true
   },
   "outputs": [],
   "source": [
    "PyCoTools.pydentify2.ProfileLikelihood(K.kholodenko_model,\n",
    "                                       parameter_path=K.PE_data_global1,\n",
    "                                       index=0, ## 0 is best fitting (lowest RSS) parameter set\n",
    "                                       lower_boundMultiplier=1000, ## Sample 1000 times above and below the estimated parameter value\n",
    "                                       upper_boundMultiplier=1000,\n",
    "                                       number_of_steps=25, \n",
    "                                       run='false' #Just set up the profile likelihood\n",
    "                                      )"
   ]
  },
  {
   "cell_type": "markdown",
   "metadata": {
    "deletable": true,
    "editable": true
   },
   "source": [
    "Now the `RSS` is automatically taken from the parameter estimation data and does not need to be specified by the user. Now the analysis can be found under the `<PathTomodel>\\ProfileLikelihood\\0`. To plot:"
   ]
  },
  {
   "cell_type": "code",
   "execution_count": null,
   "metadata": {
    "ExecuteTime": {
     "end_time": "2017-02-20T18:06:47.283000",
     "start_time": "2017-02-20T18:03:43.756Z"
    },
    "collapsed": false,
    "deletable": true,
    "editable": true
   },
   "outputs": [],
   "source": [
    "PyCoTools.pydentify2.plot(K.kholodenko_model,parameter_path=K.PE_data_global1,savefig='true',index=0) "
   ]
  },
  {
   "cell_type": "markdown",
   "metadata": {
    "deletable": true,
    "editable": true
   },
   "source": [
    "Remember to give the `index` argument to be the same as what was used in `ProfileLikelihood`"
   ]
  },
  {
   "cell_type": "markdown",
   "metadata": {
    "collapsed": true,
    "deletable": true,
    "editable": true
   },
   "source": [
    "### List index\n",
    "The `index` kwarg also takes a list of integers to run profile likelihoods around multiple run parameter sets at once. This is useful because the profile likeihood method of identifiability analysis is a local method, and identifiability status may vary depending on what region of parameter space the parameters are in.  "
   ]
  },
  {
   "cell_type": "code",
   "execution_count": null,
   "metadata": {
    "ExecuteTime": {
     "end_time": "2017-02-20T18:06:47.283000",
     "start_time": "2017-02-20T18:03:43.768Z"
    },
    "code_folding": [],
    "collapsed": false,
    "deletable": true,
    "editable": true
   },
   "outputs": [],
   "source": [
    "range_of_indices=range(0,10,2) ##inventive list of indices \n",
    "print 'indices used: {}'.format(range_of_indices)\n",
    "PyCoTools.pydentify2.ProfileLikelihood(K.kholodenko_model,\n",
    "                                       parameter_path=K.PE_data_global1,\n",
    "                                       index=range_of_indices,\n",
    "                                       lower_boundMultiplier=1000, ## Sample 1000 times above and below the estimated parameter value\n",
    "                                       upper_boundMultiplier=1000,\n",
    "                                       number_of_steps=25, \n",
    "                                       run='false' #Just set up the profile likelihood\n",
    "                                      )"
   ]
  },
  {
   "cell_type": "markdown",
   "metadata": {
    "deletable": true,
    "editable": true
   },
   "source": [
    "To plot:"
   ]
  },
  {
   "cell_type": "code",
   "execution_count": null,
   "metadata": {
    "ExecuteTime": {
     "end_time": "2017-02-20T18:06:47.284000",
     "start_time": "2017-02-20T18:03:43.779Z"
    },
    "code_folding": [],
    "collapsed": false,
    "deletable": true,
    "editable": true
   },
   "outputs": [],
   "source": [
    "range_of_indices=range(0,10,2) #Same range used above\n",
    "PyCoTools.pydentify2.plot(K.kholodenko_model,\n",
    "                          parameter_path=K.PE_data_global1,index=range_of_indices,Multiplot='true',\n",
    "                          savefig='true') "
   ]
  },
  {
   "cell_type": "markdown",
   "metadata": {
    "deletable": true,
    "editable": true
   },
   "source": [
    "When `Multiplot='true'`, the plotter starts at the largest index and works toward the lowest, sequentially adding profiles from each index to a single canvas per parameter. Graphs in this case can be found the folder of the lowest index. When `Multiplot='false'`, each parameter index is plotted on their own canvas per `index`."
   ]
  },
  {
   "cell_type": "markdown",
   "metadata": {
    "deletable": true,
    "editable": true
   },
   "source": [
    "## running Profile Likelihood Calculations"
   ]
  },
  {
   "cell_type": "markdown",
   "metadata": {
    "collapsed": true,
    "deletable": true,
    "editable": true
   },
   "source": [
    "Each way of using `ProfileLikelihood` (referred to as `methods 1-3`) can be run by specifying an argument to the `run` keyword. There are 4 options:\n",
    "    1. `run='false'` -  set up but do not run the profile likelihood analysis\n",
    "    2. `run='slow'`  -  set up and run the profile likleihoods in serial, using a single process. \n",
    "    3. `run='multiprocess'` - set up and run profilelikelihoods on separate process in parallel. \n",
    "    4. `run='SGE'` - set up and run on a SunGrid engine based job scheduler. \n",
    "    \n",
    "Using the `multiprocess` mode is not a very sophisticated method of running in parallel. In fact, this isn't true parallel programming since multiple models are simply opened and run by multiple processes. When `run='multiprocess'`, `ProfileLikelihood` opens a new process for each parameter and attempts to run them at the same time. This can be computationally very heavy and makes a computer unusable until the analysis is finished. \n",
    "\n",
    "Note that because the parameters in this iteration of parameter estimations are not particurarly good and therefore after running this example the profiles themselves may look noisy. "
   ]
  },
  {
   "cell_type": "markdown",
   "metadata": {
    "collapsed": true,
    "deletable": true,
    "editable": true
   },
   "source": [
    "# running on a Cluster"
   ]
  },
  {
   "cell_type": "markdown",
   "metadata": {
    "deletable": true,
    "editable": true
   },
   "source": [
    "Sun grid engine users may use the `SGE` mode. This writes a `.sh` script containing commands to submit and run the model via CopasiSE on the cluster. For this reason, people with a SGE cluster but not at Newcastle University will probably have to modify the following snippet of code in the `PyCoTools.pydentify2.ProfileLikelihood().run_SGE` source code to include the directory to COPASI on their own cluster. \n",
    "\n",
    "    with open('run_script.sh','w') as f:\n",
    "        f.write('#!/bin/bash\\n#$ -V -cwd\\nmodule addapps/COPASI/4.16.104-Linux-64bit\\nCopasiSE \"{}\"'.format(self.cps_dct[i][j]))\n",
    "                    \n",
    "People using a job scheduler other than SGE will have to write their own function to submit the analysis. To do this simply copy the `run_SGE` method of the ProfileLikelihood class, change the contents of the `.sh` file and the `os.system` command to whatever is necessary for your own cluster. When using the `ProfileLikelihood` class arguments are checked for validity. Therefore you need to add a `mode` to the class by modifying the `__init__` section of `ProfileLikelihood` class, specifically the bit which raises an error if the argument passed to `run` isn't one of `['false','slow','multiprocess','SGE']`:\n",
    "\n",
    "i.e. change \n",
    "\n",
    "    if self.kwargs.get('run') not in ['false','slow','multiprocess','SGE']:\n",
    "        raise Errors.InputError('\\'run\\' keyword must be one of \\'slow\\', \\'false\\',\\'multiprocess\\', or \\'SGE\\'')\n",
    "        \n",
    "to\n",
    "\n",
    "    if self.kwargs.get('run') not in ['false','slow','multiprocess','SGE','other_job_scheduler']:\n",
    "        raise Errors.InputError('\\'run\\' keyword must be one of \\'slow\\', \\'false\\',\\'multiprocess\\', or \\'SGE\\' or \\'other_job_scheduler\\' ')"
   ]
  },
  {
   "cell_type": "markdown",
   "metadata": {
    "collapsed": true,
    "deletable": true,
    "editable": true
   },
   "source": [
    "* Kholodenko, B.N. (2000) 'Negative feedback and ultrasensitivity can bring about oscillations in the mitogen-activated protein kinase cascades', Eur J Biochem, 267.\n",
    "* Raue, A., Schilling, M., Bachmann, J., Matteson, A., Schelke, M., Kaschek, D., Hug, S., Kreutz, C., Harms, B.D., Theis, F.J., Klingmüller, U. and Timmer, J. (2013) 'Lessons Learned from Quantitative Dynamical modeling in Systems Biology', PLoS ONE, 8(9), p. e74335.\n",
    "* Raue, A., Kreutz, C., Maiwald, T., Bachmann, J., Schilling, M., Klingmüller, U. and Timmer, J. (2009) 'Structural and practical identifiability analysis of partially observed dynamical models by exploiting the profile likelihood', Bioinformatics, 25(15), pp. 1923-1929.\n",
    "* Schaber, J. (2012) 'Easy parameter identifiability analysis with COPASI', Biosystems, 110(3), pp. 183-185.\n",
    "* Raue, A., Steiert, B., Schelker, M., Kreutz, C., Maiwald, T., Hass, H., Vanlier, J., Tönsing, C., Adlung, L., Engesser, R., Mader, W., Heinemann, T., Hasenauer, J., Schilling, M., Höfer, T., Klipp, E., Theis, F., Klingmüller, U., Schöberl, B. and Timmer, J. (2015) 'Data2Dynamics: a modeling environment tailored to parameter estimation in dynamical systems', Bioinformatics.\n"
   ]
  }
 ],
 "metadata": {
  "hide_input": false,
  "kernelspec": {
   "display_name": "Python 2",
   "language": "python",
   "name": "python2"
  },
  "language_info": {
   "codemirror_mode": {
    "name": "ipython",
    "version": 2
   },
   "file_extension": ".py",
   "mimetype": "text/x-python",
   "name": "python",
   "nbconvert_exporter": "python",
   "pygments_lexer": "ipython2",
   "version": "2.7.13"
  },
  "toc": {
   "colors": {
    "hover_highlight": "#DAA520",
    "running_highlight": "#FF0000",
    "selected_highlight": "#FFD700"
   },
   "moveMenuLeft": true,
   "nav_menu": {
    "height": "511px",
    "width": "252px"
   },
   "navigate_menu": true,
   "number_sections": true,
   "sideBar": true,
   "threshold": 4,
   "toc_cell": true,
   "toc_position": {
    "height": "606px",
    "left": "0px",
    "right": "1104.73px",
    "top": "106px",
    "width": "292px"
   },
   "toc_section_display": "block",
   "toc_window_display": true
  }
 },
 "nbformat": 4,
 "nbformat_minor": 2
}
