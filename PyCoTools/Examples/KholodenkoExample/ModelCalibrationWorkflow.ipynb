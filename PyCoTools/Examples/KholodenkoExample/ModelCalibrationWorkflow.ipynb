{
 "cells": [
  {
   "cell_type": "code",
   "execution_count": null,
   "metadata": {
    "collapsed": true
   },
   "outputs": [],
   "source": [
    "PEData=PyCoTools.PEAnalysis.ParsePEData(K.PEData_pickle)\n",
    "\n",
    "print 'best estimated parameters:\\n',PEData.data.iloc[0].sort_index()\n",
    "PyCoTools.pycopi.InsertParameters(K.kholodenko_model,ParameterPath=K.PEData_pickle,Index=0)\n",
    "PE=PyCoTools.pycopi.ParameterEstimation(K.kholodenko_model,K.noisy_timecourse_report,\n",
    "                                        Method='CurrentSolutionStatistics',\n",
    "                                        Plot='true',\n",
    "                                        SaveFig='false',\n",
    "                                        RandomizeStartValues='false') #important to turn this off\n",
    "PE.set_up() ## setup\n",
    "PE.run()    ## and run the current solution statistics parameter estimation"
   ]
  },
  {
   "cell_type": "markdown",
   "metadata": {},
   "source": [
    "Solutions include:\n",
    "* Run more parameter estimations with different genetic algorithm specific settings (i.e. increase population size and number of generations for genetic algorithm)\n",
    "* Choose a  different algorithm and start again\n",
    "* Run a local optimization starting from the top $x$ best parameter sets.\n",
    "\n",
    "The latter is my favorite since it has the advantage that information is not lost from the *primary* parameter estimations.The logic it that even if the global optimizers haven't foud the 'house in the neibourhood' of the minima (whether local or global), they probably have found the neighbourhood. Therefore 'chasing' global primary parameter estimations with secondary local estimations is a good way to push the estimates a little further. \n",
    "\n",
    "Before proceding with runing 'chaser' secondary parameter estimations, lets visualize the data we already have"
   ]
  },
  {
   "cell_type": "code",
   "execution_count": null,
   "metadata": {
    "collapsed": true
   },
   "outputs": [],
   "source": [
    "Scatter graphs are useful for identifying relationships between variables. Usually the most interesting are linear relationships which can (but not *always*) indicate structural non-identifiability and plots of the objective function versus estimated parameters. These tend to least to 'identifiability signatures' which can indicate the identifiability status of a parameter ahead of an identifiability analysis. \n"
   ]
  },
  {
   "cell_type": "markdown",
   "metadata": {
    "collapsed": true
   },
   "source": [
    "As mentioned previously, secondary 'chaser' parameter estimations are good for pushing a global algorithm's results a little further and can sometimes be extremely informative. This process could be done manually for a select few parameter sets but realistically this isn't an option without programming tools. The general idea is the same as what would be done manually: insert parameters into a model then setup and run a parameter estimation using a local method. Here is a function which does just that. "
   ]
  },
  {
   "cell_type": "markdown",
   "metadata": {},
   "source": [
    "## Secondary 'Chaser' Parameter Estimations"
   ]
  },
  {
   "cell_type": "code",
   "execution_count": null,
   "metadata": {
    "collapsed": true
   },
   "outputs": [],
   "source": [
    "import os\n",
    "import PyCoTools\n",
    "import FilePaths\n",
    "\n",
    "def runHJ(copasi_file,parameters,report_name,mode):\n",
    "    '''\n",
    "    copasi_file:\n",
    "        file to run hook and jeeves on \n",
    "    parameters:\n",
    "        dictionary of parameters. Keys must match model names, values are input parameters\n",
    "    report_name:\n",
    "        name of the report to output PE data.\n",
    "    mode:\n",
    "        either 'SGE' for SGE cluster or 'true' to run on current machine\n",
    "    '''\n",
    "    if 'RSS' in parameters.keys():\n",
    "        del parameters['RSS']\n",
    "    for i in parameters:\n",
    "        print i,':\\t',parameters[i]\n",
    "    PyCoTools.pycopi.InsertParameters(copasi_file,ParameterDict=parameters)\n",
    "    \n",
    "    PE=PyCoTools.pycopi.ParameterEstimation(copasi_file,K.noisy_timecourse_report,\n",
    "                                         Method='HookeJeeves',\n",
    "                                         IterationLimit=20000,\n",
    "                                         Tolerance=1e-30,\n",
    "                                         RandomizeStartValues='false',\n",
    "                                         Plot='true',\n",
    "                                         SaveFig='true',\n",
    "                                         UseTemplateStartValues='false',\n",
    "                                         )\n",
    "\n",
    "        \n",
    "    PE.set_up()\n",
    "    ## Run via scan task because this gives only best values in function\n",
    "    ## evaluations, rather than the periodic function evaluations as well\n",
    "    print '\\n\\n'\n",
    "    print report_name\n",
    "    print '\\n'\n",
    "    PyCoTools.pycopi.Scan(copasi_file,ScanType='repeat',Run=mode,\n",
    "                          NumberOfSteps=1,\n",
    "                          ReportName=report,\n",
    "                          ReportType='parameter_estimation')\n",
    "##Use the function\n",
    "if __name__=='__main__':\n",
    "    K=FilePaths.KholodenkoExample()\n",
    "    data=PyCoTools.PEAnalysis.ParsePEData(K.PEData_pickle).data\n",
    "    for i in range(int(data.shape[0]*0.025)):\n",
    "        print 'running index {} with starting RSS of {}'.format(i,data.iloc[i]['RSS'])\n",
    "        if os.path.isdir(K.local_PEData_dir)!=True:\n",
    "            os.mkdir(K.local_PEData_dir)\n",
    "        report=os.path.join(K.local_PEData_dir,'{}.txt'.format(i))\n",
    "        print runHJ(K.kholodenko_model,data.iloc[i].to_dict(),report,'true')"
   ]
  },
  {
   "cell_type": "code",
   "execution_count": null,
   "metadata": {
    "collapsed": true
   },
   "outputs": [],
   "source": []
  },
  {
   "cell_type": "code",
   "execution_count": null,
   "metadata": {
    "collapsed": true
   },
   "outputs": [],
   "source": []
  },
  {
   "cell_type": "code",
   "execution_count": null,
   "metadata": {
    "collapsed": true
   },
   "outputs": [],
   "source": []
  }
 ],
 "metadata": {
  "hide_input": false,
  "kernelspec": {
   "display_name": "Python 2",
   "language": "python",
   "name": "python2"
  },
  "language_info": {
   "codemirror_mode": {
    "name": "ipython",
    "version": 2
   },
   "file_extension": ".py",
   "mimetype": "text/x-python",
   "name": "python",
   "nbconvert_exporter": "python",
   "pygments_lexer": "ipython2",
   "version": "2.7.12"
  },
  "toc": {
   "colors": {
    "hover_highlight": "#DAA520",
    "running_highlight": "#FF0000",
    "selected_highlight": "#FFD700"
   },
   "moveMenuLeft": true,
   "nav_menu": {
    "height": "11px",
    "width": "252px"
   },
   "navigate_menu": true,
   "number_sections": true,
   "sideBar": true,
   "threshold": 4,
   "toc_cell": false,
   "toc_section_display": "block",
   "toc_window_display": false
  }
 },
 "nbformat": 4,
 "nbformat_minor": 2
}
