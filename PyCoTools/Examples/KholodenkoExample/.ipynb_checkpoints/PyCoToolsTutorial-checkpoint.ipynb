{
 "cells": [
  {
   "cell_type": "markdown",
   "metadata": {},
   "source": [
    "# **PyCoTools Tutorial** "
   ]
  },
  {
   "cell_type": "markdown",
   "metadata": {},
   "source": [
    "This tutorial provides information on how to simulate a copasi model, set up and run parameter estimation and calculate profile likelihoods using COPASI. The Kholodenko2000 model is used as a show case model. "
   ]
  },
  {
   "cell_type": "markdown",
   "metadata": {},
   "source": [
    "# **Installation**\n"
   ]
  },
  {
   "cell_type": "markdown",
   "metadata": {},
   "source": [
    "From a command line or terminal with administrative privalleges, use:\n",
    "        > pip install PyCoTools"
   ]
  },
  {
   "cell_type": "markdown",
   "metadata": {},
   "source": [
    "## A Note on Directories and File Paths"
   ]
  },
  {
   "cell_type": "markdown",
   "metadata": {},
   "source": [
    "Since the input to most of the classes in the `pycopi` module are strings containing the path to a copasi file and a user  often requires custom output filenames (rather than the defaults) its common to have a several file paths to manage at any one time. One way to deal with this is to set up a new folder containing the .cps file of interest and make any python files within this folder available with the python `import` command by creating an (empty) `__init__.py` file. Then create a python module called `FilePaths.py` containing a class containing the relevant paths as attributes. This is useful as need only be created once and all in the same place.  "
   ]
  },
  {
   "cell_type": "code",
   "execution_count": 2,
   "metadata": {
    "collapsed": true
   },
   "outputs": [],
   "source": [
    "#FilePaths.py\n",
    "class KholodenkoExample():\n",
    "    def __init__(self):\n",
    "        ## path to folder containing kholodenko example\n",
    "        if sys.platform=='win32':\n",
    "            self.current_directory='D:\\MPhil\\Python\\My_Python_Modules\\Modelling_Tools\\PyCoTools\\PyCoTools\\Examples\\KholodenkoExample'\n",
    "        else:\n",
    "            self.current_directory=r'/sharedlustre/users/b3053674/2017/Jan/Kholod/KholodenkoExample'\n",
    "        ## Kholodenko filename\n",
    "        self.copasi_filename=r'Kholodenko.cps'\n",
    "        ## full path to kholodenko model\n",
    "        self.kholodenko_model=os.path.join(self.current_directory,self.copasi_filename)\n",
    "        ## full path to the time course output\n",
    "        self.timecourse_report=os.path.join(self.current_directory,'KholodenkoTimeCourseOutput.txt')\n",
    "        ## full path to the noisy time course output\n",
    "        self.noisy_timecourse_report=os.path.join(self.current_directory,'NoisyKholodenkoTimeCourseOutput.txt')\n",
    "        ## Full path to parameter estimation results file\n",
    "        self.PEData_file=os.path.join(self.current_directory,'PEResultsFile.txt')\n",
    "        ## Full path to a folder containing all data from initial multiple global parameter estimations\n",
    "        self.PEData_dir=os.path.join(self.current_directory,'PEResults')\n",
    "        ## Full path to file containing secondary local parameter estimation (starting with best values from self.PEData_dir)\n",
    "#        self.local_PEData_file=os.path.join(self.current_directory,'LocalPEData.txt')\n",
    "        self.local_PEData_dir=os.path.join(self.current_directory,'LocalPEDataResults')"
   ]
  },
  {
   "cell_type": "markdown",
   "metadata": {},
   "source": [
    "# Run a Time Course "
   ]
  },
  {
   "cell_type": "markdown",
   "metadata": {},
   "source": [
    "From the directory containing FilePaths.py"
   ]
  },
  {
   "cell_type": "code",
   "execution_count": 29,
   "metadata": {
    "collapsed": false
   },
   "outputs": [],
   "source": [
    "import PyCoTools\n",
    "from FilePaths import KholodenkoExample\n",
    "## allow plotting in this document\n",
    "%matplotlib inline  \n",
    "## instantiate instance of KholodenoExample to manage directories \n",
    "K=KholodenkoExample()"
   ]
  },
  {
   "cell_type": "markdown",
   "metadata": {},
   "source": [
    "To run deterministic time course with kholodenko model and:\n",
    "    1. Collect resulting data as tab separated file (Note that the following equation must hold `Intervals*StepSize=End`)"
   ]
  },
  {
   "cell_type": "code",
   "execution_count": 23,
   "metadata": {
    "collapsed": false
   },
   "outputs": [
    {
     "data": {
      "text/plain": [
       "<PyCoTools.pycopi.TimeCourse at 0xacd19b0>"
      ]
     },
     "execution_count": 23,
     "metadata": {},
     "output_type": "execute_result"
    }
   ],
   "source": [
    "PyCoTools.pycopi.TimeCourse(K.kholodenko_model,\n",
    "                        ReportName=K.timecourse_report,\n",
    "                        End=1000,    \n",
    "                        Intervals=50,\n",
    "                        StepSize=20)"
   ]
  },
  {
   "cell_type": "markdown",
   "metadata": {},
   "source": [
    "    2. Plot and save results in the same directory as the model file"
   ]
  },
  {
   "cell_type": "code",
   "execution_count": 25,
   "metadata": {
    "collapsed": false
   },
   "outputs": [
    {
     "data": {
      "text/plain": [
       "<PyCoTools.pycopi.TimeCourse at 0x437a5c0>"
      ]
     },
     "execution_count": 25,
     "metadata": {},
     "output_type": "execute_result"
    }
   ],
   "source": [
    "PyCoTools.pycopi.TimeCourse(K.kholodenko_model,\n",
    "                            ReportName=K.timecourse_report,\n",
    "                            End=1000,\n",
    "                            Intervals=50,\n",
    "                            StepSize=20,\n",
    "                            Plot='true',\n",
    "                            SaveFig='true')"
   ]
  },
  {
   "cell_type": "code",
   "execution_count": null,
   "metadata": {
    "collapsed": true
   },
   "outputs": [],
   "source": []
  },
  {
   "cell_type": "code",
   "execution_count": null,
   "metadata": {
    "collapsed": true
   },
   "outputs": [],
   "source": []
  },
  {
   "cell_type": "code",
   "execution_count": null,
   "metadata": {
    "collapsed": true
   },
   "outputs": [],
   "source": []
  },
  {
   "cell_type": "code",
   "execution_count": null,
   "metadata": {
    "collapsed": true
   },
   "outputs": [],
   "source": []
  }
 ],
 "metadata": {
  "kernelspec": {
   "display_name": "Python 2",
   "language": "python",
   "name": "python2"
  },
  "language_info": {
   "codemirror_mode": {
    "name": "ipython",
    "version": 2
   },
   "file_extension": ".py",
   "mimetype": "text/x-python",
   "name": "python",
   "nbconvert_exporter": "python",
   "pygments_lexer": "ipython2",
   "version": "2.7.12"
  }
 },
 "nbformat": 4,
 "nbformat_minor": 2
}
