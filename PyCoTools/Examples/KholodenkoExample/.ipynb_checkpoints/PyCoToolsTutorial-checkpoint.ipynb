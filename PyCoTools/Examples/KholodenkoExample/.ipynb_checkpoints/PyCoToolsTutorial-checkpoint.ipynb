{
 "cells": [
  {
   "cell_type": "markdown",
   "metadata": {},
   "source": [
    "# **PyCoTools Tutorial** "
   ]
  },
  {
   "cell_type": "markdown",
   "metadata": {},
   "source": [
    "This tutorial provides information on how to simulate a COPASI model, set up, run and analyse parameter estimations and calculate profile likelihoods using COPASI. Generally the architechture follows COPASI as much as possible with nomenclature and any optional arguments provided by COPASI are accessible via PyCoTools via use of keyword arguments. Each keyword argument has a default value that can be over-ridden by manually passing the keyword argument to a class. The Kholodenko2000 model is used as a show case model in this tutorial. PyCoTools interfaces with COPASI by modifying components of XML in the same way that COPASI does. This means that a model can simply be opened at any point during an analysis to varify things are working correctly"
   ]
  },
  {
   "cell_type": "markdown",
   "metadata": {},
   "source": [
    "# **Installation**\n"
   ]
  },
  {
   "cell_type": "markdown",
   "metadata": {},
   "source": [
    "From a command line or terminal with administrative privalleges, use:\n",
    "        > pip install PyCoTools\n",
    "        \n",
    "The source code is also available on [GitHub](https://github.com/CiaranWelsh/PyCoTools)"
   ]
  },
  {
   "cell_type": "markdown",
   "metadata": {},
   "source": [
    "## Setting up a Workspace"
   ]
  },
  {
   "cell_type": "markdown",
   "metadata": {},
   "source": [
    "Since the input to most of the classes in the `pycopi` module are strings containing the path to a copasi file and a user  often requires custom output filenames (rather than the defaults), its common to have a numerous file paths to manage at any one time. One way to deal with this is:\n",
    "            1. Conduct your analysis from a new folder containing the .cps file of interest. \n",
    "            2. Create a blank `__init__.py' file in this folder\n",
    "            3. Create a module called (for instance) `FilePaths.py` \n",
    "            4) Place a class inside `FilePaths` containing paths relevant to your analysis. \n",
    "\n",
    "Here is an example: "
   ]
  },
  {
   "cell_type": "code",
   "execution_count": 1,
   "metadata": {
    "collapsed": true
   },
   "outputs": [],
   "source": [
    "#FilePaths.py\n",
    "class KholodenkoExample():\n",
    "    def __init__(self):\n",
    "        ## path to folder containing kholodenko example\n",
    "        if sys.platform=='win32':\n",
    "            self.current_directory='D:\\MPhil\\Python\\My_Python_Modules\\Modelling_Tools\\PyCoTools\\PyCoTools\\Examples\\KholodenkoExample'\n",
    "        else:\n",
    "            self.current_directory=r'/sharedlustre/users/b3053674/2017/Jan/Kholod/KholodenkoExample'\n",
    "        ## Kholodenko filename\n",
    "        self.copasi_filename=r'Kholodenko.cps'\n",
    "        ## full path to kholodenko model\n",
    "        self.kholodenko_model=os.path.join(self.current_directory,self.copasi_filename)\n",
    "        ## full path to the time course output\n",
    "        self.timecourse_report=os.path.join(self.current_directory,'KholodenkoTimeCourseOutput.txt')\n",
    "        ## full path to the noisy time course output\n",
    "        self.noisy_timecourse_report=os.path.join(self.current_directory,'NoisyKholodenkoTimeCourseOutput.txt')\n",
    "        ## Full path to parameter estimation results file\n",
    "        self.PEData_file=os.path.join(self.current_directory,'PEResultsFile.txt')\n",
    "        ## Full path to a folder containing all data from initial multiple global parameter estimations\n",
    "        self.PEData_dir=os.path.join(self.current_directory,'PEResults')\n",
    "        ## Full path to file containing secondary local parameter estimation (starting with best values from self.PEData_dir)\n",
    "        self.local_PEData_dir=os.path.join(self.current_directory,'LocalPEDataResults')\n",
    "        ## Pre-run parameter estimation data pickle file\n",
    "        self.PEData_pickle=os.path.join(self.current_directory,'KholodenkoExamplePEData.pickle')"
   ]
  },
  {
   "cell_type": "markdown",
   "metadata": {},
   "source": [
    "These paths are now available  for the rest of the `.py` files in the current directory by instantiating an instance of `KholodenkoExample()` and 'dotting' into them. "
   ]
  },
  {
   "cell_type": "markdown",
   "metadata": {},
   "source": [
    "# Run a Time Course "
   ]
  },
  {
   "cell_type": "markdown",
   "metadata": {},
   "source": [
    "The `pycopi.TimeCourse` class enables a user to run an COPASI model deterministically. Future versions of PyCoTools will implement the alternative sovlers that COPASI offers which will be accessible via a keyword argument, but presently this feature is not implemented. \n",
    "\n",
    "From the directory containing FilePaths.py:"
   ]
  },
  {
   "cell_type": "code",
   "execution_count": 2,
   "metadata": {
    "collapsed": false
   },
   "outputs": [],
   "source": [
    "import PyCoTools\n",
    "from FilePaths import KholodenkoExample\n",
    "## allow plotting in this document\n",
    "%matplotlib inline\n",
    "\n",
    "## instantiate instance of KholodenoExample to manage directories \n",
    "K=KholodenkoExample()"
   ]
  },
  {
   "cell_type": "markdown",
   "metadata": {},
   "source": [
    "To run deterministic time course with kholodenko model we have a few options. We can:\n",
    "    1. Collect all copasi output as tab separated file specified as argument to the `ReportName` keyword."
   ]
  },
  {
   "cell_type": "code",
   "execution_count": null,
   "metadata": {
    "collapsed": false
   },
   "outputs": [],
   "source": [
    "PyCoTools.pycopi.TimeCourse(K.kholodenko_model,\n",
    "                        ReportName=K.timecourse_report,\n",
    "                        ## Intervals*StepSize must equal End\n",
    "                        End=1000,    \n",
    "                        Intervals=50,\n",
    "                        StepSize=20)"
   ]
  },
  {
   "cell_type": "markdown",
   "metadata": {},
   "source": [
    "    2. Plot and save results in the same directory as the model file"
   ]
  },
  {
   "cell_type": "code",
   "execution_count": null,
   "metadata": {
    "collapsed": false
   },
   "outputs": [],
   "source": [
    "PyCoTools.pycopi.TimeCourse(K.kholodenko_model,\n",
    "                            ReportName=K.timecourse_report,\n",
    "                            End=1000,\n",
    "                            Intervals=50,\n",
    "                            StepSize=20,\n",
    "                            Plot='true',\n",
    "                            SaveFig='true')"
   ]
  },
  {
   "cell_type": "markdown",
   "metadata": {
    "collapsed": true
   },
   "source": [
    "    3. Collect results only for selected model variables only by passing a list to the `Metabolites` keyword:"
   ]
  },
  {
   "cell_type": "code",
   "execution_count": null,
   "metadata": {
    "collapsed": false
   },
   "outputs": [],
   "source": [
    "PyCoTools.pycopi.TimeCourse(K.kholodenko_model,\n",
    "                            ReportName=K.timecourse_report,\n",
    "                            End=1000,\n",
    "                            Intervals=50,\n",
    "                            StepSize=20,\n",
    "                            Plot='true',\n",
    "                            SaveFig='true',\n",
    "                            Metabolites=['Mek1-P','Mek1'])"
   ]
  },
  {
   "cell_type": "markdown",
   "metadata": {},
   "source": [
    "    4. Play around with graph graphics. Note that these arguments are simply passed on to matplotlib and therefore more documenation can be found [here](http://matplotlib.org/)"
   ]
  },
  {
   "cell_type": "code",
   "execution_count": null,
   "metadata": {
    "collapsed": false
   },
   "outputs": [],
   "source": [
    "PyCoTools.pycopi.TimeCourse(K.kholodenko_model,\n",
    "                            ReportName=K.timecourse_report,\n",
    "                            End=1000,\n",
    "                            Intervals=50,\n",
    "                            StepSize=20,\n",
    "                            Plot='true',\n",
    "                            SaveFig='true',\n",
    "                            Metabolites=['Mek1-P','Mek1'],\n",
    "                            LineWidth=8,\n",
    "                            MarkerSize=15,\n",
    "                            MarkerColor='g',\n",
    "                            AxisSize=20,\n",
    "                            FontSize=25,\n",
    "                            LineStyle='-',\n",
    "                            XTickRotation=45,\n",
    "                            \n",
    "                           )"
   ]
  },
  {
   "cell_type": "markdown",
   "metadata": {},
   "source": [
    "## Adding Noise"
   ]
  },
  {
   "cell_type": "markdown",
   "metadata": {},
   "source": [
    "This data is now going to be used in the next section for parameter estimation. To make things more interesting the following function can be used to add some noise the the data. Note that this method of adding noise is bias toward larger valued profiles but in the present context that doesn't really matter. "
   ]
  },
  {
   "cell_type": "code",
   "execution_count": null,
   "metadata": {
    "collapsed": true
   },
   "outputs": [],
   "source": [
    "import pandas,numpy, FilePaths, os\n",
    "\n",
    "def add_noise(f, noise_factor=0.05):\n",
    "    '''\n",
    "    Add noise to time course data\n",
    "    \n",
    "    f:\n",
    "        Single experiment file to add noise too\n",
    "    \n",
    "    noise_factor:\n",
    "        limits the amount of noise to add. Must be float between 0 and 1\n",
    "        . default is 0.05 for 5% \n",
    "        \n",
    "    ==========\n",
    "    Returns: pandas.DataFrame containing noisy data \n",
    "    \n",
    "    '''\n",
    "    ## check file is real file\n",
    "    assert os.path.isfile(f),'{} is not a file'.format(f)\n",
    "    ## read into pandas\n",
    "    df=pandas.read_csv(f,sep='\\t')\n",
    "    ## Count number of data points to add noise too\n",
    "    ## remember to account for the time varible by minus 1 from column dimension \n",
    "    number_of_data_points= df.shape[0]*(df.shape[1]-1)\n",
    "    ## sample from uniform distribution 'number_of_data_points' times and assign to u vector\n",
    "    u= numpy.random.uniform(1-noise_factor,1+noise_factor,number_of_data_points)\n",
    "    ## reshape u vector into a 'u matrix'\n",
    "    u_matrix= u.reshape(df.shape[0],df.shape[1]-1)\n",
    "    ## remove the time colum but save as 't' variable for later\n",
    "    try:\n",
    "        \n",
    "        t=df['Time']\n",
    "        df.drop('Time',axis=1,inplace=True)\n",
    "        df_noise=pandas.DataFrame(u_matrix,columns=df.columns)\n",
    "    except KeyError:\n",
    "        return None\n",
    "    ## Check we have the corect shape for matrix\n",
    "    assert df.shape==df_noise.shape\n",
    "    ## Perform dot multiplication on two matrices to get noisy matrix\n",
    "    noise= df_noise.rmul(df,axis=0)\n",
    "    ## change index to be time\n",
    "    noise.index=t\n",
    "    ## return noisy vector\n",
    "    return noise\n",
    "\n",
    "if __name__=='__main__':\n",
    "    ## instantiate FilePaths.KhodenkoExmaple to get necessary file paths\n",
    "    K=FilePaths.KholodenkoExample()\n",
    "    ## add noise to simulated kholodenko output and output to tab separated file. \n",
    "    add_noise(K.timecourse_report).to_csv(K.noisy_timecourse_report,sep='\\t')\n"
   ]
  },
  {
   "cell_type": "markdown",
   "metadata": {},
   "source": [
    "# Parameter Estimation "
   ]
  },
  {
   "cell_type": "markdown",
   "metadata": {},
   "source": [
    "The ParameterEstimation class is the only class in PyCoTools that is not fully automated as it required additional input from the user, such as which variables to estimate and between what boundaries. To use `ParameterEstimation`:\n",
    "        1. Instantiate instance of `ParameterEstimation`. This is where arguments and optional keyword arguments \n",
    "            such as `Method` and the method parameters are specified. \n",
    "        2. Use the `write_item_template()` method to output a file called 'fitItemTemplate.xlsx' \n",
    "            containing model variables, start values, boundaries and some additional information\n",
    "            which is used under the hood for creating fit items. \n",
    "        3. Use the `set_up()` method to set up the parameter estimation.This can be varified by \n",
    "            opening the model and looking at the parameter estimation \n",
    "        4. Optionally use the `run()` method to run the model with CopasiSE"
   ]
  },
  {
   "cell_type": "markdown",
   "metadata": {},
   "source": [
    "## Instantiate Instance of ParameterEstimation"
   ]
  },
  {
   "cell_type": "markdown",
   "metadata": {},
   "source": [
    "The `ParameterEstimation` class takes two positional arguments - absolute paths to 1) the model and 2) the parameter estimation data. The `ParameterEstimation` class can take lists of experiment files to set up multifit parameter estimations at the same time.\n",
    "\n",
    "For example to:"
   ]
  },
  {
   "cell_type": "markdown",
   "metadata": {},
   "source": [
    "    1. Set up a parameter estimation with a single time course experiment and all other parameters default:"
   ]
  },
  {
   "cell_type": "code",
   "execution_count": null,
   "metadata": {
    "collapsed": false,
    "scrolled": true
   },
   "outputs": [],
   "source": [
    "PE= PyCoTools.pycopi.ParameterEstimation(K.kholodenko_model,\n",
    "                                         K.noisy_timecourse_report)"
   ]
  },
  {
   "cell_type": "markdown",
   "metadata": {},
   "source": [
    "Now `PE.kwargs` can be used to view default parameters"
   ]
  },
  {
   "cell_type": "code",
   "execution_count": null,
   "metadata": {
    "collapsed": false,
    "scrolled": true
   },
   "outputs": [],
   "source": [
    "for i in sorted(PE.kwargs.keys()):\n",
    "    print i,PE.kwargs[i]"
   ]
  },
  {
   "cell_type": "markdown",
   "metadata": {},
   "source": [
    "   2. Set up a parameter estimation with two time course experiment files"
   ]
  },
  {
   "cell_type": "code",
   "execution_count": null,
   "metadata": {
    "collapsed": false
   },
   "outputs": [],
   "source": [
    "## quickly modify the K.noisy_time_course_report name for demonstration \n",
    "import os\n",
    "second_timecourse= K.noisy_timecourse_report[:-4]+'2.txt'\n",
    "\n",
    "## quickly run another time course for demontration \n",
    "PyCoTools.pycopi.TimeCourse(K.kholodenko_model,ReportName=second_timecourse,End=1000,Intervals=50,StepSize=20)\n",
    "\n",
    "\n",
    "PE= PyCoTools.pycopi.ParameterEstimation(K.kholodenko_model,\n",
    "                                           [K.noisy_timecourse_report,second_timecourse])\n",
    "\n",
    "for i in sorted(PE.kwargs.keys()):\n",
    "    print i,PE.kwargs[i]"
   ]
  },
  {
   "cell_type": "markdown",
   "metadata": {},
   "source": [
    "Note that the following varibales automatically change to lists of `len(ExperimentFiles)`:\n",
    "* RowOrientation\n",
    "* ExperimentType\n",
    "* FirstRow\n",
    "* NormalizeWeightsPerExperiment\n",
    "* RowContainingNames\n",
    "* Separator\n",
    "* WeightMethod\n",
    "\n",
    "These options (like all others) are described in detail on the [COPASI manual](http://copasi.org/Support/User_Manual/Tasks/Parameter_Estimation/).\n",
    "\n",
    "If any experiments are steady state experiments or if indivudal time course experiments are to be treated differently then custom lists need to be passed to these arguments. A user should consult the technical documentation distributed with PyCoTools for more details. \n",
    "\n",
    "Other important `kwargs` for parameter estimation are `Method` which specified which optimization algorithm to use as well as all options for all algorithms. To see which options are needed for which algorithm, simply open the `parameter estimation task` in the COPASI user interface and select the appropiate algorithm."
   ]
  },
  {
   "cell_type": "markdown",
   "metadata": {},
   "source": [
    "## Use `PE.write_item_template()`"
   ]
  },
  {
   "cell_type": "code",
   "execution_count": null,
   "metadata": {
    "collapsed": false
   },
   "outputs": [],
   "source": [
    "import FilePaths\n",
    "K=FilePaths.KholodenkoExample()\n",
    "PE= PyCoTools.pycopi.ParameterEstimation(K.kholodenko_model,\n",
    "                                           K.noisy_timecourse_report, \n",
    "                                           Method='ParticleSwarm',\n",
    "                                           PopulationSize=150,\n",
    "                                           SwarmSize=200,\n",
    "                                           ReportName=K.PEData_file)\n",
    "\n",
    "PE.write_item_template()"
   ]
  },
  {
   "cell_type": "markdown",
   "metadata": {},
   "source": [
    "Note that an the `ItemTemplateFilename` kwarg for `ParameterEstimation` can be used to specify custom filename, but we just use the default here. The fit item template looks like this:\n",
    "\n",
    "![name](fitItemTemplate.jpg)\n",
    "\n",
    "Delete rows of this matrix to remove corresponding parameters from the estimation (i.e. to fix variables) and change the boundaries and start values as you please. The start values column usually is not as important as multiple parameter estimations get run with random starting values. Do not modify the remaining columns on the right as these are used internally by PyCoTools. "
   ]
  },
  {
   "cell_type": "markdown",
   "metadata": {},
   "source": [
    "## Use the `PE.set_up()` method"
   ]
  },
  {
   "cell_type": "markdown",
   "metadata": {},
   "source": [
    "No configuration actually happens until you use this method."
   ]
  },
  {
   "cell_type": "code",
   "execution_count": null,
   "metadata": {
    "collapsed": false
   },
   "outputs": [],
   "source": [
    "PE.set_up()"
   ]
  },
  {
   "cell_type": "markdown",
   "metadata": {},
   "source": [
    "## Run the Parameter Estimation "
   ]
  },
  {
   "cell_type": "markdown",
   "metadata": {},
   "source": [
    "The parameter estimation can be run multiple ways:\n",
    "    1. By opening COPASI, defining the usual plots and running like normal. \n",
    "    2. Use the `PE.run()` method"
   ]
  },
  {
   "cell_type": "code",
   "execution_count": null,
   "metadata": {
    "collapsed": false,
    "scrolled": true
   },
   "outputs": [],
   "source": [
    "PE.run()"
   ]
  },
  {
   "cell_type": "markdown",
   "metadata": {},
   "source": [
    "    3. Its also useful to visualize experimental versus simulated output:"
   ]
  },
  {
   "cell_type": "code",
   "execution_count": null,
   "metadata": {
    "collapsed": false,
    "scrolled": true
   },
   "outputs": [],
   "source": [
    "PE= PyCoTools.pycopi.ParameterEstimation(K.kholodenko_model,\n",
    "                                           K.noisy_timecourse_report, \n",
    "                                           Method='ParticleSwarm',\n",
    "                                           PopulationSize=150,\n",
    "                                           SwarmSize=200,\n",
    "                                           Plot='true',\n",
    "                                           SaveFig='true')\n",
    "PE.set_up()\n",
    "PE.run()"
   ]
  },
  {
   "cell_type": "markdown",
   "metadata": {},
   "source": [
    "As we can see, we don't usually get a very good fit with the 'one run' approach so its often desirable to run the parameter estimation \n",
    "    4. Using the Scan task with a repeat item. \n"
   ]
  },
  {
   "cell_type": "code",
   "execution_count": null,
   "metadata": {
    "collapsed": false
   },
   "outputs": [],
   "source": [
    "PE= PyCoTools.pycopi.ParameterEstimation(K.kholodenko_model,\n",
    "                                           K.noisy_timecourse_report, \n",
    "                                           Method='GeneticAlgorithm', #change to genetic algorithm (why not?)\n",
    "                                           PopulationSize=80,\n",
    "                                           NumberOfGenerations = 200,\n",
    "                                           Plot='false', #don't want to plot this time\n",
    "                                           SaveFig='false')\n",
    "PE.set_up()\n",
    "\n",
    "PyCoTools.pycopi.Scan(K.kholodenko_model,\n",
    "                      ScanType='repeat', #set up repeat item under scan. \n",
    "                      NumberOfSteps=3, #Run the parameter estimation task 10 times\n",
    "                      SubTask='parameter_estimation', #this is the default, but included here for demonstration anyway\n",
    "                      ReportType='parameter_estimation', ## report automatically set up within copasi. \n",
    "                      ReportName=K.PEData_file,\n",
    "                      Run='true') #run the scan task automatically in the background"
   ]
  },
  {
   "cell_type": "markdown",
   "metadata": {},
   "source": [
    "Note that most of the keyword arguments required to set up a task correspond to those which are required to set up the same task in the COPASI grahical interface. \n",
    "    5. If you do not have access to a cluster, it is sometimes desirable to copy the COPASI file and run multiple versions of the same file. \n",
    "    \n",
    "Lets define two simple functions, one to copy the `copasi_file` `n` times and another to create `n` output file names for collecting results. \n"
   ]
  },
  {
   "cell_type": "code",
   "execution_count": null,
   "metadata": {
    "collapsed": false
   },
   "outputs": [],
   "source": [
    "from shutil import copy\n",
    "def copy_copasi(copasi_file,n):\n",
    "    '''\n",
    "    run a copasi file n times on the same computer \n",
    "    '''\n",
    "    sub_copasi_files_dct={}\n",
    "    copasi_path,copasi_filename=os.path.split(copasi_file)\n",
    "    for i in range(n):\n",
    "        new_cps=os.path.join(copasi_path,copasi_filename[:-4]+'{}.cps'.format(str(i)))\n",
    "        copy(copasi_file,new_cps)\n",
    "        sub_copasi_files_dct[i]= new_cps\n",
    "    return sub_copasi_files_dct\n",
    "\n",
    "def enumerate_PE_output(output_filename,n):\n",
    "    '''\n",
    "    make some more filenames for our analysis\n",
    "    '''\n",
    "    dct={}\n",
    "    dire,fle=os.path.split(output_filename)\n",
    "    output_dir=os.path.join(dire,'Results')\n",
    "    if os.path.isdir(output_dir)!=True:\n",
    "        os.mkdir(output_dir)\n",
    "    \n",
    "    for i in range(n):\n",
    "        new_file=os.path.join(output_dir,fle[:-4]+'{}.txt'.format(str(i)))\n",
    "        dct[i]=new_file\n",
    "    return dct\n",
    "\n",
    "n=3\n",
    "copasi_files=copy_copasi(K.kholodenko_model,n)\n",
    "result_files=enumerate_PE_output(K.PEData_file,n)\n",
    "\n"
   ]
  },
  {
   "cell_type": "markdown",
   "metadata": {},
   "source": [
    "The parameter estimation task does not differ from when running only one `copasi_file` at a time and can stay the same. We now need to run the `Scan` task in a loop. "
   ]
  },
  {
   "cell_type": "code",
   "execution_count": null,
   "metadata": {
    "collapsed": false
   },
   "outputs": [],
   "source": [
    "for i in range(n):\n",
    "    '''\n",
    "    Set up n repeat items with NumberOfSteps repeats of parameter estimation\n",
    "    '''\n",
    "    PyCoTools.pycopi.Scan(copasi_files[i],\n",
    "                      ScanType='repeat', \n",
    "                      NumberOfSteps=3, #run each model this number of times\n",
    "                      SubTask='parameter_estimation',\n",
    "                      ReportType='parameter_estimation', \n",
    "                      ReportName=result_files[i], #new output file name\n",
    "                      Run='false') #run the scan task automatically in the background"
   ]
  },
  {
   "cell_type": "markdown",
   "metadata": {},
   "source": [
    "We could set `Run='true'` but this would run each model in series. Instead it is possible to set `Run='false'` and pass a list of COPASI files to the `Run` class, using `multiprocess` mode. This opens a subprocess per copasi file and therefore can run multiple files at once. We also need to tell `Run` which task to run. "
   ]
  },
  {
   "cell_type": "code",
   "execution_count": null,
   "metadata": {
    "collapsed": false
   },
   "outputs": [],
   "source": [
    "import PyCoTools\n",
    "for i in copasi_files.values():\n",
    "    PyCoTools.pycopi.Run(i,Mode='multiprocess',Task='scan')"
   ]
  },
  {
   "cell_type": "markdown",
   "metadata": {},
   "source": [
    " This approach is however quite primitive and care should be taken not to run too many copasi files at once. My own machine (8 cores, i7 processor and 16GB RAM) starts to get sluggish at around 6-8 models and becomes unusable with more than that until some files are finished. "
   ]
  },
  {
   "cell_type": "markdown",
   "metadata": {},
   "source": [
    "    6. Lastly, for those with a SGE based cluster, `Run` can be set to `SGE` to run on the cluster. \n",
    "    \n",
    "Additional `Modes` can be easily written for clusters for other job schedulers by adding a method under the Run class and providing an extra option to the Run class"
   ]
  },
  {
   "cell_type": "markdown",
   "metadata": {},
   "source": [
    "# Parameter Estimation Analysis"
   ]
  },
  {
   "cell_type": "markdown",
   "metadata": {},
   "source": [
    "While COPASI is excellant for generation of parameter estimation data, users are largely left to their own devices when it comes to analysing this data. PyCoTools provides the `PEAnalysis` module which is designed specifically for quickly visualizing parameter estimation data, whether generated by COPASI or elsewhere. In this section, I describe how to use the `PEAnalysis` module. See the [workflow](https://github.com/CiaranWelsh/PyCoTools/blob/develop/PyCoTools/Examples/KholodenkoExample/ModelCalibrationWorkflow.ipynb)  for an example of how to conduct a full parameter estimation with multiple iterations and profile likelihoods using PyCoTools and COPASI.\n",
    "\n",
    "The PEAnalysis module includes feature to:\n",
    "* Parse parameter estimation data into a python environment (`pandas.DataFrame`)\n",
    "* Quickly produce customizable:\n",
    "    * Boxplots\n",
    "    * Optimization performance graphs\n",
    "    * Histograms\n",
    "    * Scatter graphs\n",
    "    * Hex plots\n",
    "* In future releases, `PyCoTools` will enable:\n",
    "    * Heat maps displaying various statistics about the parameter estimation data.\n",
    "    * Contours on the scatter/Hex with chi2 based confidence level.\n",
    "    * And possibly principle component analysis, once I figure out whether its useful or not. \n",
    "\n",
    "The `InsertParameters` and `ParameterEstimation` classes are also useful in this context to visualize best fits against experimental data."
   ]
  },
  {
   "cell_type": "markdown",
   "metadata": {},
   "source": [
    "## Parsing Data"
   ]
  },
  {
   "cell_type": "markdown",
   "metadata": {},
   "source": [
    "The majority of the time a user does not need the `PEAnalysis.ParsePEData` class since the other classes use it implicitly, however it is useful to have access to the raw data sometimes, specifically if custom analyses are required and all parameter estimation data resides in multiple files within a folder. "
   ]
  },
  {
   "cell_type": "code",
   "execution_count": 3,
   "metadata": {
    "collapsed": false
   },
   "outputs": [],
   "source": [
    "import PyCoTools\n",
    "import FilePaths\n",
    "K=FilePaths.KholodenkoExample()\n",
    "data=PyCoTools.PEAnalysis.ParsePEData(K.PEData_file).data ## Data is held in the data attribute of the ParsePEData class"
   ]
  },
  {
   "cell_type": "markdown",
   "metadata": {},
   "source": [
    "When the ParsePEData class is used, it automatically prodces a `pickle` file containing a `pandas.DataFrame`. Its often good to set the `UsePickle='true'` and `OverwritePickle='false'` to speed up parsing. As an argument that ParsePEData class  accepts `.xls, .xls, .csv, .tsv, .pickle` or a folder multiple files containing homogeneous parameter estimation data (i.e. from the same problem). The plot generating classes each accept and pass the same arguments along to this class for parsing data. "
   ]
  },
  {
   "cell_type": "code",
   "execution_count": null,
   "metadata": {
    "collapsed": false,
    "scrolled": true
   },
   "outputs": [],
   "source": [
    "data=PyCoTools.PEAnalysis.ParsePEData(K.PEData_file,UsePickle='true',OverwritePickle='false').data"
   ]
  },
  {
   "cell_type": "markdown",
   "metadata": {},
   "source": [
    "Since a demonstration of this module works best with a large number of parameter estimation iterations, all the kinetic parameters in the [kholodenko2000 model](http://www.ebi.ac.uk/biomodels-main/BIOMD0000000010) were re-estimated 4000 times using COPASIs genetic algorithm with a population size of 300 and generation number of 1000. Only the kinetic variables were estimated using wide boundaries between 1e-6 to 1e6 and all the noisy data simualted above were used as experimental data. Additionally, the parameter estiamtions were run on a cluster using the scripts under the `Scripts` folder in the PyCoTools distribution. \n",
    "\n",
    "This data is available as a python pickle file [KholodenkoExamplePEData.pickle](https://github.com/CiaranWelsh/PyCoTools/tree/master/PyCoTools/Examples/KholodenkoExample). After download, put it in your working directory and make sure there is a pointer to it in the `FilePath.KholodenkoExample` class and use it below. "
   ]
  },
  {
   "cell_type": "code",
   "execution_count": 13,
   "metadata": {
    "collapsed": false
   },
   "outputs": [
    {
     "name": "stdout",
     "output_type": "stream",
     "text": [
      "      (phosphorylation of MAPKK).KK3  (MAPKKK activation).K1  \\\n",
      "0                           10.97700                0.000026   \n",
      "1                            8.34545                0.017482   \n",
      "2                           11.21920                0.000501   \n",
      "3                           10.77040                0.010498   \n",
      "4                           13.59150                0.135456   \n",
      "5                           11.02270                3.100940   \n",
      "6                           10.19820                0.000907   \n",
      "7                            9.09969                0.000719   \n",
      "8                            9.52781                1.599150   \n",
      "9                           15.22330                0.001848   \n",
      "10                           7.67423                0.111546   \n",
      "11                          10.90720                0.000173   \n",
      "12                          12.15560                0.013859   \n",
      "13                           9.55123                2.913790   \n",
      "14                          15.26700                0.005305   \n",
      "15                          16.22120                0.000288   \n",
      "16                           8.46230                0.105678   \n",
      "17                          12.50900                0.052988   \n",
      "18                          11.76270                0.077067   \n",
      "19                           8.92848                0.441146   \n",
      "20                          10.69070                0.001046   \n",
      "21                          13.17410                0.000083   \n",
      "22                          14.15270                0.000226   \n",
      "23                           8.54098                0.000198   \n",
      "24                           8.55397                0.000305   \n",
      "25                           6.84375                0.011456   \n",
      "26                           9.39844                0.000211   \n",
      "27                           7.55780                0.036219   \n",
      "28                          13.59530                0.002430   \n",
      "29                          12.86070                2.894450   \n",
      "...                              ...                     ...   \n",
      "3970                         5.93332                0.583290   \n",
      "3971                         7.60974               30.698400   \n",
      "3972                         8.14084                0.000032   \n",
      "3973                        40.77540                0.115966   \n",
      "3974                        13.64870                3.553790   \n",
      "3975                        27.32200                0.036998   \n",
      "3976                        37.91590                0.006071   \n",
      "3977                        27.54550                0.047948   \n",
      "3978                         1.71692                4.312900   \n",
      "3979                        11.95620                0.198424   \n",
      "3980                        10.17550                0.012947   \n",
      "3981                         8.68000                0.000896   \n",
      "3982                        19.24600               52.658000   \n",
      "3983                        19.94160                3.502560   \n",
      "3984                        31.41400                0.014728   \n",
      "3985                        26.46460                2.288320   \n",
      "3986                         8.24535                0.017839   \n",
      "3987                         8.28343                0.075564   \n",
      "3988                        15.43030                0.000311   \n",
      "3989                        16.34980                0.000044   \n",
      "3990                        26.58730                0.081265   \n",
      "3991                        35.11590                0.122739   \n",
      "3992                        12.49370                0.000221   \n",
      "3993                        13.71700               30.565800   \n",
      "3994                         2.40484                3.084040   \n",
      "3995                         6.05879                0.000690   \n",
      "3996                        17.33500               10.405300   \n",
      "3997                        31.76090                0.212992   \n",
      "3998                        41.59460                0.019306   \n",
      "3999                         2.82722                0.473135   \n",
      "\n",
      "      (dephosphorylation of MAPK-PP).V9  (phosphorylation of MAPK-P).k8  \\\n",
      "0                              0.000262                        0.899837   \n",
      "1                              0.000278                        0.149430   \n",
      "2                              0.001077                        1.137980   \n",
      "3                              0.016850                        0.623405   \n",
      "4                              0.000576                        0.548143   \n",
      "5                              0.000005                        1.243320   \n",
      "6                              0.000233                        4.006230   \n",
      "7                              0.002349                        2.884630   \n",
      "8                              0.000033                        0.154211   \n",
      "9                              0.000024                        2.387550   \n",
      "10                             0.000028                        0.509028   \n",
      "11                             2.184770                        1.466240   \n",
      "12                             0.000013                        2.522080   \n",
      "13                             0.000001                        0.107473   \n",
      "14                             0.000006                        3.491940   \n",
      "15                             0.000002                        3.000400   \n",
      "16                             0.000024                        0.251879   \n",
      "17                             0.000836                        0.210914   \n",
      "18                             0.000001                        4.386630   \n",
      "19                             0.000067                        1.757530   \n",
      "20                             0.000783                        7.811360   \n",
      "21                             0.000021                        6.040100   \n",
      "22                             0.000001                        3.670580   \n",
      "23                             0.000036                        0.125240   \n",
      "24                             0.002023                        4.301470   \n",
      "25                             0.484621                        0.323053   \n",
      "26                             0.000009                        0.057494   \n",
      "27                             0.000004                        2.274780   \n",
      "28                             0.000001                        0.209427   \n",
      "29                             0.000002                        0.158968   \n",
      "...                                 ...                             ...   \n",
      "3970                           0.010691                        0.014483   \n",
      "3971                           0.000001                        6.923430   \n",
      "3972                           0.001198                        0.411857   \n",
      "3973                           0.000011                        0.080181   \n",
      "3974                           0.343550                        0.027843   \n",
      "3975                           0.000008                        0.019737   \n",
      "3976                           0.004235                        0.028474   \n",
      "3977                           0.000005                        0.042674   \n",
      "3978                           0.000114                        0.018849   \n",
      "3979                           0.000299                        0.018668   \n",
      "3980                           0.342319                        0.013848   \n",
      "3981                           0.065519                        0.494554   \n",
      "3982                           0.000004                        0.064993   \n",
      "3983                           0.001904                        0.015926   \n",
      "3984                           0.000052                        0.122810   \n",
      "3985                           0.000104                        0.059857   \n",
      "3986                           0.155590                        0.015191   \n",
      "3987                           0.000013                        0.012863   \n",
      "3988                           0.000270                        0.014198   \n",
      "3989                           0.000127                        0.522355   \n",
      "3990                           0.000002                        0.013745   \n",
      "3991                           0.086352                        0.062206   \n",
      "3992                           0.000010                        0.012598   \n",
      "3993                           0.380170                        0.040454   \n",
      "3994                           0.375907                        0.023297   \n",
      "3995                           0.190684                        0.024886   \n",
      "3996                           0.220124                        0.024892   \n",
      "3997                           0.000733                        4.578110   \n",
      "3998                           0.225752                        0.018186   \n",
      "3999                           0.176261                        0.039046   \n",
      "\n",
      "      (MAPKKK inactivation).KK2  (MAPKKK inactivation).V2  \\\n",
      "0                      861.9000                  4.181950   \n",
      "1                     1759.3800                  7.892360   \n",
      "2                     1084.2300                  4.965650   \n",
      "3                     1147.0600                  5.138130   \n",
      "4                      513.1170                  2.647150   \n",
      "5                      130.4450                  0.822571   \n",
      "6                      598.1650                  2.826570   \n",
      "7                      342.0990                  1.771580   \n",
      "8                      244.8780                  1.495500   \n",
      "9                      583.0910                  2.741480   \n",
      "10                     697.2440                  3.266700   \n",
      "11                     363.1540                  1.796990   \n",
      "12                    1327.2000                  6.121890   \n",
      "13                     164.2810                  0.934919   \n",
      "14                     548.6320                  2.575390   \n",
      "15                    1036.9000                  4.766860   \n",
      "16                     332.2760                  1.735330   \n",
      "17                     643.9470                  3.262070   \n",
      "18                     990.3670                  4.461140   \n",
      "19                     445.6380                  2.272870   \n",
      "20                    1503.3300                  6.672380   \n",
      "21                    1808.9200                  8.370250   \n",
      "22                     323.7780                  1.659040   \n",
      "23                     318.8960                  1.629350   \n",
      "24                     314.1030                  1.652140   \n",
      "25                     704.9660                  3.328260   \n",
      "26                     356.6180                  1.935770   \n",
      "27                    1070.2600                  5.320740   \n",
      "28                     604.7540                  2.956200   \n",
      "29                      85.1503                  0.763452   \n",
      "...                         ...                       ...   \n",
      "3970                   180.2410                  1.097380   \n",
      "3971                    27.8685                  0.332567   \n",
      "3972                    37.0608                  0.366579   \n",
      "3973                    41.5390                  0.434737   \n",
      "3974                  3588.7800                 14.204100   \n",
      "3975                    83.4187                  0.651405   \n",
      "3976                    46.1453                  0.618366   \n",
      "3977                    38.4257                  0.457822   \n",
      "3978                    40.7420                  0.507169   \n",
      "3979                  4390.5400                 20.539900   \n",
      "3980                   496.1090                  2.863810   \n",
      "3981                  1951.3100                  9.249980   \n",
      "3982                    18.2763                  0.282412   \n",
      "3983                   109.8960                  0.735485   \n",
      "3984                    29.1826                  0.615012   \n",
      "3985                    34.7768                  0.371847   \n",
      "3986                  5893.8500                 24.429900   \n",
      "3987                   279.5060                  1.642100   \n",
      "3988                   164.3870                  0.957303   \n",
      "3989                    41.4008                  0.617429   \n",
      "3990                    84.8372                  0.668164   \n",
      "3991                    25.5405                  0.357668   \n",
      "3992                    63.3720                  0.798898   \n",
      "3993                    24.5460                  0.307736   \n",
      "3994                   127.9260                  0.882040   \n",
      "3995                   973.1240                  4.697050   \n",
      "3996                   110.8840                  0.527067   \n",
      "3997                    33.0853                  0.369788   \n",
      "3998                    18.7308                  0.444470   \n",
      "3999                   872.9990                  3.452730   \n",
      "\n",
      "      (phosphorylation of MAPKK-P).k4  (dephosphorylation of MAPKK-PP).KK5  \\\n",
      "0                            0.052038                             0.000197   \n",
      "1                            0.052130                             0.000002   \n",
      "2                            0.095480                             0.006171   \n",
      "3                            0.054885                             0.000259   \n",
      "4                            0.102928                             0.000007   \n",
      "5                            0.093901                             0.000439   \n",
      "6                            0.076617                             0.000015   \n",
      "7                            0.075861                             0.021539   \n",
      "8                            0.054433                             0.006931   \n",
      "9                            0.054523                             0.004240   \n",
      "10                           0.053516                             0.099890   \n",
      "11                           0.147141                             0.000033   \n",
      "12                           0.063297                             0.013791   \n",
      "13                           0.084358                             0.015301   \n",
      "14                           0.071683                             0.000017   \n",
      "15                           0.057698                             0.027536   \n",
      "16                           0.092953                             0.000438   \n",
      "17                           0.067045                             0.000171   \n",
      "18                           0.093170                             0.000007   \n",
      "19                           0.117250                             0.000007   \n",
      "20                           0.044188                             0.002197   \n",
      "21                           0.052576                             0.005949   \n",
      "22                           0.137952                             0.068147   \n",
      "23                           0.098337                             0.000092   \n",
      "24                           0.115808                             0.001000   \n",
      "25                           0.060598                             0.000042   \n",
      "26                           0.090271                             0.005910   \n",
      "27                           0.073079                             0.013713   \n",
      "28                           0.203180                             0.000021   \n",
      "29                           0.056903                             0.311926   \n",
      "...                               ...                                  ...   \n",
      "3970                         0.222518                             0.002578   \n",
      "3971                         0.082108                            11.318700   \n",
      "3972                         0.229810                            28.622600   \n",
      "3973                         0.082259                            62.080700   \n",
      "3974                         0.051684                             0.006333   \n",
      "3975                         0.137817                            44.381300   \n",
      "3976                         0.057826                            38.584200   \n",
      "3977                         0.128538                            68.690200   \n",
      "3978                         0.120730                            14.384100   \n",
      "3979                         0.342275                             0.000004   \n",
      "3980                         0.034328                             0.000087   \n",
      "3981                         0.130463                            32.996600   \n",
      "3982                         0.041760                            18.950800   \n",
      "3983                         0.115948                             0.001552   \n",
      "3984                         0.058754                            77.557600   \n",
      "3985                         0.099219                            65.483900   \n",
      "3986                         0.112310                             0.000219   \n",
      "3987                         0.146714                             0.003200   \n",
      "3988                         0.103614                             0.053214   \n",
      "3989                         0.331044                            50.116800   \n",
      "3990                         0.134000                            30.251700   \n",
      "3991                         0.123544                            92.589000   \n",
      "3992                         0.304575                            40.014200   \n",
      "3993                         0.322482                            34.381700   \n",
      "3994                         0.142249                             0.000008   \n",
      "3995                         0.071618                            36.000700   \n",
      "3996                         0.109077                             0.000046   \n",
      "3997                         0.131272                            69.291600   \n",
      "3998                         0.080678                            64.047600   \n",
      "3999                         0.052452                             0.001363   \n",
      "\n",
      "      (dephosphorylation of MAPK-PP).KK9  (dephosphorylation of MAPKK-P).KK6  \\\n",
      "0                               0.000002                            605057.0   \n",
      "1                              66.227700                             92134.0   \n",
      "2                         1000000.000000                            832077.0   \n",
      "3                               0.000004                            123609.0   \n",
      "4                               0.001294                            178184.0   \n",
      "5                              13.319700                            760767.0   \n",
      "6                               1.234280                            493240.0   \n",
      "7                             570.233000                            238348.0   \n",
      "8                               0.000020                             83549.9   \n",
      "9                              87.590700                            320984.0   \n",
      "10                              0.000192                            188401.0   \n",
      "11                         230449.000000                            173765.0   \n",
      "12                              0.274970                            103758.0   \n",
      "13                              0.320905                             90769.1   \n",
      "14                           1763.570000                            401526.0   \n",
      "15                              4.643570                            740646.0   \n",
      "16                              0.000002                             97603.2   \n",
      "17                         625400.000000                             94592.2   \n",
      "18                          84770.100000                            238047.0   \n",
      "19                              0.008461                            301129.0   \n",
      "20                              0.000362                            769764.0   \n",
      "21                            264.629000                            382559.0   \n",
      "22                          19005.100000                            168943.0   \n",
      "23                            182.972000                            218264.0   \n",
      "24                          88480.800000                            495198.0   \n",
      "25                         365232.000000                            605227.0   \n",
      "26                         202248.000000                            373134.0   \n",
      "27                              0.058385                            548385.0   \n",
      "28                              3.836550                            158192.0   \n",
      "29                             74.523500                            456860.0   \n",
      "...                                  ...                                 ...   \n",
      "3970                            0.000002                            368857.0   \n",
      "3971                            0.000247                            271146.0   \n",
      "3972                         1086.710000                            391078.0   \n",
      "3973                        23754.800000                            785979.0   \n",
      "3974                           14.375000                            342722.0   \n",
      "3975                            0.002864                           1000000.0   \n",
      "3976                            0.000001                           1000000.0   \n",
      "3977                            0.000003                            303182.0   \n",
      "3978                        83379.700000                            196943.0   \n",
      "3979                          204.893000                            220709.0   \n",
      "3980                         1250.020000                             92292.4   \n",
      "3981                            0.000071                            186766.0   \n",
      "3982                       127259.000000                            915994.0   \n",
      "3983                          948.710000                            138361.0   \n",
      "3984                        30352.400000                            257275.0   \n",
      "3985                            0.000071                            375070.0   \n",
      "3986                            0.000001                            860462.0   \n",
      "3987                       351886.000000                            610100.0   \n",
      "3988                        18245.000000                            836881.0   \n",
      "3989                       139062.000000                            206341.0   \n",
      "3990                        41816.100000                            587887.0   \n",
      "3991                       119303.000000                            703067.0   \n",
      "3992                            0.000023                            180548.0   \n",
      "3993                        47682.700000                            743542.0   \n",
      "3994                            0.153710                            773334.0   \n",
      "3995                            0.000019                            388084.0   \n",
      "3996                            0.000003                            485578.0   \n",
      "3997                            0.019126                            925583.0   \n",
      "3998                        10898.300000                            582311.0   \n",
      "3999                            0.000002                            346833.0   \n",
      "\n",
      "      (phosphorylation of MAPKK-P).KK4  (MAPKKK activation).V1  \\\n",
      "0                              66.5179                 7.39701   \n",
      "1                              66.9832                32.76750   \n",
      "2                             159.8630                22.95410   \n",
      "3                              74.1093                20.83720   \n",
      "4                             174.5840                 4.30112   \n",
      "5                             155.7670                 4.54789   \n",
      "6                             118.6800                15.53970   \n",
      "7                             119.7590                 6.50349   \n",
      "8                              73.5585                 3.09457   \n",
      "9                              69.8749                20.89220   \n",
      "10                             70.4802                15.77630   \n",
      "11                            276.5700                20.91140   \n",
      "12                             95.5648                13.21060   \n",
      "13                            136.3080                10.23120   \n",
      "14                            109.0380                80.33080   \n",
      "15                             77.8416                15.79420   \n",
      "16                            153.9650                 8.22656   \n",
      "17                            105.2540                 4.71325   \n",
      "18                            163.8970                55.58480   \n",
      "19                            203.7090                 6.87269   \n",
      "20                             50.9875                63.64120   \n",
      "21                             70.0266                 9.45786   \n",
      "22                            248.5290                12.46650   \n",
      "23                            161.8900                12.87450   \n",
      "24                            204.1800                 6.38554   \n",
      "25                             87.0037                36.64500   \n",
      "26                            147.7220                 5.59687   \n",
      "27                            108.4660                 5.35208   \n",
      "28                            393.2480                 6.37583   \n",
      "29                             78.1723                 2.13345   \n",
      "...                                ...                     ...   \n",
      "3970                          450.8370                 6.60236   \n",
      "3971                          148.1190                 8.48387   \n",
      "3972                          487.7730                12.99290   \n",
      "3973                          165.2230               129.86300   \n",
      "3974                           60.1695                18.92020   \n",
      "3975                          338.0860                35.13390   \n",
      "3976                          111.3700                 2.14276   \n",
      "3977                          326.8040                 6.94859   \n",
      "3978                          237.5750                 2.65954   \n",
      "3979                          680.9610                 5.24903   \n",
      "3980                           25.8733                 8.17574   \n",
      "3981                          280.5880                11.99000   \n",
      "3982                           56.2731                80.86720   \n",
      "3983                          202.3430                 8.08397   \n",
      "3984                          131.9690                 1.79179   \n",
      "3985                          258.0880               144.48400   \n",
      "3986                          198.4840                13.54480   \n",
      "3987                          244.2420                11.76710   \n",
      "3988                          175.9040               145.46200   \n",
      "3989                          859.0290                 1.60760   \n",
      "3990                          278.0420                23.48230   \n",
      "3991                          293.4390                45.30840   \n",
      "3992                          749.0910                 2.34426   \n",
      "3993                          792.3050               169.75900   \n",
      "3994                          243.5740                 1.48863   \n",
      "3995                          142.2160                 2.53005   \n",
      "3996                          192.9490                 3.94705   \n",
      "3997                          320.5990                14.93600   \n",
      "3998                          156.8670                 2.03310   \n",
      "3999                           65.3656                 6.20469   \n",
      "\n",
      "      (MAPKKK activation).Ki  (phosphorylation of MAPK).KK7  \\\n",
      "0                   1.888390                       0.000137   \n",
      "1                   0.379970                       0.992381   \n",
      "2                   0.536175                       0.000576   \n",
      "3                   0.560131                       0.000187   \n",
      "4                   3.668410                       0.197859   \n",
      "5                   3.800960                       0.013567   \n",
      "6                   0.808809                       0.001360   \n",
      "7                   2.106050                       0.090231   \n",
      "8                   6.908840                       0.001686   \n",
      "9                   0.589728                       0.046937   \n",
      "10                  0.817726                       0.250294   \n",
      "11                  0.584081                       0.043814   \n",
      "12                  1.006490                       0.000162   \n",
      "13                  1.402020                       0.000538   \n",
      "14                  0.147022                       0.004562   \n",
      "15                  0.814516                       0.055021   \n",
      "16                  1.645340                       0.004189   \n",
      "17                  3.389320                       0.109754   \n",
      "18                  0.218808                       0.014302   \n",
      "19                  2.072090                       0.004926   \n",
      "20                  0.190328                       0.412551   \n",
      "21                  1.452330                       0.001207   \n",
      "22                  1.009330                       0.296486   \n",
      "23                  0.969083                       0.014586   \n",
      "24                  2.182800                       0.012409   \n",
      "25                  0.335900                       0.800166   \n",
      "26                  2.719790                       4.457010   \n",
      "27                  2.836150                       0.000243   \n",
      "28                  2.207110                       0.435565   \n",
      "29                 15.089500                       0.001599   \n",
      "...                      ...                            ...   \n",
      "3970                2.776110                       7.638650   \n",
      "3971                3.471440                       0.006020   \n",
      "3972                0.997446                       0.011985   \n",
      "3973                0.100000                       0.012810   \n",
      "3974                0.485024                       0.210454   \n",
      "3975                0.484816                       0.053902   \n",
      "3976               16.712500                       0.005432   \n",
      "3977                2.447260                       0.126271   \n",
      "3978               12.605300                       0.000204   \n",
      "3979                3.190450                       0.957317   \n",
      "3980                2.336300                      26.604000   \n",
      "3981                1.051710                       0.066083   \n",
      "3982                0.412038                       0.094117   \n",
      "3983                2.329970                       0.000490   \n",
      "3984               29.101900                       0.004096   \n",
      "3985                0.103412                       0.002202   \n",
      "3986                0.585916                       2.397670   \n",
      "3987                1.441220                      14.727700   \n",
      "3988                0.100000                       3.308890   \n",
      "3989               27.398400                       0.000221   \n",
      "3990                0.793675                       5.986500   \n",
      "3991                0.301362                       0.000636   \n",
      "3992               17.757500                      25.412800   \n",
      "3993                0.152667                       0.026960   \n",
      "3994               13.476500                       0.019644   \n",
      "3995                5.444960                       0.001017   \n",
      "3996                1.390070                       0.000712   \n",
      "3997                0.953132                       0.101878   \n",
      "3998               19.249500                      14.440200   \n",
      "3999                0.486296                       0.003225   \n",
      "\n",
      "      (dephosphorylation of MAPK-P).KK10  (phosphorylation of MAPK-P).KK8  \\\n",
      "0                            6864.030000                       3409.55000   \n",
      "1                          498133.000000                        507.24500   \n",
      "2                            1141.240000                       4236.50000   \n",
      "3                           27897.100000                       2248.72000   \n",
      "4                          994379.000000                       2064.93000   \n",
      "5                           29723.200000                       4586.28000   \n",
      "6                           38693.100000                      15465.30000   \n",
      "7                           37029.600000                      10974.60000   \n",
      "8                            8833.080000                        535.90400   \n",
      "9                           11564.300000                       8903.84000   \n",
      "10                          50541.500000                       1865.81000   \n",
      "11                          10767.100000                       5423.73000   \n",
      "12                            330.722000                       9785.04000   \n",
      "13                           6026.250000                        348.49000   \n",
      "14                          50324.300000                      13161.20000   \n",
      "15                            917.575000                      11370.40000   \n",
      "16                         335159.000000                        921.61700   \n",
      "17                          13789.000000                        748.91900   \n",
      "18                         365961.000000                      16709.20000   \n",
      "19                          35148.900000                       6701.35000   \n",
      "20                           2503.760000                      28583.80000   \n",
      "21                            115.607000                      23599.70000   \n",
      "22                            714.647000                      14087.20000   \n",
      "23                           1316.140000                        426.65700   \n",
      "24                         690270.000000                      16364.40000   \n",
      "25                          93191.300000                       1176.90000   \n",
      "26                         508123.000000                        169.66900   \n",
      "27                            363.931000                       8835.21000   \n",
      "28                          12516.400000                        758.01400   \n",
      "29                           3793.260000                        546.81300   \n",
      "...                                  ...                              ...   \n",
      "3970                         2076.090000                          4.70431   \n",
      "3971                       138935.000000                      26481.70000   \n",
      "3972                          305.065000                       1589.58000   \n",
      "3973                            0.008862                        272.25500   \n",
      "3974                           61.059200                         32.25370   \n",
      "3975                          148.846000                         28.09960   \n",
      "3976                          332.740000                         56.09660   \n",
      "3977                           41.802500                        121.69200   \n",
      "3978                           28.024600                         22.54170   \n",
      "3979                         7287.040000                         14.25100   \n",
      "3980                       139681.000000                          5.49606   \n",
      "3981                           63.899000                       1948.73000   \n",
      "3982                            0.000084                        212.35000   \n",
      "3983                        61608.500000                          8.95405   \n",
      "3984                            0.071442                        420.40300   \n",
      "3985                           35.434500                        171.43600   \n",
      "3986                       230825.000000                          1.80783   \n",
      "3987                       507491.000000                          1.15269   \n",
      "3988                        43745.200000                          3.52186   \n",
      "3989                        68676.500000                       1778.98000   \n",
      "3990                            8.029540                          5.58090   \n",
      "3991                            0.045383                        188.43200   \n",
      "3992                          777.458000                          3.60576   \n",
      "3993                       322664.000000                        112.83600   \n",
      "3994                           16.378800                         18.74650   \n",
      "3995                          141.388000                         37.72560   \n",
      "3996                         9844.480000                         23.46340   \n",
      "3997                        22345.800000                      15503.60000   \n",
      "3998                       196522.000000                         15.18130   \n",
      "3999                       749180.000000                         78.05770   \n",
      "\n",
      "      (dephosphorylation of MAPK-P).V10  (dephosphorylation of MAPKK-P).V6  \\\n",
      "0                              0.401565                            7132.05   \n",
      "1                              0.484580                            1152.82   \n",
      "2                              0.450130                            9755.65   \n",
      "3                              0.549123                            1516.85   \n",
      "4                              0.184559                            2038.80   \n",
      "5                              0.100000                            9052.45   \n",
      "6                              1.101070                            6114.99   \n",
      "7                              0.131083                            2828.38   \n",
      "8                             13.496400                            1000.00   \n",
      "9                              3.621620                            3759.85   \n",
      "10                             3.399400                            2404.12   \n",
      "11                             0.642510                            2041.93   \n",
      "12                             0.315158                            1263.50   \n",
      "13                             0.262376                            1074.38   \n",
      "14                             0.230743                            4722.78   \n",
      "15                             0.261597                            8599.69   \n",
      "16                             0.100000                            1205.96   \n",
      "17                             0.220860                            1129.73   \n",
      "18                             0.522256                            2823.89   \n",
      "19                            11.212900                            3597.54   \n",
      "20                             0.179910                            9486.88   \n",
      "21                             0.165468                            4645.02   \n",
      "22                             0.198707                            1941.40   \n",
      "23                             0.156426                            2694.36   \n",
      "24                             0.912752                            6081.40   \n",
      "25                             0.105079                            7804.47   \n",
      "26                             0.943120                            4487.29   \n",
      "27                             0.481115                            6952.24   \n",
      "28                             0.195767                            1826.48   \n",
      "29                             0.353405                            5472.14   \n",
      "...                                 ...                                ...   \n",
      "3970                           0.100000                            4787.57   \n",
      "3971                         789.706000                            3331.56   \n",
      "3972                           1.910510                            4338.72   \n",
      "3973                           0.197893                            6045.00   \n",
      "3974                           0.289425                            4146.10   \n",
      "3975                           1.459200                           10000.00   \n",
      "3976                           1.843140                            8386.43   \n",
      "3977                           0.579888                            2345.10   \n",
      "3978                           0.335934                            2605.01   \n",
      "3979                           0.701292                            2468.23   \n",
      "3980                           1.611550                            1120.80   \n",
      "3981                           0.795204                            2299.66   \n",
      "3982                           0.298905                            9207.65   \n",
      "3983                         294.118000                            1463.68   \n",
      "3984                           0.134617                            2278.65   \n",
      "3985                           0.355353                            3270.58   \n",
      "3986                         949.574000                            9883.64   \n",
      "3987                          14.952700                            7531.53   \n",
      "3988                           0.234043                           10000.00   \n",
      "3989                         112.292000                            2300.13   \n",
      "3990                           0.193223                            5760.45   \n",
      "3991                           0.196223                            5777.42   \n",
      "3992                           0.744593                            2065.18   \n",
      "3993                        2563.740000                            8591.96   \n",
      "3994                           0.337506                           10000.00   \n",
      "3995                           1.410730                            4620.58   \n",
      "3996                           0.407210                            5623.43   \n",
      "3997                          98.055300                            7946.43   \n",
      "3998                           0.194495                            4910.51   \n",
      "3999                        2333.390000                            3821.73   \n",
      "\n",
      "           RSS  \n",
      "0      131.855  \n",
      "1      140.398  \n",
      "2      141.806  \n",
      "3      142.563  \n",
      "4      146.746  \n",
      "5      147.941  \n",
      "6      148.441  \n",
      "7      148.674  \n",
      "8      149.004  \n",
      "9      149.280  \n",
      "10     149.673  \n",
      "11     150.306  \n",
      "12     151.324  \n",
      "13     151.465  \n",
      "14     151.765  \n",
      "15     152.449  \n",
      "16     152.781  \n",
      "17     153.400  \n",
      "18     153.693  \n",
      "19     154.673  \n",
      "20     154.950  \n",
      "21     155.137  \n",
      "22     155.452  \n",
      "23     155.756  \n",
      "24     156.227  \n",
      "25     156.460  \n",
      "26     156.519  \n",
      "27     156.580  \n",
      "28     156.770  \n",
      "29     157.241  \n",
      "...        ...  \n",
      "3970   757.853  \n",
      "3971   758.670  \n",
      "3972   771.457  \n",
      "3973   771.916  \n",
      "3974   777.016  \n",
      "3975   778.084  \n",
      "3976   788.616  \n",
      "3977   789.056  \n",
      "3978   790.366  \n",
      "3979   805.350  \n",
      "3980   807.666  \n",
      "3981   815.079  \n",
      "3982   824.382  \n",
      "3983   839.838  \n",
      "3984   849.953  \n",
      "3985   851.236  \n",
      "3986   853.565  \n",
      "3987   888.452  \n",
      "3988   903.067  \n",
      "3989   940.866  \n",
      "3990   943.611  \n",
      "3991   947.875  \n",
      "3992   951.398  \n",
      "3993   972.698  \n",
      "3994  1004.960  \n",
      "3995  1057.630  \n",
      "3996  1182.600  \n",
      "3997  1202.470  \n",
      "3998  1325.460  \n",
      "3999  1519.000  \n",
      "\n",
      "[4000 rows x 19 columns]\n"
     ]
    }
   ],
   "source": [
    "import FilePaths\n",
    "import PyCoTools\n",
    "K=FilePaths.KholodenkoExample()\n",
    "\n",
    "PEdata=PyCoTools.PEAnalysis.ParsePEData(K.PE_data_global1)\n",
    "print PEdata.data ## Data is within the data attribute"
   ]
  },
  {
   "cell_type": "markdown",
   "metadata": {
    "collapsed": true
   },
   "source": [
    "## Visualize Optimization Performance"
   ]
  },
  {
   "cell_type": "code",
   "execution_count": 8,
   "metadata": {
    "collapsed": false
   },
   "outputs": [
    {
     "name": "stderr",
     "output_type": "stream",
     "text": [
      "D:\\MPhil\\Python\\My_Python_Modules\\Modelling_Tools\\PyCoTools\\PyCoTools\\PEAnalysis.py:1136: RuntimeWarning: divide by zero encountered in log10\n",
      "  iterations=numpy.log10(range(len(rss)))\n"
     ]
    },
    {
     "data": {
      "text/plain": [
       "<PyCoTools.PEAnalysis.EvaluateOptimizationPerformance instance at 0x000000000ADE5848>"
      ]
     },
     "execution_count": 8,
     "metadata": {},
     "output_type": "execute_result"
    },
    {
     "data": {
      "image/png": "[encoded data removed]",
      "text/plain": [
       "<matplotlib.figure.Figure at 0xd008358>"
      ]
     },
     "metadata": {},
     "output_type": "display_data"
    }
   ],
   "source": [
    "PyCoTools.PEAnalysis.EvaluateOptimizationPerformance(K.PE_data_global1,Log10='true')"
   ]
  },
  {
   "cell_type": "markdown",
   "metadata": {
    "collapsed": true
   },
   "source": [
    "This is a plot of the ordered likelihood (or RSS value) against iteration. The smooth curve indicates that the parameter estimation settings chosen for this problem are not a good choice. The absence of a monotonically increasing'step-like' shape suggests many optimizations are falling short of the minima that they are trying to find (Raue 2013). "
   ]
  },
  {
   "cell_type": "markdown",
   "metadata": {},
   "source": [
    "## Simulations Versus Experiment Plots"
   ]
  },
  {
   "cell_type": "markdown",
   "metadata": {},
   "source": [
    "By chaining together the `InsertParameter` class with the `ParameterEstimation` class using the `CurrentSolutionStatistics` method, setting `Plot='true'` and `RandomizeStartValues='false'`, we can visualize a plot of simulated versus experimental data.  Note we could also use `Index=1` to get a visual on the second best parameter set (and so on) "
   ]
  },
  {
   "cell_type": "code",
   "execution_count": null,
   "metadata": {
    "collapsed": true
   },
   "outputs": [],
   "source": [
    "PEData=PyCoTools.PEAnalysis.ParsePEData(K.PE_data_global1)\n",
    "\n",
    "print 'best estimated parameters:\\n',PEData.data.iloc[0].sort_index()\n",
    "PyCoTools.pycopi.InsertParameters(K.kholodenko_model,ParameterPath=K.PEData_pickle,Index=0)\n",
    "PE=PyCoTools.pycopi.ParameterEstimation(K.kholodenko_model,K.noisy_timecourse_report,\n",
    "                                        Method='CurrentSolutionStatistics',\n",
    "                                        Plot='true',\n",
    "                                        SaveFig='false',\n",
    "                                        RandomizeStartValues='false') #important to turn this off\n",
    "PE.set_up() ## setup\n",
    "PE.run()    ## and run the current solution statistics parameter estimation"
   ]
  },
  {
   "cell_type": "markdown",
   "metadata": {},
   "source": [
    "These graphs give further indication that our estimations can do better. "
   ]
  },
  {
   "cell_type": "markdown",
   "metadata": {},
   "source": [
    "## Boxplots"
   ]
  },
  {
   "cell_type": "code",
   "execution_count": null,
   "metadata": {
    "collapsed": false,
    "scrolled": true
   },
   "outputs": [],
   "source": [
    "PyCoTools.PEAnalysis.PlotBoxplot(K.PE_data_global1,SaveFig='false',NumPerPlot=6)"
   ]
  },
  {
   "cell_type": "markdown",
   "metadata": {},
   "source": [
    "Boxplots are very good at highlighting the fact that some parameters are more 'identifiable' than others. We'll get to this issue later. \n",
    "\n",
    "Since a large portion of the parameter estimations are 'bad' runs its often useful to get a visual of the data with these runs omited. "
   ]
  },
  {
   "cell_type": "code",
   "execution_count": null,
   "metadata": {
    "collapsed": false,
    "scrolled": true
   },
   "outputs": [],
   "source": [
    "PyCoTools.PEAnalysis.PlotBoxplot(K.PE_data_global1,SaveFig='false',NumPerPlot=15,TruncateMode='below_x',X=2.3)"
   ]
  },
  {
   "cell_type": "markdown",
   "metadata": {},
   "source": [
    "The box plots now look tidier and the `RSS` much tighter."
   ]
  },
  {
   "cell_type": "markdown",
   "metadata": {},
   "source": [
    "## Histograms"
   ]
  },
  {
   "cell_type": "code",
   "execution_count": null,
   "metadata": {
    "collapsed": false,
    "scrolled": true
   },
   "outputs": [],
   "source": [
    "PyCoTools.PEAnalysis.PlotHistogram(K.PE_data_global1,\n",
    "                                   Log10='true', ##plot on log10 scale\n",
    "                                   SaveFig='false',Bins=200)"
   ]
  },
  {
   "cell_type": "markdown",
   "metadata": {},
   "source": [
    "Graphs can also be truncated by top `X` percent:"
   ]
  },
  {
   "cell_type": "code",
   "execution_count": null,
   "metadata": {
    "collapsed": false,
    "scrolled": true
   },
   "outputs": [],
   "source": [
    "PyCoTools.PEAnalysis.PlotHistogram(K.PE_data_global1,\n",
    "                                   Log10='true', \n",
    "                                   SaveFig='false',Bins=30,\n",
    "                                   TruncateMode='percent',X=10) ## Plot top 10% best runs"
   ]
  },
  {
   "cell_type": "markdown",
   "metadata": {},
   "source": [
    "## Scatter Graphs"
   ]
  },
  {
   "cell_type": "markdown",
   "metadata": {},
   "source": [
    "Scatter graphs are useful for identifying relationships between variables. Usually the most interesting are linear relationships which can (but not *always*) indicate structural non-identifiability and plots of the objective function versus estimated parameters. These tend to least to 'identifiability signatures' which can indicate the identifiability status of a parameter ahead of an identifiability analysis. \n",
    "\n",
    "The `PlotScatters` class automatically plots all ${{N}\\choose{2}}$ pairs of estimated parameters and can therefore take some time with larger models. Since it consumes a lot of memory to plot and show all of these graphs, usually its preferable to write them to file instead. "
   ]
  },
  {
   "cell_type": "code",
   "execution_count": null,
   "metadata": {
    "collapsed": true
   },
   "outputs": [],
   "source": [
    "PyCoTools.PEAnalysis.PlotScatters(K.PE_data_global1,SaveFig='false',\n",
    "                                  Log10='true') "
   ]
  },
  {
   "cell_type": "markdown",
   "metadata": {},
   "source": [
    "## Hex Maps"
   ]
  },
  {
   "cell_type": "markdown",
   "metadata": {},
   "source": [
    "Hex maps are an alternative to both scatter graphs and histograms depending on the `Mode` argument. When `Mode` is `count` (the default), colours represent counts like in a histogram style. Notice that because of the dispersion in the data, the `Log10='true'` usually is required to get a good look at the data with scatters and hex maps. Like scatter graphs, all  ${{N}\\choose{2}}$ pairs are plotted automatically and therefore its preferable to write them to file instead of viewing in `ipython`. The `GridSize` and `Bins` keywords may need fine tuning by iteration to get decent looking plots. More information can be found [here](http://matplotlib.org/api/pyplot_api.html#matplotlib.pyplot.hexbin)"
   ]
  },
  {
   "cell_type": "code",
   "execution_count": 10,
   "metadata": {
    "collapsed": false,
    "scrolled": false
   },
   "outputs": [
    {
     "data": {
      "text/plain": [
       "<PyCoTools.PEAnalysis.PlotHexMap instance at 0x000000002FC2C7C8>"
      ]
     },
     "execution_count": 10,
     "metadata": {},
     "output_type": "execute_result"
    }
   ],
   "source": [
    "PyCoTools.PEAnalysis.PlotHexMap(K.PE_data_global1,SaveFig='true',\n",
    "                                  Log10='false',Show='false',Log10='true')"
   ]
  },
  {
   "cell_type": "markdown",
   "metadata": {},
   "source": [
    "When `Mode='RSS` hex maps are more like scatter graphs coloured by RSS value. "
   ]
  },
  {
   "cell_type": "code",
   "execution_count": 12,
   "metadata": {
    "collapsed": false
   },
   "outputs": [
    {
     "data": {
      "text/plain": [
       "<PyCoTools.PEAnalysis.PlotHexMap instance at 0x0000000013025548>"
      ]
     },
     "execution_count": 12,
     "metadata": {},
     "output_type": "execute_result"
    }
   ],
   "source": [
    "PyCoTools.PEAnalysis.PlotHexMap(K.PE_data_global1,SaveFig='true',\n",
    "                                  Log10='true',Show='false',Mode='RSS')"
   ]
  },
  {
   "cell_type": "markdown",
   "metadata": {},
   "source": [
    "## Secondary 'Chaser' Parameter Estimations"
   ]
  },
  {
   "cell_type": "markdown",
   "metadata": {},
   "source": [
    "As mentioned previously, secondary 'chaser' parameter estimations are good for pushing a global algorithm's results a little further and can sometimes be extremely informative. This process could be done manually for a select few parameter sets but realistically this isn't an option without programming tools. The general idea is the same as what would be done manually: insert parameters into a model then setup and run a parameter estimation using a local method. Here is a function which does just that. "
   ]
  },
  {
   "cell_type": "code",
   "execution_count": null,
   "metadata": {
    "collapsed": false
   },
   "outputs": [],
   "source": [
    "import os\n",
    "import PyCoTools\n",
    "import FilePaths\n",
    "\n",
    "def runHJ(copasi_file,parameters,report_name,mode):\n",
    "    '''\n",
    "    copasi_file:\n",
    "        file to run hook and jeeves on \n",
    "    parameters:\n",
    "        dictionary of parameters. Keys must match model names, values are input parameters\n",
    "    report_name:\n",
    "        name of the report to output PE data.\n",
    "    mode:\n",
    "        either 'SGE' for SGE cluster or 'true' to run on current machine\n",
    "    '''\n",
    "    if 'RSS' in parameters.keys():\n",
    "        del parameters['RSS']\n",
    "    for i in parameters:\n",
    "        print i,':\\t',parameters[i]\n",
    "    PyCoTools.pycopi.InsertParameters(copasi_file,ParameterDict=parameters)\n",
    "    \n",
    "    PE=PyCoTools.pycopi.ParameterEstimation(copasi_file,K.noisy_timecourse_report,\n",
    "                                         Method='HookeJeeves',\n",
    "                                         IterationLimit=20000,\n",
    "                                         Tolerance=1e-30,\n",
    "                                         RandomizeStartValues='false',\n",
    "                                         Plot='true',\n",
    "                                         SaveFig='true',\n",
    "                                         UseTemplateStartValues='false',\n",
    "                                         )\n",
    "\n",
    "        \n",
    "    PE.set_up()\n",
    "    ## Run via scan task because this gives only best values in function\n",
    "    ## evaluations, rather than the periodic function evaluations as well\n",
    "    print '\\n\\n'\n",
    "    print report_name\n",
    "    print '\\n'\n",
    "    PyCoTools.pycopi.Scan(copasi_file,ScanType='repeat',Run=mode,\n",
    "                          NumberOfSteps=1,\n",
    "                          ReportName=report,\n",
    "                          ReportType='parameter_estimation')\n",
    "##Use the function\n",
    "if __name__=='__main__':\n",
    "    K=FilePaths.KholodenkoExample()\n",
    "    data=PyCoTools.PEAnalysis.ParsePEData(K.PEData_pickle).data\n",
    "    for i in range(int(data.shape[0]*0.025)):\n",
    "        print 'running index {} with starting RSS of {}'.format(i,data.iloc[i]['RSS'])\n",
    "        if os.path.isdir(K.local_PEData_dir)!=True:\n",
    "            os.mkdir(K.local_PEData_dir)\n",
    "        report=os.path.join(K.local_PEData_dir,'{}.txt'.format(i))\n",
    "        print runHJ(K.kholodenko_model,data.iloc[i].to_dict(),report,'true')"
   ]
  },
  {
   "cell_type": "markdown",
   "metadata": {
    "collapsed": true
   },
   "source": [
    "# `Pydentify2`: Profile Likelihoods"
   ]
  },
  {
   "cell_type": "markdown",
   "metadata": {
    "collapsed": true
   },
   "source": [
    "Profile likelihoods are an extremely useful method of assessing a models identifiability status (Raue et al., 2009). This method (along with a number of other useful modelling tools) is impemented in a package called Data2Dynamics by the group that first used profile likelihoods in systems biology (Raue et al., 2015). COPASI users can also calculate profile likelihoods (Schaber, 2012) though the method is quite tedious. The `Pydentify2` module automates Schabers method while extending it to include calculation of profile likelihoods around multiple and an arbitrary number of parameter sets. Profile likelihoods are also visualized with the `Plot` class. The profile likelihood class can be used in three ways:\n",
    "\n",
    "    1. Calculate profile likelihoods around the current point in parameter space. "
   ]
  },
  {
   "cell_type": "code",
   "execution_count": 14,
   "metadata": {
    "collapsed": false
   },
   "outputs": [
    {
     "data": {
      "text/plain": [
       "<PyCoTools.pydentify2.ProfileLikelihood instance at 0x000000001B780348>"
      ]
     },
     "execution_count": 14,
     "metadata": {},
     "output_type": "execute_result"
    }
   ],
   "source": [
    "PyCoTools.pydentify2.ProfileLikelihood(K.kholodenko_model,\n",
    "                                       LowerBoundMultiplier=1000, ## Sample 1000 times above and below the estimated parameter value\n",
    "                                       UpperBoundMultiplier=1000,\n",
    "                                       NumberOfSteps=25, \n",
    "                                       Run='false' #Just set up the profile likelihood right now\n",
    "                                      )"
   ]
  },
  {
   "cell_type": "markdown",
   "metadata": {
    "collapsed": true
   },
   "source": [
    "Internally, PyCoTools assigs an `Index=-1` when no `ParameterPath` argument is specified. The analysis is set up in `<pathToModel>\\ProfileLikelihood\\-1`. When this method is used, you must take note of the `RSS` value for the estimation which produced the current parameters as it is used in the calculation of confidence levels and is not easily accessible programmatically. "
   ]
  },
  {
   "cell_type": "markdown",
   "metadata": {
    "collapsed": true
   },
   "source": [
    "    2. Provide argument  to `ParameterPath` to take parameters from a file or folder of files, indexed by rank of best fit"
   ]
  },
  {
   "cell_type": "code",
   "execution_count": null,
   "metadata": {
    "collapsed": true
   },
   "outputs": [],
   "source": [
    "PyCoTools.pydentify2.ProfileLikelihood(K.kholodenko_model,\n",
    "                                       ParameterPath=K.PE_data_global1,\n",
    "                                       Index=0, ## 0 is best fitting (lowest RSS) parameter set\n",
    "                                       LowerBoundMultiplier=1000, ## Sample 1000 times above and below the estimated parameter value\n",
    "                                       UpperBoundMultiplier=1000,\n",
    "                                       NumberOfSteps=25, \n",
    "                                       Run='false' #Just set up the profile likelihood\n",
    "                                      )"
   ]
  },
  {
   "cell_type": "markdown",
   "metadata": {
    "collapsed": true
   },
   "source": [
    "Now the `RSS` is automatically taken from the parameter estimation data which is why this is the preferred method of use. Now the analysis can be found under the `<PathToModel>\\ProfileLikelihood\\0`. \n",
    "    3. Provide a list of indices to the `Index` keyword to calculate profile likelihoods around multiple parameter sets"
   ]
  },
  {
   "cell_type": "code",
   "execution_count": null,
   "metadata": {
    "collapsed": true
   },
   "outputs": [],
   "source": [
    "range_of_indices=range(0,10,2)\n",
    "print 'indices used: {}'.format(range_of_indices)\n",
    "PyCoTools.pydentify2.ProfileLikelihood(K.kholodenko_model,\n",
    "                                       ParameterPath=K.PE_data_global1,\n",
    "                                       Index=range_of_indices,\n",
    "                                       LowerBoundMultiplier=1000, ## Sample 1000 times above and below the estimated parameter value\n",
    "                                       UpperBoundMultiplier=1000,\n",
    "                                       NumberOfSteps=25, \n",
    "                                       Run='false' #Just set up the profile likelihood\n",
    "                                      )"
   ]
  },
  {
   "cell_type": "markdown",
   "metadata": {
    "collapsed": true
   },
   "source": [
    "Each method (referred to as `methods 1-3`) can be run in exactly the same way: by specifying an argument to the `Run` keyword. There are 4 options:\n",
    "    1. `Run='false'` -  set up but do not run the profile likelihood analysis\n",
    "    2. `Run='slow'`  -  set up and run the profile likleihoods in serial, using a single process. \n",
    "    3. `Run='multiprocess'` - set up and run profilelikelihoods on separate process in parallel. \n",
    "    4. `Run='SGE'` - set up and run on a SunGrid engine based job scheduler. \n",
    "    \n",
    "Using the `multiprocess` mode is not currently very sophisticated method of running in parallel. In fact, this isn't true parallel programming since the models are simply opened and run by multiple processes. This mode takes all models and runs them simultaneously on separate processes. Because of this, it will take all of a computers memory with >4-6 parameters (which are separate models) being run in parallel. For this reason it is only reccommended to use this mode when the computer isn't needed until the analysis is finished. "
   ]
  },
  {
   "cell_type": "markdown",
   "metadata": {
    "collapsed": true
   },
   "source": [
    "## Running on a Cluster"
   ]
  },
  {
   "cell_type": "markdown",
   "metadata": {},
   "source": [
    "Sun grid engine users may use the `SGE` mode. This writes a `.sh` script containing commands to submit and run the model via CopasiSE on the cluster. For this reason, people with a SGE cluster but not at Newcastle University will probably have the modify the following snippet of code in the `PyCoTools.pydentify2.ProfileLikelihood().run_SGE` source code to include the directory to COPASI on their own cluster. \n",
    "\n",
    "    with open('run_script.sh','w') as f:\n",
    "        f.write('#!/bin/bash\\n#$ -V -cwd\\nmodule addapps/COPASI/4.16.104-Linux-64bit\\nCopasiSE \"{}\"'.format(self.cps_dct[i][j]))\n",
    "                    \n",
    "People using a job scheduler other than SGE will have to write their own function to submit the analysis. To do this simply copy the `run_SGE` method of the ProfileLikelihood class, change the contents of the `.sh` file and the `os.system` command to whatever is necessary for your own cluster. When using the `ProfileLikelihood` class arguments are checked for validity. Therefore you need to add a `Mode` to the class by modifying the `__init__` section of `ProfileLikelihood` class, specifically the bit which raises an error if the argument passed to `Run` isn't one of `['false','slow','multiprocess','SGE']`:\n",
    "\n",
    "i.e. change \n",
    "\n",
    "    if self.kwargs.get('Run') not in ['false','slow','multiprocess','SGE']:\n",
    "        raise Errors.InputError('\\'Run\\' keyword must be one of \\'slow\\', \\'false\\',\\'multiprocess\\', or \\'SGE\\'')\n",
    "        \n",
    "to\n",
    "\n",
    "    if self.kwargs.get('Run') not in ['false','slow','multiprocess','SGE','other_job_scheduler']:\n",
    "        raise Errors.InputError('\\'Run\\' keyword must be one of \\'slow\\', \\'false\\',\\'multiprocess\\', or \\'SGE\\' or \\'other_job_scheduler\\' ')"
   ]
  },
  {
   "cell_type": "code",
   "execution_count": null,
   "metadata": {
    "collapsed": true
   },
   "outputs": [],
   "source": []
  },
  {
   "cell_type": "markdown",
   "metadata": {
    "collapsed": true
   },
   "source": [
    "# Refernces"
   ]
  },
  {
   "cell_type": "markdown",
   "metadata": {
    "collapsed": true
   },
   "source": [
    "* Raue, A., Schilling, M., Bachmann, J., Matteson, A., Schelke, M., Kaschek, D., Hug, S., Kreutz, C., Harms, B.D., Theis, F.J., Klingmüller, U. and Timmer, J. (2013) 'Lessons Learned from Quantitative Dynamical Modeling in Systems Biology', PLoS ONE, 8(9), p. e74335.\n",
    "* Raue, A., Kreutz, C., Maiwald, T., Bachmann, J., Schilling, M., Klingmüller, U. and Timmer, J. (2009) 'Structural and practical identifiability analysis of partially observed dynamical models by exploiting the profile likelihood', Bioinformatics, 25(15), pp. 1923-1929.\n",
    "* Schaber, J. (2012) 'Easy parameter identifiability analysis with COPASI', Biosystems, 110(3), pp. 183-185.\n",
    "* Raue, A., Steiert, B., Schelker, M., Kreutz, C., Maiwald, T., Hass, H., Vanlier, J., Tönsing, C., Adlung, L., Engesser, R., Mader, W., Heinemann, T., Hasenauer, J., Schilling, M., Höfer, T., Klipp, E., Theis, F., Klingmüller, U., Schöberl, B. and Timmer, J. (2015) 'Data2Dynamics: a modeling environment tailored to parameter estimation in dynamical systems', Bioinformatics.\n"
   ]
  }
 ],
 "metadata": {
  "kernelspec": {
   "display_name": "Python 2",
   "language": "python",
   "name": "python2"
  },
  "language_info": {
   "codemirror_mode": {
    "name": "ipython",
    "version": 2
   },
   "file_extension": ".py",
   "mimetype": "text/x-python",
   "name": "python",
   "nbconvert_exporter": "python",
   "pygments_lexer": "ipython2",
   "version": "2.7.12"
  }
 },
 "nbformat": 4,
 "nbformat_minor": 2
}
